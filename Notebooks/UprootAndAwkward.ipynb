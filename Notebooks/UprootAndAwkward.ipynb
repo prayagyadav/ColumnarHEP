{
 "cells": [
  {
   "cell_type": "markdown",
   "id": "27d6e61e-0743-48d1-ae13-ad88271241b1",
   "metadata": {},
   "source": [
    "# Uproot"
   ]
  },
  {
   "cell_type": "code",
   "execution_count": 2,
   "id": "44a2ea8c-0050-4b32-aceb-a71d8b42205f",
   "metadata": {},
   "outputs": [],
   "source": [
    "import uproot as ur\n",
    "import numpy as np\n",
    "import awkward as ak\n",
    "import hist \n",
    "import matplotlib.pyplot as plt\n",
    "import IPython\n",
    "import matplotlib.pylab as plb"
   ]
  },
  {
   "cell_type": "code",
   "execution_count": 3,
   "id": "aafc20f1-c886-447c-a81a-8a19cd5b2a05",
   "metadata": {},
   "outputs": [
    {
     "name": "stdout",
     "output_type": "stream",
     "text": [
      "Welcome to JupyROOT 6.28/04\n"
     ]
    }
   ],
   "source": [
    "import ROOT"
   ]
  },
  {
   "cell_type": "markdown",
   "id": "ea89eea0-055d-4d1f-be9b-03d41e8b4355",
   "metadata": {},
   "source": [
    "## General"
   ]
  },
  {
   "cell_type": "markdown",
   "id": "fc27d6bc-398d-4d73-923b-8f25015dc1e6",
   "metadata": {
    "jp-MarkdownHeadingCollapsed": true
   },
   "source": [
    "### Short example using uproot"
   ]
  },
  {
   "cell_type": "code",
   "execution_count": 4,
   "id": "162d9368-b951-4038-ba20-a7c93b689fe6",
   "metadata": {},
   "outputs": [
    {
     "name": "stdout",
     "output_type": "stream",
     "text": [
      "name                 | typename                 | interpretation                \n",
      "---------------------+--------------------------+-------------------------------\n",
      "run                  | int32_t                  | AsDtype('>i4')\n",
      "luminosityBlock      | uint32_t                 | AsDtype('>u4')\n",
      "event                | uint64_t                 | AsDtype('>u8')\n",
      "PV_npvs              | int32_t                  | AsDtype('>i4')\n",
      "PV_x                 | float                    | AsDtype('>f4')\n",
      "PV_y                 | float                    | AsDtype('>f4')\n",
      "PV_z                 | float                    | AsDtype('>f4')\n",
      "nMuon                | uint32_t                 | AsDtype('>u4')\n",
      "Muon_pt              | float[]                  | AsJagged(AsDtype('>f4'))\n",
      "Muon_eta             | float[]                  | AsJagged(AsDtype('>f4'))\n",
      "Muon_phi             | float[]                  | AsJagged(AsDtype('>f4'))\n",
      "Muon_mass            | float[]                  | AsJagged(AsDtype('>f4'))\n",
      "Muon_charge          | int32_t[]                | AsJagged(AsDtype('>i4'))\n",
      "Muon_pfRelIso03_all  | float[]                  | AsJagged(AsDtype('>f4'))\n",
      "Muon_pfRelIso04_all  | float[]                  | AsJagged(AsDtype('>f4'))\n",
      "Muon_dxy             | float[]                  | AsJagged(AsDtype('>f4'))\n",
      "Muon_dxyErr          | float[]                  | AsJagged(AsDtype('>f4'))\n",
      "Muon_dz              | float[]                  | AsJagged(AsDtype('>f4'))\n",
      "Muon_dzErr           | float[]                  | AsJagged(AsDtype('>f4'))\n",
      "nElectron            | uint32_t                 | AsDtype('>u4')\n",
      "Electron_pt          | float[]                  | AsJagged(AsDtype('>f4'))\n",
      "Electron_eta         | float[]                  | AsJagged(AsDtype('>f4'))\n",
      "Electron_phi         | float[]                  | AsJagged(AsDtype('>f4'))\n",
      "Electron_mass        | float[]                  | AsJagged(AsDtype('>f4'))\n",
      "Electron_charge      | int32_t[]                | AsJagged(AsDtype('>i4'))\n",
      "Electron_pfRelIso... | float[]                  | AsJagged(AsDtype('>f4'))\n",
      "Electron_dxy         | float[]                  | AsJagged(AsDtype('>f4'))\n",
      "Electron_dxyErr      | float[]                  | AsJagged(AsDtype('>f4'))\n",
      "Electron_dz          | float[]                  | AsJagged(AsDtype('>f4'))\n",
      "Electron_dzErr       | float[]                  | AsJagged(AsDtype('>f4'))\n",
      "MET_pt               | float                    | AsDtype('>f4')\n",
      "MET_phi              | float                    | AsDtype('>f4')\n"
     ]
    }
   ],
   "source": [
    "upfile = ur.open('data/ZZTo4e.root')\n",
    "uptree = upfile['Events']\n",
    "uptree.show()"
   ]
  },
  {
   "cell_type": "markdown",
   "id": "bddd754e-dcab-4d8d-9c22-dc335dd1049b",
   "metadata": {},
   "source": [
    "- uint32_t is unsigned \n",
    "- i4 is 4bit integer \n",
    "- etc etc "
   ]
  },
  {
   "cell_type": "markdown",
   "id": "93d2e432-2983-4e1c-88bd-5d35ec8c3e14",
   "metadata": {},
   "source": [
    "The general strategy is to get arrays in one function call (usually slow, has to read) and use them interactively afterward."
   ]
  },
  {
   "cell_type": "code",
   "execution_count": 5,
   "id": "007ab4ce-f658-420b-bb0b-0ef516081c51",
   "metadata": {},
   "outputs": [
    {
     "data": {
      "text/plain": [
       "<Array [{nElectron: 3, Electron: [, ... ] type='638197 * {\"nElectron\": uint32, \"...'>"
      ]
     },
     "execution_count": 5,
     "metadata": {},
     "output_type": "execute_result"
    }
   ],
   "source": [
    "elec = uptree.arrays([ 'nElectron', 'Electron_pt', 'Electron_eta', 'Electron_phi', 'Electron_charge' ], cut=\"nElectron >= 2\", how=\"zip\", entry_stop=1000000)\n",
    "elec"
   ]
  },
  {
   "cell_type": "code",
   "execution_count": 6,
   "id": "0d41bbf0-ac7a-42c5-8c9e-8685ebf1abec",
   "metadata": {},
   "outputs": [
    {
     "data": {
      "text/plain": [
       "<Record ... phi: 1.15, charge: 1}]} type='{\"nElectron\": uint32, \"Electron\": var ...'>"
      ]
     },
     "execution_count": 6,
     "metadata": {},
     "output_type": "execute_result"
    }
   ],
   "source": [
    "elec[0]"
   ]
  },
  {
   "cell_type": "code",
   "execution_count": 7,
   "id": "beafe8ba-412d-4f16-a802-0fb13be6fb56",
   "metadata": {},
   "outputs": [
    {
     "data": {
      "text/plain": [
       "<Record ... phi: 2.25, charge: -1}]} type='{\"nElectron\": uint32, \"Electron\": var...'>"
      ]
     },
     "execution_count": 7,
     "metadata": {},
     "output_type": "execute_result"
    }
   ],
   "source": [
    "elec[1]"
   ]
  },
  {
   "cell_type": "code",
   "execution_count": 8,
   "id": "18ed1305-58ab-463f-ac72-857a5a1cf40a",
   "metadata": {},
   "outputs": [
    {
     "data": {
      "text/plain": [
       "<Array [{pt: 11.9, eta: 0.335, ... charge: 1}] type='3 * {\"pt\": float32, \"eta\": ...'>"
      ]
     },
     "execution_count": 8,
     "metadata": {},
     "output_type": "execute_result"
    }
   ],
   "source": [
    "elec[0][\"Electron\"]"
   ]
  },
  {
   "cell_type": "code",
   "execution_count": 9,
   "id": "7323d81b-19a0-4d27-95ee-a7ab0bb53a6f",
   "metadata": {},
   "outputs": [
    {
     "data": {
      "text/plain": [
       "['pt', 'eta', 'phi', 'charge']"
      ]
     },
     "execution_count": 9,
     "metadata": {},
     "output_type": "execute_result"
    }
   ],
   "source": [
    "elec[0][\"Electron\"].fields"
   ]
  },
  {
   "cell_type": "code",
   "execution_count": 10,
   "id": "ad43f87c-cfe5-4bc6-87f9-2dc74bc8e3d7",
   "metadata": {},
   "outputs": [
    {
     "data": {
      "text/plain": [
       "<Array [11.9, 26.7, 40.2] type='3 * float32'>"
      ]
     },
     "execution_count": 10,
     "metadata": {},
     "output_type": "execute_result"
    }
   ],
   "source": [
    " elec[0][\"Electron\"][\"pt\"] "
   ]
  },
  {
   "cell_type": "markdown",
   "id": "7035c3f3-5444-404c-ba28-23b9e6b81a86",
   "metadata": {},
   "source": [
    "Data is stored here in a jagged structure"
   ]
  },
  {
   "cell_type": "code",
   "execution_count": 11,
   "id": "57b6721a-ffa0-4399-bfd7-b6b13cc9650f",
   "metadata": {},
   "outputs": [
    {
     "data": {
      "text/plain": [
       "<Array [[7.92, 15.6], ... 92.3, 80.7, 13.9]] type='8 * var * float32'>"
      ]
     },
     "execution_count": 11,
     "metadata": {},
     "output_type": "execute_result"
    }
   ],
   "source": [
    "#for example\n",
    "elec[2:10][\"Electron\"][\"pt\"]"
   ]
  },
  {
   "cell_type": "markdown",
   "id": "29b52c7d-efca-4888-887c-b608ff098c51",
   "metadata": {},
   "source": [
    "- Here type = '8 \\* var \\* float32'\n",
    "- 8 events\n",
    "- var is variable which conveys that these pt values correspond to different number of electrons\n",
    "- float32 represents the type of data element stored"
   ]
  },
  {
   "cell_type": "code",
   "execution_count": 12,
   "id": "3c070de6-5bc2-42b0-80da-f72965bfdbc5",
   "metadata": {},
   "outputs": [
    {
     "data": {
      "text/plain": [
       "44.61445617675781"
      ]
     },
     "execution_count": 12,
     "metadata": {},
     "output_type": "execute_result"
    }
   ],
   "source": [
    "elec[50][\"Electron\"][\"pt\"][0]"
   ]
  },
  {
   "cell_type": "code",
   "execution_count": 13,
   "id": "ae78c9d2-8ed8-42e9-9dd9-3b3b075253c2",
   "metadata": {},
   "outputs": [
    {
     "data": {
      "image/png": "[encoded data removed]",
      "text/plain": [
       "<Figure size 640x480 with 1 Axes>"
      ]
     },
     "metadata": {},
     "output_type": "display_data"
    }
   ],
   "source": [
    "pts = np.array([])\n",
    "for i in range(500) :\n",
    "    pts = np.append(elec[i][\"Electron\"][\"pt\"][0], pts )\n",
    "plt.plot(pts)\n",
    "plt.show()"
   ]
  },
  {
   "cell_type": "code",
   "execution_count": 14,
   "id": "b277217c-a466-4272-86dc-fffa54fa439e",
   "metadata": {},
   "outputs": [
    {
     "data": {
      "text/plain": [
       "<Array [False, True, True, ... True, True] type='638197 * bool'>"
      ]
     },
     "execution_count": 14,
     "metadata": {},
     "output_type": "execute_result"
    }
   ],
   "source": [
    "#making more cuts\n",
    "cuts = elec[:, 'Electron', 'charge', 0] != elec[:,'Electron','charge',1]\n",
    "cuts"
   ]
  },
  {
   "cell_type": "code",
   "execution_count": 15,
   "id": "f45299ea-bed6-4683-b4a4-7762af01326e",
   "metadata": {},
   "outputs": [],
   "source": [
    "#slicing to obtain the two muons\n",
    "elec1 = elec[\"Electron\", cuts, 0]\n",
    "elec2 = elec[\"Electron\", cuts, 1]"
   ]
  },
  {
   "cell_type": "code",
   "execution_count": 16,
   "id": "1b0cea3b-d945-431a-8648-166ae839e208",
   "metadata": {},
   "outputs": [
    {
     "data": {
      "text/plain": [
       "<Array [{pt: 18.5, eta: 0.847, ... charge: 1}] type='434143 * {\"pt\": float32, \"e...'>"
      ]
     },
     "execution_count": 16,
     "metadata": {},
     "output_type": "execute_result"
    }
   ],
   "source": [
    "elec1"
   ]
  },
  {
   "cell_type": "code",
   "execution_count": 17,
   "id": "83b74c01-cc0f-425b-8a62-046e052612a2",
   "metadata": {},
   "outputs": [
    {
     "data": {
      "text/plain": [
       "<Array [{pt: 14.8, eta: 1.02, ... charge: -1}] type='434143 * {\"pt\": float32, \"e...'>"
      ]
     },
     "execution_count": 17,
     "metadata": {},
     "output_type": "execute_result"
    }
   ],
   "source": [
    "elec2"
   ]
  },
  {
   "cell_type": "code",
   "execution_count": 18,
   "id": "906248b8-8596-417d-b4cf-92ed9949ff9f",
   "metadata": {},
   "outputs": [],
   "source": [
    "#create a histogram\n",
    "h1 = hist.Hist.new.Reg(120, 0, 120, name=\"Mass\").Double()\n",
    "#h1 = hist.Hist.new.Reg(120'''bins''', 0'''start''', 120'''end''', name=\"Mass\").Double()\n"
   ]
  },
  {
   "cell_type": "code",
   "execution_count": 19,
   "id": "8710ded2-38ad-4cc6-a4c9-2de42ed18903",
   "metadata": {},
   "outputs": [
    {
     "data": {
      "text/html": [
       "<html>\n",
       "<div style=\"display:flex; align-items:center;\">\n",
       "<div style=\"width:290px;\">\n",
       "<svg xmlns=\"http://www.w3.org/2000/svg\" viewBox=\"-10 -105 270 120\">\n",
       "<line x1=\"-5\" y1=\"0\" x2=\"255\" y2=\"0\" style=\"fill:none;stroke-width:2;stroke:currentColor\"/>\n",
       "<text text-anchor=\"middle\" x=\"0\" y=\"15\" style=\"fill:currentColor;\">\n",
       "0\n",
       "</text>\n",
       "<text text-anchor=\"middle\" x=\"250\" y=\"15\" style=\"fill:currentColor;\">\n",
       "120\n",
       "</text>\n",
       "<text text-anchor=\"middle\" x=\"125.0\" y=\"15\" style=\"fill:currentColor;\">\n",
       "Mass\n",
       "</text>\n",
       "<polyline points=\"  0,0   0,-0.373 2.08333,-0.373 2.08333,-0.943 4.16667,-0.943 4.16667,-1.16 6.25,-1.16 6.25,-12.7 8.33333,-12.7 8.33333,-82.8 10.4167,-82.8 10.4167,-78.1 12.5,-78.1 12.5,-71.6 14.5833,-71.6 14.5833,-67.4 16.6667,-67.4 16.6667,-65.3 18.75,-65.3 18.75,-64.1 20.8333,-64.1 20.8333,-63.5 22.9167,-63.5 22.9167,-64.1  25,-64.1  25,-66.2 27.0833,-66.2 27.0833,-66.2 29.1667,-66.2 29.1667,-66.7 31.25,-66.7 31.25,-65.7 33.3333,-65.7 33.3333,-64.8 35.4167,-64.8 35.4167,-63.9 37.5,-63.9 37.5,-61.2 39.5833,-61.2 39.5833,-62.8 41.6667,-62.8 41.6667,-61.8 43.75,-61.8 43.75,-59.8 45.8333,-59.8 45.8333,-57.9 47.9167,-57.9 47.9167,-55.9  50,-55.9  50,-58 52.0833,-58 52.0833,-56.5 54.1667,-56.5 54.1667,-54.9 56.25,-54.9 56.25,-55 58.3333,-55 58.3333,-53.5 60.4167,-53.5 60.4167,-52.8 62.5,-52.8 62.5,-51.5 64.5833,-51.5 64.5833,-52.7 66.6667,-52.7 66.6667,-51 68.75,-51 68.75,-49.1 70.8333,-49.1 70.8333,-48.9 72.9167,-48.9 72.9167,-49.6  75,-49.6  75,-48 77.0833,-48 77.0833,-45.3 79.1667,-45.3 79.1667,-44.9 81.25,-44.9 81.25,-42.9 83.3333,-42.9 83.3333,-42.9 85.4167,-42.9 85.4167,-42 87.5,-42 87.5,-40.6 89.5833,-40.6 89.5833,-40.1 91.6667,-40.1 91.6667,-38 93.75,-38 93.75,-38.3 95.8333,-38.3 95.8333,-38 97.9167,-38 97.9167,-36.3 100,-36.3 100,-36.8 102.083,-36.8 102.083,-36.1 104.167,-36.1 104.167,-36.9 106.25,-36.9 106.25,-35.2 108.333,-35.2 108.333,-36 110.417,-36 110.417,-34.9 112.5,-34.9 112.5,-34.2 114.583,-34.2 114.583,-34 116.667,-34 116.667,-35.1 118.75,-35.1 118.75,-35 120.833,-35 120.833,-34.8 122.917,-34.8 122.917,-34.2 125,-34.2 125,-35.3 127.083,-35.3 127.083,-36.2 129.167,-36.2 129.167,-35.2 131.25,-35.2 131.25,-36.7 133.333,-36.7 133.333,-37.2 135.417,-37.2 135.417,-36.6 137.5,-36.6 137.5,-37.1 139.583,-37.1 139.583,-39.5 141.667,-39.5 141.667,-39.9 143.75,-39.9 143.75,-41 145.833,-41 145.833,-41.4 147.917,-41.4 147.917,-42.6 150,-42.6 150,-44.6 152.083,-44.6 152.083,-46 154.167,-46 154.167,-48.1 156.25,-48.1 156.25,-49.8 158.333,-49.8 158.333,-51.7 160.417,-51.7 160.417,-50.9 162.5,-50.9 162.5,-52.8 164.583,-52.8 164.583,-55.8 166.667,-55.8 166.667,-56.6 168.75,-56.6 168.75,-56.2 170.833,-56.2 170.833,-53.4 172.917,-53.4 172.917,-54.7 175,-54.7 175,-53.1 177.083,-53.1 177.083,-53.2 179.167,-53.2 179.167,-56.2 181.25,-56.2 181.25,-62.3 183.333,-62.3 183.333,-73.2 185.417,-73.2 185.417,-86.4 187.5,-86.4 187.5,-99.6 189.583,-99.6 189.583,-100 191.667,-100 191.667,-86.5 193.75,-86.5 193.75,-62.1 195.833,-62.1 195.833,-44.7 197.917,-44.7 197.917,-30.9 200,-30.9 200,-21.9 202.083,-21.9 202.083,-15.9 204.167,-15.9 204.167,-13.4 206.25,-13.4 206.25,-10.6 208.333,-10.6 208.333,-8.96 210.417,-8.96 210.417,-8.41 212.5,-8.41 212.5,-6.92 214.583,-6.92 214.583,-6.8 216.667,-6.8 216.667,-5.82 218.75,-5.82 218.75,-5.58 220.833,-5.58 220.833,-4.93 222.917,-4.93 222.917,-4.62 225,-4.62 225,-4.54 227.083,-4.54 227.083,-4.04 229.167,-4.04 229.167,-4.27 231.25,-4.27 231.25,-4.08 233.333,-4.08 233.333,-3.75 235.417,-3.75 235.417,-3.7 237.5,-3.7 237.5,-3.32 239.583,-3.32 239.583,-3.31 241.667,-3.31 241.667,-3.41 243.75,-3.41 243.75,-3.41 245.833,-3.41 245.833,-2.95 247.917,-2.95 247.917,-2.76 250,-2.76 250,0\" style=\"fill:none; stroke:currentColor;\"/>\n",
       "</svg>\n",
       "</div>\n",
       "<div style=\"flex=grow:1;\">\n",
       "Regular(120, 0, 120, name='Mass')<br/>\n",
       "<hr style=\"margin-top:.2em; margin-bottom:.2em;\"/>\n",
       "Double() Σ=422837.0 <em>(434143.0 with flow)</em>\n",
       "\n",
       "</div>\n",
       "</div>\n",
       "</html>"
      ],
      "text/plain": [
       "Hist(Regular(120, 0, 120, name='Mass'), storage=Double()) # Sum: 422837.0 (434143.0 with flow)"
      ]
     },
     "execution_count": 19,
     "metadata": {},
     "output_type": "execute_result"
    }
   ],
   "source": [
    "h1.fill(np.sqrt(2*elec1.pt*elec2.pt*(np.cosh(elec1.eta - elec2.eta) - np.cos(elec1.phi - elec2.phi))))"
   ]
  },
  {
   "cell_type": "code",
   "execution_count": 20,
   "id": "4ce1b28b-545b-4c12-80b4-860894b01a5e",
   "metadata": {},
   "outputs": [
    {
     "data": {
      "text/plain": [
       "[StairsArtists(stairs=<matplotlib.patches.StepPatch object at 0x7f53a7552230>, errorbar=<ErrorbarContainer object of 3 artists>, legend_artist=<ErrorbarContainer object of 3 artists>)]"
      ]
     },
     "execution_count": 20,
     "metadata": {},
     "output_type": "execute_result"
    },
    {
     "data": {
      "image/png": "[encoded data removed]",
      "text/plain": [
       "<Figure size 640x480 with 1 Axes>"
      ]
     },
     "metadata": {},
     "output_type": "display_data"
    }
   ],
   "source": [
    "#plot in matplotlib\n",
    "h1.plot()"
   ]
  },
  {
   "cell_type": "markdown",
   "id": "7293e2ee-d8fc-43ba-b368-82e092138283",
   "metadata": {
    "jp-MarkdownHeadingCollapsed": true
   },
   "source": [
    "### Short example using pyROOT "
   ]
  },
  {
   "cell_type": "code",
   "execution_count": 21,
   "id": "78830f0f-3133-42e0-b73e-49f1d6ada564",
   "metadata": {},
   "outputs": [],
   "source": [
    "rootfile = ROOT.TFile.Open(\"data/ZZTo4e.root\")\n",
    "tree = rootfile.Get(\"Events\")"
   ]
  },
  {
   "cell_type": "code",
   "execution_count": 22,
   "id": "da97b107-e95a-4afd-9c37-c3cf385bcaa9",
   "metadata": {},
   "outputs": [],
   "source": [
    "h2 = ROOT.TH1D(\"h2\", \"Mass\" , 120,0,120)\n",
    "\n",
    "for i, event in enumerate(tree):\n",
    "    if i == 100000 :\n",
    "        break\n",
    "    if event.nElectron >= 2 and event.Electron_charge[0] != event.Electron_charge :\n",
    "        elec1_pt = event.Electron_pt[0]\n",
    "        elec2_pt = event.Electron_pt[1]\n",
    "        elec1_eta = event.Electron_eta[0]\n",
    "        elec2_eta = event.Electron_eta[1]\n",
    "        elec1_phi = event.Electron_phi[0]\n",
    "        elec2_phi = event.Electron_phi[1]\n",
    "        h2.Fill(np.sqrt(2*elec1_pt*elec2_pt*(np.cosh(elec1_eta - elec2_eta) - np.cos(elec1_phi - elec2_phi))))"
   ]
  },
  {
   "cell_type": "code",
   "execution_count": 23,
   "id": "8a9ea95b-9c7f-4aeb-8afb-70b17acadd14",
   "metadata": {},
   "outputs": [
    {
     "data": {
      "text/html": [
       "\n",
       "\n",
       "<div id=\"root_plot_1689756685783\"\n",
       "     style=\"width: 696px; height: 472px\">\n",
       "</div>\n",
       "<script>\n",
       "\n",
       "function display_root_plot_1689756685783(Core) {\n",
       "   let obj = Core.parse({\"_typename\":\"TCanvas\",\"fUniqueID\":0,\"fBits\":3342344,\"fLineColor\":1,\"fLineStyle\":1,\"fLineWidth\":1,\"fFillColor\":0,\"fFillStyle\":1001,\"fLeftMargin\":0.1,\"fRightMargin\":0.1,\"fBottomMargin\":0.1,\"fTopMargin\":0.1,\"fXfile\":2,\"fYfile\":2,\"fAfile\":1,\"fXstat\":0.99,\"fYstat\":0.99,\"fAstat\":2,\"fFrameFillColor\":0,\"fFrameLineColor\":1,\"fFrameFillStyle\":1001,\"fFrameLineStyle\":1,\"fFrameLineWidth\":1,\"fFrameBorderSize\":1,\"fFrameBorderMode\":0,\"fX1\":-15.0000011175872,\"fY1\":-126.918759456184,\"fX2\":135.000001117587,\"fY2\":1142.26875945618,\"fXtoAbsPixelk\":69.6000541484835,\"fXtoPixelk\":69.6000541484835,\"fXtoPixel\":4.63999993085861,\"fYtoAbsPixelk\":424.800047186661,\"fYtoPixelk\":424.800047186661,\"fYtoPixel\":-0.371891460455332,\"fUtoAbsPixelk\":5e-5,\"fUtoPixelk\":5e-5,\"fUtoPixel\":696,\"fVtoAbsPixelk\":472.00005,\"fVtoPixelk\":472,\"fVtoPixel\":-472,\"fAbsPixeltoXk\":-15.0000011175872,\"fPixeltoXk\":-15.0000011175872,\"fPixeltoX\":0.215517244590768,\"fAbsPixeltoYk\":1142.26875945618,\"fPixeltoYk\":-126.918759456184,\"fPixeltoY\":-2.68895660786519,\"fXlowNDC\":0,\"fYlowNDC\":0,\"fXUpNDC\":1,\"fYUpNDC\":1,\"fWNDC\":1,\"fHNDC\":1,\"fAbsXlowNDC\":0,\"fAbsYlowNDC\":0,\"fAbsWNDC\":1,\"fAbsHNDC\":1,\"fUxmin\":0,\"fUymin\":0,\"fUxmax\":120,\"fUymax\":1015.35,\"fTheta\":30,\"fPhi\":30,\"fAspectRatio\":0,\"fNumber\":0,\"fTickx\":0,\"fTicky\":0,\"fLogx\":0,\"fLogy\":0,\"fLogz\":0,\"fPadPaint\":0,\"fCrosshair\":0,\"fCrosshairPos\":0,\"fBorderSize\":2,\"fBorderMode\":0,\"fModified\":false,\"fGridx\":false,\"fGridy\":false,\"fAbsCoord\":false,\"fEditable\":true,\"fFixedAspectRatio\":false,\"fPrimitives\":{\"_typename\":\"TList\",\"name\":\"TList\",\"arr\":[{\"_typename\":\"TFrame\",\"fUniqueID\":0,\"fBits\":8,\"fLineColor\":1,\"fLineStyle\":1,\"fLineWidth\":1,\"fFillColor\":0,\"fFillStyle\":1001,\"fX1\":0,\"fY1\":0,\"fX2\":120,\"fY2\":1015.35,\"fBorderSize\":1,\"fBorderMode\":0},{\"_typename\":\"TH1D\",\"fUniqueID\":0,\"fBits\":8,\"fName\":\"h2\",\"fTitle\":\"Mass\",\"fLineColor\":602,\"fLineStyle\":1,\"fLineWidth\":1,\"fFillColor\":0,\"fFillStyle\":1001,\"fMarkerColor\":1,\"fMarkerStyle\":1,\"fMarkerSize\":1,\"fNcells\":122,\"fXaxis\":{\"_typename\":\"TAxis\",\"fUniqueID\":0,\"fBits\":0,\"fName\":\"xaxis\",\"fTitle\":\"\",\"fNdivisions\":510,\"fAxisColor\":1,\"fLabelColor\":1,\"fLabelFont\":42,\"fLabelOffset\":0.005,\"fLabelSize\":0.035,\"fTickLength\":0.03,\"fTitleOffset\":1,\"fTitleSize\":0.035,\"fTitleColor\":1,\"fTitleFont\":42,\"fNbins\":120,\"fXmin\":0,\"fXmax\":120,\"fXbins\":[],\"fFirst\":0,\"fLast\":0,\"fBits2\":0,\"fTimeDisplay\":false,\"fTimeFormat\":\"\",\"fLabels\":null,\"fModLabs\":null},\"fYaxis\":{\"_typename\":\"TAxis\",\"fUniqueID\":0,\"fBits\":0,\"fName\":\"yaxis\",\"fTitle\":\"\",\"fNdivisions\":510,\"fAxisColor\":1,\"fLabelColor\":1,\"fLabelFont\":42,\"fLabelOffset\":0.005,\"fLabelSize\":0.035,\"fTickLength\":0.03,\"fTitleOffset\":0,\"fTitleSize\":0.035,\"fTitleColor\":1,\"fTitleFont\":42,\"fNbins\":1,\"fXmin\":0,\"fXmax\":1,\"fXbins\":[],\"fFirst\":0,\"fLast\":0,\"fBits2\":0,\"fTimeDisplay\":false,\"fTimeFormat\":\"\",\"fLabels\":null,\"fModLabs\":null},\"fZaxis\":{\"_typename\":\"TAxis\",\"fUniqueID\":0,\"fBits\":0,\"fName\":\"zaxis\",\"fTitle\":\"\",\"fNdivisions\":510,\"fAxisColor\":1,\"fLabelColor\":1,\"fLabelFont\":42,\"fLabelOffset\":0.005,\"fLabelSize\":0.035,\"fTickLength\":0.03,\"fTitleOffset\":1,\"fTitleSize\":0.035,\"fTitleColor\":1,\"fTitleFont\":42,\"fNbins\":1,\"fXmin\":0,\"fXmax\":1,\"fXbins\":[],\"fFirst\":0,\"fLast\":0,\"fBits2\":0,\"fTimeDisplay\":false,\"fTimeFormat\":\"\",\"fLabels\":null,\"fModLabs\":null},\"fBarOffset\":0,\"fBarWidth\":1000,\"fEntries\":63967,\"fTsumw\":61892,\"fTsumw2\":61892,\"fTsumwx\":2875967.98573169,\"fTsumwx2\":186133739.805537,\"fMaximum\":-1111,\"fMinimum\":-1111,\"fNormFactor\":0,\"fContour\":[],\"fSumw2\":[],\"fOption\":\"\",\"fFunctions\":{\"_typename\":\"TList\",\"name\":\"TList\",\"arr\":[{\"_typename\":\"TPaveStats\",\"fUniqueID\":0,\"fBits\":9,\"fLineColor\":1,\"fLineStyle\":1,\"fLineWidth\":1,\"fFillColor\":0,\"fFillStyle\":1001,\"fX1\":102.000003039837,\"fY1\":856.701575265848,\"fX2\":132.000003933907,\"fY2\":1059.77157375286,\"fX1NDC\":0.780000016093254,\"fY1NDC\":0.775000005960464,\"fX2NDC\":0.980000019073486,\"fY2NDC\":0.935000002384186,\"fBorderSize\":1,\"fInit\":1,\"fShadowColor\":1,\"fCornerRadius\":0,\"fOption\":\"brNDC\",\"fName\":\"stats\",\"fTextAngle\":0,\"fTextSize\":0,\"fTextAlign\":12,\"fTextColor\":1,\"fTextFont\":42,\"fLabel\":\"\",\"fLongest\":18,\"fMargin\":0.05,\"fLines\":{\"_typename\":\"TList\",\"name\":\"TList\",\"arr\":[{\"_typename\":\"TLatex\",\"fUniqueID\":0,\"fBits\":0,\"fName\":\"\",\"fTitle\":\"h2\",\"fTextAngle\":0,\"fTextSize\":0.0368,\"fTextAlign\":0,\"fTextColor\":0,\"fTextFont\":0,\"fX\":0,\"fY\":0,\"fLineColor\":1,\"fLineStyle\":1,\"fLineWidth\":2,\"fLimitFactorSize\":3,\"fOriginSize\":0.0368000008165836},{\"_typename\":\"TLatex\",\"fUniqueID\":0,\"fBits\":0,\"fName\":\"\",\"fTitle\":\"Entries = 63967  \",\"fTextAngle\":0,\"fTextSize\":0,\"fTextAlign\":0,\"fTextColor\":0,\"fTextFont\":0,\"fX\":0,\"fY\":0,\"fLineColor\":1,\"fLineStyle\":1,\"fLineWidth\":2,\"fLimitFactorSize\":3,\"fOriginSize\":0.04},{\"_typename\":\"TLatex\",\"fUniqueID\":0,\"fBits\":0,\"fName\":\"\",\"fTitle\":\"Mean  =  46.47\",\"fTextAngle\":0,\"fTextSize\":0,\"fTextAlign\":0,\"fTextColor\":0,\"fTextFont\":0,\"fX\":0,\"fY\":0,\"fLineColor\":1,\"fLineStyle\":1,\"fLineWidth\":2,\"fLimitFactorSize\":3,\"fOriginSize\":0.04},{\"_typename\":\"TLatex\",\"fUniqueID\":0,\"fBits\":0,\"fName\":\"\",\"fTitle\":\"Std Dev   =  29.12\",\"fTextAngle\":0,\"fTextSize\":0,\"fTextAlign\":0,\"fTextColor\":0,\"fTextFont\":0,\"fX\":0,\"fY\":0,\"fLineColor\":1,\"fLineStyle\":1,\"fLineWidth\":2,\"fLimitFactorSize\":3,\"fOriginSize\":0.04}],\"opt\":[\"\",\"\",\"\",\"\"]},\"fOptFit\":0,\"fOptStat\":1111,\"fFitFormat\":\"5.4g\",\"fStatFormat\":\"6.4g\",\"fParent\":{\"$ref\":3}}],\"opt\":[\"brNDC\"]},\"fBufferSize\":0,\"fBuffer\":[],\"fBinStatErrOpt\":0,\"fStatOverflows\":2,\"fArray\":{\"$arr\":\"Float64\",\"len\":122,\"p\":1,\"v\":[8,43,73,197,855,891,812,805,839,827,796,911,894,913,948,928,946,919,913,886,906,831,912,804,877,865,869,863,879,843,759,822,842,850,774,772,751,668,685,653,649,609,655,543,580,582,536,564,465,503,479,494,510,459,487,448,423,446,423,419,412,437,424,392,434,421,407,453,457,456,460,464,477,482,487,484,529,548,513,573,543,555,534,537,532,537,541,608,682,762,967,923,748,578,442,268,223,162,133,124,100,105,87,93,82,65,69,63,72,61,68,36,63,44,47,42,60,33,35,55,2075]}},{\"_typename\":\"TPaveText\",\"fUniqueID\":0,\"fBits\":9,\"fLineColor\":1,\"fLineStyle\":1,\"fLineWidth\":1,\"fFillColor\":0,\"fFillStyle\":0,\"fX1\":52.0344826399252,\"fY1\":1066.11751333322,\"fX2\":67.9655173600748,\"fY2\":1135.92282791358,\"fX1NDC\":0.446896551724138,\"fY1NDC\":0.940000003948808,\"fX2NDC\":0.553103448275862,\"fY2NDC\":0.995000004768372,\"fBorderSize\":0,\"fInit\":1,\"fShadowColor\":1,\"fCornerRadius\":0,\"fOption\":\"blNDC\",\"fName\":\"title\",\"fTextAngle\":0,\"fTextSize\":0,\"fTextAlign\":22,\"fTextColor\":1,\"fTextFont\":42,\"fLabel\":\"\",\"fLongest\":4,\"fMargin\":0.05,\"fLines\":{\"_typename\":\"TList\",\"name\":\"TList\",\"arr\":[{\"_typename\":\"TLatex\",\"fUniqueID\":0,\"fBits\":0,\"fName\":\"\",\"fTitle\":\"Mass\",\"fTextAngle\":0,\"fTextSize\":0,\"fTextAlign\":0,\"fTextColor\":0,\"fTextFont\":0,\"fX\":0,\"fY\":0,\"fLineColor\":1,\"fLineStyle\":1,\"fLineWidth\":2,\"fLimitFactorSize\":3,\"fOriginSize\":0.0467500016093254}],\"opt\":[\"\"]}},{\"_typename\":\"TStyle\",\"fUniqueID\":0,\"fBits\":0,\"fName\":\"Modern\",\"fTitle\":\"Modern Style\",\"fLineColor\":1,\"fLineStyle\":1,\"fLineWidth\":1,\"fFillColor\":19,\"fFillStyle\":1001,\"fMarkerColor\":1,\"fMarkerStyle\":1,\"fMarkerSize\":1,\"fTextAngle\":0,\"fTextSize\":0.05,\"fTextAlign\":11,\"fTextColor\":1,\"fTextFont\":62,\"fXaxis\":{\"_typename\":\"TAttAxis\",\"fNdivisions\":510,\"fAxisColor\":1,\"fLabelColor\":1,\"fLabelFont\":42,\"fLabelOffset\":0.005,\"fLabelSize\":0.035,\"fTickLength\":0.03,\"fTitleOffset\":1,\"fTitleSize\":0.035,\"fTitleColor\":1,\"fTitleFont\":42},\"fYaxis\":{\"_typename\":\"TAttAxis\",\"fNdivisions\":510,\"fAxisColor\":1,\"fLabelColor\":1,\"fLabelFont\":42,\"fLabelOffset\":0.005,\"fLabelSize\":0.035,\"fTickLength\":0.03,\"fTitleOffset\":0,\"fTitleSize\":0.035,\"fTitleColor\":1,\"fTitleFont\":42},\"fZaxis\":{\"_typename\":\"TAttAxis\",\"fNdivisions\":510,\"fAxisColor\":1,\"fLabelColor\":1,\"fLabelFont\":42,\"fLabelOffset\":0.005,\"fLabelSize\":0.035,\"fTickLength\":0.03,\"fTitleOffset\":1,\"fTitleSize\":0.035,\"fTitleColor\":1,\"fTitleFont\":42},\"fBarWidth\":1,\"fBarOffset\":0,\"fColorModelPS\":0,\"fDrawBorder\":0,\"fOptLogx\":0,\"fOptLogy\":0,\"fOptLogz\":0,\"fOptDate\":0,\"fOptStat\":1111,\"fOptTitle\":1,\"fOptFile\":0,\"fOptFit\":0,\"fShowEventStatus\":0,\"fShowEditor\":0,\"fShowToolBar\":0,\"fNumberContours\":20,\"fAttDate\":{\"_typename\":\"TAttText\",\"fTextAngle\":0,\"fTextSize\":0.025,\"fTextAlign\":11,\"fTextColor\":1,\"fTextFont\":62},\"fDateX\":0.01,\"fDateY\":0.01,\"fEndErrorSize\":2,\"fErrorX\":0.5,\"fFuncColor\":2,\"fFuncStyle\":1,\"fFuncWidth\":2,\"fGridColor\":0,\"fGridStyle\":3,\"fGridWidth\":1,\"fLegendBorderSize\":1,\"fLegendFillColor\":0,\"fLegendFont\":42,\"fLegendTextSize\":0,\"fHatchesLineWidth\":1,\"fHatchesSpacing\":1,\"fFrameFillColor\":0,\"fFrameLineColor\":1,\"fFrameFillStyle\":1001,\"fFrameLineStyle\":1,\"fFrameLineWidth\":1,\"fFrameBorderSize\":1,\"fFrameBorderMode\":0,\"fHistFillColor\":0,\"fHistLineColor\":602,\"fHistFillStyle\":1001,\"fHistLineStyle\":1,\"fHistLineWidth\":1,\"fHistMinimumZero\":false,\"fHistTopMargin\":0.05,\"fCanvasPreferGL\":false,\"fCanvasColor\":0,\"fCanvasBorderSize\":2,\"fCanvasBorderMode\":0,\"fCanvasDefH\":500,\"fCanvasDefW\":700,\"fCanvasDefX\":10,\"fCanvasDefY\":10,\"fPadColor\":0,\"fPadBorderSize\":2,\"fPadBorderMode\":0,\"fPadBottomMargin\":0.1,\"fPadTopMargin\":0.1,\"fPadLeftMargin\":0.1,\"fPadRightMargin\":0.1,\"fPadGridX\":false,\"fPadGridY\":false,\"fPadTickX\":0,\"fPadTickY\":0,\"fPaperSizeX\":20,\"fPaperSizeY\":26,\"fScreenFactor\":1,\"fStatColor\":0,\"fStatTextColor\":1,\"fStatBorderSize\":1,\"fStatFont\":42,\"fStatFontSize\":0,\"fStatStyle\":1001,\"fStatFormat\":\"6.4g\",\"fStatX\":0.98,\"fStatY\":0.935,\"fStatW\":0.2,\"fStatH\":0.16,\"fStripDecimals\":true,\"fTitleAlign\":23,\"fTitleColor\":0,\"fTitleTextColor\":1,\"fTitleBorderSize\":0,\"fTitleFont\":42,\"fTitleFontSize\":0.05,\"fTitleStyle\":0,\"fTitleX\":0.5,\"fTitleY\":0.995,\"fTitleW\":0,\"fTitleH\":0,\"fLegoInnerR\":0.5,\"fLineStyles\":[\"\",\"  \",\" 12 12\",\" 4 8\",\" 12 16 4 16\",\" 20 12 4 12\",\" 20 12 4 12 4 12 4 12\",\" 20 20\",\" 20 12 4 12 4 12\",\" 80 20\",\" 80 40 4 40\",\"  \",\"  \",\"  \",\"  \",\"  \",\"  \",\"  \",\"  \",\"  \",\"  \",\"  \",\"  \",\"  \",\"  \",\"  \",\"  \",\"  \",\"  \",\"  \"],\"fHeaderPS\":\"\",\"fTitlePS\":\"\",\"fFitFormat\":\"5.4g\",\"fPaintTextFormat\":\"g\",\"fLineScalePS\":3,\"fJoinLinePS\":0,\"fCapLinePS\":0,\"fTimeOffset\":788918400,\"fImageScaling\":1}],\"opt\":[\"\",\"\",\"blNDC\",\"\"]},\"fExecs\":null,\"fName\":\"c1\",\"fTitle\":\"c1\",\"fNumPaletteColor\":0,\"fNextPaletteColor\":0,\"fDISPLAY\":\"$DISPLAY\",\"fDoubleBuffer\":0,\"fRetained\":true,\"fXsizeUser\":0,\"fYsizeUser\":0,\"fXsizeReal\":20,\"fYsizeReal\":14.28571,\"fWindowTopX\":0,\"fWindowTopY\":0,\"fWindowWidth\":0,\"fWindowHeight\":0,\"fCw\":696,\"fCh\":472,\"fCatt\":{\"_typename\":\"TAttCanvas\",\"fXBetween\":2,\"fYBetween\":2,\"fTitleFromTop\":1.2,\"fXdate\":0.2,\"fYdate\":0.3,\"fAdate\":1},\"kMoveOpaque\":true,\"kResizeOpaque\":true,\"fHighLightColor\":2,\"fBatch\":true,\"kShowEventStatus\":false,\"kAutoExec\":true,\"kMenuBar\":true});\n",
       "   Core.settings.HandleKeys = false;\n",
       "   Core.draw(\"root_plot_1689756685783\", obj, \"\");\n",
       "}\n",
       "\n",
       "function script_load_root_plot_1689756685783(src, on_error) {\n",
       "    let script = document.createElement('script');\n",
       "    script.src = src;\n",
       "    script.onload = function() { display_root_plot_1689756685783(JSROOT); };\n",
       "    script.onerror = function() { script.remove(); on_error(); };\n",
       "    document.head.appendChild(script);\n",
       "}\n",
       "\n",
       "if (typeof requirejs !== 'undefined') {\n",
       "\n",
       "    // We are in jupyter notebooks, use require.js which should be configured already\n",
       "    requirejs.config({\n",
       "       paths: { 'JSRootCore' : [ 'build/jsroot', 'https://root.cern/js/7.2.1/build/jsroot', 'https://jsroot.gsi.de/7.2.1/build/jsroot' ] }\n",
       "    })(['JSRootCore'],  function(Core) {\n",
       "       display_root_plot_1689756685783(Core);\n",
       "    });\n",
       "\n",
       "} else if (typeof JSROOT !== 'undefined') {\n",
       "\n",
       "   // JSROOT already loaded, just use it\n",
       "   display_root_plot_1689756685783(JSROOT);\n",
       "\n",
       "} else {\n",
       "\n",
       "    // We are in jupyterlab without require.js, directly loading jsroot\n",
       "    // Jupyterlab might be installed in a different base_url so we need to know it.\n",
       "    try {\n",
       "        var base_url = JSON.parse(document.getElementById('jupyter-config-data').innerHTML).baseUrl;\n",
       "    } catch(_) {\n",
       "        var base_url = '/';\n",
       "    }\n",
       "\n",
       "    // Try loading a local version of requirejs and fallback to cdn if not possible.\n",
       "    script_load_root_plot_1689756685783(base_url + 'static/build/jsroot.js', function(){\n",
       "        console.error('Fail to load JSROOT locally, please check your jupyter_notebook_config.py file');\n",
       "        script_load_root_plot_1689756685783('https://root.cern/js/7.2.1/build/jsroot.js', function(){\n",
       "            document.getElementById(\"root_plot_1689756685783\").innerHTML = \"Failed to load JSROOT\";\n",
       "        });\n",
       "    });\n",
       "}\n",
       "\n",
       "</script>\n"
      ],
      "text/plain": [
       "<IPython.core.display.HTML object>"
      ]
     },
     "metadata": {},
     "output_type": "display_data"
    }
   ],
   "source": [
    "%jsroot\n",
    "c1 = ROOT.TCanvas()\n",
    "h2.Draw()\n",
    "c1.Draw()"
   ]
  },
  {
   "cell_type": "markdown",
   "id": "363c0cce-5de6-41b1-a903-3599b1dec2dd",
   "metadata": {
    "jp-MarkdownHeadingCollapsed": true
   },
   "source": [
    "### Short example using RDataFrame :\n",
    "- It is called a 'lazy' approach. This means that the triggering of the event loop happens only when we draw a histogram or plot something"
   ]
  },
  {
   "cell_type": "code",
   "execution_count": 24,
   "id": "07209121-b12a-4884-9532-07e260612b76",
   "metadata": {},
   "outputs": [],
   "source": [
    "df = ROOT.RDataFrame(\"Events\", \"data/ZZTo4e.root\")\n",
    "c1 = ROOT.TCanvas()"
   ]
  },
  {
   "cell_type": "code",
   "execution_count": 25,
   "id": "aa29c18b-718c-48a6-aa5e-42dab51402eb",
   "metadata": {},
   "outputs": [
    {
     "name": "stdout",
     "output_type": "stream",
     "text": [
      "A data frame built on top of the Events dataset.\n"
     ]
    }
   ],
   "source": [
    "print(df)"
   ]
  },
  {
   "cell_type": "code",
   "execution_count": 26,
   "id": "c21ec048-1f2e-4e87-9a65-b8b6836d5598",
   "metadata": {},
   "outputs": [],
   "source": [
    "df_limit = df.Range(100000)"
   ]
  },
  {
   "cell_type": "code",
   "execution_count": 27,
   "id": "0a9a9d0c-7857-4bcd-b20c-666b19a256cb",
   "metadata": {},
   "outputs": [],
   "source": [
    "df_cuts1 = df.Filter(\"nElectron >= 2 \")\n",
    "df_cuts2 = df.Filter(\"Electron_charge[0]  != Electron_charge[1]\")"
   ]
  },
  {
   "cell_type": "code",
   "execution_count": 28,
   "id": "c14f2216-a33c-4b12-adab-6e72fca61d94",
   "metadata": {},
   "outputs": [],
   "source": [
    "#Assign the computation to C++ Root JIT\n",
    "df_mass = df_cuts2.Define(\"DiElectron_mass\", '''\n",
    "float elec1_pt = Electron_pt[0];\n",
    "float elec2_pt = Electron_pt[1];\n",
    "float elec1_eta = Electron_eta[0];\n",
    "float elec2_eta = Electron_eta[1];\n",
    "float elec1_phi = Electron_phi[0];\n",
    "float elec2_phi = Electron_phi[1];\n",
    "return sqrt(2*elec1_pt*elec2_pt*(cosh(elec1_eta - elec2_eta) - cos(elec1_phi - elec2_phi)));\n",
    "''')\n",
    "h3= df_mass.Histo1D((\"h3\", \"mass\", 120, 0, 120), \"DiElectron_mass\")"
   ]
  },
  {
   "cell_type": "code",
   "execution_count": 29,
   "id": "5d80179f-8cd9-4a1e-b0eb-fe127efe4629",
   "metadata": {},
   "outputs": [
    {
     "data": {
      "text/html": [
       "\n",
       "\n",
       "<div id=\"root_plot_1689756690819\"\n",
       "     style=\"width: 696px; height: 472px\">\n",
       "</div>\n",
       "<script>\n",
       "\n",
       "function display_root_plot_1689756690819(Core) {\n",
       "   let obj = Core.parse({\"_typename\":\"TCanvas\",\"fUniqueID\":0,\"fBits\":3342344,\"fLineColor\":1,\"fLineStyle\":1,\"fLineWidth\":1,\"fFillColor\":0,\"fFillStyle\":1001,\"fLeftMargin\":0.1,\"fRightMargin\":0.1,\"fBottomMargin\":0.1,\"fTopMargin\":0.1,\"fXfile\":2,\"fYfile\":2,\"fAfile\":1,\"fXstat\":0.99,\"fYstat\":0.99,\"fAstat\":2,\"fFrameFillColor\":0,\"fFrameLineColor\":1,\"fFrameFillStyle\":1001,\"fFrameLineStyle\":1,\"fFrameLineWidth\":1,\"fFrameBorderSize\":1,\"fFrameBorderMode\":0,\"fX1\":-15.0000011175872,\"fY1\":-1765.83763156515,\"fX2\":135.000001117587,\"fY2\":15892.5376315652,\"fXtoAbsPixelk\":69.6000541484835,\"fXtoPixelk\":69.6000541484835,\"fXtoPixel\":4.63999993085861,\"fYtoAbsPixelk\":424.800047186661,\"fYtoPixelk\":424.800047186661,\"fYtoPixel\":-0.0267295259595887,\"fUtoAbsPixelk\":5e-5,\"fUtoPixelk\":5e-5,\"fUtoPixel\":696,\"fVtoAbsPixelk\":472.00005,\"fVtoPixelk\":472,\"fVtoPixel\":-472,\"fAbsPixeltoXk\":-15.0000011175872,\"fPixeltoXk\":-15.0000011175872,\"fPixeltoX\":0.215517244590768,\"fAbsPixeltoYk\":15892.5376315652,\"fPixeltoYk\":-1765.83763156515,\"fPixeltoY\":-37.4118119981574,\"fXlowNDC\":0,\"fYlowNDC\":0,\"fXUpNDC\":1,\"fYUpNDC\":1,\"fWNDC\":1,\"fHNDC\":1,\"fAbsXlowNDC\":0,\"fAbsYlowNDC\":0,\"fAbsWNDC\":1,\"fAbsHNDC\":1,\"fUxmin\":0,\"fUymin\":0,\"fUxmax\":120,\"fUymax\":14126.7,\"fTheta\":30,\"fPhi\":30,\"fAspectRatio\":0,\"fNumber\":0,\"fTickx\":0,\"fTicky\":0,\"fLogx\":0,\"fLogy\":0,\"fLogz\":0,\"fPadPaint\":0,\"fCrosshair\":0,\"fCrosshairPos\":0,\"fBorderSize\":2,\"fBorderMode\":0,\"fModified\":false,\"fGridx\":false,\"fGridy\":false,\"fAbsCoord\":false,\"fEditable\":true,\"fFixedAspectRatio\":false,\"fPrimitives\":{\"_typename\":\"TList\",\"name\":\"TList\",\"arr\":[{\"_typename\":\"TFrame\",\"fUniqueID\":0,\"fBits\":8,\"fLineColor\":1,\"fLineStyle\":1,\"fLineWidth\":1,\"fFillColor\":0,\"fFillStyle\":1001,\"fX1\":0,\"fY1\":0,\"fX2\":120,\"fY2\":14126.7,\"fBorderSize\":1,\"fBorderMode\":0},{\"_typename\":\"TH1D\",\"fUniqueID\":0,\"fBits\":8,\"fName\":\"h3\",\"fTitle\":\"mass\",\"fLineColor\":602,\"fLineStyle\":1,\"fLineWidth\":1,\"fFillColor\":0,\"fFillStyle\":1001,\"fMarkerColor\":1,\"fMarkerStyle\":1,\"fMarkerSize\":1,\"fNcells\":122,\"fXaxis\":{\"_typename\":\"TAxis\",\"fUniqueID\":0,\"fBits\":0,\"fName\":\"xaxis\",\"fTitle\":\"\",\"fNdivisions\":510,\"fAxisColor\":1,\"fLabelColor\":1,\"fLabelFont\":42,\"fLabelOffset\":0.005,\"fLabelSize\":0.035,\"fTickLength\":0.03,\"fTitleOffset\":1,\"fTitleSize\":0.035,\"fTitleColor\":1,\"fTitleFont\":42,\"fNbins\":120,\"fXmin\":0,\"fXmax\":120,\"fXbins\":[],\"fFirst\":0,\"fLast\":0,\"fBits2\":0,\"fTimeDisplay\":false,\"fTimeFormat\":\"\",\"fLabels\":null,\"fModLabs\":null},\"fYaxis\":{\"_typename\":\"TAxis\",\"fUniqueID\":0,\"fBits\":0,\"fName\":\"yaxis\",\"fTitle\":\"\",\"fNdivisions\":510,\"fAxisColor\":1,\"fLabelColor\":1,\"fLabelFont\":42,\"fLabelOffset\":0.005,\"fLabelSize\":0.035,\"fTickLength\":0.03,\"fTitleOffset\":0,\"fTitleSize\":0.035,\"fTitleColor\":1,\"fTitleFont\":42,\"fNbins\":1,\"fXmin\":0,\"fXmax\":1,\"fXbins\":[],\"fFirst\":0,\"fLast\":0,\"fBits2\":0,\"fTimeDisplay\":false,\"fTimeFormat\":\"\",\"fLabels\":null,\"fModLabs\":null},\"fZaxis\":{\"_typename\":\"TAxis\",\"fUniqueID\":0,\"fBits\":0,\"fName\":\"zaxis\",\"fTitle\":\"\",\"fNdivisions\":510,\"fAxisColor\":1,\"fLabelColor\":1,\"fLabelFont\":42,\"fLabelOffset\":0.005,\"fLabelSize\":0.035,\"fTickLength\":0.03,\"fTitleOffset\":1,\"fTitleSize\":0.035,\"fTitleColor\":1,\"fTitleFont\":42,\"fNbins\":1,\"fXmin\":0,\"fXmax\":1,\"fXbins\":[],\"fFirst\":0,\"fLast\":0,\"fBits2\":0,\"fTimeDisplay\":false,\"fTimeFormat\":\"\",\"fLabels\":null,\"fModLabs\":null},\"fBarOffset\":0,\"fBarWidth\":1000,\"fEntries\":804046,\"fTsumw\":766624,\"fTsumw2\":766624,\"fTsumwx\":38057405.6285125,\"fTsumwx2\":2577231344.94348,\"fMaximum\":-1111,\"fMinimum\":-1111,\"fNormFactor\":0,\"fContour\":[],\"fSumw2\":[],\"fOption\":\"\",\"fFunctions\":{\"_typename\":\"TList\",\"name\":\"TList\",\"arr\":[{\"_typename\":\"TPaveStats\",\"fUniqueID\":0,\"fBits\":9,\"fLineColor\":1,\"fLineStyle\":1,\"fLineWidth\":1,\"fFillColor\":0,\"fFillStyle\":1001,\"fX1\":102.000003039837,\"fY1\":11919.403302613,\"fX2\":132.000003933907,\"fY2\":14744.7432815625,\"fX1NDC\":0.780000016093254,\"fY1NDC\":0.775000005960464,\"fX2NDC\":0.980000019073486,\"fY2NDC\":0.935000002384186,\"fBorderSize\":1,\"fInit\":1,\"fShadowColor\":1,\"fCornerRadius\":0,\"fOption\":\"brNDC\",\"fName\":\"stats\",\"fTextAngle\":0,\"fTextSize\":0,\"fTextAlign\":12,\"fTextColor\":1,\"fTextFont\":42,\"fLabel\":\"\",\"fLongest\":18,\"fMargin\":0.05,\"fLines\":{\"_typename\":\"TList\",\"name\":\"TList\",\"arr\":[{\"_typename\":\"TLatex\",\"fUniqueID\":0,\"fBits\":0,\"fName\":\"\",\"fTitle\":\"h3\",\"fTextAngle\":0,\"fTextSize\":0.0368,\"fTextAlign\":0,\"fTextColor\":0,\"fTextFont\":0,\"fX\":0,\"fY\":0,\"fLineColor\":1,\"fLineStyle\":1,\"fLineWidth\":2,\"fLimitFactorSize\":3,\"fOriginSize\":0.0368000008165836},{\"_typename\":\"TLatex\",\"fUniqueID\":0,\"fBits\":0,\"fName\":\"\",\"fTitle\":\"Entries = 804046 \",\"fTextAngle\":0,\"fTextSize\":0,\"fTextAlign\":0,\"fTextColor\":0,\"fTextFont\":0,\"fX\":0,\"fY\":0,\"fLineColor\":1,\"fLineStyle\":1,\"fLineWidth\":2,\"fLimitFactorSize\":3,\"fOriginSize\":0.04},{\"_typename\":\"TLatex\",\"fUniqueID\":0,\"fBits\":0,\"fName\":\"\",\"fTitle\":\"Mean  =  49.64\",\"fTextAngle\":0,\"fTextSize\":0,\"fTextAlign\":0,\"fTextColor\":0,\"fTextFont\":0,\"fX\":0,\"fY\":0,\"fLineColor\":1,\"fLineStyle\":1,\"fLineWidth\":2,\"fLimitFactorSize\":3,\"fOriginSize\":0.04},{\"_typename\":\"TLatex\",\"fUniqueID\":0,\"fBits\":0,\"fName\":\"\",\"fTitle\":\"Std Dev   =  29.96\",\"fTextAngle\":0,\"fTextSize\":0,\"fTextAlign\":0,\"fTextColor\":0,\"fTextFont\":0,\"fX\":0,\"fY\":0,\"fLineColor\":1,\"fLineStyle\":1,\"fLineWidth\":2,\"fLimitFactorSize\":3,\"fOriginSize\":0.04}],\"opt\":[\"\",\"\",\"\",\"\"]},\"fOptFit\":0,\"fOptStat\":1111,\"fFitFormat\":\"5.4g\",\"fStatFormat\":\"6.4g\",\"fParent\":{\"$ref\":3}}],\"opt\":[\"brNDC\"]},\"fBufferSize\":0,\"fBuffer\":[],\"fBinStatErrOpt\":0,\"fStatOverflows\":2,\"fArray\":{\"$arr\":\"Float64\",\"len\":122,\"p\":1,\"v\":[111,352,485,2058,11107,10738,10035,9730,9477,9379,9528,9722,10226,10182,10417,10421,10308,10231,9998,10118,10015,9884,9611,9540,9543,9497,9380,9298,9133,9057,8954,8955,8701,8428,8395,8320,8038,7674,7599,7365,7403,7146,6988,6863,6444,6606,6471,6304,6251,6067,6161,5936,5981,5815,5760,5652,5786,5702,5694,5576,5697,5799,5561,5741,5861,5754,5755,5938,6057,6224,6166,6305,6496,6741,6964,7196,7458,7312,7513,7774,7970,7907,7564,7583,7496,7477,7726,8689,10027,11703,13454,13398,11552,8582,6271,4500,3319,2544,2146,1813,1601,1510,1354,1263,1162,1177,1063,1027,981,951,920,861,846,874,804,723,785,721,702,650,37422]}},{\"_typename\":\"TPaveText\",\"fUniqueID\":0,\"fBits\":9,\"fLineColor\":1,\"fLineStyle\":1,\"fLineWidth\":1,\"fFillColor\":0,\"fFillStyle\":0,\"fX1\":51.9267240176298,\"fY1\":14833.0351855069,\"fX2\":68.0732759823701,\"fY2\":15804.2458394512,\"fX1NDC\":0.44617816091954,\"fY1NDC\":0.940000003948808,\"fX2NDC\":0.55382183908046,\"fY2NDC\":0.995000004768372,\"fBorderSize\":0,\"fInit\":1,\"fShadowColor\":1,\"fCornerRadius\":0,\"fOption\":\"blNDC\",\"fName\":\"title\",\"fTextAngle\":0,\"fTextSize\":0,\"fTextAlign\":22,\"fTextColor\":1,\"fTextFont\":42,\"fLabel\":\"\",\"fLongest\":4,\"fMargin\":0.05,\"fLines\":{\"_typename\":\"TList\",\"name\":\"TList\",\"arr\":[{\"_typename\":\"TLatex\",\"fUniqueID\":0,\"fBits\":0,\"fName\":\"\",\"fTitle\":\"mass\",\"fTextAngle\":0,\"fTextSize\":0,\"fTextAlign\":0,\"fTextColor\":0,\"fTextFont\":0,\"fX\":0,\"fY\":0,\"fLineColor\":1,\"fLineStyle\":1,\"fLineWidth\":2,\"fLimitFactorSize\":3,\"fOriginSize\":0.0467500016093254}],\"opt\":[\"\"]}},{\"_typename\":\"TStyle\",\"fUniqueID\":0,\"fBits\":0,\"fName\":\"Modern\",\"fTitle\":\"Modern Style\",\"fLineColor\":1,\"fLineStyle\":1,\"fLineWidth\":1,\"fFillColor\":19,\"fFillStyle\":1001,\"fMarkerColor\":1,\"fMarkerStyle\":1,\"fMarkerSize\":1,\"fTextAngle\":0,\"fTextSize\":0.05,\"fTextAlign\":11,\"fTextColor\":1,\"fTextFont\":62,\"fXaxis\":{\"_typename\":\"TAttAxis\",\"fNdivisions\":510,\"fAxisColor\":1,\"fLabelColor\":1,\"fLabelFont\":42,\"fLabelOffset\":0.005,\"fLabelSize\":0.035,\"fTickLength\":0.03,\"fTitleOffset\":1,\"fTitleSize\":0.035,\"fTitleColor\":1,\"fTitleFont\":42},\"fYaxis\":{\"_typename\":\"TAttAxis\",\"fNdivisions\":510,\"fAxisColor\":1,\"fLabelColor\":1,\"fLabelFont\":42,\"fLabelOffset\":0.005,\"fLabelSize\":0.035,\"fTickLength\":0.03,\"fTitleOffset\":0,\"fTitleSize\":0.035,\"fTitleColor\":1,\"fTitleFont\":42},\"fZaxis\":{\"_typename\":\"TAttAxis\",\"fNdivisions\":510,\"fAxisColor\":1,\"fLabelColor\":1,\"fLabelFont\":42,\"fLabelOffset\":0.005,\"fLabelSize\":0.035,\"fTickLength\":0.03,\"fTitleOffset\":1,\"fTitleSize\":0.035,\"fTitleColor\":1,\"fTitleFont\":42},\"fBarWidth\":1,\"fBarOffset\":0,\"fColorModelPS\":0,\"fDrawBorder\":0,\"fOptLogx\":0,\"fOptLogy\":0,\"fOptLogz\":0,\"fOptDate\":0,\"fOptStat\":1111,\"fOptTitle\":1,\"fOptFile\":0,\"fOptFit\":0,\"fShowEventStatus\":0,\"fShowEditor\":0,\"fShowToolBar\":0,\"fNumberContours\":20,\"fAttDate\":{\"_typename\":\"TAttText\",\"fTextAngle\":0,\"fTextSize\":0.025,\"fTextAlign\":11,\"fTextColor\":1,\"fTextFont\":62},\"fDateX\":0.01,\"fDateY\":0.01,\"fEndErrorSize\":2,\"fErrorX\":0.5,\"fFuncColor\":2,\"fFuncStyle\":1,\"fFuncWidth\":2,\"fGridColor\":0,\"fGridStyle\":3,\"fGridWidth\":1,\"fLegendBorderSize\":1,\"fLegendFillColor\":0,\"fLegendFont\":42,\"fLegendTextSize\":0,\"fHatchesLineWidth\":1,\"fHatchesSpacing\":1,\"fFrameFillColor\":0,\"fFrameLineColor\":1,\"fFrameFillStyle\":1001,\"fFrameLineStyle\":1,\"fFrameLineWidth\":1,\"fFrameBorderSize\":1,\"fFrameBorderMode\":0,\"fHistFillColor\":0,\"fHistLineColor\":602,\"fHistFillStyle\":1001,\"fHistLineStyle\":1,\"fHistLineWidth\":1,\"fHistMinimumZero\":false,\"fHistTopMargin\":0.05,\"fCanvasPreferGL\":false,\"fCanvasColor\":0,\"fCanvasBorderSize\":2,\"fCanvasBorderMode\":0,\"fCanvasDefH\":500,\"fCanvasDefW\":700,\"fCanvasDefX\":10,\"fCanvasDefY\":10,\"fPadColor\":0,\"fPadBorderSize\":2,\"fPadBorderMode\":0,\"fPadBottomMargin\":0.1,\"fPadTopMargin\":0.1,\"fPadLeftMargin\":0.1,\"fPadRightMargin\":0.1,\"fPadGridX\":false,\"fPadGridY\":false,\"fPadTickX\":0,\"fPadTickY\":0,\"fPaperSizeX\":20,\"fPaperSizeY\":26,\"fScreenFactor\":1,\"fStatColor\":0,\"fStatTextColor\":1,\"fStatBorderSize\":1,\"fStatFont\":42,\"fStatFontSize\":0,\"fStatStyle\":1001,\"fStatFormat\":\"6.4g\",\"fStatX\":0.98,\"fStatY\":0.935,\"fStatW\":0.2,\"fStatH\":0.16,\"fStripDecimals\":true,\"fTitleAlign\":23,\"fTitleColor\":0,\"fTitleTextColor\":1,\"fTitleBorderSize\":0,\"fTitleFont\":42,\"fTitleFontSize\":0.05,\"fTitleStyle\":0,\"fTitleX\":0.5,\"fTitleY\":0.995,\"fTitleW\":0,\"fTitleH\":0,\"fLegoInnerR\":0.5,\"fLineStyles\":[\"\",\"  \",\" 12 12\",\" 4 8\",\" 12 16 4 16\",\" 20 12 4 12\",\" 20 12 4 12 4 12 4 12\",\" 20 20\",\" 20 12 4 12 4 12\",\" 80 20\",\" 80 40 4 40\",\"  \",\"  \",\"  \",\"  \",\"  \",\"  \",\"  \",\"  \",\"  \",\"  \",\"  \",\"  \",\"  \",\"  \",\"  \",\"  \",\"  \",\"  \",\"  \"],\"fHeaderPS\":\"\",\"fTitlePS\":\"\",\"fFitFormat\":\"5.4g\",\"fPaintTextFormat\":\"g\",\"fLineScalePS\":3,\"fJoinLinePS\":0,\"fCapLinePS\":0,\"fTimeOffset\":788918400,\"fImageScaling\":1}],\"opt\":[\"\",\"\",\"blNDC\",\"\"]},\"fExecs\":null,\"fName\":\"c1_n2\",\"fTitle\":\"c1_n2\",\"fNumPaletteColor\":0,\"fNextPaletteColor\":0,\"fDISPLAY\":\"$DISPLAY\",\"fDoubleBuffer\":0,\"fRetained\":true,\"fXsizeUser\":0,\"fYsizeUser\":0,\"fXsizeReal\":20,\"fYsizeReal\":14.28571,\"fWindowTopX\":0,\"fWindowTopY\":0,\"fWindowWidth\":0,\"fWindowHeight\":0,\"fCw\":696,\"fCh\":472,\"fCatt\":{\"_typename\":\"TAttCanvas\",\"fXBetween\":2,\"fYBetween\":2,\"fTitleFromTop\":1.2,\"fXdate\":0.2,\"fYdate\":0.3,\"fAdate\":1},\"kMoveOpaque\":true,\"kResizeOpaque\":true,\"fHighLightColor\":2,\"fBatch\":true,\"kShowEventStatus\":false,\"kAutoExec\":true,\"kMenuBar\":true});\n",
       "   Core.settings.HandleKeys = false;\n",
       "   Core.draw(\"root_plot_1689756690819\", obj, \"\");\n",
       "}\n",
       "\n",
       "function script_load_root_plot_1689756690819(src, on_error) {\n",
       "    let script = document.createElement('script');\n",
       "    script.src = src;\n",
       "    script.onload = function() { display_root_plot_1689756690819(JSROOT); };\n",
       "    script.onerror = function() { script.remove(); on_error(); };\n",
       "    document.head.appendChild(script);\n",
       "}\n",
       "\n",
       "if (typeof requirejs !== 'undefined') {\n",
       "\n",
       "    // We are in jupyter notebooks, use require.js which should be configured already\n",
       "    requirejs.config({\n",
       "       paths: { 'JSRootCore' : [ 'build/jsroot', 'https://root.cern/js/7.2.1/build/jsroot', 'https://jsroot.gsi.de/7.2.1/build/jsroot' ] }\n",
       "    })(['JSRootCore'],  function(Core) {\n",
       "       display_root_plot_1689756690819(Core);\n",
       "    });\n",
       "\n",
       "} else if (typeof JSROOT !== 'undefined') {\n",
       "\n",
       "   // JSROOT already loaded, just use it\n",
       "   display_root_plot_1689756690819(JSROOT);\n",
       "\n",
       "} else {\n",
       "\n",
       "    // We are in jupyterlab without require.js, directly loading jsroot\n",
       "    // Jupyterlab might be installed in a different base_url so we need to know it.\n",
       "    try {\n",
       "        var base_url = JSON.parse(document.getElementById('jupyter-config-data').innerHTML).baseUrl;\n",
       "    } catch(_) {\n",
       "        var base_url = '/';\n",
       "    }\n",
       "\n",
       "    // Try loading a local version of requirejs and fallback to cdn if not possible.\n",
       "    script_load_root_plot_1689756690819(base_url + 'static/build/jsroot.js', function(){\n",
       "        console.error('Fail to load JSROOT locally, please check your jupyter_notebook_config.py file');\n",
       "        script_load_root_plot_1689756690819('https://root.cern/js/7.2.1/build/jsroot.js', function(){\n",
       "            document.getElementById(\"root_plot_1689756690819\").innerHTML = \"Failed to load JSROOT\";\n",
       "        });\n",
       "    });\n",
       "}\n",
       "\n",
       "</script>\n"
      ],
      "text/plain": [
       "<IPython.core.display.HTML object>"
      ]
     },
     "metadata": {},
     "output_type": "display_data"
    }
   ],
   "source": [
    "%jsroot\n",
    "h3.Draw()   # <--- This is the line that computes everything.\n",
    "c1.Draw()"
   ]
  },
  {
   "cell_type": "code",
   "execution_count": 30,
   "id": "18bd43d9-41c5-46d3-a970-76e029483659",
   "metadata": {},
   "outputs": [
    {
     "name": "stdout",
     "output_type": "stream",
     "text": [
      "Electron_charge\n",
      "Electron_dxy\n",
      "Electron_dxyErr\n",
      "Electron_dz\n",
      "Electron_dzErr\n",
      "Electron_eta\n",
      "Electron_mass\n",
      "Electron_pfRelIso03_all\n",
      "Electron_phi\n",
      "Electron_pt\n",
      "MET_phi\n",
      "MET_pt\n",
      "Muon_charge\n",
      "Muon_dxy\n",
      "Muon_dxyErr\n",
      "Muon_dz\n",
      "Muon_dzErr\n",
      "Muon_eta\n",
      "Muon_mass\n",
      "Muon_pfRelIso03_all\n",
      "Muon_pfRelIso04_all\n",
      "Muon_phi\n",
      "Muon_pt\n",
      "PV_npvs\n",
      "PV_x\n",
      "PV_y\n",
      "PV_z\n",
      "event\n",
      "luminosityBlock\n",
      "nElectron\n",
      "nMuon\n",
      "run\n"
     ]
    }
   ],
   "source": [
    "for x in df.GetColumnNames():\n",
    "    print(x)"
   ]
  },
  {
   "cell_type": "code",
   "execution_count": 31,
   "id": "fbf8f660-3d9d-48ef-ac5f-80c056388288",
   "metadata": {},
   "outputs": [
    {
     "name": "stdout",
     "output_type": "stream",
     "text": [
      "DiElectron_mass\n",
      "Electron_charge\n",
      "Electron_dxy\n",
      "Electron_dxyErr\n",
      "Electron_dz\n",
      "Electron_dzErr\n",
      "Electron_eta\n",
      "Electron_mass\n",
      "Electron_pfRelIso03_all\n",
      "Electron_phi\n",
      "Electron_pt\n",
      "MET_phi\n",
      "MET_pt\n",
      "Muon_charge\n",
      "Muon_dxy\n",
      "Muon_dxyErr\n",
      "Muon_dz\n",
      "Muon_dzErr\n",
      "Muon_eta\n",
      "Muon_mass\n",
      "Muon_pfRelIso03_all\n",
      "Muon_pfRelIso04_all\n",
      "Muon_phi\n",
      "Muon_pt\n",
      "PV_npvs\n",
      "PV_x\n",
      "PV_y\n",
      "PV_z\n",
      "event\n",
      "luminosityBlock\n",
      "nElectron\n",
      "nMuon\n",
      "run\n"
     ]
    }
   ],
   "source": [
    "for x in df_mass.GetColumnNames():\n",
    "    print(x)"
   ]
  },
  {
   "cell_type": "code",
   "execution_count": 32,
   "id": "f05a8d48-feb2-42b7-b33d-ff51a4d6d337",
   "metadata": {},
   "outputs": [
    {
     "name": "stdout",
     "output_type": "stream",
     "text": [
      "DiElectron_mass\n"
     ]
    }
   ],
   "source": [
    "for x in df_mass.GetDefinedColumnNames():\n",
    "    print(x)"
   ]
  },
  {
   "cell_type": "markdown",
   "id": "ab68a626-e771-442a-bff4-ce529a25f0ea",
   "metadata": {},
   "source": [
    "## Uproot Operations"
   ]
  },
  {
   "cell_type": "markdown",
   "id": "7a6acfef-4776-4a03-94f4-ceec64d25689",
   "metadata": {},
   "source": [
    "### Navigating TDirectories"
   ]
  },
  {
   "cell_type": "code",
   "execution_count": 33,
   "id": "d573710f-1bf9-4f7e-8ced-57496ce139e0",
   "metadata": {},
   "outputs": [
    {
     "data": {
      "text/plain": [
       "<ReadOnlyDirectory '/' at 0x7f538143e620>"
      ]
     },
     "execution_count": 33,
     "metadata": {},
     "output_type": "execute_result"
    }
   ],
   "source": [
    "directory = ur.open(\"2022-08-01-uproot-awkward-columnar-hats/data/nesteddirs.root\") #imports as a TDirectory object\n",
    "directory"
   ]
  },
  {
   "cell_type": "code",
   "execution_count": 34,
   "id": "770ab6e1-69cc-4ab4-9df3-9412ab34decb",
   "metadata": {},
   "outputs": [
    {
     "data": {
      "text/plain": [
       "<ReadOnlyFile '2022-08-01-uproot-awkward-columnar-hats/data/nesteddirs.root' at 0x7f538145cc10>"
      ]
     },
     "execution_count": 34,
     "metadata": {},
     "output_type": "execute_result"
    }
   ],
   "source": [
    "file = directory.file #access the file\n",
    "file"
   ]
  },
  {
   "cell_type": "code",
   "execution_count": 35,
   "id": "2664c73b-0d00-4138-999f-8299f5444915",
   "metadata": {},
   "outputs": [
    {
     "data": {
      "text/plain": [
       "'2022-08-01-uproot-awkward-columnar-hats/data/nesteddirs.root'"
      ]
     },
     "execution_count": 35,
     "metadata": {},
     "output_type": "execute_result"
    }
   ],
   "source": [
    "file.file_path"
   ]
  },
  {
   "cell_type": "code",
   "execution_count": 36,
   "id": "18d01023-e990-4aa8-a02f-3cd4ee4e6faa",
   "metadata": {},
   "outputs": [
    {
     "data": {
      "text/plain": [
       "'6.08/04'"
      ]
     },
     "execution_count": 36,
     "metadata": {},
     "output_type": "execute_result"
    }
   ],
   "source": [
    "file.root_version #the root version with which the file was created?"
   ]
  },
  {
   "cell_type": "code",
   "execution_count": 37,
   "id": "26041ceb-3e5b-4d5d-88eb-06927807acf5",
   "metadata": {},
   "outputs": [
    {
     "data": {
      "text/plain": [
       "UUID('ac63575a-9ca4-11e7-9607-0100007fbeef')"
      ]
     },
     "execution_count": 37,
     "metadata": {},
     "output_type": "execute_result"
    }
   ],
   "source": [
    "file.uuid #unique id of the file"
   ]
  },
  {
   "cell_type": "code",
   "execution_count": 38,
   "id": "d848f35e-2e8d-4e97-90e5-80658418f02e",
   "metadata": {},
   "outputs": [
    {
     "data": {
      "text/plain": [
       "['__class__',\n",
       " '__delattr__',\n",
       " '__dict__',\n",
       " '__dir__',\n",
       " '__doc__',\n",
       " '__enter__',\n",
       " '__eq__',\n",
       " '__exit__',\n",
       " '__format__',\n",
       " '__ge__',\n",
       " '__getattribute__',\n",
       " '__gt__',\n",
       " '__hash__',\n",
       " '__init__',\n",
       " '__init_subclass__',\n",
       " '__le__',\n",
       " '__lt__',\n",
       " '__module__',\n",
       " '__ne__',\n",
       " '__new__',\n",
       " '__reduce__',\n",
       " '__reduce_ex__',\n",
       " '__repr__',\n",
       " '__setattr__',\n",
       " '__sizeof__',\n",
       " '__str__',\n",
       " '__subclasshook__',\n",
       " '__weakref__',\n",
       " '_array_cache',\n",
       " '_begin_chunk',\n",
       " '_custom_classes',\n",
       " '_decompression_executor',\n",
       " '_fBEGIN',\n",
       " '_fCompress',\n",
       " '_fEND',\n",
       " '_fNbytesFree',\n",
       " '_fNbytesInfo',\n",
       " '_fNbytesName',\n",
       " '_fSeekFree',\n",
       " '_fSeekInfo',\n",
       " '_fUUID',\n",
       " '_fUUID_version',\n",
       " '_fUnits',\n",
       " '_fVersion',\n",
       " '_file_path',\n",
       " '_interpretation_executor',\n",
       " '_nfree',\n",
       " '_object_cache',\n",
       " '_options',\n",
       " '_source',\n",
       " '_streamer_rules',\n",
       " '_streamers',\n",
       " 'array_cache',\n",
       " 'begin_chunk',\n",
       " 'chunk',\n",
       " 'class_named',\n",
       " 'close',\n",
       " 'closed',\n",
       " 'compression',\n",
       " 'custom_classes',\n",
       " 'decompression_executor',\n",
       " 'detached',\n",
       " 'fBEGIN',\n",
       " 'fCompress',\n",
       " 'fEND',\n",
       " 'fNbytesFree',\n",
       " 'fNbytesInfo',\n",
       " 'fNbytesName',\n",
       " 'fSeekFree',\n",
       " 'fSeekInfo',\n",
       " 'fUUID',\n",
       " 'fUnits',\n",
       " 'fVersion',\n",
       " 'file_path',\n",
       " 'hex_uuid',\n",
       " 'hook_after_interpret',\n",
       " 'hook_after_interpret_streamers',\n",
       " 'hook_before_create_source',\n",
       " 'hook_before_get_chunks',\n",
       " 'hook_before_interpret',\n",
       " 'hook_before_interpret_streamers',\n",
       " 'hook_before_read_decompress_streamers',\n",
       " 'hook_before_read_streamer_key',\n",
       " 'interpretation_executor',\n",
       " 'is_64bit',\n",
       " 'nfree',\n",
       " 'object_cache',\n",
       " 'options',\n",
       " 'remove_class_definition',\n",
       " 'root_directory',\n",
       " 'root_version',\n",
       " 'root_version_tuple',\n",
       " 'show_streamers',\n",
       " 'source',\n",
       " 'streamer_dependencies',\n",
       " 'streamer_named',\n",
       " 'streamer_rules',\n",
       " 'streamers',\n",
       " 'streamers_named',\n",
       " 'uuid']"
      ]
     },
     "execution_count": 38,
     "metadata": {},
     "output_type": "execute_result"
    }
   ],
   "source": [
    "dir(file)"
   ]
  },
  {
   "cell_type": "markdown",
   "id": "e13eac1d-63ad-474b-82ae-640fef781bdd",
   "metadata": {},
   "source": [
    "TDirectory acts like a python dictionary(or mapping or hashmap) and hence has items, keys and value"
   ]
  },
  {
   "cell_type": "code",
   "execution_count": 39,
   "id": "bbabc988-b4a2-46dc-911d-b02bb930db62",
   "metadata": {},
   "outputs": [
    {
     "data": {
      "text/plain": [
       "\u001b[0;31mSignature:\u001b[0m\n",
       "\u001b[0mdirectory\u001b[0m\u001b[0;34m.\u001b[0m\u001b[0mkeys\u001b[0m\u001b[0;34m(\u001b[0m\u001b[0;34m\u001b[0m\n",
       "\u001b[0;34m\u001b[0m    \u001b[0mrecursive\u001b[0m\u001b[0;34m=\u001b[0m\u001b[0;32mTrue\u001b[0m\u001b[0;34m,\u001b[0m\u001b[0;34m\u001b[0m\n",
       "\u001b[0;34m\u001b[0m    \u001b[0mcycle\u001b[0m\u001b[0;34m=\u001b[0m\u001b[0;32mTrue\u001b[0m\u001b[0;34m,\u001b[0m\u001b[0;34m\u001b[0m\n",
       "\u001b[0;34m\u001b[0m    \u001b[0mfilter_name\u001b[0m\u001b[0;34m=\u001b[0m\u001b[0;34m<\u001b[0m\u001b[0mfunction\u001b[0m \u001b[0mno_filter\u001b[0m \u001b[0mat\u001b[0m \u001b[0;36m0x7f540edf49d0\u001b[0m\u001b[0;34m>\u001b[0m\u001b[0;34m,\u001b[0m\u001b[0;34m\u001b[0m\n",
       "\u001b[0;34m\u001b[0m    \u001b[0mfilter_classname\u001b[0m\u001b[0;34m=\u001b[0m\u001b[0;34m<\u001b[0m\u001b[0mfunction\u001b[0m \u001b[0mno_filter\u001b[0m \u001b[0mat\u001b[0m \u001b[0;36m0x7f540edf49d0\u001b[0m\u001b[0;34m>\u001b[0m\u001b[0;34m,\u001b[0m\u001b[0;34m\u001b[0m\n",
       "\u001b[0;34m\u001b[0m\u001b[0;34m)\u001b[0m\u001b[0;34m\u001b[0m\u001b[0;34m\u001b[0m\u001b[0m\n",
       "\u001b[0;31mDocstring:\u001b[0m\n",
       "Args:\n",
       "    recursive (bool): If True, descend into any nested subdirectories.\n",
       "        If False, only return the names of objects directly accessible\n",
       "        in this ``TDirectory``.\n",
       "    cycle (bool): If True, include the cycle numbers in those names.\n",
       "    filter_name (None, glob string, regex string in ``\"/pattern/i\"`` syntax, function of str → bool, or iterable of the above): A\n",
       "        filter to select keys by name.\n",
       "    filter_classname (None, glob string, regex string in ``\"/pattern/i\"`` syntax, function of str → bool, or iterable of the above): A\n",
       "        filter to select keys by C++ (decoded) classname.\n",
       "\n",
       "Returns the names of the objects in this ``TDirectory`` as a list of\n",
       "strings.\n",
       "\n",
       "Note that this does not read any data from the file.\n",
       "\u001b[0;31mFile:\u001b[0m      ~/.local/lib/python3.10/site-packages/uproot/reading.py\n",
       "\u001b[0;31mType:\u001b[0m      method"
      ]
     },
     "metadata": {},
     "output_type": "display_data"
    }
   ],
   "source": [
    "?directory.keys"
   ]
  },
  {
   "cell_type": "code",
   "execution_count": 40,
   "id": "fdcb2656-39de-4d28-94ff-e1da2a1c5926",
   "metadata": {},
   "outputs": [
    {
     "data": {
      "text/plain": [
       "['one;1',\n",
       " 'one/two;1',\n",
       " 'one/two/tree;1',\n",
       " 'one/tree;1',\n",
       " 'three;1',\n",
       " 'three/tree;1']"
      ]
     },
     "execution_count": 40,
     "metadata": {},
     "output_type": "execute_result"
    }
   ],
   "source": [
    "directory.keys()"
   ]
  },
  {
   "cell_type": "markdown",
   "id": "8272f681-b5e9-43f7-90f7-77a34d416f6e",
   "metadata": {},
   "source": [
    "these 1s represent the iterative cycle numbers"
   ]
  },
  {
   "cell_type": "code",
   "execution_count": 41,
   "id": "2c51f4c0-698d-4d88-8576-526988d1719d",
   "metadata": {},
   "outputs": [
    {
     "data": {
      "text/plain": [
       "['one', 'one/two', 'one/two/tree', 'one/tree', 'three', 'three/tree']"
      ]
     },
     "execution_count": 41,
     "metadata": {},
     "output_type": "execute_result"
    }
   ],
   "source": [
    "directory.keys(cycle = False) #to suppress the cycle number"
   ]
  },
  {
   "cell_type": "code",
   "execution_count": 42,
   "id": "78a5d90b-217a-474c-9aad-c22a3605c9b2",
   "metadata": {},
   "outputs": [
    {
     "data": {
      "text/plain": [
       "<ReadOnlyDirectory '/one' at 0x7f538145e470>"
      ]
     },
     "execution_count": 42,
     "metadata": {},
     "output_type": "execute_result"
    }
   ],
   "source": [
    "directory[\"one\"]"
   ]
  },
  {
   "cell_type": "code",
   "execution_count": 43,
   "id": "242a8f61-2ec9-4db2-8826-121f3c7517a4",
   "metadata": {},
   "outputs": [
    {
     "data": {
      "text/plain": [
       "<ReadOnlyDirectory '/one/two' at 0x7f538145e1a0>"
      ]
     },
     "execution_count": 43,
     "metadata": {},
     "output_type": "execute_result"
    }
   ],
   "source": [
    "directory[\"one/two\"]"
   ]
  },
  {
   "cell_type": "code",
   "execution_count": 44,
   "id": "3668660c-4010-434f-adc7-0e87cb49b3d7",
   "metadata": {},
   "outputs": [
    {
     "data": {
      "text/plain": [
       "<TTree 'tree' (3 branches) at 0x7f538145efe0>"
      ]
     },
     "execution_count": 44,
     "metadata": {},
     "output_type": "execute_result"
    }
   ],
   "source": [
    "directory[\"one/tree\"]"
   ]
  },
  {
   "cell_type": "code",
   "execution_count": 45,
   "id": "ef27f02a-4957-4540-9cfa-5efebb69c081",
   "metadata": {},
   "outputs": [
    {
     "data": {
      "text/plain": [
       "<TTree 'tree' (20 branches) at 0x7f5381480d60>"
      ]
     },
     "execution_count": 45,
     "metadata": {},
     "output_type": "execute_result"
    }
   ],
   "source": [
    "directory[\"one/two/tree\"]"
   ]
  },
  {
   "cell_type": "code",
   "execution_count": 46,
   "id": "fc0647f3-2439-4645-bb64-36d753c8b680",
   "metadata": {},
   "outputs": [
    {
     "data": {
      "text/plain": [
       "<TTree 'tree' (20 branches) at 0x7f5381480d60>"
      ]
     },
     "execution_count": 46,
     "metadata": {},
     "output_type": "execute_result"
    }
   ],
   "source": [
    "directory[\"one\"][\"two\"][\"tree\"] #same as before"
   ]
  },
  {
   "cell_type": "code",
   "execution_count": 47,
   "id": "dd84503a-2070-4efa-b88c-5f782a6a605f",
   "metadata": {},
   "outputs": [
    {
     "data": {
      "text/plain": [
       "True"
      ]
     },
     "execution_count": 47,
     "metadata": {},
     "output_type": "execute_result"
    }
   ],
   "source": [
    "directory[\"one/two/tree\"] == directory[\"one\"][\"two\"][\"tree\"]"
   ]
  },
  {
   "cell_type": "code",
   "execution_count": 48,
   "id": "10b73038-add1-4aed-a775-679f86635e64",
   "metadata": {},
   "outputs": [
    {
     "data": {
      "text/plain": [
       "[<ReadOnlyDirectory '/one' at 0x7f538145e470>,\n",
       " <ReadOnlyDirectory '/one/two' at 0x7f538145e1a0>,\n",
       " <TTree 'tree' (20 branches) at 0x7f5381480d60>,\n",
       " <TTree 'tree' (3 branches) at 0x7f538145efe0>,\n",
       " <ReadOnlyDirectory '/three' at 0x7f538145e0b0>,\n",
       " <TTree 'tree' (1 branches) at 0x7f538145cd60>]"
      ]
     },
     "execution_count": 48,
     "metadata": {},
     "output_type": "execute_result"
    }
   ],
   "source": [
    "directory.values()"
   ]
  },
  {
   "cell_type": "code",
   "execution_count": 49,
   "id": "2d0fa34e-6cb3-4321-b65b-be4fb8b5a61d",
   "metadata": {},
   "outputs": [
    {
     "data": {
      "text/plain": [
       "[<ReadOnlyDirectory '/one' at 0x7f538145e470>,\n",
       " <ReadOnlyDirectory '/three' at 0x7f538145e0b0>]"
      ]
     },
     "execution_count": 49,
     "metadata": {},
     "output_type": "execute_result"
    }
   ],
   "source": [
    "directory.values(recursive = False) #prevents it from recursively looking into folders"
   ]
  },
  {
   "cell_type": "code",
   "execution_count": 50,
   "id": "a67fb225-2466-4d84-84a5-f05b0c3799aa",
   "metadata": {},
   "outputs": [
    {
     "data": {
      "text/plain": [
       "[('one;1', <ReadOnlyDirectory '/one' at 0x7f538145e470>),\n",
       " ('one/two;1', <ReadOnlyDirectory '/one/two' at 0x7f538145e1a0>),\n",
       " ('one/two/tree;1', <TTree 'tree' (20 branches) at 0x7f5381480d60>),\n",
       " ('one/tree;1', <TTree 'tree' (3 branches) at 0x7f538145efe0>),\n",
       " ('three;1', <ReadOnlyDirectory '/three' at 0x7f538145e0b0>),\n",
       " ('three/tree;1', <TTree 'tree' (1 branches) at 0x7f538145cd60>)]"
      ]
     },
     "execution_count": 50,
     "metadata": {},
     "output_type": "execute_result"
    }
   ],
   "source": [
    "directory.items() #creates tuple iterables (key,value)"
   ]
  },
  {
   "cell_type": "code",
   "execution_count": 51,
   "id": "00c86a3a-88f0-4a71-b84d-87c83391cae8",
   "metadata": {},
   "outputs": [
    {
     "data": {
      "text/plain": [
       "[('one;1', <ReadOnlyDirectory '/one' at 0x7f538145e470>),\n",
       " ('three;1', <ReadOnlyDirectory '/three' at 0x7f538145e0b0>)]"
      ]
     },
     "execution_count": 51,
     "metadata": {},
     "output_type": "execute_result"
    }
   ],
   "source": [
    "directory.items(recursive = False)"
   ]
  },
  {
   "cell_type": "code",
   "execution_count": 52,
   "id": "bd33c953-7ac1-49f7-b8c4-2b878056f830",
   "metadata": {},
   "outputs": [
    {
     "data": {
      "text/plain": [
       "{'one;1': 'TDirectory',\n",
       " 'one/two;1': 'TDirectory',\n",
       " 'one/two/tree;1': 'TTree',\n",
       " 'one/tree;1': 'TTree',\n",
       " 'three;1': 'TDirectory',\n",
       " 'three/tree;1': 'TTree'}"
      ]
     },
     "execution_count": 52,
     "metadata": {},
     "output_type": "execute_result"
    }
   ],
   "source": [
    "directory.classnames()"
   ]
  },
  {
   "cell_type": "code",
   "execution_count": 53,
   "id": "bd43cfc9-8cb2-4817-b460-4f9a429b3f3d",
   "metadata": {},
   "outputs": [
    {
     "data": {
      "text/plain": [
       "{'one;1': 'TDirectory', 'three;1': 'TDirectory'}"
      ]
     },
     "execution_count": 53,
     "metadata": {},
     "output_type": "execute_result"
    }
   ],
   "source": [
    "directory.classnames(recursive = False)"
   ]
  },
  {
   "cell_type": "code",
   "execution_count": 54,
   "id": "782bcbf5-cb62-4a41-bde1-2759dc85e9d3",
   "metadata": {},
   "outputs": [
    {
     "data": {
      "text/plain": [
       "['one/two/tree;1', 'one/tree;1', 'three/tree;1']"
      ]
     },
     "execution_count": 54,
     "metadata": {},
     "output_type": "execute_result"
    }
   ],
   "source": [
    "directory.keys(filter_classname= \"TTree\")"
   ]
  },
  {
   "cell_type": "code",
   "execution_count": 55,
   "id": "cc434786-014b-4a66-9cee-772c78a0a52a",
   "metadata": {},
   "outputs": [
    {
     "data": {
      "text/plain": [
       "['one/two/tree;1', 'one/tree;1', 'three/tree;1']"
      ]
     },
     "execution_count": 55,
     "metadata": {},
     "output_type": "execute_result"
    }
   ],
   "source": [
    "directory.keys(filter_classname= \"TT*\")"
   ]
  },
  {
   "cell_type": "code",
   "execution_count": 56,
   "id": "4d1e1008-3f87-4e0d-b92b-fab35014b994",
   "metadata": {},
   "outputs": [
    {
     "data": {
      "text/plain": [
       "['one/two/tree;1', 'one/tree;1', 'three/tree;1']"
      ]
     },
     "execution_count": 56,
     "metadata": {},
     "output_type": "execute_result"
    }
   ],
   "source": [
    "directory.keys(filter_classname= \"/TTree*/\")"
   ]
  },
  {
   "cell_type": "markdown",
   "id": "19d02306-40ef-4ab2-8197-7c20a8d85a86",
   "metadata": {},
   "source": [
    "### Generic Objects"
   ]
  },
  {
   "cell_type": "markdown",
   "id": "257c4413-fe33-44c5-bc0a-ceac87145410",
   "metadata": {},
   "source": [
    "- Uproot does not have specialized code to recognize all the ROOT Objects.\n",
    "- TStreamerInfo by root helps tho\n",
    "- TStreamerInfo is an object creator i guess"
   ]
  },
  {
   "cell_type": "code",
   "execution_count": 57,
   "id": "dd178c3a-70e8-4231-a2e9-163f7b2a62fc",
   "metadata": {},
   "outputs": [],
   "source": [
    "import ROOT as rt"
   ]
  },
  {
   "cell_type": "code",
   "execution_count": 58,
   "id": "6a6f51be-a2e6-43ee-98c0-ae1858474e8c",
   "metadata": {},
   "outputs": [
    {
     "data": {
      "text/plain": [
       "{'config': 'TDirectory',\n",
       " 'config/analysis': 'SN_Analysis_Configuration_t',\n",
       " 'config/detector': 'I3Eval_t',\n",
       " 'config/run': 'SN_File_t',\n",
       " 'sn_all': 'TTree',\n",
       " 'sn_gps': 'TTree',\n",
       " 'sn_range': 'TTree',\n",
       " 'sn_o2rout': 'TTree',\n",
       " 'sn_o2cand': 'TTree',\n",
       " 'sn_omwatch': 'TTree',\n",
       " 'sn_sigsim': 'TTree'}"
      ]
     },
     "execution_count": 58,
     "metadata": {},
     "output_type": "execute_result"
    }
   ],
   "source": [
    "directory = ur.open(\"2022-08-01-uproot-awkward-columnar-hats/data/icecube-supernovae.root\")\n",
    "directory.classnames(cycle=False)"
   ]
  },
  {
   "cell_type": "markdown",
   "id": "3d2a2611-100e-4d75-bfb5-82a30f6298ed",
   "metadata": {},
   "source": [
    "The classes `SN_Analysis_Configuration_t`, `I3Eval_t`, `SN_File_t` were generated from the [TStreamerInfo](https://uproot.readthedocs.io/en/latest/uproot.streamers.Model_TStreamerInfo.html)."
   ]
  },
  {
   "cell_type": "code",
   "execution_count": 59,
   "id": "3055c842-518b-4a27-98ff-d6be2bd081cd",
   "metadata": {},
   "outputs": [],
   "source": [
    "directory.streamer_of(\"config\")"
   ]
  },
  {
   "cell_type": "code",
   "execution_count": 60,
   "id": "b327198c-69b8-4043-a51d-8c2531d196d8",
   "metadata": {},
   "outputs": [
    {
     "data": {
      "text/plain": [
       "<TStreamerInfo for I3Eval_t version 7 at 0x7f5380991210>"
      ]
     },
     "execution_count": 60,
     "metadata": {},
     "output_type": "execute_result"
    }
   ],
   "source": [
    "directory.streamer_of(\"config/detector\")"
   ]
  },
  {
   "cell_type": "code",
   "execution_count": 61,
   "id": "5f918e26-dbe6-4f22-bbd0-b11b4db668e7",
   "metadata": {},
   "outputs": [
    {
     "name": "stdout",
     "output_type": "stream",
     "text": [
      "I3Eval_t::ChannelContainer_t (v1)\n",
      "\n",
      "Sni3DataArray (v1)\n",
      "\n",
      "TObject (v1)\n",
      "    fUniqueID: unsigned int (TStreamerBasicType)\n",
      "    fBits: unsigned int (TStreamerBasicType)\n",
      "\n",
      "I3Eval_t (v7): TObject (v1)\n",
      "    theDataArray: Sni3DataArray* (TStreamerObjectAnyPointer)\n",
      "    NumberOfChannels: int (TStreamerBasicType)\n",
      "    NoAvailableSlices: int (TStreamerBasicType)\n",
      "    AvailableDataSize: int (TStreamerBasicType)\n",
      "    mGPSCardId: int (TStreamerBasicType)\n",
      "    mGPSPrescale: int (TStreamerBasicType)\n",
      "    mGPSEventNo: int (TStreamerBasicType)\n",
      "    mScalerCardId: int (TStreamerBasicType)\n",
      "    mScalerStartChannel: int (TStreamerBasicType)\n",
      "    StartUTC: long (TStreamerBasicType)\n",
      "    MaxChannels: int (TStreamerBasicType)\n",
      "    mMaxJitterLogs: int (TStreamerBasicType)\n",
      "    Channel: I3Eval_t::ChannelContainer_t* (TStreamerObjectAnyPointer)\n",
      "    ChannelIDMap: map<long,int> (TStreamerSTL)\n",
      "    BadChannelIDSet: set<long> (TStreamerSTL)\n",
      "    ChannelID: long* (TStreamerBasicPointer)\n",
      "    Deadtime: double* (TStreamerBasicPointer)\n",
      "    Efficiency: double* (TStreamerBasicPointer)\n"
     ]
    }
   ],
   "source": [
    "directory.file.show_streamers(\"I3Eval_t\")"
   ]
  },
  {
   "cell_type": "markdown",
   "id": "1a16704d-f01d-42e5-ae53-33ebd041b07e",
   "metadata": {},
   "source": [
    "I3Eval\\_t inherits from the TObject"
   ]
  },
  {
   "cell_type": "code",
   "execution_count": 62,
   "id": "666e9269-323a-4aff-9ec6-4a52f6be9f8d",
   "metadata": {},
   "outputs": [
    {
     "data": {
      "text/plain": [
       "<I3Eval_t (version 7) at 0x7f5380d20460>"
      ]
     },
     "execution_count": 62,
     "metadata": {},
     "output_type": "execute_result"
    }
   ],
   "source": [
    "directory[\"config/detector\"] #gives back that TStreamer object"
   ]
  },
  {
   "cell_type": "code",
   "execution_count": 63,
   "id": "2dc62dbe-226f-45e8-b84b-69b1b8411bca",
   "metadata": {},
   "outputs": [
    {
     "data": {
      "text/plain": [
       "{'@fUniqueID': 0,\n",
       " '@fBits': 50397184,\n",
       " 'fName': 'I3Eval_t',\n",
       " 'fTitle': '',\n",
       " 'fCheckSum': 4126722793,\n",
       " 'fClassVersion': 7,\n",
       " 'fElements': <TObjArray of 19 items at 0x7f53809a40a0>}"
      ]
     },
     "execution_count": 63,
     "metadata": {},
     "output_type": "execute_result"
    }
   ],
   "source": [
    "directory.streamer_of(\"config/detector\").all_members"
   ]
  },
  {
   "cell_type": "markdown",
   "id": "2354b73f-0a89-46cc-86e0-425acb84524b",
   "metadata": {},
   "source": [
    "Getting the methods and members of TStreamer object is a bit more verbose than the normal"
   ]
  },
  {
   "cell_type": "code",
   "execution_count": 64,
   "id": "8b9e11a5-d836-4ed6-a63c-bf131291c44b",
   "metadata": {},
   "outputs": [
    {
     "data": {
      "text/plain": [
       "<TObjArray of 19 items at 0x7f53809a40a0>"
      ]
     },
     "execution_count": 64,
     "metadata": {},
     "output_type": "execute_result"
    }
   ],
   "source": [
    "directory.streamer_of(\"config/detector\").member(\"fElements\") #use the member method to access the defined attributes and methods"
   ]
  },
  {
   "cell_type": "code",
   "execution_count": 65,
   "id": "884f5409-a472-42cc-b1dd-baf5c4c43e97",
   "metadata": {},
   "outputs": [
    {
     "data": {
      "text/plain": [
       "7"
      ]
     },
     "execution_count": 65,
     "metadata": {},
     "output_type": "execute_result"
    }
   ],
   "source": [
    "directory.streamer_of(\"config/detector\").member(\"fClassVersion\")"
   ]
  },
  {
   "cell_type": "markdown",
   "id": "11082de0-2ae8-4e1c-8068-1d74e910088a",
   "metadata": {},
   "source": [
    "- member seems to be a dictionary with keys as name of attributes which could be accessed by all_members method\n",
    "- values are the actual function and data objects stored"
   ]
  },
  {
   "cell_type": "code",
   "execution_count": 66,
   "id": "b20e61be-8d6d-4105-8d47-c531ab63b81c",
   "metadata": {},
   "outputs": [
    {
     "data": {
      "text/plain": [
       "array([250., 250., 250., ..., 250., 250., 250.])"
      ]
     },
     "execution_count": 66,
     "metadata": {},
     "output_type": "execute_result"
    }
   ],
   "source": [
    "directory[\"config/detector\"].member(\"Deadtime\") #access the variables of the object"
   ]
  },
  {
   "cell_type": "markdown",
   "id": "a26ba710-ddcf-4473-b4e1-dabe5b1d0052",
   "metadata": {},
   "source": [
    "### Histograms and Graph"
   ]
  },
  {
   "cell_type": "markdown",
   "id": "9772e420-b100-4b4e-80a5-975b7e99fd26",
   "metadata": {},
   "source": [
    "Normally, you'd convert\n",
    "\n",
    "   * [to_numpy](https://uproot.readthedocs.io/en/latest/uproot.behaviors.TH1.TH1.html#to-numpy): tuple of arrays (values and edges)\n",
    "   * [to_boost](https://uproot.readthedocs.io/en/latest/uproot.behaviors.TH1.TH1.html#to-boost): `boost_histogram` object\n",
    "   * [to_hist](https://uproot.readthedocs.io/en/latest/uproot.behaviors.TH1.TH1.html#to-hist): `hist` object (more fully featured subclass of `boost_histogram`)"
   ]
  },
  {
   "cell_type": "code",
   "execution_count": 67,
   "id": "464fa57c-0f76-48e7-8fb7-2f529beb7f73",
   "metadata": {},
   "outputs": [
    {
     "data": {
      "text/plain": [
       "{'hpx': 'TH1F', 'hpxpy': 'TH2F', 'hprof': 'TProfile', 'ntuple': 'TNtuple'}"
      ]
     },
     "execution_count": 67,
     "metadata": {},
     "output_type": "execute_result"
    }
   ],
   "source": [
    "directory = ur.open(\"2022-08-01-uproot-awkward-columnar-hats/data/hepdata-example.root\")\n",
    "directory.classnames(cycle = False)"
   ]
  },
  {
   "cell_type": "code",
   "execution_count": 68,
   "id": "06793633-13df-4ad6-9e50-21ea1ec224a4",
   "metadata": {},
   "outputs": [
    {
     "data": {
      "text/plain": [
       "<TH1F (version 1) at 0x7f5380917f10>"
      ]
     },
     "execution_count": 68,
     "metadata": {},
     "output_type": "execute_result"
    }
   ],
   "source": [
    "directory[\"hpx\"]"
   ]
  },
  {
   "cell_type": "code",
   "execution_count": 69,
   "id": "3ef6ac6a-85ce-42ca-bc70-b9e777537139",
   "metadata": {},
   "outputs": [
    {
     "data": {
      "text/plain": [
       "(array([2.000e+00, 3.000e+00, 1.000e+00, 1.000e+00, 2.000e+00, 4.000e+00,\n",
       "        6.000e+00, 1.200e+01, 8.000e+00, 9.000e+00, 1.500e+01, 1.500e+01,\n",
       "        3.100e+01, 3.500e+01, 4.000e+01, 6.400e+01, 6.400e+01, 8.100e+01,\n",
       "        1.080e+02, 1.240e+02, 1.560e+02, 1.650e+02, 2.090e+02, 2.620e+02,\n",
       "        2.970e+02, 3.920e+02, 4.320e+02, 4.660e+02, 5.210e+02, 6.040e+02,\n",
       "        6.570e+02, 7.880e+02, 9.030e+02, 1.079e+03, 1.135e+03, 1.160e+03,\n",
       "        1.383e+03, 1.458e+03, 1.612e+03, 1.770e+03, 1.868e+03, 1.861e+03,\n",
       "        1.946e+03, 2.114e+03, 2.175e+03, 2.207e+03, 2.273e+03, 2.276e+03,\n",
       "        2.329e+03, 2.325e+03, 2.381e+03, 2.417e+03, 2.364e+03, 2.284e+03,\n",
       "        2.188e+03, 2.164e+03, 2.130e+03, 1.940e+03, 1.859e+03, 1.763e+03,\n",
       "        1.700e+03, 1.611e+03, 1.459e+03, 1.390e+03, 1.237e+03, 1.083e+03,\n",
       "        1.046e+03, 8.880e+02, 7.520e+02, 7.420e+02, 6.730e+02, 5.550e+02,\n",
       "        5.330e+02, 3.660e+02, 3.780e+02, 2.720e+02, 2.560e+02, 2.000e+02,\n",
       "        1.740e+02, 1.320e+02, 1.180e+02, 1.000e+02, 8.900e+01, 8.600e+01,\n",
       "        3.900e+01, 3.700e+01, 2.500e+01, 2.300e+01, 2.000e+01, 1.600e+01,\n",
       "        1.400e+01, 9.000e+00, 1.300e+01, 8.000e+00, 2.000e+00, 2.000e+00,\n",
       "        6.000e+00, 1.000e+00, 0.000e+00, 1.000e+00], dtype=float32),\n",
       " array([-4.  , -3.92, -3.84, -3.76, -3.68, -3.6 , -3.52, -3.44, -3.36,\n",
       "        -3.28, -3.2 , -3.12, -3.04, -2.96, -2.88, -2.8 , -2.72, -2.64,\n",
       "        -2.56, -2.48, -2.4 , -2.32, -2.24, -2.16, -2.08, -2.  , -1.92,\n",
       "        -1.84, -1.76, -1.68, -1.6 , -1.52, -1.44, -1.36, -1.28, -1.2 ,\n",
       "        -1.12, -1.04, -0.96, -0.88, -0.8 , -0.72, -0.64, -0.56, -0.48,\n",
       "        -0.4 , -0.32, -0.24, -0.16, -0.08,  0.  ,  0.08,  0.16,  0.24,\n",
       "         0.32,  0.4 ,  0.48,  0.56,  0.64,  0.72,  0.8 ,  0.88,  0.96,\n",
       "         1.04,  1.12,  1.2 ,  1.28,  1.36,  1.44,  1.52,  1.6 ,  1.68,\n",
       "         1.76,  1.84,  1.92,  2.  ,  2.08,  2.16,  2.24,  2.32,  2.4 ,\n",
       "         2.48,  2.56,  2.64,  2.72,  2.8 ,  2.88,  2.96,  3.04,  3.12,\n",
       "         3.2 ,  3.28,  3.36,  3.44,  3.52,  3.6 ,  3.68,  3.76,  3.84,\n",
       "         3.92,  4.  ]))"
      ]
     },
     "execution_count": 69,
     "metadata": {},
     "output_type": "execute_result"
    }
   ],
   "source": [
    "hist1 = directory[\"hpx\"].to_numpy()\n",
    "hist1"
   ]
  },
  {
   "cell_type": "code",
   "execution_count": 70,
   "id": "84df95bc-ec1b-41cf-903e-c23d70d8dcac",
   "metadata": {},
   "outputs": [
    {
     "name": "stdout",
     "output_type": "stream",
     "text": [
      "[2.000e+00 3.000e+00 1.000e+00 1.000e+00 2.000e+00 4.000e+00 6.000e+00\n",
      " 1.200e+01 8.000e+00 9.000e+00 1.500e+01 1.500e+01 3.100e+01 3.500e+01\n",
      " 4.000e+01 6.400e+01 6.400e+01 8.100e+01 1.080e+02 1.240e+02 1.560e+02\n",
      " 1.650e+02 2.090e+02 2.620e+02 2.970e+02 3.920e+02 4.320e+02 4.660e+02\n",
      " 5.210e+02 6.040e+02 6.570e+02 7.880e+02 9.030e+02 1.079e+03 1.135e+03\n",
      " 1.160e+03 1.383e+03 1.458e+03 1.612e+03 1.770e+03 1.868e+03 1.861e+03\n",
      " 1.946e+03 2.114e+03 2.175e+03 2.207e+03 2.273e+03 2.276e+03 2.329e+03\n",
      " 2.325e+03 2.381e+03 2.417e+03 2.364e+03 2.284e+03 2.188e+03 2.164e+03\n",
      " 2.130e+03 1.940e+03 1.859e+03 1.763e+03 1.700e+03 1.611e+03 1.459e+03\n",
      " 1.390e+03 1.237e+03 1.083e+03 1.046e+03 8.880e+02 7.520e+02 7.420e+02\n",
      " 6.730e+02 5.550e+02 5.330e+02 3.660e+02 3.780e+02 2.720e+02 2.560e+02\n",
      " 2.000e+02 1.740e+02 1.320e+02 1.180e+02 1.000e+02 8.900e+01 8.600e+01\n",
      " 3.900e+01 3.700e+01 2.500e+01 2.300e+01 2.000e+01 1.600e+01 1.400e+01\n",
      " 9.000e+00 1.300e+01 8.000e+00 2.000e+00 2.000e+00 6.000e+00 1.000e+00\n",
      " 0.000e+00 1.000e+00]\n",
      "[-4.   -3.92 -3.84 -3.76 -3.68 -3.6  -3.52 -3.44 -3.36 -3.28 -3.2  -3.12\n",
      " -3.04 -2.96 -2.88 -2.8  -2.72 -2.64 -2.56 -2.48 -2.4  -2.32 -2.24 -2.16\n",
      " -2.08 -2.   -1.92 -1.84 -1.76 -1.68 -1.6  -1.52 -1.44 -1.36 -1.28 -1.2\n",
      " -1.12 -1.04 -0.96 -0.88 -0.8  -0.72 -0.64 -0.56 -0.48 -0.4  -0.32 -0.24\n",
      " -0.16 -0.08  0.    0.08  0.16  0.24  0.32  0.4   0.48  0.56  0.64  0.72\n",
      "  0.8   0.88  0.96  1.04  1.12  1.2   1.28  1.36  1.44  1.52  1.6   1.68\n",
      "  1.76  1.84  1.92  2.    2.08  2.16  2.24  2.32  2.4   2.48  2.56  2.64\n",
      "  2.72  2.8   2.88  2.96  3.04  3.12  3.2   3.28  3.36  3.44  3.52  3.6\n",
      "  3.68  3.76  3.84  3.92  4.  ]\n"
     ]
    },
    {
     "data": {
      "text/plain": [
       "[<matplotlib.lines.Line2D at 0x7f5380928580>]"
      ]
     },
     "execution_count": 70,
     "metadata": {},
     "output_type": "execute_result"
    },
    {
     "data": {
      "image/png": "[encoded data removed]",
      "text/plain": [
       "<Figure size 640x480 with 1 Axes>"
      ]
     },
     "metadata": {},
     "output_type": "display_data"
    }
   ],
   "source": [
    "a, b = hist1\n",
    "print(a)\n",
    "print(b)\n",
    "plt.plot(b[:-1],a)"
   ]
  },
  {
   "cell_type": "code",
   "execution_count": 71,
   "id": "a1e478fd-fb9c-40f3-9b83-e8f5bc31c81f",
   "metadata": {},
   "outputs": [
    {
     "data": {
      "text/html": [
       "<html>\n",
       "<div style=\"display:flex; align-items:center;\">\n",
       "<div style=\"width:290px;\">\n",
       "<svg xmlns=\"http://www.w3.org/2000/svg\" viewBox=\"-10 -105 270 120\">\n",
       "<line x1=\"-5\" y1=\"0\" x2=\"255\" y2=\"0\" style=\"fill:none;stroke-width:2;stroke:currentColor\"/>\n",
       "<text text-anchor=\"middle\" x=\"0\" y=\"15\" style=\"fill:currentColor;\">\n",
       "-4\n",
       "</text>\n",
       "<text text-anchor=\"middle\" x=\"250\" y=\"15\" style=\"fill:currentColor;\">\n",
       "4\n",
       "</text>\n",
       "<text text-anchor=\"middle\" x=\"125.0\" y=\"15\" style=\"fill:currentColor;\">\n",
       "xaxis\n",
       "</text>\n",
       "<polyline points=\"  0,0   0,-0.0827 2.5,-0.0827 2.5,-0.124   5,-0.124   5,-0.0414 7.5,-0.0414 7.5,-0.0414  10,-0.0414  10,-0.0827 12.5,-0.0827 12.5,-0.165  15,-0.165  15,-0.248 17.5,-0.248 17.5,-0.496  20,-0.496  20,-0.331 22.5,-0.331 22.5,-0.372  25,-0.372  25,-0.621 27.5,-0.621 27.5,-0.621  30,-0.621  30,-1.28 32.5,-1.28 32.5,-1.45  35,-1.45  35,-1.65 37.5,-1.65 37.5,-2.65  40,-2.65  40,-2.65 42.5,-2.65 42.5,-3.35  45,-3.35  45,-4.47 47.5,-4.47 47.5,-5.13  50,-5.13  50,-6.45 52.5,-6.45 52.5,-6.83  55,-6.83  55,-8.65 57.5,-8.65 57.5,-10.8  60,-10.8  60,-12.3 62.5,-12.3 62.5,-16.2  65,-16.2  65,-17.9 67.5,-17.9 67.5,-19.3  70,-19.3  70,-21.6 72.5,-21.6 72.5,-25  75,-25  75,-27.2 77.5,-27.2 77.5,-32.6  80,-32.6  80,-37.4 82.5,-37.4 82.5,-44.6  85,-44.6  85,-47 87.5,-47 87.5,-48  90,-48  90,-57.2 92.5,-57.2 92.5,-60.3  95,-60.3  95,-66.7 97.5,-66.7 97.5,-73.2 100,-73.2 100,-77.3 102.5,-77.3 102.5,-77 105,-77 105,-80.5 107.5,-80.5 107.5,-87.5 110,-87.5 110,-90 112.5,-90 112.5,-91.3 115,-91.3 115,-94 117.5,-94 117.5,-94.2 120,-94.2 120,-96.4 122.5,-96.4 122.5,-96.2 125,-96.2 125,-98.5 127.5,-98.5 127.5,-100 130,-100 130,-97.8 132.5,-97.8 132.5,-94.5 135,-94.5 135,-90.5 137.5,-90.5 137.5,-89.5 140,-89.5 140,-88.1 142.5,-88.1 142.5,-80.3 145,-80.3 145,-76.9 147.5,-76.9 147.5,-72.9 150,-72.9 150,-70.3 152.5,-70.3 152.5,-66.7 155,-66.7 155,-60.4 157.5,-60.4 157.5,-57.5 160,-57.5 160,-51.2 162.5,-51.2 162.5,-44.8 165,-44.8 165,-43.3 167.5,-43.3 167.5,-36.7 170,-36.7 170,-31.1 172.5,-31.1 172.5,-30.7 175,-30.7 175,-27.8 177.5,-27.8 177.5,-23 180,-23 180,-22.1 182.5,-22.1 182.5,-15.1 185,-15.1 185,-15.6 187.5,-15.6 187.5,-11.3 190,-11.3 190,-10.6 192.5,-10.6 192.5,-8.27 195,-8.27 195,-7.2 197.5,-7.2 197.5,-5.46 200,-5.46 200,-4.88 202.5,-4.88 202.5,-4.14 205,-4.14 205,-3.68 207.5,-3.68 207.5,-3.56 210,-3.56 210,-1.61 212.5,-1.61 212.5,-1.53 215,-1.53 215,-1.03 217.5,-1.03 217.5,-0.952 220,-0.952 220,-0.827 222.5,-0.827 222.5,-0.662 225,-0.662 225,-0.579 227.5,-0.579 227.5,-0.372 230,-0.372 230,-0.538 232.5,-0.538 232.5,-0.331 235,-0.331 235,-0.0827 237.5,-0.0827 237.5,-0.0827 240,-0.0827 240,-0.248 242.5,-0.248 242.5,-0.0414 245,-0.0414 245,-0 247.5,-0 247.5,-0.0414 250,-0.0414 250,0\" style=\"fill:none; stroke:currentColor;\"/>\n",
       "</svg>\n",
       "</div>\n",
       "<div style=\"flex=grow:1;\">\n",
       "Regular(100, -4, 4, name='xaxis')<br/>\n",
       "<hr style=\"margin-top:.2em; margin-bottom:.2em;\"/>\n",
       "Double() Σ=74994.0 <em>(75000.0 with flow)</em>\n",
       "\n",
       "</div>\n",
       "</div>\n",
       "</html>"
      ],
      "text/plain": [
       "Hist(Regular(100, -4, 4, name='xaxis'), storage=Double()) # Sum: 74994.0 (75000.0 with flow)"
      ]
     },
     "execution_count": 71,
     "metadata": {},
     "output_type": "execute_result"
    }
   ],
   "source": [
    "hist2 = directory[\"hpx\"].to_hist()\n",
    "hist2"
   ]
  },
  {
   "cell_type": "code",
   "execution_count": 72,
   "id": "102d53c7-eb52-4ae5-adfc-7ce16eba38a9",
   "metadata": {},
   "outputs": [
    {
     "data": {
      "text/html": [
       "<html>\n",
       "<div style=\"display:flex; align-items:center;\">\n",
       "<div style=\"width:290px;\">\n",
       "<svg xmlns=\"http://www.w3.org/2000/svg\" viewBox=\"-20 -270 290 290\">\n",
       "<text text-anchor=\"middle\" x=\"0\" y=\"13\" style=\"fill:currentColor;\">\n",
       "-4\n",
       "</text>\n",
       "<text text-anchor=\"middle\" x=\"250\" y=\"13\" style=\"fill:currentColor;\">\n",
       "4\n",
       "</text>\n",
       "<text text-anchor=\"middle\" x=\"-10\" y=\"0\" style=\"fill:currentColor;\">\n",
       "-4\n",
       "</text>\n",
       "<text text-anchor=\"middle\" x=\"-10\" y=\"-250\" style=\"fill:currentColor;\">\n",
       "4\n",
       "</text>\n",
       "<text text-anchor=\"middle\" x=\"125.0\" y=\"13\" style=\"fill:currentColor;\">\n",
       "xaxis\n",
       "</text>\n",
       "<text text-anchor=\"middle\" x=\"-10\" y=\"-125.0\" transform=\"rotate(-90,-10,-125.0)\" style=\"fill:currentColor;\">\n",
       "yaxis\n",
       "</text>\n",
       "<rect x=\"0.0\" y=\"-6.250000000000005\" width=\"6.25\" height=\"6.25\" opacity=\"0.0\" fill=\"currentColor\" stroke-width=\"0.1\"/>\n",
       "<rect x=\"6.250000000000005\" y=\"-6.250000000000005\" width=\"6.25\" height=\"6.25\" opacity=\"0.0\" fill=\"currentColor\" stroke-width=\"0.1\"/>\n",
       "<rect x=\"12.50000000000001\" y=\"-6.250000000000005\" width=\"6.25\" height=\"6.25\" opacity=\"0.0\" fill=\"currentColor\" stroke-width=\"0.1\"/>\n",
       "<rect x=\"18.74999999999999\" y=\"-6.250000000000005\" width=\"6.25\" height=\"6.25\" opacity=\"0.0\" fill=\"currentColor\" stroke-width=\"0.1\"/>\n",
       "<rect x=\"24.999999999999993\" y=\"-6.250000000000005\" width=\"6.25\" height=\"6.25\" opacity=\"0.0\" fill=\"currentColor\" stroke-width=\"0.1\"/>\n",
       "<rect x=\"31.25\" y=\"-6.250000000000005\" width=\"6.25\" height=\"6.25\" opacity=\"0.0\" fill=\"currentColor\" stroke-width=\"0.1\"/>\n",
       "<rect x=\"37.50000000000001\" y=\"-6.250000000000005\" width=\"6.25\" height=\"6.25\" opacity=\"0.0\" fill=\"currentColor\" stroke-width=\"0.1\"/>\n",
       "<rect x=\"43.750000000000014\" y=\"-6.250000000000005\" width=\"6.25\" height=\"6.25\" opacity=\"0.0\" fill=\"currentColor\" stroke-width=\"0.1\"/>\n",
       "<rect x=\"49.999999999999986\" y=\"-6.250000000000005\" width=\"6.25\" height=\"6.25\" opacity=\"0.0\" fill=\"currentColor\" stroke-width=\"0.1\"/>\n",
       "<rect x=\"56.24999999999999\" y=\"-6.250000000000005\" width=\"6.25\" height=\"6.25\" opacity=\"0.0\" fill=\"currentColor\" stroke-width=\"0.1\"/>\n",
       "<rect x=\"62.5\" y=\"-6.250000000000005\" width=\"6.25\" height=\"6.25\" opacity=\"0.0\" fill=\"currentColor\" stroke-width=\"0.1\"/>\n",
       "<rect x=\"68.75\" y=\"-6.250000000000005\" width=\"6.25\" height=\"6.25\" opacity=\"0.0020120724346076473\" fill=\"currentColor\" stroke-width=\"0.1\"/>\n",
       "<rect x=\"75.00000000000001\" y=\"-6.250000000000005\" width=\"6.25\" height=\"6.25\" opacity=\"0.0\" fill=\"currentColor\" stroke-width=\"0.1\"/>\n",
       "<rect x=\"81.24999999999999\" y=\"-6.250000000000005\" width=\"6.25\" height=\"6.25\" opacity=\"0.0\" fill=\"currentColor\" stroke-width=\"0.1\"/>\n",
       "<rect x=\"87.5\" y=\"-6.250000000000005\" width=\"6.25\" height=\"6.25\" opacity=\"0.0\" fill=\"currentColor\" stroke-width=\"0.1\"/>\n",
       "<rect x=\"93.75\" y=\"-6.250000000000005\" width=\"6.25\" height=\"6.25\" opacity=\"0.004024144869215291\" fill=\"currentColor\" stroke-width=\"0.1\"/>\n",
       "<rect x=\"100.0\" y=\"-6.250000000000005\" width=\"6.25\" height=\"6.25\" opacity=\"0.0\" fill=\"currentColor\" stroke-width=\"0.1\"/>\n",
       "<rect x=\"106.25000000000001\" y=\"-6.250000000000005\" width=\"6.25\" height=\"6.25\" opacity=\"0.0\" fill=\"currentColor\" stroke-width=\"0.1\"/>\n",
       "<rect x=\"112.49999999999999\" y=\"-6.250000000000005\" width=\"6.25\" height=\"6.25\" opacity=\"0.0\" fill=\"currentColor\" stroke-width=\"0.1\"/>\n",
       "<rect x=\"118.75\" y=\"-6.250000000000005\" width=\"6.25\" height=\"6.25\" opacity=\"0.0\" fill=\"currentColor\" stroke-width=\"0.1\"/>\n",
       "<rect x=\"125.0\" y=\"-6.250000000000005\" width=\"6.25\" height=\"6.25\" opacity=\"0.0\" fill=\"currentColor\" stroke-width=\"0.1\"/>\n",
       "<rect x=\"131.25\" y=\"-6.250000000000005\" width=\"6.25\" height=\"6.25\" opacity=\"0.0\" fill=\"currentColor\" stroke-width=\"0.1\"/>\n",
       "<rect x=\"137.5\" y=\"-6.250000000000005\" width=\"6.25\" height=\"6.25\" opacity=\"0.0\" fill=\"currentColor\" stroke-width=\"0.1\"/>\n",
       "<rect x=\"143.75\" y=\"-6.250000000000005\" width=\"6.25\" height=\"6.25\" opacity=\"0.0\" fill=\"currentColor\" stroke-width=\"0.1\"/>\n",
       "<rect x=\"150.0\" y=\"-6.250000000000005\" width=\"6.25\" height=\"6.25\" opacity=\"0.0020120724346076456\" fill=\"currentColor\" stroke-width=\"0.1\"/>\n",
       "<rect x=\"156.25\" y=\"-6.250000000000005\" width=\"6.25\" height=\"6.25\" opacity=\"0.0\" fill=\"currentColor\" stroke-width=\"0.1\"/>\n",
       "<rect x=\"162.5\" y=\"-6.250000000000005\" width=\"6.25\" height=\"6.25\" opacity=\"0.0020120724346076456\" fill=\"currentColor\" stroke-width=\"0.1\"/>\n",
       "<rect x=\"168.75\" y=\"-6.250000000000005\" width=\"6.25\" height=\"6.25\" opacity=\"0.0\" fill=\"currentColor\" stroke-width=\"0.1\"/>\n",
       "<rect x=\"175.0\" y=\"-6.250000000000005\" width=\"6.25\" height=\"6.25\" opacity=\"0.0\" fill=\"currentColor\" stroke-width=\"0.1\"/>\n",
       "<rect x=\"181.25\" y=\"-6.250000000000005\" width=\"6.25\" height=\"6.25\" opacity=\"0.0\" fill=\"currentColor\" stroke-width=\"0.1\"/>\n",
       "<rect x=\"187.5\" y=\"-6.250000000000005\" width=\"6.25\" height=\"6.25\" opacity=\"0.0\" fill=\"currentColor\" stroke-width=\"0.1\"/>\n",
       "<rect x=\"193.75\" y=\"-6.250000000000005\" width=\"6.25\" height=\"6.25\" opacity=\"0.0\" fill=\"currentColor\" stroke-width=\"0.1\"/>\n",
       "<rect x=\"200.0\" y=\"-6.250000000000005\" width=\"6.25\" height=\"6.25\" opacity=\"0.0\" fill=\"currentColor\" stroke-width=\"0.1\"/>\n",
       "<rect x=\"206.25\" y=\"-6.250000000000005\" width=\"6.25\" height=\"6.25\" opacity=\"0.0\" fill=\"currentColor\" stroke-width=\"0.1\"/>\n",
       "<rect x=\"212.5\" y=\"-6.250000000000005\" width=\"6.25\" height=\"6.25\" opacity=\"0.0\" fill=\"currentColor\" stroke-width=\"0.1\"/>\n",
       "<rect x=\"218.75\" y=\"-6.250000000000005\" width=\"6.25\" height=\"6.25\" opacity=\"0.0\" fill=\"currentColor\" stroke-width=\"0.1\"/>\n",
       "<rect x=\"225.0\" y=\"-6.250000000000005\" width=\"6.25\" height=\"6.25\" opacity=\"0.0\" fill=\"currentColor\" stroke-width=\"0.1\"/>\n",
       "<rect x=\"231.25\" y=\"-6.250000000000005\" width=\"6.25\" height=\"6.25\" opacity=\"0.0\" fill=\"currentColor\" stroke-width=\"0.1\"/>\n",
       "<rect x=\"237.5\" y=\"-6.250000000000005\" width=\"6.25\" height=\"6.25\" opacity=\"0.0\" fill=\"currentColor\" stroke-width=\"0.1\"/>\n",
       "<rect x=\"243.75\" y=\"-6.250000000000005\" width=\"6.25\" height=\"6.25\" opacity=\"0.0\" fill=\"currentColor\" stroke-width=\"0.1\"/>\n",
       "<rect x=\"0.0\" y=\"-12.50000000000001\" width=\"6.25\" height=\"6.25\" opacity=\"0.0\" fill=\"currentColor\" stroke-width=\"0.1\"/>\n",
       "<rect x=\"6.250000000000005\" y=\"-12.50000000000001\" width=\"6.25\" height=\"6.25\" opacity=\"0.0\" fill=\"currentColor\" stroke-width=\"0.1\"/>\n",
       "<rect x=\"12.50000000000001\" y=\"-12.50000000000001\" width=\"6.25\" height=\"6.25\" opacity=\"0.0\" fill=\"currentColor\" stroke-width=\"0.1\"/>\n",
       "<rect x=\"18.74999999999999\" y=\"-12.50000000000001\" width=\"6.25\" height=\"6.25\" opacity=\"0.0\" fill=\"currentColor\" stroke-width=\"0.1\"/>\n",
       "<rect x=\"24.999999999999993\" y=\"-12.50000000000001\" width=\"6.25\" height=\"6.25\" opacity=\"0.0\" fill=\"currentColor\" stroke-width=\"0.1\"/>\n",
       "<rect x=\"31.25\" y=\"-12.50000000000001\" width=\"6.25\" height=\"6.25\" opacity=\"0.0\" fill=\"currentColor\" stroke-width=\"0.1\"/>\n",
       "<rect x=\"37.50000000000001\" y=\"-12.50000000000001\" width=\"6.25\" height=\"6.25\" opacity=\"0.0\" fill=\"currentColor\" stroke-width=\"0.1\"/>\n",
       "<rect x=\"43.750000000000014\" y=\"-12.50000000000001\" width=\"6.25\" height=\"6.25\" opacity=\"0.0\" fill=\"currentColor\" stroke-width=\"0.1\"/>\n",
       "<rect x=\"49.999999999999986\" y=\"-12.50000000000001\" width=\"6.25\" height=\"6.25\" opacity=\"0.0\" fill=\"currentColor\" stroke-width=\"0.1\"/>\n",
       "<rect x=\"56.24999999999999\" y=\"-12.50000000000001\" width=\"6.25\" height=\"6.25\" opacity=\"0.0\" fill=\"currentColor\" stroke-width=\"0.1\"/>\n",
       "<rect x=\"62.5\" y=\"-12.50000000000001\" width=\"6.25\" height=\"6.25\" opacity=\"0.0\" fill=\"currentColor\" stroke-width=\"0.1\"/>\n",
       "<rect x=\"68.75\" y=\"-12.50000000000001\" width=\"6.25\" height=\"6.25\" opacity=\"0.0\" fill=\"currentColor\" stroke-width=\"0.1\"/>\n",
       "<rect x=\"75.00000000000001\" y=\"-12.50000000000001\" width=\"6.25\" height=\"6.25\" opacity=\"0.0\" fill=\"currentColor\" stroke-width=\"0.1\"/>\n",
       "<rect x=\"81.24999999999999\" y=\"-12.50000000000001\" width=\"6.25\" height=\"6.25\" opacity=\"0.0020120724346076473\" fill=\"currentColor\" stroke-width=\"0.1\"/>\n",
       "<rect x=\"87.5\" y=\"-12.50000000000001\" width=\"6.25\" height=\"6.25\" opacity=\"0.0\" fill=\"currentColor\" stroke-width=\"0.1\"/>\n",
       "<rect x=\"93.75\" y=\"-12.50000000000001\" width=\"6.25\" height=\"6.25\" opacity=\"0.0\" fill=\"currentColor\" stroke-width=\"0.1\"/>\n",
       "<rect x=\"100.0\" y=\"-12.50000000000001\" width=\"6.25\" height=\"6.25\" opacity=\"0.0\" fill=\"currentColor\" stroke-width=\"0.1\"/>\n",
       "<rect x=\"106.25000000000001\" y=\"-12.50000000000001\" width=\"6.25\" height=\"6.25\" opacity=\"0.0\" fill=\"currentColor\" stroke-width=\"0.1\"/>\n",
       "<rect x=\"112.49999999999999\" y=\"-12.50000000000001\" width=\"6.25\" height=\"6.25\" opacity=\"0.0\" fill=\"currentColor\" stroke-width=\"0.1\"/>\n",
       "<rect x=\"118.75\" y=\"-12.50000000000001\" width=\"6.25\" height=\"6.25\" opacity=\"0.0\" fill=\"currentColor\" stroke-width=\"0.1\"/>\n",
       "<rect x=\"125.0\" y=\"-12.50000000000001\" width=\"6.25\" height=\"6.25\" opacity=\"0.0\" fill=\"currentColor\" stroke-width=\"0.1\"/>\n",
       "<rect x=\"131.25\" y=\"-12.50000000000001\" width=\"6.25\" height=\"6.25\" opacity=\"0.0\" fill=\"currentColor\" stroke-width=\"0.1\"/>\n",
       "<rect x=\"137.5\" y=\"-12.50000000000001\" width=\"6.25\" height=\"6.25\" opacity=\"0.0\" fill=\"currentColor\" stroke-width=\"0.1\"/>\n",
       "<rect x=\"143.75\" y=\"-12.50000000000001\" width=\"6.25\" height=\"6.25\" opacity=\"0.0\" fill=\"currentColor\" stroke-width=\"0.1\"/>\n",
       "<rect x=\"150.0\" y=\"-12.50000000000001\" width=\"6.25\" height=\"6.25\" opacity=\"0.0\" fill=\"currentColor\" stroke-width=\"0.1\"/>\n",
       "<rect x=\"156.25\" y=\"-12.50000000000001\" width=\"6.25\" height=\"6.25\" opacity=\"0.0\" fill=\"currentColor\" stroke-width=\"0.1\"/>\n",
       "<rect x=\"162.5\" y=\"-12.50000000000001\" width=\"6.25\" height=\"6.25\" opacity=\"0.0\" fill=\"currentColor\" stroke-width=\"0.1\"/>\n",
       "<rect x=\"168.75\" y=\"-12.50000000000001\" width=\"6.25\" height=\"6.25\" opacity=\"0.0\" fill=\"currentColor\" stroke-width=\"0.1\"/>\n",
       "<rect x=\"175.0\" y=\"-12.50000000000001\" width=\"6.25\" height=\"6.25\" opacity=\"0.0\" fill=\"currentColor\" stroke-width=\"0.1\"/>\n",
       "<rect x=\"181.25\" y=\"-12.50000000000001\" width=\"6.25\" height=\"6.25\" opacity=\"0.0\" fill=\"currentColor\" stroke-width=\"0.1\"/>\n",
       "<rect x=\"187.5\" y=\"-12.50000000000001\" width=\"6.25\" height=\"6.25\" opacity=\"0.0\" fill=\"currentColor\" stroke-width=\"0.1\"/>\n",
       "<rect x=\"193.75\" y=\"-12.50000000000001\" width=\"6.25\" height=\"6.25\" opacity=\"0.0\" fill=\"currentColor\" stroke-width=\"0.1\"/>\n",
       "<rect x=\"200.0\" y=\"-12.50000000000001\" width=\"6.25\" height=\"6.25\" opacity=\"0.0\" fill=\"currentColor\" stroke-width=\"0.1\"/>\n",
       "<rect x=\"206.25\" y=\"-12.50000000000001\" width=\"6.25\" height=\"6.25\" opacity=\"0.0\" fill=\"currentColor\" stroke-width=\"0.1\"/>\n",
       "<rect x=\"212.5\" y=\"-12.50000000000001\" width=\"6.25\" height=\"6.25\" opacity=\"0.0\" fill=\"currentColor\" stroke-width=\"0.1\"/>\n",
       "<rect x=\"218.75\" y=\"-12.50000000000001\" width=\"6.25\" height=\"6.25\" opacity=\"0.0\" fill=\"currentColor\" stroke-width=\"0.1\"/>\n",
       "<rect x=\"225.0\" y=\"-12.50000000000001\" width=\"6.25\" height=\"6.25\" opacity=\"0.0\" fill=\"currentColor\" stroke-width=\"0.1\"/>\n",
       "<rect x=\"231.25\" y=\"-12.50000000000001\" width=\"6.25\" height=\"6.25\" opacity=\"0.0\" fill=\"currentColor\" stroke-width=\"0.1\"/>\n",
       "<rect x=\"237.5\" y=\"-12.50000000000001\" width=\"6.25\" height=\"6.25\" opacity=\"0.0\" fill=\"currentColor\" stroke-width=\"0.1\"/>\n",
       "<rect x=\"243.75\" y=\"-12.50000000000001\" width=\"6.25\" height=\"6.25\" opacity=\"0.0\" fill=\"currentColor\" stroke-width=\"0.1\"/>\n",
       "<rect x=\"0.0\" y=\"-18.74999999999999\" width=\"6.25\" height=\"6.25\" opacity=\"0.0\" fill=\"currentColor\" stroke-width=\"0.1\"/>\n",
       "<rect x=\"6.250000000000005\" y=\"-18.74999999999999\" width=\"6.25\" height=\"6.25\" opacity=\"0.0\" fill=\"currentColor\" stroke-width=\"0.1\"/>\n",
       "<rect x=\"12.50000000000001\" y=\"-18.74999999999999\" width=\"6.25\" height=\"6.25\" opacity=\"0.0\" fill=\"currentColor\" stroke-width=\"0.1\"/>\n",
       "<rect x=\"18.74999999999999\" y=\"-18.74999999999999\" width=\"6.25\" height=\"6.25\" opacity=\"0.0\" fill=\"currentColor\" stroke-width=\"0.1\"/>\n",
       "<rect x=\"24.999999999999993\" y=\"-18.74999999999999\" width=\"6.25\" height=\"6.25\" opacity=\"0.0\" fill=\"currentColor\" stroke-width=\"0.1\"/>\n",
       "<rect x=\"31.25\" y=\"-18.74999999999999\" width=\"6.25\" height=\"6.25\" opacity=\"0.0\" fill=\"currentColor\" stroke-width=\"0.1\"/>\n",
       "<rect x=\"37.50000000000001\" y=\"-18.74999999999999\" width=\"6.25\" height=\"6.25\" opacity=\"0.0\" fill=\"currentColor\" stroke-width=\"0.1\"/>\n",
       "<rect x=\"43.750000000000014\" y=\"-18.74999999999999\" width=\"6.25\" height=\"6.25\" opacity=\"0.0\" fill=\"currentColor\" stroke-width=\"0.1\"/>\n",
       "<rect x=\"49.999999999999986\" y=\"-18.74999999999999\" width=\"6.25\" height=\"6.25\" opacity=\"0.0\" fill=\"currentColor\" stroke-width=\"0.1\"/>\n",
       "<rect x=\"56.24999999999999\" y=\"-18.74999999999999\" width=\"6.25\" height=\"6.25\" opacity=\"0.0\" fill=\"currentColor\" stroke-width=\"0.1\"/>\n",
       "<rect x=\"62.5\" y=\"-18.74999999999999\" width=\"6.25\" height=\"6.25\" opacity=\"0.0\" fill=\"currentColor\" stroke-width=\"0.1\"/>\n",
       "<rect x=\"68.75\" y=\"-18.74999999999999\" width=\"6.25\" height=\"6.25\" opacity=\"0.0\" fill=\"currentColor\" stroke-width=\"0.1\"/>\n",
       "<rect x=\"75.00000000000001\" y=\"-18.74999999999999\" width=\"6.25\" height=\"6.25\" opacity=\"0.0\" fill=\"currentColor\" stroke-width=\"0.1\"/>\n",
       "<rect x=\"81.24999999999999\" y=\"-18.74999999999999\" width=\"6.25\" height=\"6.25\" opacity=\"0.0\" fill=\"currentColor\" stroke-width=\"0.1\"/>\n",
       "<rect x=\"87.5\" y=\"-18.74999999999999\" width=\"6.25\" height=\"6.25\" opacity=\"0.0\" fill=\"currentColor\" stroke-width=\"0.1\"/>\n",
       "<rect x=\"93.75\" y=\"-18.74999999999999\" width=\"6.25\" height=\"6.25\" opacity=\"0.004024144869215309\" fill=\"currentColor\" stroke-width=\"0.1\"/>\n",
       "<rect x=\"100.0\" y=\"-18.74999999999999\" width=\"6.25\" height=\"6.25\" opacity=\"0.0020120724346076565\" fill=\"currentColor\" stroke-width=\"0.1\"/>\n",
       "<rect x=\"106.25000000000001\" y=\"-18.74999999999999\" width=\"6.25\" height=\"6.25\" opacity=\"0.004024144869215318\" fill=\"currentColor\" stroke-width=\"0.1\"/>\n",
       "<rect x=\"112.49999999999999\" y=\"-18.74999999999999\" width=\"6.25\" height=\"6.25\" opacity=\"0.004024144869215313\" fill=\"currentColor\" stroke-width=\"0.1\"/>\n",
       "<rect x=\"118.75\" y=\"-18.74999999999999\" width=\"6.25\" height=\"6.25\" opacity=\"0.0\" fill=\"currentColor\" stroke-width=\"0.1\"/>\n",
       "<rect x=\"125.0\" y=\"-18.74999999999999\" width=\"6.25\" height=\"6.25\" opacity=\"0.0020120724346076543\" fill=\"currentColor\" stroke-width=\"0.1\"/>\n",
       "<rect x=\"131.25\" y=\"-18.74999999999999\" width=\"6.25\" height=\"6.25\" opacity=\"0.0\" fill=\"currentColor\" stroke-width=\"0.1\"/>\n",
       "<rect x=\"137.5\" y=\"-18.74999999999999\" width=\"6.25\" height=\"6.25\" opacity=\"0.004024144869215327\" fill=\"currentColor\" stroke-width=\"0.1\"/>\n",
       "<rect x=\"143.75\" y=\"-18.74999999999999\" width=\"6.25\" height=\"6.25\" opacity=\"0.0\" fill=\"currentColor\" stroke-width=\"0.1\"/>\n",
       "<rect x=\"150.0\" y=\"-18.74999999999999\" width=\"6.25\" height=\"6.25\" opacity=\"0.0\" fill=\"currentColor\" stroke-width=\"0.1\"/>\n",
       "<rect x=\"156.25\" y=\"-18.74999999999999\" width=\"6.25\" height=\"6.25\" opacity=\"0.0\" fill=\"currentColor\" stroke-width=\"0.1\"/>\n",
       "<rect x=\"162.5\" y=\"-18.74999999999999\" width=\"6.25\" height=\"6.25\" opacity=\"0.0\" fill=\"currentColor\" stroke-width=\"0.1\"/>\n",
       "<rect x=\"168.75\" y=\"-18.74999999999999\" width=\"6.25\" height=\"6.25\" opacity=\"0.0020120724346076634\" fill=\"currentColor\" stroke-width=\"0.1\"/>\n",
       "<rect x=\"175.0\" y=\"-18.74999999999999\" width=\"6.25\" height=\"6.25\" opacity=\"0.0\" fill=\"currentColor\" stroke-width=\"0.1\"/>\n",
       "<rect x=\"181.25\" y=\"-18.74999999999999\" width=\"6.25\" height=\"6.25\" opacity=\"0.0\" fill=\"currentColor\" stroke-width=\"0.1\"/>\n",
       "<rect x=\"187.5\" y=\"-18.74999999999999\" width=\"6.25\" height=\"6.25\" opacity=\"0.0\" fill=\"currentColor\" stroke-width=\"0.1\"/>\n",
       "<rect x=\"193.75\" y=\"-18.74999999999999\" width=\"6.25\" height=\"6.25\" opacity=\"0.0\" fill=\"currentColor\" stroke-width=\"0.1\"/>\n",
       "<rect x=\"200.0\" y=\"-18.74999999999999\" width=\"6.25\" height=\"6.25\" opacity=\"0.0\" fill=\"currentColor\" stroke-width=\"0.1\"/>\n",
       "<rect x=\"206.25\" y=\"-18.74999999999999\" width=\"6.25\" height=\"6.25\" opacity=\"0.0\" fill=\"currentColor\" stroke-width=\"0.1\"/>\n",
       "<rect x=\"212.5\" y=\"-18.74999999999999\" width=\"6.25\" height=\"6.25\" opacity=\"0.0\" fill=\"currentColor\" stroke-width=\"0.1\"/>\n",
       "<rect x=\"218.75\" y=\"-18.74999999999999\" width=\"6.25\" height=\"6.25\" opacity=\"0.0\" fill=\"currentColor\" stroke-width=\"0.1\"/>\n",
       "<rect x=\"225.0\" y=\"-18.74999999999999\" width=\"6.25\" height=\"6.25\" opacity=\"0.0\" fill=\"currentColor\" stroke-width=\"0.1\"/>\n",
       "<rect x=\"231.25\" y=\"-18.74999999999999\" width=\"6.25\" height=\"6.25\" opacity=\"0.0\" fill=\"currentColor\" stroke-width=\"0.1\"/>\n",
       "<rect x=\"237.5\" y=\"-18.74999999999999\" width=\"6.25\" height=\"6.25\" opacity=\"0.0\" fill=\"currentColor\" stroke-width=\"0.1\"/>\n",
       "<rect x=\"243.75\" y=\"-18.74999999999999\" width=\"6.25\" height=\"6.25\" opacity=\"0.0\" fill=\"currentColor\" stroke-width=\"0.1\"/>\n",
       "<rect x=\"0.0\" y=\"-24.999999999999993\" width=\"6.25\" height=\"6.25\" opacity=\"0.0\" fill=\"currentColor\" stroke-width=\"0.1\"/>\n",
       "<rect x=\"6.250000000000005\" y=\"-24.999999999999993\" width=\"6.25\" height=\"6.25\" opacity=\"0.0\" fill=\"currentColor\" stroke-width=\"0.1\"/>\n",
       "<rect x=\"12.50000000000001\" y=\"-24.999999999999993\" width=\"6.25\" height=\"6.25\" opacity=\"0.0\" fill=\"currentColor\" stroke-width=\"0.1\"/>\n",
       "<rect x=\"18.74999999999999\" y=\"-24.999999999999993\" width=\"6.25\" height=\"6.25\" opacity=\"0.0\" fill=\"currentColor\" stroke-width=\"0.1\"/>\n",
       "<rect x=\"24.999999999999993\" y=\"-24.999999999999993\" width=\"6.25\" height=\"6.25\" opacity=\"0.0\" fill=\"currentColor\" stroke-width=\"0.1\"/>\n",
       "<rect x=\"31.25\" y=\"-24.999999999999993\" width=\"6.25\" height=\"6.25\" opacity=\"0.0\" fill=\"currentColor\" stroke-width=\"0.1\"/>\n",
       "<rect x=\"37.50000000000001\" y=\"-24.999999999999993\" width=\"6.25\" height=\"6.25\" opacity=\"0.0\" fill=\"currentColor\" stroke-width=\"0.1\"/>\n",
       "<rect x=\"43.750000000000014\" y=\"-24.999999999999993\" width=\"6.25\" height=\"6.25\" opacity=\"0.0\" fill=\"currentColor\" stroke-width=\"0.1\"/>\n",
       "<rect x=\"49.999999999999986\" y=\"-24.999999999999993\" width=\"6.25\" height=\"6.25\" opacity=\"0.0\" fill=\"currentColor\" stroke-width=\"0.1\"/>\n",
       "<rect x=\"56.24999999999999\" y=\"-24.999999999999993\" width=\"6.25\" height=\"6.25\" opacity=\"0.0\" fill=\"currentColor\" stroke-width=\"0.1\"/>\n",
       "<rect x=\"62.5\" y=\"-24.999999999999993\" width=\"6.25\" height=\"6.25\" opacity=\"0.006036217303822937\" fill=\"currentColor\" stroke-width=\"0.1\"/>\n",
       "<rect x=\"68.75\" y=\"-24.999999999999993\" width=\"6.25\" height=\"6.25\" opacity=\"0.0020120724346076473\" fill=\"currentColor\" stroke-width=\"0.1\"/>\n",
       "<rect x=\"75.00000000000001\" y=\"-24.999999999999993\" width=\"6.25\" height=\"6.25\" opacity=\"0.0\" fill=\"currentColor\" stroke-width=\"0.1\"/>\n",
       "<rect x=\"81.24999999999999\" y=\"-24.999999999999993\" width=\"6.25\" height=\"6.25\" opacity=\"0.0020120724346076473\" fill=\"currentColor\" stroke-width=\"0.1\"/>\n",
       "<rect x=\"87.5\" y=\"-24.999999999999993\" width=\"6.25\" height=\"6.25\" opacity=\"0.004024144869215291\" fill=\"currentColor\" stroke-width=\"0.1\"/>\n",
       "<rect x=\"93.75\" y=\"-24.999999999999993\" width=\"6.25\" height=\"6.25\" opacity=\"0.0020120724346076456\" fill=\"currentColor\" stroke-width=\"0.1\"/>\n",
       "<rect x=\"100.0\" y=\"-24.999999999999993\" width=\"6.25\" height=\"6.25\" opacity=\"0.0\" fill=\"currentColor\" stroke-width=\"0.1\"/>\n",
       "<rect x=\"106.25000000000001\" y=\"-24.999999999999993\" width=\"6.25\" height=\"6.25\" opacity=\"0.00201207243460765\" fill=\"currentColor\" stroke-width=\"0.1\"/>\n",
       "<rect x=\"112.49999999999999\" y=\"-24.999999999999993\" width=\"6.25\" height=\"6.25\" opacity=\"0.0020120724346076473\" fill=\"currentColor\" stroke-width=\"0.1\"/>\n",
       "<rect x=\"118.75\" y=\"-24.999999999999993\" width=\"6.25\" height=\"6.25\" opacity=\"0.0020120724346076456\" fill=\"currentColor\" stroke-width=\"0.1\"/>\n",
       "<rect x=\"125.0\" y=\"-24.999999999999993\" width=\"6.25\" height=\"6.25\" opacity=\"0.004024144869215291\" fill=\"currentColor\" stroke-width=\"0.1\"/>\n",
       "<rect x=\"131.25\" y=\"-24.999999999999993\" width=\"6.25\" height=\"6.25\" opacity=\"0.0020120724346076456\" fill=\"currentColor\" stroke-width=\"0.1\"/>\n",
       "<rect x=\"137.5\" y=\"-24.999999999999993\" width=\"6.25\" height=\"6.25\" opacity=\"0.004024144869215309\" fill=\"currentColor\" stroke-width=\"0.1\"/>\n",
       "<rect x=\"143.75\" y=\"-24.999999999999993\" width=\"6.25\" height=\"6.25\" opacity=\"0.006036217303822937\" fill=\"currentColor\" stroke-width=\"0.1\"/>\n",
       "<rect x=\"150.0\" y=\"-24.999999999999993\" width=\"6.25\" height=\"6.25\" opacity=\"0.0\" fill=\"currentColor\" stroke-width=\"0.1\"/>\n",
       "<rect x=\"156.25\" y=\"-24.999999999999993\" width=\"6.25\" height=\"6.25\" opacity=\"0.0020120724346076456\" fill=\"currentColor\" stroke-width=\"0.1\"/>\n",
       "<rect x=\"162.5\" y=\"-24.999999999999993\" width=\"6.25\" height=\"6.25\" opacity=\"0.0020120724346076456\" fill=\"currentColor\" stroke-width=\"0.1\"/>\n",
       "<rect x=\"168.75\" y=\"-24.999999999999993\" width=\"6.25\" height=\"6.25\" opacity=\"0.0020120724346076543\" fill=\"currentColor\" stroke-width=\"0.1\"/>\n",
       "<rect x=\"175.0\" y=\"-24.999999999999993\" width=\"6.25\" height=\"6.25\" opacity=\"0.0020120724346076456\" fill=\"currentColor\" stroke-width=\"0.1\"/>\n",
       "<rect x=\"181.25\" y=\"-24.999999999999993\" width=\"6.25\" height=\"6.25\" opacity=\"0.0\" fill=\"currentColor\" stroke-width=\"0.1\"/>\n",
       "<rect x=\"187.5\" y=\"-24.999999999999993\" width=\"6.25\" height=\"6.25\" opacity=\"0.0\" fill=\"currentColor\" stroke-width=\"0.1\"/>\n",
       "<rect x=\"193.75\" y=\"-24.999999999999993\" width=\"6.25\" height=\"6.25\" opacity=\"0.0\" fill=\"currentColor\" stroke-width=\"0.1\"/>\n",
       "<rect x=\"200.0\" y=\"-24.999999999999993\" width=\"6.25\" height=\"6.25\" opacity=\"0.0\" fill=\"currentColor\" stroke-width=\"0.1\"/>\n",
       "<rect x=\"206.25\" y=\"-24.999999999999993\" width=\"6.25\" height=\"6.25\" opacity=\"0.0\" fill=\"currentColor\" stroke-width=\"0.1\"/>\n",
       "<rect x=\"212.5\" y=\"-24.999999999999993\" width=\"6.25\" height=\"6.25\" opacity=\"0.0\" fill=\"currentColor\" stroke-width=\"0.1\"/>\n",
       "<rect x=\"218.75\" y=\"-24.999999999999993\" width=\"6.25\" height=\"6.25\" opacity=\"0.0\" fill=\"currentColor\" stroke-width=\"0.1\"/>\n",
       "<rect x=\"225.0\" y=\"-24.999999999999993\" width=\"6.25\" height=\"6.25\" opacity=\"0.0\" fill=\"currentColor\" stroke-width=\"0.1\"/>\n",
       "<rect x=\"231.25\" y=\"-24.999999999999993\" width=\"6.25\" height=\"6.25\" opacity=\"0.0\" fill=\"currentColor\" stroke-width=\"0.1\"/>\n",
       "<rect x=\"237.5\" y=\"-24.999999999999993\" width=\"6.25\" height=\"6.25\" opacity=\"0.0\" fill=\"currentColor\" stroke-width=\"0.1\"/>\n",
       "<rect x=\"243.75\" y=\"-24.999999999999993\" width=\"6.25\" height=\"6.25\" opacity=\"0.0\" fill=\"currentColor\" stroke-width=\"0.1\"/>\n",
       "<rect x=\"0.0\" y=\"-31.25\" width=\"6.25\" height=\"6.25\" opacity=\"0.0\" fill=\"currentColor\" stroke-width=\"0.1\"/>\n",
       "<rect x=\"6.250000000000005\" y=\"-31.25\" width=\"6.25\" height=\"6.25\" opacity=\"0.0\" fill=\"currentColor\" stroke-width=\"0.1\"/>\n",
       "<rect x=\"12.50000000000001\" y=\"-31.25\" width=\"6.25\" height=\"6.25\" opacity=\"0.0\" fill=\"currentColor\" stroke-width=\"0.1\"/>\n",
       "<rect x=\"18.74999999999999\" y=\"-31.25\" width=\"6.25\" height=\"6.25\" opacity=\"0.0\" fill=\"currentColor\" stroke-width=\"0.1\"/>\n",
       "<rect x=\"24.999999999999993\" y=\"-31.25\" width=\"6.25\" height=\"6.25\" opacity=\"0.0\" fill=\"currentColor\" stroke-width=\"0.1\"/>\n",
       "<rect x=\"31.25\" y=\"-31.25\" width=\"6.25\" height=\"6.25\" opacity=\"0.0\" fill=\"currentColor\" stroke-width=\"0.1\"/>\n",
       "<rect x=\"37.50000000000001\" y=\"-31.25\" width=\"6.25\" height=\"6.25\" opacity=\"0.0\" fill=\"currentColor\" stroke-width=\"0.1\"/>\n",
       "<rect x=\"43.750000000000014\" y=\"-31.25\" width=\"6.25\" height=\"6.25\" opacity=\"0.0020120724346076543\" fill=\"currentColor\" stroke-width=\"0.1\"/>\n",
       "<rect x=\"49.999999999999986\" y=\"-31.25\" width=\"6.25\" height=\"6.25\" opacity=\"0.0\" fill=\"currentColor\" stroke-width=\"0.1\"/>\n",
       "<rect x=\"56.24999999999999\" y=\"-31.25\" width=\"6.25\" height=\"6.25\" opacity=\"0.0020120724346076456\" fill=\"currentColor\" stroke-width=\"0.1\"/>\n",
       "<rect x=\"62.5\" y=\"-31.25\" width=\"6.25\" height=\"6.25\" opacity=\"0.004024144869215291\" fill=\"currentColor\" stroke-width=\"0.1\"/>\n",
       "<rect x=\"68.75\" y=\"-31.25\" width=\"6.25\" height=\"6.25\" opacity=\"0.0\" fill=\"currentColor\" stroke-width=\"0.1\"/>\n",
       "<rect x=\"75.00000000000001\" y=\"-31.25\" width=\"6.25\" height=\"6.25\" opacity=\"0.0040241448692153\" fill=\"currentColor\" stroke-width=\"0.1\"/>\n",
       "<rect x=\"81.24999999999999\" y=\"-31.25\" width=\"6.25\" height=\"6.25\" opacity=\"0.00804828973843059\" fill=\"currentColor\" stroke-width=\"0.1\"/>\n",
       "<rect x=\"87.5\" y=\"-31.25\" width=\"6.25\" height=\"6.25\" opacity=\"0.004024144869215291\" fill=\"currentColor\" stroke-width=\"0.1\"/>\n",
       "<rect x=\"93.75\" y=\"-31.25\" width=\"6.25\" height=\"6.25\" opacity=\"0.01006036217303823\" fill=\"currentColor\" stroke-width=\"0.1\"/>\n",
       "<rect x=\"100.0\" y=\"-31.25\" width=\"6.25\" height=\"6.25\" opacity=\"0.004024144869215295\" fill=\"currentColor\" stroke-width=\"0.1\"/>\n",
       "<rect x=\"106.25000000000001\" y=\"-31.25\" width=\"6.25\" height=\"6.25\" opacity=\"0.0040241448692153\" fill=\"currentColor\" stroke-width=\"0.1\"/>\n",
       "<rect x=\"112.49999999999999\" y=\"-31.25\" width=\"6.25\" height=\"6.25\" opacity=\"0.0020120724346076473\" fill=\"currentColor\" stroke-width=\"0.1\"/>\n",
       "<rect x=\"118.75\" y=\"-31.25\" width=\"6.25\" height=\"6.25\" opacity=\"0.01006036217303823\" fill=\"currentColor\" stroke-width=\"0.1\"/>\n",
       "<rect x=\"125.0\" y=\"-31.25\" width=\"6.25\" height=\"6.25\" opacity=\"0.006036217303822937\" fill=\"currentColor\" stroke-width=\"0.1\"/>\n",
       "<rect x=\"131.25\" y=\"-31.25\" width=\"6.25\" height=\"6.25\" opacity=\"0.008048289738430582\" fill=\"currentColor\" stroke-width=\"0.1\"/>\n",
       "<rect x=\"137.5\" y=\"-31.25\" width=\"6.25\" height=\"6.25\" opacity=\"0.008048289738430617\" fill=\"currentColor\" stroke-width=\"0.1\"/>\n",
       "<rect x=\"143.75\" y=\"-31.25\" width=\"6.25\" height=\"6.25\" opacity=\"0.0020120724346076456\" fill=\"currentColor\" stroke-width=\"0.1\"/>\n",
       "<rect x=\"150.0\" y=\"-31.25\" width=\"6.25\" height=\"6.25\" opacity=\"0.008048289738430582\" fill=\"currentColor\" stroke-width=\"0.1\"/>\n",
       "<rect x=\"156.25\" y=\"-31.25\" width=\"6.25\" height=\"6.25\" opacity=\"0.0020120724346076456\" fill=\"currentColor\" stroke-width=\"0.1\"/>\n",
       "<rect x=\"162.5\" y=\"-31.25\" width=\"6.25\" height=\"6.25\" opacity=\"0.004024144869215291\" fill=\"currentColor\" stroke-width=\"0.1\"/>\n",
       "<rect x=\"168.75\" y=\"-31.25\" width=\"6.25\" height=\"6.25\" opacity=\"0.0020120724346076543\" fill=\"currentColor\" stroke-width=\"0.1\"/>\n",
       "<rect x=\"175.0\" y=\"-31.25\" width=\"6.25\" height=\"6.25\" opacity=\"0.004024144869215291\" fill=\"currentColor\" stroke-width=\"0.1\"/>\n",
       "<rect x=\"181.25\" y=\"-31.25\" width=\"6.25\" height=\"6.25\" opacity=\"0.0020120724346076456\" fill=\"currentColor\" stroke-width=\"0.1\"/>\n",
       "<rect x=\"187.5\" y=\"-31.25\" width=\"6.25\" height=\"6.25\" opacity=\"0.0\" fill=\"currentColor\" stroke-width=\"0.1\"/>\n",
       "<rect x=\"193.75\" y=\"-31.25\" width=\"6.25\" height=\"6.25\" opacity=\"0.0\" fill=\"currentColor\" stroke-width=\"0.1\"/>\n",
       "<rect x=\"200.0\" y=\"-31.25\" width=\"6.25\" height=\"6.25\" opacity=\"0.0020120724346076543\" fill=\"currentColor\" stroke-width=\"0.1\"/>\n",
       "<rect x=\"206.25\" y=\"-31.25\" width=\"6.25\" height=\"6.25\" opacity=\"0.004024144869215291\" fill=\"currentColor\" stroke-width=\"0.1\"/>\n",
       "<rect x=\"212.5\" y=\"-31.25\" width=\"6.25\" height=\"6.25\" opacity=\"0.0\" fill=\"currentColor\" stroke-width=\"0.1\"/>\n",
       "<rect x=\"218.75\" y=\"-31.25\" width=\"6.25\" height=\"6.25\" opacity=\"0.0\" fill=\"currentColor\" stroke-width=\"0.1\"/>\n",
       "<rect x=\"225.0\" y=\"-31.25\" width=\"6.25\" height=\"6.25\" opacity=\"0.0\" fill=\"currentColor\" stroke-width=\"0.1\"/>\n",
       "<rect x=\"231.25\" y=\"-31.25\" width=\"6.25\" height=\"6.25\" opacity=\"0.0\" fill=\"currentColor\" stroke-width=\"0.1\"/>\n",
       "<rect x=\"237.5\" y=\"-31.25\" width=\"6.25\" height=\"6.25\" opacity=\"0.0\" fill=\"currentColor\" stroke-width=\"0.1\"/>\n",
       "<rect x=\"243.75\" y=\"-31.25\" width=\"6.25\" height=\"6.25\" opacity=\"0.0\" fill=\"currentColor\" stroke-width=\"0.1\"/>\n",
       "<rect x=\"0.0\" y=\"-37.50000000000001\" width=\"6.25\" height=\"6.25\" opacity=\"0.0\" fill=\"currentColor\" stroke-width=\"0.1\"/>\n",
       "<rect x=\"6.250000000000005\" y=\"-37.50000000000001\" width=\"6.25\" height=\"6.25\" opacity=\"0.0\" fill=\"currentColor\" stroke-width=\"0.1\"/>\n",
       "<rect x=\"12.50000000000001\" y=\"-37.50000000000001\" width=\"6.25\" height=\"6.25\" opacity=\"0.0\" fill=\"currentColor\" stroke-width=\"0.1\"/>\n",
       "<rect x=\"18.74999999999999\" y=\"-37.50000000000001\" width=\"6.25\" height=\"6.25\" opacity=\"0.0\" fill=\"currentColor\" stroke-width=\"0.1\"/>\n",
       "<rect x=\"24.999999999999993\" y=\"-37.50000000000001\" width=\"6.25\" height=\"6.25\" opacity=\"0.0\" fill=\"currentColor\" stroke-width=\"0.1\"/>\n",
       "<rect x=\"31.25\" y=\"-37.50000000000001\" width=\"6.25\" height=\"6.25\" opacity=\"0.0\" fill=\"currentColor\" stroke-width=\"0.1\"/>\n",
       "<rect x=\"37.50000000000001\" y=\"-37.50000000000001\" width=\"6.25\" height=\"6.25\" opacity=\"0.0\" fill=\"currentColor\" stroke-width=\"0.1\"/>\n",
       "<rect x=\"43.750000000000014\" y=\"-37.50000000000001\" width=\"6.25\" height=\"6.25\" opacity=\"0.0\" fill=\"currentColor\" stroke-width=\"0.1\"/>\n",
       "<rect x=\"49.999999999999986\" y=\"-37.50000000000001\" width=\"6.25\" height=\"6.25\" opacity=\"0.0020120724346076456\" fill=\"currentColor\" stroke-width=\"0.1\"/>\n",
       "<rect x=\"56.24999999999999\" y=\"-37.50000000000001\" width=\"6.25\" height=\"6.25\" opacity=\"0.0\" fill=\"currentColor\" stroke-width=\"0.1\"/>\n",
       "<rect x=\"62.5\" y=\"-37.50000000000001\" width=\"6.25\" height=\"6.25\" opacity=\"0.006036217303822937\" fill=\"currentColor\" stroke-width=\"0.1\"/>\n",
       "<rect x=\"68.75\" y=\"-37.50000000000001\" width=\"6.25\" height=\"6.25\" opacity=\"0.0020120724346076473\" fill=\"currentColor\" stroke-width=\"0.1\"/>\n",
       "<rect x=\"75.00000000000001\" y=\"-37.50000000000001\" width=\"6.25\" height=\"6.25\" opacity=\"0.0120724346076459\" fill=\"currentColor\" stroke-width=\"0.1\"/>\n",
       "<rect x=\"81.24999999999999\" y=\"-37.50000000000001\" width=\"6.25\" height=\"6.25\" opacity=\"0.0020120724346076473\" fill=\"currentColor\" stroke-width=\"0.1\"/>\n",
       "<rect x=\"87.5\" y=\"-37.50000000000001\" width=\"6.25\" height=\"6.25\" opacity=\"0.006036217303822937\" fill=\"currentColor\" stroke-width=\"0.1\"/>\n",
       "<rect x=\"93.75\" y=\"-37.50000000000001\" width=\"6.25\" height=\"6.25\" opacity=\"0.012072434607645875\" fill=\"currentColor\" stroke-width=\"0.1\"/>\n",
       "<rect x=\"100.0\" y=\"-37.50000000000001\" width=\"6.25\" height=\"6.25\" opacity=\"0.0060362173038229425\" fill=\"currentColor\" stroke-width=\"0.1\"/>\n",
       "<rect x=\"106.25000000000001\" y=\"-37.50000000000001\" width=\"6.25\" height=\"6.25\" opacity=\"0.0120724346076459\" fill=\"currentColor\" stroke-width=\"0.1\"/>\n",
       "<rect x=\"112.49999999999999\" y=\"-37.50000000000001\" width=\"6.25\" height=\"6.25\" opacity=\"0.018108651911468827\" fill=\"currentColor\" stroke-width=\"0.1\"/>\n",
       "<rect x=\"118.75\" y=\"-37.50000000000001\" width=\"6.25\" height=\"6.25\" opacity=\"0.012072434607645875\" fill=\"currentColor\" stroke-width=\"0.1\"/>\n",
       "<rect x=\"125.0\" y=\"-37.50000000000001\" width=\"6.25\" height=\"6.25\" opacity=\"0.018108651911468814\" fill=\"currentColor\" stroke-width=\"0.1\"/>\n",
       "<rect x=\"131.25\" y=\"-37.50000000000001\" width=\"6.25\" height=\"6.25\" opacity=\"0.01006036217303823\" fill=\"currentColor\" stroke-width=\"0.1\"/>\n",
       "<rect x=\"137.5\" y=\"-37.50000000000001\" width=\"6.25\" height=\"6.25\" opacity=\"0.004024144869215309\" fill=\"currentColor\" stroke-width=\"0.1\"/>\n",
       "<rect x=\"143.75\" y=\"-37.50000000000001\" width=\"6.25\" height=\"6.25\" opacity=\"0.008048289738430582\" fill=\"currentColor\" stroke-width=\"0.1\"/>\n",
       "<rect x=\"150.0\" y=\"-37.50000000000001\" width=\"6.25\" height=\"6.25\" opacity=\"0.008048289738430582\" fill=\"currentColor\" stroke-width=\"0.1\"/>\n",
       "<rect x=\"156.25\" y=\"-37.50000000000001\" width=\"6.25\" height=\"6.25\" opacity=\"0.0020120724346076456\" fill=\"currentColor\" stroke-width=\"0.1\"/>\n",
       "<rect x=\"162.5\" y=\"-37.50000000000001\" width=\"6.25\" height=\"6.25\" opacity=\"0.012072434607645875\" fill=\"currentColor\" stroke-width=\"0.1\"/>\n",
       "<rect x=\"168.75\" y=\"-37.50000000000001\" width=\"6.25\" height=\"6.25\" opacity=\"0.0020120724346076543\" fill=\"currentColor\" stroke-width=\"0.1\"/>\n",
       "<rect x=\"175.0\" y=\"-37.50000000000001\" width=\"6.25\" height=\"6.25\" opacity=\"0.004024144869215291\" fill=\"currentColor\" stroke-width=\"0.1\"/>\n",
       "<rect x=\"181.25\" y=\"-37.50000000000001\" width=\"6.25\" height=\"6.25\" opacity=\"0.0\" fill=\"currentColor\" stroke-width=\"0.1\"/>\n",
       "<rect x=\"187.5\" y=\"-37.50000000000001\" width=\"6.25\" height=\"6.25\" opacity=\"0.0020120724346076456\" fill=\"currentColor\" stroke-width=\"0.1\"/>\n",
       "<rect x=\"193.75\" y=\"-37.50000000000001\" width=\"6.25\" height=\"6.25\" opacity=\"0.0020120724346076456\" fill=\"currentColor\" stroke-width=\"0.1\"/>\n",
       "<rect x=\"200.0\" y=\"-37.50000000000001\" width=\"6.25\" height=\"6.25\" opacity=\"0.0020120724346076543\" fill=\"currentColor\" stroke-width=\"0.1\"/>\n",
       "<rect x=\"206.25\" y=\"-37.50000000000001\" width=\"6.25\" height=\"6.25\" opacity=\"0.0020120724346076456\" fill=\"currentColor\" stroke-width=\"0.1\"/>\n",
       "<rect x=\"212.5\" y=\"-37.50000000000001\" width=\"6.25\" height=\"6.25\" opacity=\"0.0\" fill=\"currentColor\" stroke-width=\"0.1\"/>\n",
       "<rect x=\"218.75\" y=\"-37.50000000000001\" width=\"6.25\" height=\"6.25\" opacity=\"0.0\" fill=\"currentColor\" stroke-width=\"0.1\"/>\n",
       "<rect x=\"225.0\" y=\"-37.50000000000001\" width=\"6.25\" height=\"6.25\" opacity=\"0.0\" fill=\"currentColor\" stroke-width=\"0.1\"/>\n",
       "<rect x=\"231.25\" y=\"-37.50000000000001\" width=\"6.25\" height=\"6.25\" opacity=\"0.0\" fill=\"currentColor\" stroke-width=\"0.1\"/>\n",
       "<rect x=\"237.5\" y=\"-37.50000000000001\" width=\"6.25\" height=\"6.25\" opacity=\"0.0\" fill=\"currentColor\" stroke-width=\"0.1\"/>\n",
       "<rect x=\"243.75\" y=\"-37.50000000000001\" width=\"6.25\" height=\"6.25\" opacity=\"0.0\" fill=\"currentColor\" stroke-width=\"0.1\"/>\n",
       "<rect x=\"0.0\" y=\"-43.750000000000014\" width=\"6.25\" height=\"6.25\" opacity=\"0.0\" fill=\"currentColor\" stroke-width=\"0.1\"/>\n",
       "<rect x=\"6.250000000000005\" y=\"-43.750000000000014\" width=\"6.25\" height=\"6.25\" opacity=\"0.0\" fill=\"currentColor\" stroke-width=\"0.1\"/>\n",
       "<rect x=\"12.50000000000001\" y=\"-43.750000000000014\" width=\"6.25\" height=\"6.25\" opacity=\"0.0\" fill=\"currentColor\" stroke-width=\"0.1\"/>\n",
       "<rect x=\"18.74999999999999\" y=\"-43.750000000000014\" width=\"6.25\" height=\"6.25\" opacity=\"0.0\" fill=\"currentColor\" stroke-width=\"0.1\"/>\n",
       "<rect x=\"24.999999999999993\" y=\"-43.750000000000014\" width=\"6.25\" height=\"6.25\" opacity=\"0.0020120724346076456\" fill=\"currentColor\" stroke-width=\"0.1\"/>\n",
       "<rect x=\"31.25\" y=\"-43.750000000000014\" width=\"6.25\" height=\"6.25\" opacity=\"0.0\" fill=\"currentColor\" stroke-width=\"0.1\"/>\n",
       "<rect x=\"37.50000000000001\" y=\"-43.750000000000014\" width=\"6.25\" height=\"6.25\" opacity=\"0.0\" fill=\"currentColor\" stroke-width=\"0.1\"/>\n",
       "<rect x=\"43.750000000000014\" y=\"-43.750000000000014\" width=\"6.25\" height=\"6.25\" opacity=\"0.004024144869215309\" fill=\"currentColor\" stroke-width=\"0.1\"/>\n",
       "<rect x=\"49.999999999999986\" y=\"-43.750000000000014\" width=\"6.25\" height=\"6.25\" opacity=\"0.0\" fill=\"currentColor\" stroke-width=\"0.1\"/>\n",
       "<rect x=\"56.24999999999999\" y=\"-43.750000000000014\" width=\"6.25\" height=\"6.25\" opacity=\"0.0\" fill=\"currentColor\" stroke-width=\"0.1\"/>\n",
       "<rect x=\"62.5\" y=\"-43.750000000000014\" width=\"6.25\" height=\"6.25\" opacity=\"0.006036217303822937\" fill=\"currentColor\" stroke-width=\"0.1\"/>\n",
       "<rect x=\"68.75\" y=\"-43.750000000000014\" width=\"6.25\" height=\"6.25\" opacity=\"0.00804828973843059\" fill=\"currentColor\" stroke-width=\"0.1\"/>\n",
       "<rect x=\"75.00000000000001\" y=\"-43.750000000000014\" width=\"6.25\" height=\"6.25\" opacity=\"0.01006036217303825\" fill=\"currentColor\" stroke-width=\"0.1\"/>\n",
       "<rect x=\"81.24999999999999\" y=\"-43.750000000000014\" width=\"6.25\" height=\"6.25\" opacity=\"0.010060362173038238\" fill=\"currentColor\" stroke-width=\"0.1\"/>\n",
       "<rect x=\"87.5\" y=\"-43.750000000000014\" width=\"6.25\" height=\"6.25\" opacity=\"0.012072434607645875\" fill=\"currentColor\" stroke-width=\"0.1\"/>\n",
       "<rect x=\"93.75\" y=\"-43.750000000000014\" width=\"6.25\" height=\"6.25\" opacity=\"0.018108651911468814\" fill=\"currentColor\" stroke-width=\"0.1\"/>\n",
       "<rect x=\"100.0\" y=\"-43.750000000000014\" width=\"6.25\" height=\"6.25\" opacity=\"0.03420523138833001\" fill=\"currentColor\" stroke-width=\"0.1\"/>\n",
       "<rect x=\"106.25000000000001\" y=\"-43.750000000000014\" width=\"6.25\" height=\"6.25\" opacity=\"0.0160965794768612\" fill=\"currentColor\" stroke-width=\"0.1\"/>\n",
       "<rect x=\"112.49999999999999\" y=\"-43.750000000000014\" width=\"6.25\" height=\"6.25\" opacity=\"0.02615694164989942\" fill=\"currentColor\" stroke-width=\"0.1\"/>\n",
       "<rect x=\"118.75\" y=\"-43.750000000000014\" width=\"6.25\" height=\"6.25\" opacity=\"0.026156941649899394\" fill=\"currentColor\" stroke-width=\"0.1\"/>\n",
       "<rect x=\"125.0\" y=\"-43.750000000000014\" width=\"6.25\" height=\"6.25\" opacity=\"0.02816901408450704\" fill=\"currentColor\" stroke-width=\"0.1\"/>\n",
       "<rect x=\"131.25\" y=\"-43.750000000000014\" width=\"6.25\" height=\"6.25\" opacity=\"0.0221327967806841\" fill=\"currentColor\" stroke-width=\"0.1\"/>\n",
       "<rect x=\"137.5\" y=\"-43.750000000000014\" width=\"6.25\" height=\"6.25\" opacity=\"0.026156941649899505\" fill=\"currentColor\" stroke-width=\"0.1\"/>\n",
       "<rect x=\"143.75\" y=\"-43.750000000000014\" width=\"6.25\" height=\"6.25\" opacity=\"0.012072434607645875\" fill=\"currentColor\" stroke-width=\"0.1\"/>\n",
       "<rect x=\"150.0\" y=\"-43.750000000000014\" width=\"6.25\" height=\"6.25\" opacity=\"0.02012072434607646\" fill=\"currentColor\" stroke-width=\"0.1\"/>\n",
       "<rect x=\"156.25\" y=\"-43.750000000000014\" width=\"6.25\" height=\"6.25\" opacity=\"0.01006036217303823\" fill=\"currentColor\" stroke-width=\"0.1\"/>\n",
       "<rect x=\"162.5\" y=\"-43.750000000000014\" width=\"6.25\" height=\"6.25\" opacity=\"0.008048289738430582\" fill=\"currentColor\" stroke-width=\"0.1\"/>\n",
       "<rect x=\"168.75\" y=\"-43.750000000000014\" width=\"6.25\" height=\"6.25\" opacity=\"0.010060362173038271\" fill=\"currentColor\" stroke-width=\"0.1\"/>\n",
       "<rect x=\"175.0\" y=\"-43.750000000000014\" width=\"6.25\" height=\"6.25\" opacity=\"0.01408450704225352\" fill=\"currentColor\" stroke-width=\"0.1\"/>\n",
       "<rect x=\"181.25\" y=\"-43.750000000000014\" width=\"6.25\" height=\"6.25\" opacity=\"0.004024144869215291\" fill=\"currentColor\" stroke-width=\"0.1\"/>\n",
       "<rect x=\"187.5\" y=\"-43.750000000000014\" width=\"6.25\" height=\"6.25\" opacity=\"0.0020120724346076456\" fill=\"currentColor\" stroke-width=\"0.1\"/>\n",
       "<rect x=\"193.75\" y=\"-43.750000000000014\" width=\"6.25\" height=\"6.25\" opacity=\"0.0\" fill=\"currentColor\" stroke-width=\"0.1\"/>\n",
       "<rect x=\"200.0\" y=\"-43.750000000000014\" width=\"6.25\" height=\"6.25\" opacity=\"0.0\" fill=\"currentColor\" stroke-width=\"0.1\"/>\n",
       "<rect x=\"206.25\" y=\"-43.750000000000014\" width=\"6.25\" height=\"6.25\" opacity=\"0.0020120724346076456\" fill=\"currentColor\" stroke-width=\"0.1\"/>\n",
       "<rect x=\"212.5\" y=\"-43.750000000000014\" width=\"6.25\" height=\"6.25\" opacity=\"0.0\" fill=\"currentColor\" stroke-width=\"0.1\"/>\n",
       "<rect x=\"218.75\" y=\"-43.750000000000014\" width=\"6.25\" height=\"6.25\" opacity=\"0.0\" fill=\"currentColor\" stroke-width=\"0.1\"/>\n",
       "<rect x=\"225.0\" y=\"-43.750000000000014\" width=\"6.25\" height=\"6.25\" opacity=\"0.0\" fill=\"currentColor\" stroke-width=\"0.1\"/>\n",
       "<rect x=\"231.25\" y=\"-43.750000000000014\" width=\"6.25\" height=\"6.25\" opacity=\"0.0\" fill=\"currentColor\" stroke-width=\"0.1\"/>\n",
       "<rect x=\"237.5\" y=\"-43.750000000000014\" width=\"6.25\" height=\"6.25\" opacity=\"0.0\" fill=\"currentColor\" stroke-width=\"0.1\"/>\n",
       "<rect x=\"243.75\" y=\"-43.750000000000014\" width=\"6.25\" height=\"6.25\" opacity=\"0.0\" fill=\"currentColor\" stroke-width=\"0.1\"/>\n",
       "<rect x=\"0.0\" y=\"-49.999999999999986\" width=\"6.25\" height=\"6.25\" opacity=\"0.0\" fill=\"currentColor\" stroke-width=\"0.1\"/>\n",
       "<rect x=\"6.250000000000005\" y=\"-49.999999999999986\" width=\"6.25\" height=\"6.25\" opacity=\"0.0\" fill=\"currentColor\" stroke-width=\"0.1\"/>\n",
       "<rect x=\"12.50000000000001\" y=\"-49.999999999999986\" width=\"6.25\" height=\"6.25\" opacity=\"0.0\" fill=\"currentColor\" stroke-width=\"0.1\"/>\n",
       "<rect x=\"18.74999999999999\" y=\"-49.999999999999986\" width=\"6.25\" height=\"6.25\" opacity=\"0.0\" fill=\"currentColor\" stroke-width=\"0.1\"/>\n",
       "<rect x=\"24.999999999999993\" y=\"-49.999999999999986\" width=\"6.25\" height=\"6.25\" opacity=\"0.0\" fill=\"currentColor\" stroke-width=\"0.1\"/>\n",
       "<rect x=\"31.25\" y=\"-49.999999999999986\" width=\"6.25\" height=\"6.25\" opacity=\"0.0\" fill=\"currentColor\" stroke-width=\"0.1\"/>\n",
       "<rect x=\"37.50000000000001\" y=\"-49.999999999999986\" width=\"6.25\" height=\"6.25\" opacity=\"0.0\" fill=\"currentColor\" stroke-width=\"0.1\"/>\n",
       "<rect x=\"43.750000000000014\" y=\"-49.999999999999986\" width=\"6.25\" height=\"6.25\" opacity=\"0.0020120724346076634\" fill=\"currentColor\" stroke-width=\"0.1\"/>\n",
       "<rect x=\"49.999999999999986\" y=\"-49.999999999999986\" width=\"6.25\" height=\"6.25\" opacity=\"0.0020120724346076543\" fill=\"currentColor\" stroke-width=\"0.1\"/>\n",
       "<rect x=\"56.24999999999999\" y=\"-49.999999999999986\" width=\"6.25\" height=\"6.25\" opacity=\"0.008048289738430617\" fill=\"currentColor\" stroke-width=\"0.1\"/>\n",
       "<rect x=\"62.5\" y=\"-49.999999999999986\" width=\"6.25\" height=\"6.25\" opacity=\"0.008048289738430617\" fill=\"currentColor\" stroke-width=\"0.1\"/>\n",
       "<rect x=\"68.75\" y=\"-49.999999999999986\" width=\"6.25\" height=\"6.25\" opacity=\"0.010060362173038285\" fill=\"currentColor\" stroke-width=\"0.1\"/>\n",
       "<rect x=\"75.00000000000001\" y=\"-49.999999999999986\" width=\"6.25\" height=\"6.25\" opacity=\"0.02213279678068425\" fill=\"currentColor\" stroke-width=\"0.1\"/>\n",
       "<rect x=\"81.24999999999999\" y=\"-49.999999999999986\" width=\"6.25\" height=\"6.25\" opacity=\"0.014084507042253596\" fill=\"currentColor\" stroke-width=\"0.1\"/>\n",
       "<rect x=\"87.5\" y=\"-49.999999999999986\" width=\"6.25\" height=\"6.25\" opacity=\"0.016096579476861234\" fill=\"currentColor\" stroke-width=\"0.1\"/>\n",
       "<rect x=\"93.75\" y=\"-49.999999999999986\" width=\"6.25\" height=\"6.25\" opacity=\"0.026156941649899505\" fill=\"currentColor\" stroke-width=\"0.1\"/>\n",
       "<rect x=\"100.0\" y=\"-49.999999999999986\" width=\"6.25\" height=\"6.25\" opacity=\"0.03420523138833016\" fill=\"currentColor\" stroke-width=\"0.1\"/>\n",
       "<rect x=\"106.25000000000001\" y=\"-49.999999999999986\" width=\"6.25\" height=\"6.25\" opacity=\"0.032193158953722545\" fill=\"currentColor\" stroke-width=\"0.1\"/>\n",
       "<rect x=\"112.49999999999999\" y=\"-49.999999999999986\" width=\"6.25\" height=\"6.25\" opacity=\"0.056338028169014384\" fill=\"currentColor\" stroke-width=\"0.1\"/>\n",
       "<rect x=\"118.75\" y=\"-49.999999999999986\" width=\"6.25\" height=\"6.25\" opacity=\"0.03219315895372247\" fill=\"currentColor\" stroke-width=\"0.1\"/>\n",
       "<rect x=\"125.0\" y=\"-49.999999999999986\" width=\"6.25\" height=\"6.25\" opacity=\"0.044265593561368395\" fill=\"currentColor\" stroke-width=\"0.1\"/>\n",
       "<rect x=\"131.25\" y=\"-49.999999999999986\" width=\"6.25\" height=\"6.25\" opacity=\"0.048289738430583706\" fill=\"currentColor\" stroke-width=\"0.1\"/>\n",
       "<rect x=\"137.5\" y=\"-49.999999999999986\" width=\"6.25\" height=\"6.25\" opacity=\"0.044265593561368596\" fill=\"currentColor\" stroke-width=\"0.1\"/>\n",
       "<rect x=\"143.75\" y=\"-49.999999999999986\" width=\"6.25\" height=\"6.25\" opacity=\"0.03621730382293777\" fill=\"currentColor\" stroke-width=\"0.1\"/>\n",
       "<rect x=\"150.0\" y=\"-49.999999999999986\" width=\"6.25\" height=\"6.25\" opacity=\"0.03420523138833013\" fill=\"currentColor\" stroke-width=\"0.1\"/>\n",
       "<rect x=\"156.25\" y=\"-49.999999999999986\" width=\"6.25\" height=\"6.25\" opacity=\"0.020120724346076542\" fill=\"currentColor\" stroke-width=\"0.1\"/>\n",
       "<rect x=\"162.5\" y=\"-49.999999999999986\" width=\"6.25\" height=\"6.25\" opacity=\"0.012072434607645927\" fill=\"currentColor\" stroke-width=\"0.1\"/>\n",
       "<rect x=\"168.75\" y=\"-49.999999999999986\" width=\"6.25\" height=\"6.25\" opacity=\"0.008048289738430654\" fill=\"currentColor\" stroke-width=\"0.1\"/>\n",
       "<rect x=\"175.0\" y=\"-49.999999999999986\" width=\"6.25\" height=\"6.25\" opacity=\"0.016096579476861234\" fill=\"currentColor\" stroke-width=\"0.1\"/>\n",
       "<rect x=\"181.25\" y=\"-49.999999999999986\" width=\"6.25\" height=\"6.25\" opacity=\"0.012072434607645927\" fill=\"currentColor\" stroke-width=\"0.1\"/>\n",
       "<rect x=\"187.5\" y=\"-49.999999999999986\" width=\"6.25\" height=\"6.25\" opacity=\"0.0020120724346076543\" fill=\"currentColor\" stroke-width=\"0.1\"/>\n",
       "<rect x=\"193.75\" y=\"-49.999999999999986\" width=\"6.25\" height=\"6.25\" opacity=\"0.0020120724346076543\" fill=\"currentColor\" stroke-width=\"0.1\"/>\n",
       "<rect x=\"200.0\" y=\"-49.999999999999986\" width=\"6.25\" height=\"6.25\" opacity=\"0.0020120724346076634\" fill=\"currentColor\" stroke-width=\"0.1\"/>\n",
       "<rect x=\"206.25\" y=\"-49.999999999999986\" width=\"6.25\" height=\"6.25\" opacity=\"0.0\" fill=\"currentColor\" stroke-width=\"0.1\"/>\n",
       "<rect x=\"212.5\" y=\"-49.999999999999986\" width=\"6.25\" height=\"6.25\" opacity=\"0.0\" fill=\"currentColor\" stroke-width=\"0.1\"/>\n",
       "<rect x=\"218.75\" y=\"-49.999999999999986\" width=\"6.25\" height=\"6.25\" opacity=\"0.0\" fill=\"currentColor\" stroke-width=\"0.1\"/>\n",
       "<rect x=\"225.0\" y=\"-49.999999999999986\" width=\"6.25\" height=\"6.25\" opacity=\"0.0\" fill=\"currentColor\" stroke-width=\"0.1\"/>\n",
       "<rect x=\"231.25\" y=\"-49.999999999999986\" width=\"6.25\" height=\"6.25\" opacity=\"0.0\" fill=\"currentColor\" stroke-width=\"0.1\"/>\n",
       "<rect x=\"237.5\" y=\"-49.999999999999986\" width=\"6.25\" height=\"6.25\" opacity=\"0.0\" fill=\"currentColor\" stroke-width=\"0.1\"/>\n",
       "<rect x=\"243.75\" y=\"-49.999999999999986\" width=\"6.25\" height=\"6.25\" opacity=\"0.0\" fill=\"currentColor\" stroke-width=\"0.1\"/>\n",
       "<rect x=\"0.0\" y=\"-56.24999999999999\" width=\"6.25\" height=\"6.25\" opacity=\"0.0\" fill=\"currentColor\" stroke-width=\"0.1\"/>\n",
       "<rect x=\"6.250000000000005\" y=\"-56.24999999999999\" width=\"6.25\" height=\"6.25\" opacity=\"0.0\" fill=\"currentColor\" stroke-width=\"0.1\"/>\n",
       "<rect x=\"12.50000000000001\" y=\"-56.24999999999999\" width=\"6.25\" height=\"6.25\" opacity=\"0.0\" fill=\"currentColor\" stroke-width=\"0.1\"/>\n",
       "<rect x=\"18.74999999999999\" y=\"-56.24999999999999\" width=\"6.25\" height=\"6.25\" opacity=\"0.0\" fill=\"currentColor\" stroke-width=\"0.1\"/>\n",
       "<rect x=\"24.999999999999993\" y=\"-56.24999999999999\" width=\"6.25\" height=\"6.25\" opacity=\"0.0\" fill=\"currentColor\" stroke-width=\"0.1\"/>\n",
       "<rect x=\"31.25\" y=\"-56.24999999999999\" width=\"6.25\" height=\"6.25\" opacity=\"0.0\" fill=\"currentColor\" stroke-width=\"0.1\"/>\n",
       "<rect x=\"37.50000000000001\" y=\"-56.24999999999999\" width=\"6.25\" height=\"6.25\" opacity=\"0.0\" fill=\"currentColor\" stroke-width=\"0.1\"/>\n",
       "<rect x=\"43.750000000000014\" y=\"-56.24999999999999\" width=\"6.25\" height=\"6.25\" opacity=\"0.0\" fill=\"currentColor\" stroke-width=\"0.1\"/>\n",
       "<rect x=\"49.999999999999986\" y=\"-56.24999999999999\" width=\"6.25\" height=\"6.25\" opacity=\"0.01006036217303823\" fill=\"currentColor\" stroke-width=\"0.1\"/>\n",
       "<rect x=\"56.24999999999999\" y=\"-56.24999999999999\" width=\"6.25\" height=\"6.25\" opacity=\"0.0020120724346076456\" fill=\"currentColor\" stroke-width=\"0.1\"/>\n",
       "<rect x=\"62.5\" y=\"-56.24999999999999\" width=\"6.25\" height=\"6.25\" opacity=\"0.012072434607645875\" fill=\"currentColor\" stroke-width=\"0.1\"/>\n",
       "<rect x=\"68.75\" y=\"-56.24999999999999\" width=\"6.25\" height=\"6.25\" opacity=\"0.018108651911468827\" fill=\"currentColor\" stroke-width=\"0.1\"/>\n",
       "<rect x=\"75.00000000000001\" y=\"-56.24999999999999\" width=\"6.25\" height=\"6.25\" opacity=\"0.018108651911468848\" fill=\"currentColor\" stroke-width=\"0.1\"/>\n",
       "<rect x=\"81.24999999999999\" y=\"-56.24999999999999\" width=\"6.25\" height=\"6.25\" opacity=\"0.04426559356136824\" fill=\"currentColor\" stroke-width=\"0.1\"/>\n",
       "<rect x=\"87.5\" y=\"-56.24999999999999\" width=\"6.25\" height=\"6.25\" opacity=\"0.03219315895372233\" fill=\"currentColor\" stroke-width=\"0.1\"/>\n",
       "<rect x=\"93.75\" y=\"-56.24999999999999\" width=\"6.25\" height=\"6.25\" opacity=\"0.04024144869215292\" fill=\"currentColor\" stroke-width=\"0.1\"/>\n",
       "<rect x=\"100.0\" y=\"-56.24999999999999\" width=\"6.25\" height=\"6.25\" opacity=\"0.05835010060362178\" fill=\"currentColor\" stroke-width=\"0.1\"/>\n",
       "<rect x=\"106.25000000000001\" y=\"-56.24999999999999\" width=\"6.25\" height=\"6.25\" opacity=\"0.06639839034205244\" fill=\"currentColor\" stroke-width=\"0.1\"/>\n",
       "<rect x=\"112.49999999999999\" y=\"-56.24999999999999\" width=\"6.25\" height=\"6.25\" opacity=\"0.0422535211267606\" fill=\"currentColor\" stroke-width=\"0.1\"/>\n",
       "<rect x=\"118.75\" y=\"-56.24999999999999\" width=\"6.25\" height=\"6.25\" opacity=\"0.07042253521126761\" fill=\"currentColor\" stroke-width=\"0.1\"/>\n",
       "<rect x=\"125.0\" y=\"-56.24999999999999\" width=\"6.25\" height=\"6.25\" opacity=\"0.06841046277665995\" fill=\"currentColor\" stroke-width=\"0.1\"/>\n",
       "<rect x=\"131.25\" y=\"-56.24999999999999\" width=\"6.25\" height=\"6.25\" opacity=\"0.03822937625754527\" fill=\"currentColor\" stroke-width=\"0.1\"/>\n",
       "<rect x=\"137.5\" y=\"-56.24999999999999\" width=\"6.25\" height=\"6.25\" opacity=\"0.06438631790744494\" fill=\"currentColor\" stroke-width=\"0.1\"/>\n",
       "<rect x=\"143.75\" y=\"-56.24999999999999\" width=\"6.25\" height=\"6.25\" opacity=\"0.06036217303822937\" fill=\"currentColor\" stroke-width=\"0.1\"/>\n",
       "<rect x=\"150.0\" y=\"-56.24999999999999\" width=\"6.25\" height=\"6.25\" opacity=\"0.05633802816901408\" fill=\"currentColor\" stroke-width=\"0.1\"/>\n",
       "<rect x=\"156.25\" y=\"-56.24999999999999\" width=\"6.25\" height=\"6.25\" opacity=\"0.034205231388329975\" fill=\"currentColor\" stroke-width=\"0.1\"/>\n",
       "<rect x=\"162.5\" y=\"-56.24999999999999\" width=\"6.25\" height=\"6.25\" opacity=\"0.02816901408450704\" fill=\"currentColor\" stroke-width=\"0.1\"/>\n",
       "<rect x=\"168.75\" y=\"-56.24999999999999\" width=\"6.25\" height=\"6.25\" opacity=\"0.016096579476861234\" fill=\"currentColor\" stroke-width=\"0.1\"/>\n",
       "<rect x=\"175.0\" y=\"-56.24999999999999\" width=\"6.25\" height=\"6.25\" opacity=\"0.0221327967806841\" fill=\"currentColor\" stroke-width=\"0.1\"/>\n",
       "<rect x=\"181.25\" y=\"-56.24999999999999\" width=\"6.25\" height=\"6.25\" opacity=\"0.008048289738430582\" fill=\"currentColor\" stroke-width=\"0.1\"/>\n",
       "<rect x=\"187.5\" y=\"-56.24999999999999\" width=\"6.25\" height=\"6.25\" opacity=\"0.004024144869215291\" fill=\"currentColor\" stroke-width=\"0.1\"/>\n",
       "<rect x=\"193.75\" y=\"-56.24999999999999\" width=\"6.25\" height=\"6.25\" opacity=\"0.004024144869215291\" fill=\"currentColor\" stroke-width=\"0.1\"/>\n",
       "<rect x=\"200.0\" y=\"-56.24999999999999\" width=\"6.25\" height=\"6.25\" opacity=\"0.004024144869215309\" fill=\"currentColor\" stroke-width=\"0.1\"/>\n",
       "<rect x=\"206.25\" y=\"-56.24999999999999\" width=\"6.25\" height=\"6.25\" opacity=\"0.0020120724346076456\" fill=\"currentColor\" stroke-width=\"0.1\"/>\n",
       "<rect x=\"212.5\" y=\"-56.24999999999999\" width=\"6.25\" height=\"6.25\" opacity=\"0.0\" fill=\"currentColor\" stroke-width=\"0.1\"/>\n",
       "<rect x=\"218.75\" y=\"-56.24999999999999\" width=\"6.25\" height=\"6.25\" opacity=\"0.0\" fill=\"currentColor\" stroke-width=\"0.1\"/>\n",
       "<rect x=\"225.0\" y=\"-56.24999999999999\" width=\"6.25\" height=\"6.25\" opacity=\"0.0\" fill=\"currentColor\" stroke-width=\"0.1\"/>\n",
       "<rect x=\"231.25\" y=\"-56.24999999999999\" width=\"6.25\" height=\"6.25\" opacity=\"0.0\" fill=\"currentColor\" stroke-width=\"0.1\"/>\n",
       "<rect x=\"237.5\" y=\"-56.24999999999999\" width=\"6.25\" height=\"6.25\" opacity=\"0.0\" fill=\"currentColor\" stroke-width=\"0.1\"/>\n",
       "<rect x=\"243.75\" y=\"-56.24999999999999\" width=\"6.25\" height=\"6.25\" opacity=\"0.0\" fill=\"currentColor\" stroke-width=\"0.1\"/>\n",
       "<rect x=\"0.0\" y=\"-62.5\" width=\"6.25\" height=\"6.25\" opacity=\"0.0\" fill=\"currentColor\" stroke-width=\"0.1\"/>\n",
       "<rect x=\"6.250000000000005\" y=\"-62.5\" width=\"6.25\" height=\"6.25\" opacity=\"0.0\" fill=\"currentColor\" stroke-width=\"0.1\"/>\n",
       "<rect x=\"12.50000000000001\" y=\"-62.5\" width=\"6.25\" height=\"6.25\" opacity=\"0.0\" fill=\"currentColor\" stroke-width=\"0.1\"/>\n",
       "<rect x=\"18.74999999999999\" y=\"-62.5\" width=\"6.25\" height=\"6.25\" opacity=\"0.0020120724346076456\" fill=\"currentColor\" stroke-width=\"0.1\"/>\n",
       "<rect x=\"24.999999999999993\" y=\"-62.5\" width=\"6.25\" height=\"6.25\" opacity=\"0.0020120724346076456\" fill=\"currentColor\" stroke-width=\"0.1\"/>\n",
       "<rect x=\"31.25\" y=\"-62.5\" width=\"6.25\" height=\"6.25\" opacity=\"0.0\" fill=\"currentColor\" stroke-width=\"0.1\"/>\n",
       "<rect x=\"37.50000000000001\" y=\"-62.5\" width=\"6.25\" height=\"6.25\" opacity=\"0.006036217303822937\" fill=\"currentColor\" stroke-width=\"0.1\"/>\n",
       "<rect x=\"43.750000000000014\" y=\"-62.5\" width=\"6.25\" height=\"6.25\" opacity=\"0.004024144869215309\" fill=\"currentColor\" stroke-width=\"0.1\"/>\n",
       "<rect x=\"49.999999999999986\" y=\"-62.5\" width=\"6.25\" height=\"6.25\" opacity=\"0.008048289738430582\" fill=\"currentColor\" stroke-width=\"0.1\"/>\n",
       "<rect x=\"56.24999999999999\" y=\"-62.5\" width=\"6.25\" height=\"6.25\" opacity=\"0.012072434607645875\" fill=\"currentColor\" stroke-width=\"0.1\"/>\n",
       "<rect x=\"62.5\" y=\"-62.5\" width=\"6.25\" height=\"6.25\" opacity=\"0.0221327967806841\" fill=\"currentColor\" stroke-width=\"0.1\"/>\n",
       "<rect x=\"68.75\" y=\"-62.5\" width=\"6.25\" height=\"6.25\" opacity=\"0.020120724346076476\" fill=\"currentColor\" stroke-width=\"0.1\"/>\n",
       "<rect x=\"75.00000000000001\" y=\"-62.5\" width=\"6.25\" height=\"6.25\" opacity=\"0.036217303822937696\" fill=\"currentColor\" stroke-width=\"0.1\"/>\n",
       "<rect x=\"81.24999999999999\" y=\"-62.5\" width=\"6.25\" height=\"6.25\" opacity=\"0.04024144869215295\" fill=\"currentColor\" stroke-width=\"0.1\"/>\n",
       "<rect x=\"87.5\" y=\"-62.5\" width=\"6.25\" height=\"6.25\" opacity=\"0.06841046277665995\" fill=\"currentColor\" stroke-width=\"0.1\"/>\n",
       "<rect x=\"93.75\" y=\"-62.5\" width=\"6.25\" height=\"6.25\" opacity=\"0.07847082494969819\" fill=\"currentColor\" stroke-width=\"0.1\"/>\n",
       "<rect x=\"100.0\" y=\"-62.5\" width=\"6.25\" height=\"6.25\" opacity=\"0.0845070422535212\" fill=\"currentColor\" stroke-width=\"0.1\"/>\n",
       "<rect x=\"106.25000000000001\" y=\"-62.5\" width=\"6.25\" height=\"6.25\" opacity=\"0.10261569416499015\" fill=\"currentColor\" stroke-width=\"0.1\"/>\n",
       "<rect x=\"112.49999999999999\" y=\"-62.5\" width=\"6.25\" height=\"6.25\" opacity=\"0.09456740442655943\" fill=\"currentColor\" stroke-width=\"0.1\"/>\n",
       "<rect x=\"118.75\" y=\"-62.5\" width=\"6.25\" height=\"6.25\" opacity=\"0.1368209255533199\" fill=\"currentColor\" stroke-width=\"0.1\"/>\n",
       "<rect x=\"125.0\" y=\"-62.5\" width=\"6.25\" height=\"6.25\" opacity=\"0.12072434607645874\" fill=\"currentColor\" stroke-width=\"0.1\"/>\n",
       "<rect x=\"131.25\" y=\"-62.5\" width=\"6.25\" height=\"6.25\" opacity=\"0.08249496981891348\" fill=\"currentColor\" stroke-width=\"0.1\"/>\n",
       "<rect x=\"137.5\" y=\"-62.5\" width=\"6.25\" height=\"6.25\" opacity=\"0.09456740442655974\" fill=\"currentColor\" stroke-width=\"0.1\"/>\n",
       "<rect x=\"143.75\" y=\"-62.5\" width=\"6.25\" height=\"6.25\" opacity=\"0.0744466800804829\" fill=\"currentColor\" stroke-width=\"0.1\"/>\n",
       "<rect x=\"150.0\" y=\"-62.5\" width=\"6.25\" height=\"6.25\" opacity=\"0.08651911468812876\" fill=\"currentColor\" stroke-width=\"0.1\"/>\n",
       "<rect x=\"156.25\" y=\"-62.5\" width=\"6.25\" height=\"6.25\" opacity=\"0.054325955734406434\" fill=\"currentColor\" stroke-width=\"0.1\"/>\n",
       "<rect x=\"162.5\" y=\"-62.5\" width=\"6.25\" height=\"6.25\" opacity=\"0.0442655935613682\" fill=\"currentColor\" stroke-width=\"0.1\"/>\n",
       "<rect x=\"168.75\" y=\"-62.5\" width=\"6.25\" height=\"6.25\" opacity=\"0.030181086519114813\" fill=\"currentColor\" stroke-width=\"0.1\"/>\n",
       "<rect x=\"175.0\" y=\"-62.5\" width=\"6.25\" height=\"6.25\" opacity=\"0.03219315895372233\" fill=\"currentColor\" stroke-width=\"0.1\"/>\n",
       "<rect x=\"181.25\" y=\"-62.5\" width=\"6.25\" height=\"6.25\" opacity=\"0.0221327967806841\" fill=\"currentColor\" stroke-width=\"0.1\"/>\n",
       "<rect x=\"187.5\" y=\"-62.5\" width=\"6.25\" height=\"6.25\" opacity=\"0.008048289738430582\" fill=\"currentColor\" stroke-width=\"0.1\"/>\n",
       "<rect x=\"193.75\" y=\"-62.5\" width=\"6.25\" height=\"6.25\" opacity=\"0.0020120724346076456\" fill=\"currentColor\" stroke-width=\"0.1\"/>\n",
       "<rect x=\"200.0\" y=\"-62.5\" width=\"6.25\" height=\"6.25\" opacity=\"0.0\" fill=\"currentColor\" stroke-width=\"0.1\"/>\n",
       "<rect x=\"206.25\" y=\"-62.5\" width=\"6.25\" height=\"6.25\" opacity=\"0.006036217303822937\" fill=\"currentColor\" stroke-width=\"0.1\"/>\n",
       "<rect x=\"212.5\" y=\"-62.5\" width=\"6.25\" height=\"6.25\" opacity=\"0.0\" fill=\"currentColor\" stroke-width=\"0.1\"/>\n",
       "<rect x=\"218.75\" y=\"-62.5\" width=\"6.25\" height=\"6.25\" opacity=\"0.0020120724346076456\" fill=\"currentColor\" stroke-width=\"0.1\"/>\n",
       "<rect x=\"225.0\" y=\"-62.5\" width=\"6.25\" height=\"6.25\" opacity=\"0.0\" fill=\"currentColor\" stroke-width=\"0.1\"/>\n",
       "<rect x=\"231.25\" y=\"-62.5\" width=\"6.25\" height=\"6.25\" opacity=\"0.0\" fill=\"currentColor\" stroke-width=\"0.1\"/>\n",
       "<rect x=\"237.5\" y=\"-62.5\" width=\"6.25\" height=\"6.25\" opacity=\"0.0\" fill=\"currentColor\" stroke-width=\"0.1\"/>\n",
       "<rect x=\"243.75\" y=\"-62.5\" width=\"6.25\" height=\"6.25\" opacity=\"0.0\" fill=\"currentColor\" stroke-width=\"0.1\"/>\n",
       "<rect x=\"0.0\" y=\"-68.75\" width=\"6.25\" height=\"6.25\" opacity=\"0.0\" fill=\"currentColor\" stroke-width=\"0.1\"/>\n",
       "<rect x=\"6.250000000000005\" y=\"-68.75\" width=\"6.25\" height=\"6.25\" opacity=\"0.0\" fill=\"currentColor\" stroke-width=\"0.1\"/>\n",
       "<rect x=\"12.50000000000001\" y=\"-68.75\" width=\"6.25\" height=\"6.25\" opacity=\"0.0\" fill=\"currentColor\" stroke-width=\"0.1\"/>\n",
       "<rect x=\"18.74999999999999\" y=\"-68.75\" width=\"6.25\" height=\"6.25\" opacity=\"0.0\" fill=\"currentColor\" stroke-width=\"0.1\"/>\n",
       "<rect x=\"24.999999999999993\" y=\"-68.75\" width=\"6.25\" height=\"6.25\" opacity=\"0.0\" fill=\"currentColor\" stroke-width=\"0.1\"/>\n",
       "<rect x=\"31.25\" y=\"-68.75\" width=\"6.25\" height=\"6.25\" opacity=\"0.0020120724346076456\" fill=\"currentColor\" stroke-width=\"0.1\"/>\n",
       "<rect x=\"37.50000000000001\" y=\"-68.75\" width=\"6.25\" height=\"6.25\" opacity=\"0.006036217303822937\" fill=\"currentColor\" stroke-width=\"0.1\"/>\n",
       "<rect x=\"43.750000000000014\" y=\"-68.75\" width=\"6.25\" height=\"6.25\" opacity=\"0.004024144869215309\" fill=\"currentColor\" stroke-width=\"0.1\"/>\n",
       "<rect x=\"49.999999999999986\" y=\"-68.75\" width=\"6.25\" height=\"6.25\" opacity=\"0.01408450704225352\" fill=\"currentColor\" stroke-width=\"0.1\"/>\n",
       "<rect x=\"56.24999999999999\" y=\"-68.75\" width=\"6.25\" height=\"6.25\" opacity=\"0.012072434607645875\" fill=\"currentColor\" stroke-width=\"0.1\"/>\n",
       "<rect x=\"62.5\" y=\"-68.75\" width=\"6.25\" height=\"6.25\" opacity=\"0.016096579476861165\" fill=\"currentColor\" stroke-width=\"0.1\"/>\n",
       "<rect x=\"68.75\" y=\"-68.75\" width=\"6.25\" height=\"6.25\" opacity=\"0.0422535211267606\" fill=\"currentColor\" stroke-width=\"0.1\"/>\n",
       "<rect x=\"75.00000000000001\" y=\"-68.75\" width=\"6.25\" height=\"6.25\" opacity=\"0.04627766599597595\" fill=\"currentColor\" stroke-width=\"0.1\"/>\n",
       "<rect x=\"81.24999999999999\" y=\"-68.75\" width=\"6.25\" height=\"6.25\" opacity=\"0.08853118712273648\" fill=\"currentColor\" stroke-width=\"0.1\"/>\n",
       "<rect x=\"87.5\" y=\"-68.75\" width=\"6.25\" height=\"6.25\" opacity=\"0.10663983903420522\" fill=\"currentColor\" stroke-width=\"0.1\"/>\n",
       "<rect x=\"93.75\" y=\"-68.75\" width=\"6.25\" height=\"6.25\" opacity=\"0.12072434607645874\" fill=\"currentColor\" stroke-width=\"0.1\"/>\n",
       "<rect x=\"100.0\" y=\"-68.75\" width=\"6.25\" height=\"6.25\" opacity=\"0.14688128772635828\" fill=\"currentColor\" stroke-width=\"0.1\"/>\n",
       "<rect x=\"106.25000000000001\" y=\"-68.75\" width=\"6.25\" height=\"6.25\" opacity=\"0.19114688128772672\" fill=\"currentColor\" stroke-width=\"0.1\"/>\n",
       "<rect x=\"112.49999999999999\" y=\"-68.75\" width=\"6.25\" height=\"6.25\" opacity=\"0.1649899396378271\" fill=\"currentColor\" stroke-width=\"0.1\"/>\n",
       "<rect x=\"118.75\" y=\"-68.75\" width=\"6.25\" height=\"6.25\" opacity=\"0.1368209255533199\" fill=\"currentColor\" stroke-width=\"0.1\"/>\n",
       "<rect x=\"125.0\" y=\"-68.75\" width=\"6.25\" height=\"6.25\" opacity=\"0.1730382293762575\" fill=\"currentColor\" stroke-width=\"0.1\"/>\n",
       "<rect x=\"131.25\" y=\"-68.75\" width=\"6.25\" height=\"6.25\" opacity=\"0.1770623742454728\" fill=\"currentColor\" stroke-width=\"0.1\"/>\n",
       "<rect x=\"137.5\" y=\"-68.75\" width=\"6.25\" height=\"6.25\" opacity=\"0.1448692152917511\" fill=\"currentColor\" stroke-width=\"0.1\"/>\n",
       "<rect x=\"143.75\" y=\"-68.75\" width=\"6.25\" height=\"6.25\" opacity=\"0.1327967806841046\" fill=\"currentColor\" stroke-width=\"0.1\"/>\n",
       "<rect x=\"150.0\" y=\"-68.75\" width=\"6.25\" height=\"6.25\" opacity=\"0.10462776659959758\" fill=\"currentColor\" stroke-width=\"0.1\"/>\n",
       "<rect x=\"156.25\" y=\"-68.75\" width=\"6.25\" height=\"6.25\" opacity=\"0.08048289738430583\" fill=\"currentColor\" stroke-width=\"0.1\"/>\n",
       "<rect x=\"162.5\" y=\"-68.75\" width=\"6.25\" height=\"6.25\" opacity=\"0.05633802816901408\" fill=\"currentColor\" stroke-width=\"0.1\"/>\n",
       "<rect x=\"168.75\" y=\"-68.75\" width=\"6.25\" height=\"6.25\" opacity=\"0.05432595573440666\" fill=\"currentColor\" stroke-width=\"0.1\"/>\n",
       "<rect x=\"175.0\" y=\"-68.75\" width=\"6.25\" height=\"6.25\" opacity=\"0.030181086519114685\" fill=\"currentColor\" stroke-width=\"0.1\"/>\n",
       "<rect x=\"181.25\" y=\"-68.75\" width=\"6.25\" height=\"6.25\" opacity=\"0.034205231388329975\" fill=\"currentColor\" stroke-width=\"0.1\"/>\n",
       "<rect x=\"187.5\" y=\"-68.75\" width=\"6.25\" height=\"6.25\" opacity=\"0.016096579476861165\" fill=\"currentColor\" stroke-width=\"0.1\"/>\n",
       "<rect x=\"193.75\" y=\"-68.75\" width=\"6.25\" height=\"6.25\" opacity=\"0.012072434607645875\" fill=\"currentColor\" stroke-width=\"0.1\"/>\n",
       "<rect x=\"200.0\" y=\"-68.75\" width=\"6.25\" height=\"6.25\" opacity=\"0.008048289738430617\" fill=\"currentColor\" stroke-width=\"0.1\"/>\n",
       "<rect x=\"206.25\" y=\"-68.75\" width=\"6.25\" height=\"6.25\" opacity=\"0.004024144869215291\" fill=\"currentColor\" stroke-width=\"0.1\"/>\n",
       "<rect x=\"212.5\" y=\"-68.75\" width=\"6.25\" height=\"6.25\" opacity=\"0.0020120724346076456\" fill=\"currentColor\" stroke-width=\"0.1\"/>\n",
       "<rect x=\"218.75\" y=\"-68.75\" width=\"6.25\" height=\"6.25\" opacity=\"0.0\" fill=\"currentColor\" stroke-width=\"0.1\"/>\n",
       "<rect x=\"225.0\" y=\"-68.75\" width=\"6.25\" height=\"6.25\" opacity=\"0.0\" fill=\"currentColor\" stroke-width=\"0.1\"/>\n",
       "<rect x=\"231.25\" y=\"-68.75\" width=\"6.25\" height=\"6.25\" opacity=\"0.0\" fill=\"currentColor\" stroke-width=\"0.1\"/>\n",
       "<rect x=\"237.5\" y=\"-68.75\" width=\"6.25\" height=\"6.25\" opacity=\"0.0\" fill=\"currentColor\" stroke-width=\"0.1\"/>\n",
       "<rect x=\"243.75\" y=\"-68.75\" width=\"6.25\" height=\"6.25\" opacity=\"0.0\" fill=\"currentColor\" stroke-width=\"0.1\"/>\n",
       "<rect x=\"0.0\" y=\"-75.00000000000001\" width=\"6.25\" height=\"6.25\" opacity=\"0.0020120724346076473\" fill=\"currentColor\" stroke-width=\"0.1\"/>\n",
       "<rect x=\"6.250000000000005\" y=\"-75.00000000000001\" width=\"6.25\" height=\"6.25\" opacity=\"0.0\" fill=\"currentColor\" stroke-width=\"0.1\"/>\n",
       "<rect x=\"12.50000000000001\" y=\"-75.00000000000001\" width=\"6.25\" height=\"6.25\" opacity=\"0.0\" fill=\"currentColor\" stroke-width=\"0.1\"/>\n",
       "<rect x=\"18.74999999999999\" y=\"-75.00000000000001\" width=\"6.25\" height=\"6.25\" opacity=\"0.0020120724346076473\" fill=\"currentColor\" stroke-width=\"0.1\"/>\n",
       "<rect x=\"24.999999999999993\" y=\"-75.00000000000001\" width=\"6.25\" height=\"6.25\" opacity=\"0.004024144869215295\" fill=\"currentColor\" stroke-width=\"0.1\"/>\n",
       "<rect x=\"31.25\" y=\"-75.00000000000001\" width=\"6.25\" height=\"6.25\" opacity=\"0.0020120724346076473\" fill=\"currentColor\" stroke-width=\"0.1\"/>\n",
       "<rect x=\"37.50000000000001\" y=\"-75.00000000000001\" width=\"6.25\" height=\"6.25\" opacity=\"0.004024144869215295\" fill=\"currentColor\" stroke-width=\"0.1\"/>\n",
       "<rect x=\"43.750000000000014\" y=\"-75.00000000000001\" width=\"6.25\" height=\"6.25\" opacity=\"0.014084507042253596\" fill=\"currentColor\" stroke-width=\"0.1\"/>\n",
       "<rect x=\"49.999999999999986\" y=\"-75.00000000000001\" width=\"6.25\" height=\"6.25\" opacity=\"0.010060362173038238\" fill=\"currentColor\" stroke-width=\"0.1\"/>\n",
       "<rect x=\"56.24999999999999\" y=\"-75.00000000000001\" width=\"6.25\" height=\"6.25\" opacity=\"0.028169014084507067\" fill=\"currentColor\" stroke-width=\"0.1\"/>\n",
       "<rect x=\"62.5\" y=\"-75.00000000000001\" width=\"6.25\" height=\"6.25\" opacity=\"0.04024144869215295\" fill=\"currentColor\" stroke-width=\"0.1\"/>\n",
       "<rect x=\"68.75\" y=\"-75.00000000000001\" width=\"6.25\" height=\"6.25\" opacity=\"0.0563380281690142\" fill=\"currentColor\" stroke-width=\"0.1\"/>\n",
       "<rect x=\"75.00000000000001\" y=\"-75.00000000000001\" width=\"6.25\" height=\"6.25\" opacity=\"0.06438631790744487\" fill=\"currentColor\" stroke-width=\"0.1\"/>\n",
       "<rect x=\"81.24999999999999\" y=\"-75.00000000000001\" width=\"6.25\" height=\"6.25\" opacity=\"0.11468812877263605\" fill=\"currentColor\" stroke-width=\"0.1\"/>\n",
       "<rect x=\"87.5\" y=\"-75.00000000000001\" width=\"6.25\" height=\"6.25\" opacity=\"0.11670020120724356\" fill=\"currentColor\" stroke-width=\"0.1\"/>\n",
       "<rect x=\"93.75\" y=\"-75.00000000000001\" width=\"6.25\" height=\"6.25\" opacity=\"0.1488933601609659\" fill=\"currentColor\" stroke-width=\"0.1\"/>\n",
       "<rect x=\"100.0\" y=\"-75.00000000000001\" width=\"6.25\" height=\"6.25\" opacity=\"0.18712273641851143\" fill=\"currentColor\" stroke-width=\"0.1\"/>\n",
       "<rect x=\"106.25000000000001\" y=\"-75.00000000000001\" width=\"6.25\" height=\"6.25\" opacity=\"0.18712273641851165\" fill=\"currentColor\" stroke-width=\"0.1\"/>\n",
       "<rect x=\"112.49999999999999\" y=\"-75.00000000000001\" width=\"6.25\" height=\"6.25\" opacity=\"0.21327967806841092\" fill=\"currentColor\" stroke-width=\"0.1\"/>\n",
       "<rect x=\"118.75\" y=\"-75.00000000000001\" width=\"6.25\" height=\"6.25\" opacity=\"0.19114688128772653\" fill=\"currentColor\" stroke-width=\"0.1\"/>\n",
       "<rect x=\"125.0\" y=\"-75.00000000000001\" width=\"6.25\" height=\"6.25\" opacity=\"0.2595573440643865\" fill=\"currentColor\" stroke-width=\"0.1\"/>\n",
       "<rect x=\"131.25\" y=\"-75.00000000000001\" width=\"6.25\" height=\"6.25\" opacity=\"0.2535211267605636\" fill=\"currentColor\" stroke-width=\"0.1\"/>\n",
       "<rect x=\"137.5\" y=\"-75.00000000000001\" width=\"6.25\" height=\"6.25\" opacity=\"0.20724346076458866\" fill=\"currentColor\" stroke-width=\"0.1\"/>\n",
       "<rect x=\"143.75\" y=\"-75.00000000000001\" width=\"6.25\" height=\"6.25\" opacity=\"0.19718309859154945\" fill=\"currentColor\" stroke-width=\"0.1\"/>\n",
       "<rect x=\"150.0\" y=\"-75.00000000000001\" width=\"6.25\" height=\"6.25\" opacity=\"0.15090543259557357\" fill=\"currentColor\" stroke-width=\"0.1\"/>\n",
       "<rect x=\"156.25\" y=\"-75.00000000000001\" width=\"6.25\" height=\"6.25\" opacity=\"0.17303822937625768\" fill=\"currentColor\" stroke-width=\"0.1\"/>\n",
       "<rect x=\"162.5\" y=\"-75.00000000000001\" width=\"6.25\" height=\"6.25\" opacity=\"0.11468812877263591\" fill=\"currentColor\" stroke-width=\"0.1\"/>\n",
       "<rect x=\"168.75\" y=\"-75.00000000000001\" width=\"6.25\" height=\"6.25\" opacity=\"0.06639839034205267\" fill=\"currentColor\" stroke-width=\"0.1\"/>\n",
       "<rect x=\"175.0\" y=\"-75.00000000000001\" width=\"6.25\" height=\"6.25\" opacity=\"0.07042253521126766\" fill=\"currentColor\" stroke-width=\"0.1\"/>\n",
       "<rect x=\"181.25\" y=\"-75.00000000000001\" width=\"6.25\" height=\"6.25\" opacity=\"0.04426559356136824\" fill=\"currentColor\" stroke-width=\"0.1\"/>\n",
       "<rect x=\"187.5\" y=\"-75.00000000000001\" width=\"6.25\" height=\"6.25\" opacity=\"0.0382293762575453\" fill=\"currentColor\" stroke-width=\"0.1\"/>\n",
       "<rect x=\"193.75\" y=\"-75.00000000000001\" width=\"6.25\" height=\"6.25\" opacity=\"0.01609657947686118\" fill=\"currentColor\" stroke-width=\"0.1\"/>\n",
       "<rect x=\"200.0\" y=\"-75.00000000000001\" width=\"6.25\" height=\"6.25\" opacity=\"0.010060362173038285\" fill=\"currentColor\" stroke-width=\"0.1\"/>\n",
       "<rect x=\"206.25\" y=\"-75.00000000000001\" width=\"6.25\" height=\"6.25\" opacity=\"0.0060362173038229425\" fill=\"currentColor\" stroke-width=\"0.1\"/>\n",
       "<rect x=\"212.5\" y=\"-75.00000000000001\" width=\"6.25\" height=\"6.25\" opacity=\"0.0020120724346076473\" fill=\"currentColor\" stroke-width=\"0.1\"/>\n",
       "<rect x=\"218.75\" y=\"-75.00000000000001\" width=\"6.25\" height=\"6.25\" opacity=\"0.0\" fill=\"currentColor\" stroke-width=\"0.1\"/>\n",
       "<rect x=\"225.0\" y=\"-75.00000000000001\" width=\"6.25\" height=\"6.25\" opacity=\"0.0\" fill=\"currentColor\" stroke-width=\"0.1\"/>\n",
       "<rect x=\"231.25\" y=\"-75.00000000000001\" width=\"6.25\" height=\"6.25\" opacity=\"0.0\" fill=\"currentColor\" stroke-width=\"0.1\"/>\n",
       "<rect x=\"237.5\" y=\"-75.00000000000001\" width=\"6.25\" height=\"6.25\" opacity=\"0.0020120724346076473\" fill=\"currentColor\" stroke-width=\"0.1\"/>\n",
       "<rect x=\"243.75\" y=\"-75.00000000000001\" width=\"6.25\" height=\"6.25\" opacity=\"0.0\" fill=\"currentColor\" stroke-width=\"0.1\"/>\n",
       "<rect x=\"0.0\" y=\"-81.24999999999999\" width=\"6.25\" height=\"6.25\" opacity=\"0.0\" fill=\"currentColor\" stroke-width=\"0.1\"/>\n",
       "<rect x=\"6.250000000000005\" y=\"-81.24999999999999\" width=\"6.25\" height=\"6.25\" opacity=\"0.0\" fill=\"currentColor\" stroke-width=\"0.1\"/>\n",
       "<rect x=\"12.50000000000001\" y=\"-81.24999999999999\" width=\"6.25\" height=\"6.25\" opacity=\"0.0\" fill=\"currentColor\" stroke-width=\"0.1\"/>\n",
       "<rect x=\"18.74999999999999\" y=\"-81.24999999999999\" width=\"6.25\" height=\"6.25\" opacity=\"0.00201207243460765\" fill=\"currentColor\" stroke-width=\"0.1\"/>\n",
       "<rect x=\"24.999999999999993\" y=\"-81.24999999999999\" width=\"6.25\" height=\"6.25\" opacity=\"0.0\" fill=\"currentColor\" stroke-width=\"0.1\"/>\n",
       "<rect x=\"31.25\" y=\"-81.24999999999999\" width=\"6.25\" height=\"6.25\" opacity=\"0.0080482897384306\" fill=\"currentColor\" stroke-width=\"0.1\"/>\n",
       "<rect x=\"37.50000000000001\" y=\"-81.24999999999999\" width=\"6.25\" height=\"6.25\" opacity=\"0.018108651911468848\" fill=\"currentColor\" stroke-width=\"0.1\"/>\n",
       "<rect x=\"43.750000000000014\" y=\"-81.24999999999999\" width=\"6.25\" height=\"6.25\" opacity=\"0.014084507042253612\" fill=\"currentColor\" stroke-width=\"0.1\"/>\n",
       "<rect x=\"49.999999999999986\" y=\"-81.24999999999999\" width=\"6.25\" height=\"6.25\" opacity=\"0.0241448692152918\" fill=\"currentColor\" stroke-width=\"0.1\"/>\n",
       "<rect x=\"56.24999999999999\" y=\"-81.24999999999999\" width=\"6.25\" height=\"6.25\" opacity=\"0.0281690140845071\" fill=\"currentColor\" stroke-width=\"0.1\"/>\n",
       "<rect x=\"62.5\" y=\"-81.24999999999999\" width=\"6.25\" height=\"6.25\" opacity=\"0.07243460764587539\" fill=\"currentColor\" stroke-width=\"0.1\"/>\n",
       "<rect x=\"68.75\" y=\"-81.24999999999999\" width=\"6.25\" height=\"6.25\" opacity=\"0.062374245472837216\" fill=\"currentColor\" stroke-width=\"0.1\"/>\n",
       "<rect x=\"75.00000000000001\" y=\"-81.24999999999999\" width=\"6.25\" height=\"6.25\" opacity=\"0.10865191146881333\" fill=\"currentColor\" stroke-width=\"0.1\"/>\n",
       "<rect x=\"81.24999999999999\" y=\"-81.24999999999999\" width=\"6.25\" height=\"6.25\" opacity=\"0.12072434607645913\" fill=\"currentColor\" stroke-width=\"0.1\"/>\n",
       "<rect x=\"87.5\" y=\"-81.24999999999999\" width=\"6.25\" height=\"6.25\" opacity=\"0.1770623742454732\" fill=\"currentColor\" stroke-width=\"0.1\"/>\n",
       "<rect x=\"93.75\" y=\"-81.24999999999999\" width=\"6.25\" height=\"6.25\" opacity=\"0.18913480885311912\" fill=\"currentColor\" stroke-width=\"0.1\"/>\n",
       "<rect x=\"100.0\" y=\"-81.24999999999999\" width=\"6.25\" height=\"6.25\" opacity=\"0.20925553319919582\" fill=\"currentColor\" stroke-width=\"0.1\"/>\n",
       "<rect x=\"106.25000000000001\" y=\"-81.24999999999999\" width=\"6.25\" height=\"6.25\" opacity=\"0.26961770623742565\" fill=\"currentColor\" stroke-width=\"0.1\"/>\n",
       "<rect x=\"112.49999999999999\" y=\"-81.24999999999999\" width=\"6.25\" height=\"6.25\" opacity=\"0.30181086519114786\" fill=\"currentColor\" stroke-width=\"0.1\"/>\n",
       "<rect x=\"118.75\" y=\"-81.24999999999999\" width=\"6.25\" height=\"6.25\" opacity=\"0.2857142857142863\" fill=\"currentColor\" stroke-width=\"0.1\"/>\n",
       "<rect x=\"125.0\" y=\"-81.24999999999999\" width=\"6.25\" height=\"6.25\" opacity=\"0.36016096579476936\" fill=\"currentColor\" stroke-width=\"0.1\"/>\n",
       "<rect x=\"131.25\" y=\"-81.24999999999999\" width=\"6.25\" height=\"6.25\" opacity=\"0.241448692152918\" fill=\"currentColor\" stroke-width=\"0.1\"/>\n",
       "<rect x=\"137.5\" y=\"-81.24999999999999\" width=\"6.25\" height=\"6.25\" opacity=\"0.271629778672034\" fill=\"currentColor\" stroke-width=\"0.1\"/>\n",
       "<rect x=\"143.75\" y=\"-81.24999999999999\" width=\"6.25\" height=\"6.25\" opacity=\"0.23943661971831037\" fill=\"currentColor\" stroke-width=\"0.1\"/>\n",
       "<rect x=\"150.0\" y=\"-81.24999999999999\" width=\"6.25\" height=\"6.25\" opacity=\"0.2173038229376262\" fill=\"currentColor\" stroke-width=\"0.1\"/>\n",
       "<rect x=\"156.25\" y=\"-81.24999999999999\" width=\"6.25\" height=\"6.25\" opacity=\"0.18309859154929614\" fill=\"currentColor\" stroke-width=\"0.1\"/>\n",
       "<rect x=\"162.5\" y=\"-81.24999999999999\" width=\"6.25\" height=\"6.25\" opacity=\"0.1126760563380284\" fill=\"currentColor\" stroke-width=\"0.1\"/>\n",
       "<rect x=\"168.75\" y=\"-81.24999999999999\" width=\"6.25\" height=\"6.25\" opacity=\"0.07645875251509103\" fill=\"currentColor\" stroke-width=\"0.1\"/>\n",
       "<rect x=\"175.0\" y=\"-81.24999999999999\" width=\"6.25\" height=\"6.25\" opacity=\"0.08651911468812895\" fill=\"currentColor\" stroke-width=\"0.1\"/>\n",
       "<rect x=\"181.25\" y=\"-81.24999999999999\" width=\"6.25\" height=\"6.25\" opacity=\"0.040241448692153\" fill=\"currentColor\" stroke-width=\"0.1\"/>\n",
       "<rect x=\"187.5\" y=\"-81.24999999999999\" width=\"6.25\" height=\"6.25\" opacity=\"0.03018108651911475\" fill=\"currentColor\" stroke-width=\"0.1\"/>\n",
       "<rect x=\"193.75\" y=\"-81.24999999999999\" width=\"6.25\" height=\"6.25\" opacity=\"0.0241448692152918\" fill=\"currentColor\" stroke-width=\"0.1\"/>\n",
       "<rect x=\"200.0\" y=\"-81.24999999999999\" width=\"6.25\" height=\"6.25\" opacity=\"0.010060362173038295\" fill=\"currentColor\" stroke-width=\"0.1\"/>\n",
       "<rect x=\"206.25\" y=\"-81.24999999999999\" width=\"6.25\" height=\"6.25\" opacity=\"0.00201207243460765\" fill=\"currentColor\" stroke-width=\"0.1\"/>\n",
       "<rect x=\"212.5\" y=\"-81.24999999999999\" width=\"6.25\" height=\"6.25\" opacity=\"0.00201207243460765\" fill=\"currentColor\" stroke-width=\"0.1\"/>\n",
       "<rect x=\"218.75\" y=\"-81.24999999999999\" width=\"6.25\" height=\"6.25\" opacity=\"0.00201207243460765\" fill=\"currentColor\" stroke-width=\"0.1\"/>\n",
       "<rect x=\"225.0\" y=\"-81.24999999999999\" width=\"6.25\" height=\"6.25\" opacity=\"0.00201207243460765\" fill=\"currentColor\" stroke-width=\"0.1\"/>\n",
       "<rect x=\"231.25\" y=\"-81.24999999999999\" width=\"6.25\" height=\"6.25\" opacity=\"0.0\" fill=\"currentColor\" stroke-width=\"0.1\"/>\n",
       "<rect x=\"237.5\" y=\"-81.24999999999999\" width=\"6.25\" height=\"6.25\" opacity=\"0.0\" fill=\"currentColor\" stroke-width=\"0.1\"/>\n",
       "<rect x=\"243.75\" y=\"-81.24999999999999\" width=\"6.25\" height=\"6.25\" opacity=\"0.0\" fill=\"currentColor\" stroke-width=\"0.1\"/>\n",
       "<rect x=\"0.0\" y=\"-87.5\" width=\"6.25\" height=\"6.25\" opacity=\"0.0\" fill=\"currentColor\" stroke-width=\"0.1\"/>\n",
       "<rect x=\"6.250000000000005\" y=\"-87.5\" width=\"6.25\" height=\"6.25\" opacity=\"0.0\" fill=\"currentColor\" stroke-width=\"0.1\"/>\n",
       "<rect x=\"12.50000000000001\" y=\"-87.5\" width=\"6.25\" height=\"6.25\" opacity=\"0.0\" fill=\"currentColor\" stroke-width=\"0.1\"/>\n",
       "<rect x=\"18.74999999999999\" y=\"-87.5\" width=\"6.25\" height=\"6.25\" opacity=\"0.0020120724346076473\" fill=\"currentColor\" stroke-width=\"0.1\"/>\n",
       "<rect x=\"24.999999999999993\" y=\"-87.5\" width=\"6.25\" height=\"6.25\" opacity=\"0.004024144869215295\" fill=\"currentColor\" stroke-width=\"0.1\"/>\n",
       "<rect x=\"31.25\" y=\"-87.5\" width=\"6.25\" height=\"6.25\" opacity=\"0.0020120724346076473\" fill=\"currentColor\" stroke-width=\"0.1\"/>\n",
       "<rect x=\"37.50000000000001\" y=\"-87.5\" width=\"6.25\" height=\"6.25\" opacity=\"0.00804828973843059\" fill=\"currentColor\" stroke-width=\"0.1\"/>\n",
       "<rect x=\"43.750000000000014\" y=\"-87.5\" width=\"6.25\" height=\"6.25\" opacity=\"0.022132796780684225\" fill=\"currentColor\" stroke-width=\"0.1\"/>\n",
       "<rect x=\"49.999999999999986\" y=\"-87.5\" width=\"6.25\" height=\"6.25\" opacity=\"0.010060362173038238\" fill=\"currentColor\" stroke-width=\"0.1\"/>\n",
       "<rect x=\"56.24999999999999\" y=\"-87.5\" width=\"6.25\" height=\"6.25\" opacity=\"0.0422535211267606\" fill=\"currentColor\" stroke-width=\"0.1\"/>\n",
       "<rect x=\"62.5\" y=\"-87.5\" width=\"6.25\" height=\"6.25\" opacity=\"0.09456740442655943\" fill=\"currentColor\" stroke-width=\"0.1\"/>\n",
       "<rect x=\"68.75\" y=\"-87.5\" width=\"6.25\" height=\"6.25\" opacity=\"0.07847082494969836\" fill=\"currentColor\" stroke-width=\"0.1\"/>\n",
       "<rect x=\"75.00000000000001\" y=\"-87.5\" width=\"6.25\" height=\"6.25\" opacity=\"0.138832997987928\" fill=\"currentColor\" stroke-width=\"0.1\"/>\n",
       "<rect x=\"81.24999999999999\" y=\"-87.5\" width=\"6.25\" height=\"6.25\" opacity=\"0.201207243460765\" fill=\"currentColor\" stroke-width=\"0.1\"/>\n",
       "<rect x=\"87.5\" y=\"-87.5\" width=\"6.25\" height=\"6.25\" opacity=\"0.21327967806841067\" fill=\"currentColor\" stroke-width=\"0.1\"/>\n",
       "<rect x=\"93.75\" y=\"-87.5\" width=\"6.25\" height=\"6.25\" opacity=\"0.2917505030181089\" fill=\"currentColor\" stroke-width=\"0.1\"/>\n",
       "<rect x=\"100.0\" y=\"-87.5\" width=\"6.25\" height=\"6.25\" opacity=\"0.3400402414486928\" fill=\"currentColor\" stroke-width=\"0.1\"/>\n",
       "<rect x=\"106.25000000000001\" y=\"-87.5\" width=\"6.25\" height=\"6.25\" opacity=\"0.329979879275655\" fill=\"currentColor\" stroke-width=\"0.1\"/>\n",
       "<rect x=\"112.49999999999999\" y=\"-87.5\" width=\"6.25\" height=\"6.25\" opacity=\"0.4004024144869223\" fill=\"currentColor\" stroke-width=\"0.1\"/>\n",
       "<rect x=\"118.75\" y=\"-87.5\" width=\"6.25\" height=\"6.25\" opacity=\"0.38229376257545306\" fill=\"currentColor\" stroke-width=\"0.1\"/>\n",
       "<rect x=\"125.0\" y=\"-87.5\" width=\"6.25\" height=\"6.25\" opacity=\"0.42253521126760596\" fill=\"currentColor\" stroke-width=\"0.1\"/>\n",
       "<rect x=\"131.25\" y=\"-87.5\" width=\"6.25\" height=\"6.25\" opacity=\"0.3963782696177066\" fill=\"currentColor\" stroke-width=\"0.1\"/>\n",
       "<rect x=\"137.5\" y=\"-87.5\" width=\"6.25\" height=\"6.25\" opacity=\"0.4205231388330003\" fill=\"currentColor\" stroke-width=\"0.1\"/>\n",
       "<rect x=\"143.75\" y=\"-87.5\" width=\"6.25\" height=\"6.25\" opacity=\"0.28370221327967826\" fill=\"currentColor\" stroke-width=\"0.1\"/>\n",
       "<rect x=\"150.0\" y=\"-87.5\" width=\"6.25\" height=\"6.25\" opacity=\"0.32595573440643894\" fill=\"currentColor\" stroke-width=\"0.1\"/>\n",
       "<rect x=\"156.25\" y=\"-87.5\" width=\"6.25\" height=\"6.25\" opacity=\"0.24748490945674065\" fill=\"currentColor\" stroke-width=\"0.1\"/>\n",
       "<rect x=\"162.5\" y=\"-87.5\" width=\"6.25\" height=\"6.25\" opacity=\"0.17505030181086534\" fill=\"currentColor\" stroke-width=\"0.1\"/>\n",
       "<rect x=\"168.75\" y=\"-87.5\" width=\"6.25\" height=\"6.25\" opacity=\"0.12877263581489\" fill=\"currentColor\" stroke-width=\"0.1\"/>\n",
       "<rect x=\"175.0\" y=\"-87.5\" width=\"6.25\" height=\"6.25\" opacity=\"0.07847082494969825\" fill=\"currentColor\" stroke-width=\"0.1\"/>\n",
       "<rect x=\"181.25\" y=\"-87.5\" width=\"6.25\" height=\"6.25\" opacity=\"0.06841046277666002\" fill=\"currentColor\" stroke-width=\"0.1\"/>\n",
       "<rect x=\"187.5\" y=\"-87.5\" width=\"6.25\" height=\"6.25\" opacity=\"0.03219315895372236\" fill=\"currentColor\" stroke-width=\"0.1\"/>\n",
       "<rect x=\"193.75\" y=\"-87.5\" width=\"6.25\" height=\"6.25\" opacity=\"0.030181086519114712\" fill=\"currentColor\" stroke-width=\"0.1\"/>\n",
       "<rect x=\"200.0\" y=\"-87.5\" width=\"6.25\" height=\"6.25\" opacity=\"0.01810865191146891\" fill=\"currentColor\" stroke-width=\"0.1\"/>\n",
       "<rect x=\"206.25\" y=\"-87.5\" width=\"6.25\" height=\"6.25\" opacity=\"0.00804828973843059\" fill=\"currentColor\" stroke-width=\"0.1\"/>\n",
       "<rect x=\"212.5\" y=\"-87.5\" width=\"6.25\" height=\"6.25\" opacity=\"0.0060362173038229425\" fill=\"currentColor\" stroke-width=\"0.1\"/>\n",
       "<rect x=\"218.75\" y=\"-87.5\" width=\"6.25\" height=\"6.25\" opacity=\"0.00804828973843059\" fill=\"currentColor\" stroke-width=\"0.1\"/>\n",
       "<rect x=\"225.0\" y=\"-87.5\" width=\"6.25\" height=\"6.25\" opacity=\"0.0020120724346076473\" fill=\"currentColor\" stroke-width=\"0.1\"/>\n",
       "<rect x=\"231.25\" y=\"-87.5\" width=\"6.25\" height=\"6.25\" opacity=\"0.0\" fill=\"currentColor\" stroke-width=\"0.1\"/>\n",
       "<rect x=\"237.5\" y=\"-87.5\" width=\"6.25\" height=\"6.25\" opacity=\"0.0\" fill=\"currentColor\" stroke-width=\"0.1\"/>\n",
       "<rect x=\"243.75\" y=\"-87.5\" width=\"6.25\" height=\"6.25\" opacity=\"0.0\" fill=\"currentColor\" stroke-width=\"0.1\"/>\n",
       "<rect x=\"0.0\" y=\"-93.75\" width=\"6.25\" height=\"6.25\" opacity=\"0.0\" fill=\"currentColor\" stroke-width=\"0.1\"/>\n",
       "<rect x=\"6.250000000000005\" y=\"-93.75\" width=\"6.25\" height=\"6.25\" opacity=\"0.0\" fill=\"currentColor\" stroke-width=\"0.1\"/>\n",
       "<rect x=\"12.50000000000001\" y=\"-93.75\" width=\"6.25\" height=\"6.25\" opacity=\"0.0\" fill=\"currentColor\" stroke-width=\"0.1\"/>\n",
       "<rect x=\"18.74999999999999\" y=\"-93.75\" width=\"6.25\" height=\"6.25\" opacity=\"0.004024144869215291\" fill=\"currentColor\" stroke-width=\"0.1\"/>\n",
       "<rect x=\"24.999999999999993\" y=\"-93.75\" width=\"6.25\" height=\"6.25\" opacity=\"0.0020120724346076456\" fill=\"currentColor\" stroke-width=\"0.1\"/>\n",
       "<rect x=\"31.25\" y=\"-93.75\" width=\"6.25\" height=\"6.25\" opacity=\"0.008048289738430582\" fill=\"currentColor\" stroke-width=\"0.1\"/>\n",
       "<rect x=\"37.50000000000001\" y=\"-93.75\" width=\"6.25\" height=\"6.25\" opacity=\"0.016096579476861165\" fill=\"currentColor\" stroke-width=\"0.1\"/>\n",
       "<rect x=\"43.750000000000014\" y=\"-93.75\" width=\"6.25\" height=\"6.25\" opacity=\"0.024144869215291853\" fill=\"currentColor\" stroke-width=\"0.1\"/>\n",
       "<rect x=\"49.999999999999986\" y=\"-93.75\" width=\"6.25\" height=\"6.25\" opacity=\"0.03219315895372233\" fill=\"currentColor\" stroke-width=\"0.1\"/>\n",
       "<rect x=\"56.24999999999999\" y=\"-93.75\" width=\"6.25\" height=\"6.25\" opacity=\"0.05231388329979879\" fill=\"currentColor\" stroke-width=\"0.1\"/>\n",
       "<rect x=\"62.5\" y=\"-93.75\" width=\"6.25\" height=\"6.25\" opacity=\"0.08048289738430583\" fill=\"currentColor\" stroke-width=\"0.1\"/>\n",
       "<rect x=\"68.75\" y=\"-93.75\" width=\"6.25\" height=\"6.25\" opacity=\"0.09657947686116708\" fill=\"currentColor\" stroke-width=\"0.1\"/>\n",
       "<rect x=\"75.00000000000001\" y=\"-93.75\" width=\"6.25\" height=\"6.25\" opacity=\"0.16297786720321963\" fill=\"currentColor\" stroke-width=\"0.1\"/>\n",
       "<rect x=\"81.24999999999999\" y=\"-93.75\" width=\"6.25\" height=\"6.25\" opacity=\"0.2997987927565395\" fill=\"currentColor\" stroke-width=\"0.1\"/>\n",
       "<rect x=\"87.5\" y=\"-93.75\" width=\"6.25\" height=\"6.25\" opacity=\"0.26358148893360156\" fill=\"currentColor\" stroke-width=\"0.1\"/>\n",
       "<rect x=\"93.75\" y=\"-93.75\" width=\"6.25\" height=\"6.25\" opacity=\"0.3440643863179074\" fill=\"currentColor\" stroke-width=\"0.1\"/>\n",
       "<rect x=\"100.0\" y=\"-93.75\" width=\"6.25\" height=\"6.25\" opacity=\"0.4466800804828977\" fill=\"currentColor\" stroke-width=\"0.1\"/>\n",
       "<rect x=\"106.25000000000001\" y=\"-93.75\" width=\"6.25\" height=\"6.25\" opacity=\"0.4647887323943672\" fill=\"currentColor\" stroke-width=\"0.1\"/>\n",
       "<rect x=\"112.49999999999999\" y=\"-93.75\" width=\"6.25\" height=\"6.25\" opacity=\"0.484909456740443\" fill=\"currentColor\" stroke-width=\"0.1\"/>\n",
       "<rect x=\"118.75\" y=\"-93.75\" width=\"6.25\" height=\"6.25\" opacity=\"0.5231388329979879\" fill=\"currentColor\" stroke-width=\"0.1\"/>\n",
       "<rect x=\"125.0\" y=\"-93.75\" width=\"6.25\" height=\"6.25\" opacity=\"0.5432595573440643\" fill=\"currentColor\" stroke-width=\"0.1\"/>\n",
       "<rect x=\"131.25\" y=\"-93.75\" width=\"6.25\" height=\"6.25\" opacity=\"0.5231388329979879\" fill=\"currentColor\" stroke-width=\"0.1\"/>\n",
       "<rect x=\"137.5\" y=\"-93.75\" width=\"6.25\" height=\"6.25\" opacity=\"0.40241448692153087\" fill=\"currentColor\" stroke-width=\"0.1\"/>\n",
       "<rect x=\"143.75\" y=\"-93.75\" width=\"6.25\" height=\"6.25\" opacity=\"0.40845070422535207\" fill=\"currentColor\" stroke-width=\"0.1\"/>\n",
       "<rect x=\"150.0\" y=\"-93.75\" width=\"6.25\" height=\"6.25\" opacity=\"0.3118712273641851\" fill=\"currentColor\" stroke-width=\"0.1\"/>\n",
       "<rect x=\"156.25\" y=\"-93.75\" width=\"6.25\" height=\"6.25\" opacity=\"0.30181086519114686\" fill=\"currentColor\" stroke-width=\"0.1\"/>\n",
       "<rect x=\"162.5\" y=\"-93.75\" width=\"6.25\" height=\"6.25\" opacity=\"0.22334004024144868\" fill=\"currentColor\" stroke-width=\"0.1\"/>\n",
       "<rect x=\"168.75\" y=\"-93.75\" width=\"6.25\" height=\"6.25\" opacity=\"0.13480885311871282\" fill=\"currentColor\" stroke-width=\"0.1\"/>\n",
       "<rect x=\"175.0\" y=\"-93.75\" width=\"6.25\" height=\"6.25\" opacity=\"0.12273641851106638\" fill=\"currentColor\" stroke-width=\"0.1\"/>\n",
       "<rect x=\"181.25\" y=\"-93.75\" width=\"6.25\" height=\"6.25\" opacity=\"0.054325955734406434\" fill=\"currentColor\" stroke-width=\"0.1\"/>\n",
       "<rect x=\"187.5\" y=\"-93.75\" width=\"6.25\" height=\"6.25\" opacity=\"0.05231388329979879\" fill=\"currentColor\" stroke-width=\"0.1\"/>\n",
       "<rect x=\"193.75\" y=\"-93.75\" width=\"6.25\" height=\"6.25\" opacity=\"0.05633802816901408\" fill=\"currentColor\" stroke-width=\"0.1\"/>\n",
       "<rect x=\"200.0\" y=\"-93.75\" width=\"6.25\" height=\"6.25\" opacity=\"0.024144869215291853\" fill=\"currentColor\" stroke-width=\"0.1\"/>\n",
       "<rect x=\"206.25\" y=\"-93.75\" width=\"6.25\" height=\"6.25\" opacity=\"0.008048289738430582\" fill=\"currentColor\" stroke-width=\"0.1\"/>\n",
       "<rect x=\"212.5\" y=\"-93.75\" width=\"6.25\" height=\"6.25\" opacity=\"0.01006036217303823\" fill=\"currentColor\" stroke-width=\"0.1\"/>\n",
       "<rect x=\"218.75\" y=\"-93.75\" width=\"6.25\" height=\"6.25\" opacity=\"0.0\" fill=\"currentColor\" stroke-width=\"0.1\"/>\n",
       "<rect x=\"225.0\" y=\"-93.75\" width=\"6.25\" height=\"6.25\" opacity=\"0.0020120724346076456\" fill=\"currentColor\" stroke-width=\"0.1\"/>\n",
       "<rect x=\"231.25\" y=\"-93.75\" width=\"6.25\" height=\"6.25\" opacity=\"0.0020120724346076543\" fill=\"currentColor\" stroke-width=\"0.1\"/>\n",
       "<rect x=\"237.5\" y=\"-93.75\" width=\"6.25\" height=\"6.25\" opacity=\"0.0\" fill=\"currentColor\" stroke-width=\"0.1\"/>\n",
       "<rect x=\"243.75\" y=\"-93.75\" width=\"6.25\" height=\"6.25\" opacity=\"0.0\" fill=\"currentColor\" stroke-width=\"0.1\"/>\n",
       "<rect x=\"0.0\" y=\"-100.0\" width=\"6.25\" height=\"6.25\" opacity=\"0.0\" fill=\"currentColor\" stroke-width=\"0.1\"/>\n",
       "<rect x=\"6.250000000000005\" y=\"-100.0\" width=\"6.25\" height=\"6.25\" opacity=\"0.0\" fill=\"currentColor\" stroke-width=\"0.1\"/>\n",
       "<rect x=\"12.50000000000001\" y=\"-100.0\" width=\"6.25\" height=\"6.25\" opacity=\"0.0020120724346076543\" fill=\"currentColor\" stroke-width=\"0.1\"/>\n",
       "<rect x=\"18.74999999999999\" y=\"-100.0\" width=\"6.25\" height=\"6.25\" opacity=\"0.0\" fill=\"currentColor\" stroke-width=\"0.1\"/>\n",
       "<rect x=\"24.999999999999993\" y=\"-100.0\" width=\"6.25\" height=\"6.25\" opacity=\"0.006036217303822937\" fill=\"currentColor\" stroke-width=\"0.1\"/>\n",
       "<rect x=\"31.25\" y=\"-100.0\" width=\"6.25\" height=\"6.25\" opacity=\"0.01006036217303823\" fill=\"currentColor\" stroke-width=\"0.1\"/>\n",
       "<rect x=\"37.50000000000001\" y=\"-100.0\" width=\"6.25\" height=\"6.25\" opacity=\"0.01408450704225352\" fill=\"currentColor\" stroke-width=\"0.1\"/>\n",
       "<rect x=\"43.750000000000014\" y=\"-100.0\" width=\"6.25\" height=\"6.25\" opacity=\"0.026156941649899505\" fill=\"currentColor\" stroke-width=\"0.1\"/>\n",
       "<rect x=\"49.999999999999986\" y=\"-100.0\" width=\"6.25\" height=\"6.25\" opacity=\"0.04627766599597585\" fill=\"currentColor\" stroke-width=\"0.1\"/>\n",
       "<rect x=\"56.24999999999999\" y=\"-100.0\" width=\"6.25\" height=\"6.25\" opacity=\"0.0925553319919517\" fill=\"currentColor\" stroke-width=\"0.1\"/>\n",
       "<rect x=\"62.5\" y=\"-100.0\" width=\"6.25\" height=\"6.25\" opacity=\"0.09859154929577464\" fill=\"currentColor\" stroke-width=\"0.1\"/>\n",
       "<rect x=\"68.75\" y=\"-100.0\" width=\"6.25\" height=\"6.25\" opacity=\"0.17706237424547297\" fill=\"currentColor\" stroke-width=\"0.1\"/>\n",
       "<rect x=\"75.00000000000001\" y=\"-100.0\" width=\"6.25\" height=\"6.25\" opacity=\"0.21327967806841092\" fill=\"currentColor\" stroke-width=\"0.1\"/>\n",
       "<rect x=\"81.24999999999999\" y=\"-100.0\" width=\"6.25\" height=\"6.25\" opacity=\"0.2977867203219318\" fill=\"currentColor\" stroke-width=\"0.1\"/>\n",
       "<rect x=\"87.5\" y=\"-100.0\" width=\"6.25\" height=\"6.25\" opacity=\"0.3601609657947686\" fill=\"currentColor\" stroke-width=\"0.1\"/>\n",
       "<rect x=\"93.75\" y=\"-100.0\" width=\"6.25\" height=\"6.25\" opacity=\"0.4245472837022133\" fill=\"currentColor\" stroke-width=\"0.1\"/>\n",
       "<rect x=\"100.0\" y=\"-100.0\" width=\"6.25\" height=\"6.25\" opacity=\"0.46680080482897424\" fill=\"currentColor\" stroke-width=\"0.1\"/>\n",
       "<rect x=\"106.25000000000001\" y=\"-100.0\" width=\"6.25\" height=\"6.25\" opacity=\"0.5995975855130796\" fill=\"currentColor\" stroke-width=\"0.1\"/>\n",
       "<rect x=\"112.49999999999999\" y=\"-100.0\" width=\"6.25\" height=\"6.25\" opacity=\"0.571428571428572\" fill=\"currentColor\" stroke-width=\"0.1\"/>\n",
       "<rect x=\"118.75\" y=\"-100.0\" width=\"6.25\" height=\"6.25\" opacity=\"0.5774647887323943\" fill=\"currentColor\" stroke-width=\"0.1\"/>\n",
       "<rect x=\"125.0\" y=\"-100.0\" width=\"6.25\" height=\"6.25\" opacity=\"0.5533199195171026\" fill=\"currentColor\" stroke-width=\"0.1\"/>\n",
       "<rect x=\"131.25\" y=\"-100.0\" width=\"6.25\" height=\"6.25\" opacity=\"0.5653923541247484\" fill=\"currentColor\" stroke-width=\"0.1\"/>\n",
       "<rect x=\"137.5\" y=\"-100.0\" width=\"6.25\" height=\"6.25\" opacity=\"0.5714285714285738\" fill=\"currentColor\" stroke-width=\"0.1\"/>\n",
       "<rect x=\"143.75\" y=\"-100.0\" width=\"6.25\" height=\"6.25\" opacity=\"0.46881287726358145\" fill=\"currentColor\" stroke-width=\"0.1\"/>\n",
       "<rect x=\"150.0\" y=\"-100.0\" width=\"6.25\" height=\"6.25\" opacity=\"0.4245472837022133\" fill=\"currentColor\" stroke-width=\"0.1\"/>\n",
       "<rect x=\"156.25\" y=\"-100.0\" width=\"6.25\" height=\"6.25\" opacity=\"0.346076458752515\" fill=\"currentColor\" stroke-width=\"0.1\"/>\n",
       "<rect x=\"162.5\" y=\"-100.0\" width=\"6.25\" height=\"6.25\" opacity=\"0.2857142857142857\" fill=\"currentColor\" stroke-width=\"0.1\"/>\n",
       "<rect x=\"168.75\" y=\"-100.0\" width=\"6.25\" height=\"6.25\" opacity=\"0.16901408450704297\" fill=\"currentColor\" stroke-width=\"0.1\"/>\n",
       "<rect x=\"175.0\" y=\"-100.0\" width=\"6.25\" height=\"6.25\" opacity=\"0.1730382293762575\" fill=\"currentColor\" stroke-width=\"0.1\"/>\n",
       "<rect x=\"181.25\" y=\"-100.0\" width=\"6.25\" height=\"6.25\" opacity=\"0.0925553319919517\" fill=\"currentColor\" stroke-width=\"0.1\"/>\n",
       "<rect x=\"187.5\" y=\"-100.0\" width=\"6.25\" height=\"6.25\" opacity=\"0.05231388329979879\" fill=\"currentColor\" stroke-width=\"0.1\"/>\n",
       "<rect x=\"193.75\" y=\"-100.0\" width=\"6.25\" height=\"6.25\" opacity=\"0.0482897384305835\" fill=\"currentColor\" stroke-width=\"0.1\"/>\n",
       "<rect x=\"200.0\" y=\"-100.0\" width=\"6.25\" height=\"6.25\" opacity=\"0.026156941649899505\" fill=\"currentColor\" stroke-width=\"0.1\"/>\n",
       "<rect x=\"206.25\" y=\"-100.0\" width=\"6.25\" height=\"6.25\" opacity=\"0.02012072434607646\" fill=\"currentColor\" stroke-width=\"0.1\"/>\n",
       "<rect x=\"212.5\" y=\"-100.0\" width=\"6.25\" height=\"6.25\" opacity=\"0.006036217303822937\" fill=\"currentColor\" stroke-width=\"0.1\"/>\n",
       "<rect x=\"218.75\" y=\"-100.0\" width=\"6.25\" height=\"6.25\" opacity=\"0.006036217303822937\" fill=\"currentColor\" stroke-width=\"0.1\"/>\n",
       "<rect x=\"225.0\" y=\"-100.0\" width=\"6.25\" height=\"6.25\" opacity=\"0.0020120724346076456\" fill=\"currentColor\" stroke-width=\"0.1\"/>\n",
       "<rect x=\"231.25\" y=\"-100.0\" width=\"6.25\" height=\"6.25\" opacity=\"0.0\" fill=\"currentColor\" stroke-width=\"0.1\"/>\n",
       "<rect x=\"237.5\" y=\"-100.0\" width=\"6.25\" height=\"6.25\" opacity=\"0.0\" fill=\"currentColor\" stroke-width=\"0.1\"/>\n",
       "<rect x=\"243.75\" y=\"-100.0\" width=\"6.25\" height=\"6.25\" opacity=\"0.0\" fill=\"currentColor\" stroke-width=\"0.1\"/>\n",
       "<rect x=\"0.0\" y=\"-106.25000000000001\" width=\"6.25\" height=\"6.25\" opacity=\"0.0020120724346076473\" fill=\"currentColor\" stroke-width=\"0.1\"/>\n",
       "<rect x=\"6.250000000000005\" y=\"-106.25000000000001\" width=\"6.25\" height=\"6.25\" opacity=\"0.0020120724346076473\" fill=\"currentColor\" stroke-width=\"0.1\"/>\n",
       "<rect x=\"12.50000000000001\" y=\"-106.25000000000001\" width=\"6.25\" height=\"6.25\" opacity=\"0.0\" fill=\"currentColor\" stroke-width=\"0.1\"/>\n",
       "<rect x=\"18.74999999999999\" y=\"-106.25000000000001\" width=\"6.25\" height=\"6.25\" opacity=\"0.004024144869215295\" fill=\"currentColor\" stroke-width=\"0.1\"/>\n",
       "<rect x=\"24.999999999999993\" y=\"-106.25000000000001\" width=\"6.25\" height=\"6.25\" opacity=\"0.00804828973843059\" fill=\"currentColor\" stroke-width=\"0.1\"/>\n",
       "<rect x=\"31.25\" y=\"-106.25000000000001\" width=\"6.25\" height=\"6.25\" opacity=\"0.004024144869215295\" fill=\"currentColor\" stroke-width=\"0.1\"/>\n",
       "<rect x=\"37.50000000000001\" y=\"-106.25000000000001\" width=\"6.25\" height=\"6.25\" opacity=\"0.01609657947686118\" fill=\"currentColor\" stroke-width=\"0.1\"/>\n",
       "<rect x=\"43.750000000000014\" y=\"-106.25000000000001\" width=\"6.25\" height=\"6.25\" opacity=\"0.0321931589537225\" fill=\"currentColor\" stroke-width=\"0.1\"/>\n",
       "<rect x=\"49.999999999999986\" y=\"-106.25000000000001\" width=\"6.25\" height=\"6.25\" opacity=\"0.056338028169014134\" fill=\"currentColor\" stroke-width=\"0.1\"/>\n",
       "<rect x=\"56.24999999999999\" y=\"-106.25000000000001\" width=\"6.25\" height=\"6.25\" opacity=\"0.0845070422535212\" fill=\"currentColor\" stroke-width=\"0.1\"/>\n",
       "<rect x=\"62.5\" y=\"-106.25000000000001\" width=\"6.25\" height=\"6.25\" opacity=\"0.1227364185110665\" fill=\"currentColor\" stroke-width=\"0.1\"/>\n",
       "<rect x=\"68.75\" y=\"-106.25000000000001\" width=\"6.25\" height=\"6.25\" opacity=\"0.17505030181086553\" fill=\"currentColor\" stroke-width=\"0.1\"/>\n",
       "<rect x=\"75.00000000000001\" y=\"-106.25000000000001\" width=\"6.25\" height=\"6.25\" opacity=\"0.21126760563380348\" fill=\"currentColor\" stroke-width=\"0.1\"/>\n",
       "<rect x=\"81.24999999999999\" y=\"-106.25000000000001\" width=\"6.25\" height=\"6.25\" opacity=\"0.31187122736418577\" fill=\"currentColor\" stroke-width=\"0.1\"/>\n",
       "<rect x=\"87.5\" y=\"-106.25000000000001\" width=\"6.25\" height=\"6.25\" opacity=\"0.43259557344064425\" fill=\"currentColor\" stroke-width=\"0.1\"/>\n",
       "<rect x=\"93.75\" y=\"-106.25000000000001\" width=\"6.25\" height=\"6.25\" opacity=\"0.5090543259557349\" fill=\"currentColor\" stroke-width=\"0.1\"/>\n",
       "<rect x=\"100.0\" y=\"-106.25000000000001\" width=\"6.25\" height=\"6.25\" opacity=\"0.5030181086519124\" fill=\"currentColor\" stroke-width=\"0.1\"/>\n",
       "<rect x=\"106.25000000000001\" y=\"-106.25000000000001\" width=\"6.25\" height=\"6.25\" opacity=\"0.7102615694165012\" fill=\"currentColor\" stroke-width=\"0.1\"/>\n",
       "<rect x=\"112.49999999999999\" y=\"-106.25000000000001\" width=\"6.25\" height=\"6.25\" opacity=\"0.6720321931589551\" fill=\"currentColor\" stroke-width=\"0.1\"/>\n",
       "<rect x=\"118.75\" y=\"-106.25000000000001\" width=\"6.25\" height=\"6.25\" opacity=\"0.730382293762576\" fill=\"currentColor\" stroke-width=\"0.1\"/>\n",
       "<rect x=\"125.0\" y=\"-106.25000000000001\" width=\"6.25\" height=\"6.25\" opacity=\"0.7444668008048296\" fill=\"currentColor\" stroke-width=\"0.1\"/>\n",
       "<rect x=\"131.25\" y=\"-106.25000000000001\" width=\"6.25\" height=\"6.25\" opacity=\"0.6921529175050307\" fill=\"currentColor\" stroke-width=\"0.1\"/>\n",
       "<rect x=\"137.5\" y=\"-106.25000000000001\" width=\"6.25\" height=\"6.25\" opacity=\"0.6861167002012108\" fill=\"currentColor\" stroke-width=\"0.1\"/>\n",
       "<rect x=\"143.75\" y=\"-106.25000000000001\" width=\"6.25\" height=\"6.25\" opacity=\"0.6096579476861173\" fill=\"currentColor\" stroke-width=\"0.1\"/>\n",
       "<rect x=\"150.0\" y=\"-106.25000000000001\" width=\"6.25\" height=\"6.25\" opacity=\"0.5392354124748495\" fill=\"currentColor\" stroke-width=\"0.1\"/>\n",
       "<rect x=\"156.25\" y=\"-106.25000000000001\" width=\"6.25\" height=\"6.25\" opacity=\"0.3963782696177066\" fill=\"currentColor\" stroke-width=\"0.1\"/>\n",
       "<rect x=\"162.5\" y=\"-106.25000000000001\" width=\"6.25\" height=\"6.25\" opacity=\"0.34004024144869244\" fill=\"currentColor\" stroke-width=\"0.1\"/>\n",
       "<rect x=\"168.75\" y=\"-106.25000000000001\" width=\"6.25\" height=\"6.25\" opacity=\"0.23943661971831115\" fill=\"currentColor\" stroke-width=\"0.1\"/>\n",
       "<rect x=\"175.0\" y=\"-106.25000000000001\" width=\"6.25\" height=\"6.25\" opacity=\"0.1991951710261571\" fill=\"currentColor\" stroke-width=\"0.1\"/>\n",
       "<rect x=\"181.25\" y=\"-106.25000000000001\" width=\"6.25\" height=\"6.25\" opacity=\"0.1609657947686118\" fill=\"currentColor\" stroke-width=\"0.1\"/>\n",
       "<rect x=\"187.5\" y=\"-106.25000000000001\" width=\"6.25\" height=\"6.25\" opacity=\"0.09859154929577472\" fill=\"currentColor\" stroke-width=\"0.1\"/>\n",
       "<rect x=\"193.75\" y=\"-106.25000000000001\" width=\"6.25\" height=\"6.25\" opacity=\"0.050301810865191185\" fill=\"currentColor\" stroke-width=\"0.1\"/>\n",
       "<rect x=\"200.0\" y=\"-106.25000000000001\" width=\"6.25\" height=\"6.25\" opacity=\"0.04426559356136845\" fill=\"currentColor\" stroke-width=\"0.1\"/>\n",
       "<rect x=\"206.25\" y=\"-106.25000000000001\" width=\"6.25\" height=\"6.25\" opacity=\"0.02213279678068412\" fill=\"currentColor\" stroke-width=\"0.1\"/>\n",
       "<rect x=\"212.5\" y=\"-106.25000000000001\" width=\"6.25\" height=\"6.25\" opacity=\"0.0020120724346076473\" fill=\"currentColor\" stroke-width=\"0.1\"/>\n",
       "<rect x=\"218.75\" y=\"-106.25000000000001\" width=\"6.25\" height=\"6.25\" opacity=\"0.004024144869215295\" fill=\"currentColor\" stroke-width=\"0.1\"/>\n",
       "<rect x=\"225.0\" y=\"-106.25000000000001\" width=\"6.25\" height=\"6.25\" opacity=\"0.0020120724346076473\" fill=\"currentColor\" stroke-width=\"0.1\"/>\n",
       "<rect x=\"231.25\" y=\"-106.25000000000001\" width=\"6.25\" height=\"6.25\" opacity=\"0.004024144869215313\" fill=\"currentColor\" stroke-width=\"0.1\"/>\n",
       "<rect x=\"237.5\" y=\"-106.25000000000001\" width=\"6.25\" height=\"6.25\" opacity=\"0.0020120724346076473\" fill=\"currentColor\" stroke-width=\"0.1\"/>\n",
       "<rect x=\"243.75\" y=\"-106.25000000000001\" width=\"6.25\" height=\"6.25\" opacity=\"0.0\" fill=\"currentColor\" stroke-width=\"0.1\"/>\n",
       "<rect x=\"0.0\" y=\"-112.49999999999999\" width=\"6.25\" height=\"6.25\" opacity=\"0.0\" fill=\"currentColor\" stroke-width=\"0.1\"/>\n",
       "<rect x=\"6.250000000000005\" y=\"-112.49999999999999\" width=\"6.25\" height=\"6.25\" opacity=\"0.0\" fill=\"currentColor\" stroke-width=\"0.1\"/>\n",
       "<rect x=\"12.50000000000001\" y=\"-112.49999999999999\" width=\"6.25\" height=\"6.25\" opacity=\"0.0\" fill=\"currentColor\" stroke-width=\"0.1\"/>\n",
       "<rect x=\"18.74999999999999\" y=\"-112.49999999999999\" width=\"6.25\" height=\"6.25\" opacity=\"0.0040241448692153\" fill=\"currentColor\" stroke-width=\"0.1\"/>\n",
       "<rect x=\"24.999999999999993\" y=\"-112.49999999999999\" width=\"6.25\" height=\"6.25\" opacity=\"0.00603621730382295\" fill=\"currentColor\" stroke-width=\"0.1\"/>\n",
       "<rect x=\"31.25\" y=\"-112.49999999999999\" width=\"6.25\" height=\"6.25\" opacity=\"0.01408450704225355\" fill=\"currentColor\" stroke-width=\"0.1\"/>\n",
       "<rect x=\"37.50000000000001\" y=\"-112.49999999999999\" width=\"6.25\" height=\"6.25\" opacity=\"0.0201207243460765\" fill=\"currentColor\" stroke-width=\"0.1\"/>\n",
       "<rect x=\"43.750000000000014\" y=\"-112.49999999999999\" width=\"6.25\" height=\"6.25\" opacity=\"0.05030181086519147\" fill=\"currentColor\" stroke-width=\"0.1\"/>\n",
       "<rect x=\"49.999999999999986\" y=\"-112.49999999999999\" width=\"6.25\" height=\"6.25\" opacity=\"0.0563380281690142\" fill=\"currentColor\" stroke-width=\"0.1\"/>\n",
       "<rect x=\"56.24999999999999\" y=\"-112.49999999999999\" width=\"6.25\" height=\"6.25\" opacity=\"0.09456740442655956\" fill=\"currentColor\" stroke-width=\"0.1\"/>\n",
       "<rect x=\"62.5\" y=\"-112.49999999999999\" width=\"6.25\" height=\"6.25\" opacity=\"0.12273641851106665\" fill=\"currentColor\" stroke-width=\"0.1\"/>\n",
       "<rect x=\"68.75\" y=\"-112.49999999999999\" width=\"6.25\" height=\"6.25\" opacity=\"0.16096579476861217\" fill=\"currentColor\" stroke-width=\"0.1\"/>\n",
       "<rect x=\"75.00000000000001\" y=\"-112.49999999999999\" width=\"6.25\" height=\"6.25\" opacity=\"0.25352112676056443\" fill=\"currentColor\" stroke-width=\"0.1\"/>\n",
       "<rect x=\"81.24999999999999\" y=\"-112.49999999999999\" width=\"6.25\" height=\"6.25\" opacity=\"0.4044265593561381\" fill=\"currentColor\" stroke-width=\"0.1\"/>\n",
       "<rect x=\"87.5\" y=\"-112.49999999999999\" width=\"6.25\" height=\"6.25\" opacity=\"0.4144869215291759\" fill=\"currentColor\" stroke-width=\"0.1\"/>\n",
       "<rect x=\"93.75\" y=\"-112.49999999999999\" width=\"6.25\" height=\"6.25\" opacity=\"0.5653923541247496\" fill=\"currentColor\" stroke-width=\"0.1\"/>\n",
       "<rect x=\"100.0\" y=\"-112.49999999999999\" width=\"6.25\" height=\"6.25\" opacity=\"0.7263581488933624\" fill=\"currentColor\" stroke-width=\"0.1\"/>\n",
       "<rect x=\"106.25000000000001\" y=\"-112.49999999999999\" width=\"6.25\" height=\"6.25\" opacity=\"0.6861167002012102\" fill=\"currentColor\" stroke-width=\"0.1\"/>\n",
       "<rect x=\"112.49999999999999\" y=\"-112.49999999999999\" width=\"6.25\" height=\"6.25\" opacity=\"0.8108651911468837\" fill=\"currentColor\" stroke-width=\"0.1\"/>\n",
       "<rect x=\"118.75\" y=\"-112.49999999999999\" width=\"6.25\" height=\"6.25\" opacity=\"0.8108651911468829\" fill=\"currentColor\" stroke-width=\"0.1\"/>\n",
       "<rect x=\"125.0\" y=\"-112.49999999999999\" width=\"6.25\" height=\"6.25\" opacity=\"0.8370221327967824\" fill=\"currentColor\" stroke-width=\"0.1\"/>\n",
       "<rect x=\"131.25\" y=\"-112.49999999999999\" width=\"6.25\" height=\"6.25\" opacity=\"0.8008048289738446\" fill=\"currentColor\" stroke-width=\"0.1\"/>\n",
       "<rect x=\"137.5\" y=\"-112.49999999999999\" width=\"6.25\" height=\"6.25\" opacity=\"0.7243460764587571\" fill=\"currentColor\" stroke-width=\"0.1\"/>\n",
       "<rect x=\"143.75\" y=\"-112.49999999999999\" width=\"6.25\" height=\"6.25\" opacity=\"0.6941649899396393\" fill=\"currentColor\" stroke-width=\"0.1\"/>\n",
       "<rect x=\"150.0\" y=\"-112.49999999999999\" width=\"6.25\" height=\"6.25\" opacity=\"0.5593561368209267\" fill=\"currentColor\" stroke-width=\"0.1\"/>\n",
       "<rect x=\"156.25\" y=\"-112.49999999999999\" width=\"6.25\" height=\"6.25\" opacity=\"0.4969818913480895\" fill=\"currentColor\" stroke-width=\"0.1\"/>\n",
       "<rect x=\"162.5\" y=\"-112.49999999999999\" width=\"6.25\" height=\"6.25\" opacity=\"0.4144869215291759\" fill=\"currentColor\" stroke-width=\"0.1\"/>\n",
       "<rect x=\"168.75\" y=\"-112.49999999999999\" width=\"6.25\" height=\"6.25\" opacity=\"0.2635814889336033\" fill=\"currentColor\" stroke-width=\"0.1\"/>\n",
       "<rect x=\"175.0\" y=\"-112.49999999999999\" width=\"6.25\" height=\"6.25\" opacity=\"0.16700201207243495\" fill=\"currentColor\" stroke-width=\"0.1\"/>\n",
       "<rect x=\"181.25\" y=\"-112.49999999999999\" width=\"6.25\" height=\"6.25\" opacity=\"0.13883299798792786\" fill=\"currentColor\" stroke-width=\"0.1\"/>\n",
       "<rect x=\"187.5\" y=\"-112.49999999999999\" width=\"6.25\" height=\"6.25\" opacity=\"0.1086519114688131\" fill=\"currentColor\" stroke-width=\"0.1\"/>\n",
       "<rect x=\"193.75\" y=\"-112.49999999999999\" width=\"6.25\" height=\"6.25\" opacity=\"0.0603621730382295\" fill=\"currentColor\" stroke-width=\"0.1\"/>\n",
       "<rect x=\"200.0\" y=\"-112.49999999999999\" width=\"6.25\" height=\"6.25\" opacity=\"0.0442655935613685\" fill=\"currentColor\" stroke-width=\"0.1\"/>\n",
       "<rect x=\"206.25\" y=\"-112.49999999999999\" width=\"6.25\" height=\"6.25\" opacity=\"0.02615694164989945\" fill=\"currentColor\" stroke-width=\"0.1\"/>\n",
       "<rect x=\"212.5\" y=\"-112.49999999999999\" width=\"6.25\" height=\"6.25\" opacity=\"0.01006036217303825\" fill=\"currentColor\" stroke-width=\"0.1\"/>\n",
       "<rect x=\"218.75\" y=\"-112.49999999999999\" width=\"6.25\" height=\"6.25\" opacity=\"0.00603621730382295\" fill=\"currentColor\" stroke-width=\"0.1\"/>\n",
       "<rect x=\"225.0\" y=\"-112.49999999999999\" width=\"6.25\" height=\"6.25\" opacity=\"0.0040241448692153\" fill=\"currentColor\" stroke-width=\"0.1\"/>\n",
       "<rect x=\"231.25\" y=\"-112.49999999999999\" width=\"6.25\" height=\"6.25\" opacity=\"0.006036217303822976\" fill=\"currentColor\" stroke-width=\"0.1\"/>\n",
       "<rect x=\"237.5\" y=\"-112.49999999999999\" width=\"6.25\" height=\"6.25\" opacity=\"0.0\" fill=\"currentColor\" stroke-width=\"0.1\"/>\n",
       "<rect x=\"243.75\" y=\"-112.49999999999999\" width=\"6.25\" height=\"6.25\" opacity=\"0.0\" fill=\"currentColor\" stroke-width=\"0.1\"/>\n",
       "<rect x=\"0.0\" y=\"-118.75\" width=\"6.25\" height=\"6.25\" opacity=\"0.0020120724346076473\" fill=\"currentColor\" stroke-width=\"0.1\"/>\n",
       "<rect x=\"6.250000000000005\" y=\"-118.75\" width=\"6.25\" height=\"6.25\" opacity=\"0.0\" fill=\"currentColor\" stroke-width=\"0.1\"/>\n",
       "<rect x=\"12.50000000000001\" y=\"-118.75\" width=\"6.25\" height=\"6.25\" opacity=\"0.0020120724346076565\" fill=\"currentColor\" stroke-width=\"0.1\"/>\n",
       "<rect x=\"18.74999999999999\" y=\"-118.75\" width=\"6.25\" height=\"6.25\" opacity=\"0.0\" fill=\"currentColor\" stroke-width=\"0.1\"/>\n",
       "<rect x=\"24.999999999999993\" y=\"-118.75\" width=\"6.25\" height=\"6.25\" opacity=\"0.00804828973843059\" fill=\"currentColor\" stroke-width=\"0.1\"/>\n",
       "<rect x=\"31.25\" y=\"-118.75\" width=\"6.25\" height=\"6.25\" opacity=\"0.014084507042253534\" fill=\"currentColor\" stroke-width=\"0.1\"/>\n",
       "<rect x=\"37.50000000000001\" y=\"-118.75\" width=\"6.25\" height=\"6.25\" opacity=\"0.03420523138833001\" fill=\"currentColor\" stroke-width=\"0.1\"/>\n",
       "<rect x=\"43.750000000000014\" y=\"-118.75\" width=\"6.25\" height=\"6.25\" opacity=\"0.0321931589537225\" fill=\"currentColor\" stroke-width=\"0.1\"/>\n",
       "<rect x=\"49.999999999999986\" y=\"-118.75\" width=\"6.25\" height=\"6.25\" opacity=\"0.050301810865191185\" fill=\"currentColor\" stroke-width=\"0.1\"/>\n",
       "<rect x=\"56.24999999999999\" y=\"-118.75\" width=\"6.25\" height=\"6.25\" opacity=\"0.10462776659959767\" fill=\"currentColor\" stroke-width=\"0.1\"/>\n",
       "<rect x=\"62.5\" y=\"-118.75\" width=\"6.25\" height=\"6.25\" opacity=\"0.14084507042253533\" fill=\"currentColor\" stroke-width=\"0.1\"/>\n",
       "<rect x=\"68.75\" y=\"-118.75\" width=\"6.25\" height=\"6.25\" opacity=\"0.2052313883299803\" fill=\"currentColor\" stroke-width=\"0.1\"/>\n",
       "<rect x=\"75.00000000000001\" y=\"-118.75\" width=\"6.25\" height=\"6.25\" opacity=\"0.26559356136821005\" fill=\"currentColor\" stroke-width=\"0.1\"/>\n",
       "<rect x=\"81.24999999999999\" y=\"-118.75\" width=\"6.25\" height=\"6.25\" opacity=\"0.3983903420523147\" fill=\"currentColor\" stroke-width=\"0.1\"/>\n",
       "<rect x=\"87.5\" y=\"-118.75\" width=\"6.25\" height=\"6.25\" opacity=\"0.5513078470824954\" fill=\"currentColor\" stroke-width=\"0.1\"/>\n",
       "<rect x=\"93.75\" y=\"-118.75\" width=\"6.25\" height=\"6.25\" opacity=\"0.6458752515090549\" fill=\"currentColor\" stroke-width=\"0.1\"/>\n",
       "<rect x=\"100.0\" y=\"-118.75\" width=\"6.25\" height=\"6.25\" opacity=\"0.6961770623742469\" fill=\"currentColor\" stroke-width=\"0.1\"/>\n",
       "<rect x=\"106.25000000000001\" y=\"-118.75\" width=\"6.25\" height=\"6.25\" opacity=\"0.8450704225352139\" fill=\"currentColor\" stroke-width=\"0.1\"/>\n",
       "<rect x=\"112.49999999999999\" y=\"-118.75\" width=\"6.25\" height=\"6.25\" opacity=\"0.9637826961770645\" fill=\"currentColor\" stroke-width=\"0.1\"/>\n",
       "<rect x=\"118.75\" y=\"-118.75\" width=\"6.25\" height=\"6.25\" opacity=\"0.9014084507042261\" fill=\"currentColor\" stroke-width=\"0.1\"/>\n",
       "<rect x=\"125.0\" y=\"-118.75\" width=\"6.25\" height=\"6.25\" opacity=\"0.8953722334004032\" fill=\"currentColor\" stroke-width=\"0.1\"/>\n",
       "<rect x=\"131.25\" y=\"-118.75\" width=\"6.25\" height=\"6.25\" opacity=\"0.8269617706237431\" fill=\"currentColor\" stroke-width=\"0.1\"/>\n",
       "<rect x=\"137.5\" y=\"-118.75\" width=\"6.25\" height=\"6.25\" opacity=\"0.7867203219315937\" fill=\"currentColor\" stroke-width=\"0.1\"/>\n",
       "<rect x=\"143.75\" y=\"-118.75\" width=\"6.25\" height=\"6.25\" opacity=\"0.7002012072434614\" fill=\"currentColor\" stroke-width=\"0.1\"/>\n",
       "<rect x=\"150.0\" y=\"-118.75\" width=\"6.25\" height=\"6.25\" opacity=\"0.6820925553319925\" fill=\"currentColor\" stroke-width=\"0.1\"/>\n",
       "<rect x=\"156.25\" y=\"-118.75\" width=\"6.25\" height=\"6.25\" opacity=\"0.4768611670020124\" fill=\"currentColor\" stroke-width=\"0.1\"/>\n",
       "<rect x=\"162.5\" y=\"-118.75\" width=\"6.25\" height=\"6.25\" opacity=\"0.4064386317907448\" fill=\"currentColor\" stroke-width=\"0.1\"/>\n",
       "<rect x=\"168.75\" y=\"-118.75\" width=\"6.25\" height=\"6.25\" opacity=\"0.30784708249497145\" fill=\"currentColor\" stroke-width=\"0.1\"/>\n",
       "<rect x=\"175.0\" y=\"-118.75\" width=\"6.25\" height=\"6.25\" opacity=\"0.26358148893360184\" fill=\"currentColor\" stroke-width=\"0.1\"/>\n",
       "<rect x=\"181.25\" y=\"-118.75\" width=\"6.25\" height=\"6.25\" opacity=\"0.142857142857143\" fill=\"currentColor\" stroke-width=\"0.1\"/>\n",
       "<rect x=\"187.5\" y=\"-118.75\" width=\"6.25\" height=\"6.25\" opacity=\"0.10261569416499003\" fill=\"currentColor\" stroke-width=\"0.1\"/>\n",
       "<rect x=\"193.75\" y=\"-118.75\" width=\"6.25\" height=\"6.25\" opacity=\"0.07847082494969825\" fill=\"currentColor\" stroke-width=\"0.1\"/>\n",
       "<rect x=\"200.0\" y=\"-118.75\" width=\"6.25\" height=\"6.25\" opacity=\"0.03822937625754548\" fill=\"currentColor\" stroke-width=\"0.1\"/>\n",
       "<rect x=\"206.25\" y=\"-118.75\" width=\"6.25\" height=\"6.25\" opacity=\"0.03219315895372236\" fill=\"currentColor\" stroke-width=\"0.1\"/>\n",
       "<rect x=\"212.5\" y=\"-118.75\" width=\"6.25\" height=\"6.25\" opacity=\"0.02213279678068412\" fill=\"currentColor\" stroke-width=\"0.1\"/>\n",
       "<rect x=\"218.75\" y=\"-118.75\" width=\"6.25\" height=\"6.25\" opacity=\"0.00804828973843059\" fill=\"currentColor\" stroke-width=\"0.1\"/>\n",
       "<rect x=\"225.0\" y=\"-118.75\" width=\"6.25\" height=\"6.25\" opacity=\"0.00804828973843059\" fill=\"currentColor\" stroke-width=\"0.1\"/>\n",
       "<rect x=\"231.25\" y=\"-118.75\" width=\"6.25\" height=\"6.25\" opacity=\"0.0020120724346076565\" fill=\"currentColor\" stroke-width=\"0.1\"/>\n",
       "<rect x=\"237.5\" y=\"-118.75\" width=\"6.25\" height=\"6.25\" opacity=\"0.0\" fill=\"currentColor\" stroke-width=\"0.1\"/>\n",
       "<rect x=\"243.75\" y=\"-118.75\" width=\"6.25\" height=\"6.25\" opacity=\"0.0\" fill=\"currentColor\" stroke-width=\"0.1\"/>\n",
       "<rect x=\"0.0\" y=\"-125.0\" width=\"6.25\" height=\"6.25\" opacity=\"0.0\" fill=\"currentColor\" stroke-width=\"0.1\"/>\n",
       "<rect x=\"6.250000000000005\" y=\"-125.0\" width=\"6.25\" height=\"6.25\" opacity=\"0.0020120724346076456\" fill=\"currentColor\" stroke-width=\"0.1\"/>\n",
       "<rect x=\"12.50000000000001\" y=\"-125.0\" width=\"6.25\" height=\"6.25\" opacity=\"0.0\" fill=\"currentColor\" stroke-width=\"0.1\"/>\n",
       "<rect x=\"18.74999999999999\" y=\"-125.0\" width=\"6.25\" height=\"6.25\" opacity=\"0.0020120724346076456\" fill=\"currentColor\" stroke-width=\"0.1\"/>\n",
       "<rect x=\"24.999999999999993\" y=\"-125.0\" width=\"6.25\" height=\"6.25\" opacity=\"0.008048289738430582\" fill=\"currentColor\" stroke-width=\"0.1\"/>\n",
       "<rect x=\"31.25\" y=\"-125.0\" width=\"6.25\" height=\"6.25\" opacity=\"0.018108651911468814\" fill=\"currentColor\" stroke-width=\"0.1\"/>\n",
       "<rect x=\"37.50000000000001\" y=\"-125.0\" width=\"6.25\" height=\"6.25\" opacity=\"0.02012072434607646\" fill=\"currentColor\" stroke-width=\"0.1\"/>\n",
       "<rect x=\"43.750000000000014\" y=\"-125.0\" width=\"6.25\" height=\"6.25\" opacity=\"0.03621730382293777\" fill=\"currentColor\" stroke-width=\"0.1\"/>\n",
       "<rect x=\"49.999999999999986\" y=\"-125.0\" width=\"6.25\" height=\"6.25\" opacity=\"0.0744466800804829\" fill=\"currentColor\" stroke-width=\"0.1\"/>\n",
       "<rect x=\"56.24999999999999\" y=\"-125.0\" width=\"6.25\" height=\"6.25\" opacity=\"0.0885311871227364\" fill=\"currentColor\" stroke-width=\"0.1\"/>\n",
       "<rect x=\"62.5\" y=\"-125.0\" width=\"6.25\" height=\"6.25\" opacity=\"0.17505030181086517\" fill=\"currentColor\" stroke-width=\"0.1\"/>\n",
       "<rect x=\"68.75\" y=\"-125.0\" width=\"6.25\" height=\"6.25\" opacity=\"0.18511066398390358\" fill=\"currentColor\" stroke-width=\"0.1\"/>\n",
       "<rect x=\"75.00000000000001\" y=\"-125.0\" width=\"6.25\" height=\"6.25\" opacity=\"0.281690140845071\" fill=\"currentColor\" stroke-width=\"0.1\"/>\n",
       "<rect x=\"81.24999999999999\" y=\"-125.0\" width=\"6.25\" height=\"6.25\" opacity=\"0.3983903420523142\" fill=\"currentColor\" stroke-width=\"0.1\"/>\n",
       "<rect x=\"87.5\" y=\"-125.0\" width=\"6.25\" height=\"6.25\" opacity=\"0.4748490945674044\" fill=\"currentColor\" stroke-width=\"0.1\"/>\n",
       "<rect x=\"93.75\" y=\"-125.0\" width=\"6.25\" height=\"6.25\" opacity=\"0.6257545271629777\" fill=\"currentColor\" stroke-width=\"0.1\"/>\n",
       "<rect x=\"100.0\" y=\"-125.0\" width=\"6.25\" height=\"6.25\" opacity=\"0.7545271629778679\" fill=\"currentColor\" stroke-width=\"0.1\"/>\n",
       "<rect x=\"106.25000000000001\" y=\"-125.0\" width=\"6.25\" height=\"6.25\" opacity=\"0.8692152917505048\" fill=\"currentColor\" stroke-width=\"0.1\"/>\n",
       "<rect x=\"112.49999999999999\" y=\"-125.0\" width=\"6.25\" height=\"6.25\" opacity=\"0.8953722334004032\" fill=\"currentColor\" stroke-width=\"0.1\"/>\n",
       "<rect x=\"118.75\" y=\"-125.0\" width=\"6.25\" height=\"6.25\" opacity=\"0.9617706237424547\" fill=\"currentColor\" stroke-width=\"0.1\"/>\n",
       "<rect x=\"125.0\" y=\"-125.0\" width=\"6.25\" height=\"6.25\" opacity=\"1.0\" fill=\"currentColor\" stroke-width=\"0.1\"/>\n",
       "<rect x=\"131.25\" y=\"-125.0\" width=\"6.25\" height=\"6.25\" opacity=\"0.9577464788732393\" fill=\"currentColor\" stroke-width=\"0.1\"/>\n",
       "<rect x=\"137.5\" y=\"-125.0\" width=\"6.25\" height=\"6.25\" opacity=\"0.8289738430583536\" fill=\"currentColor\" stroke-width=\"0.1\"/>\n",
       "<rect x=\"143.75\" y=\"-125.0\" width=\"6.25\" height=\"6.25\" opacity=\"0.7243460764587524\" fill=\"currentColor\" stroke-width=\"0.1\"/>\n",
       "<rect x=\"150.0\" y=\"-125.0\" width=\"6.25\" height=\"6.25\" opacity=\"0.6659959758551307\" fill=\"currentColor\" stroke-width=\"0.1\"/>\n",
       "<rect x=\"156.25\" y=\"-125.0\" width=\"6.25\" height=\"6.25\" opacity=\"0.5130784708249497\" fill=\"currentColor\" stroke-width=\"0.1\"/>\n",
       "<rect x=\"162.5\" y=\"-125.0\" width=\"6.25\" height=\"6.25\" opacity=\"0.4245472837022133\" fill=\"currentColor\" stroke-width=\"0.1\"/>\n",
       "<rect x=\"168.75\" y=\"-125.0\" width=\"6.25\" height=\"6.25\" opacity=\"0.33199195171026297\" fill=\"currentColor\" stroke-width=\"0.1\"/>\n",
       "<rect x=\"175.0\" y=\"-125.0\" width=\"6.25\" height=\"6.25\" opacity=\"0.26358148893360156\" fill=\"currentColor\" stroke-width=\"0.1\"/>\n",
       "<rect x=\"181.25\" y=\"-125.0\" width=\"6.25\" height=\"6.25\" opacity=\"0.1529175050301811\" fill=\"currentColor\" stroke-width=\"0.1\"/>\n",
       "<rect x=\"187.5\" y=\"-125.0\" width=\"6.25\" height=\"6.25\" opacity=\"0.09054325955734405\" fill=\"currentColor\" stroke-width=\"0.1\"/>\n",
       "<rect x=\"193.75\" y=\"-125.0\" width=\"6.25\" height=\"6.25\" opacity=\"0.06841046277665995\" fill=\"currentColor\" stroke-width=\"0.1\"/>\n",
       "<rect x=\"200.0\" y=\"-125.0\" width=\"6.25\" height=\"6.25\" opacity=\"0.04627766599597605\" fill=\"currentColor\" stroke-width=\"0.1\"/>\n",
       "<rect x=\"206.25\" y=\"-125.0\" width=\"6.25\" height=\"6.25\" opacity=\"0.02414486921529175\" fill=\"currentColor\" stroke-width=\"0.1\"/>\n",
       "<rect x=\"212.5\" y=\"-125.0\" width=\"6.25\" height=\"6.25\" opacity=\"0.004024144869215291\" fill=\"currentColor\" stroke-width=\"0.1\"/>\n",
       "<rect x=\"218.75\" y=\"-125.0\" width=\"6.25\" height=\"6.25\" opacity=\"0.008048289738430582\" fill=\"currentColor\" stroke-width=\"0.1\"/>\n",
       "<rect x=\"225.0\" y=\"-125.0\" width=\"6.25\" height=\"6.25\" opacity=\"0.004024144869215291\" fill=\"currentColor\" stroke-width=\"0.1\"/>\n",
       "<rect x=\"231.25\" y=\"-125.0\" width=\"6.25\" height=\"6.25\" opacity=\"0.0\" fill=\"currentColor\" stroke-width=\"0.1\"/>\n",
       "<rect x=\"237.5\" y=\"-125.0\" width=\"6.25\" height=\"6.25\" opacity=\"0.004024144869215291\" fill=\"currentColor\" stroke-width=\"0.1\"/>\n",
       "<rect x=\"243.75\" y=\"-125.0\" width=\"6.25\" height=\"6.25\" opacity=\"0.0\" fill=\"currentColor\" stroke-width=\"0.1\"/>\n",
       "<rect x=\"0.0\" y=\"-131.25\" width=\"6.25\" height=\"6.25\" opacity=\"0.0\" fill=\"currentColor\" stroke-width=\"0.1\"/>\n",
       "<rect x=\"6.250000000000005\" y=\"-131.25\" width=\"6.25\" height=\"6.25\" opacity=\"0.0020120724346076456\" fill=\"currentColor\" stroke-width=\"0.1\"/>\n",
       "<rect x=\"12.50000000000001\" y=\"-131.25\" width=\"6.25\" height=\"6.25\" opacity=\"0.004024144869215309\" fill=\"currentColor\" stroke-width=\"0.1\"/>\n",
       "<rect x=\"18.74999999999999\" y=\"-131.25\" width=\"6.25\" height=\"6.25\" opacity=\"0.0020120724346076456\" fill=\"currentColor\" stroke-width=\"0.1\"/>\n",
       "<rect x=\"24.999999999999993\" y=\"-131.25\" width=\"6.25\" height=\"6.25\" opacity=\"0.006036217303822937\" fill=\"currentColor\" stroke-width=\"0.1\"/>\n",
       "<rect x=\"31.25\" y=\"-131.25\" width=\"6.25\" height=\"6.25\" opacity=\"0.026156941649899394\" fill=\"currentColor\" stroke-width=\"0.1\"/>\n",
       "<rect x=\"37.50000000000001\" y=\"-131.25\" width=\"6.25\" height=\"6.25\" opacity=\"0.026156941649899394\" fill=\"currentColor\" stroke-width=\"0.1\"/>\n",
       "<rect x=\"43.750000000000014\" y=\"-131.25\" width=\"6.25\" height=\"6.25\" opacity=\"0.04225352112676074\" fill=\"currentColor\" stroke-width=\"0.1\"/>\n",
       "<rect x=\"49.999999999999986\" y=\"-131.25\" width=\"6.25\" height=\"6.25\" opacity=\"0.08249496981891348\" fill=\"currentColor\" stroke-width=\"0.1\"/>\n",
       "<rect x=\"56.24999999999999\" y=\"-131.25\" width=\"6.25\" height=\"6.25\" opacity=\"0.10261569416498993\" fill=\"currentColor\" stroke-width=\"0.1\"/>\n",
       "<rect x=\"62.5\" y=\"-131.25\" width=\"6.25\" height=\"6.25\" opacity=\"0.19114688128772636\" fill=\"currentColor\" stroke-width=\"0.1\"/>\n",
       "<rect x=\"68.75\" y=\"-131.25\" width=\"6.25\" height=\"6.25\" opacity=\"0.21730382293762596\" fill=\"currentColor\" stroke-width=\"0.1\"/>\n",
       "<rect x=\"75.00000000000001\" y=\"-131.25\" width=\"6.25\" height=\"6.25\" opacity=\"0.2977867203219322\" fill=\"currentColor\" stroke-width=\"0.1\"/>\n",
       "<rect x=\"81.24999999999999\" y=\"-131.25\" width=\"6.25\" height=\"6.25\" opacity=\"0.4346076458752519\" fill=\"currentColor\" stroke-width=\"0.1\"/>\n",
       "<rect x=\"87.5\" y=\"-131.25\" width=\"6.25\" height=\"6.25\" opacity=\"0.5251509054325956\" fill=\"currentColor\" stroke-width=\"0.1\"/>\n",
       "<rect x=\"93.75\" y=\"-131.25\" width=\"6.25\" height=\"6.25\" opacity=\"0.7122736418511066\" fill=\"currentColor\" stroke-width=\"0.1\"/>\n",
       "<rect x=\"100.0\" y=\"-131.25\" width=\"6.25\" height=\"6.25\" opacity=\"0.730382293762576\" fill=\"currentColor\" stroke-width=\"0.1\"/>\n",
       "<rect x=\"106.25000000000001\" y=\"-131.25\" width=\"6.25\" height=\"6.25\" opacity=\"0.8551307847082513\" fill=\"currentColor\" stroke-width=\"0.1\"/>\n",
       "<rect x=\"112.49999999999999\" y=\"-131.25\" width=\"6.25\" height=\"6.25\" opacity=\"0.8812877263581497\" fill=\"currentColor\" stroke-width=\"0.1\"/>\n",
       "<rect x=\"118.75\" y=\"-131.25\" width=\"6.25\" height=\"6.25\" opacity=\"0.89738430583501\" fill=\"currentColor\" stroke-width=\"0.1\"/>\n",
       "<rect x=\"125.0\" y=\"-131.25\" width=\"6.25\" height=\"6.25\" opacity=\"0.903420523138833\" fill=\"currentColor\" stroke-width=\"0.1\"/>\n",
       "<rect x=\"131.25\" y=\"-131.25\" width=\"6.25\" height=\"6.25\" opacity=\"0.8772635814889336\" fill=\"currentColor\" stroke-width=\"0.1\"/>\n",
       "<rect x=\"137.5\" y=\"-131.25\" width=\"6.25\" height=\"6.25\" opacity=\"0.8531187122736454\" fill=\"currentColor\" stroke-width=\"0.1\"/>\n",
       "<rect x=\"143.75\" y=\"-131.25\" width=\"6.25\" height=\"6.25\" opacity=\"0.738430583501006\" fill=\"currentColor\" stroke-width=\"0.1\"/>\n",
       "<rect x=\"150.0\" y=\"-131.25\" width=\"6.25\" height=\"6.25\" opacity=\"0.6820925553319919\" fill=\"currentColor\" stroke-width=\"0.1\"/>\n",
       "<rect x=\"156.25\" y=\"-131.25\" width=\"6.25\" height=\"6.25\" opacity=\"0.5613682092555332\" fill=\"currentColor\" stroke-width=\"0.1\"/>\n",
       "<rect x=\"162.5\" y=\"-131.25\" width=\"6.25\" height=\"6.25\" opacity=\"0.4205231388329979\" fill=\"currentColor\" stroke-width=\"0.1\"/>\n",
       "<rect x=\"168.75\" y=\"-131.25\" width=\"6.25\" height=\"6.25\" opacity=\"0.3038229376257558\" fill=\"currentColor\" stroke-width=\"0.1\"/>\n",
       "<rect x=\"175.0\" y=\"-131.25\" width=\"6.25\" height=\"6.25\" opacity=\"0.2152917505030181\" fill=\"currentColor\" stroke-width=\"0.1\"/>\n",
       "<rect x=\"181.25\" y=\"-131.25\" width=\"6.25\" height=\"6.25\" opacity=\"0.158953722334004\" fill=\"currentColor\" stroke-width=\"0.1\"/>\n",
       "<rect x=\"187.5\" y=\"-131.25\" width=\"6.25\" height=\"6.25\" opacity=\"0.0925553319919517\" fill=\"currentColor\" stroke-width=\"0.1\"/>\n",
       "<rect x=\"193.75\" y=\"-131.25\" width=\"6.25\" height=\"6.25\" opacity=\"0.05633802816901408\" fill=\"currentColor\" stroke-width=\"0.1\"/>\n",
       "<rect x=\"200.0\" y=\"-131.25\" width=\"6.25\" height=\"6.25\" opacity=\"0.04225352112676074\" fill=\"currentColor\" stroke-width=\"0.1\"/>\n",
       "<rect x=\"206.25\" y=\"-131.25\" width=\"6.25\" height=\"6.25\" opacity=\"0.018108651911468814\" fill=\"currentColor\" stroke-width=\"0.1\"/>\n",
       "<rect x=\"212.5\" y=\"-131.25\" width=\"6.25\" height=\"6.25\" opacity=\"0.01006036217303823\" fill=\"currentColor\" stroke-width=\"0.1\"/>\n",
       "<rect x=\"218.75\" y=\"-131.25\" width=\"6.25\" height=\"6.25\" opacity=\"0.016096579476861165\" fill=\"currentColor\" stroke-width=\"0.1\"/>\n",
       "<rect x=\"225.0\" y=\"-131.25\" width=\"6.25\" height=\"6.25\" opacity=\"0.0020120724346076456\" fill=\"currentColor\" stroke-width=\"0.1\"/>\n",
       "<rect x=\"231.25\" y=\"-131.25\" width=\"6.25\" height=\"6.25\" opacity=\"0.004024144869215309\" fill=\"currentColor\" stroke-width=\"0.1\"/>\n",
       "<rect x=\"237.5\" y=\"-131.25\" width=\"6.25\" height=\"6.25\" opacity=\"0.006036217303822937\" fill=\"currentColor\" stroke-width=\"0.1\"/>\n",
       "<rect x=\"243.75\" y=\"-131.25\" width=\"6.25\" height=\"6.25\" opacity=\"0.0\" fill=\"currentColor\" stroke-width=\"0.1\"/>\n",
       "<rect x=\"0.0\" y=\"-137.5\" width=\"6.25\" height=\"6.25\" opacity=\"0.0\" fill=\"currentColor\" stroke-width=\"0.1\"/>\n",
       "<rect x=\"6.250000000000005\" y=\"-137.5\" width=\"6.25\" height=\"6.25\" opacity=\"0.0\" fill=\"currentColor\" stroke-width=\"0.1\"/>\n",
       "<rect x=\"12.50000000000001\" y=\"-137.5\" width=\"6.25\" height=\"6.25\" opacity=\"0.008048289738430617\" fill=\"currentColor\" stroke-width=\"0.1\"/>\n",
       "<rect x=\"18.74999999999999\" y=\"-137.5\" width=\"6.25\" height=\"6.25\" opacity=\"0.004024144869215291\" fill=\"currentColor\" stroke-width=\"0.1\"/>\n",
       "<rect x=\"24.999999999999993\" y=\"-137.5\" width=\"6.25\" height=\"6.25\" opacity=\"0.006036217303822937\" fill=\"currentColor\" stroke-width=\"0.1\"/>\n",
       "<rect x=\"31.25\" y=\"-137.5\" width=\"6.25\" height=\"6.25\" opacity=\"0.02012072434607646\" fill=\"currentColor\" stroke-width=\"0.1\"/>\n",
       "<rect x=\"37.50000000000001\" y=\"-137.5\" width=\"6.25\" height=\"6.25\" opacity=\"0.034205231388329975\" fill=\"currentColor\" stroke-width=\"0.1\"/>\n",
       "<rect x=\"43.750000000000014\" y=\"-137.5\" width=\"6.25\" height=\"6.25\" opacity=\"0.044265593561368395\" fill=\"currentColor\" stroke-width=\"0.1\"/>\n",
       "<rect x=\"49.999999999999986\" y=\"-137.5\" width=\"6.25\" height=\"6.25\" opacity=\"0.08249496981891348\" fill=\"currentColor\" stroke-width=\"0.1\"/>\n",
       "<rect x=\"56.24999999999999\" y=\"-137.5\" width=\"6.25\" height=\"6.25\" opacity=\"0.10663983903420522\" fill=\"currentColor\" stroke-width=\"0.1\"/>\n",
       "<rect x=\"62.5\" y=\"-137.5\" width=\"6.25\" height=\"6.25\" opacity=\"0.1810865191146881\" fill=\"currentColor\" stroke-width=\"0.1\"/>\n",
       "<rect x=\"68.75\" y=\"-137.5\" width=\"6.25\" height=\"6.25\" opacity=\"0.20120724346076474\" fill=\"currentColor\" stroke-width=\"0.1\"/>\n",
       "<rect x=\"75.00000000000001\" y=\"-137.5\" width=\"6.25\" height=\"6.25\" opacity=\"0.275653923541248\" fill=\"currentColor\" stroke-width=\"0.1\"/>\n",
       "<rect x=\"81.24999999999999\" y=\"-137.5\" width=\"6.25\" height=\"6.25\" opacity=\"0.41649899396378304\" fill=\"currentColor\" stroke-width=\"0.1\"/>\n",
       "<rect x=\"87.5\" y=\"-137.5\" width=\"6.25\" height=\"6.25\" opacity=\"0.48893360160965793\" fill=\"currentColor\" stroke-width=\"0.1\"/>\n",
       "<rect x=\"93.75\" y=\"-137.5\" width=\"6.25\" height=\"6.25\" opacity=\"0.6378269617706237\" fill=\"currentColor\" stroke-width=\"0.1\"/>\n",
       "<rect x=\"100.0\" y=\"-137.5\" width=\"6.25\" height=\"6.25\" opacity=\"0.702213279678069\" fill=\"currentColor\" stroke-width=\"0.1\"/>\n",
       "<rect x=\"106.25000000000001\" y=\"-137.5\" width=\"6.25\" height=\"6.25\" opacity=\"0.8128772635814906\" fill=\"currentColor\" stroke-width=\"0.1\"/>\n",
       "<rect x=\"112.49999999999999\" y=\"-137.5\" width=\"6.25\" height=\"6.25\" opacity=\"0.8209255533199202\" fill=\"currentColor\" stroke-width=\"0.1\"/>\n",
       "<rect x=\"118.75\" y=\"-137.5\" width=\"6.25\" height=\"6.25\" opacity=\"0.8832997987927564\" fill=\"currentColor\" stroke-width=\"0.1\"/>\n",
       "<rect x=\"125.0\" y=\"-137.5\" width=\"6.25\" height=\"6.25\" opacity=\"0.8853118712273641\" fill=\"currentColor\" stroke-width=\"0.1\"/>\n",
       "<rect x=\"131.25\" y=\"-137.5\" width=\"6.25\" height=\"6.25\" opacity=\"0.9818913480885311\" fill=\"currentColor\" stroke-width=\"0.1\"/>\n",
       "<rect x=\"137.5\" y=\"-137.5\" width=\"6.25\" height=\"6.25\" opacity=\"0.8913480885311907\" fill=\"currentColor\" stroke-width=\"0.1\"/>\n",
       "<rect x=\"143.75\" y=\"-137.5\" width=\"6.25\" height=\"6.25\" opacity=\"0.704225352112676\" fill=\"currentColor\" stroke-width=\"0.1\"/>\n",
       "<rect x=\"150.0\" y=\"-137.5\" width=\"6.25\" height=\"6.25\" opacity=\"0.6136820925553319\" fill=\"currentColor\" stroke-width=\"0.1\"/>\n",
       "<rect x=\"156.25\" y=\"-137.5\" width=\"6.25\" height=\"6.25\" opacity=\"0.545271629778672\" fill=\"currentColor\" stroke-width=\"0.1\"/>\n",
       "<rect x=\"162.5\" y=\"-137.5\" width=\"6.25\" height=\"6.25\" opacity=\"0.3641851106639839\" fill=\"currentColor\" stroke-width=\"0.1\"/>\n",
       "<rect x=\"168.75\" y=\"-137.5\" width=\"6.25\" height=\"6.25\" opacity=\"0.3038229376257558\" fill=\"currentColor\" stroke-width=\"0.1\"/>\n",
       "<rect x=\"175.0\" y=\"-137.5\" width=\"6.25\" height=\"6.25\" opacity=\"0.20321931589537223\" fill=\"currentColor\" stroke-width=\"0.1\"/>\n",
       "<rect x=\"181.25\" y=\"-137.5\" width=\"6.25\" height=\"6.25\" opacity=\"0.1327967806841046\" fill=\"currentColor\" stroke-width=\"0.1\"/>\n",
       "<rect x=\"187.5\" y=\"-137.5\" width=\"6.25\" height=\"6.25\" opacity=\"0.11066398390342051\" fill=\"currentColor\" stroke-width=\"0.1\"/>\n",
       "<rect x=\"193.75\" y=\"-137.5\" width=\"6.25\" height=\"6.25\" opacity=\"0.054325955734406434\" fill=\"currentColor\" stroke-width=\"0.1\"/>\n",
       "<rect x=\"200.0\" y=\"-137.5\" width=\"6.25\" height=\"6.25\" opacity=\"0.040241448692153084\" fill=\"currentColor\" stroke-width=\"0.1\"/>\n",
       "<rect x=\"206.25\" y=\"-137.5\" width=\"6.25\" height=\"6.25\" opacity=\"0.03621730382293763\" fill=\"currentColor\" stroke-width=\"0.1\"/>\n",
       "<rect x=\"212.5\" y=\"-137.5\" width=\"6.25\" height=\"6.25\" opacity=\"0.006036217303822937\" fill=\"currentColor\" stroke-width=\"0.1\"/>\n",
       "<rect x=\"218.75\" y=\"-137.5\" width=\"6.25\" height=\"6.25\" opacity=\"0.006036217303822937\" fill=\"currentColor\" stroke-width=\"0.1\"/>\n",
       "<rect x=\"225.0\" y=\"-137.5\" width=\"6.25\" height=\"6.25\" opacity=\"0.004024144869215291\" fill=\"currentColor\" stroke-width=\"0.1\"/>\n",
       "<rect x=\"231.25\" y=\"-137.5\" width=\"6.25\" height=\"6.25\" opacity=\"0.006036217303822963\" fill=\"currentColor\" stroke-width=\"0.1\"/>\n",
       "<rect x=\"237.5\" y=\"-137.5\" width=\"6.25\" height=\"6.25\" opacity=\"0.0\" fill=\"currentColor\" stroke-width=\"0.1\"/>\n",
       "<rect x=\"243.75\" y=\"-137.5\" width=\"6.25\" height=\"6.25\" opacity=\"0.0\" fill=\"currentColor\" stroke-width=\"0.1\"/>\n",
       "<rect x=\"0.0\" y=\"-143.75\" width=\"6.25\" height=\"6.25\" opacity=\"0.0\" fill=\"currentColor\" stroke-width=\"0.1\"/>\n",
       "<rect x=\"6.250000000000005\" y=\"-143.75\" width=\"6.25\" height=\"6.25\" opacity=\"0.0\" fill=\"currentColor\" stroke-width=\"0.1\"/>\n",
       "<rect x=\"12.50000000000001\" y=\"-143.75\" width=\"6.25\" height=\"6.25\" opacity=\"0.0020120724346076634\" fill=\"currentColor\" stroke-width=\"0.1\"/>\n",
       "<rect x=\"18.74999999999999\" y=\"-143.75\" width=\"6.25\" height=\"6.25\" opacity=\"0.004024144869215309\" fill=\"currentColor\" stroke-width=\"0.1\"/>\n",
       "<rect x=\"24.999999999999993\" y=\"-143.75\" width=\"6.25\" height=\"6.25\" opacity=\"0.012072434607645927\" fill=\"currentColor\" stroke-width=\"0.1\"/>\n",
       "<rect x=\"31.25\" y=\"-143.75\" width=\"6.25\" height=\"6.25\" opacity=\"0.008048289738430617\" fill=\"currentColor\" stroke-width=\"0.1\"/>\n",
       "<rect x=\"37.50000000000001\" y=\"-143.75\" width=\"6.25\" height=\"6.25\" opacity=\"0.03420523138833013\" fill=\"currentColor\" stroke-width=\"0.1\"/>\n",
       "<rect x=\"43.750000000000014\" y=\"-143.75\" width=\"6.25\" height=\"6.25\" opacity=\"0.040241448692153264\" fill=\"currentColor\" stroke-width=\"0.1\"/>\n",
       "<rect x=\"49.999999999999986\" y=\"-143.75\" width=\"6.25\" height=\"6.25\" opacity=\"0.05432595573440666\" fill=\"currentColor\" stroke-width=\"0.1\"/>\n",
       "<rect x=\"56.24999999999999\" y=\"-143.75\" width=\"6.25\" height=\"6.25\" opacity=\"0.08249496981891383\" fill=\"currentColor\" stroke-width=\"0.1\"/>\n",
       "<rect x=\"62.5\" y=\"-143.75\" width=\"6.25\" height=\"6.25\" opacity=\"0.1488933601609664\" fill=\"currentColor\" stroke-width=\"0.1\"/>\n",
       "<rect x=\"68.75\" y=\"-143.75\" width=\"6.25\" height=\"6.25\" opacity=\"0.1951710261569427\" fill=\"currentColor\" stroke-width=\"0.1\"/>\n",
       "<rect x=\"75.00000000000001\" y=\"-143.75\" width=\"6.25\" height=\"6.25\" opacity=\"0.2615694164989957\" fill=\"currentColor\" stroke-width=\"0.1\"/>\n",
       "<rect x=\"81.24999999999999\" y=\"-143.75\" width=\"6.25\" height=\"6.25\" opacity=\"0.3661971830985935\" fill=\"currentColor\" stroke-width=\"0.1\"/>\n",
       "<rect x=\"87.5\" y=\"-143.75\" width=\"6.25\" height=\"6.25\" opacity=\"0.482897384305837\" fill=\"currentColor\" stroke-width=\"0.1\"/>\n",
       "<rect x=\"93.75\" y=\"-143.75\" width=\"6.25\" height=\"6.25\" opacity=\"0.581488933601612\" fill=\"currentColor\" stroke-width=\"0.1\"/>\n",
       "<rect x=\"100.0\" y=\"-143.75\" width=\"6.25\" height=\"6.25\" opacity=\"0.6700201207243497\" fill=\"currentColor\" stroke-width=\"0.1\"/>\n",
       "<rect x=\"106.25000000000001\" y=\"-143.75\" width=\"6.25\" height=\"6.25\" opacity=\"0.7243460764587571\" fill=\"currentColor\" stroke-width=\"0.1\"/>\n",
       "<rect x=\"112.49999999999999\" y=\"-143.75\" width=\"6.25\" height=\"6.25\" opacity=\"0.7766599597585555\" fill=\"currentColor\" stroke-width=\"0.1\"/>\n",
       "<rect x=\"118.75\" y=\"-143.75\" width=\"6.25\" height=\"6.25\" opacity=\"0.8068410462776693\" fill=\"currentColor\" stroke-width=\"0.1\"/>\n",
       "<rect x=\"125.0\" y=\"-143.75\" width=\"6.25\" height=\"6.25\" opacity=\"0.8571428571428608\" fill=\"currentColor\" stroke-width=\"0.1\"/>\n",
       "<rect x=\"131.25\" y=\"-143.75\" width=\"6.25\" height=\"6.25\" opacity=\"0.7907444668008081\" fill=\"currentColor\" stroke-width=\"0.1\"/>\n",
       "<rect x=\"137.5\" y=\"-143.75\" width=\"6.25\" height=\"6.25\" opacity=\"0.7444668008048354\" fill=\"currentColor\" stroke-width=\"0.1\"/>\n",
       "<rect x=\"143.75\" y=\"-143.75\" width=\"6.25\" height=\"6.25\" opacity=\"0.6076458752515116\" fill=\"currentColor\" stroke-width=\"0.1\"/>\n",
       "<rect x=\"150.0\" y=\"-143.75\" width=\"6.25\" height=\"6.25\" opacity=\"0.48088531187122935\" fill=\"currentColor\" stroke-width=\"0.1\"/>\n",
       "<rect x=\"156.25\" y=\"-143.75\" width=\"6.25\" height=\"6.25\" opacity=\"0.4386317907444687\" fill=\"currentColor\" stroke-width=\"0.1\"/>\n",
       "<rect x=\"162.5\" y=\"-143.75\" width=\"6.25\" height=\"6.25\" opacity=\"0.35010060362173184\" fill=\"currentColor\" stroke-width=\"0.1\"/>\n",
       "<rect x=\"168.75\" y=\"-143.75\" width=\"6.25\" height=\"6.25\" opacity=\"0.2595573440643886\" fill=\"currentColor\" stroke-width=\"0.1\"/>\n",
       "<rect x=\"175.0\" y=\"-143.75\" width=\"6.25\" height=\"6.25\" opacity=\"0.2253521126760573\" fill=\"currentColor\" stroke-width=\"0.1\"/>\n",
       "<rect x=\"181.25\" y=\"-143.75\" width=\"6.25\" height=\"6.25\" opacity=\"0.16498993963782765\" fill=\"currentColor\" stroke-width=\"0.1\"/>\n",
       "<rect x=\"187.5\" y=\"-143.75\" width=\"6.25\" height=\"6.25\" opacity=\"0.07847082494969851\" fill=\"currentColor\" stroke-width=\"0.1\"/>\n",
       "<rect x=\"193.75\" y=\"-143.75\" width=\"6.25\" height=\"6.25\" opacity=\"0.05432595573440666\" fill=\"currentColor\" stroke-width=\"0.1\"/>\n",
       "<rect x=\"200.0\" y=\"-143.75\" width=\"6.25\" height=\"6.25\" opacity=\"0.040241448692153264\" fill=\"currentColor\" stroke-width=\"0.1\"/>\n",
       "<rect x=\"206.25\" y=\"-143.75\" width=\"6.25\" height=\"6.25\" opacity=\"0.03822937625754543\" fill=\"currentColor\" stroke-width=\"0.1\"/>\n",
       "<rect x=\"212.5\" y=\"-143.75\" width=\"6.25\" height=\"6.25\" opacity=\"0.016096579476861234\" fill=\"currentColor\" stroke-width=\"0.1\"/>\n",
       "<rect x=\"218.75\" y=\"-143.75\" width=\"6.25\" height=\"6.25\" opacity=\"0.012072434607645927\" fill=\"currentColor\" stroke-width=\"0.1\"/>\n",
       "<rect x=\"225.0\" y=\"-143.75\" width=\"6.25\" height=\"6.25\" opacity=\"0.008048289738430617\" fill=\"currentColor\" stroke-width=\"0.1\"/>\n",
       "<rect x=\"231.25\" y=\"-143.75\" width=\"6.25\" height=\"6.25\" opacity=\"0.0\" fill=\"currentColor\" stroke-width=\"0.1\"/>\n",
       "<rect x=\"237.5\" y=\"-143.75\" width=\"6.25\" height=\"6.25\" opacity=\"0.0\" fill=\"currentColor\" stroke-width=\"0.1\"/>\n",
       "<rect x=\"243.75\" y=\"-143.75\" width=\"6.25\" height=\"6.25\" opacity=\"0.0\" fill=\"currentColor\" stroke-width=\"0.1\"/>\n",
       "<rect x=\"0.0\" y=\"-150.0\" width=\"6.25\" height=\"6.25\" opacity=\"0.0\" fill=\"currentColor\" stroke-width=\"0.1\"/>\n",
       "<rect x=\"6.250000000000005\" y=\"-150.0\" width=\"6.25\" height=\"6.25\" opacity=\"0.0\" fill=\"currentColor\" stroke-width=\"0.1\"/>\n",
       "<rect x=\"12.50000000000001\" y=\"-150.0\" width=\"6.25\" height=\"6.25\" opacity=\"0.0\" fill=\"currentColor\" stroke-width=\"0.1\"/>\n",
       "<rect x=\"18.74999999999999\" y=\"-150.0\" width=\"6.25\" height=\"6.25\" opacity=\"0.0\" fill=\"currentColor\" stroke-width=\"0.1\"/>\n",
       "<rect x=\"24.999999999999993\" y=\"-150.0\" width=\"6.25\" height=\"6.25\" opacity=\"0.0020120724346076456\" fill=\"currentColor\" stroke-width=\"0.1\"/>\n",
       "<rect x=\"31.25\" y=\"-150.0\" width=\"6.25\" height=\"6.25\" opacity=\"0.006036217303822937\" fill=\"currentColor\" stroke-width=\"0.1\"/>\n",
       "<rect x=\"37.50000000000001\" y=\"-150.0\" width=\"6.25\" height=\"6.25\" opacity=\"0.018108651911468814\" fill=\"currentColor\" stroke-width=\"0.1\"/>\n",
       "<rect x=\"43.750000000000014\" y=\"-150.0\" width=\"6.25\" height=\"6.25\" opacity=\"0.03822937625754543\" fill=\"currentColor\" stroke-width=\"0.1\"/>\n",
       "<rect x=\"49.999999999999986\" y=\"-150.0\" width=\"6.25\" height=\"6.25\" opacity=\"0.0482897384305835\" fill=\"currentColor\" stroke-width=\"0.1\"/>\n",
       "<rect x=\"56.24999999999999\" y=\"-150.0\" width=\"6.25\" height=\"6.25\" opacity=\"0.11267605633802816\" fill=\"currentColor\" stroke-width=\"0.1\"/>\n",
       "<rect x=\"62.5\" y=\"-150.0\" width=\"6.25\" height=\"6.25\" opacity=\"0.12474849094567404\" fill=\"currentColor\" stroke-width=\"0.1\"/>\n",
       "<rect x=\"68.75\" y=\"-150.0\" width=\"6.25\" height=\"6.25\" opacity=\"0.20120724346076474\" fill=\"currentColor\" stroke-width=\"0.1\"/>\n",
       "<rect x=\"75.00000000000001\" y=\"-150.0\" width=\"6.25\" height=\"6.25\" opacity=\"0.24346076458752566\" fill=\"currentColor\" stroke-width=\"0.1\"/>\n",
       "<rect x=\"81.24999999999999\" y=\"-150.0\" width=\"6.25\" height=\"6.25\" opacity=\"0.31991951710261596\" fill=\"currentColor\" stroke-width=\"0.1\"/>\n",
       "<rect x=\"87.5\" y=\"-150.0\" width=\"6.25\" height=\"6.25\" opacity=\"0.4164989939637827\" fill=\"currentColor\" stroke-width=\"0.1\"/>\n",
       "<rect x=\"93.75\" y=\"-150.0\" width=\"6.25\" height=\"6.25\" opacity=\"0.5412474849094567\" fill=\"currentColor\" stroke-width=\"0.1\"/>\n",
       "<rect x=\"100.0\" y=\"-150.0\" width=\"6.25\" height=\"6.25\" opacity=\"0.627766599597586\" fill=\"currentColor\" stroke-width=\"0.1\"/>\n",
       "<rect x=\"106.25000000000001\" y=\"-150.0\" width=\"6.25\" height=\"6.25\" opacity=\"0.655935613682094\" fill=\"currentColor\" stroke-width=\"0.1\"/>\n",
       "<rect x=\"112.49999999999999\" y=\"-150.0\" width=\"6.25\" height=\"6.25\" opacity=\"0.6358148893360167\" fill=\"currentColor\" stroke-width=\"0.1\"/>\n",
       "<rect x=\"118.75\" y=\"-150.0\" width=\"6.25\" height=\"6.25\" opacity=\"0.7967806841046278\" fill=\"currentColor\" stroke-width=\"0.1\"/>\n",
       "<rect x=\"125.0\" y=\"-150.0\" width=\"6.25\" height=\"6.25\" opacity=\"0.7746478873239436\" fill=\"currentColor\" stroke-width=\"0.1\"/>\n",
       "<rect x=\"131.25\" y=\"-150.0\" width=\"6.25\" height=\"6.25\" opacity=\"0.6659959758551307\" fill=\"currentColor\" stroke-width=\"0.1\"/>\n",
       "<rect x=\"137.5\" y=\"-150.0\" width=\"6.25\" height=\"6.25\" opacity=\"0.6498993963782723\" fill=\"currentColor\" stroke-width=\"0.1\"/>\n",
       "<rect x=\"143.75\" y=\"-150.0\" width=\"6.25\" height=\"6.25\" opacity=\"0.5633802816901409\" fill=\"currentColor\" stroke-width=\"0.1\"/>\n",
       "<rect x=\"150.0\" y=\"-150.0\" width=\"6.25\" height=\"6.25\" opacity=\"0.4849094567404426\" fill=\"currentColor\" stroke-width=\"0.1\"/>\n",
       "<rect x=\"156.25\" y=\"-150.0\" width=\"6.25\" height=\"6.25\" opacity=\"0.380281690140845\" fill=\"currentColor\" stroke-width=\"0.1\"/>\n",
       "<rect x=\"162.5\" y=\"-150.0\" width=\"6.25\" height=\"6.25\" opacity=\"0.317907444668008\" fill=\"currentColor\" stroke-width=\"0.1\"/>\n",
       "<rect x=\"168.75\" y=\"-150.0\" width=\"6.25\" height=\"6.25\" opacity=\"0.25352112676056443\" fill=\"currentColor\" stroke-width=\"0.1\"/>\n",
       "<rect x=\"175.0\" y=\"-150.0\" width=\"6.25\" height=\"6.25\" opacity=\"0.1730382293762575\" fill=\"currentColor\" stroke-width=\"0.1\"/>\n",
       "<rect x=\"181.25\" y=\"-150.0\" width=\"6.25\" height=\"6.25\" opacity=\"0.13480885311871227\" fill=\"currentColor\" stroke-width=\"0.1\"/>\n",
       "<rect x=\"187.5\" y=\"-150.0\" width=\"6.25\" height=\"6.25\" opacity=\"0.0663983903420523\" fill=\"currentColor\" stroke-width=\"0.1\"/>\n",
       "<rect x=\"193.75\" y=\"-150.0\" width=\"6.25\" height=\"6.25\" opacity=\"0.0442655935613682\" fill=\"currentColor\" stroke-width=\"0.1\"/>\n",
       "<rect x=\"200.0\" y=\"-150.0\" width=\"6.25\" height=\"6.25\" opacity=\"0.020120724346076542\" fill=\"currentColor\" stroke-width=\"0.1\"/>\n",
       "<rect x=\"206.25\" y=\"-150.0\" width=\"6.25\" height=\"6.25\" opacity=\"0.012072434607645875\" fill=\"currentColor\" stroke-width=\"0.1\"/>\n",
       "<rect x=\"212.5\" y=\"-150.0\" width=\"6.25\" height=\"6.25\" opacity=\"0.008048289738430582\" fill=\"currentColor\" stroke-width=\"0.1\"/>\n",
       "<rect x=\"218.75\" y=\"-150.0\" width=\"6.25\" height=\"6.25\" opacity=\"0.004024144869215291\" fill=\"currentColor\" stroke-width=\"0.1\"/>\n",
       "<rect x=\"225.0\" y=\"-150.0\" width=\"6.25\" height=\"6.25\" opacity=\"0.0020120724346076456\" fill=\"currentColor\" stroke-width=\"0.1\"/>\n",
       "<rect x=\"231.25\" y=\"-150.0\" width=\"6.25\" height=\"6.25\" opacity=\"0.0020120724346076543\" fill=\"currentColor\" stroke-width=\"0.1\"/>\n",
       "<rect x=\"237.5\" y=\"-150.0\" width=\"6.25\" height=\"6.25\" opacity=\"0.0\" fill=\"currentColor\" stroke-width=\"0.1\"/>\n",
       "<rect x=\"243.75\" y=\"-150.0\" width=\"6.25\" height=\"6.25\" opacity=\"0.0020120724346076456\" fill=\"currentColor\" stroke-width=\"0.1\"/>\n",
       "<rect x=\"0.0\" y=\"-156.25\" width=\"6.25\" height=\"6.25\" opacity=\"0.0020120724346076456\" fill=\"currentColor\" stroke-width=\"0.1\"/>\n",
       "<rect x=\"6.250000000000005\" y=\"-156.25\" width=\"6.25\" height=\"6.25\" opacity=\"0.0\" fill=\"currentColor\" stroke-width=\"0.1\"/>\n",
       "<rect x=\"12.50000000000001\" y=\"-156.25\" width=\"6.25\" height=\"6.25\" opacity=\"0.004024144869215309\" fill=\"currentColor\" stroke-width=\"0.1\"/>\n",
       "<rect x=\"18.74999999999999\" y=\"-156.25\" width=\"6.25\" height=\"6.25\" opacity=\"0.0020120724346076456\" fill=\"currentColor\" stroke-width=\"0.1\"/>\n",
       "<rect x=\"24.999999999999993\" y=\"-156.25\" width=\"6.25\" height=\"6.25\" opacity=\"0.0\" fill=\"currentColor\" stroke-width=\"0.1\"/>\n",
       "<rect x=\"31.25\" y=\"-156.25\" width=\"6.25\" height=\"6.25\" opacity=\"0.006036217303822937\" fill=\"currentColor\" stroke-width=\"0.1\"/>\n",
       "<rect x=\"37.50000000000001\" y=\"-156.25\" width=\"6.25\" height=\"6.25\" opacity=\"0.02414486921529175\" fill=\"currentColor\" stroke-width=\"0.1\"/>\n",
       "<rect x=\"43.750000000000014\" y=\"-156.25\" width=\"6.25\" height=\"6.25\" opacity=\"0.018108651911468886\" fill=\"currentColor\" stroke-width=\"0.1\"/>\n",
       "<rect x=\"49.999999999999986\" y=\"-156.25\" width=\"6.25\" height=\"6.25\" opacity=\"0.04225352112676056\" fill=\"currentColor\" stroke-width=\"0.1\"/>\n",
       "<rect x=\"56.24999999999999\" y=\"-156.25\" width=\"6.25\" height=\"6.25\" opacity=\"0.06036217303822937\" fill=\"currentColor\" stroke-width=\"0.1\"/>\n",
       "<rect x=\"62.5\" y=\"-156.25\" width=\"6.25\" height=\"6.25\" opacity=\"0.1327967806841046\" fill=\"currentColor\" stroke-width=\"0.1\"/>\n",
       "<rect x=\"68.75\" y=\"-156.25\" width=\"6.25\" height=\"6.25\" opacity=\"0.142857142857143\" fill=\"currentColor\" stroke-width=\"0.1\"/>\n",
       "<rect x=\"75.00000000000001\" y=\"-156.25\" width=\"6.25\" height=\"6.25\" opacity=\"0.2092555331991956\" fill=\"currentColor\" stroke-width=\"0.1\"/>\n",
       "<rect x=\"81.24999999999999\" y=\"-156.25\" width=\"6.25\" height=\"6.25\" opacity=\"0.30784708249497006\" fill=\"currentColor\" stroke-width=\"0.1\"/>\n",
       "<rect x=\"87.5\" y=\"-156.25\" width=\"6.25\" height=\"6.25\" opacity=\"0.3259557344064386\" fill=\"currentColor\" stroke-width=\"0.1\"/>\n",
       "<rect x=\"93.75\" y=\"-156.25\" width=\"6.25\" height=\"6.25\" opacity=\"0.44466800804828965\" fill=\"currentColor\" stroke-width=\"0.1\"/>\n",
       "<rect x=\"100.0\" y=\"-156.25\" width=\"6.25\" height=\"6.25\" opacity=\"0.49698189134808896\" fill=\"currentColor\" stroke-width=\"0.1\"/>\n",
       "<rect x=\"106.25000000000001\" y=\"-156.25\" width=\"6.25\" height=\"6.25\" opacity=\"0.6056338028169026\" fill=\"currentColor\" stroke-width=\"0.1\"/>\n",
       "<rect x=\"112.49999999999999\" y=\"-156.25\" width=\"6.25\" height=\"6.25\" opacity=\"0.6036217303822943\" fill=\"currentColor\" stroke-width=\"0.1\"/>\n",
       "<rect x=\"118.75\" y=\"-156.25\" width=\"6.25\" height=\"6.25\" opacity=\"0.6317907444668007\" fill=\"currentColor\" stroke-width=\"0.1\"/>\n",
       "<rect x=\"125.0\" y=\"-156.25\" width=\"6.25\" height=\"6.25\" opacity=\"0.5593561368209254\" fill=\"currentColor\" stroke-width=\"0.1\"/>\n",
       "<rect x=\"131.25\" y=\"-156.25\" width=\"6.25\" height=\"6.25\" opacity=\"0.607645875251509\" fill=\"currentColor\" stroke-width=\"0.1\"/>\n",
       "<rect x=\"137.5\" y=\"-156.25\" width=\"6.25\" height=\"6.25\" opacity=\"0.5271629778672055\" fill=\"currentColor\" stroke-width=\"0.1\"/>\n",
       "<rect x=\"143.75\" y=\"-156.25\" width=\"6.25\" height=\"6.25\" opacity=\"0.5050301810865191\" fill=\"currentColor\" stroke-width=\"0.1\"/>\n",
       "<rect x=\"150.0\" y=\"-156.25\" width=\"6.25\" height=\"6.25\" opacity=\"0.448692152917505\" fill=\"currentColor\" stroke-width=\"0.1\"/>\n",
       "<rect x=\"156.25\" y=\"-156.25\" width=\"6.25\" height=\"6.25\" opacity=\"0.3903420523138833\" fill=\"currentColor\" stroke-width=\"0.1\"/>\n",
       "<rect x=\"162.5\" y=\"-156.25\" width=\"6.25\" height=\"6.25\" opacity=\"0.31589537223340036\" fill=\"currentColor\" stroke-width=\"0.1\"/>\n",
       "<rect x=\"168.75\" y=\"-156.25\" width=\"6.25\" height=\"6.25\" opacity=\"0.25150905432595677\" fill=\"currentColor\" stroke-width=\"0.1\"/>\n",
       "<rect x=\"175.0\" y=\"-156.25\" width=\"6.25\" height=\"6.25\" opacity=\"0.1529175050301811\" fill=\"currentColor\" stroke-width=\"0.1\"/>\n",
       "<rect x=\"181.25\" y=\"-156.25\" width=\"6.25\" height=\"6.25\" opacity=\"0.11670020120724345\" fill=\"currentColor\" stroke-width=\"0.1\"/>\n",
       "<rect x=\"187.5\" y=\"-156.25\" width=\"6.25\" height=\"6.25\" opacity=\"0.08048289738430583\" fill=\"currentColor\" stroke-width=\"0.1\"/>\n",
       "<rect x=\"193.75\" y=\"-156.25\" width=\"6.25\" height=\"6.25\" opacity=\"0.03621730382293763\" fill=\"currentColor\" stroke-width=\"0.1\"/>\n",
       "<rect x=\"200.0\" y=\"-156.25\" width=\"6.25\" height=\"6.25\" opacity=\"0.040241448692153084\" fill=\"currentColor\" stroke-width=\"0.1\"/>\n",
       "<rect x=\"206.25\" y=\"-156.25\" width=\"6.25\" height=\"6.25\" opacity=\"0.016096579476861165\" fill=\"currentColor\" stroke-width=\"0.1\"/>\n",
       "<rect x=\"212.5\" y=\"-156.25\" width=\"6.25\" height=\"6.25\" opacity=\"0.006036217303822937\" fill=\"currentColor\" stroke-width=\"0.1\"/>\n",
       "<rect x=\"218.75\" y=\"-156.25\" width=\"6.25\" height=\"6.25\" opacity=\"0.004024144869215291\" fill=\"currentColor\" stroke-width=\"0.1\"/>\n",
       "<rect x=\"225.0\" y=\"-156.25\" width=\"6.25\" height=\"6.25\" opacity=\"0.0020120724346076456\" fill=\"currentColor\" stroke-width=\"0.1\"/>\n",
       "<rect x=\"231.25\" y=\"-156.25\" width=\"6.25\" height=\"6.25\" opacity=\"0.0020120724346076543\" fill=\"currentColor\" stroke-width=\"0.1\"/>\n",
       "<rect x=\"237.5\" y=\"-156.25\" width=\"6.25\" height=\"6.25\" opacity=\"0.0\" fill=\"currentColor\" stroke-width=\"0.1\"/>\n",
       "<rect x=\"243.75\" y=\"-156.25\" width=\"6.25\" height=\"6.25\" opacity=\"0.0\" fill=\"currentColor\" stroke-width=\"0.1\"/>\n",
       "<rect x=\"0.0\" y=\"-162.5\" width=\"6.25\" height=\"6.25\" opacity=\"0.0\" fill=\"currentColor\" stroke-width=\"0.1\"/>\n",
       "<rect x=\"6.250000000000005\" y=\"-162.5\" width=\"6.25\" height=\"6.25\" opacity=\"0.0\" fill=\"currentColor\" stroke-width=\"0.1\"/>\n",
       "<rect x=\"12.50000000000001\" y=\"-162.5\" width=\"6.25\" height=\"6.25\" opacity=\"0.0020120724346076543\" fill=\"currentColor\" stroke-width=\"0.1\"/>\n",
       "<rect x=\"18.74999999999999\" y=\"-162.5\" width=\"6.25\" height=\"6.25\" opacity=\"0.01006036217303823\" fill=\"currentColor\" stroke-width=\"0.1\"/>\n",
       "<rect x=\"24.999999999999993\" y=\"-162.5\" width=\"6.25\" height=\"6.25\" opacity=\"0.0020120724346076456\" fill=\"currentColor\" stroke-width=\"0.1\"/>\n",
       "<rect x=\"31.25\" y=\"-162.5\" width=\"6.25\" height=\"6.25\" opacity=\"0.008048289738430582\" fill=\"currentColor\" stroke-width=\"0.1\"/>\n",
       "<rect x=\"37.50000000000001\" y=\"-162.5\" width=\"6.25\" height=\"6.25\" opacity=\"0.0020120724346076456\" fill=\"currentColor\" stroke-width=\"0.1\"/>\n",
       "<rect x=\"43.750000000000014\" y=\"-162.5\" width=\"6.25\" height=\"6.25\" opacity=\"0.018108651911468886\" fill=\"currentColor\" stroke-width=\"0.1\"/>\n",
       "<rect x=\"49.999999999999986\" y=\"-162.5\" width=\"6.25\" height=\"6.25\" opacity=\"0.03822937625754527\" fill=\"currentColor\" stroke-width=\"0.1\"/>\n",
       "<rect x=\"56.24999999999999\" y=\"-162.5\" width=\"6.25\" height=\"6.25\" opacity=\"0.0482897384305835\" fill=\"currentColor\" stroke-width=\"0.1\"/>\n",
       "<rect x=\"62.5\" y=\"-162.5\" width=\"6.25\" height=\"6.25\" opacity=\"0.10060362173038229\" fill=\"currentColor\" stroke-width=\"0.1\"/>\n",
       "<rect x=\"68.75\" y=\"-162.5\" width=\"6.25\" height=\"6.25\" opacity=\"0.1529175050301812\" fill=\"currentColor\" stroke-width=\"0.1\"/>\n",
       "<rect x=\"75.00000000000001\" y=\"-162.5\" width=\"6.25\" height=\"6.25\" opacity=\"0.1770623742454732\" fill=\"currentColor\" stroke-width=\"0.1\"/>\n",
       "<rect x=\"81.24999999999999\" y=\"-162.5\" width=\"6.25\" height=\"6.25\" opacity=\"0.20523138832998006\" fill=\"currentColor\" stroke-width=\"0.1\"/>\n",
       "<rect x=\"87.5\" y=\"-162.5\" width=\"6.25\" height=\"6.25\" opacity=\"0.2776659959758551\" fill=\"currentColor\" stroke-width=\"0.1\"/>\n",
       "<rect x=\"93.75\" y=\"-162.5\" width=\"6.25\" height=\"6.25\" opacity=\"0.4004024144869215\" fill=\"currentColor\" stroke-width=\"0.1\"/>\n",
       "<rect x=\"100.0\" y=\"-162.5\" width=\"6.25\" height=\"6.25\" opacity=\"0.39235412474849124\" fill=\"currentColor\" stroke-width=\"0.1\"/>\n",
       "<rect x=\"106.25000000000001\" y=\"-162.5\" width=\"6.25\" height=\"6.25\" opacity=\"0.4245472837022142\" fill=\"currentColor\" stroke-width=\"0.1\"/>\n",
       "<rect x=\"112.49999999999999\" y=\"-162.5\" width=\"6.25\" height=\"6.25\" opacity=\"0.4386317907444671\" fill=\"currentColor\" stroke-width=\"0.1\"/>\n",
       "<rect x=\"118.75\" y=\"-162.5\" width=\"6.25\" height=\"6.25\" opacity=\"0.4929577464788732\" fill=\"currentColor\" stroke-width=\"0.1\"/>\n",
       "<rect x=\"125.0\" y=\"-162.5\" width=\"6.25\" height=\"6.25\" opacity=\"0.5492957746478873\" fill=\"currentColor\" stroke-width=\"0.1\"/>\n",
       "<rect x=\"131.25\" y=\"-162.5\" width=\"6.25\" height=\"6.25\" opacity=\"0.4748490945674044\" fill=\"currentColor\" stroke-width=\"0.1\"/>\n",
       "<rect x=\"137.5\" y=\"-162.5\" width=\"6.25\" height=\"6.25\" opacity=\"0.4446680080482916\" fill=\"currentColor\" stroke-width=\"0.1\"/>\n",
       "<rect x=\"143.75\" y=\"-162.5\" width=\"6.25\" height=\"6.25\" opacity=\"0.40845070422535207\" fill=\"currentColor\" stroke-width=\"0.1\"/>\n",
       "<rect x=\"150.0\" y=\"-162.5\" width=\"6.25\" height=\"6.25\" opacity=\"0.32394366197183094\" fill=\"currentColor\" stroke-width=\"0.1\"/>\n",
       "<rect x=\"156.25\" y=\"-162.5\" width=\"6.25\" height=\"6.25\" opacity=\"0.3058350100603622\" fill=\"currentColor\" stroke-width=\"0.1\"/>\n",
       "<rect x=\"162.5\" y=\"-162.5\" width=\"6.25\" height=\"6.25\" opacity=\"0.2112676056338028\" fill=\"currentColor\" stroke-width=\"0.1\"/>\n",
       "<rect x=\"168.75\" y=\"-162.5\" width=\"6.25\" height=\"6.25\" opacity=\"0.1851106639839042\" fill=\"currentColor\" stroke-width=\"0.1\"/>\n",
       "<rect x=\"175.0\" y=\"-162.5\" width=\"6.25\" height=\"6.25\" opacity=\"0.13883299798792756\" fill=\"currentColor\" stroke-width=\"0.1\"/>\n",
       "<rect x=\"181.25\" y=\"-162.5\" width=\"6.25\" height=\"6.25\" opacity=\"0.09859154929577464\" fill=\"currentColor\" stroke-width=\"0.1\"/>\n",
       "<rect x=\"187.5\" y=\"-162.5\" width=\"6.25\" height=\"6.25\" opacity=\"0.0482897384305835\" fill=\"currentColor\" stroke-width=\"0.1\"/>\n",
       "<rect x=\"193.75\" y=\"-162.5\" width=\"6.25\" height=\"6.25\" opacity=\"0.02012072434607646\" fill=\"currentColor\" stroke-width=\"0.1\"/>\n",
       "<rect x=\"200.0\" y=\"-162.5\" width=\"6.25\" height=\"6.25\" opacity=\"0.022132796780684198\" fill=\"currentColor\" stroke-width=\"0.1\"/>\n",
       "<rect x=\"206.25\" y=\"-162.5\" width=\"6.25\" height=\"6.25\" opacity=\"0.01006036217303823\" fill=\"currentColor\" stroke-width=\"0.1\"/>\n",
       "<rect x=\"212.5\" y=\"-162.5\" width=\"6.25\" height=\"6.25\" opacity=\"0.012072434607645875\" fill=\"currentColor\" stroke-width=\"0.1\"/>\n",
       "<rect x=\"218.75\" y=\"-162.5\" width=\"6.25\" height=\"6.25\" opacity=\"0.008048289738430582\" fill=\"currentColor\" stroke-width=\"0.1\"/>\n",
       "<rect x=\"225.0\" y=\"-162.5\" width=\"6.25\" height=\"6.25\" opacity=\"0.0020120724346076456\" fill=\"currentColor\" stroke-width=\"0.1\"/>\n",
       "<rect x=\"231.25\" y=\"-162.5\" width=\"6.25\" height=\"6.25\" opacity=\"0.0020120724346076543\" fill=\"currentColor\" stroke-width=\"0.1\"/>\n",
       "<rect x=\"237.5\" y=\"-162.5\" width=\"6.25\" height=\"6.25\" opacity=\"0.0020120724346076456\" fill=\"currentColor\" stroke-width=\"0.1\"/>\n",
       "<rect x=\"243.75\" y=\"-162.5\" width=\"6.25\" height=\"6.25\" opacity=\"0.0\" fill=\"currentColor\" stroke-width=\"0.1\"/>\n",
       "<rect x=\"0.0\" y=\"-168.75\" width=\"6.25\" height=\"6.25\" opacity=\"0.0020120724346076456\" fill=\"currentColor\" stroke-width=\"0.1\"/>\n",
       "<rect x=\"6.250000000000005\" y=\"-168.75\" width=\"6.25\" height=\"6.25\" opacity=\"0.0\" fill=\"currentColor\" stroke-width=\"0.1\"/>\n",
       "<rect x=\"12.50000000000001\" y=\"-168.75\" width=\"6.25\" height=\"6.25\" opacity=\"0.0020120724346076543\" fill=\"currentColor\" stroke-width=\"0.1\"/>\n",
       "<rect x=\"18.74999999999999\" y=\"-168.75\" width=\"6.25\" height=\"6.25\" opacity=\"0.004024144869215291\" fill=\"currentColor\" stroke-width=\"0.1\"/>\n",
       "<rect x=\"24.999999999999993\" y=\"-168.75\" width=\"6.25\" height=\"6.25\" opacity=\"0.0020120724346076456\" fill=\"currentColor\" stroke-width=\"0.1\"/>\n",
       "<rect x=\"31.25\" y=\"-168.75\" width=\"6.25\" height=\"6.25\" opacity=\"0.012072434607645875\" fill=\"currentColor\" stroke-width=\"0.1\"/>\n",
       "<rect x=\"37.50000000000001\" y=\"-168.75\" width=\"6.25\" height=\"6.25\" opacity=\"0.012072434607645875\" fill=\"currentColor\" stroke-width=\"0.1\"/>\n",
       "<rect x=\"43.750000000000014\" y=\"-168.75\" width=\"6.25\" height=\"6.25\" opacity=\"0.03219315895372247\" fill=\"currentColor\" stroke-width=\"0.1\"/>\n",
       "<rect x=\"49.999999999999986\" y=\"-168.75\" width=\"6.25\" height=\"6.25\" opacity=\"0.03219315895372233\" fill=\"currentColor\" stroke-width=\"0.1\"/>\n",
       "<rect x=\"56.24999999999999\" y=\"-168.75\" width=\"6.25\" height=\"6.25\" opacity=\"0.03822937625754527\" fill=\"currentColor\" stroke-width=\"0.1\"/>\n",
       "<rect x=\"62.5\" y=\"-168.75\" width=\"6.25\" height=\"6.25\" opacity=\"0.08450704225352113\" fill=\"currentColor\" stroke-width=\"0.1\"/>\n",
       "<rect x=\"68.75\" y=\"-168.75\" width=\"6.25\" height=\"6.25\" opacity=\"0.07042253521126766\" fill=\"currentColor\" stroke-width=\"0.1\"/>\n",
       "<rect x=\"75.00000000000001\" y=\"-168.75\" width=\"6.25\" height=\"6.25\" opacity=\"0.1368209255533202\" fill=\"currentColor\" stroke-width=\"0.1\"/>\n",
       "<rect x=\"81.24999999999999\" y=\"-168.75\" width=\"6.25\" height=\"6.25\" opacity=\"0.20925553319919535\" fill=\"currentColor\" stroke-width=\"0.1\"/>\n",
       "<rect x=\"87.5\" y=\"-168.75\" width=\"6.25\" height=\"6.25\" opacity=\"0.23138832997987924\" fill=\"currentColor\" stroke-width=\"0.1\"/>\n",
       "<rect x=\"93.75\" y=\"-168.75\" width=\"6.25\" height=\"6.25\" opacity=\"0.2796780684104627\" fill=\"currentColor\" stroke-width=\"0.1\"/>\n",
       "<rect x=\"100.0\" y=\"-168.75\" width=\"6.25\" height=\"6.25\" opacity=\"0.35412474849094594\" fill=\"currentColor\" stroke-width=\"0.1\"/>\n",
       "<rect x=\"106.25000000000001\" y=\"-168.75\" width=\"6.25\" height=\"6.25\" opacity=\"0.3521126760563388\" fill=\"currentColor\" stroke-width=\"0.1\"/>\n",
       "<rect x=\"112.49999999999999\" y=\"-168.75\" width=\"6.25\" height=\"6.25\" opacity=\"0.4647887323943666\" fill=\"currentColor\" stroke-width=\"0.1\"/>\n",
       "<rect x=\"118.75\" y=\"-168.75\" width=\"6.25\" height=\"6.25\" opacity=\"0.45472837022132795\" fill=\"currentColor\" stroke-width=\"0.1\"/>\n",
       "<rect x=\"125.0\" y=\"-168.75\" width=\"6.25\" height=\"6.25\" opacity=\"0.4225352112676056\" fill=\"currentColor\" stroke-width=\"0.1\"/>\n",
       "<rect x=\"131.25\" y=\"-168.75\" width=\"6.25\" height=\"6.25\" opacity=\"0.41247484909456733\" fill=\"currentColor\" stroke-width=\"0.1\"/>\n",
       "<rect x=\"137.5\" y=\"-168.75\" width=\"6.25\" height=\"6.25\" opacity=\"0.36217303822937774\" fill=\"currentColor\" stroke-width=\"0.1\"/>\n",
       "<rect x=\"143.75\" y=\"-168.75\" width=\"6.25\" height=\"6.25\" opacity=\"0.3118712273641851\" fill=\"currentColor\" stroke-width=\"0.1\"/>\n",
       "<rect x=\"150.0\" y=\"-168.75\" width=\"6.25\" height=\"6.25\" opacity=\"0.2736418511066398\" fill=\"currentColor\" stroke-width=\"0.1\"/>\n",
       "<rect x=\"156.25\" y=\"-168.75\" width=\"6.25\" height=\"6.25\" opacity=\"0.21730382293762573\" fill=\"currentColor\" stroke-width=\"0.1\"/>\n",
       "<rect x=\"162.5\" y=\"-168.75\" width=\"6.25\" height=\"6.25\" opacity=\"0.17907444668008046\" fill=\"currentColor\" stroke-width=\"0.1\"/>\n",
       "<rect x=\"168.75\" y=\"-168.75\" width=\"6.25\" height=\"6.25\" opacity=\"0.1408450704225358\" fill=\"currentColor\" stroke-width=\"0.1\"/>\n",
       "<rect x=\"175.0\" y=\"-168.75\" width=\"6.25\" height=\"6.25\" opacity=\"0.1146881287726358\" fill=\"currentColor\" stroke-width=\"0.1\"/>\n",
       "<rect x=\"181.25\" y=\"-168.75\" width=\"6.25\" height=\"6.25\" opacity=\"0.06438631790744466\" fill=\"currentColor\" stroke-width=\"0.1\"/>\n",
       "<rect x=\"187.5\" y=\"-168.75\" width=\"6.25\" height=\"6.25\" opacity=\"0.0442655935613682\" fill=\"currentColor\" stroke-width=\"0.1\"/>\n",
       "<rect x=\"193.75\" y=\"-168.75\" width=\"6.25\" height=\"6.25\" opacity=\"0.0221327967806841\" fill=\"currentColor\" stroke-width=\"0.1\"/>\n",
       "<rect x=\"200.0\" y=\"-168.75\" width=\"6.25\" height=\"6.25\" opacity=\"0.016096579476861234\" fill=\"currentColor\" stroke-width=\"0.1\"/>\n",
       "<rect x=\"206.25\" y=\"-168.75\" width=\"6.25\" height=\"6.25\" opacity=\"0.01006036217303823\" fill=\"currentColor\" stroke-width=\"0.1\"/>\n",
       "<rect x=\"212.5\" y=\"-168.75\" width=\"6.25\" height=\"6.25\" opacity=\"0.008048289738430582\" fill=\"currentColor\" stroke-width=\"0.1\"/>\n",
       "<rect x=\"218.75\" y=\"-168.75\" width=\"6.25\" height=\"6.25\" opacity=\"0.0020120724346076456\" fill=\"currentColor\" stroke-width=\"0.1\"/>\n",
       "<rect x=\"225.0\" y=\"-168.75\" width=\"6.25\" height=\"6.25\" opacity=\"0.0020120724346076456\" fill=\"currentColor\" stroke-width=\"0.1\"/>\n",
       "<rect x=\"231.25\" y=\"-168.75\" width=\"6.25\" height=\"6.25\" opacity=\"0.0020120724346076543\" fill=\"currentColor\" stroke-width=\"0.1\"/>\n",
       "<rect x=\"237.5\" y=\"-168.75\" width=\"6.25\" height=\"6.25\" opacity=\"0.0\" fill=\"currentColor\" stroke-width=\"0.1\"/>\n",
       "<rect x=\"243.75\" y=\"-168.75\" width=\"6.25\" height=\"6.25\" opacity=\"0.0\" fill=\"currentColor\" stroke-width=\"0.1\"/>\n",
       "<rect x=\"0.0\" y=\"-175.0\" width=\"6.25\" height=\"6.25\" opacity=\"0.0\" fill=\"currentColor\" stroke-width=\"0.1\"/>\n",
       "<rect x=\"6.250000000000005\" y=\"-175.0\" width=\"6.25\" height=\"6.25\" opacity=\"0.0\" fill=\"currentColor\" stroke-width=\"0.1\"/>\n",
       "<rect x=\"12.50000000000001\" y=\"-175.0\" width=\"6.25\" height=\"6.25\" opacity=\"0.0\" fill=\"currentColor\" stroke-width=\"0.1\"/>\n",
       "<rect x=\"18.74999999999999\" y=\"-175.0\" width=\"6.25\" height=\"6.25\" opacity=\"0.0\" fill=\"currentColor\" stroke-width=\"0.1\"/>\n",
       "<rect x=\"24.999999999999993\" y=\"-175.0\" width=\"6.25\" height=\"6.25\" opacity=\"0.0020120724346076543\" fill=\"currentColor\" stroke-width=\"0.1\"/>\n",
       "<rect x=\"31.25\" y=\"-175.0\" width=\"6.25\" height=\"6.25\" opacity=\"0.006036217303822963\" fill=\"currentColor\" stroke-width=\"0.1\"/>\n",
       "<rect x=\"37.50000000000001\" y=\"-175.0\" width=\"6.25\" height=\"6.25\" opacity=\"0.01408450704225358\" fill=\"currentColor\" stroke-width=\"0.1\"/>\n",
       "<rect x=\"43.750000000000014\" y=\"-175.0\" width=\"6.25\" height=\"6.25\" opacity=\"0.014084507042253643\" fill=\"currentColor\" stroke-width=\"0.1\"/>\n",
       "<rect x=\"49.999999999999986\" y=\"-175.0\" width=\"6.25\" height=\"6.25\" opacity=\"0.030181086519114813\" fill=\"currentColor\" stroke-width=\"0.1\"/>\n",
       "<rect x=\"56.24999999999999\" y=\"-175.0\" width=\"6.25\" height=\"6.25\" opacity=\"0.040241448692153084\" fill=\"currentColor\" stroke-width=\"0.1\"/>\n",
       "<rect x=\"62.5\" y=\"-175.0\" width=\"6.25\" height=\"6.25\" opacity=\"0.048289738430583706\" fill=\"currentColor\" stroke-width=\"0.1\"/>\n",
       "<rect x=\"68.75\" y=\"-175.0\" width=\"6.25\" height=\"6.25\" opacity=\"0.064386317907445\" fill=\"currentColor\" stroke-width=\"0.1\"/>\n",
       "<rect x=\"75.00000000000001\" y=\"-175.0\" width=\"6.25\" height=\"6.25\" opacity=\"0.10663983903420592\" fill=\"currentColor\" stroke-width=\"0.1\"/>\n",
       "<rect x=\"81.24999999999999\" y=\"-175.0\" width=\"6.25\" height=\"6.25\" opacity=\"0.13279678068410533\" fill=\"currentColor\" stroke-width=\"0.1\"/>\n",
       "<rect x=\"87.5\" y=\"-175.0\" width=\"6.25\" height=\"6.25\" opacity=\"0.1710261569416506\" fill=\"currentColor\" stroke-width=\"0.1\"/>\n",
       "<rect x=\"93.75\" y=\"-175.0\" width=\"6.25\" height=\"6.25\" opacity=\"0.19517102615694246\" fill=\"currentColor\" stroke-width=\"0.1\"/>\n",
       "<rect x=\"100.0\" y=\"-175.0\" width=\"6.25\" height=\"6.25\" opacity=\"0.2193158953722346\" fill=\"currentColor\" stroke-width=\"0.1\"/>\n",
       "<rect x=\"106.25000000000001\" y=\"-175.0\" width=\"6.25\" height=\"6.25\" opacity=\"0.2796780684104646\" fill=\"currentColor\" stroke-width=\"0.1\"/>\n",
       "<rect x=\"112.49999999999999\" y=\"-175.0\" width=\"6.25\" height=\"6.25\" opacity=\"0.27162977867203364\" fill=\"currentColor\" stroke-width=\"0.1\"/>\n",
       "<rect x=\"118.75\" y=\"-175.0\" width=\"6.25\" height=\"6.25\" opacity=\"0.26961770623742565\" fill=\"currentColor\" stroke-width=\"0.1\"/>\n",
       "<rect x=\"125.0\" y=\"-175.0\" width=\"6.25\" height=\"6.25\" opacity=\"0.28370221327967926\" fill=\"currentColor\" stroke-width=\"0.1\"/>\n",
       "<rect x=\"131.25\" y=\"-175.0\" width=\"6.25\" height=\"6.25\" opacity=\"0.34406438631790887\" fill=\"currentColor\" stroke-width=\"0.1\"/>\n",
       "<rect x=\"137.5\" y=\"-175.0\" width=\"6.25\" height=\"6.25\" opacity=\"0.31991951710261846\" fill=\"currentColor\" stroke-width=\"0.1\"/>\n",
       "<rect x=\"143.75\" y=\"-175.0\" width=\"6.25\" height=\"6.25\" opacity=\"0.24346076458752616\" fill=\"currentColor\" stroke-width=\"0.1\"/>\n",
       "<rect x=\"150.0\" y=\"-175.0\" width=\"6.25\" height=\"6.25\" opacity=\"0.18712273641851185\" fill=\"currentColor\" stroke-width=\"0.1\"/>\n",
       "<rect x=\"156.25\" y=\"-175.0\" width=\"6.25\" height=\"6.25\" opacity=\"0.1851106639839042\" fill=\"currentColor\" stroke-width=\"0.1\"/>\n",
       "<rect x=\"162.5\" y=\"-175.0\" width=\"6.25\" height=\"6.25\" opacity=\"0.12474849094567456\" fill=\"currentColor\" stroke-width=\"0.1\"/>\n",
       "<rect x=\"168.75\" y=\"-175.0\" width=\"6.25\" height=\"6.25\" opacity=\"0.09255533199195251\" fill=\"currentColor\" stroke-width=\"0.1\"/>\n",
       "<rect x=\"175.0\" y=\"-175.0\" width=\"6.25\" height=\"6.25\" opacity=\"0.07847082494969851\" fill=\"currentColor\" stroke-width=\"0.1\"/>\n",
       "<rect x=\"181.25\" y=\"-175.0\" width=\"6.25\" height=\"6.25\" opacity=\"0.04225352112676074\" fill=\"currentColor\" stroke-width=\"0.1\"/>\n",
       "<rect x=\"187.5\" y=\"-175.0\" width=\"6.25\" height=\"6.25\" opacity=\"0.040241448692153084\" fill=\"currentColor\" stroke-width=\"0.1\"/>\n",
       "<rect x=\"193.75\" y=\"-175.0\" width=\"6.25\" height=\"6.25\" opacity=\"0.012072434607645927\" fill=\"currentColor\" stroke-width=\"0.1\"/>\n",
       "<rect x=\"200.0\" y=\"-175.0\" width=\"6.25\" height=\"6.25\" opacity=\"0.010060362173038316\" fill=\"currentColor\" stroke-width=\"0.1\"/>\n",
       "<rect x=\"206.25\" y=\"-175.0\" width=\"6.25\" height=\"6.25\" opacity=\"0.0020120724346076543\" fill=\"currentColor\" stroke-width=\"0.1\"/>\n",
       "<rect x=\"212.5\" y=\"-175.0\" width=\"6.25\" height=\"6.25\" opacity=\"0.0020120724346076543\" fill=\"currentColor\" stroke-width=\"0.1\"/>\n",
       "<rect x=\"218.75\" y=\"-175.0\" width=\"6.25\" height=\"6.25\" opacity=\"0.0020120724346076543\" fill=\"currentColor\" stroke-width=\"0.1\"/>\n",
       "<rect x=\"225.0\" y=\"-175.0\" width=\"6.25\" height=\"6.25\" opacity=\"0.004024144869215309\" fill=\"currentColor\" stroke-width=\"0.1\"/>\n",
       "<rect x=\"231.25\" y=\"-175.0\" width=\"6.25\" height=\"6.25\" opacity=\"0.0020120724346076634\" fill=\"currentColor\" stroke-width=\"0.1\"/>\n",
       "<rect x=\"237.5\" y=\"-175.0\" width=\"6.25\" height=\"6.25\" opacity=\"0.0\" fill=\"currentColor\" stroke-width=\"0.1\"/>\n",
       "<rect x=\"243.75\" y=\"-175.0\" width=\"6.25\" height=\"6.25\" opacity=\"0.0\" fill=\"currentColor\" stroke-width=\"0.1\"/>\n",
       "<rect x=\"0.0\" y=\"-181.25\" width=\"6.25\" height=\"6.25\" opacity=\"0.0020120724346076456\" fill=\"currentColor\" stroke-width=\"0.1\"/>\n",
       "<rect x=\"6.250000000000005\" y=\"-181.25\" width=\"6.25\" height=\"6.25\" opacity=\"0.0\" fill=\"currentColor\" stroke-width=\"0.1\"/>\n",
       "<rect x=\"12.50000000000001\" y=\"-181.25\" width=\"6.25\" height=\"6.25\" opacity=\"0.0020120724346076543\" fill=\"currentColor\" stroke-width=\"0.1\"/>\n",
       "<rect x=\"18.74999999999999\" y=\"-181.25\" width=\"6.25\" height=\"6.25\" opacity=\"0.0020120724346076456\" fill=\"currentColor\" stroke-width=\"0.1\"/>\n",
       "<rect x=\"24.999999999999993\" y=\"-181.25\" width=\"6.25\" height=\"6.25\" opacity=\"0.0\" fill=\"currentColor\" stroke-width=\"0.1\"/>\n",
       "<rect x=\"31.25\" y=\"-181.25\" width=\"6.25\" height=\"6.25\" opacity=\"0.0020120724346076456\" fill=\"currentColor\" stroke-width=\"0.1\"/>\n",
       "<rect x=\"37.50000000000001\" y=\"-181.25\" width=\"6.25\" height=\"6.25\" opacity=\"0.004024144869215291\" fill=\"currentColor\" stroke-width=\"0.1\"/>\n",
       "<rect x=\"43.750000000000014\" y=\"-181.25\" width=\"6.25\" height=\"6.25\" opacity=\"0.006036217303822963\" fill=\"currentColor\" stroke-width=\"0.1\"/>\n",
       "<rect x=\"49.999999999999986\" y=\"-181.25\" width=\"6.25\" height=\"6.25\" opacity=\"0.0221327967806841\" fill=\"currentColor\" stroke-width=\"0.1\"/>\n",
       "<rect x=\"56.24999999999999\" y=\"-181.25\" width=\"6.25\" height=\"6.25\" opacity=\"0.04225352112676056\" fill=\"currentColor\" stroke-width=\"0.1\"/>\n",
       "<rect x=\"62.5\" y=\"-181.25\" width=\"6.25\" height=\"6.25\" opacity=\"0.02816901408450704\" fill=\"currentColor\" stroke-width=\"0.1\"/>\n",
       "<rect x=\"68.75\" y=\"-181.25\" width=\"6.25\" height=\"6.25\" opacity=\"0.05231388329979884\" fill=\"currentColor\" stroke-width=\"0.1\"/>\n",
       "<rect x=\"75.00000000000001\" y=\"-181.25\" width=\"6.25\" height=\"6.25\" opacity=\"0.07042253521126775\" fill=\"currentColor\" stroke-width=\"0.1\"/>\n",
       "<rect x=\"81.24999999999999\" y=\"-181.25\" width=\"6.25\" height=\"6.25\" opacity=\"0.08853118712273648\" fill=\"currentColor\" stroke-width=\"0.1\"/>\n",
       "<rect x=\"87.5\" y=\"-181.25\" width=\"6.25\" height=\"6.25\" opacity=\"0.13078470824949698\" fill=\"currentColor\" stroke-width=\"0.1\"/>\n",
       "<rect x=\"93.75\" y=\"-181.25\" width=\"6.25\" height=\"6.25\" opacity=\"0.14688128772635814\" fill=\"currentColor\" stroke-width=\"0.1\"/>\n",
       "<rect x=\"100.0\" y=\"-181.25\" width=\"6.25\" height=\"6.25\" opacity=\"0.18511066398390358\" fill=\"currentColor\" stroke-width=\"0.1\"/>\n",
       "<rect x=\"106.25000000000001\" y=\"-181.25\" width=\"6.25\" height=\"6.25\" opacity=\"0.18712273641851143\" fill=\"currentColor\" stroke-width=\"0.1\"/>\n",
       "<rect x=\"112.49999999999999\" y=\"-181.25\" width=\"6.25\" height=\"6.25\" opacity=\"0.22334004024144885\" fill=\"currentColor\" stroke-width=\"0.1\"/>\n",
       "<rect x=\"118.75\" y=\"-181.25\" width=\"6.25\" height=\"6.25\" opacity=\"0.2293762575452716\" fill=\"currentColor\" stroke-width=\"0.1\"/>\n",
       "<rect x=\"125.0\" y=\"-181.25\" width=\"6.25\" height=\"6.25\" opacity=\"0.23138832997987924\" fill=\"currentColor\" stroke-width=\"0.1\"/>\n",
       "<rect x=\"131.25\" y=\"-181.25\" width=\"6.25\" height=\"6.25\" opacity=\"0.23138832997987924\" fill=\"currentColor\" stroke-width=\"0.1\"/>\n",
       "<rect x=\"137.5\" y=\"-181.25\" width=\"6.25\" height=\"6.25\" opacity=\"0.18309859154929656\" fill=\"currentColor\" stroke-width=\"0.1\"/>\n",
       "<rect x=\"143.75\" y=\"-181.25\" width=\"6.25\" height=\"6.25\" opacity=\"0.12877263581488932\" fill=\"currentColor\" stroke-width=\"0.1\"/>\n",
       "<rect x=\"150.0\" y=\"-181.25\" width=\"6.25\" height=\"6.25\" opacity=\"0.1730382293762575\" fill=\"currentColor\" stroke-width=\"0.1\"/>\n",
       "<rect x=\"156.25\" y=\"-181.25\" width=\"6.25\" height=\"6.25\" opacity=\"0.10462776659959758\" fill=\"currentColor\" stroke-width=\"0.1\"/>\n",
       "<rect x=\"162.5\" y=\"-181.25\" width=\"6.25\" height=\"6.25\" opacity=\"0.0885311871227364\" fill=\"currentColor\" stroke-width=\"0.1\"/>\n",
       "<rect x=\"168.75\" y=\"-181.25\" width=\"6.25\" height=\"6.25\" opacity=\"0.0663983903420526\" fill=\"currentColor\" stroke-width=\"0.1\"/>\n",
       "<rect x=\"175.0\" y=\"-181.25\" width=\"6.25\" height=\"6.25\" opacity=\"0.06438631790744466\" fill=\"currentColor\" stroke-width=\"0.1\"/>\n",
       "<rect x=\"181.25\" y=\"-181.25\" width=\"6.25\" height=\"6.25\" opacity=\"0.0442655935613682\" fill=\"currentColor\" stroke-width=\"0.1\"/>\n",
       "<rect x=\"187.5\" y=\"-181.25\" width=\"6.25\" height=\"6.25\" opacity=\"0.030181086519114685\" fill=\"currentColor\" stroke-width=\"0.1\"/>\n",
       "<rect x=\"193.75\" y=\"-181.25\" width=\"6.25\" height=\"6.25\" opacity=\"0.008048289738430582\" fill=\"currentColor\" stroke-width=\"0.1\"/>\n",
       "<rect x=\"200.0\" y=\"-181.25\" width=\"6.25\" height=\"6.25\" opacity=\"0.010060362173038271\" fill=\"currentColor\" stroke-width=\"0.1\"/>\n",
       "<rect x=\"206.25\" y=\"-181.25\" width=\"6.25\" height=\"6.25\" opacity=\"0.008048289738430582\" fill=\"currentColor\" stroke-width=\"0.1\"/>\n",
       "<rect x=\"212.5\" y=\"-181.25\" width=\"6.25\" height=\"6.25\" opacity=\"0.004024144869215291\" fill=\"currentColor\" stroke-width=\"0.1\"/>\n",
       "<rect x=\"218.75\" y=\"-181.25\" width=\"6.25\" height=\"6.25\" opacity=\"0.004024144869215291\" fill=\"currentColor\" stroke-width=\"0.1\"/>\n",
       "<rect x=\"225.0\" y=\"-181.25\" width=\"6.25\" height=\"6.25\" opacity=\"0.0\" fill=\"currentColor\" stroke-width=\"0.1\"/>\n",
       "<rect x=\"231.25\" y=\"-181.25\" width=\"6.25\" height=\"6.25\" opacity=\"0.0\" fill=\"currentColor\" stroke-width=\"0.1\"/>\n",
       "<rect x=\"237.5\" y=\"-181.25\" width=\"6.25\" height=\"6.25\" opacity=\"0.0\" fill=\"currentColor\" stroke-width=\"0.1\"/>\n",
       "<rect x=\"243.75\" y=\"-181.25\" width=\"6.25\" height=\"6.25\" opacity=\"0.0020120724346076456\" fill=\"currentColor\" stroke-width=\"0.1\"/>\n",
       "<rect x=\"0.0\" y=\"-187.5\" width=\"6.25\" height=\"6.25\" opacity=\"0.0\" fill=\"currentColor\" stroke-width=\"0.1\"/>\n",
       "<rect x=\"6.250000000000005\" y=\"-187.5\" width=\"6.25\" height=\"6.25\" opacity=\"0.0\" fill=\"currentColor\" stroke-width=\"0.1\"/>\n",
       "<rect x=\"12.50000000000001\" y=\"-187.5\" width=\"6.25\" height=\"6.25\" opacity=\"0.0\" fill=\"currentColor\" stroke-width=\"0.1\"/>\n",
       "<rect x=\"18.74999999999999\" y=\"-187.5\" width=\"6.25\" height=\"6.25\" opacity=\"0.0\" fill=\"currentColor\" stroke-width=\"0.1\"/>\n",
       "<rect x=\"24.999999999999993\" y=\"-187.5\" width=\"6.25\" height=\"6.25\" opacity=\"0.0020120724346076456\" fill=\"currentColor\" stroke-width=\"0.1\"/>\n",
       "<rect x=\"31.25\" y=\"-187.5\" width=\"6.25\" height=\"6.25\" opacity=\"0.0020120724346076456\" fill=\"currentColor\" stroke-width=\"0.1\"/>\n",
       "<rect x=\"37.50000000000001\" y=\"-187.5\" width=\"6.25\" height=\"6.25\" opacity=\"0.0020120724346076456\" fill=\"currentColor\" stroke-width=\"0.1\"/>\n",
       "<rect x=\"43.750000000000014\" y=\"-187.5\" width=\"6.25\" height=\"6.25\" opacity=\"0.008048289738430617\" fill=\"currentColor\" stroke-width=\"0.1\"/>\n",
       "<rect x=\"49.999999999999986\" y=\"-187.5\" width=\"6.25\" height=\"6.25\" opacity=\"0.008048289738430582\" fill=\"currentColor\" stroke-width=\"0.1\"/>\n",
       "<rect x=\"56.24999999999999\" y=\"-187.5\" width=\"6.25\" height=\"6.25\" opacity=\"0.02414486921529175\" fill=\"currentColor\" stroke-width=\"0.1\"/>\n",
       "<rect x=\"62.5\" y=\"-187.5\" width=\"6.25\" height=\"6.25\" opacity=\"0.03219315895372233\" fill=\"currentColor\" stroke-width=\"0.1\"/>\n",
       "<rect x=\"68.75\" y=\"-187.5\" width=\"6.25\" height=\"6.25\" opacity=\"0.06237424547283707\" fill=\"currentColor\" stroke-width=\"0.1\"/>\n",
       "<rect x=\"75.00000000000001\" y=\"-187.5\" width=\"6.25\" height=\"6.25\" opacity=\"0.0603621730382295\" fill=\"currentColor\" stroke-width=\"0.1\"/>\n",
       "<rect x=\"81.24999999999999\" y=\"-187.5\" width=\"6.25\" height=\"6.25\" opacity=\"0.056338028169014134\" fill=\"currentColor\" stroke-width=\"0.1\"/>\n",
       "<rect x=\"87.5\" y=\"-187.5\" width=\"6.25\" height=\"6.25\" opacity=\"0.1187122736418511\" fill=\"currentColor\" stroke-width=\"0.1\"/>\n",
       "<rect x=\"93.75\" y=\"-187.5\" width=\"6.25\" height=\"6.25\" opacity=\"0.10060362173038229\" fill=\"currentColor\" stroke-width=\"0.1\"/>\n",
       "<rect x=\"100.0\" y=\"-187.5\" width=\"6.25\" height=\"6.25\" opacity=\"0.10261569416499003\" fill=\"currentColor\" stroke-width=\"0.1\"/>\n",
       "<rect x=\"106.25000000000001\" y=\"-187.5\" width=\"6.25\" height=\"6.25\" opacity=\"0.1247484909456743\" fill=\"currentColor\" stroke-width=\"0.1\"/>\n",
       "<rect x=\"112.49999999999999\" y=\"-187.5\" width=\"6.25\" height=\"6.25\" opacity=\"0.15492957746478886\" fill=\"currentColor\" stroke-width=\"0.1\"/>\n",
       "<rect x=\"118.75\" y=\"-187.5\" width=\"6.25\" height=\"6.25\" opacity=\"0.1327967806841046\" fill=\"currentColor\" stroke-width=\"0.1\"/>\n",
       "<rect x=\"125.0\" y=\"-187.5\" width=\"6.25\" height=\"6.25\" opacity=\"0.15492957746478872\" fill=\"currentColor\" stroke-width=\"0.1\"/>\n",
       "<rect x=\"131.25\" y=\"-187.5\" width=\"6.25\" height=\"6.25\" opacity=\"0.12273641851106638\" fill=\"currentColor\" stroke-width=\"0.1\"/>\n",
       "<rect x=\"137.5\" y=\"-187.5\" width=\"6.25\" height=\"6.25\" opacity=\"0.15090543259557407\" fill=\"currentColor\" stroke-width=\"0.1\"/>\n",
       "<rect x=\"143.75\" y=\"-187.5\" width=\"6.25\" height=\"6.25\" opacity=\"0.09859154929577464\" fill=\"currentColor\" stroke-width=\"0.1\"/>\n",
       "<rect x=\"150.0\" y=\"-187.5\" width=\"6.25\" height=\"6.25\" opacity=\"0.1267605633802817\" fill=\"currentColor\" stroke-width=\"0.1\"/>\n",
       "<rect x=\"156.25\" y=\"-187.5\" width=\"6.25\" height=\"6.25\" opacity=\"0.08249496981891348\" fill=\"currentColor\" stroke-width=\"0.1\"/>\n",
       "<rect x=\"162.5\" y=\"-187.5\" width=\"6.25\" height=\"6.25\" opacity=\"0.06841046277665995\" fill=\"currentColor\" stroke-width=\"0.1\"/>\n",
       "<rect x=\"168.75\" y=\"-187.5\" width=\"6.25\" height=\"6.25\" opacity=\"0.04627766599597605\" fill=\"currentColor\" stroke-width=\"0.1\"/>\n",
       "<rect x=\"175.0\" y=\"-187.5\" width=\"6.25\" height=\"6.25\" opacity=\"0.034205231388329975\" fill=\"currentColor\" stroke-width=\"0.1\"/>\n",
       "<rect x=\"181.25\" y=\"-187.5\" width=\"6.25\" height=\"6.25\" opacity=\"0.04225352112676056\" fill=\"currentColor\" stroke-width=\"0.1\"/>\n",
       "<rect x=\"187.5\" y=\"-187.5\" width=\"6.25\" height=\"6.25\" opacity=\"0.016096579476861165\" fill=\"currentColor\" stroke-width=\"0.1\"/>\n",
       "<rect x=\"193.75\" y=\"-187.5\" width=\"6.25\" height=\"6.25\" opacity=\"0.018108651911468814\" fill=\"currentColor\" stroke-width=\"0.1\"/>\n",
       "<rect x=\"200.0\" y=\"-187.5\" width=\"6.25\" height=\"6.25\" opacity=\"0.008048289738430617\" fill=\"currentColor\" stroke-width=\"0.1\"/>\n",
       "<rect x=\"206.25\" y=\"-187.5\" width=\"6.25\" height=\"6.25\" opacity=\"0.0\" fill=\"currentColor\" stroke-width=\"0.1\"/>\n",
       "<rect x=\"212.5\" y=\"-187.5\" width=\"6.25\" height=\"6.25\" opacity=\"0.0\" fill=\"currentColor\" stroke-width=\"0.1\"/>\n",
       "<rect x=\"218.75\" y=\"-187.5\" width=\"6.25\" height=\"6.25\" opacity=\"0.0\" fill=\"currentColor\" stroke-width=\"0.1\"/>\n",
       "<rect x=\"225.0\" y=\"-187.5\" width=\"6.25\" height=\"6.25\" opacity=\"0.0\" fill=\"currentColor\" stroke-width=\"0.1\"/>\n",
       "<rect x=\"231.25\" y=\"-187.5\" width=\"6.25\" height=\"6.25\" opacity=\"0.0\" fill=\"currentColor\" stroke-width=\"0.1\"/>\n",
       "<rect x=\"237.5\" y=\"-187.5\" width=\"6.25\" height=\"6.25\" opacity=\"0.0\" fill=\"currentColor\" stroke-width=\"0.1\"/>\n",
       "<rect x=\"243.75\" y=\"-187.5\" width=\"6.25\" height=\"6.25\" opacity=\"0.0\" fill=\"currentColor\" stroke-width=\"0.1\"/>\n",
       "<rect x=\"0.0\" y=\"-193.75\" width=\"6.25\" height=\"6.25\" opacity=\"0.0\" fill=\"currentColor\" stroke-width=\"0.1\"/>\n",
       "<rect x=\"6.250000000000005\" y=\"-193.75\" width=\"6.25\" height=\"6.25\" opacity=\"0.0\" fill=\"currentColor\" stroke-width=\"0.1\"/>\n",
       "<rect x=\"12.50000000000001\" y=\"-193.75\" width=\"6.25\" height=\"6.25\" opacity=\"0.0\" fill=\"currentColor\" stroke-width=\"0.1\"/>\n",
       "<rect x=\"18.74999999999999\" y=\"-193.75\" width=\"6.25\" height=\"6.25\" opacity=\"0.0\" fill=\"currentColor\" stroke-width=\"0.1\"/>\n",
       "<rect x=\"24.999999999999993\" y=\"-193.75\" width=\"6.25\" height=\"6.25\" opacity=\"0.0\" fill=\"currentColor\" stroke-width=\"0.1\"/>\n",
       "<rect x=\"31.25\" y=\"-193.75\" width=\"6.25\" height=\"6.25\" opacity=\"0.0\" fill=\"currentColor\" stroke-width=\"0.1\"/>\n",
       "<rect x=\"37.50000000000001\" y=\"-193.75\" width=\"6.25\" height=\"6.25\" opacity=\"0.0020120724346076456\" fill=\"currentColor\" stroke-width=\"0.1\"/>\n",
       "<rect x=\"43.750000000000014\" y=\"-193.75\" width=\"6.25\" height=\"6.25\" opacity=\"0.012072434607645927\" fill=\"currentColor\" stroke-width=\"0.1\"/>\n",
       "<rect x=\"49.999999999999986\" y=\"-193.75\" width=\"6.25\" height=\"6.25\" opacity=\"0.008048289738430582\" fill=\"currentColor\" stroke-width=\"0.1\"/>\n",
       "<rect x=\"56.24999999999999\" y=\"-193.75\" width=\"6.25\" height=\"6.25\" opacity=\"0.016096579476861165\" fill=\"currentColor\" stroke-width=\"0.1\"/>\n",
       "<rect x=\"62.5\" y=\"-193.75\" width=\"6.25\" height=\"6.25\" opacity=\"0.01408450704225352\" fill=\"currentColor\" stroke-width=\"0.1\"/>\n",
       "<rect x=\"68.75\" y=\"-193.75\" width=\"6.25\" height=\"6.25\" opacity=\"0.02414486921529177\" fill=\"currentColor\" stroke-width=\"0.1\"/>\n",
       "<rect x=\"75.00000000000001\" y=\"-193.75\" width=\"6.25\" height=\"6.25\" opacity=\"0.0321931589537224\" fill=\"currentColor\" stroke-width=\"0.1\"/>\n",
       "<rect x=\"81.24999999999999\" y=\"-193.75\" width=\"6.25\" height=\"6.25\" opacity=\"0.0422535211267606\" fill=\"currentColor\" stroke-width=\"0.1\"/>\n",
       "<rect x=\"87.5\" y=\"-193.75\" width=\"6.25\" height=\"6.25\" opacity=\"0.054325955734406434\" fill=\"currentColor\" stroke-width=\"0.1\"/>\n",
       "<rect x=\"93.75\" y=\"-193.75\" width=\"6.25\" height=\"6.25\" opacity=\"0.06237424547283702\" fill=\"currentColor\" stroke-width=\"0.1\"/>\n",
       "<rect x=\"100.0\" y=\"-193.75\" width=\"6.25\" height=\"6.25\" opacity=\"0.08651911468812884\" fill=\"currentColor\" stroke-width=\"0.1\"/>\n",
       "<rect x=\"106.25000000000001\" y=\"-193.75\" width=\"6.25\" height=\"6.25\" opacity=\"0.1126760563380284\" fill=\"currentColor\" stroke-width=\"0.1\"/>\n",
       "<rect x=\"112.49999999999999\" y=\"-193.75\" width=\"6.25\" height=\"6.25\" opacity=\"0.13682092555332004\" fill=\"currentColor\" stroke-width=\"0.1\"/>\n",
       "<rect x=\"118.75\" y=\"-193.75\" width=\"6.25\" height=\"6.25\" opacity=\"0.0885311871227364\" fill=\"currentColor\" stroke-width=\"0.1\"/>\n",
       "<rect x=\"125.0\" y=\"-193.75\" width=\"6.25\" height=\"6.25\" opacity=\"0.10060362173038229\" fill=\"currentColor\" stroke-width=\"0.1\"/>\n",
       "<rect x=\"131.25\" y=\"-193.75\" width=\"6.25\" height=\"6.25\" opacity=\"0.13078470824949698\" fill=\"currentColor\" stroke-width=\"0.1\"/>\n",
       "<rect x=\"137.5\" y=\"-193.75\" width=\"6.25\" height=\"6.25\" opacity=\"0.07645875251509086\" fill=\"currentColor\" stroke-width=\"0.1\"/>\n",
       "<rect x=\"143.75\" y=\"-193.75\" width=\"6.25\" height=\"6.25\" opacity=\"0.08651911468812876\" fill=\"currentColor\" stroke-width=\"0.1\"/>\n",
       "<rect x=\"150.0\" y=\"-193.75\" width=\"6.25\" height=\"6.25\" opacity=\"0.06438631790744466\" fill=\"currentColor\" stroke-width=\"0.1\"/>\n",
       "<rect x=\"156.25\" y=\"-193.75\" width=\"6.25\" height=\"6.25\" opacity=\"0.06438631790744466\" fill=\"currentColor\" stroke-width=\"0.1\"/>\n",
       "<rect x=\"162.5\" y=\"-193.75\" width=\"6.25\" height=\"6.25\" opacity=\"0.04024144869215292\" fill=\"currentColor\" stroke-width=\"0.1\"/>\n",
       "<rect x=\"168.75\" y=\"-193.75\" width=\"6.25\" height=\"6.25\" opacity=\"0.044265593561368395\" fill=\"currentColor\" stroke-width=\"0.1\"/>\n",
       "<rect x=\"175.0\" y=\"-193.75\" width=\"6.25\" height=\"6.25\" opacity=\"0.0221327967806841\" fill=\"currentColor\" stroke-width=\"0.1\"/>\n",
       "<rect x=\"181.25\" y=\"-193.75\" width=\"6.25\" height=\"6.25\" opacity=\"0.018108651911468814\" fill=\"currentColor\" stroke-width=\"0.1\"/>\n",
       "<rect x=\"187.5\" y=\"-193.75\" width=\"6.25\" height=\"6.25\" opacity=\"0.0221327967806841\" fill=\"currentColor\" stroke-width=\"0.1\"/>\n",
       "<rect x=\"193.75\" y=\"-193.75\" width=\"6.25\" height=\"6.25\" opacity=\"0.0020120724346076456\" fill=\"currentColor\" stroke-width=\"0.1\"/>\n",
       "<rect x=\"200.0\" y=\"-193.75\" width=\"6.25\" height=\"6.25\" opacity=\"0.0\" fill=\"currentColor\" stroke-width=\"0.1\"/>\n",
       "<rect x=\"206.25\" y=\"-193.75\" width=\"6.25\" height=\"6.25\" opacity=\"0.004024144869215291\" fill=\"currentColor\" stroke-width=\"0.1\"/>\n",
       "<rect x=\"212.5\" y=\"-193.75\" width=\"6.25\" height=\"6.25\" opacity=\"0.0\" fill=\"currentColor\" stroke-width=\"0.1\"/>\n",
       "<rect x=\"218.75\" y=\"-193.75\" width=\"6.25\" height=\"6.25\" opacity=\"0.0\" fill=\"currentColor\" stroke-width=\"0.1\"/>\n",
       "<rect x=\"225.0\" y=\"-193.75\" width=\"6.25\" height=\"6.25\" opacity=\"0.0\" fill=\"currentColor\" stroke-width=\"0.1\"/>\n",
       "<rect x=\"231.25\" y=\"-193.75\" width=\"6.25\" height=\"6.25\" opacity=\"0.0\" fill=\"currentColor\" stroke-width=\"0.1\"/>\n",
       "<rect x=\"237.5\" y=\"-193.75\" width=\"6.25\" height=\"6.25\" opacity=\"0.0\" fill=\"currentColor\" stroke-width=\"0.1\"/>\n",
       "<rect x=\"243.75\" y=\"-193.75\" width=\"6.25\" height=\"6.25\" opacity=\"0.0\" fill=\"currentColor\" stroke-width=\"0.1\"/>\n",
       "<rect x=\"0.0\" y=\"-200.0\" width=\"6.25\" height=\"6.25\" opacity=\"0.0\" fill=\"currentColor\" stroke-width=\"0.1\"/>\n",
       "<rect x=\"6.250000000000005\" y=\"-200.0\" width=\"6.25\" height=\"6.25\" opacity=\"0.0\" fill=\"currentColor\" stroke-width=\"0.1\"/>\n",
       "<rect x=\"12.50000000000001\" y=\"-200.0\" width=\"6.25\" height=\"6.25\" opacity=\"0.0\" fill=\"currentColor\" stroke-width=\"0.1\"/>\n",
       "<rect x=\"18.74999999999999\" y=\"-200.0\" width=\"6.25\" height=\"6.25\" opacity=\"0.0\" fill=\"currentColor\" stroke-width=\"0.1\"/>\n",
       "<rect x=\"24.999999999999993\" y=\"-200.0\" width=\"6.25\" height=\"6.25\" opacity=\"0.0\" fill=\"currentColor\" stroke-width=\"0.1\"/>\n",
       "<rect x=\"31.25\" y=\"-200.0\" width=\"6.25\" height=\"6.25\" opacity=\"0.006036217303822937\" fill=\"currentColor\" stroke-width=\"0.1\"/>\n",
       "<rect x=\"37.50000000000001\" y=\"-200.0\" width=\"6.25\" height=\"6.25\" opacity=\"0.004024144869215291\" fill=\"currentColor\" stroke-width=\"0.1\"/>\n",
       "<rect x=\"43.750000000000014\" y=\"-200.0\" width=\"6.25\" height=\"6.25\" opacity=\"0.004024144869215309\" fill=\"currentColor\" stroke-width=\"0.1\"/>\n",
       "<rect x=\"49.999999999999986\" y=\"-200.0\" width=\"6.25\" height=\"6.25\" opacity=\"0.004024144869215291\" fill=\"currentColor\" stroke-width=\"0.1\"/>\n",
       "<rect x=\"56.24999999999999\" y=\"-200.0\" width=\"6.25\" height=\"6.25\" opacity=\"0.0020120724346076456\" fill=\"currentColor\" stroke-width=\"0.1\"/>\n",
       "<rect x=\"62.5\" y=\"-200.0\" width=\"6.25\" height=\"6.25\" opacity=\"0.01408450704225352\" fill=\"currentColor\" stroke-width=\"0.1\"/>\n",
       "<rect x=\"68.75\" y=\"-200.0\" width=\"6.25\" height=\"6.25\" opacity=\"0.018108651911468827\" fill=\"currentColor\" stroke-width=\"0.1\"/>\n",
       "<rect x=\"75.00000000000001\" y=\"-200.0\" width=\"6.25\" height=\"6.25\" opacity=\"0.018108651911468848\" fill=\"currentColor\" stroke-width=\"0.1\"/>\n",
       "<rect x=\"81.24999999999999\" y=\"-200.0\" width=\"6.25\" height=\"6.25\" opacity=\"0.01609657947686118\" fill=\"currentColor\" stroke-width=\"0.1\"/>\n",
       "<rect x=\"87.5\" y=\"-200.0\" width=\"6.25\" height=\"6.25\" opacity=\"0.0442655935613682\" fill=\"currentColor\" stroke-width=\"0.1\"/>\n",
       "<rect x=\"93.75\" y=\"-200.0\" width=\"6.25\" height=\"6.25\" opacity=\"0.058350100603621724\" fill=\"currentColor\" stroke-width=\"0.1\"/>\n",
       "<rect x=\"100.0\" y=\"-200.0\" width=\"6.25\" height=\"6.25\" opacity=\"0.05231388329979884\" fill=\"currentColor\" stroke-width=\"0.1\"/>\n",
       "<rect x=\"106.25000000000001\" y=\"-200.0\" width=\"6.25\" height=\"6.25\" opacity=\"0.0523138832997989\" fill=\"currentColor\" stroke-width=\"0.1\"/>\n",
       "<rect x=\"112.49999999999999\" y=\"-200.0\" width=\"6.25\" height=\"6.25\" opacity=\"0.05432595573440649\" fill=\"currentColor\" stroke-width=\"0.1\"/>\n",
       "<rect x=\"118.75\" y=\"-200.0\" width=\"6.25\" height=\"6.25\" opacity=\"0.058350100603621724\" fill=\"currentColor\" stroke-width=\"0.1\"/>\n",
       "<rect x=\"125.0\" y=\"-200.0\" width=\"6.25\" height=\"6.25\" opacity=\"0.06438631790744466\" fill=\"currentColor\" stroke-width=\"0.1\"/>\n",
       "<rect x=\"131.25\" y=\"-200.0\" width=\"6.25\" height=\"6.25\" opacity=\"0.04627766599597585\" fill=\"currentColor\" stroke-width=\"0.1\"/>\n",
       "<rect x=\"137.5\" y=\"-200.0\" width=\"6.25\" height=\"6.25\" opacity=\"0.05633802816901432\" fill=\"currentColor\" stroke-width=\"0.1\"/>\n",
       "<rect x=\"143.75\" y=\"-200.0\" width=\"6.25\" height=\"6.25\" opacity=\"0.05633802816901408\" fill=\"currentColor\" stroke-width=\"0.1\"/>\n",
       "<rect x=\"150.0\" y=\"-200.0\" width=\"6.25\" height=\"6.25\" opacity=\"0.05030181086519114\" fill=\"currentColor\" stroke-width=\"0.1\"/>\n",
       "<rect x=\"156.25\" y=\"-200.0\" width=\"6.25\" height=\"6.25\" opacity=\"0.03219315895372233\" fill=\"currentColor\" stroke-width=\"0.1\"/>\n",
       "<rect x=\"162.5\" y=\"-200.0\" width=\"6.25\" height=\"6.25\" opacity=\"0.030181086519114685\" fill=\"currentColor\" stroke-width=\"0.1\"/>\n",
       "<rect x=\"168.75\" y=\"-200.0\" width=\"6.25\" height=\"6.25\" opacity=\"0.020120724346076542\" fill=\"currentColor\" stroke-width=\"0.1\"/>\n",
       "<rect x=\"175.0\" y=\"-200.0\" width=\"6.25\" height=\"6.25\" opacity=\"0.016096579476861165\" fill=\"currentColor\" stroke-width=\"0.1\"/>\n",
       "<rect x=\"181.25\" y=\"-200.0\" width=\"6.25\" height=\"6.25\" opacity=\"0.01006036217303823\" fill=\"currentColor\" stroke-width=\"0.1\"/>\n",
       "<rect x=\"187.5\" y=\"-200.0\" width=\"6.25\" height=\"6.25\" opacity=\"0.008048289738430582\" fill=\"currentColor\" stroke-width=\"0.1\"/>\n",
       "<rect x=\"193.75\" y=\"-200.0\" width=\"6.25\" height=\"6.25\" opacity=\"0.004024144869215291\" fill=\"currentColor\" stroke-width=\"0.1\"/>\n",
       "<rect x=\"200.0\" y=\"-200.0\" width=\"6.25\" height=\"6.25\" opacity=\"0.004024144869215309\" fill=\"currentColor\" stroke-width=\"0.1\"/>\n",
       "<rect x=\"206.25\" y=\"-200.0\" width=\"6.25\" height=\"6.25\" opacity=\"0.0020120724346076456\" fill=\"currentColor\" stroke-width=\"0.1\"/>\n",
       "<rect x=\"212.5\" y=\"-200.0\" width=\"6.25\" height=\"6.25\" opacity=\"0.0\" fill=\"currentColor\" stroke-width=\"0.1\"/>\n",
       "<rect x=\"218.75\" y=\"-200.0\" width=\"6.25\" height=\"6.25\" opacity=\"0.0020120724346076456\" fill=\"currentColor\" stroke-width=\"0.1\"/>\n",
       "<rect x=\"225.0\" y=\"-200.0\" width=\"6.25\" height=\"6.25\" opacity=\"0.0020120724346076456\" fill=\"currentColor\" stroke-width=\"0.1\"/>\n",
       "<rect x=\"231.25\" y=\"-200.0\" width=\"6.25\" height=\"6.25\" opacity=\"0.0\" fill=\"currentColor\" stroke-width=\"0.1\"/>\n",
       "<rect x=\"237.5\" y=\"-200.0\" width=\"6.25\" height=\"6.25\" opacity=\"0.0\" fill=\"currentColor\" stroke-width=\"0.1\"/>\n",
       "<rect x=\"243.75\" y=\"-200.0\" width=\"6.25\" height=\"6.25\" opacity=\"0.0\" fill=\"currentColor\" stroke-width=\"0.1\"/>\n",
       "<rect x=\"0.0\" y=\"-206.25\" width=\"6.25\" height=\"6.25\" opacity=\"0.0\" fill=\"currentColor\" stroke-width=\"0.1\"/>\n",
       "<rect x=\"6.250000000000005\" y=\"-206.25\" width=\"6.25\" height=\"6.25\" opacity=\"0.0\" fill=\"currentColor\" stroke-width=\"0.1\"/>\n",
       "<rect x=\"12.50000000000001\" y=\"-206.25\" width=\"6.25\" height=\"6.25\" opacity=\"0.0\" fill=\"currentColor\" stroke-width=\"0.1\"/>\n",
       "<rect x=\"18.74999999999999\" y=\"-206.25\" width=\"6.25\" height=\"6.25\" opacity=\"0.0\" fill=\"currentColor\" stroke-width=\"0.1\"/>\n",
       "<rect x=\"24.999999999999993\" y=\"-206.25\" width=\"6.25\" height=\"6.25\" opacity=\"0.0020120724346076543\" fill=\"currentColor\" stroke-width=\"0.1\"/>\n",
       "<rect x=\"31.25\" y=\"-206.25\" width=\"6.25\" height=\"6.25\" opacity=\"0.0\" fill=\"currentColor\" stroke-width=\"0.1\"/>\n",
       "<rect x=\"37.50000000000001\" y=\"-206.25\" width=\"6.25\" height=\"6.25\" opacity=\"0.0\" fill=\"currentColor\" stroke-width=\"0.1\"/>\n",
       "<rect x=\"43.750000000000014\" y=\"-206.25\" width=\"6.25\" height=\"6.25\" opacity=\"0.0\" fill=\"currentColor\" stroke-width=\"0.1\"/>\n",
       "<rect x=\"49.999999999999986\" y=\"-206.25\" width=\"6.25\" height=\"6.25\" opacity=\"0.0020120724346076543\" fill=\"currentColor\" stroke-width=\"0.1\"/>\n",
       "<rect x=\"56.24999999999999\" y=\"-206.25\" width=\"6.25\" height=\"6.25\" opacity=\"0.004024144869215309\" fill=\"currentColor\" stroke-width=\"0.1\"/>\n",
       "<rect x=\"62.5\" y=\"-206.25\" width=\"6.25\" height=\"6.25\" opacity=\"0.004024144869215309\" fill=\"currentColor\" stroke-width=\"0.1\"/>\n",
       "<rect x=\"68.75\" y=\"-206.25\" width=\"6.25\" height=\"6.25\" opacity=\"0.008048289738430626\" fill=\"currentColor\" stroke-width=\"0.1\"/>\n",
       "<rect x=\"75.00000000000001\" y=\"-206.25\" width=\"6.25\" height=\"6.25\" opacity=\"0.012072434607645953\" fill=\"currentColor\" stroke-width=\"0.1\"/>\n",
       "<rect x=\"81.24999999999999\" y=\"-206.25\" width=\"6.25\" height=\"6.25\" opacity=\"0.022132796780684225\" fill=\"currentColor\" stroke-width=\"0.1\"/>\n",
       "<rect x=\"87.5\" y=\"-206.25\" width=\"6.25\" height=\"6.25\" opacity=\"0.026156941649899505\" fill=\"currentColor\" stroke-width=\"0.1\"/>\n",
       "<rect x=\"93.75\" y=\"-206.25\" width=\"6.25\" height=\"6.25\" opacity=\"0.018108651911468886\" fill=\"currentColor\" stroke-width=\"0.1\"/>\n",
       "<rect x=\"100.0\" y=\"-206.25\" width=\"6.25\" height=\"6.25\" opacity=\"0.03420523138833016\" fill=\"currentColor\" stroke-width=\"0.1\"/>\n",
       "<rect x=\"106.25000000000001\" y=\"-206.25\" width=\"6.25\" height=\"6.25\" opacity=\"0.02213279678068425\" fill=\"currentColor\" stroke-width=\"0.1\"/>\n",
       "<rect x=\"112.49999999999999\" y=\"-206.25\" width=\"6.25\" height=\"6.25\" opacity=\"0.054325955734406725\" fill=\"currentColor\" stroke-width=\"0.1\"/>\n",
       "<rect x=\"118.75\" y=\"-206.25\" width=\"6.25\" height=\"6.25\" opacity=\"0.04627766599597605\" fill=\"currentColor\" stroke-width=\"0.1\"/>\n",
       "<rect x=\"125.0\" y=\"-206.25\" width=\"6.25\" height=\"6.25\" opacity=\"0.05030181086519136\" fill=\"currentColor\" stroke-width=\"0.1\"/>\n",
       "<rect x=\"131.25\" y=\"-206.25\" width=\"6.25\" height=\"6.25\" opacity=\"0.03822937625754543\" fill=\"currentColor\" stroke-width=\"0.1\"/>\n",
       "<rect x=\"137.5\" y=\"-206.25\" width=\"6.25\" height=\"6.25\" opacity=\"0.04828973843058392\" fill=\"currentColor\" stroke-width=\"0.1\"/>\n",
       "<rect x=\"143.75\" y=\"-206.25\" width=\"6.25\" height=\"6.25\" opacity=\"0.04225352112676074\" fill=\"currentColor\" stroke-width=\"0.1\"/>\n",
       "<rect x=\"150.0\" y=\"-206.25\" width=\"6.25\" height=\"6.25\" opacity=\"0.030181086519114813\" fill=\"currentColor\" stroke-width=\"0.1\"/>\n",
       "<rect x=\"156.25\" y=\"-206.25\" width=\"6.25\" height=\"6.25\" opacity=\"0.044265593561368395\" fill=\"currentColor\" stroke-width=\"0.1\"/>\n",
       "<rect x=\"162.5\" y=\"-206.25\" width=\"6.25\" height=\"6.25\" opacity=\"0.024144869215291853\" fill=\"currentColor\" stroke-width=\"0.1\"/>\n",
       "<rect x=\"168.75\" y=\"-206.25\" width=\"6.25\" height=\"6.25\" opacity=\"0.014084507042253643\" fill=\"currentColor\" stroke-width=\"0.1\"/>\n",
       "<rect x=\"175.0\" y=\"-206.25\" width=\"6.25\" height=\"6.25\" opacity=\"0.0020120724346076543\" fill=\"currentColor\" stroke-width=\"0.1\"/>\n",
       "<rect x=\"181.25\" y=\"-206.25\" width=\"6.25\" height=\"6.25\" opacity=\"0.008048289738430617\" fill=\"currentColor\" stroke-width=\"0.1\"/>\n",
       "<rect x=\"187.5\" y=\"-206.25\" width=\"6.25\" height=\"6.25\" opacity=\"0.004024144869215309\" fill=\"currentColor\" stroke-width=\"0.1\"/>\n",
       "<rect x=\"193.75\" y=\"-206.25\" width=\"6.25\" height=\"6.25\" opacity=\"0.004024144869215309\" fill=\"currentColor\" stroke-width=\"0.1\"/>\n",
       "<rect x=\"200.0\" y=\"-206.25\" width=\"6.25\" height=\"6.25\" opacity=\"0.004024144869215327\" fill=\"currentColor\" stroke-width=\"0.1\"/>\n",
       "<rect x=\"206.25\" y=\"-206.25\" width=\"6.25\" height=\"6.25\" opacity=\"0.0020120724346076543\" fill=\"currentColor\" stroke-width=\"0.1\"/>\n",
       "<rect x=\"212.5\" y=\"-206.25\" width=\"6.25\" height=\"6.25\" opacity=\"0.0\" fill=\"currentColor\" stroke-width=\"0.1\"/>\n",
       "<rect x=\"218.75\" y=\"-206.25\" width=\"6.25\" height=\"6.25\" opacity=\"0.0\" fill=\"currentColor\" stroke-width=\"0.1\"/>\n",
       "<rect x=\"225.0\" y=\"-206.25\" width=\"6.25\" height=\"6.25\" opacity=\"0.0\" fill=\"currentColor\" stroke-width=\"0.1\"/>\n",
       "<rect x=\"231.25\" y=\"-206.25\" width=\"6.25\" height=\"6.25\" opacity=\"0.0020120724346076634\" fill=\"currentColor\" stroke-width=\"0.1\"/>\n",
       "<rect x=\"237.5\" y=\"-206.25\" width=\"6.25\" height=\"6.25\" opacity=\"0.0\" fill=\"currentColor\" stroke-width=\"0.1\"/>\n",
       "<rect x=\"243.75\" y=\"-206.25\" width=\"6.25\" height=\"6.25\" opacity=\"0.0\" fill=\"currentColor\" stroke-width=\"0.1\"/>\n",
       "<rect x=\"0.0\" y=\"-212.5\" width=\"6.25\" height=\"6.25\" opacity=\"0.0\" fill=\"currentColor\" stroke-width=\"0.1\"/>\n",
       "<rect x=\"6.250000000000005\" y=\"-212.5\" width=\"6.25\" height=\"6.25\" opacity=\"0.0\" fill=\"currentColor\" stroke-width=\"0.1\"/>\n",
       "<rect x=\"12.50000000000001\" y=\"-212.5\" width=\"6.25\" height=\"6.25\" opacity=\"0.0\" fill=\"currentColor\" stroke-width=\"0.1\"/>\n",
       "<rect x=\"18.74999999999999\" y=\"-212.5\" width=\"6.25\" height=\"6.25\" opacity=\"0.0\" fill=\"currentColor\" stroke-width=\"0.1\"/>\n",
       "<rect x=\"24.999999999999993\" y=\"-212.5\" width=\"6.25\" height=\"6.25\" opacity=\"0.0\" fill=\"currentColor\" stroke-width=\"0.1\"/>\n",
       "<rect x=\"31.25\" y=\"-212.5\" width=\"6.25\" height=\"6.25\" opacity=\"0.0\" fill=\"currentColor\" stroke-width=\"0.1\"/>\n",
       "<rect x=\"37.50000000000001\" y=\"-212.5\" width=\"6.25\" height=\"6.25\" opacity=\"0.0\" fill=\"currentColor\" stroke-width=\"0.1\"/>\n",
       "<rect x=\"43.750000000000014\" y=\"-212.5\" width=\"6.25\" height=\"6.25\" opacity=\"0.0020120724346076543\" fill=\"currentColor\" stroke-width=\"0.1\"/>\n",
       "<rect x=\"49.999999999999986\" y=\"-212.5\" width=\"6.25\" height=\"6.25\" opacity=\"0.0\" fill=\"currentColor\" stroke-width=\"0.1\"/>\n",
       "<rect x=\"56.24999999999999\" y=\"-212.5\" width=\"6.25\" height=\"6.25\" opacity=\"0.006036217303822937\" fill=\"currentColor\" stroke-width=\"0.1\"/>\n",
       "<rect x=\"62.5\" y=\"-212.5\" width=\"6.25\" height=\"6.25\" opacity=\"0.0\" fill=\"currentColor\" stroke-width=\"0.1\"/>\n",
       "<rect x=\"68.75\" y=\"-212.5\" width=\"6.25\" height=\"6.25\" opacity=\"0.00804828973843059\" fill=\"currentColor\" stroke-width=\"0.1\"/>\n",
       "<rect x=\"75.00000000000001\" y=\"-212.5\" width=\"6.25\" height=\"6.25\" opacity=\"0.00603621730382295\" fill=\"currentColor\" stroke-width=\"0.1\"/>\n",
       "<rect x=\"81.24999999999999\" y=\"-212.5\" width=\"6.25\" height=\"6.25\" opacity=\"0.00804828973843059\" fill=\"currentColor\" stroke-width=\"0.1\"/>\n",
       "<rect x=\"87.5\" y=\"-212.5\" width=\"6.25\" height=\"6.25\" opacity=\"0.01408450704225352\" fill=\"currentColor\" stroke-width=\"0.1\"/>\n",
       "<rect x=\"93.75\" y=\"-212.5\" width=\"6.25\" height=\"6.25\" opacity=\"0.0221327967806841\" fill=\"currentColor\" stroke-width=\"0.1\"/>\n",
       "<rect x=\"100.0\" y=\"-212.5\" width=\"6.25\" height=\"6.25\" opacity=\"0.014084507042253534\" fill=\"currentColor\" stroke-width=\"0.1\"/>\n",
       "<rect x=\"106.25000000000001\" y=\"-212.5\" width=\"6.25\" height=\"6.25\" opacity=\"0.02213279678068415\" fill=\"currentColor\" stroke-width=\"0.1\"/>\n",
       "<rect x=\"112.49999999999999\" y=\"-212.5\" width=\"6.25\" height=\"6.25\" opacity=\"0.02414486921529177\" fill=\"currentColor\" stroke-width=\"0.1\"/>\n",
       "<rect x=\"118.75\" y=\"-212.5\" width=\"6.25\" height=\"6.25\" opacity=\"0.02816901408450704\" fill=\"currentColor\" stroke-width=\"0.1\"/>\n",
       "<rect x=\"125.0\" y=\"-212.5\" width=\"6.25\" height=\"6.25\" opacity=\"0.030181086519114685\" fill=\"currentColor\" stroke-width=\"0.1\"/>\n",
       "<rect x=\"131.25\" y=\"-212.5\" width=\"6.25\" height=\"6.25\" opacity=\"0.0221327967806841\" fill=\"currentColor\" stroke-width=\"0.1\"/>\n",
       "<rect x=\"137.5\" y=\"-212.5\" width=\"6.25\" height=\"6.25\" opacity=\"0.020120724346076542\" fill=\"currentColor\" stroke-width=\"0.1\"/>\n",
       "<rect x=\"143.75\" y=\"-212.5\" width=\"6.25\" height=\"6.25\" opacity=\"0.016096579476861165\" fill=\"currentColor\" stroke-width=\"0.1\"/>\n",
       "<rect x=\"150.0\" y=\"-212.5\" width=\"6.25\" height=\"6.25\" opacity=\"0.02012072434607646\" fill=\"currentColor\" stroke-width=\"0.1\"/>\n",
       "<rect x=\"156.25\" y=\"-212.5\" width=\"6.25\" height=\"6.25\" opacity=\"0.01006036217303823\" fill=\"currentColor\" stroke-width=\"0.1\"/>\n",
       "<rect x=\"162.5\" y=\"-212.5\" width=\"6.25\" height=\"6.25\" opacity=\"0.018108651911468814\" fill=\"currentColor\" stroke-width=\"0.1\"/>\n",
       "<rect x=\"168.75\" y=\"-212.5\" width=\"6.25\" height=\"6.25\" opacity=\"0.004024144869215309\" fill=\"currentColor\" stroke-width=\"0.1\"/>\n",
       "<rect x=\"175.0\" y=\"-212.5\" width=\"6.25\" height=\"6.25\" opacity=\"0.006036217303822937\" fill=\"currentColor\" stroke-width=\"0.1\"/>\n",
       "<rect x=\"181.25\" y=\"-212.5\" width=\"6.25\" height=\"6.25\" opacity=\"0.01006036217303823\" fill=\"currentColor\" stroke-width=\"0.1\"/>\n",
       "<rect x=\"187.5\" y=\"-212.5\" width=\"6.25\" height=\"6.25\" opacity=\"0.0\" fill=\"currentColor\" stroke-width=\"0.1\"/>\n",
       "<rect x=\"193.75\" y=\"-212.5\" width=\"6.25\" height=\"6.25\" opacity=\"0.0020120724346076456\" fill=\"currentColor\" stroke-width=\"0.1\"/>\n",
       "<rect x=\"200.0\" y=\"-212.5\" width=\"6.25\" height=\"6.25\" opacity=\"0.004024144869215309\" fill=\"currentColor\" stroke-width=\"0.1\"/>\n",
       "<rect x=\"206.25\" y=\"-212.5\" width=\"6.25\" height=\"6.25\" opacity=\"0.0\" fill=\"currentColor\" stroke-width=\"0.1\"/>\n",
       "<rect x=\"212.5\" y=\"-212.5\" width=\"6.25\" height=\"6.25\" opacity=\"0.0\" fill=\"currentColor\" stroke-width=\"0.1\"/>\n",
       "<rect x=\"218.75\" y=\"-212.5\" width=\"6.25\" height=\"6.25\" opacity=\"0.0\" fill=\"currentColor\" stroke-width=\"0.1\"/>\n",
       "<rect x=\"225.0\" y=\"-212.5\" width=\"6.25\" height=\"6.25\" opacity=\"0.0\" fill=\"currentColor\" stroke-width=\"0.1\"/>\n",
       "<rect x=\"231.25\" y=\"-212.5\" width=\"6.25\" height=\"6.25\" opacity=\"0.0\" fill=\"currentColor\" stroke-width=\"0.1\"/>\n",
       "<rect x=\"237.5\" y=\"-212.5\" width=\"6.25\" height=\"6.25\" opacity=\"0.0\" fill=\"currentColor\" stroke-width=\"0.1\"/>\n",
       "<rect x=\"243.75\" y=\"-212.5\" width=\"6.25\" height=\"6.25\" opacity=\"0.0\" fill=\"currentColor\" stroke-width=\"0.1\"/>\n",
       "<rect x=\"0.0\" y=\"-218.75\" width=\"6.25\" height=\"6.25\" opacity=\"0.0\" fill=\"currentColor\" stroke-width=\"0.1\"/>\n",
       "<rect x=\"6.250000000000005\" y=\"-218.75\" width=\"6.25\" height=\"6.25\" opacity=\"0.0\" fill=\"currentColor\" stroke-width=\"0.1\"/>\n",
       "<rect x=\"12.50000000000001\" y=\"-218.75\" width=\"6.25\" height=\"6.25\" opacity=\"0.0\" fill=\"currentColor\" stroke-width=\"0.1\"/>\n",
       "<rect x=\"18.74999999999999\" y=\"-218.75\" width=\"6.25\" height=\"6.25\" opacity=\"0.0\" fill=\"currentColor\" stroke-width=\"0.1\"/>\n",
       "<rect x=\"24.999999999999993\" y=\"-218.75\" width=\"6.25\" height=\"6.25\" opacity=\"0.0\" fill=\"currentColor\" stroke-width=\"0.1\"/>\n",
       "<rect x=\"31.25\" y=\"-218.75\" width=\"6.25\" height=\"6.25\" opacity=\"0.0020120724346076456\" fill=\"currentColor\" stroke-width=\"0.1\"/>\n",
       "<rect x=\"37.50000000000001\" y=\"-218.75\" width=\"6.25\" height=\"6.25\" opacity=\"0.0\" fill=\"currentColor\" stroke-width=\"0.1\"/>\n",
       "<rect x=\"43.750000000000014\" y=\"-218.75\" width=\"6.25\" height=\"6.25\" opacity=\"0.0\" fill=\"currentColor\" stroke-width=\"0.1\"/>\n",
       "<rect x=\"49.999999999999986\" y=\"-218.75\" width=\"6.25\" height=\"6.25\" opacity=\"0.0\" fill=\"currentColor\" stroke-width=\"0.1\"/>\n",
       "<rect x=\"56.24999999999999\" y=\"-218.75\" width=\"6.25\" height=\"6.25\" opacity=\"0.0\" fill=\"currentColor\" stroke-width=\"0.1\"/>\n",
       "<rect x=\"62.5\" y=\"-218.75\" width=\"6.25\" height=\"6.25\" opacity=\"0.0\" fill=\"currentColor\" stroke-width=\"0.1\"/>\n",
       "<rect x=\"68.75\" y=\"-218.75\" width=\"6.25\" height=\"6.25\" opacity=\"0.004024144869215295\" fill=\"currentColor\" stroke-width=\"0.1\"/>\n",
       "<rect x=\"75.00000000000001\" y=\"-218.75\" width=\"6.25\" height=\"6.25\" opacity=\"0.0160965794768612\" fill=\"currentColor\" stroke-width=\"0.1\"/>\n",
       "<rect x=\"81.24999999999999\" y=\"-218.75\" width=\"6.25\" height=\"6.25\" opacity=\"0.00804828973843059\" fill=\"currentColor\" stroke-width=\"0.1\"/>\n",
       "<rect x=\"87.5\" y=\"-218.75\" width=\"6.25\" height=\"6.25\" opacity=\"0.01006036217303823\" fill=\"currentColor\" stroke-width=\"0.1\"/>\n",
       "<rect x=\"93.75\" y=\"-218.75\" width=\"6.25\" height=\"6.25\" opacity=\"0.008048289738430582\" fill=\"currentColor\" stroke-width=\"0.1\"/>\n",
       "<rect x=\"100.0\" y=\"-218.75\" width=\"6.25\" height=\"6.25\" opacity=\"0.012072434607645885\" fill=\"currentColor\" stroke-width=\"0.1\"/>\n",
       "<rect x=\"106.25000000000001\" y=\"-218.75\" width=\"6.25\" height=\"6.25\" opacity=\"0.02213279678068415\" fill=\"currentColor\" stroke-width=\"0.1\"/>\n",
       "<rect x=\"112.49999999999999\" y=\"-218.75\" width=\"6.25\" height=\"6.25\" opacity=\"0.0060362173038229425\" fill=\"currentColor\" stroke-width=\"0.1\"/>\n",
       "<rect x=\"118.75\" y=\"-218.75\" width=\"6.25\" height=\"6.25\" opacity=\"0.016096579476861165\" fill=\"currentColor\" stroke-width=\"0.1\"/>\n",
       "<rect x=\"125.0\" y=\"-218.75\" width=\"6.25\" height=\"6.25\" opacity=\"0.016096579476861165\" fill=\"currentColor\" stroke-width=\"0.1\"/>\n",
       "<rect x=\"131.25\" y=\"-218.75\" width=\"6.25\" height=\"6.25\" opacity=\"0.008048289738430582\" fill=\"currentColor\" stroke-width=\"0.1\"/>\n",
       "<rect x=\"137.5\" y=\"-218.75\" width=\"6.25\" height=\"6.25\" opacity=\"0.012072434607645927\" fill=\"currentColor\" stroke-width=\"0.1\"/>\n",
       "<rect x=\"143.75\" y=\"-218.75\" width=\"6.25\" height=\"6.25\" opacity=\"0.008048289738430582\" fill=\"currentColor\" stroke-width=\"0.1\"/>\n",
       "<rect x=\"150.0\" y=\"-218.75\" width=\"6.25\" height=\"6.25\" opacity=\"0.0\" fill=\"currentColor\" stroke-width=\"0.1\"/>\n",
       "<rect x=\"156.25\" y=\"-218.75\" width=\"6.25\" height=\"6.25\" opacity=\"0.0020120724346076456\" fill=\"currentColor\" stroke-width=\"0.1\"/>\n",
       "<rect x=\"162.5\" y=\"-218.75\" width=\"6.25\" height=\"6.25\" opacity=\"0.01408450704225352\" fill=\"currentColor\" stroke-width=\"0.1\"/>\n",
       "<rect x=\"168.75\" y=\"-218.75\" width=\"6.25\" height=\"6.25\" opacity=\"0.0020120724346076543\" fill=\"currentColor\" stroke-width=\"0.1\"/>\n",
       "<rect x=\"175.0\" y=\"-218.75\" width=\"6.25\" height=\"6.25\" opacity=\"0.006036217303822937\" fill=\"currentColor\" stroke-width=\"0.1\"/>\n",
       "<rect x=\"181.25\" y=\"-218.75\" width=\"6.25\" height=\"6.25\" opacity=\"0.004024144869215291\" fill=\"currentColor\" stroke-width=\"0.1\"/>\n",
       "<rect x=\"187.5\" y=\"-218.75\" width=\"6.25\" height=\"6.25\" opacity=\"0.0\" fill=\"currentColor\" stroke-width=\"0.1\"/>\n",
       "<rect x=\"193.75\" y=\"-218.75\" width=\"6.25\" height=\"6.25\" opacity=\"0.0020120724346076456\" fill=\"currentColor\" stroke-width=\"0.1\"/>\n",
       "<rect x=\"200.0\" y=\"-218.75\" width=\"6.25\" height=\"6.25\" opacity=\"0.0\" fill=\"currentColor\" stroke-width=\"0.1\"/>\n",
       "<rect x=\"206.25\" y=\"-218.75\" width=\"6.25\" height=\"6.25\" opacity=\"0.0\" fill=\"currentColor\" stroke-width=\"0.1\"/>\n",
       "<rect x=\"212.5\" y=\"-218.75\" width=\"6.25\" height=\"6.25\" opacity=\"0.0\" fill=\"currentColor\" stroke-width=\"0.1\"/>\n",
       "<rect x=\"218.75\" y=\"-218.75\" width=\"6.25\" height=\"6.25\" opacity=\"0.0\" fill=\"currentColor\" stroke-width=\"0.1\"/>\n",
       "<rect x=\"225.0\" y=\"-218.75\" width=\"6.25\" height=\"6.25\" opacity=\"0.0\" fill=\"currentColor\" stroke-width=\"0.1\"/>\n",
       "<rect x=\"231.25\" y=\"-218.75\" width=\"6.25\" height=\"6.25\" opacity=\"0.0\" fill=\"currentColor\" stroke-width=\"0.1\"/>\n",
       "<rect x=\"237.5\" y=\"-218.75\" width=\"6.25\" height=\"6.25\" opacity=\"0.0\" fill=\"currentColor\" stroke-width=\"0.1\"/>\n",
       "<rect x=\"243.75\" y=\"-218.75\" width=\"6.25\" height=\"6.25\" opacity=\"0.0\" fill=\"currentColor\" stroke-width=\"0.1\"/>\n",
       "<rect x=\"0.0\" y=\"-225.0\" width=\"6.25\" height=\"6.25\" opacity=\"0.0\" fill=\"currentColor\" stroke-width=\"0.1\"/>\n",
       "<rect x=\"6.250000000000005\" y=\"-225.0\" width=\"6.25\" height=\"6.25\" opacity=\"0.0\" fill=\"currentColor\" stroke-width=\"0.1\"/>\n",
       "<rect x=\"12.50000000000001\" y=\"-225.0\" width=\"6.25\" height=\"6.25\" opacity=\"0.0\" fill=\"currentColor\" stroke-width=\"0.1\"/>\n",
       "<rect x=\"18.74999999999999\" y=\"-225.0\" width=\"6.25\" height=\"6.25\" opacity=\"0.0\" fill=\"currentColor\" stroke-width=\"0.1\"/>\n",
       "<rect x=\"24.999999999999993\" y=\"-225.0\" width=\"6.25\" height=\"6.25\" opacity=\"0.0\" fill=\"currentColor\" stroke-width=\"0.1\"/>\n",
       "<rect x=\"31.25\" y=\"-225.0\" width=\"6.25\" height=\"6.25\" opacity=\"0.0\" fill=\"currentColor\" stroke-width=\"0.1\"/>\n",
       "<rect x=\"37.50000000000001\" y=\"-225.0\" width=\"6.25\" height=\"6.25\" opacity=\"0.0\" fill=\"currentColor\" stroke-width=\"0.1\"/>\n",
       "<rect x=\"43.750000000000014\" y=\"-225.0\" width=\"6.25\" height=\"6.25\" opacity=\"0.0\" fill=\"currentColor\" stroke-width=\"0.1\"/>\n",
       "<rect x=\"49.999999999999986\" y=\"-225.0\" width=\"6.25\" height=\"6.25\" opacity=\"0.0\" fill=\"currentColor\" stroke-width=\"0.1\"/>\n",
       "<rect x=\"56.24999999999999\" y=\"-225.0\" width=\"6.25\" height=\"6.25\" opacity=\"0.0\" fill=\"currentColor\" stroke-width=\"0.1\"/>\n",
       "<rect x=\"62.5\" y=\"-225.0\" width=\"6.25\" height=\"6.25\" opacity=\"0.0\" fill=\"currentColor\" stroke-width=\"0.1\"/>\n",
       "<rect x=\"68.75\" y=\"-225.0\" width=\"6.25\" height=\"6.25\" opacity=\"0.0\" fill=\"currentColor\" stroke-width=\"0.1\"/>\n",
       "<rect x=\"75.00000000000001\" y=\"-225.0\" width=\"6.25\" height=\"6.25\" opacity=\"0.0040241448692153\" fill=\"currentColor\" stroke-width=\"0.1\"/>\n",
       "<rect x=\"81.24999999999999\" y=\"-225.0\" width=\"6.25\" height=\"6.25\" opacity=\"0.0020120724346076473\" fill=\"currentColor\" stroke-width=\"0.1\"/>\n",
       "<rect x=\"87.5\" y=\"-225.0\" width=\"6.25\" height=\"6.25\" opacity=\"0.0\" fill=\"currentColor\" stroke-width=\"0.1\"/>\n",
       "<rect x=\"93.75\" y=\"-225.0\" width=\"6.25\" height=\"6.25\" opacity=\"0.006036217303822937\" fill=\"currentColor\" stroke-width=\"0.1\"/>\n",
       "<rect x=\"100.0\" y=\"-225.0\" width=\"6.25\" height=\"6.25\" opacity=\"0.004024144869215295\" fill=\"currentColor\" stroke-width=\"0.1\"/>\n",
       "<rect x=\"106.25000000000001\" y=\"-225.0\" width=\"6.25\" height=\"6.25\" opacity=\"0.00201207243460765\" fill=\"currentColor\" stroke-width=\"0.1\"/>\n",
       "<rect x=\"112.49999999999999\" y=\"-225.0\" width=\"6.25\" height=\"6.25\" opacity=\"0.012072434607645885\" fill=\"currentColor\" stroke-width=\"0.1\"/>\n",
       "<rect x=\"118.75\" y=\"-225.0\" width=\"6.25\" height=\"6.25\" opacity=\"0.02414486921529175\" fill=\"currentColor\" stroke-width=\"0.1\"/>\n",
       "<rect x=\"125.0\" y=\"-225.0\" width=\"6.25\" height=\"6.25\" opacity=\"0.01006036217303823\" fill=\"currentColor\" stroke-width=\"0.1\"/>\n",
       "<rect x=\"131.25\" y=\"-225.0\" width=\"6.25\" height=\"6.25\" opacity=\"0.01006036217303823\" fill=\"currentColor\" stroke-width=\"0.1\"/>\n",
       "<rect x=\"137.5\" y=\"-225.0\" width=\"6.25\" height=\"6.25\" opacity=\"0.0020120724346076543\" fill=\"currentColor\" stroke-width=\"0.1\"/>\n",
       "<rect x=\"143.75\" y=\"-225.0\" width=\"6.25\" height=\"6.25\" opacity=\"0.004024144869215291\" fill=\"currentColor\" stroke-width=\"0.1\"/>\n",
       "<rect x=\"150.0\" y=\"-225.0\" width=\"6.25\" height=\"6.25\" opacity=\"0.004024144869215291\" fill=\"currentColor\" stroke-width=\"0.1\"/>\n",
       "<rect x=\"156.25\" y=\"-225.0\" width=\"6.25\" height=\"6.25\" opacity=\"0.008048289738430582\" fill=\"currentColor\" stroke-width=\"0.1\"/>\n",
       "<rect x=\"162.5\" y=\"-225.0\" width=\"6.25\" height=\"6.25\" opacity=\"0.0020120724346076456\" fill=\"currentColor\" stroke-width=\"0.1\"/>\n",
       "<rect x=\"168.75\" y=\"-225.0\" width=\"6.25\" height=\"6.25\" opacity=\"0.0020120724346076543\" fill=\"currentColor\" stroke-width=\"0.1\"/>\n",
       "<rect x=\"175.0\" y=\"-225.0\" width=\"6.25\" height=\"6.25\" opacity=\"0.0\" fill=\"currentColor\" stroke-width=\"0.1\"/>\n",
       "<rect x=\"181.25\" y=\"-225.0\" width=\"6.25\" height=\"6.25\" opacity=\"0.006036217303822937\" fill=\"currentColor\" stroke-width=\"0.1\"/>\n",
       "<rect x=\"187.5\" y=\"-225.0\" width=\"6.25\" height=\"6.25\" opacity=\"0.0\" fill=\"currentColor\" stroke-width=\"0.1\"/>\n",
       "<rect x=\"193.75\" y=\"-225.0\" width=\"6.25\" height=\"6.25\" opacity=\"0.0020120724346076456\" fill=\"currentColor\" stroke-width=\"0.1\"/>\n",
       "<rect x=\"200.0\" y=\"-225.0\" width=\"6.25\" height=\"6.25\" opacity=\"0.0\" fill=\"currentColor\" stroke-width=\"0.1\"/>\n",
       "<rect x=\"206.25\" y=\"-225.0\" width=\"6.25\" height=\"6.25\" opacity=\"0.0\" fill=\"currentColor\" stroke-width=\"0.1\"/>\n",
       "<rect x=\"212.5\" y=\"-225.0\" width=\"6.25\" height=\"6.25\" opacity=\"0.0\" fill=\"currentColor\" stroke-width=\"0.1\"/>\n",
       "<rect x=\"218.75\" y=\"-225.0\" width=\"6.25\" height=\"6.25\" opacity=\"0.0\" fill=\"currentColor\" stroke-width=\"0.1\"/>\n",
       "<rect x=\"225.0\" y=\"-225.0\" width=\"6.25\" height=\"6.25\" opacity=\"0.0\" fill=\"currentColor\" stroke-width=\"0.1\"/>\n",
       "<rect x=\"231.25\" y=\"-225.0\" width=\"6.25\" height=\"6.25\" opacity=\"0.0\" fill=\"currentColor\" stroke-width=\"0.1\"/>\n",
       "<rect x=\"237.5\" y=\"-225.0\" width=\"6.25\" height=\"6.25\" opacity=\"0.0\" fill=\"currentColor\" stroke-width=\"0.1\"/>\n",
       "<rect x=\"243.75\" y=\"-225.0\" width=\"6.25\" height=\"6.25\" opacity=\"0.0\" fill=\"currentColor\" stroke-width=\"0.1\"/>\n",
       "<rect x=\"0.0\" y=\"-231.25\" width=\"6.25\" height=\"6.25\" opacity=\"0.0\" fill=\"currentColor\" stroke-width=\"0.1\"/>\n",
       "<rect x=\"6.250000000000005\" y=\"-231.25\" width=\"6.25\" height=\"6.25\" opacity=\"0.0\" fill=\"currentColor\" stroke-width=\"0.1\"/>\n",
       "<rect x=\"12.50000000000001\" y=\"-231.25\" width=\"6.25\" height=\"6.25\" opacity=\"0.0\" fill=\"currentColor\" stroke-width=\"0.1\"/>\n",
       "<rect x=\"18.74999999999999\" y=\"-231.25\" width=\"6.25\" height=\"6.25\" opacity=\"0.0\" fill=\"currentColor\" stroke-width=\"0.1\"/>\n",
       "<rect x=\"24.999999999999993\" y=\"-231.25\" width=\"6.25\" height=\"6.25\" opacity=\"0.0\" fill=\"currentColor\" stroke-width=\"0.1\"/>\n",
       "<rect x=\"31.25\" y=\"-231.25\" width=\"6.25\" height=\"6.25\" opacity=\"0.0\" fill=\"currentColor\" stroke-width=\"0.1\"/>\n",
       "<rect x=\"37.50000000000001\" y=\"-231.25\" width=\"6.25\" height=\"6.25\" opacity=\"0.0\" fill=\"currentColor\" stroke-width=\"0.1\"/>\n",
       "<rect x=\"43.750000000000014\" y=\"-231.25\" width=\"6.25\" height=\"6.25\" opacity=\"0.0\" fill=\"currentColor\" stroke-width=\"0.1\"/>\n",
       "<rect x=\"49.999999999999986\" y=\"-231.25\" width=\"6.25\" height=\"6.25\" opacity=\"0.0\" fill=\"currentColor\" stroke-width=\"0.1\"/>\n",
       "<rect x=\"56.24999999999999\" y=\"-231.25\" width=\"6.25\" height=\"6.25\" opacity=\"0.0\" fill=\"currentColor\" stroke-width=\"0.1\"/>\n",
       "<rect x=\"62.5\" y=\"-231.25\" width=\"6.25\" height=\"6.25\" opacity=\"0.0\" fill=\"currentColor\" stroke-width=\"0.1\"/>\n",
       "<rect x=\"68.75\" y=\"-231.25\" width=\"6.25\" height=\"6.25\" opacity=\"0.0\" fill=\"currentColor\" stroke-width=\"0.1\"/>\n",
       "<rect x=\"75.00000000000001\" y=\"-231.25\" width=\"6.25\" height=\"6.25\" opacity=\"0.0\" fill=\"currentColor\" stroke-width=\"0.1\"/>\n",
       "<rect x=\"81.24999999999999\" y=\"-231.25\" width=\"6.25\" height=\"6.25\" opacity=\"0.0020120724346076473\" fill=\"currentColor\" stroke-width=\"0.1\"/>\n",
       "<rect x=\"87.5\" y=\"-231.25\" width=\"6.25\" height=\"6.25\" opacity=\"0.0\" fill=\"currentColor\" stroke-width=\"0.1\"/>\n",
       "<rect x=\"93.75\" y=\"-231.25\" width=\"6.25\" height=\"6.25\" opacity=\"0.004024144869215291\" fill=\"currentColor\" stroke-width=\"0.1\"/>\n",
       "<rect x=\"100.0\" y=\"-231.25\" width=\"6.25\" height=\"6.25\" opacity=\"0.004024144869215295\" fill=\"currentColor\" stroke-width=\"0.1\"/>\n",
       "<rect x=\"106.25000000000001\" y=\"-231.25\" width=\"6.25\" height=\"6.25\" opacity=\"0.0\" fill=\"currentColor\" stroke-width=\"0.1\"/>\n",
       "<rect x=\"112.49999999999999\" y=\"-231.25\" width=\"6.25\" height=\"6.25\" opacity=\"0.0\" fill=\"currentColor\" stroke-width=\"0.1\"/>\n",
       "<rect x=\"118.75\" y=\"-231.25\" width=\"6.25\" height=\"6.25\" opacity=\"0.012072434607645875\" fill=\"currentColor\" stroke-width=\"0.1\"/>\n",
       "<rect x=\"125.0\" y=\"-231.25\" width=\"6.25\" height=\"6.25\" opacity=\"0.006036217303822937\" fill=\"currentColor\" stroke-width=\"0.1\"/>\n",
       "<rect x=\"131.25\" y=\"-231.25\" width=\"6.25\" height=\"6.25\" opacity=\"0.004024144869215291\" fill=\"currentColor\" stroke-width=\"0.1\"/>\n",
       "<rect x=\"137.5\" y=\"-231.25\" width=\"6.25\" height=\"6.25\" opacity=\"0.004024144869215309\" fill=\"currentColor\" stroke-width=\"0.1\"/>\n",
       "<rect x=\"143.75\" y=\"-231.25\" width=\"6.25\" height=\"6.25\" opacity=\"0.0020120724346076456\" fill=\"currentColor\" stroke-width=\"0.1\"/>\n",
       "<rect x=\"150.0\" y=\"-231.25\" width=\"6.25\" height=\"6.25\" opacity=\"0.0020120724346076456\" fill=\"currentColor\" stroke-width=\"0.1\"/>\n",
       "<rect x=\"156.25\" y=\"-231.25\" width=\"6.25\" height=\"6.25\" opacity=\"0.0020120724346076456\" fill=\"currentColor\" stroke-width=\"0.1\"/>\n",
       "<rect x=\"162.5\" y=\"-231.25\" width=\"6.25\" height=\"6.25\" opacity=\"0.0020120724346076456\" fill=\"currentColor\" stroke-width=\"0.1\"/>\n",
       "<rect x=\"168.75\" y=\"-231.25\" width=\"6.25\" height=\"6.25\" opacity=\"0.0\" fill=\"currentColor\" stroke-width=\"0.1\"/>\n",
       "<rect x=\"175.0\" y=\"-231.25\" width=\"6.25\" height=\"6.25\" opacity=\"0.0020120724346076456\" fill=\"currentColor\" stroke-width=\"0.1\"/>\n",
       "<rect x=\"181.25\" y=\"-231.25\" width=\"6.25\" height=\"6.25\" opacity=\"0.0\" fill=\"currentColor\" stroke-width=\"0.1\"/>\n",
       "<rect x=\"187.5\" y=\"-231.25\" width=\"6.25\" height=\"6.25\" opacity=\"0.0\" fill=\"currentColor\" stroke-width=\"0.1\"/>\n",
       "<rect x=\"193.75\" y=\"-231.25\" width=\"6.25\" height=\"6.25\" opacity=\"0.0\" fill=\"currentColor\" stroke-width=\"0.1\"/>\n",
       "<rect x=\"200.0\" y=\"-231.25\" width=\"6.25\" height=\"6.25\" opacity=\"0.0\" fill=\"currentColor\" stroke-width=\"0.1\"/>\n",
       "<rect x=\"206.25\" y=\"-231.25\" width=\"6.25\" height=\"6.25\" opacity=\"0.0\" fill=\"currentColor\" stroke-width=\"0.1\"/>\n",
       "<rect x=\"212.5\" y=\"-231.25\" width=\"6.25\" height=\"6.25\" opacity=\"0.0\" fill=\"currentColor\" stroke-width=\"0.1\"/>\n",
       "<rect x=\"218.75\" y=\"-231.25\" width=\"6.25\" height=\"6.25\" opacity=\"0.0\" fill=\"currentColor\" stroke-width=\"0.1\"/>\n",
       "<rect x=\"225.0\" y=\"-231.25\" width=\"6.25\" height=\"6.25\" opacity=\"0.0020120724346076456\" fill=\"currentColor\" stroke-width=\"0.1\"/>\n",
       "<rect x=\"231.25\" y=\"-231.25\" width=\"6.25\" height=\"6.25\" opacity=\"0.0\" fill=\"currentColor\" stroke-width=\"0.1\"/>\n",
       "<rect x=\"237.5\" y=\"-231.25\" width=\"6.25\" height=\"6.25\" opacity=\"0.0\" fill=\"currentColor\" stroke-width=\"0.1\"/>\n",
       "<rect x=\"243.75\" y=\"-231.25\" width=\"6.25\" height=\"6.25\" opacity=\"0.0\" fill=\"currentColor\" stroke-width=\"0.1\"/>\n",
       "<rect x=\"0.0\" y=\"-237.5\" width=\"6.25\" height=\"6.25\" opacity=\"0.0\" fill=\"currentColor\" stroke-width=\"0.1\"/>\n",
       "<rect x=\"6.250000000000005\" y=\"-237.5\" width=\"6.25\" height=\"6.25\" opacity=\"0.0\" fill=\"currentColor\" stroke-width=\"0.1\"/>\n",
       "<rect x=\"12.50000000000001\" y=\"-237.5\" width=\"6.25\" height=\"6.25\" opacity=\"0.0\" fill=\"currentColor\" stroke-width=\"0.1\"/>\n",
       "<rect x=\"18.74999999999999\" y=\"-237.5\" width=\"6.25\" height=\"6.25\" opacity=\"0.0\" fill=\"currentColor\" stroke-width=\"0.1\"/>\n",
       "<rect x=\"24.999999999999993\" y=\"-237.5\" width=\"6.25\" height=\"6.25\" opacity=\"0.0\" fill=\"currentColor\" stroke-width=\"0.1\"/>\n",
       "<rect x=\"31.25\" y=\"-237.5\" width=\"6.25\" height=\"6.25\" opacity=\"0.0\" fill=\"currentColor\" stroke-width=\"0.1\"/>\n",
       "<rect x=\"37.50000000000001\" y=\"-237.5\" width=\"6.25\" height=\"6.25\" opacity=\"0.0\" fill=\"currentColor\" stroke-width=\"0.1\"/>\n",
       "<rect x=\"43.750000000000014\" y=\"-237.5\" width=\"6.25\" height=\"6.25\" opacity=\"0.0\" fill=\"currentColor\" stroke-width=\"0.1\"/>\n",
       "<rect x=\"49.999999999999986\" y=\"-237.5\" width=\"6.25\" height=\"6.25\" opacity=\"0.0\" fill=\"currentColor\" stroke-width=\"0.1\"/>\n",
       "<rect x=\"56.24999999999999\" y=\"-237.5\" width=\"6.25\" height=\"6.25\" opacity=\"0.0\" fill=\"currentColor\" stroke-width=\"0.1\"/>\n",
       "<rect x=\"62.5\" y=\"-237.5\" width=\"6.25\" height=\"6.25\" opacity=\"0.0\" fill=\"currentColor\" stroke-width=\"0.1\"/>\n",
       "<rect x=\"68.75\" y=\"-237.5\" width=\"6.25\" height=\"6.25\" opacity=\"0.0020120724346076565\" fill=\"currentColor\" stroke-width=\"0.1\"/>\n",
       "<rect x=\"75.00000000000001\" y=\"-237.5\" width=\"6.25\" height=\"6.25\" opacity=\"0.002012072434607659\" fill=\"currentColor\" stroke-width=\"0.1\"/>\n",
       "<rect x=\"81.24999999999999\" y=\"-237.5\" width=\"6.25\" height=\"6.25\" opacity=\"0.0\" fill=\"currentColor\" stroke-width=\"0.1\"/>\n",
       "<rect x=\"87.5\" y=\"-237.5\" width=\"6.25\" height=\"6.25\" opacity=\"0.0\" fill=\"currentColor\" stroke-width=\"0.1\"/>\n",
       "<rect x=\"93.75\" y=\"-237.5\" width=\"6.25\" height=\"6.25\" opacity=\"0.0\" fill=\"currentColor\" stroke-width=\"0.1\"/>\n",
       "<rect x=\"100.0\" y=\"-237.5\" width=\"6.25\" height=\"6.25\" opacity=\"0.004024144869215313\" fill=\"currentColor\" stroke-width=\"0.1\"/>\n",
       "<rect x=\"106.25000000000001\" y=\"-237.5\" width=\"6.25\" height=\"6.25\" opacity=\"0.004024144869215318\" fill=\"currentColor\" stroke-width=\"0.1\"/>\n",
       "<rect x=\"112.49999999999999\" y=\"-237.5\" width=\"6.25\" height=\"6.25\" opacity=\"0.0020120724346076565\" fill=\"currentColor\" stroke-width=\"0.1\"/>\n",
       "<rect x=\"118.75\" y=\"-237.5\" width=\"6.25\" height=\"6.25\" opacity=\"0.006036217303822963\" fill=\"currentColor\" stroke-width=\"0.1\"/>\n",
       "<rect x=\"125.0\" y=\"-237.5\" width=\"6.25\" height=\"6.25\" opacity=\"0.006036217303822963\" fill=\"currentColor\" stroke-width=\"0.1\"/>\n",
       "<rect x=\"131.25\" y=\"-237.5\" width=\"6.25\" height=\"6.25\" opacity=\"0.0\" fill=\"currentColor\" stroke-width=\"0.1\"/>\n",
       "<rect x=\"137.5\" y=\"-237.5\" width=\"6.25\" height=\"6.25\" opacity=\"0.0\" fill=\"currentColor\" stroke-width=\"0.1\"/>\n",
       "<rect x=\"143.75\" y=\"-237.5\" width=\"6.25\" height=\"6.25\" opacity=\"0.0020120724346076543\" fill=\"currentColor\" stroke-width=\"0.1\"/>\n",
       "<rect x=\"150.0\" y=\"-237.5\" width=\"6.25\" height=\"6.25\" opacity=\"0.0\" fill=\"currentColor\" stroke-width=\"0.1\"/>\n",
       "<rect x=\"156.25\" y=\"-237.5\" width=\"6.25\" height=\"6.25\" opacity=\"0.0\" fill=\"currentColor\" stroke-width=\"0.1\"/>\n",
       "<rect x=\"162.5\" y=\"-237.5\" width=\"6.25\" height=\"6.25\" opacity=\"0.0020120724346076543\" fill=\"currentColor\" stroke-width=\"0.1\"/>\n",
       "<rect x=\"168.75\" y=\"-237.5\" width=\"6.25\" height=\"6.25\" opacity=\"0.0\" fill=\"currentColor\" stroke-width=\"0.1\"/>\n",
       "<rect x=\"175.0\" y=\"-237.5\" width=\"6.25\" height=\"6.25\" opacity=\"0.0\" fill=\"currentColor\" stroke-width=\"0.1\"/>\n",
       "<rect x=\"181.25\" y=\"-237.5\" width=\"6.25\" height=\"6.25\" opacity=\"0.0\" fill=\"currentColor\" stroke-width=\"0.1\"/>\n",
       "<rect x=\"187.5\" y=\"-237.5\" width=\"6.25\" height=\"6.25\" opacity=\"0.0020120724346076543\" fill=\"currentColor\" stroke-width=\"0.1\"/>\n",
       "<rect x=\"193.75\" y=\"-237.5\" width=\"6.25\" height=\"6.25\" opacity=\"0.0\" fill=\"currentColor\" stroke-width=\"0.1\"/>\n",
       "<rect x=\"200.0\" y=\"-237.5\" width=\"6.25\" height=\"6.25\" opacity=\"0.0\" fill=\"currentColor\" stroke-width=\"0.1\"/>\n",
       "<rect x=\"206.25\" y=\"-237.5\" width=\"6.25\" height=\"6.25\" opacity=\"0.0\" fill=\"currentColor\" stroke-width=\"0.1\"/>\n",
       "<rect x=\"212.5\" y=\"-237.5\" width=\"6.25\" height=\"6.25\" opacity=\"0.0\" fill=\"currentColor\" stroke-width=\"0.1\"/>\n",
       "<rect x=\"218.75\" y=\"-237.5\" width=\"6.25\" height=\"6.25\" opacity=\"0.0\" fill=\"currentColor\" stroke-width=\"0.1\"/>\n",
       "<rect x=\"225.0\" y=\"-237.5\" width=\"6.25\" height=\"6.25\" opacity=\"0.0\" fill=\"currentColor\" stroke-width=\"0.1\"/>\n",
       "<rect x=\"231.25\" y=\"-237.5\" width=\"6.25\" height=\"6.25\" opacity=\"0.0\" fill=\"currentColor\" stroke-width=\"0.1\"/>\n",
       "<rect x=\"237.5\" y=\"-237.5\" width=\"6.25\" height=\"6.25\" opacity=\"0.0\" fill=\"currentColor\" stroke-width=\"0.1\"/>\n",
       "<rect x=\"243.75\" y=\"-237.5\" width=\"6.25\" height=\"6.25\" opacity=\"0.0\" fill=\"currentColor\" stroke-width=\"0.1\"/>\n",
       "<rect x=\"0.0\" y=\"-243.75\" width=\"6.25\" height=\"6.25\" opacity=\"0.0\" fill=\"currentColor\" stroke-width=\"0.1\"/>\n",
       "<rect x=\"6.250000000000005\" y=\"-243.75\" width=\"6.25\" height=\"6.25\" opacity=\"0.0\" fill=\"currentColor\" stroke-width=\"0.1\"/>\n",
       "<rect x=\"12.50000000000001\" y=\"-243.75\" width=\"6.25\" height=\"6.25\" opacity=\"0.0\" fill=\"currentColor\" stroke-width=\"0.1\"/>\n",
       "<rect x=\"18.74999999999999\" y=\"-243.75\" width=\"6.25\" height=\"6.25\" opacity=\"0.0\" fill=\"currentColor\" stroke-width=\"0.1\"/>\n",
       "<rect x=\"24.999999999999993\" y=\"-243.75\" width=\"6.25\" height=\"6.25\" opacity=\"0.0\" fill=\"currentColor\" stroke-width=\"0.1\"/>\n",
       "<rect x=\"31.25\" y=\"-243.75\" width=\"6.25\" height=\"6.25\" opacity=\"0.0\" fill=\"currentColor\" stroke-width=\"0.1\"/>\n",
       "<rect x=\"37.50000000000001\" y=\"-243.75\" width=\"6.25\" height=\"6.25\" opacity=\"0.0\" fill=\"currentColor\" stroke-width=\"0.1\"/>\n",
       "<rect x=\"43.750000000000014\" y=\"-243.75\" width=\"6.25\" height=\"6.25\" opacity=\"0.0\" fill=\"currentColor\" stroke-width=\"0.1\"/>\n",
       "<rect x=\"49.999999999999986\" y=\"-243.75\" width=\"6.25\" height=\"6.25\" opacity=\"0.0\" fill=\"currentColor\" stroke-width=\"0.1\"/>\n",
       "<rect x=\"56.24999999999999\" y=\"-243.75\" width=\"6.25\" height=\"6.25\" opacity=\"0.0\" fill=\"currentColor\" stroke-width=\"0.1\"/>\n",
       "<rect x=\"62.5\" y=\"-243.75\" width=\"6.25\" height=\"6.25\" opacity=\"0.0\" fill=\"currentColor\" stroke-width=\"0.1\"/>\n",
       "<rect x=\"68.75\" y=\"-243.75\" width=\"6.25\" height=\"6.25\" opacity=\"0.0\" fill=\"currentColor\" stroke-width=\"0.1\"/>\n",
       "<rect x=\"75.00000000000001\" y=\"-243.75\" width=\"6.25\" height=\"6.25\" opacity=\"0.0\" fill=\"currentColor\" stroke-width=\"0.1\"/>\n",
       "<rect x=\"81.24999999999999\" y=\"-243.75\" width=\"6.25\" height=\"6.25\" opacity=\"0.0020120724346076473\" fill=\"currentColor\" stroke-width=\"0.1\"/>\n",
       "<rect x=\"87.5\" y=\"-243.75\" width=\"6.25\" height=\"6.25\" opacity=\"0.0\" fill=\"currentColor\" stroke-width=\"0.1\"/>\n",
       "<rect x=\"93.75\" y=\"-243.75\" width=\"6.25\" height=\"6.25\" opacity=\"0.0\" fill=\"currentColor\" stroke-width=\"0.1\"/>\n",
       "<rect x=\"100.0\" y=\"-243.75\" width=\"6.25\" height=\"6.25\" opacity=\"0.0\" fill=\"currentColor\" stroke-width=\"0.1\"/>\n",
       "<rect x=\"106.25000000000001\" y=\"-243.75\" width=\"6.25\" height=\"6.25\" opacity=\"0.00201207243460765\" fill=\"currentColor\" stroke-width=\"0.1\"/>\n",
       "<rect x=\"112.49999999999999\" y=\"-243.75\" width=\"6.25\" height=\"6.25\" opacity=\"0.0\" fill=\"currentColor\" stroke-width=\"0.1\"/>\n",
       "<rect x=\"118.75\" y=\"-243.75\" width=\"6.25\" height=\"6.25\" opacity=\"0.0\" fill=\"currentColor\" stroke-width=\"0.1\"/>\n",
       "<rect x=\"125.0\" y=\"-243.75\" width=\"6.25\" height=\"6.25\" opacity=\"0.0\" fill=\"currentColor\" stroke-width=\"0.1\"/>\n",
       "<rect x=\"131.25\" y=\"-243.75\" width=\"6.25\" height=\"6.25\" opacity=\"0.006036217303822937\" fill=\"currentColor\" stroke-width=\"0.1\"/>\n",
       "<rect x=\"137.5\" y=\"-243.75\" width=\"6.25\" height=\"6.25\" opacity=\"0.0020120724346076543\" fill=\"currentColor\" stroke-width=\"0.1\"/>\n",
       "<rect x=\"143.75\" y=\"-243.75\" width=\"6.25\" height=\"6.25\" opacity=\"0.0020120724346076456\" fill=\"currentColor\" stroke-width=\"0.1\"/>\n",
       "<rect x=\"150.0\" y=\"-243.75\" width=\"6.25\" height=\"6.25\" opacity=\"0.0\" fill=\"currentColor\" stroke-width=\"0.1\"/>\n",
       "<rect x=\"156.25\" y=\"-243.75\" width=\"6.25\" height=\"6.25\" opacity=\"0.0\" fill=\"currentColor\" stroke-width=\"0.1\"/>\n",
       "<rect x=\"162.5\" y=\"-243.75\" width=\"6.25\" height=\"6.25\" opacity=\"0.0\" fill=\"currentColor\" stroke-width=\"0.1\"/>\n",
       "<rect x=\"168.75\" y=\"-243.75\" width=\"6.25\" height=\"6.25\" opacity=\"0.0\" fill=\"currentColor\" stroke-width=\"0.1\"/>\n",
       "<rect x=\"175.0\" y=\"-243.75\" width=\"6.25\" height=\"6.25\" opacity=\"0.0020120724346076456\" fill=\"currentColor\" stroke-width=\"0.1\"/>\n",
       "<rect x=\"181.25\" y=\"-243.75\" width=\"6.25\" height=\"6.25\" opacity=\"0.0\" fill=\"currentColor\" stroke-width=\"0.1\"/>\n",
       "<rect x=\"187.5\" y=\"-243.75\" width=\"6.25\" height=\"6.25\" opacity=\"0.0\" fill=\"currentColor\" stroke-width=\"0.1\"/>\n",
       "<rect x=\"193.75\" y=\"-243.75\" width=\"6.25\" height=\"6.25\" opacity=\"0.0\" fill=\"currentColor\" stroke-width=\"0.1\"/>\n",
       "<rect x=\"200.0\" y=\"-243.75\" width=\"6.25\" height=\"6.25\" opacity=\"0.0\" fill=\"currentColor\" stroke-width=\"0.1\"/>\n",
       "<rect x=\"206.25\" y=\"-243.75\" width=\"6.25\" height=\"6.25\" opacity=\"0.0\" fill=\"currentColor\" stroke-width=\"0.1\"/>\n",
       "<rect x=\"212.5\" y=\"-243.75\" width=\"6.25\" height=\"6.25\" opacity=\"0.0\" fill=\"currentColor\" stroke-width=\"0.1\"/>\n",
       "<rect x=\"218.75\" y=\"-243.75\" width=\"6.25\" height=\"6.25\" opacity=\"0.0\" fill=\"currentColor\" stroke-width=\"0.1\"/>\n",
       "<rect x=\"225.0\" y=\"-243.75\" width=\"6.25\" height=\"6.25\" opacity=\"0.0\" fill=\"currentColor\" stroke-width=\"0.1\"/>\n",
       "<rect x=\"231.25\" y=\"-243.75\" width=\"6.25\" height=\"6.25\" opacity=\"0.0\" fill=\"currentColor\" stroke-width=\"0.1\"/>\n",
       "<rect x=\"237.5\" y=\"-243.75\" width=\"6.25\" height=\"6.25\" opacity=\"0.0\" fill=\"currentColor\" stroke-width=\"0.1\"/>\n",
       "<rect x=\"243.75\" y=\"-243.75\" width=\"6.25\" height=\"6.25\" opacity=\"0.0\" fill=\"currentColor\" stroke-width=\"0.1\"/>\n",
       "<rect x=\"0.0\" y=\"-250.0\" width=\"6.25\" height=\"6.25\" opacity=\"0.0\" fill=\"currentColor\" stroke-width=\"0.1\"/>\n",
       "<rect x=\"6.250000000000005\" y=\"-250.0\" width=\"6.25\" height=\"6.25\" opacity=\"0.0\" fill=\"currentColor\" stroke-width=\"0.1\"/>\n",
       "<rect x=\"12.50000000000001\" y=\"-250.0\" width=\"6.25\" height=\"6.25\" opacity=\"0.0\" fill=\"currentColor\" stroke-width=\"0.1\"/>\n",
       "<rect x=\"18.74999999999999\" y=\"-250.0\" width=\"6.25\" height=\"6.25\" opacity=\"0.0\" fill=\"currentColor\" stroke-width=\"0.1\"/>\n",
       "<rect x=\"24.999999999999993\" y=\"-250.0\" width=\"6.25\" height=\"6.25\" opacity=\"0.0\" fill=\"currentColor\" stroke-width=\"0.1\"/>\n",
       "<rect x=\"31.25\" y=\"-250.0\" width=\"6.25\" height=\"6.25\" opacity=\"0.0\" fill=\"currentColor\" stroke-width=\"0.1\"/>\n",
       "<rect x=\"37.50000000000001\" y=\"-250.0\" width=\"6.25\" height=\"6.25\" opacity=\"0.0\" fill=\"currentColor\" stroke-width=\"0.1\"/>\n",
       "<rect x=\"43.750000000000014\" y=\"-250.0\" width=\"6.25\" height=\"6.25\" opacity=\"0.0\" fill=\"currentColor\" stroke-width=\"0.1\"/>\n",
       "<rect x=\"49.999999999999986\" y=\"-250.0\" width=\"6.25\" height=\"6.25\" opacity=\"0.0\" fill=\"currentColor\" stroke-width=\"0.1\"/>\n",
       "<rect x=\"56.24999999999999\" y=\"-250.0\" width=\"6.25\" height=\"6.25\" opacity=\"0.0020120724346076456\" fill=\"currentColor\" stroke-width=\"0.1\"/>\n",
       "<rect x=\"62.5\" y=\"-250.0\" width=\"6.25\" height=\"6.25\" opacity=\"0.0\" fill=\"currentColor\" stroke-width=\"0.1\"/>\n",
       "<rect x=\"68.75\" y=\"-250.0\" width=\"6.25\" height=\"6.25\" opacity=\"0.0\" fill=\"currentColor\" stroke-width=\"0.1\"/>\n",
       "<rect x=\"75.00000000000001\" y=\"-250.0\" width=\"6.25\" height=\"6.25\" opacity=\"0.0\" fill=\"currentColor\" stroke-width=\"0.1\"/>\n",
       "<rect x=\"81.24999999999999\" y=\"-250.0\" width=\"6.25\" height=\"6.25\" opacity=\"0.0\" fill=\"currentColor\" stroke-width=\"0.1\"/>\n",
       "<rect x=\"87.5\" y=\"-250.0\" width=\"6.25\" height=\"6.25\" opacity=\"0.0\" fill=\"currentColor\" stroke-width=\"0.1\"/>\n",
       "<rect x=\"93.75\" y=\"-250.0\" width=\"6.25\" height=\"6.25\" opacity=\"0.0020120724346076456\" fill=\"currentColor\" stroke-width=\"0.1\"/>\n",
       "<rect x=\"100.0\" y=\"-250.0\" width=\"6.25\" height=\"6.25\" opacity=\"0.0020120724346076473\" fill=\"currentColor\" stroke-width=\"0.1\"/>\n",
       "<rect x=\"106.25000000000001\" y=\"-250.0\" width=\"6.25\" height=\"6.25\" opacity=\"0.0\" fill=\"currentColor\" stroke-width=\"0.1\"/>\n",
       "<rect x=\"112.49999999999999\" y=\"-250.0\" width=\"6.25\" height=\"6.25\" opacity=\"0.0\" fill=\"currentColor\" stroke-width=\"0.1\"/>\n",
       "<rect x=\"118.75\" y=\"-250.0\" width=\"6.25\" height=\"6.25\" opacity=\"0.004024144869215291\" fill=\"currentColor\" stroke-width=\"0.1\"/>\n",
       "<rect x=\"125.0\" y=\"-250.0\" width=\"6.25\" height=\"6.25\" opacity=\"0.0\" fill=\"currentColor\" stroke-width=\"0.1\"/>\n",
       "<rect x=\"131.25\" y=\"-250.0\" width=\"6.25\" height=\"6.25\" opacity=\"0.0\" fill=\"currentColor\" stroke-width=\"0.1\"/>\n",
       "<rect x=\"137.5\" y=\"-250.0\" width=\"6.25\" height=\"6.25\" opacity=\"0.0\" fill=\"currentColor\" stroke-width=\"0.1\"/>\n",
       "<rect x=\"143.75\" y=\"-250.0\" width=\"6.25\" height=\"6.25\" opacity=\"0.0\" fill=\"currentColor\" stroke-width=\"0.1\"/>\n",
       "<rect x=\"150.0\" y=\"-250.0\" width=\"6.25\" height=\"6.25\" opacity=\"0.0\" fill=\"currentColor\" stroke-width=\"0.1\"/>\n",
       "<rect x=\"156.25\" y=\"-250.0\" width=\"6.25\" height=\"6.25\" opacity=\"0.0\" fill=\"currentColor\" stroke-width=\"0.1\"/>\n",
       "<rect x=\"162.5\" y=\"-250.0\" width=\"6.25\" height=\"6.25\" opacity=\"0.0\" fill=\"currentColor\" stroke-width=\"0.1\"/>\n",
       "<rect x=\"168.75\" y=\"-250.0\" width=\"6.25\" height=\"6.25\" opacity=\"0.0\" fill=\"currentColor\" stroke-width=\"0.1\"/>\n",
       "<rect x=\"175.0\" y=\"-250.0\" width=\"6.25\" height=\"6.25\" opacity=\"0.0\" fill=\"currentColor\" stroke-width=\"0.1\"/>\n",
       "<rect x=\"181.25\" y=\"-250.0\" width=\"6.25\" height=\"6.25\" opacity=\"0.0\" fill=\"currentColor\" stroke-width=\"0.1\"/>\n",
       "<rect x=\"187.5\" y=\"-250.0\" width=\"6.25\" height=\"6.25\" opacity=\"0.0\" fill=\"currentColor\" stroke-width=\"0.1\"/>\n",
       "<rect x=\"193.75\" y=\"-250.0\" width=\"6.25\" height=\"6.25\" opacity=\"0.0\" fill=\"currentColor\" stroke-width=\"0.1\"/>\n",
       "<rect x=\"200.0\" y=\"-250.0\" width=\"6.25\" height=\"6.25\" opacity=\"0.0\" fill=\"currentColor\" stroke-width=\"0.1\"/>\n",
       "<rect x=\"206.25\" y=\"-250.0\" width=\"6.25\" height=\"6.25\" opacity=\"0.0\" fill=\"currentColor\" stroke-width=\"0.1\"/>\n",
       "<rect x=\"212.5\" y=\"-250.0\" width=\"6.25\" height=\"6.25\" opacity=\"0.0\" fill=\"currentColor\" stroke-width=\"0.1\"/>\n",
       "<rect x=\"218.75\" y=\"-250.0\" width=\"6.25\" height=\"6.25\" opacity=\"0.0\" fill=\"currentColor\" stroke-width=\"0.1\"/>\n",
       "<rect x=\"225.0\" y=\"-250.0\" width=\"6.25\" height=\"6.25\" opacity=\"0.0\" fill=\"currentColor\" stroke-width=\"0.1\"/>\n",
       "<rect x=\"231.25\" y=\"-250.0\" width=\"6.25\" height=\"6.25\" opacity=\"0.0\" fill=\"currentColor\" stroke-width=\"0.1\"/>\n",
       "<rect x=\"237.5\" y=\"-250.0\" width=\"6.25\" height=\"6.25\" opacity=\"0.0\" fill=\"currentColor\" stroke-width=\"0.1\"/>\n",
       "<rect x=\"243.75\" y=\"-250.0\" width=\"6.25\" height=\"6.25\" opacity=\"0.0\" fill=\"currentColor\" stroke-width=\"0.1\"/>\n",
       "</svg>\n",
       "</div>\n",
       "<div style=\"flex=grow:1;\">\n",
       "Regular(40, -4, 4, name='xaxis')<br/>\n",
       "Regular(40, -4, 4, name='yaxis')<br/>\n",
       "<hr style=\"margin-top:.2em; margin-bottom:.2em;\"/>\n",
       "Double() Σ=74985.0 <em>(75000.0 with flow)</em>\n",
       "\n",
       "</div>\n",
       "</div>\n",
       "</html>"
      ],
      "text/plain": [
       "Hist(\n",
       "  Regular(40, -4, 4, name='xaxis'),\n",
       "  Regular(40, -4, 4, name='yaxis'),\n",
       "  storage=Double()) # Sum: 74985.0 (75000.0 with flow)"
      ]
     },
     "execution_count": 72,
     "metadata": {},
     "output_type": "execute_result"
    }
   ],
   "source": [
    "hist3 = directory[\"hpxpy\"].to_hist()\n",
    "hist3"
   ]
  },
  {
   "cell_type": "code",
   "execution_count": 73,
   "id": "2aec9880-c924-45e5-85cb-2155f99806d1",
   "metadata": {},
   "outputs": [
    {
     "data": {
      "text/html": [
       "<html>\n",
       "<div style=\"display:flex; align-items:center;\">\n",
       "<div style=\"width:290px;\">\n",
       "<svg xmlns=\"http://www.w3.org/2000/svg\" viewBox=\"-10 -105 270 120\">\n",
       "<line x1=\"-5\" y1=\"0\" x2=\"255\" y2=\"0\" style=\"fill:none;stroke-width:2;stroke:currentColor\"/>\n",
       "<text text-anchor=\"middle\" x=\"0\" y=\"15\" style=\"fill:currentColor;\">\n",
       "-4\n",
       "</text>\n",
       "<text text-anchor=\"middle\" x=\"250\" y=\"15\" style=\"fill:currentColor;\">\n",
       "4\n",
       "</text>\n",
       "<text text-anchor=\"middle\" x=\"125.0\" y=\"15\" style=\"fill:currentColor;\">\n",
       "xaxis\n",
       "</text>\n",
       "<polyline points=\"  0,0   0,-93.1 2.5,-93.1 2.5,-92.6   5,-92.6   5,-82.9 7.5,-82.9 7.5,-75  10,-75  10,-73 12.5,-73 12.5,-73.7  15,-73.7  15,-69 17.5,-69 17.5,-69.1  20,-69.1  20,-64.5 22.5,-64.5 22.5,-63.4  25,-63.4  25,-62.6 27.5,-62.6 27.5,-54.9  30,-54.9  30,-54.7 32.5,-54.7 32.5,-52.5  35,-52.5  35,-47.9 37.5,-47.9 37.5,-47.1  40,-47.1  40,-44.6 42.5,-44.6 42.5,-40.5  45,-40.5  45,-40.9 47.5,-40.9 47.5,-38.1  50,-38.1  50,-35.5 52.5,-35.5 52.5,-34.1  55,-34.1  55,-31.7 57.5,-31.7 57.5,-30.5  60,-30.5  60,-27.3 62.5,-27.3 62.5,-26.8  65,-26.8  65,-24.7 67.5,-24.7 67.5,-23.1  70,-23.1  70,-22.3 72.5,-22.3 72.5,-19.9  75,-19.9  75,-19.2 77.5,-19.2 77.5,-17.8  80,-17.8  80,-16.2 82.5,-16.2 82.5,-14.8  85,-14.8  85,-14.1 87.5,-14.1 87.5,-12.9  90,-12.9  90,-11.7 92.5,-11.7 92.5,-11  95,-11  95,-10 97.5,-10 97.5,-9.35 100,-9.35 100,-8.8 102.5,-8.8 102.5,-7.91 105,-7.91 105,-7.35 107.5,-7.35 107.5,-6.8 110,-6.8 110,-6.39 112.5,-6.39 112.5,-6.14 115,-6.14 115,-6.11 117.5,-6.11 117.5,-5.61 120,-5.61 120,-5.69 122.5,-5.69 122.5,-5.57 125,-5.57 125,-5.46 127.5,-5.46 127.5,-5.89 130,-5.89 130,-5.62 132.5,-5.62 132.5,-5.79 135,-5.79 135,-6.3 137.5,-6.3 137.5,-6.41 140,-6.41 140,-7.19 142.5,-7.19 142.5,-7.05 145,-7.05 145,-7.94 147.5,-7.94 147.5,-8.65 150,-8.65 150,-9.43 152.5,-9.43 152.5,-9.92 155,-9.92 155,-10.9 157.5,-10.9 157.5,-12 160,-12 160,-12.7 162.5,-12.7 162.5,-14 165,-14 165,-15 167.5,-15 167.5,-15.9 170,-15.9 170,-17.2 172.5,-17.2 172.5,-18.2 175,-18.2 175,-20.1 177.5,-20.1 177.5,-21.9 180,-21.9 180,-23.5 182.5,-23.5 182.5,-24.8 185,-24.8 185,-26.9 187.5,-26.9 187.5,-28.3 190,-28.3 190,-29.9 192.5,-29.9 192.5,-31.3 195,-31.3 195,-33.7 197.5,-33.7 197.5,-35 200,-35 200,-38.5 202.5,-38.5 202.5,-39.5 205,-39.5 205,-41.2 207.5,-41.2 207.5,-44.6 210,-44.6 210,-49.2 212.5,-49.2 212.5,-48 215,-48 215,-51.1 217.5,-51.1 217.5,-52.2 220,-52.2 220,-56.1 222.5,-56.1 222.5,-60.5 225,-60.5 225,-60.7 227.5,-60.7 227.5,-69.1 230,-69.1 230,-66.5 232.5,-66.5 232.5,-67.6 235,-67.6 235,-90.2 237.5,-90.2 237.5,-72.6 240,-72.6 240,-79.9 242.5,-79.9 242.5,-81.7 245,-81.7 245,-0 247.5,-0 247.5,-100 250,-100 250,0\" style=\"fill:none; stroke:currentColor;\"/>\n",
       "</svg>\n",
       "</div>\n",
       "<div style=\"flex=grow:1;\">\n",
       "Regular(100, -4, 4, name='xaxis')<br/>\n",
       "<hr style=\"margin-top:.2em; margin-bottom:.2em;\"/>\n",
       "WeightedMean() Σ=WeightedMean(sum_of_weights=74993, sum_of_weights_squared=74993, value=2.00684, variance=1.97228) <em>(WeightedMean(sum_of_weights=74998, sum_of_weights_squared=74998, value=2.0079, variance=1.989) with flow)</em>\n",
       "\n",
       "</div>\n",
       "</div>\n",
       "</html>"
      ],
      "text/plain": [
       "Hist(Regular(100, -4, 4, name='xaxis'), storage=WeightedMean()) # Sum: WeightedMean(sum_of_weights=74993, sum_of_weights_squared=74993, value=2.00684, variance=1.97228) (WeightedMean(sum_of_weights=74998, sum_of_weights_squared=74998, value=2.0079, variance=1.989) with flow)"
      ]
     },
     "execution_count": 73,
     "metadata": {},
     "output_type": "execute_result"
    }
   ],
   "source": [
    "hist4 = directory[\"hprof\"].to_hist()\n",
    "hist4"
   ]
  },
  {
   "cell_type": "code",
   "execution_count": 74,
   "id": "4768ee4e-b354-4011-9020-93e07a7133dc",
   "metadata": {},
   "outputs": [
    {
     "data": {
      "text/plain": [
       "Histogram(Regular(100, -4, 4), storage=WeightedMean()) # Sum: WeightedMean(sum_of_weights=74993, sum_of_weights_squared=74993, value=2.00684, variance=1.97228) (WeightedMean(sum_of_weights=74998, sum_of_weights_squared=74998, value=2.0079, variance=1.989) with flow)"
      ]
     },
     "execution_count": 74,
     "metadata": {},
     "output_type": "execute_result"
    }
   ],
   "source": [
    "hist5 = directory[\"hprof\"].to_boost()\n",
    "hist5"
   ]
  },
  {
   "cell_type": "markdown",
   "id": "54cf81b8-bf20-4ffb-9f24-eb9894f9f3a7",
   "metadata": {},
   "source": [
    "### TTrees : General"
   ]
  },
  {
   "cell_type": "code",
   "execution_count": 75,
   "id": "cfbe9665-375e-498a-822f-b5433081ad2f",
   "metadata": {},
   "outputs": [
    {
     "data": {
      "text/plain": [
       "{'events': 'TTree'}"
      ]
     },
     "execution_count": 75,
     "metadata": {},
     "output_type": "execute_result"
    }
   ],
   "source": [
    "directory = ur.open(\"2022-08-01-uproot-awkward-columnar-hats/data/Zmumu.root\")\n",
    "directory.classnames(cycle= False)"
   ]
  },
  {
   "cell_type": "code",
   "execution_count": 76,
   "id": "87633227-a89c-45b1-826c-d18b20ca1956",
   "metadata": {},
   "outputs": [
    {
     "data": {
      "text/plain": [
       "<TTree 'events' (20 branches) at 0x7f5380946800>"
      ]
     },
     "execution_count": 76,
     "metadata": {},
     "output_type": "execute_result"
    }
   ],
   "source": [
    "uptree = directory[\"events\"]\n",
    "uptree"
   ]
  },
  {
   "cell_type": "code",
   "execution_count": 77,
   "id": "56fbdecb-68f8-41e8-9907-f5d5feb39818",
   "metadata": {},
   "outputs": [
    {
     "data": {
      "text/plain": [
       "['Type',\n",
       " 'Run',\n",
       " 'Event',\n",
       " 'E1',\n",
       " 'px1',\n",
       " 'py1',\n",
       " 'pz1',\n",
       " 'pt1',\n",
       " 'eta1',\n",
       " 'phi1',\n",
       " 'Q1',\n",
       " 'E2',\n",
       " 'px2',\n",
       " 'py2',\n",
       " 'pz2',\n",
       " 'pt2',\n",
       " 'eta2',\n",
       " 'phi2',\n",
       " 'Q2',\n",
       " 'M']"
      ]
     },
     "execution_count": 77,
     "metadata": {},
     "output_type": "execute_result"
    }
   ],
   "source": [
    "uptree.keys()"
   ]
  },
  {
   "cell_type": "code",
   "execution_count": 78,
   "id": "fa4d1493-786a-46a8-9769-655e6707062f",
   "metadata": {},
   "outputs": [
    {
     "data": {
      "text/plain": [
       "[<TBranch 'Type' at 0x7f53806b77c0>,\n",
       " <TBranch 'Run' at 0x7f53806b43d0>,\n",
       " <TBranch 'Event' at 0x7f53806b6290>,\n",
       " <TBranch 'E1' at 0x7f53806b5b70>,\n",
       " <TBranch 'px1' at 0x7f538059fa60>,\n",
       " <TBranch 'py1' at 0x7f538059c040>,\n",
       " <TBranch 'pz1' at 0x7f538059ca00>,\n",
       " <TBranch 'pt1' at 0x7f538059d120>,\n",
       " <TBranch 'eta1' at 0x7f538059d840>,\n",
       " <TBranch 'phi1' at 0x7f538059df60>,\n",
       " <TBranch 'Q1' at 0x7f538059e680>,\n",
       " <TBranch 'E2' at 0x7f538059eda0>,\n",
       " <TBranch 'px2' at 0x7f538059f7f0>,\n",
       " <TBranch 'py2' at 0x7f53806c2a40>,\n",
       " <TBranch 'pz2' at 0x7f53806c0340>,\n",
       " <TBranch 'pt2' at 0x7f53806c3010>,\n",
       " <TBranch 'eta2' at 0x7f53806c3700>,\n",
       " <TBranch 'phi2' at 0x7f53806c3e50>,\n",
       " <TBranch 'Q2' at 0x7f53806c24a0>,\n",
       " <TBranch 'M' at 0x7f53806c1d80>]"
      ]
     },
     "execution_count": 78,
     "metadata": {},
     "output_type": "execute_result"
    }
   ],
   "source": [
    "uptree.values()"
   ]
  },
  {
   "cell_type": "code",
   "execution_count": 79,
   "id": "96d84d08-1367-4b4f-bb05-14df98e41583",
   "metadata": {},
   "outputs": [
    {
     "data": {
      "text/plain": [
       "<TBranch 'px1' at 0x7f538059fa60>"
      ]
     },
     "execution_count": 79,
     "metadata": {},
     "output_type": "execute_result"
    }
   ],
   "source": [
    "uptree[\"px1\"]"
   ]
  },
  {
   "cell_type": "code",
   "execution_count": 80,
   "id": "95a251ec-9dcc-4687-abbf-5cee7df54114",
   "metadata": {},
   "outputs": [
    {
     "name": "stdout",
     "output_type": "stream",
     "text": [
      "name                 | typename                 | interpretation                \n",
      "---------------------+--------------------------+-------------------------------\n",
      "Type                 | char*                    | AsStrings()\n",
      "Run                  | int32_t                  | AsDtype('>i4')\n",
      "Event                | int32_t                  | AsDtype('>i4')\n",
      "E1                   | double                   | AsDtype('>f8')\n",
      "px1                  | double                   | AsDtype('>f8')\n",
      "py1                  | double                   | AsDtype('>f8')\n",
      "pz1                  | double                   | AsDtype('>f8')\n",
      "pt1                  | double                   | AsDtype('>f8')\n",
      "eta1                 | double                   | AsDtype('>f8')\n",
      "phi1                 | double                   | AsDtype('>f8')\n",
      "Q1                   | int32_t                  | AsDtype('>i4')\n",
      "E2                   | double                   | AsDtype('>f8')\n",
      "px2                  | double                   | AsDtype('>f8')\n",
      "py2                  | double                   | AsDtype('>f8')\n",
      "pz2                  | double                   | AsDtype('>f8')\n",
      "pt2                  | double                   | AsDtype('>f8')\n",
      "eta2                 | double                   | AsDtype('>f8')\n",
      "phi2                 | double                   | AsDtype('>f8')\n",
      "Q2                   | int32_t                  | AsDtype('>i4')\n",
      "M                    | double                   | AsDtype('>f8')\n"
     ]
    }
   ],
   "source": [
    "uptree.show()"
   ]
  },
  {
   "cell_type": "code",
   "execution_count": 81,
   "id": "3e17afef-6bdf-4086-a138-53fb51f433d8",
   "metadata": {},
   "outputs": [
    {
     "data": {
      "text/plain": [
       "10011"
      ]
     },
     "execution_count": 81,
     "metadata": {},
     "output_type": "execute_result"
    }
   ],
   "source": [
    "uptree.num_bytes"
   ]
  },
  {
   "cell_type": "code",
   "execution_count": 82,
   "id": "73614b68-706e-4260-8552-7a9ab7e4035d",
   "metadata": {},
   "outputs": [
    {
     "data": {
      "text/plain": [
       "{'Type': 'char*',\n",
       " 'Run': 'int32_t',\n",
       " 'Event': 'int32_t',\n",
       " 'E1': 'double',\n",
       " 'px1': 'double',\n",
       " 'py1': 'double',\n",
       " 'pz1': 'double',\n",
       " 'pt1': 'double',\n",
       " 'eta1': 'double',\n",
       " 'phi1': 'double',\n",
       " 'Q1': 'int32_t',\n",
       " 'E2': 'double',\n",
       " 'px2': 'double',\n",
       " 'py2': 'double',\n",
       " 'pz2': 'double',\n",
       " 'pt2': 'double',\n",
       " 'eta2': 'double',\n",
       " 'phi2': 'double',\n",
       " 'Q2': 'int32_t',\n",
       " 'M': 'double'}"
      ]
     },
     "execution_count": 82,
     "metadata": {},
     "output_type": "execute_result"
    }
   ],
   "source": [
    "uptree.typenames()"
   ]
  },
  {
   "cell_type": "code",
   "execution_count": 83,
   "id": "d8092132-c6ae-4913-9e81-3194a4446419",
   "metadata": {},
   "outputs": [
    {
     "data": {
      "text/plain": [
       "{'Type': AsStrings(),\n",
       " 'Run': AsDtype('>i4'),\n",
       " 'Event': AsDtype('>i4'),\n",
       " 'E1': AsDtype('>f8'),\n",
       " 'px1': AsDtype('>f8'),\n",
       " 'py1': AsDtype('>f8'),\n",
       " 'pz1': AsDtype('>f8'),\n",
       " 'pt1': AsDtype('>f8'),\n",
       " 'eta1': AsDtype('>f8'),\n",
       " 'phi1': AsDtype('>f8'),\n",
       " 'Q1': AsDtype('>i4'),\n",
       " 'E2': AsDtype('>f8'),\n",
       " 'px2': AsDtype('>f8'),\n",
       " 'py2': AsDtype('>f8'),\n",
       " 'pz2': AsDtype('>f8'),\n",
       " 'pt2': AsDtype('>f8'),\n",
       " 'eta2': AsDtype('>f8'),\n",
       " 'phi2': AsDtype('>f8'),\n",
       " 'Q2': AsDtype('>i4'),\n",
       " 'M': AsDtype('>f8')}"
      ]
     },
     "execution_count": 83,
     "metadata": {},
     "output_type": "execute_result"
    }
   ],
   "source": [
    "{key : value.interpretation for key , value in uptree.items()}"
   ]
  },
  {
   "cell_type": "markdown",
   "id": "a78ca687-710c-48cc-a5c6-20d820db38db",
   "metadata": {},
   "source": [
    "### TTrees : Get one array from one TBranch"
   ]
  },
  {
   "cell_type": "code",
   "execution_count": 84,
   "id": "77bf578f-021b-45ec-a89b-0ee81145ef37",
   "metadata": {},
   "outputs": [
    {
     "name": "stdout",
     "output_type": "stream",
     "text": [
      "name                 | typename                 | interpretation                \n",
      "---------------------+--------------------------+-------------------------------\n",
      "Type                 | char*                    | AsStrings()\n",
      "Run                  | int32_t                  | AsDtype('>i4')\n",
      "Event                | int32_t                  | AsDtype('>i4')\n",
      "E1                   | double                   | AsDtype('>f8')\n",
      "px1                  | double                   | AsDtype('>f8')\n",
      "py1                  | double                   | AsDtype('>f8')\n",
      "pz1                  | double                   | AsDtype('>f8')\n",
      "pt1                  | double                   | AsDtype('>f8')\n",
      "eta1                 | double                   | AsDtype('>f8')\n",
      "phi1                 | double                   | AsDtype('>f8')\n",
      "Q1                   | int32_t                  | AsDtype('>i4')\n",
      "E2                   | double                   | AsDtype('>f8')\n",
      "px2                  | double                   | AsDtype('>f8')\n",
      "py2                  | double                   | AsDtype('>f8')\n",
      "pz2                  | double                   | AsDtype('>f8')\n",
      "pt2                  | double                   | AsDtype('>f8')\n",
      "eta2                 | double                   | AsDtype('>f8')\n",
      "phi2                 | double                   | AsDtype('>f8')\n",
      "Q2                   | int32_t                  | AsDtype('>i4')\n",
      "M                    | double                   | AsDtype('>f8')\n"
     ]
    }
   ],
   "source": [
    "uptree.show()"
   ]
  },
  {
   "cell_type": "code",
   "execution_count": 85,
   "id": "d1c42601-0ee4-4dc6-be4a-570c6cb943c7",
   "metadata": {},
   "outputs": [
    {
     "name": "stdout",
     "output_type": "stream",
     "text": [
      "<class 'uproot.models.TBranch.Model_TBranch_v12'>\n",
      "<TBranch 'M' at 0x7f53806c1d80>\n",
      "Size(in bytes):  467\n"
     ]
    }
   ],
   "source": [
    "A = uptree[\"M\"]\n",
    "print(type(A))\n",
    "print(A)\n",
    "print(\"Size(in bytes): \", A.num_bytes)"
   ]
  },
  {
   "cell_type": "code",
   "execution_count": 86,
   "id": "da87c787-f567-4f1c-a803-399c02af409d",
   "metadata": {},
   "outputs": [
    {
     "name": "stdout",
     "output_type": "stream",
     "text": [
      "<class 'awkward.highlevel.Array'>\n",
      "[82.5, 83.6, 83.3, 82.1, 90.5, 89.8, 89.8, ... 60.1, 60, 60, 96.1, 96, 96.5, 96.7]\n",
      "length :  2304\n"
     ]
    }
   ],
   "source": [
    "a = uptree[\"M\"].array()\n",
    "print(type(a))\n",
    "print(a)\n",
    "print(\"length : \",len(a))"
   ]
  },
  {
   "cell_type": "code",
   "execution_count": 87,
   "id": "7a44f879-8b93-43dd-8ca4-a7ecf45e842b",
   "metadata": {},
   "outputs": [
    {
     "data": {
      "text/plain": [
       "[<matplotlib.lines.Line2D at 0x7f53806b2a10>]"
      ]
     },
     "execution_count": 87,
     "metadata": {},
     "output_type": "execute_result"
    },
    {
     "data": {
      "image/png": "[encoded data removed]",
      "text/plain": [
       "<Figure size 640x480 with 1 Axes>"
      ]
     },
     "metadata": {},
     "output_type": "display_data"
    }
   ],
   "source": [
    "plt.plot(a) # this shows this is indeed an awkward array"
   ]
  },
  {
   "cell_type": "code",
   "execution_count": 88,
   "id": "de6040c0-bb2c-4ada-a13d-4e3ded7c6610",
   "metadata": {},
   "outputs": [
    {
     "data": {
      "text/plain": [
       "<Array [82.5, 83.6, 83.3, 82.1, 90.5] type='5 * float64'>"
      ]
     },
     "execution_count": 88,
     "metadata": {},
     "output_type": "execute_result"
    }
   ],
   "source": [
    "a = uptree[\"M\"].array(entry_stop=5)\n",
    "a"
   ]
  },
  {
   "cell_type": "markdown",
   "id": "c01afd5b-59a0-402e-ae9c-734ee27e1e25",
   "metadata": {},
   "source": [
    "Can turn into numpy and pandas arrays"
   ]
  },
  {
   "cell_type": "code",
   "execution_count": 89,
   "id": "14d9a4b4-b3ff-4f0f-bc52-61a84f7c4cbc",
   "metadata": {},
   "outputs": [
    {
     "data": {
      "text/plain": [
       "array([82.46269156, 83.62620401, 83.30846467, ..., 95.96547966,\n",
       "       96.49594381, 96.65672765])"
      ]
     },
     "execution_count": 89,
     "metadata": {},
     "output_type": "execute_result"
    }
   ],
   "source": [
    "n = uptree[\"M\"].array(library=\"np\") # convert to default\n",
    "n"
   ]
  },
  {
   "cell_type": "code",
   "execution_count": 90,
   "id": "54505afb-ab3c-4f82-b220-76a77fe39711",
   "metadata": {},
   "outputs": [
    {
     "data": {
      "text/plain": [
       "numpy.ndarray"
      ]
     },
     "execution_count": 90,
     "metadata": {},
     "output_type": "execute_result"
    }
   ],
   "source": [
    "type(n)"
   ]
  },
  {
   "cell_type": "code",
   "execution_count": 91,
   "id": "24201469-370b-4b3f-8c22-47bea5c91446",
   "metadata": {},
   "outputs": [
    {
     "data": {
      "text/plain": [
       "<Array [82.5, 83.6, 83.3, ... 96, 96.5, 96.7] type='2304 * float64'>"
      ]
     },
     "execution_count": 91,
     "metadata": {},
     "output_type": "execute_result"
    }
   ],
   "source": [
    "a = uptree[\"M\"].array(library=\"ak\") # awkward array is the default\n",
    "a"
   ]
  },
  {
   "cell_type": "code",
   "execution_count": 92,
   "id": "90394abd-152b-4fc7-ab06-3afb9dea6f1e",
   "metadata": {},
   "outputs": [
    {
     "data": {
      "text/plain": [
       "awkward.highlevel.Array"
      ]
     },
     "execution_count": 92,
     "metadata": {},
     "output_type": "execute_result"
    }
   ],
   "source": [
    "type(a)"
   ]
  },
  {
   "cell_type": "code",
   "execution_count": 93,
   "id": "b76d107b-8966-4dd4-a0eb-95c8abb6a911",
   "metadata": {},
   "outputs": [
    {
     "data": {
      "text/plain": [
       "0       82.462692\n",
       "1       83.626204\n",
       "2       83.308465\n",
       "3       82.149373\n",
       "4       90.469123\n",
       "          ...    \n",
       "2299    60.047138\n",
       "2300    96.125376\n",
       "2301    95.965480\n",
       "2302    96.495944\n",
       "2303    96.656728\n",
       "Length: 2304, dtype: float64"
      ]
     },
     "execution_count": 93,
     "metadata": {},
     "output_type": "execute_result"
    }
   ],
   "source": [
    "p = uptree[\"M\"].array(library=\"pd\") #convert to pandas series\n",
    "p"
   ]
  },
  {
   "cell_type": "code",
   "execution_count": 94,
   "id": "7aadf65c-e3c2-48af-aca6-bb52b280cb1b",
   "metadata": {},
   "outputs": [
    {
     "data": {
      "text/plain": [
       "pandas.core.series.Series"
      ]
     },
     "execution_count": 94,
     "metadata": {},
     "output_type": "execute_result"
    }
   ],
   "source": [
    "type(p)"
   ]
  },
  {
   "cell_type": "markdown",
   "id": "c0f17ef3-c1a4-4a77-8dd8-6bad26a6c846",
   "metadata": {},
   "source": [
    "### Get several TBranches as one array/array group"
   ]
  },
  {
   "cell_type": "markdown",
   "id": "1ce09cd8-217f-4fc7-93b8-a3aed607ca6b",
   "metadata": {},
   "source": [
    "``` Note : For taking multiples inputs, arrays method is used not array ! ```"
   ]
  },
  {
   "cell_type": "code",
   "execution_count": 95,
   "id": "5d3760d9-a313-4a65-ac41-4879ab92b8d2",
   "metadata": {},
   "outputs": [
    {
     "name": "stdout",
     "output_type": "stream",
     "text": [
      "name                 | typename                 | interpretation                \n",
      "---------------------+--------------------------+-------------------------------\n",
      "Type                 | char*                    | AsStrings()\n",
      "Run                  | int32_t                  | AsDtype('>i4')\n",
      "Event                | int32_t                  | AsDtype('>i4')\n",
      "E1                   | double                   | AsDtype('>f8')\n",
      "px1                  | double                   | AsDtype('>f8')\n",
      "py1                  | double                   | AsDtype('>f8')\n",
      "pz1                  | double                   | AsDtype('>f8')\n",
      "pt1                  | double                   | AsDtype('>f8')\n",
      "eta1                 | double                   | AsDtype('>f8')\n",
      "phi1                 | double                   | AsDtype('>f8')\n",
      "Q1                   | int32_t                  | AsDtype('>i4')\n",
      "E2                   | double                   | AsDtype('>f8')\n",
      "px2                  | double                   | AsDtype('>f8')\n",
      "py2                  | double                   | AsDtype('>f8')\n",
      "pz2                  | double                   | AsDtype('>f8')\n",
      "pt2                  | double                   | AsDtype('>f8')\n",
      "eta2                 | double                   | AsDtype('>f8')\n",
      "phi2                 | double                   | AsDtype('>f8')\n",
      "Q2                   | int32_t                  | AsDtype('>i4')\n",
      "M                    | double                   | AsDtype('>f8')\n"
     ]
    }
   ],
   "source": [
    "uptree.show()"
   ]
  },
  {
   "cell_type": "code",
   "execution_count": 96,
   "id": "5758a819-e018-4aca-b027-0cd7090f5cb6",
   "metadata": {},
   "outputs": [
    {
     "data": {
      "text/plain": [
       "<Array [{Type: 'GT', Run: 148031, ... M: 96.7}] type='2304 * {\"Type\": string, \"R...'>"
      ]
     },
     "execution_count": 96,
     "metadata": {},
     "output_type": "execute_result"
    }
   ],
   "source": [
    "mu1 = uptree.arrays() # by default an awkward record type\n",
    "mu1"
   ]
  },
  {
   "cell_type": "code",
   "execution_count": 97,
   "id": "650859bd-2e8c-43b4-a8c7-d87fbb3ad65f",
   "metadata": {},
   "outputs": [
    {
     "data": {
      "text/plain": [
       "awkward.highlevel.Array"
      ]
     },
     "execution_count": 97,
     "metadata": {},
     "output_type": "execute_result"
    }
   ],
   "source": [
    "type(mu1)"
   ]
  },
  {
   "cell_type": "code",
   "execution_count": 98,
   "id": "104d9924-45ff-4175-8efb-9dd3e48fe49f",
   "metadata": {},
   "outputs": [
    {
     "data": {
      "text/plain": [
       "['Type',\n",
       " 'Run',\n",
       " 'Event',\n",
       " 'E1',\n",
       " 'px1',\n",
       " 'py1',\n",
       " 'pz1',\n",
       " 'pt1',\n",
       " 'eta1',\n",
       " 'phi1',\n",
       " 'Q1',\n",
       " 'E2',\n",
       " 'px2',\n",
       " 'py2',\n",
       " 'pz2',\n",
       " 'pt2',\n",
       " 'eta2',\n",
       " 'phi2',\n",
       " 'Q2',\n",
       " 'M']"
      ]
     },
     "execution_count": 98,
     "metadata": {},
     "output_type": "execute_result"
    }
   ],
   "source": [
    "mu1.fields"
   ]
  },
  {
   "cell_type": "code",
   "execution_count": 99,
   "id": "1f9cef11-c2fa-4938-b94c-737c0c973224",
   "metadata": {},
   "outputs": [
    {
     "data": {
      "text/plain": [
       "['E1', 'px1', 'py1', 'pz1', 'eta1', 'phi1', 'Q1']"
      ]
     },
     "execution_count": 99,
     "metadata": {},
     "output_type": "execute_result"
    }
   ],
   "source": [
    "#Can also be specific\n",
    "mu1 = uptree.arrays([\"E1\",\"px1\",\"py1\",\"pz1\",\"eta1\",\"phi1\",\"Q1\"])\n",
    "mu1.fields"
   ]
  },
  {
   "cell_type": "code",
   "execution_count": 100,
   "id": "c9ef7e6c-be9a-45f8-89a9-b8ab76cd21b9",
   "metadata": {},
   "outputs": [
    {
     "data": {
      "text/plain": [
       "{'E1': array([82.20186639, 62.34492895, 62.34492895, ..., 81.27013558,\n",
       "        81.27013558, 81.56621735]),\n",
       " 'px1': array([-41.19528764,  35.11804977,  35.11804977, ...,  32.37749196,\n",
       "         32.37749196,  32.48539387]),\n",
       " 'py1': array([ 17.4332439 , -16.57036233, -16.57036233, ...,   1.19940578,\n",
       "          1.19940578,   1.2013503 ]),\n",
       " 'pz1': array([-68.96496181, -48.77524654, -48.77524654, ..., -74.53243061,\n",
       "        -74.53243061, -74.80837247]),\n",
       " 'eta1': array([-1.21769, -1.05139, -1.05139, ..., -1.57044, -1.57044, -1.57044]),\n",
       " 'phi1': array([ 2.74126  , -0.440873 , -0.440873 , ...,  0.0370275,  0.0370275,\n",
       "         0.0370275]),\n",
       " 'Q1': array([ 1, -1, -1, ...,  1,  1,  1], dtype=int32)}"
      ]
     },
     "execution_count": 100,
     "metadata": {},
     "output_type": "execute_result"
    }
   ],
   "source": [
    "mu1 = uptree.arrays([\"E1\",\"px1\",\"py1\",\"pz1\",\"eta1\",\"phi1\",\"Q1\"],library = \"numpy\") #loads as a dictionary\n",
    "mu1"
   ]
  },
  {
   "cell_type": "code",
   "execution_count": 101,
   "id": "deeb12bd-42ba-4eba-8565-021a59ef7a59",
   "metadata": {},
   "outputs": [
    {
     "data": {
      "text/html": [
       "<div>\n",
       "<style scoped>\n",
       "    .dataframe tbody tr th:only-of-type {\n",
       "        vertical-align: middle;\n",
       "    }\n",
       "\n",
       "    .dataframe tbody tr th {\n",
       "        vertical-align: top;\n",
       "    }\n",
       "\n",
       "    .dataframe thead th {\n",
       "        text-align: right;\n",
       "    }\n",
       "</style>\n",
       "<table border=\"1\" class=\"dataframe\">\n",
       "  <thead>\n",
       "    <tr style=\"text-align: right;\">\n",
       "      <th></th>\n",
       "      <th>E1</th>\n",
       "      <th>px1</th>\n",
       "      <th>py1</th>\n",
       "      <th>pz1</th>\n",
       "      <th>eta1</th>\n",
       "      <th>phi1</th>\n",
       "      <th>Q1</th>\n",
       "    </tr>\n",
       "  </thead>\n",
       "  <tbody>\n",
       "    <tr>\n",
       "      <th>0</th>\n",
       "      <td>82.201866</td>\n",
       "      <td>-41.195288</td>\n",
       "      <td>17.433244</td>\n",
       "      <td>-68.964962</td>\n",
       "      <td>-1.217690</td>\n",
       "      <td>2.741260</td>\n",
       "      <td>1</td>\n",
       "    </tr>\n",
       "    <tr>\n",
       "      <th>1</th>\n",
       "      <td>62.344929</td>\n",
       "      <td>35.118050</td>\n",
       "      <td>-16.570362</td>\n",
       "      <td>-48.775247</td>\n",
       "      <td>-1.051390</td>\n",
       "      <td>-0.440873</td>\n",
       "      <td>-1</td>\n",
       "    </tr>\n",
       "    <tr>\n",
       "      <th>2</th>\n",
       "      <td>62.344929</td>\n",
       "      <td>35.118050</td>\n",
       "      <td>-16.570362</td>\n",
       "      <td>-48.775247</td>\n",
       "      <td>-1.051390</td>\n",
       "      <td>-0.440873</td>\n",
       "      <td>-1</td>\n",
       "    </tr>\n",
       "    <tr>\n",
       "      <th>3</th>\n",
       "      <td>60.621875</td>\n",
       "      <td>34.144437</td>\n",
       "      <td>-16.119525</td>\n",
       "      <td>-47.426984</td>\n",
       "      <td>-1.051390</td>\n",
       "      <td>-0.440873</td>\n",
       "      <td>-1</td>\n",
       "    </tr>\n",
       "    <tr>\n",
       "      <th>4</th>\n",
       "      <td>41.826389</td>\n",
       "      <td>22.783582</td>\n",
       "      <td>15.036444</td>\n",
       "      <td>-31.689894</td>\n",
       "      <td>-0.990688</td>\n",
       "      <td>0.583351</td>\n",
       "      <td>1</td>\n",
       "    </tr>\n",
       "    <tr>\n",
       "      <th>...</th>\n",
       "      <td>...</td>\n",
       "      <td>...</td>\n",
       "      <td>...</td>\n",
       "      <td>...</td>\n",
       "      <td>...</td>\n",
       "      <td>...</td>\n",
       "      <td>...</td>\n",
       "    </tr>\n",
       "    <tr>\n",
       "      <th>2299</th>\n",
       "      <td>32.701650</td>\n",
       "      <td>19.054651</td>\n",
       "      <td>14.833954</td>\n",
       "      <td>22.051323</td>\n",
       "      <td>0.818806</td>\n",
       "      <td>0.661492</td>\n",
       "      <td>1</td>\n",
       "    </tr>\n",
       "    <tr>\n",
       "      <th>2300</th>\n",
       "      <td>168.780121</td>\n",
       "      <td>-68.041915</td>\n",
       "      <td>-26.105847</td>\n",
       "      <td>-152.235018</td>\n",
       "      <td>-1.482700</td>\n",
       "      <td>-2.775240</td>\n",
       "      <td>-1</td>\n",
       "    </tr>\n",
       "    <tr>\n",
       "      <th>2301</th>\n",
       "      <td>81.270136</td>\n",
       "      <td>32.377492</td>\n",
       "      <td>1.199406</td>\n",
       "      <td>-74.532431</td>\n",
       "      <td>-1.570440</td>\n",
       "      <td>0.037027</td>\n",
       "      <td>1</td>\n",
       "    </tr>\n",
       "    <tr>\n",
       "      <th>2302</th>\n",
       "      <td>81.270136</td>\n",
       "      <td>32.377492</td>\n",
       "      <td>1.199406</td>\n",
       "      <td>-74.532431</td>\n",
       "      <td>-1.570440</td>\n",
       "      <td>0.037027</td>\n",
       "      <td>1</td>\n",
       "    </tr>\n",
       "    <tr>\n",
       "      <th>2303</th>\n",
       "      <td>81.566217</td>\n",
       "      <td>32.485394</td>\n",
       "      <td>1.201350</td>\n",
       "      <td>-74.808372</td>\n",
       "      <td>-1.570440</td>\n",
       "      <td>0.037027</td>\n",
       "      <td>1</td>\n",
       "    </tr>\n",
       "  </tbody>\n",
       "</table>\n",
       "<p>2304 rows × 7 columns</p>\n",
       "</div>"
      ],
      "text/plain": [
       "              E1        px1        py1         pz1      eta1      phi1  Q1\n",
       "0      82.201866 -41.195288  17.433244  -68.964962 -1.217690  2.741260   1\n",
       "1      62.344929  35.118050 -16.570362  -48.775247 -1.051390 -0.440873  -1\n",
       "2      62.344929  35.118050 -16.570362  -48.775247 -1.051390 -0.440873  -1\n",
       "3      60.621875  34.144437 -16.119525  -47.426984 -1.051390 -0.440873  -1\n",
       "4      41.826389  22.783582  15.036444  -31.689894 -0.990688  0.583351   1\n",
       "...          ...        ...        ...         ...       ...       ...  ..\n",
       "2299   32.701650  19.054651  14.833954   22.051323  0.818806  0.661492   1\n",
       "2300  168.780121 -68.041915 -26.105847 -152.235018 -1.482700 -2.775240  -1\n",
       "2301   81.270136  32.377492   1.199406  -74.532431 -1.570440  0.037027   1\n",
       "2302   81.270136  32.377492   1.199406  -74.532431 -1.570440  0.037027   1\n",
       "2303   81.566217  32.485394   1.201350  -74.808372 -1.570440  0.037027   1\n",
       "\n",
       "[2304 rows x 7 columns]"
      ]
     },
     "execution_count": 101,
     "metadata": {},
     "output_type": "execute_result"
    }
   ],
   "source": [
    "mu1 = uptree.arrays([\"E1\",\"px1\",\"py1\",\"pz1\",\"eta1\",\"phi1\",\"Q1\"], library = \"pandas\") #loads as d pandas dataframe\n",
    "mu1"
   ]
  },
  {
   "cell_type": "code",
   "execution_count": 102,
   "id": "d69ebe78-30c8-41b3-98db-fdd19f9e1145",
   "metadata": {},
   "outputs": [
    {
     "data": {
      "text/html": [
       "<div>\n",
       "<style scoped>\n",
       "    .dataframe tbody tr th:only-of-type {\n",
       "        vertical-align: middle;\n",
       "    }\n",
       "\n",
       "    .dataframe tbody tr th {\n",
       "        vertical-align: top;\n",
       "    }\n",
       "\n",
       "    .dataframe thead th {\n",
       "        text-align: right;\n",
       "    }\n",
       "</style>\n",
       "<table border=\"1\" class=\"dataframe\">\n",
       "  <thead>\n",
       "    <tr style=\"text-align: right;\">\n",
       "      <th></th>\n",
       "      <th>sqrt(px1**2 + py1**2)</th>\n",
       "      <th>sqrt(px2**2 + py2**2)</th>\n",
       "    </tr>\n",
       "  </thead>\n",
       "  <tbody>\n",
       "    <tr>\n",
       "      <th>0</th>\n",
       "      <td>44.7322</td>\n",
       "      <td>37.7582</td>\n",
       "    </tr>\n",
       "    <tr>\n",
       "      <th>1</th>\n",
       "      <td>38.8311</td>\n",
       "      <td>44.7322</td>\n",
       "    </tr>\n",
       "    <tr>\n",
       "      <th>2</th>\n",
       "      <td>38.8311</td>\n",
       "      <td>44.3927</td>\n",
       "    </tr>\n",
       "    <tr>\n",
       "      <th>3</th>\n",
       "      <td>37.7582</td>\n",
       "      <td>44.3927</td>\n",
       "    </tr>\n",
       "    <tr>\n",
       "      <th>4</th>\n",
       "      <td>27.2981</td>\n",
       "      <td>22.2402</td>\n",
       "    </tr>\n",
       "    <tr>\n",
       "      <th>...</th>\n",
       "      <td>...</td>\n",
       "      <td>...</td>\n",
       "    </tr>\n",
       "    <tr>\n",
       "      <th>2299</th>\n",
       "      <td>24.1480</td>\n",
       "      <td>22.7909</td>\n",
       "    </tr>\n",
       "    <tr>\n",
       "      <th>2300</th>\n",
       "      <td>72.8781</td>\n",
       "      <td>32.5076</td>\n",
       "    </tr>\n",
       "    <tr>\n",
       "      <th>2301</th>\n",
       "      <td>32.3997</td>\n",
       "      <td>72.8781</td>\n",
       "    </tr>\n",
       "    <tr>\n",
       "      <th>2302</th>\n",
       "      <td>32.3997</td>\n",
       "      <td>73.6852</td>\n",
       "    </tr>\n",
       "    <tr>\n",
       "      <th>2303</th>\n",
       "      <td>32.5076</td>\n",
       "      <td>73.6852</td>\n",
       "    </tr>\n",
       "  </tbody>\n",
       "</table>\n",
       "<p>2304 rows × 2 columns</p>\n",
       "</div>"
      ],
      "text/plain": [
       "      sqrt(px1**2 + py1**2)  sqrt(px2**2 + py2**2)\n",
       "0                   44.7322                37.7582\n",
       "1                   38.8311                44.7322\n",
       "2                   38.8311                44.3927\n",
       "3                   37.7582                44.3927\n",
       "4                   27.2981                22.2402\n",
       "...                     ...                    ...\n",
       "2299                24.1480                22.7909\n",
       "2300                72.8781                32.5076\n",
       "2301                32.3997                72.8781\n",
       "2302                32.3997                73.6852\n",
       "2303                32.5076                73.6852\n",
       "\n",
       "[2304 rows x 2 columns]"
      ]
     },
     "execution_count": 102,
     "metadata": {},
     "output_type": "execute_result"
    }
   ],
   "source": [
    "# computed columns\n",
    "uptree.arrays([\"sqrt(px1**2 + py1**2)\", \"sqrt(px2**2 + py2**2)\"], library=\"pd\")"
   ]
  },
  {
   "cell_type": "code",
   "execution_count": 103,
   "id": "805329a1-4ead-47dd-a2a4-181464475751",
   "metadata": {},
   "outputs": [
    {
     "data": {
      "text/html": [
       "<div>\n",
       "<style scoped>\n",
       "    .dataframe tbody tr th:only-of-type {\n",
       "        vertical-align: middle;\n",
       "    }\n",
       "\n",
       "    .dataframe tbody tr th {\n",
       "        vertical-align: top;\n",
       "    }\n",
       "\n",
       "    .dataframe thead th {\n",
       "        text-align: right;\n",
       "    }\n",
       "</style>\n",
       "<table border=\"1\" class=\"dataframe\">\n",
       "  <thead>\n",
       "    <tr style=\"text-align: right;\">\n",
       "      <th></th>\n",
       "      <th>pt1</th>\n",
       "      <th>pt2</th>\n",
       "    </tr>\n",
       "  </thead>\n",
       "  <tbody>\n",
       "    <tr>\n",
       "      <th>0</th>\n",
       "      <td>44.7322</td>\n",
       "      <td>38.8311</td>\n",
       "    </tr>\n",
       "    <tr>\n",
       "      <th>1</th>\n",
       "      <td>38.8311</td>\n",
       "      <td>44.7322</td>\n",
       "    </tr>\n",
       "    <tr>\n",
       "      <th>2</th>\n",
       "      <td>38.8311</td>\n",
       "      <td>44.7322</td>\n",
       "    </tr>\n",
       "    <tr>\n",
       "      <th>3</th>\n",
       "      <td>38.8311</td>\n",
       "      <td>44.7322</td>\n",
       "    </tr>\n",
       "    <tr>\n",
       "      <th>4</th>\n",
       "      <td>27.2981</td>\n",
       "      <td>21.8913</td>\n",
       "    </tr>\n",
       "    <tr>\n",
       "      <th>...</th>\n",
       "      <td>...</td>\n",
       "      <td>...</td>\n",
       "    </tr>\n",
       "    <tr>\n",
       "      <th>2299</th>\n",
       "      <td>24.1264</td>\n",
       "      <td>22.8145</td>\n",
       "    </tr>\n",
       "    <tr>\n",
       "      <th>2300</th>\n",
       "      <td>72.8781</td>\n",
       "      <td>32.3997</td>\n",
       "    </tr>\n",
       "    <tr>\n",
       "      <th>2301</th>\n",
       "      <td>32.3997</td>\n",
       "      <td>72.8781</td>\n",
       "    </tr>\n",
       "    <tr>\n",
       "      <th>2302</th>\n",
       "      <td>32.3997</td>\n",
       "      <td>72.8781</td>\n",
       "    </tr>\n",
       "    <tr>\n",
       "      <th>2303</th>\n",
       "      <td>32.3997</td>\n",
       "      <td>72.8781</td>\n",
       "    </tr>\n",
       "  </tbody>\n",
       "</table>\n",
       "<p>2304 rows × 2 columns</p>\n",
       "</div>"
      ],
      "text/plain": [
       "          pt1      pt2\n",
       "0     44.7322  38.8311\n",
       "1     38.8311  44.7322\n",
       "2     38.8311  44.7322\n",
       "3     38.8311  44.7322\n",
       "4     27.2981  21.8913\n",
       "...       ...      ...\n",
       "2299  24.1264  22.8145\n",
       "2300  72.8781  32.3997\n",
       "2301  32.3997  72.8781\n",
       "2302  32.3997  72.8781\n",
       "2303  32.3997  72.8781\n",
       "\n",
       "[2304 rows x 2 columns]"
      ]
     },
     "execution_count": 103,
     "metadata": {},
     "output_type": "execute_result"
    }
   ],
   "source": [
    "#can also assign aliases\n",
    "uptree.arrays([\"pt1\",\"pt2\"],{\"pt1\":\"sqrt(px1**2 + py1**2)\", \"pt2\":\"sqrt(px2**2 + py2**2)\"}, library=\"pd\")"
   ]
  },
  {
   "cell_type": "markdown",
   "id": "6405a3a8-ccf9-4195-8272-4b1038a9cb93",
   "metadata": {},
   "source": [
    "filter_name is used for expression control"
   ]
  },
  {
   "cell_type": "code",
   "execution_count": 104,
   "id": "c7c7b0bc-5e2a-425c-b463-96d485b8610f",
   "metadata": {},
   "outputs": [
    {
     "data": {
      "text/html": [
       "<div>\n",
       "<style scoped>\n",
       "    .dataframe tbody tr th:only-of-type {\n",
       "        vertical-align: middle;\n",
       "    }\n",
       "\n",
       "    .dataframe tbody tr th {\n",
       "        vertical-align: top;\n",
       "    }\n",
       "\n",
       "    .dataframe thead th {\n",
       "        text-align: right;\n",
       "    }\n",
       "</style>\n",
       "<table border=\"1\" class=\"dataframe\">\n",
       "  <thead>\n",
       "    <tr style=\"text-align: right;\">\n",
       "      <th></th>\n",
       "      <th>px1</th>\n",
       "      <th>py1</th>\n",
       "      <th>pz1</th>\n",
       "      <th>px2</th>\n",
       "      <th>py2</th>\n",
       "      <th>pz2</th>\n",
       "    </tr>\n",
       "  </thead>\n",
       "  <tbody>\n",
       "    <tr>\n",
       "      <th>0</th>\n",
       "      <td>-41.195288</td>\n",
       "      <td>17.433244</td>\n",
       "      <td>-68.964962</td>\n",
       "      <td>34.144437</td>\n",
       "      <td>-16.119525</td>\n",
       "      <td>-47.426984</td>\n",
       "    </tr>\n",
       "    <tr>\n",
       "      <th>1</th>\n",
       "      <td>35.118050</td>\n",
       "      <td>-16.570362</td>\n",
       "      <td>-48.775247</td>\n",
       "      <td>-41.195288</td>\n",
       "      <td>17.433244</td>\n",
       "      <td>-68.964962</td>\n",
       "    </tr>\n",
       "    <tr>\n",
       "      <th>2</th>\n",
       "      <td>35.118050</td>\n",
       "      <td>-16.570362</td>\n",
       "      <td>-48.775247</td>\n",
       "      <td>-40.883323</td>\n",
       "      <td>17.299297</td>\n",
       "      <td>-68.447255</td>\n",
       "    </tr>\n",
       "    <tr>\n",
       "      <th>3</th>\n",
       "      <td>34.144437</td>\n",
       "      <td>-16.119525</td>\n",
       "      <td>-47.426984</td>\n",
       "      <td>-40.883323</td>\n",
       "      <td>17.299297</td>\n",
       "      <td>-68.447255</td>\n",
       "    </tr>\n",
       "    <tr>\n",
       "      <th>4</th>\n",
       "      <td>22.783582</td>\n",
       "      <td>15.036444</td>\n",
       "      <td>-31.689894</td>\n",
       "      <td>-20.177373</td>\n",
       "      <td>-9.354149</td>\n",
       "      <td>44.513955</td>\n",
       "    </tr>\n",
       "    <tr>\n",
       "      <th>...</th>\n",
       "      <td>...</td>\n",
       "      <td>...</td>\n",
       "      <td>...</td>\n",
       "      <td>...</td>\n",
       "      <td>...</td>\n",
       "      <td>...</td>\n",
       "    </tr>\n",
       "    <tr>\n",
       "      <th>2299</th>\n",
       "      <td>19.054651</td>\n",
       "      <td>14.833954</td>\n",
       "      <td>22.051323</td>\n",
       "      <td>-16.874052</td>\n",
       "      <td>-15.319644</td>\n",
       "      <td>-15.768964</td>\n",
       "    </tr>\n",
       "    <tr>\n",
       "      <th>2300</th>\n",
       "      <td>-68.041915</td>\n",
       "      <td>-26.105847</td>\n",
       "      <td>-152.235018</td>\n",
       "      <td>32.485394</td>\n",
       "      <td>1.201350</td>\n",
       "      <td>-74.808372</td>\n",
       "    </tr>\n",
       "    <tr>\n",
       "      <th>2301</th>\n",
       "      <td>32.377492</td>\n",
       "      <td>1.199406</td>\n",
       "      <td>-74.532431</td>\n",
       "      <td>-68.041915</td>\n",
       "      <td>-26.105847</td>\n",
       "      <td>-152.235018</td>\n",
       "    </tr>\n",
       "    <tr>\n",
       "      <th>2302</th>\n",
       "      <td>32.377492</td>\n",
       "      <td>1.199406</td>\n",
       "      <td>-74.532431</td>\n",
       "      <td>-68.794136</td>\n",
       "      <td>-26.398400</td>\n",
       "      <td>-153.847604</td>\n",
       "    </tr>\n",
       "    <tr>\n",
       "      <th>2303</th>\n",
       "      <td>32.485394</td>\n",
       "      <td>1.201350</td>\n",
       "      <td>-74.808372</td>\n",
       "      <td>-68.794136</td>\n",
       "      <td>-26.398400</td>\n",
       "      <td>-153.847604</td>\n",
       "    </tr>\n",
       "  </tbody>\n",
       "</table>\n",
       "<p>2304 rows × 6 columns</p>\n",
       "</div>"
      ],
      "text/plain": [
       "            px1        py1         pz1        px2        py2         pz2\n",
       "0    -41.195288  17.433244  -68.964962  34.144437 -16.119525  -47.426984\n",
       "1     35.118050 -16.570362  -48.775247 -41.195288  17.433244  -68.964962\n",
       "2     35.118050 -16.570362  -48.775247 -40.883323  17.299297  -68.447255\n",
       "3     34.144437 -16.119525  -47.426984 -40.883323  17.299297  -68.447255\n",
       "4     22.783582  15.036444  -31.689894 -20.177373  -9.354149   44.513955\n",
       "...         ...        ...         ...        ...        ...         ...\n",
       "2299  19.054651  14.833954   22.051323 -16.874052 -15.319644  -15.768964\n",
       "2300 -68.041915 -26.105847 -152.235018  32.485394   1.201350  -74.808372\n",
       "2301  32.377492   1.199406  -74.532431 -68.041915 -26.105847 -152.235018\n",
       "2302  32.377492   1.199406  -74.532431 -68.794136 -26.398400 -153.847604\n",
       "2303  32.485394   1.201350  -74.808372 -68.794136 -26.398400 -153.847604\n",
       "\n",
       "[2304 rows x 6 columns]"
      ]
     },
     "execution_count": 104,
     "metadata": {},
     "output_type": "execute_result"
    }
   ],
   "source": [
    "uptree.arrays(filter_name = \"p[xyz]*\", library = \"pd\")"
   ]
  },
  {
   "cell_type": "code",
   "execution_count": 105,
   "id": "58470aa6-4ea9-4fd1-b554-72ea8ccf84c2",
   "metadata": {},
   "outputs": [
    {
     "data": {
      "text/html": [
       "<div>\n",
       "<style scoped>\n",
       "    .dataframe tbody tr th:only-of-type {\n",
       "        vertical-align: middle;\n",
       "    }\n",
       "\n",
       "    .dataframe tbody tr th {\n",
       "        vertical-align: top;\n",
       "    }\n",
       "\n",
       "    .dataframe thead th {\n",
       "        text-align: right;\n",
       "    }\n",
       "</style>\n",
       "<table border=\"1\" class=\"dataframe\">\n",
       "  <thead>\n",
       "    <tr style=\"text-align: right;\">\n",
       "      <th></th>\n",
       "      <th>px1</th>\n",
       "      <th>px2</th>\n",
       "    </tr>\n",
       "  </thead>\n",
       "  <tbody>\n",
       "    <tr>\n",
       "      <th>0</th>\n",
       "      <td>-41.195288</td>\n",
       "      <td>34.144437</td>\n",
       "    </tr>\n",
       "    <tr>\n",
       "      <th>1</th>\n",
       "      <td>35.118050</td>\n",
       "      <td>-41.195288</td>\n",
       "    </tr>\n",
       "    <tr>\n",
       "      <th>2</th>\n",
       "      <td>35.118050</td>\n",
       "      <td>-40.883323</td>\n",
       "    </tr>\n",
       "    <tr>\n",
       "      <th>3</th>\n",
       "      <td>34.144437</td>\n",
       "      <td>-40.883323</td>\n",
       "    </tr>\n",
       "    <tr>\n",
       "      <th>4</th>\n",
       "      <td>22.783582</td>\n",
       "      <td>-20.177373</td>\n",
       "    </tr>\n",
       "    <tr>\n",
       "      <th>...</th>\n",
       "      <td>...</td>\n",
       "      <td>...</td>\n",
       "    </tr>\n",
       "    <tr>\n",
       "      <th>2299</th>\n",
       "      <td>19.054651</td>\n",
       "      <td>-16.874052</td>\n",
       "    </tr>\n",
       "    <tr>\n",
       "      <th>2300</th>\n",
       "      <td>-68.041915</td>\n",
       "      <td>32.485394</td>\n",
       "    </tr>\n",
       "    <tr>\n",
       "      <th>2301</th>\n",
       "      <td>32.377492</td>\n",
       "      <td>-68.041915</td>\n",
       "    </tr>\n",
       "    <tr>\n",
       "      <th>2302</th>\n",
       "      <td>32.377492</td>\n",
       "      <td>-68.794136</td>\n",
       "    </tr>\n",
       "    <tr>\n",
       "      <th>2303</th>\n",
       "      <td>32.485394</td>\n",
       "      <td>-68.794136</td>\n",
       "    </tr>\n",
       "  </tbody>\n",
       "</table>\n",
       "<p>2304 rows × 2 columns</p>\n",
       "</div>"
      ],
      "text/plain": [
       "            px1        px2\n",
       "0    -41.195288  34.144437\n",
       "1     35.118050 -41.195288\n",
       "2     35.118050 -40.883323\n",
       "3     34.144437 -40.883323\n",
       "4     22.783582 -20.177373\n",
       "...         ...        ...\n",
       "2299  19.054651 -16.874052\n",
       "2300 -68.041915  32.485394\n",
       "2301  32.377492 -68.041915\n",
       "2302  32.377492 -68.794136\n",
       "2303  32.485394 -68.794136\n",
       "\n",
       "[2304 rows x 2 columns]"
      ]
     },
     "execution_count": 105,
     "metadata": {},
     "output_type": "execute_result"
    }
   ],
   "source": [
    "uptree.arrays(filter_name = \"px*\", library = \"pd\")"
   ]
  },
  {
   "cell_type": "code",
   "execution_count": 106,
   "id": "e2c01891-27aa-4099-a8ed-0e0e811647b1",
   "metadata": {},
   "outputs": [
    {
     "data": {
      "text/html": [
       "<div>\n",
       "<style scoped>\n",
       "    .dataframe tbody tr th:only-of-type {\n",
       "        vertical-align: middle;\n",
       "    }\n",
       "\n",
       "    .dataframe tbody tr th {\n",
       "        vertical-align: top;\n",
       "    }\n",
       "\n",
       "    .dataframe thead th {\n",
       "        text-align: right;\n",
       "    }\n",
       "</style>\n",
       "<table border=\"1\" class=\"dataframe\">\n",
       "  <thead>\n",
       "    <tr style=\"text-align: right;\">\n",
       "      <th></th>\n",
       "      <th>px2</th>\n",
       "      <th>py2</th>\n",
       "      <th>pz2</th>\n",
       "      <th>pt2</th>\n",
       "      <th>phi2</th>\n",
       "    </tr>\n",
       "  </thead>\n",
       "  <tbody>\n",
       "    <tr>\n",
       "      <th>0</th>\n",
       "      <td>34.144437</td>\n",
       "      <td>-16.119525</td>\n",
       "      <td>-47.426984</td>\n",
       "      <td>38.8311</td>\n",
       "      <td>-0.440873</td>\n",
       "    </tr>\n",
       "    <tr>\n",
       "      <th>1</th>\n",
       "      <td>-41.195288</td>\n",
       "      <td>17.433244</td>\n",
       "      <td>-68.964962</td>\n",
       "      <td>44.7322</td>\n",
       "      <td>2.741260</td>\n",
       "    </tr>\n",
       "    <tr>\n",
       "      <th>2</th>\n",
       "      <td>-40.883323</td>\n",
       "      <td>17.299297</td>\n",
       "      <td>-68.447255</td>\n",
       "      <td>44.7322</td>\n",
       "      <td>2.741260</td>\n",
       "    </tr>\n",
       "    <tr>\n",
       "      <th>3</th>\n",
       "      <td>-40.883323</td>\n",
       "      <td>17.299297</td>\n",
       "      <td>-68.447255</td>\n",
       "      <td>44.7322</td>\n",
       "      <td>2.741260</td>\n",
       "    </tr>\n",
       "    <tr>\n",
       "      <th>4</th>\n",
       "      <td>-20.177373</td>\n",
       "      <td>-9.354149</td>\n",
       "      <td>44.513955</td>\n",
       "      <td>21.8913</td>\n",
       "      <td>-2.707650</td>\n",
       "    </tr>\n",
       "    <tr>\n",
       "      <th>...</th>\n",
       "      <td>...</td>\n",
       "      <td>...</td>\n",
       "      <td>...</td>\n",
       "      <td>...</td>\n",
       "      <td>...</td>\n",
       "    </tr>\n",
       "    <tr>\n",
       "      <th>2299</th>\n",
       "      <td>-16.874052</td>\n",
       "      <td>-15.319644</td>\n",
       "      <td>-15.768964</td>\n",
       "      <td>22.8145</td>\n",
       "      <td>-2.404430</td>\n",
       "    </tr>\n",
       "    <tr>\n",
       "      <th>2300</th>\n",
       "      <td>32.485394</td>\n",
       "      <td>1.201350</td>\n",
       "      <td>-74.808372</td>\n",
       "      <td>32.3997</td>\n",
       "      <td>0.037027</td>\n",
       "    </tr>\n",
       "    <tr>\n",
       "      <th>2301</th>\n",
       "      <td>-68.041915</td>\n",
       "      <td>-26.105847</td>\n",
       "      <td>-152.235018</td>\n",
       "      <td>72.8781</td>\n",
       "      <td>-2.775240</td>\n",
       "    </tr>\n",
       "    <tr>\n",
       "      <th>2302</th>\n",
       "      <td>-68.794136</td>\n",
       "      <td>-26.398400</td>\n",
       "      <td>-153.847604</td>\n",
       "      <td>72.8781</td>\n",
       "      <td>-2.775240</td>\n",
       "    </tr>\n",
       "    <tr>\n",
       "      <th>2303</th>\n",
       "      <td>-68.794136</td>\n",
       "      <td>-26.398400</td>\n",
       "      <td>-153.847604</td>\n",
       "      <td>72.8781</td>\n",
       "      <td>-2.775240</td>\n",
       "    </tr>\n",
       "  </tbody>\n",
       "</table>\n",
       "<p>2304 rows × 5 columns</p>\n",
       "</div>"
      ],
      "text/plain": [
       "            px2        py2         pz2      pt2      phi2\n",
       "0     34.144437 -16.119525  -47.426984  38.8311 -0.440873\n",
       "1    -41.195288  17.433244  -68.964962  44.7322  2.741260\n",
       "2    -40.883323  17.299297  -68.447255  44.7322  2.741260\n",
       "3    -40.883323  17.299297  -68.447255  44.7322  2.741260\n",
       "4    -20.177373  -9.354149   44.513955  21.8913 -2.707650\n",
       "...         ...        ...         ...      ...       ...\n",
       "2299 -16.874052 -15.319644  -15.768964  22.8145 -2.404430\n",
       "2300  32.485394   1.201350  -74.808372  32.3997  0.037027\n",
       "2301 -68.041915 -26.105847 -152.235018  72.8781 -2.775240\n",
       "2302 -68.794136 -26.398400 -153.847604  72.8781 -2.775240\n",
       "2303 -68.794136 -26.398400 -153.847604  72.8781 -2.775240\n",
       "\n",
       "[2304 rows x 5 columns]"
      ]
     },
     "execution_count": 106,
     "metadata": {},
     "output_type": "execute_result"
    }
   ],
   "source": [
    "uptree.arrays(filter_name = \"p*2\", library = \"pd\")"
   ]
  },
  {
   "cell_type": "markdown",
   "id": "1c17c4b0-be34-4ec0-9361-fed708779b43",
   "metadata": {},
   "source": [
    "## Uproot - Iteration and Writing"
   ]
  },
  {
   "cell_type": "markdown",
   "id": "f2d3532b-b30b-424e-812f-4cf543440e3e",
   "metadata": {},
   "source": [
    "### Managing work with uproot.iterate and writing data to root files"
   ]
  },
  {
   "cell_type": "markdown",
   "id": "492d18d6-3111-45bf-99a4-8133aca5b7d4",
   "metadata": {},
   "source": [
    "- The iterate method is similar to arrays method\n",
    "- The iterate method allows to load the array into chunks of specific size; not all at once"
   ]
  },
  {
   "cell_type": "code",
   "execution_count": 107,
   "id": "7902b296-fbf9-4c00-a00d-66e613bafc3f",
   "metadata": {},
   "outputs": [
    {
     "name": "stdout",
     "output_type": "stream",
     "text": [
      "<Array [{Type: 'GT', Run: 148031, ... M: 87.7}] type='500 * {\"Type\": string, \"Ru...'>\n",
      "<Array [{Type: 'GT', Run: 148031, ... M: 72.5}] type='500 * {\"Type\": string, \"Ru...'>\n",
      "<Array [{Type: 'TT', Run: 148031, ... M: 92.9}] type='500 * {\"Type\": string, \"Ru...'>\n",
      "<Array [{Type: 'GT', Run: 148031, ... M: 94.6}] type='500 * {\"Type\": string, \"Ru...'>\n",
      "<Array [{Type: 'TT', Run: 148029, ... M: 96.7}] type='304 * {\"Type\": string, \"Ru...'>\n"
     ]
    }
   ],
   "source": [
    "for x in uptree.iterate(step_size = 500) : #Here we control the number of events\n",
    "    print(repr(x))"
   ]
  },
  {
   "cell_type": "code",
   "execution_count": 108,
   "id": "1d388c63-3fab-455c-88cb-6ce0f627ec6b",
   "metadata": {},
   "outputs": [
    {
     "name": "stdout",
     "output_type": "stream",
     "text": [
      "<Array [{Type: 'GT', Run: 148031, ... M: 89.6}] type='667 * {\"Type\": string, \"Ru...'>\n",
      "<Array [{Type: 'TT', Run: 148031, ... M: 18.1}] type='667 * {\"Type\": string, \"Ru...'>\n",
      "<Array [{Type: 'GT', Run: 148031, ... M: 94.7}] type='667 * {\"Type\": string, \"Ru...'>\n",
      "<Array [{Type: 'GT', Run: 148029, ... M: 96.7}] type='303 * {\"Type\": string, \"Ru...'>\n"
     ]
    }
   ],
   "source": [
    "for x in uptree.iterate(step_size = \"50kb\") : #Here we control the size of the chunks\n",
    "    print(repr(x))"
   ]
  },
  {
   "cell_type": "markdown",
   "id": "3f6541db-34fc-4785-be86-d24e75c899a8",
   "metadata": {},
   "source": [
    "### Collection of files (like TChains)"
   ]
  },
  {
   "cell_type": "markdown",
   "id": "69dd15c6-e96e-4309-826e-db0053d06644",
   "metadata": {},
   "source": [
    "If you want to read a bunch of files in one call, it has to be a function, rather than a method of [TTree](https://uproot.readthedocs.io/en/latest/uproot.behaviors.TTree.TTree.html).\n",
    "\n",
    "   * The equivalent of [TTree](https://uproot.readthedocs.io/en/latest/uproot.behaviors.TTree.TTree.html) [arrays](https://uproot.readthedocs.io/en/latest/uproot.behaviors.TTree.TTree.html#arrays) is [uproot.concatenate](https://uproot.readthedocs.io/en/latest/uproot.behaviors.TBranch.concatenate.html). _(Reads everything at once: use this as a convenience on datasets you know are small!)_\n",
    "   * The equivalent of [TTree](https://uproot.readthedocs.io/en/latest/uproot.behaviors.TTree.TTree.html) [iterate](https://uproot.readthedocs.io/en/latest/uproot.behaviors.TTree.TTree.html#iterate) is [uproot.iterate](https://uproot.readthedocs.io/en/latest/uproot.behaviors.TBranch.iterate.html). _(This is the most useful one.)_\n",
    "   * There's also an [uproot.lazy](https://uproot.readthedocs.io/en/latest/uproot.behaviors.TBranch.lazy.html) _(More on this below.)_"
   ]
  },
  {
   "cell_type": "code",
   "execution_count": 109,
   "id": "4a098a35-2da8-44fa-8d37-8b5c6377eef0",
   "metadata": {},
   "outputs": [
    {
     "data": {
      "image/png": "[encoded data removed]",
      "text/plain": [
       "<Figure size 640x480 with 1 Axes>"
      ]
     },
     "metadata": {},
     "output_type": "display_data"
    }
   ],
   "source": [
    "h1 = hist.Hist.new.Reg(120, 0, 120, name=\"mass\").Double()\n",
    "drawables = []\n",
    "\n",
    "for elec in ur.iterate(\n",
    "    # filename(s)\n",
    "    [\"data/ZZTo4e.root\"],\n",
    "\n",
    "    # branches to read as expressions\n",
    "    [\"Electron_pt\", \"Electron_eta\", \"Electron_phi\", \"Electron_charge\"],\n",
    "\n",
    "    # cut to apply to expressions\n",
    "    cut=\"nElectron >= 2\",\n",
    "\n",
    "    # library dependent; for library=\"ak\", try to split branch names at underscore and make nested records (poor man's NanoEvents)\n",
    "    how=\"zip\",\n",
    "\n",
    "    # the all-important step_size!\n",
    "    step_size=\"1 MB\",\n",
    "\n",
    "    # options you would normally pass to uproot.open\n",
    "    xrootd_handler=ur.MultithreadedXRootDSource,\n",
    "    num_workers=10,\n",
    "):\n",
    "    # do everything you're going to do to this array\n",
    "    os_cut = elec[:, \"Electron\", \"charge\", 0] != elec[:, \"Electron\", \"charge\", 1]\n",
    "    elec1 = elec[os_cut, 0, \"Electron\"]\n",
    "    elec2 = elec[os_cut, 1, \"Electron\"]\n",
    "\n",
    "    # such as filling a histogram\n",
    "    h1.fill(np.sqrt(2*elec1.pt*elec2.pt*(np.cosh(elec1.eta - elec2.eta) - np.cos(elec1.phi - elec2.phi))))\n",
    "\n",
    "    # a little magic to animate it; hardest part is removing the previous plots\n",
    "    for drawable in drawables:\n",
    "        drawable.stairs.remove()\n",
    "        drawable.errorbar.remove()\n",
    "        drawable.legend_artist.remove()\n",
    "    drawables = h1.plot(color=\"blue\")\n",
    "    #plt.yscale(\"log\")\n",
    "    IPython.display.display(plb.gcf())\n",
    "    IPython.display.clear_output(wait=True)"
   ]
  },
  {
   "cell_type": "markdown",
   "id": "16c337da-70d6-40b7-b7fb-d67b349ec3e5",
   "metadata": {},
   "source": [
    "__Bing__: In the context of the Uproot library, ```num_workers``` is a parameter that can be used to *specify the number of worker processes to use when reading data from files*. This parameter is used in conjunction with the uproot.iterate and uproot.lazy functions, which allow you to read data from multiple files in parallel. When num_workers is set to a value greater than 1, Uproot will use multiple worker processes to read data from the files, which can improve performance when reading large amounts of data. The optimal value for num_workers depends on various factors such as the number of CPU cores available, the speed of the storage device, and the size of the data being read"
   ]
  },
  {
   "cell_type": "markdown",
   "id": "9a1f77ba-9497-4bfd-b548-17e25afe6f51",
   "metadata": {},
   "source": [
    "### Lazy arrays\n",
    "\n",
    "Lazy arrays were introduced so that you can explore a large dataset without knowing ahead of time what parts you're going to read."
   ]
  },
  {
   "cell_type": "code",
   "execution_count": 110,
   "id": "dd256548-67fc-47e6-bf76-553a714d856b",
   "metadata": {},
   "outputs": [
    {
     "data": {
      "text/plain": [
       "<Array [{run: 194533, ... MET_phi: -0.775}] type='1499093 * {\"run\": int32, \"lumi...'>"
      ]
     },
     "execution_count": 110,
     "metadata": {},
     "output_type": "execute_result"
    }
   ],
   "source": [
    "lazytree = ur.lazy([\"data/ZZTo4e.root\"], step_size = \"1mb\")\n",
    "lazytree"
   ]
  },
  {
   "cell_type": "code",
   "execution_count": 111,
   "id": "0ad22736-dc21-48ed-acc2-47dd3a0c960f",
   "metadata": {},
   "outputs": [
    {
     "data": {
      "text/plain": [
       "['run',\n",
       " 'luminosityBlock',\n",
       " 'event',\n",
       " 'PV_npvs',\n",
       " 'PV_x',\n",
       " 'PV_y',\n",
       " 'PV_z',\n",
       " 'nMuon',\n",
       " 'Muon_pt',\n",
       " 'Muon_eta',\n",
       " 'Muon_phi',\n",
       " 'Muon_mass',\n",
       " 'Muon_charge',\n",
       " 'Muon_pfRelIso03_all',\n",
       " 'Muon_pfRelIso04_all',\n",
       " 'Muon_dxy',\n",
       " 'Muon_dxyErr',\n",
       " 'Muon_dz',\n",
       " 'Muon_dzErr',\n",
       " 'nElectron',\n",
       " 'Electron_pt',\n",
       " 'Electron_eta',\n",
       " 'Electron_phi',\n",
       " 'Electron_mass',\n",
       " 'Electron_charge',\n",
       " 'Electron_pfRelIso03_all',\n",
       " 'Electron_dxy',\n",
       " 'Electron_dxyErr',\n",
       " 'Electron_dz',\n",
       " 'Electron_dzErr',\n",
       " 'MET_pt',\n",
       " 'MET_phi']"
      ]
     },
     "execution_count": 111,
     "metadata": {},
     "output_type": "execute_result"
    }
   ],
   "source": [
    "lazytree.fields"
   ]
  },
  {
   "cell_type": "code",
   "execution_count": 112,
   "id": "b7fc3922-0968-4ee3-be05-eba913be2aaa",
   "metadata": {},
   "outputs": [
    {
     "data": {
      "text/plain": [
       "1499093 * {\"run\": int32, \"luminosityBlock\": uint32, \"event\": uint64, \"PV_npvs\": int32, \"PV_x\": float32, \"PV_y\": float32, \"PV_z\": float32, \"nMuon\": uint32, \"Muon_pt\": var * float32, \"Muon_eta\": var * float32, \"Muon_phi\": var * float32, \"Muon_mass\": var * float32, \"Muon_charge\": var * int32, \"Muon_pfRelIso03_all\": var * float32, \"Muon_pfRelIso04_all\": var * float32, \"Muon_dxy\": var * float32, \"Muon_dxyErr\": var * float32, \"Muon_dz\": var * float32, \"Muon_dzErr\": var * float32, \"nElectron\": uint32, \"Electron_pt\": var * float32, \"Electron_eta\": var * float32, \"Electron_phi\": var * float32, \"Electron_mass\": var * float32, \"Electron_charge\": var * int32, \"Electron_pfRelIso03_all\": var * float32, \"Electron_dxy\": var * float32, \"Electron_dxyErr\": var * float32, \"Electron_dz\": var * float32, \"Electron_dzErr\": var * float32, \"MET_pt\": float32, \"MET_phi\": float32}"
      ]
     },
     "execution_count": 112,
     "metadata": {},
     "output_type": "execute_result"
    }
   ],
   "source": [
    "lazytree.type"
   ]
  },
  {
   "cell_type": "code",
   "execution_count": 113,
   "id": "25066eb0-ace7-46d8-8f81-71e3f5faba98",
   "metadata": {},
   "outputs": [
    {
     "data": {
      "text/plain": [
       "1499093"
      ]
     },
     "execution_count": 113,
     "metadata": {},
     "output_type": "execute_result"
    }
   ],
   "source": [
    "len(lazytree)"
   ]
  },
  {
   "cell_type": "markdown",
   "id": "b7324346-c6f1-41e6-9fef-c78f31e865db",
   "metadata": {},
   "source": [
    "It _looks like_ we've read that big file.\n",
    "\n",
    "But actually (if we peek in the lazy array's cache), we've only read 3 TBaskets."
   ]
  },
  {
   "cell_type": "code",
   "execution_count": 114,
   "id": "2e65adf1-8d09-4b7c-99b2-b192c092063b",
   "metadata": {},
   "outputs": [
    {
     "data": {
      "text/plain": [
       "['a641a30c-bebc-11eb-89ac-c4650d81beef:/Events;1:run(0):AsDtype(Bi4(),Li4()):0-9274:ak',\n",
       " 'a641a30c-bebc-11eb-89ac-c4650d81beef:/Events;1:MET_phi(31):AsDtype(Bf4(),Lf4()):1493114-1499093:ak',\n",
       " 'a641a30c-bebc-11eb-89ac-c4650d81beef:/Events;1:luminosityBlock(1):AsDtype(Bu4(),Lu4()):0-9274:ak']"
      ]
     },
     "execution_count": 114,
     "metadata": {},
     "output_type": "execute_result"
    }
   ],
   "source": [
    "lazytree._caches[0].keys()"
   ]
  },
  {
   "cell_type": "markdown",
   "id": "1ba38aef-5504-4603-88ef-31c42d95b841",
   "metadata": {},
   "source": [
    "```Big important warning: this access pattern is not read or memory efficient!```"
   ]
  },
  {
   "cell_type": "markdown",
   "id": "8d59833c-5e54-452f-b896-aa68b97fd7b1",
   "metadata": {},
   "source": [
    "### Writing histograms to root files"
   ]
  },
  {
   "cell_type": "markdown",
   "id": "7a2f55da-342b-46dd-b907-ff8f45fcd7ac",
   "metadata": {},
   "source": [
    "Has a simple key-value syntax."
   ]
  },
  {
   "cell_type": "code",
   "execution_count": 115,
   "id": "00d4e4a8-cacf-4125-afcd-a085490323ac",
   "metadata": {},
   "outputs": [
    {
     "name": "stdout",
     "output_type": "stream",
     "text": [
      "['Type', 'Run', 'Event', 'E1', 'px1', 'py1', 'pz1', 'pt1', 'eta1', 'phi1', 'Q1', 'E2', 'px2', 'py2', 'pz2', 'pt2', 'eta2', 'phi2', 'Q2', 'M']\n"
     ]
    },
    {
     "data": {
      "text/html": [
       "<html>\n",
       "<div style=\"display:flex; align-items:center;\">\n",
       "<div style=\"width:290px;\">\n",
       "<svg xmlns=\"http://www.w3.org/2000/svg\" viewBox=\"-10 -105 270 120\">\n",
       "<line x1=\"-5\" y1=\"0\" x2=\"255\" y2=\"0\" style=\"fill:none;stroke-width:2;stroke:currentColor\"/>\n",
       "<text text-anchor=\"middle\" x=\"0\" y=\"15\" style=\"fill:currentColor;\">\n",
       "0\n",
       "</text>\n",
       "<text text-anchor=\"middle\" x=\"250\" y=\"15\" style=\"fill:currentColor;\">\n",
       "200\n",
       "</text>\n",
       "<text text-anchor=\"middle\" x=\"125.0\" y=\"15\" style=\"fill:currentColor;\">\n",
       "Axis 0\n",
       "</text>\n",
       "<polyline points=\"  0,0   0,-26.9   5,-26.9   5,-73.1  10,-73.1  10,-23.4  15,-23.4  15,-3.98  20,-3.98  20,-1.99  25,-1.99  25,-6.97  30,-6.97  30,-25.9  35,-25.9  35,-39.3  40,-39.3  40,-72.6  45,-72.6  45,-88.6  50,-88.6  50,-94  55,-94  55,-100  60,-100  60,-65.2  65,-65.2  65,-75.1  70,-75.1  70,-48.8  75,-48.8  75,-45.3  80,-45.3  80,-45.8  85,-45.8  85,-16.4  90,-16.4  90,-22.9  95,-22.9  95,-24.4 100,-24.4 100,-24.4 105,-24.4 105,-27.9 110,-27.9 110,-20.9 115,-20.9 115,-12.9 120,-12.9 120,-11.9 125,-11.9 125,-6.97 130,-6.97 130,-16.9 135,-16.9 135,-10.4 140,-10.4 140,-6.97 145,-6.97 145,-10.9 150,-10.9 150,-4.98 155,-4.98 155,-9.45 160,-9.45 160,-6.97 165,-6.97 165,-12.9 170,-12.9 170,-8.96 175,-8.96 175,-3.98 180,-3.98 180,-3.98 185,-3.98 185,-2.49 190,-2.49 190,-5.47 195,-5.47 195,-2.99 200,-2.99 200,-5.97 205,-5.97 205,-1.99 210,-1.99 210,-1.49 215,-1.49 215,-2.99 220,-2.99 220,-4.98 225,-4.98 225,-1.99 230,-1.99 230,-2.99 235,-2.99 235,-0.995 240,-0.995 240,-4.48 245,-4.48 245,-1.99 250,-1.99 250,0\" style=\"fill:none; stroke:currentColor;\"/>\n",
       "</svg>\n",
       "</div>\n",
       "<div style=\"flex=grow:1;\">\n",
       "Regular(50, 0, 200, label='Axis 0')<br/>\n",
       "<hr style=\"margin-top:.2em; margin-bottom:.2em;\"/>\n",
       "Double() Σ=2297.0 <em>(2304.0 with flow)</em>\n",
       "\n",
       "</div>\n",
       "</div>\n",
       "</html>"
      ],
      "text/plain": [
       "Hist(Regular(50, 0, 200, label='Axis 0'), storage=Double()) # Sum: 2297.0 (2304.0 with flow)"
      ]
     },
     "execution_count": 115,
     "metadata": {},
     "output_type": "execute_result"
    }
   ],
   "source": [
    "print(uptree.keys())\n",
    "a = uptree[\"E1\"].array(library = \"np\")\n",
    "h1 = hist.Hist.new.Reg(50,0,200).Double()\n",
    "h1.fill(a)\n",
    "b = uptree[\"E2\"].array(library = \"np\")\n",
    "h2 = hist.Hist.new.Reg(50,0,200).Double()\n",
    "h2.fill(a)\n",
    "h2"
   ]
  },
  {
   "cell_type": "code",
   "execution_count": 116,
   "id": "a506848d-863a-4bb0-abb0-a393cbd689a1",
   "metadata": {},
   "outputs": [],
   "source": [
    "with ur.recreate(\"Histograms.root\") as hfile :\n",
    "    hfile[\"Energies/E1\"] = h1\n",
    "    hfile[\"Energies/E2\"] = h2"
   ]
  },
  {
   "cell_type": "code",
   "execution_count": 117,
   "id": "eed26bbc-7da1-4870-84a3-07f77480c396",
   "metadata": {},
   "outputs": [
    {
     "data": {
      "text/plain": [
       "['Energies', 'Energies/E1', 'Energies/E2']"
      ]
     },
     "execution_count": 117,
     "metadata": {},
     "output_type": "execute_result"
    }
   ],
   "source": [
    "w = ur.open(\"Histograms.root\")\n",
    "w.keys(cycle=False)"
   ]
  },
  {
   "cell_type": "code",
   "execution_count": 118,
   "id": "3000dfce-9999-49da-a1e8-a54831e84248",
   "metadata": {},
   "outputs": [
    {
     "data": {
      "text/plain": [
       "<TH1D (version 3) at 0x7f53a7fbec80>"
      ]
     },
     "execution_count": 118,
     "metadata": {},
     "output_type": "execute_result"
    }
   ],
   "source": [
    "w[\"Energies/E1\"]"
   ]
  },
  {
   "cell_type": "code",
   "execution_count": 119,
   "id": "e8c6ca6e-3843-4d76-bd3d-a48647abaa32",
   "metadata": {},
   "outputs": [
    {
     "data": {
      "text/html": [
       "<html>\n",
       "<div style=\"display:flex; align-items:center;\">\n",
       "<div style=\"width:290px;\">\n",
       "<svg xmlns=\"http://www.w3.org/2000/svg\" viewBox=\"-10 -105 270 120\">\n",
       "<line x1=\"-5\" y1=\"0\" x2=\"255\" y2=\"0\" style=\"fill:none;stroke-width:2;stroke:currentColor\"/>\n",
       "<text text-anchor=\"middle\" x=\"0\" y=\"15\" style=\"fill:currentColor;\">\n",
       "0\n",
       "</text>\n",
       "<text text-anchor=\"middle\" x=\"250\" y=\"15\" style=\"fill:currentColor;\">\n",
       "200\n",
       "</text>\n",
       "<text text-anchor=\"middle\" x=\"125.0\" y=\"15\" style=\"fill:currentColor;\">\n",
       "Axis 0\n",
       "</text>\n",
       "<polyline points=\"  0,0   0,-26.9   5,-26.9   5,-73.1  10,-73.1  10,-23.4  15,-23.4  15,-3.98  20,-3.98  20,-1.99  25,-1.99  25,-6.97  30,-6.97  30,-25.9  35,-25.9  35,-39.3  40,-39.3  40,-72.6  45,-72.6  45,-88.6  50,-88.6  50,-94  55,-94  55,-100  60,-100  60,-65.2  65,-65.2  65,-75.1  70,-75.1  70,-48.8  75,-48.8  75,-45.3  80,-45.3  80,-45.8  85,-45.8  85,-16.4  90,-16.4  90,-22.9  95,-22.9  95,-24.4 100,-24.4 100,-24.4 105,-24.4 105,-27.9 110,-27.9 110,-20.9 115,-20.9 115,-12.9 120,-12.9 120,-11.9 125,-11.9 125,-6.97 130,-6.97 130,-16.9 135,-16.9 135,-10.4 140,-10.4 140,-6.97 145,-6.97 145,-10.9 150,-10.9 150,-4.98 155,-4.98 155,-9.45 160,-9.45 160,-6.97 165,-6.97 165,-12.9 170,-12.9 170,-8.96 175,-8.96 175,-3.98 180,-3.98 180,-3.98 185,-3.98 185,-2.49 190,-2.49 190,-5.47 195,-5.47 195,-2.99 200,-2.99 200,-5.97 205,-5.97 205,-1.99 210,-1.99 210,-1.49 215,-1.49 215,-2.99 220,-2.99 220,-4.98 225,-4.98 225,-1.99 230,-1.99 230,-2.99 235,-2.99 235,-0.995 240,-0.995 240,-4.48 245,-4.48 245,-1.99 250,-1.99 250,0\" style=\"fill:none; stroke:currentColor;\"/>\n",
       "</svg>\n",
       "</div>\n",
       "<div style=\"flex=grow:1;\">\n",
       "Regular(50, 0, 200, label='Axis 0')<br/>\n",
       "<hr style=\"margin-top:.2em; margin-bottom:.2em;\"/>\n",
       "Weight() Σ=WeightedSum(value=2297, variance=2297) <em>(WeightedSum(value=2304, variance=2304) with flow)</em>\n",
       "\n",
       "</div>\n",
       "</div>\n",
       "</html>"
      ],
      "text/plain": [
       "Hist(Regular(50, 0, 200, label='Axis 0'), storage=Weight()) # Sum: WeightedSum(value=2297, variance=2297) (WeightedSum(value=2304, variance=2304) with flow)"
      ]
     },
     "execution_count": 119,
     "metadata": {},
     "output_type": "execute_result"
    }
   ],
   "source": [
    "w[\"Energies/E1\"].to_hist()"
   ]
  },
  {
   "cell_type": "code",
   "execution_count": 120,
   "id": "38fcbbc6-9957-4b3b-8cbf-81029e709b28",
   "metadata": {},
   "outputs": [
    {
     "data": {
      "text/plain": [
       "[StairsArtists(stairs=<matplotlib.patches.StepPatch object at 0x7f53658eefe0>, errorbar=<ErrorbarContainer object of 3 artists>, legend_artist=<ErrorbarContainer object of 3 artists>)]"
      ]
     },
     "execution_count": 120,
     "metadata": {},
     "output_type": "execute_result"
    },
    {
     "data": {
      "image/png": "[encoded data removed]",
      "text/plain": [
       "<Figure size 640x480 with 1 Axes>"
      ]
     },
     "metadata": {},
     "output_type": "display_data"
    }
   ],
   "source": [
    "w[\"Energies/E1\"].to_hist().plot()"
   ]
  },
  {
   "cell_type": "code",
   "execution_count": 121,
   "id": "488a9dc6-ec7f-45a0-a4ee-55eba54c3276",
   "metadata": {},
   "outputs": [
    {
     "data": {
      "image/png": "[encoded data removed]",
      "text/plain": [
       "<Figure size 640x480 with 1 Axes>"
      ]
     },
     "metadata": {},
     "output_type": "display_data"
    }
   ],
   "source": [
    "h = w[\"Energies/E1\"].to_hist().plot()\n",
    "plt.yscale(\"log\")"
   ]
  },
  {
   "cell_type": "markdown",
   "id": "1583716e-5333-4df8-b458-1ff1ec703608",
   "metadata": {},
   "source": [
    "### Writing TTrees to root files"
   ]
  },
  {
   "cell_type": "code",
   "execution_count": 122,
   "id": "a581ef82-c601-4803-8ff6-5ee6d5699245",
   "metadata": {},
   "outputs": [],
   "source": [
    "tf = ur.recreate(\"tree.root\")\n",
    "\n",
    "mass = np.array([])\n",
    "for index, elec in enumerate(ur.iterate(\n",
    "    # filename(s)\n",
    "    [\"data/ZZTo4e.root\"],\n",
    "\n",
    "    # branches to read as expressions\n",
    "    [\"Electron_pt\", \"Electron_eta\", \"Electron_phi\", \"Electron_charge\"],\n",
    "\n",
    "    # cut to apply to expressions\n",
    "    cut=\"nElectron >= 2\",\n",
    "\n",
    "    # library dependent; for library=\"ak\", try to split branch names at underscore and make nested records (poor man's NanoEvents)\n",
    "    how=\"zip\",\n",
    "\n",
    "    # the all-important step_size!\n",
    "    step_size=\"1 MB\",\n",
    "    \n",
    "    num_workers=10,\n",
    ")):\n",
    "    # do everything you're going to do to this array\n",
    "    os_cut = elec[:, \"Electron\", \"charge\", 0] != elec[:, \"Electron\", \"charge\", 1]\n",
    "    elec1 = elec[:, 0, \"Electron\"]\n",
    "    elec2 = elec[:, 1, \"Electron\"]\n",
    "\n",
    "    # calculation\n",
    "    inv_mass = np.sqrt(2*elec1.pt*elec2.pt*(np.cosh(elec1.eta - elec2.eta) - np.cos(elec1.phi - elec2.phi)))\n",
    "    mass = np.append( inv_mass, mass)\n",
    "    cuts = os_cut & (inv_mass > 75)\n",
    "    goodelec = elec[cuts].Electron\n",
    "    goodelecmass =  inv_mass[cuts]\n",
    "    #tree filling\n",
    "\n",
    "    #first create a dictionary\n",
    "    contents = {\"goodelec\": goodelec , \"goodelecM\": goodelecmass}\n",
    "\n",
    "    # if this is the first write, assign directly\n",
    "    if index == 0 :\n",
    "        tf[\"ElectronCandidates\"] = contents\n",
    "    else :\n",
    "        tf[\"ElectronCandidates\"].extend(contents)\n",
    "tf.close()"
   ]
  },
  {
   "cell_type": "code",
   "execution_count": 123,
   "id": "4e9f3fd7-d8af-4ca9-aa05-d559bc966ba7",
   "metadata": {},
   "outputs": [
    {
     "data": {
      "text/plain": [
       "{'ElectronCandidates': 'TTree'}"
      ]
     },
     "execution_count": 123,
     "metadata": {},
     "output_type": "execute_result"
    }
   ],
   "source": [
    "treefile = ur.open(\"tree.root\")\n",
    "treefile.classnames(cycle = False)"
   ]
  },
  {
   "cell_type": "code",
   "execution_count": 124,
   "id": "2ce84778-7f79-4b72-860f-58f095476274",
   "metadata": {},
   "outputs": [
    {
     "name": "stdout",
     "output_type": "stream",
     "text": [
      "[('ngoodelec', <TBranch 'ngoodelec' at 0x7f5365786230>), ('goodelec_pt', <TBranch 'goodelec_pt' at 0x7f53657843d0>), ('goodelec_eta', <TBranch 'goodelec_eta' at 0x7f536566aaa0>), ('goodelec_phi', <TBranch 'goodelec_phi' at 0x7f536566a7d0>), ('goodelec_charge', <TBranch 'goodelec_charge' at 0x7f5365d65750>), ('goodelecM', <TBranch 'goodelecM' at 0x7f53657653f0>)]\n",
      "name                 | typename                 | interpretation                \n",
      "---------------------+--------------------------+-------------------------------\n",
      "ngoodelec            | int32_t                  | AsDtype('>i4')\n",
      "goodelec_pt          | float[]                  | AsJagged(AsDtype('>f4'))\n",
      "goodelec_eta         | float[]                  | AsJagged(AsDtype('>f4'))\n",
      "goodelec_phi         | float[]                  | AsJagged(AsDtype('>f4'))\n",
      "goodelec_charge      | int32_t[]                | AsJagged(AsDtype('>i4'))\n",
      "goodelecM            | float                    | AsDtype('>f4')\n"
     ]
    }
   ],
   "source": [
    "uptree = treefile[\"ElectronCandidates\"]\n",
    "print(uptree.items())\n",
    "treefile[\"ElectronCandidates\"].show()"
   ]
  },
  {
   "cell_type": "code",
   "execution_count": 125,
   "id": "58b293d7-3c0d-4353-9ca0-0af377c4a320",
   "metadata": {},
   "outputs": [
    {
     "data": {
      "text/plain": [
       "array([95.44179 , 94.360855, 76.04877 , ..., 89.291595, 92.54402 ,\n",
       "       93.61749 ], dtype=float32)"
      ]
     },
     "execution_count": 125,
     "metadata": {},
     "output_type": "execute_result"
    }
   ],
   "source": [
    "masses = uptree[\"goodelecM\"]\n",
    "a = masses.array(library = \"np\" )\n",
    "a"
   ]
  },
  {
   "cell_type": "code",
   "execution_count": 126,
   "id": "4d483faf-a6cf-48bd-ad49-3ea8c43bab65",
   "metadata": {},
   "outputs": [
    {
     "data": {
      "image/png": "[encoded data removed]",
      "text/plain": [
       "<Figure size 640x480 with 1 Axes>"
      ]
     },
     "metadata": {},
     "output_type": "display_data"
    }
   ],
   "source": [
    "massplot =  hist.Hist.new.Reg(50,0,200).Double()\n",
    "massplot.fill(a)\n",
    "massplot.plot()\n",
    "plt.yscale(\"log\")"
   ]
  },
  {
   "cell_type": "markdown",
   "id": "4ff2b073-b7ce-4d1f-b40e-7b8a8c92c0fa",
   "metadata": {},
   "source": [
    "# Awkward Array"
   ]
  },
  {
   "cell_type": "markdown",
   "id": "6d5fc457-dbfc-49a4-8264-fe1f885ff92e",
   "metadata": {},
   "source": [
    "## General"
   ]
  },
  {
   "cell_type": "code",
   "execution_count": 127,
   "id": "baa99af4-b0d9-48c9-a6c4-6092b242ec4d",
   "metadata": {},
   "outputs": [
    {
     "name": "stdout",
     "output_type": "stream",
     "text": [
      "name                 | typename                 | interpretation                \n",
      "---------------------+--------------------------+-------------------------------\n",
      "NJet                 | int32_t                  | AsDtype('>i4')\n",
      "Jet_Px               | float[]                  | AsJagged(AsDtype('>f4'))\n",
      "Jet_Py               | float[]                  | AsJagged(AsDtype('>f4'))\n",
      "Jet_Pz               | float[]                  | AsJagged(AsDtype('>f4'))\n",
      "Jet_E                | float[]                  | AsJagged(AsDtype('>f4'))\n",
      "Jet_btag             | float[]                  | AsJagged(AsDtype('>f4'))\n",
      "Jet_ID               | bool[]                   | AsJagged(AsDtype('bool'))\n",
      "NMuon                | int32_t                  | AsDtype('>i4')\n",
      "Muon_Px              | float[]                  | AsJagged(AsDtype('>f4'))\n",
      "Muon_Py              | float[]                  | AsJagged(AsDtype('>f4'))\n",
      "Muon_Pz              | float[]                  | AsJagged(AsDtype('>f4'))\n",
      "Muon_E               | float[]                  | AsJagged(AsDtype('>f4'))\n",
      "Muon_Charge          | int32_t[]                | AsJagged(AsDtype('>i4'))\n",
      "Muon_Iso             | float[]                  | AsJagged(AsDtype('>f4'))\n",
      "NElectron            | int32_t                  | AsDtype('>i4')\n",
      "Electron_Px          | float[]                  | AsJagged(AsDtype('>f4'))\n",
      "Electron_Py          | float[]                  | AsJagged(AsDtype('>f4'))\n",
      "Electron_Pz          | float[]                  | AsJagged(AsDtype('>f4'))\n",
      "Electron_E           | float[]                  | AsJagged(AsDtype('>f4'))\n",
      "Electron_Charge      | int32_t[]                | AsJagged(AsDtype('>i4'))\n",
      "Electron_Iso         | float[]                  | AsJagged(AsDtype('>f4'))\n",
      "NPhoton              | int32_t                  | AsDtype('>i4')\n",
      "Photon_Px            | float[]                  | AsJagged(AsDtype('>f4'))\n",
      "Photon_Py            | float[]                  | AsJagged(AsDtype('>f4'))\n",
      "Photon_Pz            | float[]                  | AsJagged(AsDtype('>f4'))\n",
      "Photon_E             | float[]                  | AsJagged(AsDtype('>f4'))\n",
      "Photon_Iso           | float[]                  | AsJagged(AsDtype('>f4'))\n",
      "MET_px               | float                    | AsDtype('>f4')\n",
      "MET_py               | float                    | AsDtype('>f4')\n",
      "MChadronicBottom_px  | float                    | AsDtype('>f4')\n",
      "MChadronicBottom_py  | float                    | AsDtype('>f4')\n",
      "MChadronicBottom_pz  | float                    | AsDtype('>f4')\n",
      "MCleptonicBottom_px  | float                    | AsDtype('>f4')\n",
      "MCleptonicBottom_py  | float                    | AsDtype('>f4')\n",
      "MCleptonicBottom_pz  | float                    | AsDtype('>f4')\n",
      "MChadronicWDecayQ... | float                    | AsDtype('>f4')\n",
      "MChadronicWDecayQ... | float                    | AsDtype('>f4')\n",
      "MChadronicWDecayQ... | float                    | AsDtype('>f4')\n",
      "MChadronicWDecayQ... | float                    | AsDtype('>f4')\n",
      "MChadronicWDecayQ... | float                    | AsDtype('>f4')\n",
      "MChadronicWDecayQ... | float                    | AsDtype('>f4')\n",
      "MClepton_px          | float                    | AsDtype('>f4')\n",
      "MClepton_py          | float                    | AsDtype('>f4')\n",
      "MClepton_pz          | float                    | AsDtype('>f4')\n",
      "MCleptonPDGid        | int32_t                  | AsDtype('>i4')\n",
      "MCneutrino_px        | float                    | AsDtype('>f4')\n",
      "MCneutrino_py        | float                    | AsDtype('>f4')\n",
      "MCneutrino_pz        | float                    | AsDtype('>f4')\n",
      "NPrimaryVertices     | int32_t                  | AsDtype('>i4')\n",
      "triggerIsoMu24       | bool                     | AsDtype('bool')\n",
      "EventWeight          | float                    | AsDtype('>f4')\n"
     ]
    }
   ],
   "source": [
    "events = ur.open(\"2022-08-01-uproot-awkward-columnar-hats/data/HZZ.root:events\") #directly point to the tree\n",
    "events.show()"
   ]
  },
  {
   "cell_type": "code",
   "execution_count": 128,
   "id": "1dd056c3-983e-4b69-90fc-aaeb92337354",
   "metadata": {},
   "outputs": [
    {
     "data": {
      "text/plain": [
       "<Array [[-52.9, 37.7], ... 1.14], [23.9]] type='2421 * var * float32'>"
      ]
     },
     "execution_count": 128,
     "metadata": {},
     "output_type": "execute_result"
    }
   ],
   "source": [
    "events[\"Muon_Px\"].array()"
   ]
  },
  {
   "cell_type": "code",
   "execution_count": 129,
   "id": "84a5b54a-6dad-475a-b71d-a8c33ab9a9a5",
   "metadata": {},
   "outputs": [
    {
     "data": {
      "text/plain": [
       "[[-52.89945602416992, 37.7377815246582],\n",
       " [-0.8164593577384949],\n",
       " [48.987831115722656, 0.8275666832923889],\n",
       " [22.08833122253418, 76.6919174194336],\n",
       " [45.171321868896484, 39.75095748901367],\n",
       " [9.228110313415527, -5.793715000152588],\n",
       " [12.538717269897461, 29.541839599609375],\n",
       " [34.883758544921875],\n",
       " [-53.16697311401367, 11.491869926452637],\n",
       " [-67.01485443115234, -18.118755340576172],\n",
       " [15.983028411865234, 34.68440628051758],\n",
       " [-70.51190948486328, -38.028743743896484],\n",
       " [58.94381332397461],\n",
       " [-15.587870597839355],\n",
       " [-122.33011627197266, -1.0597527027130127],\n",
       " [-46.70415496826172, 39.020023345947266],\n",
       " [51.29465866088867, 17.45092010498047],\n",
       " [43.28120040893555],\n",
       " [-45.92393493652344, 22.549766540527344],\n",
       " [43.29360580444336, -33.28158187866211, -4.376191139221191]]"
      ]
     },
     "execution_count": 129,
     "metadata": {},
     "output_type": "execute_result"
    }
   ],
   "source": [
    "events[\"Muon_Px\"].array(entry_stop = 20).to_list() #not recommended to convert to list"
   ]
  },
  {
   "cell_type": "markdown",
   "id": "6a5d637b-9797-4c3d-88a9-931b4bed6a35",
   "metadata": {},
   "source": [
    "NumPy's equivalent is cumbersome and inefficient"
   ]
  },
  {
   "cell_type": "code",
   "execution_count": 130,
   "id": "69162854-7a19-4909-b64f-e40a1d8eed23",
   "metadata": {},
   "outputs": [
    {
     "data": {
      "text/plain": [
       "array([array([-52.899456,  37.73778 ], dtype=float32),\n",
       "       array([-0.81645936], dtype=float32),\n",
       "       array([48.98783  ,  0.8275667], dtype=float32),\n",
       "       array([22.088331, 76.69192 ], dtype=float32),\n",
       "       array([45.17132 , 39.750957], dtype=float32),\n",
       "       array([ 9.22811 , -5.793715], dtype=float32),\n",
       "       array([12.538717, 29.54184 ], dtype=float32),\n",
       "       array([34.88376], dtype=float32),\n",
       "       array([-53.166973,  11.49187 ], dtype=float32),\n",
       "       array([-67.014854, -18.118755], dtype=float32),\n",
       "       array([15.983028, 34.684406], dtype=float32),\n",
       "       array([-70.51191 , -38.028744], dtype=float32),\n",
       "       array([58.943813], dtype=float32),\n",
       "       array([-15.587871], dtype=float32),\n",
       "       array([-122.33012  ,   -1.0597527], dtype=float32),\n",
       "       array([-46.704155,  39.020023], dtype=float32),\n",
       "       array([51.29466, 17.45092], dtype=float32),\n",
       "       array([43.2812], dtype=float32),\n",
       "       array([-45.923935,  22.549767], dtype=float32),\n",
       "       array([ 43.293606, -33.28158 ,  -4.376191], dtype=float32)],\n",
       "      dtype=object)"
      ]
     },
     "execution_count": 130,
     "metadata": {},
     "output_type": "execute_result"
    }
   ],
   "source": [
    "jagged_numpy = events[\"Muon_Px\"].array(entry_stop = 20, library = \"np\")\n",
    "jagged_numpy"
   ]
  },
  {
   "cell_type": "markdown",
   "id": "90a2b5f5-0aec-4680-a73d-c961977438ac",
   "metadata": {},
   "source": [
    "What if I want the first item in each list as an array?"
   ]
  },
  {
   "cell_type": "code",
   "execution_count": 131,
   "id": "460eaddc-c1d5-4bf4-8ad9-9fe0c7c3dc11",
   "metadata": {},
   "outputs": [
    {
     "data": {
      "text/plain": [
       "array([ -52.899456  ,   -0.81645936,   48.98783   ,   22.088331  ,\n",
       "         45.17132   ,    9.22811   ,   12.538717  ,   34.88376   ,\n",
       "        -53.166973  ,  -67.014854  ,   15.983028  ,  -70.51191   ,\n",
       "         58.943813  ,  -15.587871  , -122.33012   ,  -46.704155  ,\n",
       "         51.29466   ,   43.2812    ,  -45.923935  ,   43.293606  ],\n",
       "      dtype=float32)"
      ]
     },
     "execution_count": 131,
     "metadata": {},
     "output_type": "execute_result"
    }
   ],
   "source": [
    "np.array([x[0] for x in jagged_numpy]) #computationally poor since we are iterating here"
   ]
  },
  {
   "cell_type": "code",
   "execution_count": 132,
   "id": "2762ec2c-3d97-4d7b-9ce5-679e5e76ac07",
   "metadata": {},
   "outputs": [
    {
     "ename": "IndexError",
     "evalue": "too many indices for array: array is 1-dimensional, but 2 were indexed",
     "output_type": "error",
     "traceback": [
      "\u001b[0;31m---------------------------------------------------------------------------\u001b[0m",
      "\u001b[0;31mIndexError\u001b[0m                                Traceback (most recent call last)",
      "Cell \u001b[0;32mIn[132], line 1\u001b[0m\n\u001b[0;32m----> 1\u001b[0m \u001b[43mjagged_numpy\u001b[49m\u001b[43m[\u001b[49m\u001b[43m:\u001b[49m\u001b[43m,\u001b[49m\u001b[38;5;241;43m0\u001b[39;49m\u001b[43m]\u001b[49m \u001b[38;5;66;03m#cant even slice since its a dtype = object\u001b[39;00m\n",
      "\u001b[0;31mIndexError\u001b[0m: too many indices for array: array is 1-dimensional, but 2 were indexed"
     ]
    }
   ],
   "source": [
    "jagged_numpy[:,0] #cant even slice since its a dtype = object"
   ]
  },
  {
   "cell_type": "markdown",
   "id": "1852c0d4-656c-42d3-9611-7c449d4b8674",
   "metadata": {},
   "source": [
    "Thats where awkward array helps us:"
   ]
  },
  {
   "cell_type": "code",
   "execution_count": 133,
   "id": "3b0203bd-3d5f-4f22-9320-78d9296fa6c7",
   "metadata": {},
   "outputs": [
    {
     "data": {
      "text/plain": [
       "<Array [[-52.9, 37.7], ... 43.3, -33.3, -4.38]] type='20 * var * float32'>"
      ]
     },
     "execution_count": 133,
     "metadata": {},
     "output_type": "execute_result"
    }
   ],
   "source": [
    "jagged_awkward = events[\"Muon_Px\"].array(entry_stop = 20, library = \"ak\")\n",
    "jagged_awkward"
   ]
  },
  {
   "cell_type": "code",
   "execution_count": 134,
   "id": "7bf626cb-dbe0-4e02-aaa1-02145282e755",
   "metadata": {},
   "outputs": [
    {
     "data": {
      "text/plain": [
       "<Array [-52.9, -0.816, 49, ... -45.9, 43.3] type='20 * float32'>"
      ]
     },
     "execution_count": 134,
     "metadata": {},
     "output_type": "execute_result"
    }
   ],
   "source": [
    "LeadingMuons = jagged_awkward[:,0]\n",
    "LeadingMuons"
   ]
  },
  {
   "cell_type": "code",
   "execution_count": 135,
   "id": "95de603e-6bc7-4f1d-b1dd-7ba5bc7b3b43",
   "metadata": {},
   "outputs": [
    {
     "data": {
      "text/plain": [
       "array([ -52.899456  ,   -0.81645936,   48.98783   ,   22.088331  ,\n",
       "         45.17132   ,    9.22811   ,   12.538717  ,   34.88376   ,\n",
       "        -53.166973  ,  -67.014854  ,   15.983028  ,  -70.51191   ,\n",
       "         58.943813  ,  -15.587871  , -122.33012   ,  -46.704155  ,\n",
       "         51.29466   ,   43.2812    ,  -45.923935  ,   43.293606  ],\n",
       "      dtype=float32)"
      ]
     },
     "execution_count": 135,
     "metadata": {},
     "output_type": "execute_result"
    }
   ],
   "source": [
    "LeadingMuons.to_numpy()"
   ]
  },
  {
   "cell_type": "markdown",
   "id": "2a7e45a6-9b6c-4ef0-a92d-c62f27120e79",
   "metadata": {},
   "source": [
    "## Jaggedness in pandas"
   ]
  },
  {
   "cell_type": "code",
   "execution_count": 136,
   "id": "47cc3bab-22a2-4da9-9420-c64972da4f83",
   "metadata": {},
   "outputs": [
    {
     "name": "stderr",
     "output_type": "stream",
     "text": [
      "/home/prayag/.local/lib/python3.10/site-packages/uproot/interpretation/library.py:747: FutureWarning: MultiIndex.is_integer is deprecated. Use pandas.api.types.is_integer_dtype instead.\n",
      "  if hasattr(index, \"is_integer\") and index.is_integer():\n"
     ]
    },
    {
     "data": {
      "text/html": [
       "<div>\n",
       "<style scoped>\n",
       "    .dataframe tbody tr th:only-of-type {\n",
       "        vertical-align: middle;\n",
       "    }\n",
       "\n",
       "    .dataframe tbody tr th {\n",
       "        vertical-align: top;\n",
       "    }\n",
       "\n",
       "    .dataframe thead th {\n",
       "        text-align: right;\n",
       "    }\n",
       "</style>\n",
       "<table border=\"1\" class=\"dataframe\">\n",
       "  <thead>\n",
       "    <tr style=\"text-align: right;\">\n",
       "      <th></th>\n",
       "      <th></th>\n",
       "      <th>Muon_Px</th>\n",
       "      <th>Muon_Py</th>\n",
       "      <th>Muon_Pz</th>\n",
       "      <th>Muon_E</th>\n",
       "      <th>Muon_Charge</th>\n",
       "      <th>Muon_Iso</th>\n",
       "    </tr>\n",
       "    <tr>\n",
       "      <th>entry</th>\n",
       "      <th>subentry</th>\n",
       "      <th></th>\n",
       "      <th></th>\n",
       "      <th></th>\n",
       "      <th></th>\n",
       "      <th></th>\n",
       "      <th></th>\n",
       "    </tr>\n",
       "  </thead>\n",
       "  <tbody>\n",
       "    <tr>\n",
       "      <th rowspan=\"2\" valign=\"top\">0</th>\n",
       "      <th>0</th>\n",
       "      <td>-52.899456</td>\n",
       "      <td>-11.654672</td>\n",
       "      <td>-8.160793</td>\n",
       "      <td>54.779499</td>\n",
       "      <td>1</td>\n",
       "      <td>4.200153</td>\n",
       "    </tr>\n",
       "    <tr>\n",
       "      <th>1</th>\n",
       "      <td>37.737782</td>\n",
       "      <td>0.693474</td>\n",
       "      <td>-11.307582</td>\n",
       "      <td>39.401695</td>\n",
       "      <td>-1</td>\n",
       "      <td>2.151061</td>\n",
       "    </tr>\n",
       "    <tr>\n",
       "      <th>1</th>\n",
       "      <th>0</th>\n",
       "      <td>-0.816459</td>\n",
       "      <td>-24.404259</td>\n",
       "      <td>20.199968</td>\n",
       "      <td>31.690445</td>\n",
       "      <td>1</td>\n",
       "      <td>2.188047</td>\n",
       "    </tr>\n",
       "    <tr>\n",
       "      <th rowspan=\"2\" valign=\"top\">2</th>\n",
       "      <th>0</th>\n",
       "      <td>48.987831</td>\n",
       "      <td>-21.723139</td>\n",
       "      <td>11.168285</td>\n",
       "      <td>54.739788</td>\n",
       "      <td>1</td>\n",
       "      <td>1.412822</td>\n",
       "    </tr>\n",
       "    <tr>\n",
       "      <th>1</th>\n",
       "      <td>0.827567</td>\n",
       "      <td>29.800508</td>\n",
       "      <td>36.965191</td>\n",
       "      <td>47.488857</td>\n",
       "      <td>-1</td>\n",
       "      <td>3.383504</td>\n",
       "    </tr>\n",
       "    <tr>\n",
       "      <th>...</th>\n",
       "      <th>...</th>\n",
       "      <td>...</td>\n",
       "      <td>...</td>\n",
       "      <td>...</td>\n",
       "      <td>...</td>\n",
       "      <td>...</td>\n",
       "      <td>...</td>\n",
       "    </tr>\n",
       "    <tr>\n",
       "      <th>2416</th>\n",
       "      <th>0</th>\n",
       "      <td>-39.285824</td>\n",
       "      <td>-14.607491</td>\n",
       "      <td>61.715790</td>\n",
       "      <td>74.602982</td>\n",
       "      <td>-1</td>\n",
       "      <td>1.080880</td>\n",
       "    </tr>\n",
       "    <tr>\n",
       "      <th>2417</th>\n",
       "      <th>0</th>\n",
       "      <td>35.067146</td>\n",
       "      <td>-14.150043</td>\n",
       "      <td>160.817917</td>\n",
       "      <td>165.203949</td>\n",
       "      <td>-1</td>\n",
       "      <td>3.427752</td>\n",
       "    </tr>\n",
       "    <tr>\n",
       "      <th>2418</th>\n",
       "      <th>0</th>\n",
       "      <td>-29.756786</td>\n",
       "      <td>-15.303859</td>\n",
       "      <td>-52.663750</td>\n",
       "      <td>62.395161</td>\n",
       "      <td>-1</td>\n",
       "      <td>3.762945</td>\n",
       "    </tr>\n",
       "    <tr>\n",
       "      <th>2419</th>\n",
       "      <th>0</th>\n",
       "      <td>1.141870</td>\n",
       "      <td>63.609570</td>\n",
       "      <td>162.176315</td>\n",
       "      <td>174.208633</td>\n",
       "      <td>-1</td>\n",
       "      <td>0.550811</td>\n",
       "    </tr>\n",
       "    <tr>\n",
       "      <th>2420</th>\n",
       "      <th>0</th>\n",
       "      <td>23.913206</td>\n",
       "      <td>-35.665077</td>\n",
       "      <td>54.719437</td>\n",
       "      <td>69.556213</td>\n",
       "      <td>-1</td>\n",
       "      <td>0.000000</td>\n",
       "    </tr>\n",
       "  </tbody>\n",
       "</table>\n",
       "<p>3825 rows × 6 columns</p>\n",
       "</div>"
      ],
      "text/plain": [
       "                  Muon_Px    Muon_Py     Muon_Pz      Muon_E  Muon_Charge  \\\n",
       "entry subentry                                                              \n",
       "0     0        -52.899456 -11.654672   -8.160793   54.779499            1   \n",
       "      1         37.737782   0.693474  -11.307582   39.401695           -1   \n",
       "1     0         -0.816459 -24.404259   20.199968   31.690445            1   \n",
       "2     0         48.987831 -21.723139   11.168285   54.739788            1   \n",
       "      1          0.827567  29.800508   36.965191   47.488857           -1   \n",
       "...                   ...        ...         ...         ...          ...   \n",
       "2416  0        -39.285824 -14.607491   61.715790   74.602982           -1   \n",
       "2417  0         35.067146 -14.150043  160.817917  165.203949           -1   \n",
       "2418  0        -29.756786 -15.303859  -52.663750   62.395161           -1   \n",
       "2419  0          1.141870  63.609570  162.176315  174.208633           -1   \n",
       "2420  0         23.913206 -35.665077   54.719437   69.556213           -1   \n",
       "\n",
       "                Muon_Iso  \n",
       "entry subentry            \n",
       "0     0         4.200153  \n",
       "      1         2.151061  \n",
       "1     0         2.188047  \n",
       "2     0         1.412822  \n",
       "      1         3.383504  \n",
       "...                  ...  \n",
       "2416  0         1.080880  \n",
       "2417  0         3.427752  \n",
       "2418  0         3.762945  \n",
       "2419  0         0.550811  \n",
       "2420  0         0.000000  \n",
       "\n",
       "[3825 rows x 6 columns]"
      ]
     },
     "execution_count": 136,
     "metadata": {},
     "output_type": "execute_result"
    }
   ],
   "source": [
    "events.arrays(filter_name=\"Muon_*\", library = \"pd\")"
   ]
  },
  {
   "cell_type": "markdown",
   "id": "2a5625ed-3ab8-4533-acba-9f7df00e13ad",
   "metadata": {},
   "source": [
    "This pandas dataframe is jagged and has entries and subentries"
   ]
  },
  {
   "cell_type": "code",
   "execution_count": 137,
   "id": "b66f1c76-c152-4792-b0b9-ec6dcbdb8f9e",
   "metadata": {},
   "outputs": [
    {
     "name": "stderr",
     "output_type": "stream",
     "text": [
      "/home/prayag/.local/lib/python3.10/site-packages/uproot/interpretation/library.py:747: FutureWarning: MultiIndex.is_integer is deprecated. Use pandas.api.types.is_integer_dtype instead.\n",
      "  if hasattr(index, \"is_integer\") and index.is_integer():\n"
     ]
    },
    {
     "data": {
      "text/plain": [
       "4"
      ]
     },
     "execution_count": 137,
     "metadata": {},
     "output_type": "execute_result"
    }
   ],
   "source": [
    "jagged_pandas = events.arrays(filter_name=\"/(Muon_|Jet_)*/\", library = \"pd\")\n",
    "len(jagged_pandas)"
   ]
  },
  {
   "cell_type": "code",
   "execution_count": 138,
   "id": "6f344955-e5d9-4664-ae4f-aa016b541e03",
   "metadata": {},
   "outputs": [
    {
     "data": {
      "text/html": [
       "<div>\n",
       "<style scoped>\n",
       "    .dataframe tbody tr th:only-of-type {\n",
       "        vertical-align: middle;\n",
       "    }\n",
       "\n",
       "    .dataframe tbody tr th {\n",
       "        vertical-align: top;\n",
       "    }\n",
       "\n",
       "    .dataframe thead th {\n",
       "        text-align: right;\n",
       "    }\n",
       "</style>\n",
       "<table border=\"1\" class=\"dataframe\">\n",
       "  <thead>\n",
       "    <tr style=\"text-align: right;\">\n",
       "      <th></th>\n",
       "      <th></th>\n",
       "      <th>NJet</th>\n",
       "      <th>Jet_Px</th>\n",
       "      <th>Jet_Py</th>\n",
       "      <th>Jet_Pz</th>\n",
       "      <th>Jet_E</th>\n",
       "      <th>Jet_btag</th>\n",
       "      <th>Jet_ID</th>\n",
       "      <th>NMuon</th>\n",
       "      <th>NElectron</th>\n",
       "      <th>NPhoton</th>\n",
       "      <th>...</th>\n",
       "      <th>MClepton_px</th>\n",
       "      <th>MClepton_py</th>\n",
       "      <th>MClepton_pz</th>\n",
       "      <th>MCleptonPDGid</th>\n",
       "      <th>MCneutrino_px</th>\n",
       "      <th>MCneutrino_py</th>\n",
       "      <th>MCneutrino_pz</th>\n",
       "      <th>NPrimaryVertices</th>\n",
       "      <th>triggerIsoMu24</th>\n",
       "      <th>EventWeight</th>\n",
       "    </tr>\n",
       "    <tr>\n",
       "      <th>entry</th>\n",
       "      <th>subentry</th>\n",
       "      <th></th>\n",
       "      <th></th>\n",
       "      <th></th>\n",
       "      <th></th>\n",
       "      <th></th>\n",
       "      <th></th>\n",
       "      <th></th>\n",
       "      <th></th>\n",
       "      <th></th>\n",
       "      <th></th>\n",
       "      <th></th>\n",
       "      <th></th>\n",
       "      <th></th>\n",
       "      <th></th>\n",
       "      <th></th>\n",
       "      <th></th>\n",
       "      <th></th>\n",
       "      <th></th>\n",
       "      <th></th>\n",
       "      <th></th>\n",
       "      <th></th>\n",
       "    </tr>\n",
       "  </thead>\n",
       "  <tbody>\n",
       "    <tr>\n",
       "      <th>1</th>\n",
       "      <th>0</th>\n",
       "      <td>1</td>\n",
       "      <td>-38.874714</td>\n",
       "      <td>19.863453</td>\n",
       "      <td>-0.894942</td>\n",
       "      <td>44.137363</td>\n",
       "      <td>-1.0</td>\n",
       "      <td>True</td>\n",
       "      <td>1</td>\n",
       "      <td>0</td>\n",
       "      <td>0</td>\n",
       "      <td>...</td>\n",
       "      <td>0.0</td>\n",
       "      <td>0.0</td>\n",
       "      <td>0.0</td>\n",
       "      <td>0</td>\n",
       "      <td>0.0</td>\n",
       "      <td>0.0</td>\n",
       "      <td>0.0</td>\n",
       "      <td>18</td>\n",
       "      <td>True</td>\n",
       "      <td>0.000331</td>\n",
       "    </tr>\n",
       "    <tr>\n",
       "      <th rowspan=\"3\" valign=\"top\">3</th>\n",
       "      <th>0</th>\n",
       "      <td>3</td>\n",
       "      <td>-71.695213</td>\n",
       "      <td>93.571579</td>\n",
       "      <td>196.296432</td>\n",
       "      <td>230.346008</td>\n",
       "      <td>-1.0</td>\n",
       "      <td>True</td>\n",
       "      <td>2</td>\n",
       "      <td>0</td>\n",
       "      <td>0</td>\n",
       "      <td>...</td>\n",
       "      <td>0.0</td>\n",
       "      <td>0.0</td>\n",
       "      <td>0.0</td>\n",
       "      <td>0</td>\n",
       "      <td>0.0</td>\n",
       "      <td>0.0</td>\n",
       "      <td>0.0</td>\n",
       "      <td>8</td>\n",
       "      <td>True</td>\n",
       "      <td>0.007081</td>\n",
       "    </tr>\n",
       "    <tr>\n",
       "      <th>1</th>\n",
       "      <td>3</td>\n",
       "      <td>36.606369</td>\n",
       "      <td>21.838793</td>\n",
       "      <td>91.666283</td>\n",
       "      <td>101.358841</td>\n",
       "      <td>-1.0</td>\n",
       "      <td>True</td>\n",
       "      <td>2</td>\n",
       "      <td>0</td>\n",
       "      <td>0</td>\n",
       "      <td>...</td>\n",
       "      <td>0.0</td>\n",
       "      <td>0.0</td>\n",
       "      <td>0.0</td>\n",
       "      <td>0</td>\n",
       "      <td>0.0</td>\n",
       "      <td>0.0</td>\n",
       "      <td>0.0</td>\n",
       "      <td>8</td>\n",
       "      <td>True</td>\n",
       "      <td>0.007081</td>\n",
       "    </tr>\n",
       "    <tr>\n",
       "      <th>2</th>\n",
       "      <td>3</td>\n",
       "      <td>-28.866419</td>\n",
       "      <td>9.320708</td>\n",
       "      <td>51.243221</td>\n",
       "      <td>60.084141</td>\n",
       "      <td>-1.0</td>\n",
       "      <td>True</td>\n",
       "      <td>2</td>\n",
       "      <td>0</td>\n",
       "      <td>0</td>\n",
       "      <td>...</td>\n",
       "      <td>0.0</td>\n",
       "      <td>0.0</td>\n",
       "      <td>0.0</td>\n",
       "      <td>0</td>\n",
       "      <td>0.0</td>\n",
       "      <td>0.0</td>\n",
       "      <td>0.0</td>\n",
       "      <td>8</td>\n",
       "      <td>True</td>\n",
       "      <td>0.007081</td>\n",
       "    </tr>\n",
       "    <tr>\n",
       "      <th>4</th>\n",
       "      <th>0</th>\n",
       "      <td>2</td>\n",
       "      <td>3.880162</td>\n",
       "      <td>-75.234055</td>\n",
       "      <td>-359.601624</td>\n",
       "      <td>367.585480</td>\n",
       "      <td>-1.0</td>\n",
       "      <td>True</td>\n",
       "      <td>2</td>\n",
       "      <td>2</td>\n",
       "      <td>1</td>\n",
       "      <td>...</td>\n",
       "      <td>0.0</td>\n",
       "      <td>0.0</td>\n",
       "      <td>0.0</td>\n",
       "      <td>0</td>\n",
       "      <td>0.0</td>\n",
       "      <td>0.0</td>\n",
       "      <td>0.0</td>\n",
       "      <td>2</td>\n",
       "      <td>True</td>\n",
       "      <td>0.008536</td>\n",
       "    </tr>\n",
       "    <tr>\n",
       "      <th>...</th>\n",
       "      <th>...</th>\n",
       "      <td>...</td>\n",
       "      <td>...</td>\n",
       "      <td>...</td>\n",
       "      <td>...</td>\n",
       "      <td>...</td>\n",
       "      <td>...</td>\n",
       "      <td>...</td>\n",
       "      <td>...</td>\n",
       "      <td>...</td>\n",
       "      <td>...</td>\n",
       "      <td>...</td>\n",
       "      <td>...</td>\n",
       "      <td>...</td>\n",
       "      <td>...</td>\n",
       "      <td>...</td>\n",
       "      <td>...</td>\n",
       "      <td>...</td>\n",
       "      <td>...</td>\n",
       "      <td>...</td>\n",
       "      <td>...</td>\n",
       "      <td>...</td>\n",
       "    </tr>\n",
       "    <tr>\n",
       "      <th rowspan=\"2\" valign=\"top\">2417</th>\n",
       "      <th>0</th>\n",
       "      <td>2</td>\n",
       "      <td>-33.196457</td>\n",
       "      <td>-59.664749</td>\n",
       "      <td>-29.040150</td>\n",
       "      <td>74.944725</td>\n",
       "      <td>-1.0</td>\n",
       "      <td>True</td>\n",
       "      <td>1</td>\n",
       "      <td>0</td>\n",
       "      <td>0</td>\n",
       "      <td>...</td>\n",
       "      <td>0.0</td>\n",
       "      <td>0.0</td>\n",
       "      <td>0.0</td>\n",
       "      <td>0</td>\n",
       "      <td>0.0</td>\n",
       "      <td>0.0</td>\n",
       "      <td>0.0</td>\n",
       "      <td>18</td>\n",
       "      <td>True</td>\n",
       "      <td>0.000331</td>\n",
       "    </tr>\n",
       "    <tr>\n",
       "      <th>1</th>\n",
       "      <td>2</td>\n",
       "      <td>-26.086025</td>\n",
       "      <td>-19.068407</td>\n",
       "      <td>26.774284</td>\n",
       "      <td>42.481457</td>\n",
       "      <td>-1.0</td>\n",
       "      <td>True</td>\n",
       "      <td>1</td>\n",
       "      <td>0</td>\n",
       "      <td>0</td>\n",
       "      <td>...</td>\n",
       "      <td>0.0</td>\n",
       "      <td>0.0</td>\n",
       "      <td>0.0</td>\n",
       "      <td>0</td>\n",
       "      <td>0.0</td>\n",
       "      <td>0.0</td>\n",
       "      <td>0.0</td>\n",
       "      <td>18</td>\n",
       "      <td>True</td>\n",
       "      <td>0.000331</td>\n",
       "    </tr>\n",
       "    <tr>\n",
       "      <th>2418</th>\n",
       "      <th>0</th>\n",
       "      <td>1</td>\n",
       "      <td>-3.714818</td>\n",
       "      <td>-37.202377</td>\n",
       "      <td>41.012222</td>\n",
       "      <td>55.950581</td>\n",
       "      <td>-1.0</td>\n",
       "      <td>True</td>\n",
       "      <td>1</td>\n",
       "      <td>0</td>\n",
       "      <td>0</td>\n",
       "      <td>...</td>\n",
       "      <td>0.0</td>\n",
       "      <td>0.0</td>\n",
       "      <td>0.0</td>\n",
       "      <td>0</td>\n",
       "      <td>0.0</td>\n",
       "      <td>0.0</td>\n",
       "      <td>0.0</td>\n",
       "      <td>9</td>\n",
       "      <td>True</td>\n",
       "      <td>0.004153</td>\n",
       "    </tr>\n",
       "    <tr>\n",
       "      <th rowspan=\"2\" valign=\"top\">2419</th>\n",
       "      <th>0</th>\n",
       "      <td>2</td>\n",
       "      <td>-36.361286</td>\n",
       "      <td>10.173571</td>\n",
       "      <td>226.429214</td>\n",
       "      <td>229.577988</td>\n",
       "      <td>-1.0</td>\n",
       "      <td>True</td>\n",
       "      <td>1</td>\n",
       "      <td>0</td>\n",
       "      <td>1</td>\n",
       "      <td>...</td>\n",
       "      <td>0.0</td>\n",
       "      <td>0.0</td>\n",
       "      <td>0.0</td>\n",
       "      <td>0</td>\n",
       "      <td>0.0</td>\n",
       "      <td>0.0</td>\n",
       "      <td>0.0</td>\n",
       "      <td>6</td>\n",
       "      <td>True</td>\n",
       "      <td>0.008829</td>\n",
       "    </tr>\n",
       "    <tr>\n",
       "      <th>1</th>\n",
       "      <td>2</td>\n",
       "      <td>-15.256871</td>\n",
       "      <td>-27.175364</td>\n",
       "      <td>12.119683</td>\n",
       "      <td>33.920349</td>\n",
       "      <td>-1.0</td>\n",
       "      <td>True</td>\n",
       "      <td>1</td>\n",
       "      <td>0</td>\n",
       "      <td>1</td>\n",
       "      <td>...</td>\n",
       "      <td>0.0</td>\n",
       "      <td>0.0</td>\n",
       "      <td>0.0</td>\n",
       "      <td>0</td>\n",
       "      <td>0.0</td>\n",
       "      <td>0.0</td>\n",
       "      <td>0.0</td>\n",
       "      <td>6</td>\n",
       "      <td>True</td>\n",
       "      <td>0.008829</td>\n",
       "    </tr>\n",
       "  </tbody>\n",
       "</table>\n",
       "<p>2773 rows × 34 columns</p>\n",
       "</div>"
      ],
      "text/plain": [
       "                NJet     Jet_Px     Jet_Py      Jet_Pz       Jet_E  Jet_btag  \\\n",
       "entry subentry                                                                 \n",
       "1     0            1 -38.874714  19.863453   -0.894942   44.137363      -1.0   \n",
       "3     0            3 -71.695213  93.571579  196.296432  230.346008      -1.0   \n",
       "      1            3  36.606369  21.838793   91.666283  101.358841      -1.0   \n",
       "      2            3 -28.866419   9.320708   51.243221   60.084141      -1.0   \n",
       "4     0            2   3.880162 -75.234055 -359.601624  367.585480      -1.0   \n",
       "...              ...        ...        ...         ...         ...       ...   \n",
       "2417  0            2 -33.196457 -59.664749  -29.040150   74.944725      -1.0   \n",
       "      1            2 -26.086025 -19.068407   26.774284   42.481457      -1.0   \n",
       "2418  0            1  -3.714818 -37.202377   41.012222   55.950581      -1.0   \n",
       "2419  0            2 -36.361286  10.173571  226.429214  229.577988      -1.0   \n",
       "      1            2 -15.256871 -27.175364   12.119683   33.920349      -1.0   \n",
       "\n",
       "                Jet_ID  NMuon  NElectron  NPhoton  ...  MClepton_px  \\\n",
       "entry subentry                                     ...                \n",
       "1     0           True      1          0        0  ...          0.0   \n",
       "3     0           True      2          0        0  ...          0.0   \n",
       "      1           True      2          0        0  ...          0.0   \n",
       "      2           True      2          0        0  ...          0.0   \n",
       "4     0           True      2          2        1  ...          0.0   \n",
       "...                ...    ...        ...      ...  ...          ...   \n",
       "2417  0           True      1          0        0  ...          0.0   \n",
       "      1           True      1          0        0  ...          0.0   \n",
       "2418  0           True      1          0        0  ...          0.0   \n",
       "2419  0           True      1          0        1  ...          0.0   \n",
       "      1           True      1          0        1  ...          0.0   \n",
       "\n",
       "                MClepton_py  MClepton_pz  MCleptonPDGid  MCneutrino_px  \\\n",
       "entry subentry                                                           \n",
       "1     0                 0.0          0.0              0            0.0   \n",
       "3     0                 0.0          0.0              0            0.0   \n",
       "      1                 0.0          0.0              0            0.0   \n",
       "      2                 0.0          0.0              0            0.0   \n",
       "4     0                 0.0          0.0              0            0.0   \n",
       "...                     ...          ...            ...            ...   \n",
       "2417  0                 0.0          0.0              0            0.0   \n",
       "      1                 0.0          0.0              0            0.0   \n",
       "2418  0                 0.0          0.0              0            0.0   \n",
       "2419  0                 0.0          0.0              0            0.0   \n",
       "      1                 0.0          0.0              0            0.0   \n",
       "\n",
       "                MCneutrino_py  MCneutrino_pz  NPrimaryVertices  \\\n",
       "entry subentry                                                   \n",
       "1     0                   0.0            0.0                18   \n",
       "3     0                   0.0            0.0                 8   \n",
       "      1                   0.0            0.0                 8   \n",
       "      2                   0.0            0.0                 8   \n",
       "4     0                   0.0            0.0                 2   \n",
       "...                       ...            ...               ...   \n",
       "2417  0                   0.0            0.0                18   \n",
       "      1                   0.0            0.0                18   \n",
       "2418  0                   0.0            0.0                 9   \n",
       "2419  0                   0.0            0.0                 6   \n",
       "      1                   0.0            0.0                 6   \n",
       "\n",
       "                triggerIsoMu24  EventWeight  \n",
       "entry subentry                               \n",
       "1     0                   True     0.000331  \n",
       "3     0                   True     0.007081  \n",
       "      1                   True     0.007081  \n",
       "      2                   True     0.007081  \n",
       "4     0                   True     0.008536  \n",
       "...                        ...          ...  \n",
       "2417  0                   True     0.000331  \n",
       "      1                   True     0.000331  \n",
       "2418  0                   True     0.004153  \n",
       "2419  0                   True     0.008829  \n",
       "      1                   True     0.008829  \n",
       "\n",
       "[2773 rows x 34 columns]"
      ]
     },
     "execution_count": 138,
     "metadata": {},
     "output_type": "execute_result"
    }
   ],
   "source": [
    "jagged_pandas[0]"
   ]
  },
  {
   "cell_type": "code",
   "execution_count": 139,
   "id": "5f3d95af-8965-426b-a743-13a0dc3b6ed7",
   "metadata": {},
   "outputs": [
    {
     "data": {
      "text/html": [
       "<div>\n",
       "<style scoped>\n",
       "    .dataframe tbody tr th:only-of-type {\n",
       "        vertical-align: middle;\n",
       "    }\n",
       "\n",
       "    .dataframe tbody tr th {\n",
       "        vertical-align: top;\n",
       "    }\n",
       "\n",
       "    .dataframe thead th {\n",
       "        text-align: right;\n",
       "    }\n",
       "</style>\n",
       "<table border=\"1\" class=\"dataframe\">\n",
       "  <thead>\n",
       "    <tr style=\"text-align: right;\">\n",
       "      <th></th>\n",
       "      <th></th>\n",
       "      <th>NJet</th>\n",
       "      <th>NMuon</th>\n",
       "      <th>Muon_Px</th>\n",
       "      <th>Muon_Py</th>\n",
       "      <th>Muon_Pz</th>\n",
       "      <th>Muon_E</th>\n",
       "      <th>Muon_Charge</th>\n",
       "      <th>Muon_Iso</th>\n",
       "      <th>NElectron</th>\n",
       "      <th>NPhoton</th>\n",
       "      <th>...</th>\n",
       "      <th>MClepton_px</th>\n",
       "      <th>MClepton_py</th>\n",
       "      <th>MClepton_pz</th>\n",
       "      <th>MCleptonPDGid</th>\n",
       "      <th>MCneutrino_px</th>\n",
       "      <th>MCneutrino_py</th>\n",
       "      <th>MCneutrino_pz</th>\n",
       "      <th>NPrimaryVertices</th>\n",
       "      <th>triggerIsoMu24</th>\n",
       "      <th>EventWeight</th>\n",
       "    </tr>\n",
       "    <tr>\n",
       "      <th>entry</th>\n",
       "      <th>subentry</th>\n",
       "      <th></th>\n",
       "      <th></th>\n",
       "      <th></th>\n",
       "      <th></th>\n",
       "      <th></th>\n",
       "      <th></th>\n",
       "      <th></th>\n",
       "      <th></th>\n",
       "      <th></th>\n",
       "      <th></th>\n",
       "      <th></th>\n",
       "      <th></th>\n",
       "      <th></th>\n",
       "      <th></th>\n",
       "      <th></th>\n",
       "      <th></th>\n",
       "      <th></th>\n",
       "      <th></th>\n",
       "      <th></th>\n",
       "      <th></th>\n",
       "      <th></th>\n",
       "    </tr>\n",
       "  </thead>\n",
       "  <tbody>\n",
       "    <tr>\n",
       "      <th rowspan=\"2\" valign=\"top\">0</th>\n",
       "      <th>0</th>\n",
       "      <td>0</td>\n",
       "      <td>2</td>\n",
       "      <td>-52.899456</td>\n",
       "      <td>-11.654672</td>\n",
       "      <td>-8.160793</td>\n",
       "      <td>54.779499</td>\n",
       "      <td>1</td>\n",
       "      <td>4.200153</td>\n",
       "      <td>0</td>\n",
       "      <td>0</td>\n",
       "      <td>...</td>\n",
       "      <td>0.0</td>\n",
       "      <td>0.0</td>\n",
       "      <td>0.0</td>\n",
       "      <td>0</td>\n",
       "      <td>0.0</td>\n",
       "      <td>0.0</td>\n",
       "      <td>0.0</td>\n",
       "      <td>6</td>\n",
       "      <td>True</td>\n",
       "      <td>0.009271</td>\n",
       "    </tr>\n",
       "    <tr>\n",
       "      <th>1</th>\n",
       "      <td>0</td>\n",
       "      <td>2</td>\n",
       "      <td>37.737782</td>\n",
       "      <td>0.693474</td>\n",
       "      <td>-11.307582</td>\n",
       "      <td>39.401695</td>\n",
       "      <td>-1</td>\n",
       "      <td>2.151061</td>\n",
       "      <td>0</td>\n",
       "      <td>0</td>\n",
       "      <td>...</td>\n",
       "      <td>0.0</td>\n",
       "      <td>0.0</td>\n",
       "      <td>0.0</td>\n",
       "      <td>0</td>\n",
       "      <td>0.0</td>\n",
       "      <td>0.0</td>\n",
       "      <td>0.0</td>\n",
       "      <td>6</td>\n",
       "      <td>True</td>\n",
       "      <td>0.009271</td>\n",
       "    </tr>\n",
       "    <tr>\n",
       "      <th>1</th>\n",
       "      <th>0</th>\n",
       "      <td>1</td>\n",
       "      <td>1</td>\n",
       "      <td>-0.816459</td>\n",
       "      <td>-24.404259</td>\n",
       "      <td>20.199968</td>\n",
       "      <td>31.690445</td>\n",
       "      <td>1</td>\n",
       "      <td>2.188047</td>\n",
       "      <td>0</td>\n",
       "      <td>0</td>\n",
       "      <td>...</td>\n",
       "      <td>0.0</td>\n",
       "      <td>0.0</td>\n",
       "      <td>0.0</td>\n",
       "      <td>0</td>\n",
       "      <td>0.0</td>\n",
       "      <td>0.0</td>\n",
       "      <td>0.0</td>\n",
       "      <td>18</td>\n",
       "      <td>True</td>\n",
       "      <td>0.000331</td>\n",
       "    </tr>\n",
       "    <tr>\n",
       "      <th rowspan=\"2\" valign=\"top\">2</th>\n",
       "      <th>0</th>\n",
       "      <td>0</td>\n",
       "      <td>2</td>\n",
       "      <td>48.987831</td>\n",
       "      <td>-21.723139</td>\n",
       "      <td>11.168285</td>\n",
       "      <td>54.739788</td>\n",
       "      <td>1</td>\n",
       "      <td>1.412822</td>\n",
       "      <td>0</td>\n",
       "      <td>0</td>\n",
       "      <td>...</td>\n",
       "      <td>0.0</td>\n",
       "      <td>0.0</td>\n",
       "      <td>0.0</td>\n",
       "      <td>0</td>\n",
       "      <td>0.0</td>\n",
       "      <td>0.0</td>\n",
       "      <td>0.0</td>\n",
       "      <td>16</td>\n",
       "      <td>True</td>\n",
       "      <td>0.005080</td>\n",
       "    </tr>\n",
       "    <tr>\n",
       "      <th>1</th>\n",
       "      <td>0</td>\n",
       "      <td>2</td>\n",
       "      <td>0.827567</td>\n",
       "      <td>29.800508</td>\n",
       "      <td>36.965191</td>\n",
       "      <td>47.488857</td>\n",
       "      <td>-1</td>\n",
       "      <td>3.383504</td>\n",
       "      <td>0</td>\n",
       "      <td>0</td>\n",
       "      <td>...</td>\n",
       "      <td>0.0</td>\n",
       "      <td>0.0</td>\n",
       "      <td>0.0</td>\n",
       "      <td>0</td>\n",
       "      <td>0.0</td>\n",
       "      <td>0.0</td>\n",
       "      <td>0.0</td>\n",
       "      <td>16</td>\n",
       "      <td>True</td>\n",
       "      <td>0.005080</td>\n",
       "    </tr>\n",
       "    <tr>\n",
       "      <th>...</th>\n",
       "      <th>...</th>\n",
       "      <td>...</td>\n",
       "      <td>...</td>\n",
       "      <td>...</td>\n",
       "      <td>...</td>\n",
       "      <td>...</td>\n",
       "      <td>...</td>\n",
       "      <td>...</td>\n",
       "      <td>...</td>\n",
       "      <td>...</td>\n",
       "      <td>...</td>\n",
       "      <td>...</td>\n",
       "      <td>...</td>\n",
       "      <td>...</td>\n",
       "      <td>...</td>\n",
       "      <td>...</td>\n",
       "      <td>...</td>\n",
       "      <td>...</td>\n",
       "      <td>...</td>\n",
       "      <td>...</td>\n",
       "      <td>...</td>\n",
       "      <td>...</td>\n",
       "    </tr>\n",
       "    <tr>\n",
       "      <th>2416</th>\n",
       "      <th>0</th>\n",
       "      <td>1</td>\n",
       "      <td>1</td>\n",
       "      <td>-39.285824</td>\n",
       "      <td>-14.607491</td>\n",
       "      <td>61.715790</td>\n",
       "      <td>74.602982</td>\n",
       "      <td>-1</td>\n",
       "      <td>1.080880</td>\n",
       "      <td>0</td>\n",
       "      <td>0</td>\n",
       "      <td>...</td>\n",
       "      <td>0.0</td>\n",
       "      <td>0.0</td>\n",
       "      <td>0.0</td>\n",
       "      <td>0</td>\n",
       "      <td>0.0</td>\n",
       "      <td>0.0</td>\n",
       "      <td>0.0</td>\n",
       "      <td>9</td>\n",
       "      <td>True</td>\n",
       "      <td>0.009260</td>\n",
       "    </tr>\n",
       "    <tr>\n",
       "      <th>2417</th>\n",
       "      <th>0</th>\n",
       "      <td>2</td>\n",
       "      <td>1</td>\n",
       "      <td>35.067146</td>\n",
       "      <td>-14.150043</td>\n",
       "      <td>160.817917</td>\n",
       "      <td>165.203949</td>\n",
       "      <td>-1</td>\n",
       "      <td>3.427752</td>\n",
       "      <td>0</td>\n",
       "      <td>0</td>\n",
       "      <td>...</td>\n",
       "      <td>0.0</td>\n",
       "      <td>0.0</td>\n",
       "      <td>0.0</td>\n",
       "      <td>0</td>\n",
       "      <td>0.0</td>\n",
       "      <td>0.0</td>\n",
       "      <td>0.0</td>\n",
       "      <td>18</td>\n",
       "      <td>True</td>\n",
       "      <td>0.000331</td>\n",
       "    </tr>\n",
       "    <tr>\n",
       "      <th>2418</th>\n",
       "      <th>0</th>\n",
       "      <td>1</td>\n",
       "      <td>1</td>\n",
       "      <td>-29.756786</td>\n",
       "      <td>-15.303859</td>\n",
       "      <td>-52.663750</td>\n",
       "      <td>62.395161</td>\n",
       "      <td>-1</td>\n",
       "      <td>3.762945</td>\n",
       "      <td>0</td>\n",
       "      <td>0</td>\n",
       "      <td>...</td>\n",
       "      <td>0.0</td>\n",
       "      <td>0.0</td>\n",
       "      <td>0.0</td>\n",
       "      <td>0</td>\n",
       "      <td>0.0</td>\n",
       "      <td>0.0</td>\n",
       "      <td>0.0</td>\n",
       "      <td>9</td>\n",
       "      <td>True</td>\n",
       "      <td>0.004153</td>\n",
       "    </tr>\n",
       "    <tr>\n",
       "      <th>2419</th>\n",
       "      <th>0</th>\n",
       "      <td>2</td>\n",
       "      <td>1</td>\n",
       "      <td>1.141870</td>\n",
       "      <td>63.609570</td>\n",
       "      <td>162.176315</td>\n",
       "      <td>174.208633</td>\n",
       "      <td>-1</td>\n",
       "      <td>0.550811</td>\n",
       "      <td>0</td>\n",
       "      <td>1</td>\n",
       "      <td>...</td>\n",
       "      <td>0.0</td>\n",
       "      <td>0.0</td>\n",
       "      <td>0.0</td>\n",
       "      <td>0</td>\n",
       "      <td>0.0</td>\n",
       "      <td>0.0</td>\n",
       "      <td>0.0</td>\n",
       "      <td>6</td>\n",
       "      <td>True</td>\n",
       "      <td>0.008829</td>\n",
       "    </tr>\n",
       "    <tr>\n",
       "      <th>2420</th>\n",
       "      <th>0</th>\n",
       "      <td>0</td>\n",
       "      <td>1</td>\n",
       "      <td>23.913206</td>\n",
       "      <td>-35.665077</td>\n",
       "      <td>54.719437</td>\n",
       "      <td>69.556213</td>\n",
       "      <td>-1</td>\n",
       "      <td>0.000000</td>\n",
       "      <td>0</td>\n",
       "      <td>1</td>\n",
       "      <td>...</td>\n",
       "      <td>0.0</td>\n",
       "      <td>0.0</td>\n",
       "      <td>0.0</td>\n",
       "      <td>0</td>\n",
       "      <td>0.0</td>\n",
       "      <td>0.0</td>\n",
       "      <td>0.0</td>\n",
       "      <td>12</td>\n",
       "      <td>True</td>\n",
       "      <td>0.008755</td>\n",
       "    </tr>\n",
       "  </tbody>\n",
       "</table>\n",
       "<p>3825 rows × 34 columns</p>\n",
       "</div>"
      ],
      "text/plain": [
       "                NJet  NMuon    Muon_Px    Muon_Py     Muon_Pz      Muon_E  \\\n",
       "entry subentry                                                              \n",
       "0     0            0      2 -52.899456 -11.654672   -8.160793   54.779499   \n",
       "      1            0      2  37.737782   0.693474  -11.307582   39.401695   \n",
       "1     0            1      1  -0.816459 -24.404259   20.199968   31.690445   \n",
       "2     0            0      2  48.987831 -21.723139   11.168285   54.739788   \n",
       "      1            0      2   0.827567  29.800508   36.965191   47.488857   \n",
       "...              ...    ...        ...        ...         ...         ...   \n",
       "2416  0            1      1 -39.285824 -14.607491   61.715790   74.602982   \n",
       "2417  0            2      1  35.067146 -14.150043  160.817917  165.203949   \n",
       "2418  0            1      1 -29.756786 -15.303859  -52.663750   62.395161   \n",
       "2419  0            2      1   1.141870  63.609570  162.176315  174.208633   \n",
       "2420  0            0      1  23.913206 -35.665077   54.719437   69.556213   \n",
       "\n",
       "                Muon_Charge  Muon_Iso  NElectron  NPhoton  ...  MClepton_px  \\\n",
       "entry subentry                                             ...                \n",
       "0     0                   1  4.200153          0        0  ...          0.0   \n",
       "      1                  -1  2.151061          0        0  ...          0.0   \n",
       "1     0                   1  2.188047          0        0  ...          0.0   \n",
       "2     0                   1  1.412822          0        0  ...          0.0   \n",
       "      1                  -1  3.383504          0        0  ...          0.0   \n",
       "...                     ...       ...        ...      ...  ...          ...   \n",
       "2416  0                  -1  1.080880          0        0  ...          0.0   \n",
       "2417  0                  -1  3.427752          0        0  ...          0.0   \n",
       "2418  0                  -1  3.762945          0        0  ...          0.0   \n",
       "2419  0                  -1  0.550811          0        1  ...          0.0   \n",
       "2420  0                  -1  0.000000          0        1  ...          0.0   \n",
       "\n",
       "                MClepton_py  MClepton_pz  MCleptonPDGid  MCneutrino_px  \\\n",
       "entry subentry                                                           \n",
       "0     0                 0.0          0.0              0            0.0   \n",
       "      1                 0.0          0.0              0            0.0   \n",
       "1     0                 0.0          0.0              0            0.0   \n",
       "2     0                 0.0          0.0              0            0.0   \n",
       "      1                 0.0          0.0              0            0.0   \n",
       "...                     ...          ...            ...            ...   \n",
       "2416  0                 0.0          0.0              0            0.0   \n",
       "2417  0                 0.0          0.0              0            0.0   \n",
       "2418  0                 0.0          0.0              0            0.0   \n",
       "2419  0                 0.0          0.0              0            0.0   \n",
       "2420  0                 0.0          0.0              0            0.0   \n",
       "\n",
       "                MCneutrino_py  MCneutrino_pz  NPrimaryVertices  \\\n",
       "entry subentry                                                   \n",
       "0     0                   0.0            0.0                 6   \n",
       "      1                   0.0            0.0                 6   \n",
       "1     0                   0.0            0.0                18   \n",
       "2     0                   0.0            0.0                16   \n",
       "      1                   0.0            0.0                16   \n",
       "...                       ...            ...               ...   \n",
       "2416  0                   0.0            0.0                 9   \n",
       "2417  0                   0.0            0.0                18   \n",
       "2418  0                   0.0            0.0                 9   \n",
       "2419  0                   0.0            0.0                 6   \n",
       "2420  0                   0.0            0.0                12   \n",
       "\n",
       "                triggerIsoMu24  EventWeight  \n",
       "entry subentry                               \n",
       "0     0                   True     0.009271  \n",
       "      1                   True     0.009271  \n",
       "1     0                   True     0.000331  \n",
       "2     0                   True     0.005080  \n",
       "      1                   True     0.005080  \n",
       "...                        ...          ...  \n",
       "2416  0                   True     0.009260  \n",
       "2417  0                   True     0.000331  \n",
       "2418  0                   True     0.004153  \n",
       "2419  0                   True     0.008829  \n",
       "2420  0                   True     0.008755  \n",
       "\n",
       "[3825 rows x 34 columns]"
      ]
     },
     "execution_count": 139,
     "metadata": {},
     "output_type": "execute_result"
    }
   ],
   "source": [
    "jagged_pandas[1]"
   ]
  },
  {
   "cell_type": "code",
   "execution_count": 140,
   "id": "114b90bc-89b0-442a-b6fc-be73d1cdf505",
   "metadata": {},
   "outputs": [
    {
     "data": {
      "text/html": [
       "<div>\n",
       "<style scoped>\n",
       "    .dataframe tbody tr th:only-of-type {\n",
       "        vertical-align: middle;\n",
       "    }\n",
       "\n",
       "    .dataframe tbody tr th {\n",
       "        vertical-align: top;\n",
       "    }\n",
       "\n",
       "    .dataframe thead th {\n",
       "        text-align: right;\n",
       "    }\n",
       "</style>\n",
       "<table border=\"1\" class=\"dataframe\">\n",
       "  <thead>\n",
       "    <tr style=\"text-align: right;\">\n",
       "      <th></th>\n",
       "      <th></th>\n",
       "      <th>NJet</th>\n",
       "      <th>NMuon</th>\n",
       "      <th>NElectron</th>\n",
       "      <th>Electron_Px</th>\n",
       "      <th>Electron_Py</th>\n",
       "      <th>Electron_Pz</th>\n",
       "      <th>Electron_E</th>\n",
       "      <th>Electron_Charge</th>\n",
       "      <th>Electron_Iso</th>\n",
       "      <th>NPhoton</th>\n",
       "      <th>...</th>\n",
       "      <th>MClepton_px</th>\n",
       "      <th>MClepton_py</th>\n",
       "      <th>MClepton_pz</th>\n",
       "      <th>MCleptonPDGid</th>\n",
       "      <th>MCneutrino_px</th>\n",
       "      <th>MCneutrino_py</th>\n",
       "      <th>MCneutrino_pz</th>\n",
       "      <th>NPrimaryVertices</th>\n",
       "      <th>triggerIsoMu24</th>\n",
       "      <th>EventWeight</th>\n",
       "    </tr>\n",
       "    <tr>\n",
       "      <th>entry</th>\n",
       "      <th>subentry</th>\n",
       "      <th></th>\n",
       "      <th></th>\n",
       "      <th></th>\n",
       "      <th></th>\n",
       "      <th></th>\n",
       "      <th></th>\n",
       "      <th></th>\n",
       "      <th></th>\n",
       "      <th></th>\n",
       "      <th></th>\n",
       "      <th></th>\n",
       "      <th></th>\n",
       "      <th></th>\n",
       "      <th></th>\n",
       "      <th></th>\n",
       "      <th></th>\n",
       "      <th></th>\n",
       "      <th></th>\n",
       "      <th></th>\n",
       "      <th></th>\n",
       "      <th></th>\n",
       "    </tr>\n",
       "  </thead>\n",
       "  <tbody>\n",
       "    <tr>\n",
       "      <th rowspan=\"2\" valign=\"top\">4</th>\n",
       "      <th>0</th>\n",
       "      <td>2</td>\n",
       "      <td>2</td>\n",
       "      <td>2</td>\n",
       "      <td>-82.592216</td>\n",
       "      <td>41.092983</td>\n",
       "      <td>-363.753113</td>\n",
       "      <td>375.268494</td>\n",
       "      <td>-1</td>\n",
       "      <td>1.090143</td>\n",
       "      <td>1</td>\n",
       "      <td>...</td>\n",
       "      <td>0.0</td>\n",
       "      <td>0.0</td>\n",
       "      <td>0.0</td>\n",
       "      <td>0</td>\n",
       "      <td>0.0</td>\n",
       "      <td>0.0</td>\n",
       "      <td>0.0</td>\n",
       "      <td>2</td>\n",
       "      <td>True</td>\n",
       "      <td>0.008536</td>\n",
       "    </tr>\n",
       "    <tr>\n",
       "      <th>1</th>\n",
       "      <td>2</td>\n",
       "      <td>2</td>\n",
       "      <td>2</td>\n",
       "      <td>4.162826</td>\n",
       "      <td>-23.218815</td>\n",
       "      <td>-66.383858</td>\n",
       "      <td>70.450401</td>\n",
       "      <td>1</td>\n",
       "      <td>4.629203</td>\n",
       "      <td>1</td>\n",
       "      <td>...</td>\n",
       "      <td>0.0</td>\n",
       "      <td>0.0</td>\n",
       "      <td>0.0</td>\n",
       "      <td>0</td>\n",
       "      <td>0.0</td>\n",
       "      <td>0.0</td>\n",
       "      <td>0.0</td>\n",
       "      <td>2</td>\n",
       "      <td>True</td>\n",
       "      <td>0.008536</td>\n",
       "    </tr>\n",
       "    <tr>\n",
       "      <th>15</th>\n",
       "      <th>0</th>\n",
       "      <td>0</td>\n",
       "      <td>2</td>\n",
       "      <td>1</td>\n",
       "      <td>13.831234</td>\n",
       "      <td>3.564487</td>\n",
       "      <td>56.735542</td>\n",
       "      <td>58.505817</td>\n",
       "      <td>1</td>\n",
       "      <td>0.000000</td>\n",
       "      <td>1</td>\n",
       "      <td>...</td>\n",
       "      <td>0.0</td>\n",
       "      <td>0.0</td>\n",
       "      <td>0.0</td>\n",
       "      <td>0</td>\n",
       "      <td>0.0</td>\n",
       "      <td>0.0</td>\n",
       "      <td>0.0</td>\n",
       "      <td>3</td>\n",
       "      <td>True</td>\n",
       "      <td>0.008529</td>\n",
       "    </tr>\n",
       "    <tr>\n",
       "      <th>114</th>\n",
       "      <th>0</th>\n",
       "      <td>1</td>\n",
       "      <td>2</td>\n",
       "      <td>1</td>\n",
       "      <td>-46.878876</td>\n",
       "      <td>-43.351032</td>\n",
       "      <td>-177.028412</td>\n",
       "      <td>188.191391</td>\n",
       "      <td>-1</td>\n",
       "      <td>2.455079</td>\n",
       "      <td>1</td>\n",
       "      <td>...</td>\n",
       "      <td>0.0</td>\n",
       "      <td>0.0</td>\n",
       "      <td>0.0</td>\n",
       "      <td>0</td>\n",
       "      <td>0.0</td>\n",
       "      <td>0.0</td>\n",
       "      <td>0.0</td>\n",
       "      <td>5</td>\n",
       "      <td>True</td>\n",
       "      <td>0.008668</td>\n",
       "    </tr>\n",
       "    <tr>\n",
       "      <th>124</th>\n",
       "      <th>0</th>\n",
       "      <td>1</td>\n",
       "      <td>2</td>\n",
       "      <td>1</td>\n",
       "      <td>-36.483067</td>\n",
       "      <td>-13.627416</td>\n",
       "      <td>-37.939960</td>\n",
       "      <td>54.370590</td>\n",
       "      <td>-1</td>\n",
       "      <td>0.735831</td>\n",
       "      <td>2</td>\n",
       "      <td>...</td>\n",
       "      <td>0.0</td>\n",
       "      <td>0.0</td>\n",
       "      <td>0.0</td>\n",
       "      <td>0</td>\n",
       "      <td>0.0</td>\n",
       "      <td>0.0</td>\n",
       "      <td>0.0</td>\n",
       "      <td>8</td>\n",
       "      <td>True</td>\n",
       "      <td>0.008013</td>\n",
       "    </tr>\n",
       "    <tr>\n",
       "      <th>...</th>\n",
       "      <th>...</th>\n",
       "      <td>...</td>\n",
       "      <td>...</td>\n",
       "      <td>...</td>\n",
       "      <td>...</td>\n",
       "      <td>...</td>\n",
       "      <td>...</td>\n",
       "      <td>...</td>\n",
       "      <td>...</td>\n",
       "      <td>...</td>\n",
       "      <td>...</td>\n",
       "      <td>...</td>\n",
       "      <td>...</td>\n",
       "      <td>...</td>\n",
       "      <td>...</td>\n",
       "      <td>...</td>\n",
       "      <td>...</td>\n",
       "      <td>...</td>\n",
       "      <td>...</td>\n",
       "      <td>...</td>\n",
       "      <td>...</td>\n",
       "      <td>...</td>\n",
       "    </tr>\n",
       "    <tr>\n",
       "      <th rowspan=\"2\" valign=\"top\">2361</th>\n",
       "      <th>0</th>\n",
       "      <td>0</td>\n",
       "      <td>2</td>\n",
       "      <td>2</td>\n",
       "      <td>-7.262786</td>\n",
       "      <td>54.933182</td>\n",
       "      <td>-20.446810</td>\n",
       "      <td>59.063309</td>\n",
       "      <td>-1</td>\n",
       "      <td>0.657142</td>\n",
       "      <td>2</td>\n",
       "      <td>...</td>\n",
       "      <td>0.0</td>\n",
       "      <td>0.0</td>\n",
       "      <td>0.0</td>\n",
       "      <td>0</td>\n",
       "      <td>0.0</td>\n",
       "      <td>0.0</td>\n",
       "      <td>0.0</td>\n",
       "      <td>10</td>\n",
       "      <td>True</td>\n",
       "      <td>0.007081</td>\n",
       "    </tr>\n",
       "    <tr>\n",
       "      <th>1</th>\n",
       "      <td>0</td>\n",
       "      <td>2</td>\n",
       "      <td>2</td>\n",
       "      <td>18.481556</td>\n",
       "      <td>33.376698</td>\n",
       "      <td>7.449298</td>\n",
       "      <td>38.872406</td>\n",
       "      <td>1</td>\n",
       "      <td>0.000000</td>\n",
       "      <td>2</td>\n",
       "      <td>...</td>\n",
       "      <td>0.0</td>\n",
       "      <td>0.0</td>\n",
       "      <td>0.0</td>\n",
       "      <td>0</td>\n",
       "      <td>0.0</td>\n",
       "      <td>0.0</td>\n",
       "      <td>0.0</td>\n",
       "      <td>10</td>\n",
       "      <td>True</td>\n",
       "      <td>0.007081</td>\n",
       "    </tr>\n",
       "    <tr>\n",
       "      <th>2389</th>\n",
       "      <th>0</th>\n",
       "      <td>1</td>\n",
       "      <td>2</td>\n",
       "      <td>1</td>\n",
       "      <td>-9.744128</td>\n",
       "      <td>-21.877804</td>\n",
       "      <td>34.970413</td>\n",
       "      <td>42.385330</td>\n",
       "      <td>1</td>\n",
       "      <td>0.207944</td>\n",
       "      <td>3</td>\n",
       "      <td>...</td>\n",
       "      <td>0.0</td>\n",
       "      <td>0.0</td>\n",
       "      <td>0.0</td>\n",
       "      <td>0</td>\n",
       "      <td>0.0</td>\n",
       "      <td>0.0</td>\n",
       "      <td>0.0</td>\n",
       "      <td>3</td>\n",
       "      <td>True</td>\n",
       "      <td>0.008829</td>\n",
       "    </tr>\n",
       "    <tr>\n",
       "      <th rowspan=\"2\" valign=\"top\">2410</th>\n",
       "      <th>0</th>\n",
       "      <td>0</td>\n",
       "      <td>2</td>\n",
       "      <td>2</td>\n",
       "      <td>-37.681973</td>\n",
       "      <td>8.211936</td>\n",
       "      <td>-6.767756</td>\n",
       "      <td>39.155704</td>\n",
       "      <td>-1</td>\n",
       "      <td>3.369568</td>\n",
       "      <td>2</td>\n",
       "      <td>...</td>\n",
       "      <td>0.0</td>\n",
       "      <td>0.0</td>\n",
       "      <td>0.0</td>\n",
       "      <td>0</td>\n",
       "      <td>0.0</td>\n",
       "      <td>0.0</td>\n",
       "      <td>0.0</td>\n",
       "      <td>11</td>\n",
       "      <td>True</td>\n",
       "      <td>0.003322</td>\n",
       "    </tr>\n",
       "    <tr>\n",
       "      <th>1</th>\n",
       "      <td>0</td>\n",
       "      <td>2</td>\n",
       "      <td>2</td>\n",
       "      <td>18.453588</td>\n",
       "      <td>-4.034171</td>\n",
       "      <td>67.131828</td>\n",
       "      <td>69.738739</td>\n",
       "      <td>1</td>\n",
       "      <td>0.955300</td>\n",
       "      <td>2</td>\n",
       "      <td>...</td>\n",
       "      <td>0.0</td>\n",
       "      <td>0.0</td>\n",
       "      <td>0.0</td>\n",
       "      <td>0</td>\n",
       "      <td>0.0</td>\n",
       "      <td>0.0</td>\n",
       "      <td>0.0</td>\n",
       "      <td>11</td>\n",
       "      <td>True</td>\n",
       "      <td>0.003322</td>\n",
       "    </tr>\n",
       "  </tbody>\n",
       "</table>\n",
       "<p>171 rows × 34 columns</p>\n",
       "</div>"
      ],
      "text/plain": [
       "                NJet  NMuon  NElectron  Electron_Px  Electron_Py  Electron_Pz  \\\n",
       "entry subentry                                                                  \n",
       "4     0            2      2          2   -82.592216    41.092983  -363.753113   \n",
       "      1            2      2          2     4.162826   -23.218815   -66.383858   \n",
       "15    0            0      2          1    13.831234     3.564487    56.735542   \n",
       "114   0            1      2          1   -46.878876   -43.351032  -177.028412   \n",
       "124   0            1      2          1   -36.483067   -13.627416   -37.939960   \n",
       "...              ...    ...        ...          ...          ...          ...   \n",
       "2361  0            0      2          2    -7.262786    54.933182   -20.446810   \n",
       "      1            0      2          2    18.481556    33.376698     7.449298   \n",
       "2389  0            1      2          1    -9.744128   -21.877804    34.970413   \n",
       "2410  0            0      2          2   -37.681973     8.211936    -6.767756   \n",
       "      1            0      2          2    18.453588    -4.034171    67.131828   \n",
       "\n",
       "                Electron_E  Electron_Charge  Electron_Iso  NPhoton  ...  \\\n",
       "entry subentry                                                      ...   \n",
       "4     0         375.268494               -1      1.090143        1  ...   \n",
       "      1          70.450401                1      4.629203        1  ...   \n",
       "15    0          58.505817                1      0.000000        1  ...   \n",
       "114   0         188.191391               -1      2.455079        1  ...   \n",
       "124   0          54.370590               -1      0.735831        2  ...   \n",
       "...                    ...              ...           ...      ...  ...   \n",
       "2361  0          59.063309               -1      0.657142        2  ...   \n",
       "      1          38.872406                1      0.000000        2  ...   \n",
       "2389  0          42.385330                1      0.207944        3  ...   \n",
       "2410  0          39.155704               -1      3.369568        2  ...   \n",
       "      1          69.738739                1      0.955300        2  ...   \n",
       "\n",
       "                MClepton_px  MClepton_py  MClepton_pz  MCleptonPDGid  \\\n",
       "entry subentry                                                         \n",
       "4     0                 0.0          0.0          0.0              0   \n",
       "      1                 0.0          0.0          0.0              0   \n",
       "15    0                 0.0          0.0          0.0              0   \n",
       "114   0                 0.0          0.0          0.0              0   \n",
       "124   0                 0.0          0.0          0.0              0   \n",
       "...                     ...          ...          ...            ...   \n",
       "2361  0                 0.0          0.0          0.0              0   \n",
       "      1                 0.0          0.0          0.0              0   \n",
       "2389  0                 0.0          0.0          0.0              0   \n",
       "2410  0                 0.0          0.0          0.0              0   \n",
       "      1                 0.0          0.0          0.0              0   \n",
       "\n",
       "                MCneutrino_px  MCneutrino_py  MCneutrino_pz  NPrimaryVertices  \\\n",
       "entry subentry                                                                  \n",
       "4     0                   0.0            0.0            0.0                 2   \n",
       "      1                   0.0            0.0            0.0                 2   \n",
       "15    0                   0.0            0.0            0.0                 3   \n",
       "114   0                   0.0            0.0            0.0                 5   \n",
       "124   0                   0.0            0.0            0.0                 8   \n",
       "...                       ...            ...            ...               ...   \n",
       "2361  0                   0.0            0.0            0.0                10   \n",
       "      1                   0.0            0.0            0.0                10   \n",
       "2389  0                   0.0            0.0            0.0                 3   \n",
       "2410  0                   0.0            0.0            0.0                11   \n",
       "      1                   0.0            0.0            0.0                11   \n",
       "\n",
       "                triggerIsoMu24  EventWeight  \n",
       "entry subentry                               \n",
       "4     0                   True     0.008536  \n",
       "      1                   True     0.008536  \n",
       "15    0                   True     0.008529  \n",
       "114   0                   True     0.008668  \n",
       "124   0                   True     0.008013  \n",
       "...                        ...          ...  \n",
       "2361  0                   True     0.007081  \n",
       "      1                   True     0.007081  \n",
       "2389  0                   True     0.008829  \n",
       "2410  0                   True     0.003322  \n",
       "      1                   True     0.003322  \n",
       "\n",
       "[171 rows x 34 columns]"
      ]
     },
     "execution_count": 140,
     "metadata": {},
     "output_type": "execute_result"
    }
   ],
   "source": [
    "jagged_pandas[2]"
   ]
  },
  {
   "cell_type": "code",
   "execution_count": 141,
   "id": "c2ae67df-bed8-4400-9e6f-9c3c8707c59f",
   "metadata": {},
   "outputs": [
    {
     "data": {
      "text/html": [
       "<div>\n",
       "<style scoped>\n",
       "    .dataframe tbody tr th:only-of-type {\n",
       "        vertical-align: middle;\n",
       "    }\n",
       "\n",
       "    .dataframe tbody tr th {\n",
       "        vertical-align: top;\n",
       "    }\n",
       "\n",
       "    .dataframe thead th {\n",
       "        text-align: right;\n",
       "    }\n",
       "</style>\n",
       "<table border=\"1\" class=\"dataframe\">\n",
       "  <thead>\n",
       "    <tr style=\"text-align: right;\">\n",
       "      <th></th>\n",
       "      <th></th>\n",
       "      <th>NJet</th>\n",
       "      <th>NMuon</th>\n",
       "      <th>NElectron</th>\n",
       "      <th>NPhoton</th>\n",
       "      <th>Photon_Px</th>\n",
       "      <th>Photon_Py</th>\n",
       "      <th>Photon_Pz</th>\n",
       "      <th>Photon_E</th>\n",
       "      <th>Photon_Iso</th>\n",
       "      <th>MET_px</th>\n",
       "      <th>...</th>\n",
       "      <th>MClepton_px</th>\n",
       "      <th>MClepton_py</th>\n",
       "      <th>MClepton_pz</th>\n",
       "      <th>MCleptonPDGid</th>\n",
       "      <th>MCneutrino_px</th>\n",
       "      <th>MCneutrino_py</th>\n",
       "      <th>MCneutrino_pz</th>\n",
       "      <th>NPrimaryVertices</th>\n",
       "      <th>triggerIsoMu24</th>\n",
       "      <th>EventWeight</th>\n",
       "    </tr>\n",
       "    <tr>\n",
       "      <th>entry</th>\n",
       "      <th>subentry</th>\n",
       "      <th></th>\n",
       "      <th></th>\n",
       "      <th></th>\n",
       "      <th></th>\n",
       "      <th></th>\n",
       "      <th></th>\n",
       "      <th></th>\n",
       "      <th></th>\n",
       "      <th></th>\n",
       "      <th></th>\n",
       "      <th></th>\n",
       "      <th></th>\n",
       "      <th></th>\n",
       "      <th></th>\n",
       "      <th></th>\n",
       "      <th></th>\n",
       "      <th></th>\n",
       "      <th></th>\n",
       "      <th></th>\n",
       "      <th></th>\n",
       "      <th></th>\n",
       "    </tr>\n",
       "  </thead>\n",
       "  <tbody>\n",
       "    <tr>\n",
       "      <th>4</th>\n",
       "      <th>0</th>\n",
       "      <td>2</td>\n",
       "      <td>2</td>\n",
       "      <td>2</td>\n",
       "      <td>1</td>\n",
       "      <td>-93.808594</td>\n",
       "      <td>45.830330</td>\n",
       "      <td>-412.850311</td>\n",
       "      <td>425.847229</td>\n",
       "      <td>0.921476</td>\n",
       "      <td>5.393139</td>\n",
       "      <td>...</td>\n",
       "      <td>0.0</td>\n",
       "      <td>0.0</td>\n",
       "      <td>0.0</td>\n",
       "      <td>0</td>\n",
       "      <td>0.0</td>\n",
       "      <td>0.0</td>\n",
       "      <td>0.0</td>\n",
       "      <td>2</td>\n",
       "      <td>True</td>\n",
       "      <td>0.008536</td>\n",
       "    </tr>\n",
       "    <tr>\n",
       "      <th>13</th>\n",
       "      <th>0</th>\n",
       "      <td>1</td>\n",
       "      <td>1</td>\n",
       "      <td>0</td>\n",
       "      <td>1</td>\n",
       "      <td>-14.844832</td>\n",
       "      <td>24.563778</td>\n",
       "      <td>63.007408</td>\n",
       "      <td>69.236420</td>\n",
       "      <td>0.875975</td>\n",
       "      <td>28.459160</td>\n",
       "      <td>...</td>\n",
       "      <td>0.0</td>\n",
       "      <td>0.0</td>\n",
       "      <td>0.0</td>\n",
       "      <td>0</td>\n",
       "      <td>0.0</td>\n",
       "      <td>0.0</td>\n",
       "      <td>0.0</td>\n",
       "      <td>8</td>\n",
       "      <td>True</td>\n",
       "      <td>0.009445</td>\n",
       "    </tr>\n",
       "    <tr>\n",
       "      <th>15</th>\n",
       "      <th>0</th>\n",
       "      <td>0</td>\n",
       "      <td>2</td>\n",
       "      <td>1</td>\n",
       "      <td>1</td>\n",
       "      <td>11.943524</td>\n",
       "      <td>2.626147</td>\n",
       "      <td>48.938980</td>\n",
       "      <td>50.443714</td>\n",
       "      <td>1.151208</td>\n",
       "      <td>0.350357</td>\n",
       "      <td>...</td>\n",
       "      <td>0.0</td>\n",
       "      <td>0.0</td>\n",
       "      <td>0.0</td>\n",
       "      <td>0</td>\n",
       "      <td>0.0</td>\n",
       "      <td>0.0</td>\n",
       "      <td>0.0</td>\n",
       "      <td>3</td>\n",
       "      <td>True</td>\n",
       "      <td>0.008529</td>\n",
       "    </tr>\n",
       "    <tr>\n",
       "      <th>64</th>\n",
       "      <th>0</th>\n",
       "      <td>4</td>\n",
       "      <td>2</td>\n",
       "      <td>0</td>\n",
       "      <td>1</td>\n",
       "      <td>-10.570637</td>\n",
       "      <td>13.571628</td>\n",
       "      <td>-27.436132</td>\n",
       "      <td>32.383156</td>\n",
       "      <td>1.278783</td>\n",
       "      <td>2.110263</td>\n",
       "      <td>...</td>\n",
       "      <td>0.0</td>\n",
       "      <td>0.0</td>\n",
       "      <td>0.0</td>\n",
       "      <td>0</td>\n",
       "      <td>0.0</td>\n",
       "      <td>0.0</td>\n",
       "      <td>0.0</td>\n",
       "      <td>5</td>\n",
       "      <td>True</td>\n",
       "      <td>0.008668</td>\n",
       "    </tr>\n",
       "    <tr>\n",
       "      <th>114</th>\n",
       "      <th>0</th>\n",
       "      <td>1</td>\n",
       "      <td>2</td>\n",
       "      <td>1</td>\n",
       "      <td>1</td>\n",
       "      <td>-47.068924</td>\n",
       "      <td>-42.617908</td>\n",
       "      <td>-177.187332</td>\n",
       "      <td>188.220947</td>\n",
       "      <td>1.134528</td>\n",
       "      <td>-5.053012</td>\n",
       "      <td>...</td>\n",
       "      <td>0.0</td>\n",
       "      <td>0.0</td>\n",
       "      <td>0.0</td>\n",
       "      <td>0</td>\n",
       "      <td>0.0</td>\n",
       "      <td>0.0</td>\n",
       "      <td>0.0</td>\n",
       "      <td>5</td>\n",
       "      <td>True</td>\n",
       "      <td>0.008668</td>\n",
       "    </tr>\n",
       "    <tr>\n",
       "      <th>...</th>\n",
       "      <th>...</th>\n",
       "      <td>...</td>\n",
       "      <td>...</td>\n",
       "      <td>...</td>\n",
       "      <td>...</td>\n",
       "      <td>...</td>\n",
       "      <td>...</td>\n",
       "      <td>...</td>\n",
       "      <td>...</td>\n",
       "      <td>...</td>\n",
       "      <td>...</td>\n",
       "      <td>...</td>\n",
       "      <td>...</td>\n",
       "      <td>...</td>\n",
       "      <td>...</td>\n",
       "      <td>...</td>\n",
       "      <td>...</td>\n",
       "      <td>...</td>\n",
       "      <td>...</td>\n",
       "      <td>...</td>\n",
       "      <td>...</td>\n",
       "      <td>...</td>\n",
       "    </tr>\n",
       "    <tr>\n",
       "      <th>2389</th>\n",
       "      <th>2</th>\n",
       "      <td>1</td>\n",
       "      <td>2</td>\n",
       "      <td>1</td>\n",
       "      <td>3</td>\n",
       "      <td>6.818264</td>\n",
       "      <td>14.046298</td>\n",
       "      <td>2.537921</td>\n",
       "      <td>15.818604</td>\n",
       "      <td>1.911849</td>\n",
       "      <td>-10.529509</td>\n",
       "      <td>...</td>\n",
       "      <td>0.0</td>\n",
       "      <td>0.0</td>\n",
       "      <td>0.0</td>\n",
       "      <td>0</td>\n",
       "      <td>0.0</td>\n",
       "      <td>0.0</td>\n",
       "      <td>0.0</td>\n",
       "      <td>3</td>\n",
       "      <td>True</td>\n",
       "      <td>0.008829</td>\n",
       "    </tr>\n",
       "    <tr>\n",
       "      <th rowspan=\"2\" valign=\"top\">2410</th>\n",
       "      <th>0</th>\n",
       "      <td>0</td>\n",
       "      <td>2</td>\n",
       "      <td>2</td>\n",
       "      <td>2</td>\n",
       "      <td>-39.131084</td>\n",
       "      <td>7.669469</td>\n",
       "      <td>-7.123263</td>\n",
       "      <td>40.506832</td>\n",
       "      <td>3.287470</td>\n",
       "      <td>-25.754967</td>\n",
       "      <td>...</td>\n",
       "      <td>0.0</td>\n",
       "      <td>0.0</td>\n",
       "      <td>0.0</td>\n",
       "      <td>0</td>\n",
       "      <td>0.0</td>\n",
       "      <td>0.0</td>\n",
       "      <td>0.0</td>\n",
       "      <td>11</td>\n",
       "      <td>True</td>\n",
       "      <td>0.003322</td>\n",
       "    </tr>\n",
       "    <tr>\n",
       "      <th>1</th>\n",
       "      <td>0</td>\n",
       "      <td>2</td>\n",
       "      <td>2</td>\n",
       "      <td>2</td>\n",
       "      <td>19.779800</td>\n",
       "      <td>-4.877117</td>\n",
       "      <td>72.441093</td>\n",
       "      <td>75.251167</td>\n",
       "      <td>1.465773</td>\n",
       "      <td>-25.754967</td>\n",
       "      <td>...</td>\n",
       "      <td>0.0</td>\n",
       "      <td>0.0</td>\n",
       "      <td>0.0</td>\n",
       "      <td>0</td>\n",
       "      <td>0.0</td>\n",
       "      <td>0.0</td>\n",
       "      <td>0.0</td>\n",
       "      <td>11</td>\n",
       "      <td>True</td>\n",
       "      <td>0.003322</td>\n",
       "    </tr>\n",
       "    <tr>\n",
       "      <th>2419</th>\n",
       "      <th>0</th>\n",
       "      <td>2</td>\n",
       "      <td>1</td>\n",
       "      <td>0</td>\n",
       "      <td>1</td>\n",
       "      <td>-29.460020</td>\n",
       "      <td>8.797814</td>\n",
       "      <td>189.465149</td>\n",
       "      <td>191.943573</td>\n",
       "      <td>1.594844</td>\n",
       "      <td>79.875191</td>\n",
       "      <td>...</td>\n",
       "      <td>0.0</td>\n",
       "      <td>0.0</td>\n",
       "      <td>0.0</td>\n",
       "      <td>0</td>\n",
       "      <td>0.0</td>\n",
       "      <td>0.0</td>\n",
       "      <td>0.0</td>\n",
       "      <td>6</td>\n",
       "      <td>True</td>\n",
       "      <td>0.008829</td>\n",
       "    </tr>\n",
       "    <tr>\n",
       "      <th>2420</th>\n",
       "      <th>0</th>\n",
       "      <td>0</td>\n",
       "      <td>1</td>\n",
       "      <td>0</td>\n",
       "      <td>1</td>\n",
       "      <td>-6.194361</td>\n",
       "      <td>16.441586</td>\n",
       "      <td>-2.490791</td>\n",
       "      <td>17.745419</td>\n",
       "      <td>4.733188</td>\n",
       "      <td>19.713749</td>\n",
       "      <td>...</td>\n",
       "      <td>0.0</td>\n",
       "      <td>0.0</td>\n",
       "      <td>0.0</td>\n",
       "      <td>0</td>\n",
       "      <td>0.0</td>\n",
       "      <td>0.0</td>\n",
       "      <td>0.0</td>\n",
       "      <td>12</td>\n",
       "      <td>True</td>\n",
       "      <td>0.008755</td>\n",
       "    </tr>\n",
       "  </tbody>\n",
       "</table>\n",
       "<p>220 rows × 33 columns</p>\n",
       "</div>"
      ],
      "text/plain": [
       "                NJet  NMuon  NElectron  NPhoton  Photon_Px  Photon_Py  \\\n",
       "entry subentry                                                          \n",
       "4     0            2      2          2        1 -93.808594  45.830330   \n",
       "13    0            1      1          0        1 -14.844832  24.563778   \n",
       "15    0            0      2          1        1  11.943524   2.626147   \n",
       "64    0            4      2          0        1 -10.570637  13.571628   \n",
       "114   0            1      2          1        1 -47.068924 -42.617908   \n",
       "...              ...    ...        ...      ...        ...        ...   \n",
       "2389  2            1      2          1        3   6.818264  14.046298   \n",
       "2410  0            0      2          2        2 -39.131084   7.669469   \n",
       "      1            0      2          2        2  19.779800  -4.877117   \n",
       "2419  0            2      1          0        1 -29.460020   8.797814   \n",
       "2420  0            0      1          0        1  -6.194361  16.441586   \n",
       "\n",
       "                 Photon_Pz    Photon_E  Photon_Iso     MET_px  ...  \\\n",
       "entry subentry                                                 ...   \n",
       "4     0        -412.850311  425.847229    0.921476   5.393139  ...   \n",
       "13    0          63.007408   69.236420    0.875975  28.459160  ...   \n",
       "15    0          48.938980   50.443714    1.151208   0.350357  ...   \n",
       "64    0         -27.436132   32.383156    1.278783   2.110263  ...   \n",
       "114   0        -177.187332  188.220947    1.134528  -5.053012  ...   \n",
       "...                    ...         ...         ...        ...  ...   \n",
       "2389  2           2.537921   15.818604    1.911849 -10.529509  ...   \n",
       "2410  0          -7.123263   40.506832    3.287470 -25.754967  ...   \n",
       "      1          72.441093   75.251167    1.465773 -25.754967  ...   \n",
       "2419  0         189.465149  191.943573    1.594844  79.875191  ...   \n",
       "2420  0          -2.490791   17.745419    4.733188  19.713749  ...   \n",
       "\n",
       "                MClepton_px  MClepton_py  MClepton_pz  MCleptonPDGid  \\\n",
       "entry subentry                                                         \n",
       "4     0                 0.0          0.0          0.0              0   \n",
       "13    0                 0.0          0.0          0.0              0   \n",
       "15    0                 0.0          0.0          0.0              0   \n",
       "64    0                 0.0          0.0          0.0              0   \n",
       "114   0                 0.0          0.0          0.0              0   \n",
       "...                     ...          ...          ...            ...   \n",
       "2389  2                 0.0          0.0          0.0              0   \n",
       "2410  0                 0.0          0.0          0.0              0   \n",
       "      1                 0.0          0.0          0.0              0   \n",
       "2419  0                 0.0          0.0          0.0              0   \n",
       "2420  0                 0.0          0.0          0.0              0   \n",
       "\n",
       "                MCneutrino_px  MCneutrino_py  MCneutrino_pz  NPrimaryVertices  \\\n",
       "entry subentry                                                                  \n",
       "4     0                   0.0            0.0            0.0                 2   \n",
       "13    0                   0.0            0.0            0.0                 8   \n",
       "15    0                   0.0            0.0            0.0                 3   \n",
       "64    0                   0.0            0.0            0.0                 5   \n",
       "114   0                   0.0            0.0            0.0                 5   \n",
       "...                       ...            ...            ...               ...   \n",
       "2389  2                   0.0            0.0            0.0                 3   \n",
       "2410  0                   0.0            0.0            0.0                11   \n",
       "      1                   0.0            0.0            0.0                11   \n",
       "2419  0                   0.0            0.0            0.0                 6   \n",
       "2420  0                   0.0            0.0            0.0                12   \n",
       "\n",
       "                triggerIsoMu24  EventWeight  \n",
       "entry subentry                               \n",
       "4     0                   True     0.008536  \n",
       "13    0                   True     0.009445  \n",
       "15    0                   True     0.008529  \n",
       "64    0                   True     0.008668  \n",
       "114   0                   True     0.008668  \n",
       "...                        ...          ...  \n",
       "2389  2                   True     0.008829  \n",
       "2410  0                   True     0.003322  \n",
       "      1                   True     0.003322  \n",
       "2419  0                   True     0.008829  \n",
       "2420  0                   True     0.008755  \n",
       "\n",
       "[220 rows x 33 columns]"
      ]
     },
     "execution_count": 141,
     "metadata": {},
     "output_type": "execute_result"
    }
   ],
   "source": [
    "jagged_pandas[3]"
   ]
  },
  {
   "cell_type": "markdown",
   "id": "89460474-3d80-4880-aa03-f19c0084da8e",
   "metadata": {},
   "source": [
    "In Summary, crazy stuff happens when you want two types of objects like Muons and Electrons.\n",
    "Morever, their lenths are very incompatible"
   ]
  },
  {
   "cell_type": "markdown",
   "id": "543054a6-95d9-484b-b362-205df2352f8b",
   "metadata": {},
   "source": [
    "Again, thats why awkward array comes into play."
   ]
  },
  {
   "cell_type": "code",
   "execution_count": 142,
   "id": "18a28883-5b41-4b74-a758-fcac04c21a82",
   "metadata": {},
   "outputs": [
    {
     "data": {
      "text/plain": [
       "<Array [{Jet: [], Muon: [, ... Iso: 0}]}] type='2421 * {\"Jet\": var * {\"Px\": floa...'>"
      ]
     },
     "execution_count": 142,
     "metadata": {},
     "output_type": "execute_result"
    }
   ],
   "source": [
    "array = events.arrays(filter_name=\"/(Muon_|Jet_).*/\", library=\"ak\", how=\"zip\")\n",
    "array"
   ]
  },
  {
   "cell_type": "code",
   "execution_count": 143,
   "id": "dccd7989-cfbe-42de-a856-d69be9052982",
   "metadata": {},
   "outputs": [
    {
     "data": {
      "text/plain": [
       "['Jet', 'Muon']"
      ]
     },
     "execution_count": 143,
     "metadata": {},
     "output_type": "execute_result"
    }
   ],
   "source": [
    "array.fields"
   ]
  },
  {
   "cell_type": "code",
   "execution_count": 144,
   "id": "51b94180-e715-422b-b418-d314a7cb93c9",
   "metadata": {},
   "outputs": [
    {
     "data": {
      "text/plain": [
       "<Array [[], [True], [], ... [True, True], []] type='2421 * var * bool'>"
      ]
     },
     "execution_count": 144,
     "metadata": {},
     "output_type": "execute_result"
    }
   ],
   "source": [
    "array[\"Jet\"][\"ID\"]"
   ]
  },
  {
   "cell_type": "code",
   "execution_count": 145,
   "id": "c7aeecb3-b267-4607-a742-fe79f08a27b5",
   "metadata": {},
   "outputs": [
    {
     "data": {
      "text/plain": [
       "<Array [[], [True], [], ... [True, True], []] type='2421 * var * bool'>"
      ]
     },
     "execution_count": 145,
     "metadata": {},
     "output_type": "execute_result"
    }
   ],
   "source": [
    "array[\"Jet\"][\"ID\"]"
   ]
  },
  {
   "cell_type": "code",
   "execution_count": 146,
   "id": "d6b78e50-cd1e-4d1a-90c1-31c3d674a6ba",
   "metadata": {},
   "outputs": [
    {
     "data": {
      "text/plain": [
       "<Array [None, {Px: -38.9, ... ID: True}, None] type='2421 * ?{\"Px\": float32, \"Py...'>"
      ]
     },
     "execution_count": 146,
     "metadata": {},
     "output_type": "execute_result"
    }
   ],
   "source": [
    "ak.firsts(array.Jet) # First terms of every column"
   ]
  },
  {
   "cell_type": "code",
   "execution_count": 147,
   "id": "8aebb3ce-8e60-4700-b56b-c938cd2b9b7a",
   "metadata": {},
   "outputs": [
    {
     "data": {
      "text/plain": [
       "<Array [[], [-38.9], ... [-36.4, -15.3], []] type='2421 * var * float32'>"
      ]
     },
     "execution_count": 147,
     "metadata": {},
     "output_type": "execute_result"
    }
   ],
   "source": [
    "array.Jet.Px"
   ]
  },
  {
   "cell_type": "code",
   "execution_count": 148,
   "id": "ee995569-e828-4401-961a-3238a5820203",
   "metadata": {},
   "outputs": [
    {
     "data": {
      "text/plain": [
       "<Array [[-52.9, 37.7], ... 1.14], [23.9]] type='2421 * var * float32'>"
      ]
     },
     "execution_count": 148,
     "metadata": {},
     "output_type": "execute_result"
    }
   ],
   "source": [
    "array.Muon.Px"
   ]
  },
  {
   "cell_type": "code",
   "execution_count": 149,
   "id": "0f30fc78-14f6-4833-9ef7-7a5f0696ebb4",
   "metadata": {},
   "outputs": [
    {
     "data": {
      "text/plain": [
       "<Array [0, 1, 0, 3, 2, 2, ... 0, 1, 2, 1, 2, 0] type='2421 * int64'>"
      ]
     },
     "execution_count": 149,
     "metadata": {},
     "output_type": "execute_result"
    }
   ],
   "source": [
    "ak.num(array.Jet) #returns array of the length of subarrays in array.Jet "
   ]
  },
  {
   "cell_type": "markdown",
   "id": "54ba29e9-4c30-4cae-9236-92368ba730ab",
   "metadata": {},
   "source": [
    "## More Stuff"
   ]
  },
  {
   "cell_type": "markdown",
   "id": "1b84534a-da93-4ce2-ab2a-998c8bb19594",
   "metadata": {},
   "source": [
    "Why is awkward array more efficient?\n",
    "- Slicing throught data is more computationally inexpensive than modifying any large buffers over and over again.\n",
    "\n",
    "- can use numpy-like idioms on json-like data structure(dictionary/hash-map)\n",
    "\n",
    "- Numpy-like functional broadcasting operations(ufuncs) are valid in awkward array"
   ]
  },
  {
   "cell_type": "markdown",
   "id": "d34e7883-25b6-424a-8356-b7ce0f98224b",
   "metadata": {},
   "source": [
    "### Slicing"
   ]
  },
  {
   "cell_type": "code",
   "execution_count": 150,
   "id": "499578fd-d1f5-420b-847c-6416bc718ec5",
   "metadata": {},
   "outputs": [
    {
     "data": {
      "text/plain": [
       "<Array [{NJet: 0, ... EventWeight: 0.00876}] type='2421 * {\"NJet\": int32, \"Jet_P...'>"
      ]
     },
     "execution_count": 150,
     "metadata": {},
     "output_type": "execute_result"
    }
   ],
   "source": [
    "array = events.arrays()\n",
    "array"
   ]
  },
  {
   "cell_type": "code",
   "execution_count": 151,
   "id": "c7654be9-1908-4e7d-bcb0-829ec1d407d1",
   "metadata": {},
   "outputs": [
    {
     "data": {
      "text/plain": [
       "['NJet',\n",
       " 'Jet_Px',\n",
       " 'Jet_Py',\n",
       " 'Jet_Pz',\n",
       " 'Jet_E',\n",
       " 'Jet_btag',\n",
       " 'Jet_ID',\n",
       " 'NMuon',\n",
       " 'Muon_Px',\n",
       " 'Muon_Py',\n",
       " 'Muon_Pz',\n",
       " 'Muon_E',\n",
       " 'Muon_Charge',\n",
       " 'Muon_Iso',\n",
       " 'NElectron',\n",
       " 'Electron_Px',\n",
       " 'Electron_Py',\n",
       " 'Electron_Pz',\n",
       " 'Electron_E',\n",
       " 'Electron_Charge',\n",
       " 'Electron_Iso',\n",
       " 'NPhoton',\n",
       " 'Photon_Px',\n",
       " 'Photon_Py',\n",
       " 'Photon_Pz',\n",
       " 'Photon_E',\n",
       " 'Photon_Iso',\n",
       " 'MET_px',\n",
       " 'MET_py',\n",
       " 'MChadronicBottom_px',\n",
       " 'MChadronicBottom_py',\n",
       " 'MChadronicBottom_pz',\n",
       " 'MCleptonicBottom_px',\n",
       " 'MCleptonicBottom_py',\n",
       " 'MCleptonicBottom_pz',\n",
       " 'MChadronicWDecayQuark_px',\n",
       " 'MChadronicWDecayQuark_py',\n",
       " 'MChadronicWDecayQuark_pz',\n",
       " 'MChadronicWDecayQuarkBar_px',\n",
       " 'MChadronicWDecayQuarkBar_py',\n",
       " 'MChadronicWDecayQuarkBar_pz',\n",
       " 'MClepton_px',\n",
       " 'MClepton_py',\n",
       " 'MClepton_pz',\n",
       " 'MCleptonPDGid',\n",
       " 'MCneutrino_px',\n",
       " 'MCneutrino_py',\n",
       " 'MCneutrino_pz',\n",
       " 'NPrimaryVertices',\n",
       " 'triggerIsoMu24',\n",
       " 'EventWeight']"
      ]
     },
     "execution_count": 151,
     "metadata": {},
     "output_type": "execute_result"
    }
   ],
   "source": [
    "array.fields"
   ]
  },
  {
   "cell_type": "code",
   "execution_count": 152,
   "id": "4b4b2f70-c51c-4667-a8b1-bbc7ca12065e",
   "metadata": {},
   "outputs": [
    {
     "data": {
      "text/plain": [
       "<Array [[-52.9, 37.7], ... 1.14], [23.9]] type='2421 * var * float32'>"
      ]
     },
     "execution_count": 152,
     "metadata": {},
     "output_type": "execute_result"
    }
   ],
   "source": [
    "array.Muon_Px #Just pointing to the data, hence almost zro cost"
   ]
  },
  {
   "cell_type": "code",
   "execution_count": 153,
   "id": "0065721d-b283-4897-bf49-d0d131796349",
   "metadata": {},
   "outputs": [
    {
     "data": {
      "text/plain": [
       "<Array [[{px: -52.9, py: -11.7, ... pz: 54.7}]] type='2421 * var * {\"px\": float3...'>"
      ]
     },
     "execution_count": 153,
     "metadata": {},
     "output_type": "execute_result"
    }
   ],
   "source": [
    "ak.zip({\"px\": array.Muon_Px,\"py\": array.Muon_Py,\"pz\": array.Muon_Pz}) #also inexpensive"
   ]
  },
  {
   "cell_type": "code",
   "execution_count": 155,
   "id": "9f945fdf-b307-4bdb-9b84-38c62b9af5eb",
   "metadata": {},
   "outputs": [
    {
     "data": {
      "text/plain": [
       "<Array [[54.2, 37.7], [24.4, ... 63.6], [42.9]] type='2421 * var * float32'>"
      ]
     },
     "execution_count": 155,
     "metadata": {},
     "output_type": "execute_result"
    }
   ],
   "source": [
    "np.sqrt(array.Muon_Px**2 + array.Muon_Py**2) #returns an awkward array"
   ]
  },
  {
   "cell_type": "markdown",
   "id": "bf9159e4-dbd6-4b23-b56f-8746722caf3b",
   "metadata": {},
   "source": [
    "### Cartesian and Combinatorial products"
   ]
  },
  {
   "cell_type": "markdown",
   "id": "96220b5d-80ee-4187-9116-2e6ee021e9ad",
   "metadata": {},
   "source": [
    "<br><br><br>\n",
    "\n",
    "And there are specialized operations that only make sense in a variable-length context.\n",
    "\n",
    "<table style=\"margin-left: 0px\">\n",
    "    <tr style=\"background: white\"><td style=\"font-size: 1.75em; font-weight: bold; text-align: center\"><a href=\"https://awkward-array.readthedocs.io/en/latest/_auto/ak.cartesian.html\">ak.cartesian</a></td><td style=\"font-size: 1.75em; font-weight: bold; text-align: center\"><a href=\"https://awkward-array.readthedocs.io/en/latest/_auto/ak.combinations.html\">ak.combinations</a></td></tr>\n",
    "    <tr style=\"background: white\"><td><img src=\"2022-08-01-uproot-awkward-columnar-hats/img/cartoon-cartesian.png\"></td><td><img src=\"2022-08-01-uproot-awkward-columnar-hats/img/cartoon-combinations.png\"></td></tr>\n",
    "</table>"
   ]
  },
  {
   "cell_type": "code",
   "execution_count": 166,
   "id": "96c5c805-71cf-4212-89a3-6d235344bcb2",
   "metadata": {},
   "outputs": [
    {
     "data": {
      "text/plain": [
       "<Array [2, 1, 2, 2, 2, 2, ... 2, 1, 1, 1, 1, 1] type='2421 * int64'>"
      ]
     },
     "execution_count": 166,
     "metadata": {},
     "output_type": "execute_result"
    }
   ],
   "source": [
    "ak.num(array.Muon_Px) #depth by default is one"
   ]
  },
  {
   "cell_type": "code",
   "execution_count": 167,
   "id": "9bba5673-4ce6-4ec4-90d5-dfa2e7dc183f",
   "metadata": {},
   "outputs": [
    {
     "data": {
      "text/plain": [
       "<Array [0, 1, 0, 3, 2, 2, ... 0, 1, 2, 1, 2, 0] type='2421 * int64'>"
      ]
     },
     "execution_count": 167,
     "metadata": {},
     "output_type": "execute_result"
    }
   ],
   "source": [
    "ak.num(array.Jet_Px) #depth by default is one"
   ]
  },
  {
   "cell_type": "code",
   "execution_count": 168,
   "id": "a2825b0f-9dfb-402e-ab3d-9e654a5782c2",
   "metadata": {},
   "outputs": [
    {
     "data": {
      "text/plain": [
       "<Array [[], [(-0.816, -38.9, ... -15.3)], []] type='2421 * var * (float32, float32)'>"
      ]
     },
     "execution_count": 168,
     "metadata": {},
     "output_type": "execute_result"
    }
   ],
   "source": [
    "cart = ak.cartesian((array.Muon_Px , array.Jet_Px))\n",
    "cart"
   ]
  },
  {
   "cell_type": "code",
   "execution_count": 169,
   "id": "a0e26450-5767-44dd-9c77-94fe4125a321",
   "metadata": {},
   "outputs": [
    {
     "data": {
      "text/plain": [
       "<Array [0, 1, 0, 6, 4, 4, ... 0, 1, 2, 1, 2, 0] type='2421 * int64'>"
      ]
     },
     "execution_count": 169,
     "metadata": {},
     "output_type": "execute_result"
    }
   ],
   "source": [
    "ak.num(cart)"
   ]
  },
  {
   "cell_type": "code",
   "execution_count": 173,
   "id": "9782d48e-037a-42a0-8958-87793fa3b1ad",
   "metadata": {},
   "outputs": [
    {
     "data": {
      "text/plain": [
       "<Array [[(-52.9, 37.7)], [], ... [], [], []] type='2421 * var * (float32, float32)'>"
      ]
     },
     "execution_count": 173,
     "metadata": {},
     "output_type": "execute_result"
    }
   ],
   "source": [
    "comb = ak.combinations(array.Muon_Px,2)\n",
    "comb"
   ]
  },
  {
   "cell_type": "code",
   "execution_count": 174,
   "id": "a9f89206-07f4-4989-8caf-9925e8d9a5cc",
   "metadata": {},
   "outputs": [
    {
     "data": {
      "text/plain": [
       "<Array [1, 0, 1, 1, 1, 1, ... 1, 0, 0, 0, 0, 0] type='2421 * int64'>"
      ]
     },
     "execution_count": 174,
     "metadata": {},
     "output_type": "execute_result"
    }
   ],
   "source": [
    "ak.num(comb)"
   ]
  },
  {
   "cell_type": "markdown",
   "id": "27b00fc1-431d-4d3f-b43f-5f01140f8b97",
   "metadata": {},
   "source": [
    "- Awkward Arrays can also have custom behaviour. For example it can utilise functions and routines of the vector class\n",
    "- The vector class is similar to the TLorentzVector class in in Root."
   ]
  },
  {
   "cell_type": "code",
   "execution_count": 176,
   "id": "c70b2ee3-36ee-493a-a9ca-ca42dedac1b7",
   "metadata": {},
   "outputs": [],
   "source": [
    "import vector\n",
    "vector.register_awkward()"
   ]
  },
  {
   "cell_type": "code",
   "execution_count": 178,
   "id": "74f7111d-926d-48af-8f31-a78a45aa6772",
   "metadata": {},
   "outputs": [
    {
     "data": {
      "text/plain": [
       "<MomentumArray4D [[{px: -52.9, py: -11.7, ... E: 69.6}]] type='2421 * var * Mome...'>"
      ]
     },
     "execution_count": 178,
     "metadata": {},
     "output_type": "execute_result"
    }
   ],
   "source": [
    "muons = ak.zip({\"px\":array.Muon_Px, \"py\":array.Muon_Py, \"pz\":array.Muon_Pz, \"E\":array.Muon_E }, with_name=\"Momentum4D\") #Creates the special momentum 4D object Awkward array\n",
    "muons"
   ]
  },
  {
   "cell_type": "code",
   "execution_count": 181,
   "id": "ecfc224f-3bf4-40c0-82b3-1867597a0400",
   "metadata": {},
   "outputs": [
    {
     "data": {
      "text/plain": [
       "<Array [[54.2, 37.7], [24.4, ... 63.6], [42.9]] type='2421 * var * float32'>"
      ]
     },
     "execution_count": 181,
     "metadata": {},
     "output_type": "execute_result"
    }
   ],
   "source": [
    "muons.pt"
   ]
  },
  {
   "cell_type": "code",
   "execution_count": 182,
   "id": "9b54a75a-06d0-4f50-98ee-f6039d935444",
   "metadata": {},
   "outputs": [
    {
     "data": {
      "text/plain": [
       "<Array [[-0.15, -0.295], ... 1.67], [1.06]] type='2421 * var * float32'>"
      ]
     },
     "execution_count": 182,
     "metadata": {},
     "output_type": "execute_result"
    }
   ],
   "source": [
    "muons.eta"
   ]
  },
  {
   "cell_type": "code",
   "execution_count": 183,
   "id": "7316591e-d1d1-4c74-8c8a-cf82d262e5ed",
   "metadata": {},
   "outputs": [
    {
     "data": {
      "text/plain": [
       "<Array [[-2.92, 0.0184], ... 1.55], [-0.98]] type='2421 * var * float32'>"
      ]
     },
     "execution_count": 183,
     "metadata": {},
     "output_type": "execute_result"
    }
   ],
   "source": [
    "muons.phi"
   ]
  },
  {
   "cell_type": "markdown",
   "id": "3c9bfe97-9bcd-41c9-b320-408897b0712c",
   "metadata": {},
   "source": [
    "<u><b> Example of using cartesian products : <b><u>"
   ]
  },
  {
   "cell_type": "markdown",
   "id": "8f0a57c8-ea6f-4d12-b3a2-2910c418f371",
   "metadata": {},
   "source": [
    "Finding $ \\Delta R $ of Jets and Muons"
   ]
  },
  {
   "cell_type": "code",
   "execution_count": 184,
   "id": "c46eed30-824a-4b2a-80d4-569221d16c3f",
   "metadata": {},
   "outputs": [
    {
     "data": {
      "text/plain": [
       "<MomentumArray4D [[], [{px: -38.9, ... E: 33.9}], []] type='2421 * var * Momentu...'>"
      ]
     },
     "execution_count": 184,
     "metadata": {},
     "output_type": "execute_result"
    }
   ],
   "source": [
    "jets = ak.zip({\"px\":array.Jet_Px, \"py\": array.Jet_Py, \"pz\":array.Jet_Pz, \"E\":array.Jet_E},with_name=\"Momentum4D\")\n",
    "jets"
   ]
  },
  {
   "cell_type": "code",
   "execution_count": 196,
   "id": "be8bbec1-9219-4cd6-a1bf-4b53c5738693",
   "metadata": {},
   "outputs": [
    {
     "name": "stdout",
     "output_type": "stream",
     "text": [
      "[{px: -0.816, py: -24.4, pz: 20.2, E: 31.7}]\n",
      "[{px: -38.9, py: 19.9, pz: -0.895, E: 44.1}]\n"
     ]
    }
   ],
   "source": [
    "print(muons[1])\n",
    "print(jets[1])"
   ]
  },
  {
   "cell_type": "code",
   "execution_count": 187,
   "id": "4c3aea6c-e833-482e-b7db-47ce5d7014eb",
   "metadata": {},
   "outputs": [
    {
     "data": {
      "text/plain": [
       "<Array [[], [({px: -0.816, ... E: 33.9})], []] type='2421 * var * (Momentum4D[\"p...'>"
      ]
     },
     "execution_count": 187,
     "metadata": {},
     "output_type": "execute_result"
    }
   ],
   "source": [
    "cart = ak.cartesian((muons,jets))\n",
    "cart"
   ]
  },
  {
   "cell_type": "code",
   "execution_count": 208,
   "id": "ba958ee8-f6f8-45f4-b3fa-a68303ce2eb0",
   "metadata": {},
   "outputs": [
    {
     "name": "stdout",
     "output_type": "stream",
     "text": [
      "[... py: -24.4, pz: 20.2, E: 31.7}, {px: -38.9, py: 19.9, pz: -0.895, E: 44.1})]\n",
      "... py: -24.4, pz: 20.2, E: 31.7}, {px: -38.9, py: 19.9, pz: -0.895, E: 44.1})\n"
     ]
    }
   ],
   "source": [
    "print(cart[1])\n",
    "print(cart[1][0]) # only one possible product here\n",
    "a, b = cart[1][0]"
   ]
  },
  {
   "cell_type": "code",
   "execution_count": 188,
   "id": "3d15bede-c42f-4675-96cc-217189b71e79",
   "metadata": {},
   "outputs": [
    {
     "data": {
      "text/plain": [
       "(<MomentumArray4D [[], [{px: -0.816, ... E: 174}], []] type='2421 * var * Momentu...'>,\n",
       " <MomentumArray4D [[], [{px: -38.9, ... E: 33.9}], []] type='2421 * var * Momentu...'>)"
      ]
     },
     "execution_count": 188,
     "metadata": {},
     "output_type": "execute_result"
    }
   ],
   "source": [
    "ak.unzip(cart)"
   ]
  },
  {
   "cell_type": "code",
   "execution_count": 189,
   "id": "06f3a3cf-afaa-478b-8a1f-2765f2f7419b",
   "metadata": {},
   "outputs": [],
   "source": [
    "ms , js = ak.unzip(cart)"
   ]
  },
  {
   "cell_type": "code",
   "execution_count": 190,
   "id": "1833d91a-5ea3-4d5b-9a1e-21a3841929d2",
   "metadata": {},
   "outputs": [
    {
     "data": {
      "text/plain": [
       "<MomentumArray4D [[], [{px: -0.816, ... E: 174}], []] type='2421 * var * Momentu...'>"
      ]
     },
     "execution_count": 190,
     "metadata": {},
     "output_type": "execute_result"
    }
   ],
   "source": [
    "ms"
   ]
  },
  {
   "cell_type": "code",
   "execution_count": 191,
   "id": "e3d88cc8-14f4-4d73-ad44-a083a475f4b0",
   "metadata": {},
   "outputs": [
    {
     "data": {
      "text/plain": [
       "<MomentumArray4D [[], [{px: -38.9, ... E: 33.9}], []] type='2421 * var * Momentu...'>"
      ]
     },
     "execution_count": 191,
     "metadata": {},
     "output_type": "execute_result"
    }
   ],
   "source": [
    "js"
   ]
  },
  {
   "cell_type": "code",
   "execution_count": 209,
   "id": "6dce6c8e-e816-4de8-8563-a97f03ae41b0",
   "metadata": {},
   "outputs": [
    {
     "data": {
      "text/plain": [
       "<Array [[], [2.15], [], ... [1.55, 2.94], []] type='2421 * var * float32'>"
      ]
     },
     "execution_count": 209,
     "metadata": {},
     "output_type": "execute_result"
    }
   ],
   "source": [
    "ms.deltaR(js)"
   ]
  },
  {
   "cell_type": "markdown",
   "id": "ef646dbf-a304-48f9-a357-e25028306cba",
   "metadata": {},
   "source": [
    "<u><b> Example of using Combination products : <b><u>"
   ]
  },
  {
   "cell_type": "markdown",
   "id": "28391439-8d54-4c77-8178-82cf391ead27",
   "metadata": {},
   "source": [
    "Muon Pairs:"
   ]
  },
  {
   "cell_type": "code",
   "execution_count": 210,
   "id": "6f38d33c-da05-4c0b-b433-84ad47be5704",
   "metadata": {},
   "outputs": [
    {
     "data": {
      "text/plain": [
       "<Array [2, 1, 2, 2, 2, 2, ... 2, 1, 1, 1, 1, 1] type='2421 * int64'>"
      ]
     },
     "execution_count": 210,
     "metadata": {},
     "output_type": "execute_result"
    }
   ],
   "source": [
    "ak.num(muons)"
   ]
  },
  {
   "cell_type": "code",
   "execution_count": 211,
   "id": "68ac6bcb-d78b-4c61-8e69-37dacb616fcf",
   "metadata": {},
   "outputs": [],
   "source": [
    "m1, m2 = ak.unzip(ak.combinations(muons, 2))"
   ]
  },
  {
   "cell_type": "code",
   "execution_count": 212,
   "id": "1a10937e-3ded-41c5-9c2c-0369689dbf85",
   "metadata": {},
   "outputs": [
    {
     "data": {
      "text/plain": [
       "<MomentumArray4D [[{px: -52.9, py: -11.7, ... [], []] type='2421 * var * Momentu...'>"
      ]
     },
     "execution_count": 212,
     "metadata": {},
     "output_type": "execute_result"
    }
   ],
   "source": [
    "m1"
   ]
  },
  {
   "cell_type": "code",
   "execution_count": 213,
   "id": "d8c9e2ea-0459-4705-8d35-94de602906d8",
   "metadata": {},
   "outputs": [
    {
     "data": {
      "text/plain": [
       "<Array [1, 0, 1, 1, 1, 1, ... 1, 0, 0, 0, 0, 0] type='2421 * int64'>"
      ]
     },
     "execution_count": 213,
     "metadata": {},
     "output_type": "execute_result"
    }
   ],
   "source": [
    "ak.num(m1)"
   ]
  },
  {
   "cell_type": "code",
   "execution_count": 214,
   "id": "19f0e7bc-5150-4590-ab9e-9a434da5461b",
   "metadata": {},
   "outputs": [
    {
     "data": {
      "text/plain": [
       "<MomentumArray4D [[{px: 37.7, py: 0.693, ... [], []] type='2421 * var * Momentum...'>"
      ]
     },
     "execution_count": 214,
     "metadata": {},
     "output_type": "execute_result"
    }
   ],
   "source": [
    "m2"
   ]
  },
  {
   "cell_type": "code",
   "execution_count": 215,
   "id": "107bc5b5-5218-4b69-9ea4-44500299c0d3",
   "metadata": {},
   "outputs": [
    {
     "data": {
      "text/plain": [
       "<Array [1, 0, 1, 1, 1, 1, ... 1, 0, 0, 0, 0, 0] type='2421 * int64'>"
      ]
     },
     "execution_count": 215,
     "metadata": {},
     "output_type": "execute_result"
    }
   ],
   "source": [
    "ak.num(m2)"
   ]
  },
  {
   "cell_type": "code",
   "execution_count": 217,
   "id": "f8d019b6-ba66-45ec-b6a8-6e18610e1bf6",
   "metadata": {},
   "outputs": [
    {
     "data": {
      "text/plain": [
       "<Array [[90.2], [], [74.7], ... [], [], [], []] type='2421 * var * float32'>"
      ]
     },
     "execution_count": 217,
     "metadata": {},
     "output_type": "execute_result"
    }
   ],
   "source": [
    "m = (m1+m2).mass\n",
    "m"
   ]
  },
  {
   "cell_type": "code",
   "execution_count": 219,
   "id": "2cf72c5b-9c46-492f-ba3a-a1087c3097d1",
   "metadata": {},
   "outputs": [
    {
     "data": {
      "text/plain": [
       "<Array [90.2, 74.7, 89.8, ... 92.1, 85.4, 76] type='1521 * float32'>"
      ]
     },
     "execution_count": 219,
     "metadata": {},
     "output_type": "execute_result"
    }
   ],
   "source": [
    "flattened_mass = ak.flatten(m) # creates a oneD array\n",
    "flattened_mass"
   ]
  },
  {
   "cell_type": "code",
   "execution_count": 224,
   "id": "3339177d-cdd3-403e-bdc2-a22ff4ed9b76",
   "metadata": {},
   "outputs": [
    {
     "data": {
      "text/plain": [
       "[StairsArtists(stairs=<matplotlib.patches.StepPatch object at 0x7f5363e43850>, errorbar=<ErrorbarContainer object of 3 artists>, legend_artist=<ErrorbarContainer object of 3 artists>)]"
      ]
     },
     "execution_count": 224,
     "metadata": {},
     "output_type": "execute_result"
    },
    {
     "data": {
      "image/png": "[encoded data removed]",
      "text/plain": [
       "<Figure size 640x480 with 1 Axes>"
      ]
     },
     "metadata": {},
     "output_type": "display_data"
    }
   ],
   "source": [
    "import hist\n",
    "h =hist.Hist.new.Reg(120,0,120).Double()\n",
    "h.fill(flattened_mass)\n",
    "h.plot()"
   ]
  },
  {
   "cell_type": "markdown",
   "id": "4664c9ac-50fc-47c6-bfcd-a41d487a68ef",
   "metadata": {},
   "source": [
    "<iframe scrolling=\"no\"  src=\"https://videos.cern.ch/video/OPEN-VIDEO-2022-236-004\" width=\"560\" height=\"315\" frameborder=\"0\" allowfullscreen></iframe>"
   ]
  },
  {
   "cell_type": "markdown",
   "id": "66083379-7d03-4a0b-a2ad-0fbd59525833",
   "metadata": {
    "jp-MarkdownHeadingCollapsed": true
   },
   "source": [
    "### The Particle Library"
   ]
  },
  {
   "cell_type": "code",
   "execution_count": 289,
   "id": "f32798ce-17d9-4162-ad90-3a186e0f5f0c",
   "metadata": {},
   "outputs": [],
   "source": [
    "import particle"
   ]
  },
  {
   "cell_type": "markdown",
   "id": "a0dbb897-8f39-4402-a0b3-37ab7ec4c13c",
   "metadata": {},
   "source": [
    "Particle library has lookup data for particle masses and similar things"
   ]
  },
  {
   "cell_type": "code",
   "execution_count": 290,
   "id": "83b5c079-f531-4bdc-8bda-5c92b32bcb30",
   "metadata": {},
   "outputs": [
    {
     "data": {
      "text/latex": [
       "$e^{-}$"
      ],
      "text/plain": [
       "<Particle: name=\"e-\", pdgid=11, mass=0.51099895000 ± 0.00000000015 MeV>"
      ]
     },
     "execution_count": 290,
     "metadata": {},
     "output_type": "execute_result"
    }
   ],
   "source": [
    "particle.Particle.from_evtgen_name(\"e-\")"
   ]
  },
  {
   "cell_type": "code",
   "execution_count": 291,
   "id": "8fc86ea1-fb4a-4942-8ac5-2ed473450bc6",
   "metadata": {},
   "outputs": [
    {
     "data": {
      "text/plain": [
       "0.51099895"
      ]
     },
     "execution_count": 291,
     "metadata": {},
     "output_type": "execute_result"
    }
   ],
   "source": [
    "particle.Particle.from_evtgen_name(\"e-\").mass #mass in MeV"
   ]
  },
  {
   "cell_type": "code",
   "execution_count": 292,
   "id": "1a3694f2-9caa-4eb8-9d55-ff3041c00d67",
   "metadata": {},
   "outputs": [
    {
     "data": {
      "text/plain": [
       "'<Particle: name=\"e-\", pdgid=11, mass=0.51099895000 ± 0.00000000015 MeV>'"
      ]
     },
     "execution_count": 292,
     "metadata": {},
     "output_type": "execute_result"
    }
   ],
   "source": [
    "repr(particle.Particle.from_evtgen_name(\"e-\"))"
   ]
  },
  {
   "cell_type": "code",
   "execution_count": 293,
   "id": "22256153-72a5-4c57-a3cd-d86d915d6075",
   "metadata": {},
   "outputs": [
    {
     "name": "stdout",
     "output_type": "stream",
     "text": [
      "name                 | typename                 | interpretation                \n",
      "---------------------+--------------------------+-------------------------------\n",
      "run                  | int32_t                  | AsDtype('>i4')\n",
      "luminosityBlock      | uint32_t                 | AsDtype('>u4')\n",
      "event                | uint64_t                 | AsDtype('>u8')\n",
      "PV_npvs              | int32_t                  | AsDtype('>i4')\n",
      "PV_x                 | float                    | AsDtype('>f4')\n",
      "PV_y                 | float                    | AsDtype('>f4')\n",
      "PV_z                 | float                    | AsDtype('>f4')\n",
      "nMuon                | uint32_t                 | AsDtype('>u4')\n",
      "Muon_pt              | float[]                  | AsJagged(AsDtype('>f4'))\n",
      "Muon_eta             | float[]                  | AsJagged(AsDtype('>f4'))\n",
      "Muon_phi             | float[]                  | AsJagged(AsDtype('>f4'))\n",
      "Muon_mass            | float[]                  | AsJagged(AsDtype('>f4'))\n",
      "Muon_charge          | int32_t[]                | AsJagged(AsDtype('>i4'))\n",
      "Muon_pfRelIso03_all  | float[]                  | AsJagged(AsDtype('>f4'))\n",
      "Muon_pfRelIso04_all  | float[]                  | AsJagged(AsDtype('>f4'))\n",
      "Muon_dxy             | float[]                  | AsJagged(AsDtype('>f4'))\n",
      "Muon_dxyErr          | float[]                  | AsJagged(AsDtype('>f4'))\n",
      "Muon_dz              | float[]                  | AsJagged(AsDtype('>f4'))\n",
      "Muon_dzErr           | float[]                  | AsJagged(AsDtype('>f4'))\n",
      "nElectron            | uint32_t                 | AsDtype('>u4')\n",
      "Electron_pt          | float[]                  | AsJagged(AsDtype('>f4'))\n",
      "Electron_eta         | float[]                  | AsJagged(AsDtype('>f4'))\n",
      "Electron_phi         | float[]                  | AsJagged(AsDtype('>f4'))\n",
      "Electron_mass        | float[]                  | AsJagged(AsDtype('>f4'))\n",
      "Electron_charge      | int32_t[]                | AsJagged(AsDtype('>i4'))\n",
      "Electron_pfRelIso... | float[]                  | AsJagged(AsDtype('>f4'))\n",
      "Electron_dxy         | float[]                  | AsJagged(AsDtype('>f4'))\n",
      "Electron_dxyErr      | float[]                  | AsJagged(AsDtype('>f4'))\n",
      "Electron_dz          | float[]                  | AsJagged(AsDtype('>f4'))\n",
      "Electron_dzErr       | float[]                  | AsJagged(AsDtype('>f4'))\n",
      "MET_pt               | float                    | AsDtype('>f4')\n",
      "MET_phi              | float                    | AsDtype('>f4')\n"
     ]
    }
   ],
   "source": [
    "event = ur.open(\"data/ZZTo4e.root:Events\")\n",
    "event.show()"
   ]
  },
  {
   "cell_type": "code",
   "execution_count": 294,
   "id": "85d92206-fbdc-4482-815b-428522f7a99d",
   "metadata": {},
   "outputs": [
    {
     "data": {
      "text/plain": [
       "<Array [{Electron_pt: [11.9, 26.7, ... 1, -1]}] type='1000000 * {\"Electron_pt\": ...'>"
      ]
     },
     "execution_count": 294,
     "metadata": {},
     "output_type": "execute_result"
    }
   ],
   "source": [
    "arr = event.arrays([\"Electron_pt\", \"Electron_eta\", \"Electron_phi\",\"Electron_charge\"],entry_stop = 1000000)\n",
    "arr"
   ]
  },
  {
   "cell_type": "code",
   "execution_count": 295,
   "id": "86f3172b-6d6a-46ca-8688-5ac893ea7fe5",
   "metadata": {},
   "outputs": [
    {
     "data": {
      "text/plain": [
       "['Electron_pt', 'Electron_eta', 'Electron_phi', 'Electron_charge']"
      ]
     },
     "execution_count": 295,
     "metadata": {},
     "output_type": "execute_result"
    }
   ],
   "source": [
    "arr.fields"
   ]
  },
  {
   "cell_type": "code",
   "execution_count": 296,
   "id": "48a7e257-1fa4-4c7c-82ba-247915a0efaf",
   "metadata": {},
   "outputs": [
    {
     "data": {
      "text/plain": [
       "['pt', 'eta', 'phi', 'q', 'mass']"
      ]
     },
     "execution_count": 296,
     "metadata": {},
     "output_type": "execute_result"
    }
   ],
   "source": [
    "elec2 = ak.zip({ \"pt\" : arr.Electron_pt , \"eta\" : arr.Electron_eta , \"phi\" : arr.Electron_phi , \"q\" : arr.Electron_charge }, with_name=\"Momentum4D\")\n",
    "elec2[\"mass\"] = particle.Particle.from_evtgen_name(\"e-\").mass / 1000.0\n",
    "elec2.fields"
   ]
  },
  {
   "cell_type": "code",
   "execution_count": 297,
   "id": "f931655b-1fc9-4c0e-9ad9-7297ad4d159a",
   "metadata": {},
   "outputs": [
    {
     "data": {
      "text/plain": [
       "<Array [[-6.52, -8.79, 16.3, ... 28.4, -33]] type='1000000 * var * float32'>"
      ]
     },
     "execution_count": 297,
     "metadata": {},
     "output_type": "execute_result"
    }
   ],
   "source": [
    "elec2.px"
   ]
  },
  {
   "cell_type": "code",
   "execution_count": 298,
   "id": "5a8f26ff-b2e9-4059-8dae-d68a0edb04eb",
   "metadata": {},
   "outputs": [
    {
     "data": {
      "text/plain": [
       "<Array [[-9.91, -25.2, 36.7, ... -16.9, 2.42]] type='1000000 * var * float32'>"
      ]
     },
     "execution_count": 298,
     "metadata": {},
     "output_type": "execute_result"
    }
   ],
   "source": [
    "elec2.py"
   ]
  },
  {
   "cell_type": "code",
   "execution_count": 299,
   "id": "39d42a94-0a28-462d-a843-3803a1b286c5",
   "metadata": {},
   "outputs": [
    {
     "data": {
      "text/plain": [
       "<Array [[4.05, 50.8, 15.6, ... 36, -44.8]] type='1000000 * var * float32'>"
      ]
     },
     "execution_count": 299,
     "metadata": {},
     "output_type": "execute_result"
    }
   ],
   "source": [
    "elec2.pz"
   ]
  },
  {
   "cell_type": "code",
   "execution_count": 300,
   "id": "1ccaa860-14d8-48cf-9de8-44f5f8e70f10",
   "metadata": {},
   "outputs": [
    {
     "data": {
      "text/plain": [
       "<Array [[12.5, 57.4, 43.1, ... 48.9, 55.7]] type='1000000 * var * float64'>"
      ]
     },
     "execution_count": 300,
     "metadata": {},
     "output_type": "execute_result"
    }
   ],
   "source": [
    "elec2.E"
   ]
  },
  {
   "cell_type": "code",
   "execution_count": 301,
   "id": "79dcd0d2-0b1b-4025-b56f-165a634fde0a",
   "metadata": {},
   "outputs": [
    {
     "data": {
      "text/plain": [
       "[StairsArtists(stairs=<matplotlib.patches.StepPatch object at 0x7f532867d480>, errorbar=<ErrorbarContainer object of 3 artists>, legend_artist=<ErrorbarContainer object of 3 artists>)]"
      ]
     },
     "execution_count": 301,
     "metadata": {},
     "output_type": "execute_result"
    },
    {
     "data": {
      "image/png": "[encoded data removed]",
      "text/plain": [
       "<Figure size 640x480 with 1 Axes>"
      ]
     },
     "metadata": {},
     "output_type": "display_data"
    }
   ],
   "source": [
    "e1, e2 = ak.unzip(ak.combinations(elec2, 2))\n",
    "hist.Hist.new.Log(200, 0.1, 120, name=\"mass\").Double().fill(\n",
    "    ak.flatten((e1 + e2).mass)\n",
    ").plot()"
   ]
  },
  {
   "cell_type": "markdown",
   "id": "467a1729-f72d-4770-a6ac-6deda267ea3b",
   "metadata": {
    "jp-MarkdownHeadingCollapsed": true
   },
   "source": [
    "## Awkward Arrays and Vector in Numba"
   ]
  },
  {
   "cell_type": "markdown",
   "id": "cf7b1845-a97d-47a8-a5f9-404f32d73161",
   "metadata": {},
   "source": [
    "Sometimes when the length of arrays are large, doing a cartesian or combination operation maybe very resource intensive."
   ]
  },
  {
   "cell_type": "markdown",
   "id": "ee67ad97-6cbf-480c-88d9-3095e61c6587",
   "metadata": {},
   "source": [
    "In such cases , using simple loops in numba is fruitful"
   ]
  },
  {
   "cell_type": "code",
   "execution_count": 303,
   "id": "99918cd3-1ae3-40ec-a07f-cf436c337f0b",
   "metadata": {},
   "outputs": [],
   "source": [
    "import numba as nb"
   ]
  },
  {
   "cell_type": "code",
   "execution_count": 307,
   "id": "c4861b38-d436-4b8f-9a5f-9c0d809f6d9d",
   "metadata": {},
   "outputs": [],
   "source": [
    "@nb.njit #the decorator\n",
    "def first_big_dielectron(events):\n",
    "    for event in events:\n",
    "        for i in range(len(event)):\n",
    "            elec1 = event[i]\n",
    "            for j in range(i + 1, len(event)):\n",
    "                elec2 = event[j]\n",
    "                dielectron = elec1 + elec2\n",
    "                if dielectron.mass > 10:\n",
    "                    return dielectron"
   ]
  },
  {
   "cell_type": "markdown",
   "id": "9e905b2f-637f-47dd-82f3-7eaabe6353d9",
   "metadata": {},
   "source": [
    "Note here that it was assumed here that muons are sorted by pt."
   ]
  },
  {
   "cell_type": "code",
   "execution_count": 308,
   "id": "6aad6499-de2c-4d34-b59b-ab034663977e",
   "metadata": {},
   "outputs": [
    {
     "data": {
      "text/plain": [
       "MomentumObject4D(pt=38.32635498046875, phi=-1.981710433959961, eta=1.155301570892334, mass=20.298318836302432)"
      ]
     },
     "execution_count": 308,
     "metadata": {},
     "output_type": "execute_result"
    }
   ],
   "source": [
    "first_big_dielectron(elec2)"
   ]
  },
  {
   "cell_type": "code",
   "execution_count": 309,
   "id": "dfa14d32-535e-402d-ba5c-5fb5f4157660",
   "metadata": {},
   "outputs": [
    {
     "data": {
      "text/plain": [
       "MomentumObject4D(pt=38.32635498046875, phi=-1.981710433959961, eta=1.155301570892334, mass=20.298318836302432)"
      ]
     },
     "execution_count": 309,
     "metadata": {},
     "output_type": "execute_result"
    }
   ],
   "source": [
    "first_big_dielectron(elec2)"
   ]
  },
  {
   "cell_type": "markdown",
   "id": "f40a6567-9b7e-4de8-ae81-8a8d647d8d4c",
   "metadata": {
    "jp-MarkdownHeadingCollapsed": true
   },
   "source": [
    "## Sorting"
   ]
  },
  {
   "cell_type": "code",
   "execution_count": 314,
   "id": "c87cff8c-6c84-4c33-90ef-2ffb431e9d61",
   "metadata": {},
   "outputs": [
    {
     "data": {
      "text/plain": [
       "<Array [[11.9, 26.7, 40.2, ... 59.4, 33, 33.1]] type='1000000 * var * float32'>"
      ]
     },
     "execution_count": 314,
     "metadata": {},
     "output_type": "execute_result"
    }
   ],
   "source": [
    "elec2.pt"
   ]
  },
  {
   "cell_type": "code",
   "execution_count": 316,
   "id": "41197790-9ffc-48fb-b268-96b11c0628d0",
   "metadata": {},
   "outputs": [
    {
     "data": {
      "text/plain": [
       "<Array [52.3, 59.4, 33, 33.1] type='4 * float32'>"
      ]
     },
     "execution_count": 316,
     "metadata": {},
     "output_type": "execute_result"
    }
   ],
   "source": [
    "elec2[-1].pt"
   ]
  },
  {
   "cell_type": "code",
   "execution_count": 330,
   "id": "0ce1a326-ef09-4244-91ae-14545fb1f924",
   "metadata": {},
   "outputs": [
    {
     "data": {
      "text/plain": [
       "<Array [[40.2, 26.7, 11.9, ... 52.3, 33.1, 33]] type='1000000 * var * float32'>"
      ]
     },
     "execution_count": 330,
     "metadata": {},
     "output_type": "execute_result"
    }
   ],
   "source": [
    "elec_sorted = ak.sort(elec2.pt, ascending = False) # by default depth is -1 i.e. axis= -1\n",
    "elec_sorted"
   ]
  },
  {
   "cell_type": "code",
   "execution_count": 331,
   "id": "b3dc5b60-b35f-4bc8-8799-a036f08923c1",
   "metadata": {},
   "outputs": [
    {
     "data": {
      "text/plain": [
       "<Array [59.4, 52.3, 33.1, 33] type='4 * float32'>"
      ]
     },
     "execution_count": 331,
     "metadata": {},
     "output_type": "execute_result"
    }
   ],
   "source": [
    "elec_sorted[-1]"
   ]
  },
  {
   "cell_type": "code",
   "execution_count": 332,
   "id": "0ba0cfee-ea8e-4d75-b574-058135dd7636",
   "metadata": {},
   "outputs": [
    {
     "data": {
      "text/plain": [
       "<Array [[0, 1, 2], [0, 1, ... 3], [0, 1, 2, 3]] type='1000000 * var * int64'>"
      ]
     },
     "execution_count": 332,
     "metadata": {},
     "output_type": "execute_result"
    }
   ],
   "source": [
    "elec_argsorted = ak.argsort(elec2.pt, ascending = False) # same sort but gives back the indices of the sorted data\n",
    "elec_argsorted"
   ]
  },
  {
   "cell_type": "code",
   "execution_count": 333,
   "id": "e43dc3ae-404f-4ac4-95fb-563a01ff03d3",
   "metadata": {},
   "outputs": [
    {
     "data": {
      "text/plain": [
       "<Array [0, 1, 2, 3] type='4 * int64'>"
      ]
     },
     "execution_count": 333,
     "metadata": {},
     "output_type": "execute_result"
    }
   ],
   "source": [
    "elec_argsorted[-1]"
   ]
  },
  {
   "cell_type": "code",
   "execution_count": 334,
   "id": "122fc4d2-b60e-4f49-b388-25ed85cc217e",
   "metadata": {},
   "outputs": [],
   "source": [
    "#To sort the record on the go:\n",
    "elec2 = elec2[ak.argsort(elec2.pt , ascending = False)]"
   ]
  },
  {
   "cell_type": "code",
   "execution_count": 335,
   "id": "b825fe7d-8a80-4eba-8d86-073ccd48db5c",
   "metadata": {},
   "outputs": [
    {
     "data": {
      "text/plain": [
       "<Array [59.4, 52.3, 33.1, 33] type='4 * float32'>"
      ]
     },
     "execution_count": 335,
     "metadata": {},
     "output_type": "execute_result"
    }
   ],
   "source": [
    "elec2[-1].pt"
   ]
  },
  {
   "cell_type": "markdown",
   "id": "a9be3c2f-57cc-41dd-bcff-c854cc8089de",
   "metadata": {
    "jp-MarkdownHeadingCollapsed": true
   },
   "source": [
    "## Packing"
   ]
  },
  {
   "cell_type": "markdown",
   "id": "dd8a62b6-6170-40eb-848e-b65d21621147",
   "metadata": {},
   "source": [
    "Packing reduces the mempry utilisation after cuts are made to an awkaward array"
   ]
  },
  {
   "cell_type": "markdown",
   "id": "7626dc0d-b8f8-45f3-94e2-bd500ffd8c52",
   "metadata": {},
   "source": [
    "```layout``` tells you the way the data is stored in the memory spaces."
   ]
  },
  {
   "cell_type": "code",
   "execution_count": 336,
   "id": "65f31cbd-3a02-4b97-bc91-65a168cf60d5",
   "metadata": {},
   "outputs": [
    {
     "data": {
      "text/plain": [
       "<ListOffsetArray64>\n",
       "    <offsets><Index64 i=\"[0 3 7 9 10 10 13 16 19 23 ... 2034670 2034671 2034675 2034678 2034682 2034684 2034686 2034686 2034690 2034694]\" offset=\"0\" length=\"1000001\" at=\"0x5564b19755b0\"/></offsets>\n",
       "    <content><IndexedArray64>\n",
       "        <index><Index64 i=\"[2 1 0 6 3 4 5 8 7 9 ... 2034684 2034685 2034689 2034687 2034686 2034688 2034691 2034690 2034693 2034692]\" offset=\"0\" length=\"2034694\" at=\"0x5564b5f506d0\"/></index>\n",
       "        <content><RecordArray length=\"2034694\">\n",
       "            <parameters>\n",
       "                <param key=\"__record__\">\"Momentum4D\"</param>\n",
       "            </parameters>\n",
       "            <field index=\"0\" key=\"pt\">\n",
       "                <NumpyArray format=\"f\" shape=\"2034694\" data=\"11.8588 26.7161 40.1922 18.5107 14.7805 ... 45.5906 52.2773 59.3687 33.0211 33.0821\" at=\"0x5564a8f98be0\"/>\n",
       "            </field>\n",
       "            <field index=\"1\" key=\"eta\">\n",
       "                <NumpyArray format=\"f\" shape=\"2034694\" data=\"0.335077 1.39797 0.379066 0.847147 1.02088 ... -0.976632 -0.184881 0.637598 0.944236 -1.11143\" at=\"0x5564a9efce10\"/>\n",
       "            </field>\n",
       "            <field index=\"2\" key=\"phi\">\n",
       "                <NumpyArray format=\"f\" shape=\"2034694\" data=\"-2.15244 -1.90622 1.1522 -1.63972 -1.28516 ... 0.27877 -0.732659 2.26935 -0.536641 3.0685\" at=\"0x5564aa6bfe30\"/>\n",
       "            </field>\n",
       "            <field index=\"3\" key=\"q\">\n",
       "                <NumpyArray format=\"i\" shape=\"2034694\" data=\"-1 -1 1 -1 1 ... 1 1 -1 1 -1\" at=\"0x5564a67b5330\"/>\n",
       "            </field>\n",
       "            <field index=\"4\" key=\"mass\">\n",
       "                <NumpyArray format=\"d\" shape=\"2034694\" data=\"0.000510999 0.000510999 0.000510999 0.000510999 0.000510999 ... 0.000510999 0.000510999 0.000510999 0.000510999 0.000510999\" at=\"0x5564a6f78350\"/>\n",
       "            </field>\n",
       "        </RecordArray></content>\n",
       "    </IndexedArray64></content>\n",
       "</ListOffsetArray64>"
      ]
     },
     "execution_count": 336,
     "metadata": {},
     "output_type": "execute_result"
    }
   ],
   "source": [
    "elec2.layout"
   ]
  },
  {
   "cell_type": "code",
   "execution_count": 339,
   "id": "6e76f356-942b-4c6f-b739-4bcdc7481572",
   "metadata": {},
   "outputs": [
    {
     "data": {
      "text/plain": [
       "<ListOffsetArray64>\n",
       "    <offsets><Index64 i=\"[0 0 0 0 0 0 0 1 1 1 ... 228822 228822 228822 228822 228824 228824 228824 228824 228824 228826]\" offset=\"0\" length=\"1000001\" at=\"0x5564b7677920\"/></offsets>\n",
       "    <content><IndexedArray64>\n",
       "        <index><Index64 i=\"[14 28 29 46 45 70 71 68 74 84 ... 2034633 2034634 2034642 2034653 2034661 2034663 2034681 2034680 2034691 2034690]\" offset=\"0\" length=\"228826\" at=\"0x5564a55e5710\"/></index>\n",
       "        <content><RecordArray length=\"2034694\">\n",
       "            <parameters>\n",
       "                <param key=\"__record__\">\"Momentum4D\"</param>\n",
       "            </parameters>\n",
       "            <field index=\"0\" key=\"pt\">\n",
       "                <NumpyArray format=\"f\" shape=\"2034694\" data=\"11.8588 26.7161 40.1922 18.5107 14.7805 ... 45.5906 52.2773 59.3687 33.0211 33.0821\" at=\"0x5564a8f98be0\"/>\n",
       "            </field>\n",
       "            <field index=\"1\" key=\"eta\">\n",
       "                <NumpyArray format=\"f\" shape=\"2034694\" data=\"0.335077 1.39797 0.379066 0.847147 1.02088 ... -0.976632 -0.184881 0.637598 0.944236 -1.11143\" at=\"0x5564a9efce10\"/>\n",
       "            </field>\n",
       "            <field index=\"2\" key=\"phi\">\n",
       "                <NumpyArray format=\"f\" shape=\"2034694\" data=\"-2.15244 -1.90622 1.1522 -1.63972 -1.28516 ... 0.27877 -0.732659 2.26935 -0.536641 3.0685\" at=\"0x5564aa6bfe30\"/>\n",
       "            </field>\n",
       "            <field index=\"3\" key=\"q\">\n",
       "                <NumpyArray format=\"i\" shape=\"2034694\" data=\"-1 -1 1 -1 1 ... 1 1 -1 1 -1\" at=\"0x5564a67b5330\"/>\n",
       "            </field>\n",
       "            <field index=\"4\" key=\"mass\">\n",
       "                <NumpyArray format=\"d\" shape=\"2034694\" data=\"0.000510999 0.000510999 0.000510999 0.000510999 0.000510999 ... 0.000510999 0.000510999 0.000510999 0.000510999 0.000510999\" at=\"0x5564a6f78350\"/>\n",
       "            </field>\n",
       "        </RecordArray></content>\n",
       "    </IndexedArray64></content>\n",
       "</ListOffsetArray64>"
      ]
     },
     "execution_count": 339,
     "metadata": {},
     "output_type": "execute_result"
    }
   ],
   "source": [
    "elec2[elec2.pt > 50].layout # reduces the actual data"
   ]
  },
  {
   "cell_type": "code",
   "execution_count": 340,
   "id": "ba34144a-35b4-47f0-aa55-6fe66d8f6193",
   "metadata": {},
   "outputs": [
    {
     "data": {
      "text/plain": [
       "<ListOffsetArray64>\n",
       "    <offsets><Index64 i=\"[0 0 0 0 0 0 0 1 1 1 ... 228822 228822 228822 228822 228824 228824 228824 228824 228824 228826]\" offset=\"0\" length=\"1000001\" at=\"0x5564b7e18b30\"/></offsets>\n",
       "    <content><RecordArray length=\"228826\">\n",
       "        <parameters>\n",
       "            <param key=\"__record__\">\"Momentum4D\"</param>\n",
       "        </parameters>\n",
       "        <field index=\"0\" key=\"pt\">\n",
       "            <NumpyArray format=\"f\" shape=\"228826\" data=\"54.6866 92.2721 80.6875 78.5311 65.0717 ... 53.7077 69.2535 62.2191 59.3687 52.2773\" at=\"0x5564a5426830\"/>\n",
       "        </field>\n",
       "        <field index=\"1\" key=\"eta\">\n",
       "            <NumpyArray format=\"f\" shape=\"228826\" data=\"-0.420438 0.320591 0.334485 -1.20236 0.0759631 ... -0.716254 0.257818 -2.06126 0.637598 -0.184881\" at=\"0x5564a5505fa0\"/>\n",
       "        </field>\n",
       "        <field index=\"2\" key=\"phi\">\n",
       "            <NumpyArray format=\"f\" shape=\"228826\" data=\"-0.0629134 -1.77349 -0.616533 -0.405206 2.07057 ... -2.6275 -1.90222 0.969917 2.26935 -0.732659\" at=\"0x55649ebae100\"/>\n",
       "        </field>\n",
       "        <field index=\"3\" key=\"q\">\n",
       "            <NumpyArray format=\"i\" shape=\"228826\" data=\"-1 -1 1 1 -1 ... -1 1 1 -1 1\" at=\"0x55649ec8d870\"/>\n",
       "        </field>\n",
       "        <field index=\"4\" key=\"mass\">\n",
       "            <NumpyArray format=\"d\" shape=\"228826\" data=\"0.000510999 0.000510999 0.000510999 0.000510999 0.000510999 ... 0.000510999 0.000510999 0.000510999 0.000510999 0.000510999\" at=\"0x5564a3b1e8f0\"/>\n",
       "        </field>\n",
       "    </RecordArray></content>\n",
       "</ListOffsetArray64>"
      ]
     },
     "execution_count": 340,
     "metadata": {},
     "output_type": "execute_result"
    }
   ],
   "source": [
    "ak.packed(elec2[elec2.pt > 50]).layout"
   ]
  },
  {
   "cell_type": "code",
   "execution_count": null,
   "id": "c4d740d9-9fa7-46d4-8adb-fd27bd756f2b",
   "metadata": {},
   "outputs": [],
   "source": []
  }
 ],
 "metadata": {
  "kernelspec": {
   "display_name": "Python 3 (ipykernel)",
   "language": "python",
   "name": "python3"
  },
  "language_info": {
   "codemirror_mode": {
    "name": "ipython",
    "version": 3
   },
   "file_extension": ".py",
   "mimetype": "text/x-python",
   "name": "python",
   "nbconvert_exporter": "python",
   "pygments_lexer": "ipython3",
   "version": "3.10.12"
  }
 },
 "nbformat": 4,
 "nbformat_minor": 5
}
