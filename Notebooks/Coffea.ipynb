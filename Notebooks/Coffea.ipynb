{
 "cells": [
  {
   "cell_type": "markdown",
   "id": "af51b223-44e5-4da7-bebe-3c2cde4045bd",
   "metadata": {
    "tags": []
   },
   "source": [
    "# <h1>Coffea <h1>"
   ]
  },
  {
   "cell_type": "markdown",
   "id": "83f401df-2787-44a0-aa8b-218f234ee833",
   "metadata": {
    "jp-MarkdownHeadingCollapsed": true,
    "tags": []
   },
   "source": [
    "## Nanoevents"
   ]
  },
  {
   "cell_type": "markdown",
   "id": "d555577b-2a89-4b0c-ab61-95a352db0a7f",
   "metadata": {},
   "source": [
    "- Different \"Schemas\" interpret our root files for our convinience.\n",
    "- NanoAODSchema is used for CMS NanoAOD format\n",
    "- NanoEventsFactory creates \"NanoEvent\" objects which are accessed in a \"Lazy\" fashion"
   ]
  },
  {
   "cell_type": "code",
   "execution_count": 538,
   "id": "289d9b09-1cf9-49da-8acb-4fb9ea73dcdf",
   "metadata": {},
   "outputs": [],
   "source": [
    "import awkward as ak\n",
    "import numpy as np\n",
    "import hist \n",
    "from matplotlib.pyplot import plot as plt\n",
    "from coffea.nanoevents import NanoEventsFactory , NanoAODSchema\n",
    "file_name = \"data/nano_dy.root\"\n",
    "events = NanoEventsFactory.from_root(file_name, schemaclass=NanoAODSchema.v6, metadata={\"Datasets\":\"DYJets\"},).events()"
   ]
  },
  {
   "cell_type": "code",
   "execution_count": 539,
   "id": "240e2d7a-6d23-418a-aa2c-3f1274d0c53e",
   "metadata": {},
   "outputs": [
    {
     "data": {
      "text/plain": [
       "<NanoEventsArray [<event 1:13889:3749778>, ... ] type='40 * event'>"
      ]
     },
     "execution_count": 539,
     "metadata": {},
     "output_type": "execute_result"
    }
   ],
   "source": [
    "events"
   ]
  },
  {
   "cell_type": "markdown",
   "id": "556ce223-93eb-45e4-b945-f143ae1d49f6",
   "metadata": {},
   "source": [
    "- Note that this is a NanoEventsArray object , not a uproot.TTree object. It does inherit from uproot.TTree though. NanoAODSchema wraps our arrays to have special and easy to understand methods."
   ]
  },
  {
   "cell_type": "code",
   "execution_count": 540,
   "id": "5a1b6d2c-e62e-4503-99a5-eb306af8e0a6",
   "metadata": {},
   "outputs": [
    {
     "data": {
      "text/plain": [
       "40 * event"
      ]
     },
     "execution_count": 540,
     "metadata": {},
     "output_type": "execute_result"
    }
   ],
   "source": [
    "ak.type(events)"
   ]
  },
  {
   "cell_type": "code",
   "execution_count": 541,
   "id": "cf265b9e-d5b1-42d9-91b3-0820795576a0",
   "metadata": {},
   "outputs": [
    {
     "data": {
      "text/plain": [
       "['Generator',\n",
       " 'fixedGridRhoFastjetCentral',\n",
       " 'L1Reco',\n",
       " 'SoftActivityJetHT5',\n",
       " 'fixedGridRhoFastjetCentralChargedPileUp',\n",
       " 'luminosityBlock',\n",
       " 'HLTriggerFirstPath',\n",
       " 'MET',\n",
       " 'TrigObj',\n",
       " 'SoftActivityJetNjets5',\n",
       " 'FatJet',\n",
       " 'Tau',\n",
       " 'L1simulation',\n",
       " 'RawMET',\n",
       " 'btagWeight',\n",
       " 'ChsMET',\n",
       " 'LHE',\n",
       " 'SoftActivityJetNjets10',\n",
       " 'Pileup',\n",
       " 'SubJet',\n",
       " 'SoftActivityJetNjets2',\n",
       " 'Electron',\n",
       " 'LHEReweightingWeight',\n",
       " 'Photon',\n",
       " 'Muon',\n",
       " 'GenPart',\n",
       " 'LHEPart',\n",
       " 'PuppiMET',\n",
       " 'fixedGridRhoFastjetCentralNeutral',\n",
       " 'SoftActivityJetHT2',\n",
       " 'HLT',\n",
       " 'Flag',\n",
       " 'LHEPdfWeight',\n",
       " 'CorrT1METJet',\n",
       " 'HLTriggerFinalPath',\n",
       " 'Jet',\n",
       " 'TkMET',\n",
       " 'GenMET',\n",
       " 'PV',\n",
       " 'SoftActivityJet',\n",
       " 'IsoTrack',\n",
       " 'SoftActivityJetHT',\n",
       " 'fixedGridRhoFastjetCentralCalo',\n",
       " 'GenJet',\n",
       " 'SoftActivityJetHT10',\n",
       " 'FsrPhoton',\n",
       " 'OtherPV',\n",
       " 'SV',\n",
       " 'GenJetAK8',\n",
       " 'run',\n",
       " 'PSWeight',\n",
       " 'SubGenJetAK8',\n",
       " 'CaloMET',\n",
       " 'fixedGridRhoFastjetAll',\n",
       " 'LHEScaleWeight',\n",
       " 'HTXS',\n",
       " 'LHEWeight',\n",
       " 'event',\n",
       " 'genTtbarId',\n",
       " 'GenVisTau',\n",
       " 'genWeight',\n",
       " 'GenDressedLepton',\n",
       " 'L1']"
      ]
     },
     "execution_count": 541,
     "metadata": {},
     "output_type": "execute_result"
    }
   ],
   "source": [
    "events.fields"
   ]
  },
  {
   "cell_type": "markdown",
   "id": "7ba0f339-91b5-4344-b997-dd87d4449a0d",
   "metadata": {},
   "source": [
    "- Most of these fields have their own subfields. Coffea has already grouped this information for us. These groups are called collections.\n",
    "- `events` as a whole is an awkward array consisting of record objects.\n",
    "- Each record object stores one collection."
   ]
  },
  {
   "cell_type": "code",
   "execution_count": 542,
   "id": "0f86456f-649f-43e7-be11-7e40b5b32b87",
   "metadata": {},
   "outputs": [
    {
     "data": {
      "text/plain": [
       "<ElectronArray [[], [Electron], ... [], []] type='40 * var * electron'>"
      ]
     },
     "execution_count": 542,
     "metadata": {},
     "output_type": "execute_result"
    }
   ],
   "source": [
    "events[\"Electron\"]"
   ]
  },
  {
   "cell_type": "code",
   "execution_count": 543,
   "id": "8be0ed19-186b-4d22-87e6-a712e7334854",
   "metadata": {},
   "outputs": [
    {
     "data": {
      "text/plain": [
       "['deltaEtaSC',\n",
       " 'dr03EcalRecHitSumEt',\n",
       " 'dr03HcalDepth1TowerSumEt',\n",
       " 'dr03TkSumPt',\n",
       " 'dr03TkSumPtHEEP',\n",
       " 'dxy',\n",
       " 'dxyErr',\n",
       " 'dz',\n",
       " 'dzErr',\n",
       " 'eCorr',\n",
       " 'eInvMinusPInv',\n",
       " 'energyErr',\n",
       " 'eta',\n",
       " 'hoe',\n",
       " 'ip3d',\n",
       " 'jetPtRelv2',\n",
       " 'jetRelIso',\n",
       " 'mass',\n",
       " 'miniPFRelIso_all',\n",
       " 'miniPFRelIso_chg',\n",
       " 'mvaFall17V1Iso',\n",
       " 'mvaFall17V1noIso',\n",
       " 'mvaFall17V2Iso',\n",
       " 'mvaFall17V2noIso',\n",
       " 'pfRelIso03_all',\n",
       " 'pfRelIso03_chg',\n",
       " 'phi',\n",
       " 'pt',\n",
       " 'r9',\n",
       " 'sieie',\n",
       " 'sip3d',\n",
       " 'mvaTTH',\n",
       " 'charge',\n",
       " 'cutBased',\n",
       " 'cutBased_Fall17_V1',\n",
       " 'jetIdx',\n",
       " 'pdgId',\n",
       " 'photonIdx',\n",
       " 'tightCharge',\n",
       " 'vidNestedWPBitmap',\n",
       " 'vidNestedWPBitmapHEEP',\n",
       " 'convVeto',\n",
       " 'cutBased_HEEP',\n",
       " 'isPFcand',\n",
       " 'lostHits',\n",
       " 'mvaFall17V1Iso_WP80',\n",
       " 'mvaFall17V1Iso_WP90',\n",
       " 'mvaFall17V1Iso_WPL',\n",
       " 'mvaFall17V1noIso_WP80',\n",
       " 'mvaFall17V1noIso_WP90',\n",
       " 'mvaFall17V1noIso_WPL',\n",
       " 'mvaFall17V2Iso_WP80',\n",
       " 'mvaFall17V2Iso_WP90',\n",
       " 'mvaFall17V2Iso_WPL',\n",
       " 'mvaFall17V2noIso_WP80',\n",
       " 'mvaFall17V2noIso_WP90',\n",
       " 'mvaFall17V2noIso_WPL',\n",
       " 'seedGain',\n",
       " 'genPartIdx',\n",
       " 'genPartFlav',\n",
       " 'cleanmask',\n",
       " 'genPartIdxG',\n",
       " 'jetIdxG',\n",
       " 'photonIdxG']"
      ]
     },
     "execution_count": 543,
     "metadata": {},
     "output_type": "execute_result"
    }
   ],
   "source": [
    "events[\"Electron\"].fields"
   ]
  },
  {
   "cell_type": "code",
   "execution_count": 544,
   "id": "79250098-e327-41cc-a29f-b4f40e8c9063",
   "metadata": {},
   "outputs": [
    {
     "data": {
      "text/plain": [
       "['binvar', 'scalePDF', 'weight', 'x1', 'x2', 'xpdf1', 'xpdf2', 'id1', 'id2']"
      ]
     },
     "execution_count": 544,
     "metadata": {},
     "output_type": "execute_result"
    }
   ],
   "source": [
    "events[\"Generator\"].fields"
   ]
  },
  {
   "cell_type": "code",
   "execution_count": 545,
   "id": "fecb8b5f-16a4-4ddf-a2e1-df33ab810ce0",
   "metadata": {},
   "outputs": [
    {
     "data": {
      "text/plain": [
       "['binvar', 'scalePDF', 'weight', 'x1', 'x2', 'xpdf1', 'xpdf2', 'id1', 'id2']"
      ]
     },
     "execution_count": 545,
     "metadata": {},
     "output_type": "execute_result"
    }
   ],
   "source": [
    "events.Generator.fields"
   ]
  },
  {
   "cell_type": "markdown",
   "id": "901e9f3c-3e90-432b-8457-712fc596e43e",
   "metadata": {},
   "source": [
    "- ? gives the help info"
   ]
  },
  {
   "cell_type": "code",
   "execution_count": 546,
   "id": "cda30192-b707-429f-a7b4-8f631192f66a",
   "metadata": {},
   "outputs": [
    {
     "data": {
      "text/plain": [
       "\u001b[0;31mType:\u001b[0m        property\n",
       "\u001b[0;31mString form:\u001b[0m <property object at 0x7fbbb5abb310>\n",
       "\u001b[0;31mDocstring:\u001b[0m  \n",
       "List of field names or tuple slot numbers (as strings) of the outermost\n",
       "record or tuple in this array.\n",
       "\n",
       "If the array contains nested records, only the fields of the outermost\n",
       "record are shown. If it contains tuples instead of records, its fields\n",
       "are string representations of integers, such as `\"0\"`, `\"1\"`, `\"2\"`, etc.\n",
       "The records or tuples may be within multiple layers of nested lists.\n",
       "\n",
       "If the array contains neither tuples nor records, it is an empty list.\n",
       "\n",
       "See also #ak.fields."
      ]
     },
     "metadata": {},
     "output_type": "display_data"
    }
   ],
   "source": [
    "events.Generator.fields?"
   ]
  },
  {
   "cell_type": "code",
   "execution_count": 547,
   "id": "d5af46bc-1984-45d3-8c05-2a0479447e1c",
   "metadata": {},
   "outputs": [
    {
     "data": {
      "text/plain": [
       "<Array [95.4, 54.4, 74.8, ... 89.4, 33.9, 92.2] type='40 * float32[parameters={\"...'>"
      ]
     },
     "execution_count": 547,
     "metadata": {},
     "output_type": "execute_result"
    }
   ],
   "source": [
    "events.Generator.scalePDF"
   ]
  },
  {
   "cell_type": "markdown",
   "id": "b21612aa-bc5f-41d0-986d-fc6009ea287b",
   "metadata": {},
   "source": [
    "- Unlike Uproot where we have to use the method `title` to get the autodocumentation of a branch , we can directly use the `__doc__` method here.\n",
    "Note that the usual `title` won't work here."
   ]
  },
  {
   "cell_type": "code",
   "execution_count": 548,
   "id": "55ad689c-2bf8-432c-a675-c0cccf08d2a3",
   "metadata": {},
   "outputs": [
    {
     "data": {
      "text/plain": [
       "'Q2 scale for PDF'"
      ]
     },
     "execution_count": 548,
     "metadata": {},
     "output_type": "execute_result"
    }
   ],
   "source": [
    "events.Generator.scalePDF.__doc__"
   ]
  },
  {
   "cell_type": "code",
   "execution_count": 549,
   "id": "a18bb286-ab73-4770-ac15-e4298a2fdb31",
   "metadata": {},
   "outputs": [],
   "source": [
    "#events.Generator.scalePDF.title"
   ]
  },
  {
   "cell_type": "code",
   "execution_count": 550,
   "id": "d15f18f1-9024-46b2-9a62-9ecbfcd7103d",
   "metadata": {},
   "outputs": [
    {
     "data": {
      "text/html": [
       "<html>\n",
       "<div style=\"display:flex; align-items:center;\">\n",
       "<div style=\"width:290px;\">\n",
       "<svg xmlns=\"http://www.w3.org/2000/svg\" viewBox=\"-10 -105 270 120\">\n",
       "<line x1=\"-5\" y1=\"0\" x2=\"255\" y2=\"0\" style=\"fill:none;stroke-width:2;stroke:currentColor\"/>\n",
       "<text text-anchor=\"middle\" x=\"0\" y=\"15\" style=\"fill:currentColor;\">\n",
       "0\n",
       "</text>\n",
       "<text text-anchor=\"middle\" x=\"250\" y=\"15\" style=\"fill:currentColor;\">\n",
       "100\n",
       "</text>\n",
       "<text text-anchor=\"middle\" x=\"125.0\" y=\"15\" style=\"fill:currentColor;\">\n",
       "Axis 0\n",
       "</text>\n",
       "<polyline points=\"  0,0   0,-0  25,-0  25,-10  50,-10  50,-20  75,-20  75,-70 100,-70 100,-60 125,-60 125,-100 150,-100 150,-30 175,-30 175,-40 200,-40 200,-20 225,-20 225,-50 250,-50 250,0\" style=\"fill:none; stroke:currentColor;\"/>\n",
       "</svg>\n",
       "</div>\n",
       "<div style=\"flex=grow:1;\">\n",
       "Regular(10, 0, 100, label='Axis 0')<br/>\n",
       "<hr style=\"margin-top:.2em; margin-bottom:.2em;\"/>\n",
       "Double() Σ=40.0\n",
       "\n",
       "</div>\n",
       "</div>\n",
       "</html>"
      ],
      "text/plain": [
       "Hist(Regular(10, 0, 100, label='Axis 0'), storage=Double()) # Sum: 40.0"
      ]
     },
     "execution_count": 550,
     "metadata": {},
     "output_type": "execute_result"
    }
   ],
   "source": [
    "h = hist.Hist.new.Reg(10,0,100).Double()\n",
    "h.fill(events.Generator.scalePDF) #Here events.Generator.scalePDF was already flat\n",
    "h"
   ]
  },
  {
   "cell_type": "markdown",
   "id": "dd915ec6-3b78-4f8f-b10b-cd844caa4055",
   "metadata": {},
   "source": [
    "- Based on the collections, some collections have extra methods.\n",
    "- For example, some collection can utilise the Lorentz vector methods"
   ]
  },
  {
   "cell_type": "code",
   "execution_count": 551,
   "id": "566b2e78-37c1-4943-9965-f96dc338057a",
   "metadata": {},
   "outputs": [
    {
     "data": {
      "text/plain": [
       "<Array [[], [-28.9], ... -3.63], [], []] type='40 * var * float32'>"
      ]
     },
     "execution_count": 551,
     "metadata": {},
     "output_type": "execute_result"
    }
   ],
   "source": [
    "events.Electron.px #px is not one of the fields "
   ]
  },
  {
   "cell_type": "markdown",
   "id": "500fb1e3-9ca9-4f5d-9349-0aa97d7aa8e9",
   "metadata": {},
   "source": [
    "- We can also cast to a Momentum4D object "
   ]
  },
  {
   "cell_type": "code",
   "execution_count": 552,
   "id": "66a57a1b-b87a-49b9-967b-1381ab9f821d",
   "metadata": {},
   "outputs": [
    {
     "data": {
      "text/plain": [
       "<PtEtaPhiMLorentzVectorArray [[], [{deltaEtaSC: -0.0145, ... [], []] type='40 * ...'>"
      ]
     },
     "execution_count": 552,
     "metadata": {},
     "output_type": "execute_result"
    }
   ],
   "source": [
    "ak.with_name(events.Electron , \"PtEtaPhiMLorentzVector\")"
   ]
  },
  {
   "cell_type": "code",
   "execution_count": 553,
   "id": "9df0a302-9f38-40aa-a80f-7d2b4923a12d",
   "metadata": {},
   "outputs": [
    {
     "data": {
      "text/plain": [
       "<Array [[], [94.7], [62.7, ... [8.24], [], []] type='40 * var * float32'>"
      ]
     },
     "execution_count": 553,
     "metadata": {},
     "output_type": "execute_result"
    }
   ],
   "source": [
    "ak.with_name(events.Electron , \"PtEtaPhiMLorentzVector\").energy"
   ]
  },
  {
   "cell_type": "code",
   "execution_count": 554,
   "id": "59aae870-6e7b-4d94-b7d5-c8515a8f8c4e",
   "metadata": {},
   "outputs": [
    {
     "data": {
      "text/plain": [
       "<ElectronArray [[], [Electron], ... [], []] type='40 * var * electron'>"
      ]
     },
     "execution_count": 554,
     "metadata": {},
     "output_type": "execute_result"
    }
   ],
   "source": [
    "events.Electron #Lazily accessed"
   ]
  },
  {
   "cell_type": "code",
   "execution_count": 555,
   "id": "ff476168-7618-489f-9837-07a03f4e96d3",
   "metadata": {},
   "outputs": [
    {
     "name": "stdout",
     "output_type": "stream",
     "text": [
      "[[], [Electron], [Electron, Electron], [Electron, ... [], [Electron], [], []]\n"
     ]
    }
   ],
   "source": [
    "print(events.Electron) #Lazily accessed"
   ]
  },
  {
   "cell_type": "code",
   "execution_count": 556,
   "id": "29174f8f-ca91-4f89-a625-d2ef1468f54b",
   "metadata": {},
   "outputs": [
    {
     "name": "stdout",
     "output_type": "stream",
     "text": [
      "[[], [Electron], [Electron, Electron], [Electron, ... [], [Electron], [], []]\n",
      "[0, 1, 2, 2, 0, 1, 1, 0, 0, 1, 0, 1, 1, 0, ... 1, 0, 1, 0, 1, 0, 1, 0, 1, 0, 1, 0, 0]\n",
      "[[Electron], [Electron, Electron], [Electron, ... [Electron], [Electron], [Electron]]\n",
      "[1, 2, 2, 1, 1, 1, 1, 1, 1, 1, 2, 2, 2, 1, 1, 1, 1, 1, 1, 1]\n",
      "[29.6, 60.1, 10.7, 9.91, 33.2, 39.8, 6.79, ... 23.1, 27, 28.6, 36.3, 15.6, 7.68]\n"
     ]
    },
    {
     "data": {
      "text/plain": [
       "<Array [None, 29.6, 60.1, ... 7.68, None, None] type='40 * ?float32[parameters={...'>"
      ]
     },
     "execution_count": 556,
     "metadata": {},
     "output_type": "execute_result"
    }
   ],
   "source": [
    "ele = events.Electron\n",
    "print(ele)\n",
    "print(ak.num(ele))\n",
    "ele = events.Electron[ak.num(ele) > 0] # to eliminate empty arrays\n",
    "print(ele)\n",
    "print(ak.num(ele))\n",
    "print(ele[:,0].pt) # the leading orders\n",
    "hist.Hist.new.Reg(10,0,200).Double().fill(ele[:,0].pt)\n",
    "ak.firsts(events.Electron.pt) # This too gives leading order but with None types for empty arrays"
   ]
  },
  {
   "cell_type": "code",
   "execution_count": 557,
   "id": "309f6c5e-265d-42e2-a80c-646497019c1d",
   "metadata": {},
   "outputs": [
    {
     "data": {
      "text/plain": [
       "<Array [[], [3.13], [3.45, ... 0.0858], [], []] type='40 * var * float32'>"
      ]
     },
     "execution_count": 557,
     "metadata": {},
     "output_type": "execute_result"
    }
   ],
   "source": [
    "#delta r between all electrons and leading jets\n",
    "events.Jet[:,0].delta_r(events.Electron) #note that jets are plenty and hence they have no empty arrays"
   ]
  },
  {
   "cell_type": "code",
   "execution_count": 558,
   "id": "879418b3-4549-418d-a69f-10bd4e58f980",
   "metadata": {},
   "outputs": [
    {
     "name": "stdout",
     "output_type": "stream",
     "text": [
      "[Electron, Electron]\n",
      "[Jet, Jet, Jet, Jet, Jet]\n",
      "['(Jet, Electron)', '(Jet, Electron)', '(Jet, Electron)', '(Jet, Electron)', '(Jet, Electron)', '(Jet, Electron)', '(Jet, Electron)', '(Jet, Electron)', '(Jet, Electron)', '(Jet, Electron)']\n"
     ]
    },
    {
     "data": {
      "text/plain": [
       "<Array [[], [3.13, 0.0257, 1.21, ... [], []] type='40 * var * float32'>"
      ]
     },
     "execution_count": 558,
     "metadata": {},
     "output_type": "execute_result"
    }
   ],
   "source": [
    "# Cartesian is useful for such calculations\n",
    "print(events.Electron[2])\n",
    "print(events.Jet[2])\n",
    "comb = ak.cartesian([events.Jet , events.Electron])\n",
    "print([str(i) for i in comb[2]])\n",
    "j , e = ak.unzip(comb)\n",
    "j.delta_r(e)"
   ]
  },
  {
   "cell_type": "code",
   "execution_count": 559,
   "id": "a28767ce-e675-42a5-bc2a-ca8f8a856ac0",
   "metadata": {},
   "outputs": [
    {
     "data": {
      "text/plain": [
       "<Array [[], [3.13, 0.0257, 1.21, ... [], []] type='40 * var * float32'>"
      ]
     },
     "execution_count": 559,
     "metadata": {},
     "output_type": "execute_result"
    }
   ],
   "source": [
    "# a short hand to do the same is by assigning keys\n",
    "jet_ele_pairs = ak.cartesian({\"jet\": events.Jet , \"ele\": events.Electron })\n",
    "jet_ele_pairs.jet.delta_r(jet_ele_pairs.ele)"
   ]
  },
  {
   "cell_type": "code",
   "execution_count": 560,
   "id": "559f7df4-4cf5-44ff-b6f1-c30d7236a34a",
   "metadata": {
    "editable": true,
    "slideshow": {
     "slide_type": ""
    },
    "tags": []
   },
   "outputs": [
    {
     "name": "stdout",
     "output_type": "stream",
     "text": [
      "[[None, None, None, None, None], [Electron, ... None, None, None], [None, None]]\n",
      "[Electron, Electron, Electron, Electron, Electron, Electron, Electron, Electron]\n",
      "[29.6, 29.6, 29.6, 29.6, 29.6, 29.6, 29.6, 29.6]\n"
     ]
    }
   ],
   "source": [
    "# to directly get the pair with smallest delta_r ,i.e., the nearest electron to jet\n",
    "near = events.Jet.nearest(events.Electron)\n",
    "print(near)\n",
    "print(near[1]) #same electron repeated all over\n",
    "print(near[1].pt)\n",
    "#this preserves the size as expected from a cartesian product"
   ]
  },
  {
   "cell_type": "code",
   "execution_count": 561,
   "id": "7d3a222e-e465-478a-9843-24d95a5ec4e5",
   "metadata": {},
   "outputs": [
    {
     "data": {
      "text/plain": [
       "1"
      ]
     },
     "execution_count": 561,
     "metadata": {},
     "output_type": "execute_result"
    }
   ],
   "source": [
    "#using the minimum function\n",
    "a = ak.Array([[  1,2,3 ],[  42,4,5,6  ]])\n",
    "ak.min(a) # This will flatten and find the minimum element"
   ]
  },
  {
   "cell_type": "code",
   "execution_count": 562,
   "id": "46511ae6-7fae-465c-a69c-b3210c6b6f84",
   "metadata": {},
   "outputs": [
    {
     "data": {
      "text/plain": [
       "<Array [1, 2, 3, 6] type='4 * ?int64'>"
      ]
     },
     "execution_count": 562,
     "metadata": {},
     "output_type": "execute_result"
    }
   ],
   "source": [
    "ak.min(a, axis = 0) # This will find minimum columnwise"
   ]
  },
  {
   "cell_type": "code",
   "execution_count": 563,
   "id": "e9b16615-9293-471e-9cfd-5848ae4a783a",
   "metadata": {},
   "outputs": [
    {
     "data": {
      "text/plain": [
       "<Array [1, 4] type='2 * ?int64'>"
      ]
     },
     "execution_count": 563,
     "metadata": {},
     "output_type": "execute_result"
    }
   ],
   "source": [
    "ak.min(a,axis = 1) # This will find minimum in each subarray with depth level  1"
   ]
  },
  {
   "cell_type": "code",
   "execution_count": 564,
   "id": "b5dd2d44-65b6-47b5-8905-cdc835270909",
   "metadata": {},
   "outputs": [
    {
     "name": "stdout",
     "output_type": "stream",
     "text": [
      "[0, 1]\n"
     ]
    }
   ],
   "source": [
    "# getting position of the minimum is sometimes more fruitful\n",
    "print(ak.argmin(a, axis= 1))"
   ]
  },
  {
   "cell_type": "code",
   "execution_count": 565,
   "id": "74b55785-b75f-48b9-90ad-dbc366b9c828",
   "metadata": {},
   "outputs": [
    {
     "name": "stdout",
     "output_type": "stream",
     "text": [
      "[[6, 6, 6, 6, 6], [6, 2, 6, 6, 6, 6, 6, 0], ... 6], [6], [6, 6, 0, 6, 6, 6], [6, 6]]\n",
      "Jet ID flags bit1 is loose (always false in 2017 since it does not exist), bit2 is tight, bit3 is tightLepVeto\n",
      "[[True, True, True, True, True], [True, ... False, True, True, True], [True, True]]\n"
     ]
    }
   ],
   "source": [
    "#identification flags have new methods built by NanoEvents\n",
    "print(events.Jet.jetId)\n",
    "print(events.Jet.jetId.__doc__)\n",
    "print(events.Jet.isTight)"
   ]
  },
  {
   "cell_type": "code",
   "execution_count": 566,
   "id": "684bc048-e4c6-4411-ae25-90ee21fc362a",
   "metadata": {},
   "outputs": [
    {
     "name": "stdout",
     "output_type": "stream",
     "text": [
      "[[], [4], [3, 4], [1, 0], [], [0], [0], ... 4], [], [4], [], [4], [], [0], [], []]\n",
      "cut-based ID Fall17 V2 (0:fail, 1:veto, 2:loose, 3:medium, 4:tight)\n",
      "[[], [True], [False, True], [False, False], [], ... [], [True], [], [False], [], []]\n"
     ]
    }
   ],
   "source": [
    "print(events.Electron.cutBased)\n",
    "print(events.Electron.cutBased.__doc__)\n",
    "print(events.Electron.isTight)"
   ]
  },
  {
   "cell_type": "code",
   "execution_count": 567,
   "id": "a9f86e54-9ee3-477f-a2fd-fcdf039ce78c",
   "metadata": {},
   "outputs": [
    {
     "data": {
      "text/plain": [
       "<GenParticleArray [[GenParticle, ... GenParticle]] type='40 * var * genParticle'>"
      ]
     },
     "execution_count": 567,
     "metadata": {},
     "output_type": "execute_result"
    }
   ],
   "source": [
    "events.GenPart"
   ]
  },
  {
   "cell_type": "code",
   "execution_count": 568,
   "id": "adf85126-920f-46a0-af73-93a00baee18b",
   "metadata": {},
   "outputs": [
    {
     "data": {
      "text/plain": [
       "['eta',\n",
       " 'mass',\n",
       " 'phi',\n",
       " 'pt',\n",
       " 'genPartIdxMother',\n",
       " 'pdgId',\n",
       " 'status',\n",
       " 'statusFlags',\n",
       " 'genPartIdxMotherG',\n",
       " 'distinctParentIdxG',\n",
       " 'childrenIdxG',\n",
       " 'distinctChildrenIdxG',\n",
       " 'distinctChildrenDeepIdxG']"
      ]
     },
     "execution_count": 568,
     "metadata": {},
     "output_type": "execute_result"
    }
   ],
   "source": [
    "events.GenPart.fields"
   ]
  },
  {
   "cell_type": "code",
   "execution_count": 569,
   "id": "ab00c63e-e432-484f-85e2-90bded3ec389",
   "metadata": {},
   "outputs": [
    {
     "data": {
      "text/plain": [
       "'gen status flags stored bitwise, bits are: 0 : isPrompt, 1 : isDecayedLeptonHadron, 2 : isTauDecayProduct, 3 : isPromptTauDecayProduct, 4 : isDirectTauDecayProduct, 5 : isDirectPromptTauDecayProduct, 6 : isDirectHadronDecayProduct, 7 : isHardProcess, 8 : fromHardProcess, 9 : isHardProcessTauDecayProduct, 10 : isDirectHardProcessTauDecayProduct, 11 : fromHardProcessBeforeFSR, 12 : isFirstCopy, 13 : isLastCopy, 14 : isLastCopyBeforeFSR, '"
      ]
     },
     "execution_count": 569,
     "metadata": {},
     "output_type": "execute_result"
    }
   ],
   "source": [
    "events.GenPart.statusFlags.__doc__"
   ]
  },
  {
   "cell_type": "code",
   "execution_count": 570,
   "id": "542069ba-5e28-49ef-aba4-881d1b13ff9d",
   "metadata": {},
   "outputs": [
    {
     "data": {
      "text/plain": [
       "<Array [[True, True, False, ... False, False]] type='40 * var * bool'>"
      ]
     },
     "execution_count": 570,
     "metadata": {},
     "output_type": "execute_result"
    }
   ],
   "source": [
    "#We can also access the flags and do our required opearation\n",
    "events.GenPart.hasFlags([\"isPrompt\",\"isLastCopy\"])"
   ]
  },
  {
   "cell_type": "markdown",
   "id": "b5ad0a6b-50b3-48fb-8b19-cb0e9f3e268d",
   "metadata": {},
   "source": [
    "- Nanoevents has precomputed cross references to match the true particle with the signal data.\n",
    "- pgdIds are used to infer which particles we are talking about\n",
    "- `events.Electron.matched_gen.pdgId`creates an array of cross links\n",
    "- 11 means an electron is matched to an electron\n",
    "- \\- 11 means a positron is matched to a positron\n",
    "- 22 means a photon is matched to an electron\n",
    "- None means that the identified electron is fake"
   ]
  },
  {
   "cell_type": "code",
   "execution_count": 571,
   "id": "d5df2742-6c89-4912-91d8-b754d1a73480",
   "metadata": {
    "tags": []
   },
   "outputs": [],
   "source": [
    "#!pip install particle"
   ]
  },
  {
   "cell_type": "code",
   "execution_count": 572,
   "id": "3ad259e3-e992-4175-b307-ae80f276cb1d",
   "metadata": {},
   "outputs": [
    {
     "data": {
      "text/latex": [
       "$Z^{0}$"
      ],
      "text/plain": [
       "<Particle: name=\"Z0\", pdgid=23, mass=91187.6 ± 2.1 MeV>"
      ]
     },
     "execution_count": 572,
     "metadata": {},
     "output_type": "execute_result"
    }
   ],
   "source": [
    "import particle\n",
    "particle.Particle.from_pdgid(23)"
   ]
  },
  {
   "cell_type": "code",
   "execution_count": 573,
   "id": "669ab595-bb0d-474e-a229-39dec67e1a2e",
   "metadata": {},
   "outputs": [
    {
     "name": "stdout",
     "output_type": "stream",
     "text": [
      "[[], [1], [1, -1], [1, 1], [], [1], [1], ... [], [-1], [], [1], [], [-1], [], []]\n",
      "[[], [-11], [-11, 11], [22, None], [], [None, ... 11], [], [-11], [], [None], [], []]\n"
     ]
    }
   ],
   "source": [
    "print(events.Electron.charge)\n",
    "match = events.Electron.matched_gen.pdgId\n",
    "print(match)"
   ]
  },
  {
   "cell_type": "markdown",
   "id": "f298ba0b-6ba5-4b7c-890f-ff584a2fdc99",
   "metadata": {},
   "source": [
    "- The parent index gives you the info about what particle is the \"Parent\" particle of this particle"
   ]
  },
  {
   "cell_type": "code",
   "execution_count": 574,
   "id": "66a14183-6f8d-47fd-9ab0-8e0ca9200919",
   "metadata": {},
   "outputs": [
    {
     "data": {
      "text/plain": [
       "<Array [[None, None, 1, 1, ... 111, 111, 111]] type='40 * var * ?int32[parameter...'>"
      ]
     },
     "execution_count": 574,
     "metadata": {},
     "output_type": "execute_result"
    }
   ],
   "source": [
    "parents = events.GenPart.parent.pdgId\n",
    "parents"
   ]
  },
  {
   "cell_type": "code",
   "execution_count": 575,
   "id": "9ce7c025-0507-4f39-b8b3-55931dad045a",
   "metadata": {},
   "outputs": [],
   "source": [
    "parents = events.GenPart[events.GenPart.pdgId == 11].parent.pdgId"
   ]
  },
  {
   "cell_type": "code",
   "execution_count": 576,
   "id": "6cf51e2b-65a5-4efb-9c17-6bc9b6a27b36",
   "metadata": {},
   "outputs": [
    {
     "data": {
      "text/plain": [
       "[[],\n",
       " [<Particle: name=\"Z0\", pdgid=23, mass=91187.6 ± 2.1 MeV>,\n",
       "  <Particle: name=\"e-\", pdgid=11, mass=0.51099895000 ± 0.00000000015 MeV>],\n",
       " [<Particle: name=\"Z0\", pdgid=23, mass=91187.6 ± 2.1 MeV>,\n",
       "  <Particle: name=\"e-\", pdgid=11, mass=0.51099895000 ± 0.00000000015 MeV>]]"
      ]
     },
     "execution_count": 576,
     "metadata": {},
     "output_type": "execute_result"
    }
   ],
   "source": [
    "def show_info(parent):\n",
    "    return [[particle.Particle.from_pdgid(element) for element in particles] for particles in parent]\n",
    "show_info(parents[:3])"
   ]
  },
  {
   "cell_type": "markdown",
   "id": "00044092-d433-44d0-bb09-6b119a90a106",
   "metadata": {},
   "source": [
    "- We can also know what are the children of parents"
   ]
  },
  {
   "cell_type": "code",
   "execution_count": 577,
   "id": "b816060b-3bd6-4d3d-8d01-a5ff89dbe7a1",
   "metadata": {},
   "outputs": [
    {
     "data": {
      "text/plain": [
       "<Array [[None, None, [23, 21, ... [22, 22]]] type='40 * var * option[var * ?int3...'>"
      ]
     },
     "execution_count": 577,
     "metadata": {},
     "output_type": "execute_result"
    }
   ],
   "source": [
    "child = events.GenPart.parent.children.pdgId\n",
    "child"
   ]
  },
  {
   "cell_type": "code",
   "execution_count": 578,
   "id": "c455af0a-bda2-4977-aee1-ff5ed45cbf11",
   "metadata": {},
   "outputs": [
    {
     "data": {
      "text/plain": [
       "[[<Particle: name=\"Z0\", pdgid=23, mass=91187.6 ± 2.1 MeV>,\n",
       "  <Particle: name=\"g\", pdgid=21, mass=0.0 MeV>],\n",
       " [<Particle: name=\"Z0\", pdgid=23, mass=91187.6 ± 2.1 MeV>,\n",
       "  <Particle: name=\"g\", pdgid=21, mass=0.0 MeV>],\n",
       " [<Particle: name=\"Z0\", pdgid=23, mass=91187.6 ± 2.1 MeV>]]"
      ]
     },
     "execution_count": 578,
     "metadata": {},
     "output_type": "execute_result"
    }
   ],
   "source": [
    "part = ak.flatten(child) # child is doubly nested\n",
    "part = part[~ak.is_none(part)] # to remove none types\n",
    "show_info(part[:3])"
   ]
  },
  {
   "cell_type": "code",
   "execution_count": 579,
   "id": "56252afb-c88d-4725-bcd1-8ff93ff8e5b4",
   "metadata": {},
   "outputs": [
    {
     "name": "stdout",
     "output_type": "stream",
     "text": [
      "[[], [GenParticle, GenParticle, GenParticle, ... GenParticle, GenParticle], []]\n"
     ]
    }
   ],
   "source": [
    "print(events.GenPart[(abs(events.GenPart.pdgId) == 11)])"
   ]
  },
  {
   "cell_type": "code",
   "execution_count": 580,
   "id": "3b621bc3-2aa0-42d4-8f69-3b77150e414c",
   "metadata": {},
   "outputs": [
    {
     "name": "stdout",
     "output_type": "stream",
     "text": [
      "[[], [23, 23], [23, 23], [], [], [], [], ... [23, 23], [], [], [], [], [23, 23], []]\n"
     ]
    }
   ],
   "source": [
    "A = events.GenPart[\n",
    "    (abs(events.GenPart.pdgId) == 11)\n",
    "    & events.GenPart.hasFlags(['isPrompt','isLastCopy'])].distinctParent.pdgId\n",
    "print(A)"
   ]
  },
  {
   "cell_type": "code",
   "execution_count": 581,
   "id": "c70af0a1-42fa-4944-b97b-1fbe8ef9c17b",
   "metadata": {},
   "outputs": [
    {
     "name": "stdout",
     "output_type": "stream",
     "text": [
      "[[], [11, -11], [11, -11], [], [], [], ... -11], [], [], [], [], [-11, 11], []]\n"
     ]
    }
   ],
   "source": [
    " a = events.GenPart[\n",
    "    (abs(events.GenPart.pdgId) == 11)\n",
    "    & events.GenPart.hasFlags(['isPrompt', 'isLastCopy'])].parent.pdgId\n",
    "print(a)"
   ]
  },
  {
   "cell_type": "code",
   "execution_count": 582,
   "id": "c316a8ca-f6a2-40b0-b97d-9fdc82bb8f17",
   "metadata": {},
   "outputs": [
    {
     "data": {
      "text/plain": [
       "<Array [23, 23] type='2 * ?int32[parameters={\"__doc__\": \"PDG id\"}]'>"
      ]
     },
     "execution_count": 582,
     "metadata": {},
     "output_type": "execute_result"
    }
   ],
   "source": [
    "A[-7]"
   ]
  },
  {
   "cell_type": "code",
   "execution_count": 583,
   "id": "4f9bcdca-db91-486c-8b0c-858f580e7f60",
   "metadata": {},
   "outputs": [
    {
     "data": {
      "text/plain": [
       "<Array [11, -11] type='2 * ?int32[parameters={\"__doc__\": \"PDG id\"}]'>"
      ]
     },
     "execution_count": 583,
     "metadata": {},
     "output_type": "execute_result"
    }
   ],
   "source": [
    "a[-7]"
   ]
  },
  {
   "cell_type": "code",
   "execution_count": 584,
   "id": "50cf8e5f-ae26-4cb6-8269-3c4fd64a4626",
   "metadata": {},
   "outputs": [
    {
     "data": {
      "text/plain": [
       "<Array [94.6, 87.6, 88, 90.4, 89.1, 31.6] type='6 * float32'>"
      ]
     },
     "execution_count": 584,
     "metadata": {},
     "output_type": "execute_result"
    }
   ],
   "source": [
    "#dimuon events\n",
    "mmevents = events[ak.num(events.Muon) == 2]\n",
    "zmm = mmevents.Muon[:,0] + mmevents.Muon[:,1]\n",
    "zmm.mass"
   ]
  },
  {
   "cell_type": "code",
   "execution_count": 585,
   "id": "1368213e-3a22-4721-896e-681e165d74c6",
   "metadata": {},
   "outputs": [],
   "source": [
    "#hist.Hist.new.Reg(100,0,100).Double().fill(zmm.mass)"
   ]
  },
  {
   "cell_type": "code",
   "execution_count": 586,
   "id": "22d070ae-1492-45e6-a66b-3674087c2a1b",
   "metadata": {},
   "outputs": [
    {
     "data": {
      "text/plain": [
       "<Array [94.6, 87.6, 88, 90.4, 89.1, 31.6] type='6 * float32'>"
      ]
     },
     "execution_count": 586,
     "metadata": {},
     "output_type": "execute_result"
    }
   ],
   "source": [
    "# A shorter method to do the same\n",
    "mmevents.Muon.sum(axis = 1).mass"
   ]
  },
  {
   "cell_type": "code",
   "execution_count": 587,
   "id": "e66d88e9-bc62-4643-bc68-e4a0d97a09c8",
   "metadata": {},
   "outputs": [
    {
     "data": {
      "text/plain": [
       "<Array [[], [121], [], [], [], []] type='6 * var * float32'>"
      ]
     },
     "execution_count": 587,
     "metadata": {},
     "output_type": "execute_result"
    }
   ],
   "source": [
    "# To add your own variables\n",
    "mmevents[\"Electron\", \"myvariable\"] = mmevents.Electron.pt + zmm.mass\n",
    "mmevents.Electron.myvariable"
   ]
  },
  {
   "cell_type": "markdown",
   "id": "ed6357f1-1c7f-475a-9af9-b112314dd426",
   "metadata": {
    "jp-MarkdownHeadingCollapsed": true,
    "tags": []
   },
   "source": [
    "## Applying corrections"
   ]
  },
  {
   "cell_type": "code",
   "execution_count": 588,
   "id": "a1784e36-1e8f-4514-8d9d-78bd05970923",
   "metadata": {},
   "outputs": [
    {
     "data": {
      "text/plain": [
       "<NanoEventsArray [<event 1:13889:3749778>, ... ] type='40 * event'>"
      ]
     },
     "execution_count": 588,
     "metadata": {},
     "output_type": "execute_result"
    }
   ],
   "source": [
    "events"
   ]
  },
  {
   "cell_type": "markdown",
   "id": "cbb6a3a8-66b7-4741-8de5-7a55689a8257",
   "metadata": {
    "jp-MarkdownHeadingCollapsed": true,
    "tags": []
   },
   "source": [
    "### Coffea lookup_tools"
   ]
  },
  {
   "cell_type": "code",
   "execution_count": 589,
   "id": "ca7cca6d-30e9-4199-92ee-e5bb19b0b185",
   "metadata": {},
   "outputs": [],
   "source": [
    "from coffea.lookup_tools import extractor"
   ]
  },
  {
   "cell_type": "code",
   "execution_count": 590,
   "id": "f886919f-6d95-48aa-ae3a-361d8242b859",
   "metadata": {},
   "outputs": [
    {
     "name": "stdout",
     "output_type": "stream",
     "text": [
      "Hello World\n"
     ]
    }
   ],
   "source": [
    "%%bash\n",
    "echo \"Hello World\""
   ]
  },
  {
   "cell_type": "code",
   "execution_count": 591,
   "id": "efe09ece-0d26-412c-ba54-440c8ef1ca54",
   "metadata": {},
   "outputs": [],
   "source": [
    "# %%bash\n",
    "# mkdir -p data\n",
    "# pushd data\n",
    "# PREFIX=https://raw.githubusercontent.com/CoffeaTeam/coffea/master/tests/samples\n",
    "# curl -Os $PREFIX/testSF2d.histo.root\n",
    "# curl -Os $PREFIX/Fall17_17Nov2017_V32_MC_L2Relative_AK4PFPuppi.jec.txt\n",
    "# curl -Os $PREFIX/Fall17_17Nov2017_V32_MC_Uncertainty_AK4PFPuppi.junc.txt\n",
    "# curl -Os $PREFIX/DeepCSV_102XSF_V1.btag.csv.gz\n",
    "# popd"
   ]
  },
  {
   "cell_type": "markdown",
   "id": "471df1bf-74c0-4e49-8484-bdf6c6631fe0",
   "metadata": {
    "jp-MarkdownHeadingCollapsed": true
   },
   "source": [
    "#### Opening a root file and Using it as a lookup table"
   ]
  },
  {
   "cell_type": "code",
   "execution_count": 592,
   "id": "2f7022f3-3282-43cc-9104-b21bc91ecd8a",
   "metadata": {},
   "outputs": [
    {
     "name": "stdout",
     "output_type": "stream",
     "text": [
      "['scalefactors_Tight_Electron;1']\n"
     ]
    },
    {
     "data": {
      "text/plain": [
       "<TH2F (version 3) at 0x7fbb6bb99760>"
      ]
     },
     "execution_count": 592,
     "metadata": {},
     "output_type": "execute_result"
    }
   ],
   "source": [
    "import uproot as ur\n",
    "file = ur.open(\"data/testSF2d.histo.root\")\n",
    "print(file.keys())\n",
    "sc = file[\"scalefactors_Tight_Electron\"]\n",
    "sc"
   ]
  },
  {
   "cell_type": "markdown",
   "id": "e88fd361-b627-4c57-a67e-21bf48574180",
   "metadata": {},
   "source": [
    "<img title=\"scalefactors_Tight_Electron\" alt=\"sc\" src=\"data/Canvas.png\">"
   ]
  },
  {
   "cell_type": "markdown",
   "id": "913cf2e8-372d-42c5-a938-3015b5a6eace",
   "metadata": {},
   "source": [
    "- The extractor class facilitates the use of coffea lookup_tools\n",
    "- The extractor class can take in many histograms at once(using wildcards *), here we only need one.\n",
    "- The evaluator is applies our corrections"
   ]
  },
  {
   "cell_type": "code",
   "execution_count": 593,
   "id": "1778a6e4-3442-4462-856f-6b6f15e373cc",
   "metadata": {},
   "outputs": [
    {
     "data": {
      "text/plain": [
       "<coffea.lookup_tools.extractor.extractor at 0x7fbb6bb99340>"
      ]
     },
     "execution_count": 593,
     "metadata": {},
     "output_type": "execute_result"
    }
   ],
   "source": [
    "ex = extractor()\n",
    "ex"
   ]
  },
  {
   "cell_type": "markdown",
   "id": "dcde0958-f326-462d-87f4-b4a985c34ee1",
   "metadata": {},
   "source": [
    "The usual syntax to add the weights is `ex.add_weight_sets([\"<Define a key><space><specify the histogram object name><space><the file>\"])`"
   ]
  },
  {
   "cell_type": "code",
   "execution_count": 594,
   "id": "3d960b03-8236-4e2d-b033-f596b0646dac",
   "metadata": {},
   "outputs": [],
   "source": [
    "ex.add_weight_sets([\"testSF2d scalefactors_Tight_Electron data/testSF2d.histo.root\"])"
   ]
  },
  {
   "cell_type": "code",
   "execution_count": 595,
   "id": "e16b813d-3fda-4ba3-bdf6-476fad642d41",
   "metadata": {},
   "outputs": [],
   "source": [
    "ex.finalize() # to stop further imports or modifications"
   ]
  },
  {
   "cell_type": "code",
   "execution_count": 596,
   "id": "095cd599-dd1e-4528-97ce-a3948bb70f23",
   "metadata": {},
   "outputs": [
    {
     "data": {
      "text/plain": [
       "dict_keys(['testSF2d'])"
      ]
     },
     "execution_count": 596,
     "metadata": {},
     "output_type": "execute_result"
    }
   ],
   "source": [
    "evaluator = ex.make_evaluator()\n",
    "evaluator.keys()"
   ]
  },
  {
   "cell_type": "code",
   "execution_count": 597,
   "id": "febca85f-bea3-4c86-95c1-fba62037e2a8",
   "metadata": {},
   "outputs": [
    {
     "data": {
      "text/plain": [
       "2 dimensional histogram with axes:\n",
       "\t1: [-2.5   -2.    -1.566 -1.444 -0.8    0.     0.8    1.444  1.566  2.\n",
       "  2.5  ]\n",
       "\t2: [ 10.  20.  35.  50.  90. 150. 500.]"
      ]
     },
     "execution_count": 597,
     "metadata": {},
     "output_type": "execute_result"
    }
   ],
   "source": [
    "evaluator[\"testSF2d\"]"
   ]
  },
  {
   "cell_type": "code",
   "execution_count": 598,
   "id": "4eb8f0c1-da8d-440f-9b1e-49c3174fc8c3",
   "metadata": {},
   "outputs": [
    {
     "data": {
      "text/plain": [
       "coffea.lookup_tools.dense_lookup.dense_lookup"
      ]
     },
     "execution_count": 598,
     "metadata": {},
     "output_type": "execute_result"
    }
   ],
   "source": [
    "type(evaluator[\"testSF2d\"])"
   ]
  },
  {
   "cell_type": "markdown",
   "id": "1e486560-6762-4ff6-b326-685e34c2924d",
   "metadata": {},
   "source": [
    "- Pass your branches as an argument to this to get the scale factor\n",
    "- for our case, scale factor depended upon eta(x-axis) and pt(y-axis)\n",
    "- The resultant scale factor has same size as Electron and has info about what should be the scale factor for each electron depending upon it's eta and pt."
   ]
  },
  {
   "cell_type": "code",
   "execution_count": 599,
   "id": "6645c09e-4571-4c8e-aff5-0ca22ba9d647",
   "metadata": {},
   "outputs": [
    {
     "name": "stdout",
     "output_type": "stream",
     "text": [
      "Electron eta: [[], [1.83], [-0.293, -0.904], [-2.19, 1.65], ... [-0.0595], [], [0.381], [], []]\n",
      "Electron pt: [[], [29.6], [60.1, 51.7], [10.7, 8.6], [], ... [], [15.6], [], [7.68], [], []]\n",
      "Scale factor: [[], [0.909], [0.953, 0.972], [0.807, 0.827], ... [0.941], [], [0.946], [], []]\n"
     ]
    }
   ],
   "source": [
    "print(\"Electron eta:\", events.Electron.eta)\n",
    "print(\"Electron pt:\", events.Electron.pt)\n",
    "scale = evaluator[\"testSF2d\"](events.Electron.eta, events.Electron.pt)\n",
    "print(\"Scale factor:\", scale)"
   ]
  },
  {
   "cell_type": "code",
   "execution_count": 600,
   "id": "8ba376a9-3fae-406d-90e4-a619151d2efd",
   "metadata": {},
   "outputs": [
    {
     "data": {
      "text/html": [
       "<html>\n",
       "<div style=\"display:flex; align-items:center;\">\n",
       "<div style=\"width:290px;\">\n",
       "<svg xmlns=\"http://www.w3.org/2000/svg\" viewBox=\"-10 -105 270 120\">\n",
       "<line x1=\"-5\" y1=\"0\" x2=\"255\" y2=\"0\" style=\"fill:none;stroke-width:2;stroke:currentColor\"/>\n",
       "<text text-anchor=\"middle\" x=\"0\" y=\"15\" style=\"fill:currentColor;\">\n",
       "0\n",
       "</text>\n",
       "<text text-anchor=\"middle\" x=\"250\" y=\"15\" style=\"fill:currentColor;\">\n",
       "100\n",
       "</text>\n",
       "<text text-anchor=\"middle\" x=\"125.0\" y=\"15\" style=\"fill:currentColor;\">\n",
       "Axis 0\n",
       "</text>\n",
       "<polyline points=\"  0,0   0,-0 2.5,-0 2.5,-0   5,-0   5,-0 7.5,-0 7.5,-0  10,-0  10,-0 12.5,-0 12.5,-0  15,-0  15,-0 17.5,-0 17.5,-50  20,-50  20,-0 22.5,-0 22.5,-100  25,-100  25,-0 27.5,-0 27.5,-50  30,-50  30,-0 32.5,-0 32.5,-50  35,-50  35,-50 37.5,-50 37.5,-0  40,-0  40,-50 42.5,-50 42.5,-0  45,-0  45,-0 47.5,-0 47.5,-50  50,-50  50,-50 52.5,-50 52.5,-0  55,-0  55,-0 57.5,-0 57.5,-0  60,-0  60,-0 62.5,-0 62.5,-0  65,-0  65,-0 67.5,-0 67.5,-0  70,-0  70,-0 72.5,-0 72.5,-0  75,-0  75,-0 77.5,-0 77.5,-0  80,-0  80,-0 82.5,-0 82.5,-0  85,-0  85,-0 87.5,-0 87.5,-0  90,-0  90,-0 92.5,-0 92.5,-100  95,-100  95,-50 97.5,-50 97.5,-0 100,-0 100,-50 102.5,-50 102.5,-0 105,-0 105,-50 107.5,-50 107.5,-50 110,-50 110,-0 112.5,-0 112.5,-0 115,-0 115,-0 117.5,-0 117.5,-0 120,-0 120,-50 122.5,-50 122.5,-0 125,-0 125,-0 127.5,-0 127.5,-0 130,-0 130,-0 132.5,-0 132.5,-0 135,-0 135,-0 137.5,-0 137.5,-0 140,-0 140,-0 142.5,-0 142.5,-0 145,-0 145,-0 147.5,-0 147.5,-50 150,-50 150,-0 152.5,-0 152.5,-0 155,-0 155,-0 157.5,-0 157.5,-0 160,-0 160,-0 162.5,-0 162.5,-0 165,-0 165,-0 167.5,-0 167.5,-0 170,-0 170,-50 172.5,-50 172.5,-0 175,-0 175,-0 177.5,-0 177.5,-0 180,-0 180,-50 182.5,-50 182.5,-0 185,-0 185,-50 187.5,-50 187.5,-0 190,-0 190,-0 192.5,-0 192.5,-0 195,-0 195,-0 197.5,-0 197.5,-0 200,-0 200,-0 202.5,-0 202.5,-0 205,-0 205,-0 207.5,-0 207.5,-0 210,-0 210,-0 212.5,-0 212.5,-0 215,-0 215,-50 217.5,-50 217.5,-0 220,-0 220,-0 222.5,-0 222.5,-0 225,-0 225,-0 227.5,-0 227.5,-0 230,-0 230,-0 232.5,-0 232.5,-0 235,-0 235,-0 237.5,-0 237.5,-0 240,-0 240,-0 242.5,-0 242.5,-0 245,-0 245,-0 247.5,-0 247.5,-0 250,-0 250,0\" style=\"fill:none; stroke:currentColor;\"/>\n",
       "</svg>\n",
       "</div>\n",
       "<div style=\"flex=grow:1;\">\n",
       "Regular(100, 0, 100, label='Axis 0')<br/>\n",
       "<hr style=\"margin-top:.2em; margin-bottom:.2em;\"/>\n",
       "Double() Σ=21.0 <em>(25.0 with flow)</em>\n",
       "\n",
       "</div>\n",
       "</div>\n",
       "</html>"
      ],
      "text/plain": [
       "Hist(Regular(100, 0, 100, label='Axis 0'), storage=Double()) # Sum: 21.0 (25.0 with flow)"
      ]
     },
     "execution_count": 600,
     "metadata": {},
     "output_type": "execute_result"
    }
   ],
   "source": [
    "import hist\n",
    "h = hist.Hist.new.Reg(100,0,100).Double()\n",
    "h.fill(ak.flatten(events.Electron.E * scale))\n",
    "h"
   ]
  },
  {
   "cell_type": "markdown",
   "id": "65dbe650-e59e-475c-a069-48b0a4356fd2",
   "metadata": {
    "jp-MarkdownHeadingCollapsed": true,
    "tags": []
   },
   "source": [
    "#### Buiding and using your own corrections from a histogram"
   ]
  },
  {
   "cell_type": "markdown",
   "id": "9296c3bb-00b7-4f31-9c32-ec3d1854bf68",
   "metadata": {},
   "source": [
    "- Lets first construct two different data sets of eta and phi.\n",
    "- These two datasets may correspond to, for example, from two different generators"
   ]
  },
  {
   "cell_type": "code",
   "execution_count": 601,
   "id": "c660b391-aa5e-4a6c-b71d-fe50f8ff893e",
   "metadata": {},
   "outputs": [],
   "source": [
    "import matplotlib.pyplot as plt\n",
    "import numpy as np"
   ]
  },
  {
   "cell_type": "code",
   "execution_count": 602,
   "id": "0745acc1-8a92-4e6b-bd0b-7a89adbf1958",
   "metadata": {},
   "outputs": [
    {
     "data": {
      "text/plain": [
       "ConstructProxy(Hist, StrCategory(['gen1', 'gen2', 'gen2rwt'], name='dataset'))"
      ]
     },
     "execution_count": 602,
     "metadata": {},
     "output_type": "execute_result"
    }
   ],
   "source": [
    "h = hist.Hist.new.StrCat([\"gen1\", \"gen2\", \"gen2rwt\"], name=\"dataset\") #StringCategory Histogram\n",
    "h"
   ]
  },
  {
   "cell_type": "code",
   "execution_count": 603,
   "id": "5f798e04-b845-4ecd-beaa-f63f55ce1829",
   "metadata": {},
   "outputs": [],
   "source": [
    "h= h.Reg(20, 0, 100 , name = \"pt\") # adding the pt axis"
   ]
  },
  {
   "cell_type": "code",
   "execution_count": 604,
   "id": "9051c490-04e7-4cbd-9d7f-a614ec0a3349",
   "metadata": {},
   "outputs": [],
   "source": [
    "h= h.Reg(4, -3, 3, name=\"eta\") # adding the eta axis"
   ]
  },
  {
   "cell_type": "code",
   "execution_count": 605,
   "id": "8e893f6b-3fa7-4ba6-9a2a-89ef854927ff",
   "metadata": {},
   "outputs": [
    {
     "data": {
      "text/plain": [
       "Hist(\n",
       "  StrCategory(['gen1', 'gen2', 'gen2rwt'], name='dataset'),\n",
       "  Regular(20, 0, 100, name='pt'),\n",
       "  Regular(4, -3, 3, name='eta'),\n",
       "  storage=Weight()) # Sum: WeightedSum(value=0, variance=0)"
      ]
     },
     "execution_count": 605,
     "metadata": {},
     "output_type": "execute_result"
    }
   ],
   "source": [
    "h = h.Weight()\n",
    "h"
   ]
  },
  {
   "cell_type": "markdown",
   "id": "cb7b3c58-6e28-4fbe-9dbb-eed2c03e5e6d",
   "metadata": {},
   "source": [
    "- Now lets fill this histogram object with random data"
   ]
  },
  {
   "cell_type": "code",
   "execution_count": 606,
   "id": "bcfdd3d8-4a66-48c5-9170-8f5e0510e2b5",
   "metadata": {},
   "outputs": [
    {
     "data": {
      "text/plain": [
       "Hist(\n",
       "  StrCategory(['gen1', 'gen2', 'gen2rwt'], name='dataset'),\n",
       "  Regular(20, 0, 100, name='pt'),\n",
       "  Regular(4, -3, 3, name='eta'),\n",
       "  storage=Weight()) # Sum: WeightedSum(value=19865, variance=19865) (WeightedSum(value=20000, variance=20000) with flow)"
      ]
     },
     "execution_count": 606,
     "metadata": {},
     "output_type": "execute_result"
    }
   ],
   "source": [
    "h.fill(dataset=\"gen1\",\n",
    "        pt=np.random.exponential(scale=10.0, size=10000) + np.random.exponential(scale=10.0, size=10000),\n",
    "        eta=np.random.normal(scale=1, size=10000)\n",
    "      )\n",
    "h.fill(dataset=\"gen2\",\n",
    "       pt=np.random.exponential(scale=10.0, size=10000) + np.random.exponential(scale=15.0, size=10000),\n",
    "       eta=np.random.normal(scale=1.1, size=10000)\n",
    "      )"
   ]
  },
  {
   "cell_type": "code",
   "execution_count": 607,
   "id": "54922a55-9cca-47b6-bc48-470d63ea6d06",
   "metadata": {},
   "outputs": [
    {
     "data": {
      "text/plain": [
       "ColormeshArtists(pcolormesh=<matplotlib.collections.QuadMesh object at 0x7fbb6ba24640>, cbar=<matplotlib.colorbar.Colorbar object at 0x7fbb6ba5c9d0>, text=[])"
      ]
     },
     "execution_count": 607,
     "metadata": {},
     "output_type": "execute_result"
    },
    {
     "data": {
      "image/png": "[encoded data removed]",
      "text/plain": [
       "<Figure size 640x480 with 2 Axes>"
      ]
     },
     "metadata": {},
     "output_type": "display_data"
    }
   ],
   "source": [
    "h[\"gen1\",:,:].plot2d() #first 2d histogram"
   ]
  },
  {
   "cell_type": "code",
   "execution_count": 608,
   "id": "16a74c67-2614-441d-9429-7c4e2d79a49b",
   "metadata": {},
   "outputs": [
    {
     "data": {
      "text/plain": [
       "ColormeshArtists(pcolormesh=<matplotlib.collections.QuadMesh object at 0x7fbb6bb42370>, cbar=<matplotlib.colorbar.Colorbar object at 0x7fbb6bb57f70>, text=[])"
      ]
     },
     "execution_count": 608,
     "metadata": {},
     "output_type": "execute_result"
    },
    {
     "data": {
      "image/png": "[encoded data removed]",
      "text/plain": [
       "<Figure size 640x480 with 2 Axes>"
      ]
     },
     "metadata": {},
     "output_type": "display_data"
    }
   ],
   "source": [
    "h[\"gen2\",:,:].plot2d() #second 2d histogram (to be corrected)"
   ]
  },
  {
   "cell_type": "code",
   "execution_count": 609,
   "id": "7c729ed9-cb4d-49d8-8b9c-07664f418f0f",
   "metadata": {},
   "outputs": [
    {
     "data": {
      "text/html": [
       "<html>\n",
       "<div style=\"display:flex; align-items:center;\">\n",
       "<div style=\"width:290px;\">\n",
       "<svg xmlns=\"http://www.w3.org/2000/svg\" viewBox=\"-20 -270 290 290\">\n",
       "<text text-anchor=\"middle\" x=\"0\" y=\"13\" style=\"fill:currentColor;\">\n",
       "0\n",
       "</text>\n",
       "<text text-anchor=\"middle\" x=\"250\" y=\"13\" style=\"fill:currentColor;\">\n",
       "100\n",
       "</text>\n",
       "<text text-anchor=\"middle\" x=\"-10\" y=\"0\" style=\"fill:currentColor;\">\n",
       "-3\n",
       "</text>\n",
       "<text text-anchor=\"middle\" x=\"-10\" y=\"-250\" style=\"fill:currentColor;\">\n",
       "3\n",
       "</text>\n",
       "<text text-anchor=\"middle\" x=\"125.0\" y=\"13\" style=\"fill:currentColor;\">\n",
       "pt\n",
       "</text>\n",
       "<text text-anchor=\"middle\" x=\"-10\" y=\"-125.0\" transform=\"rotate(-90,-10,-125.0)\" style=\"fill:currentColor;\">\n",
       "eta\n",
       "</text>\n",
       "<rect x=\"0.0\" y=\"-62.5\" width=\"12.5\" height=\"62.5\" opacity=\"0.0\" fill=\"currentColor\" stroke-width=\"0.1\"/>\n",
       "<rect x=\"12.5\" y=\"-62.5\" width=\"12.5\" height=\"62.5\" opacity=\"0.0\" fill=\"currentColor\" stroke-width=\"0.1\"/>\n",
       "<rect x=\"25.0\" y=\"-62.5\" width=\"12.5\" height=\"62.5\" opacity=\"0.0\" fill=\"currentColor\" stroke-width=\"0.1\"/>\n",
       "<rect x=\"37.5\" y=\"-62.5\" width=\"12.5\" height=\"62.5\" opacity=\"0.0\" fill=\"currentColor\" stroke-width=\"0.1\"/>\n",
       "<rect x=\"50.0\" y=\"-62.5\" width=\"12.5\" height=\"62.5\" opacity=\"0.0\" fill=\"currentColor\" stroke-width=\"0.1\"/>\n",
       "<rect x=\"62.5\" y=\"-62.5\" width=\"12.5\" height=\"62.5\" opacity=\"0.0\" fill=\"currentColor\" stroke-width=\"0.1\"/>\n",
       "<rect x=\"75.0\" y=\"-62.5\" width=\"12.5\" height=\"62.5\" opacity=\"0.0\" fill=\"currentColor\" stroke-width=\"0.1\"/>\n",
       "<rect x=\"87.5\" y=\"-62.5\" width=\"12.5\" height=\"62.5\" opacity=\"0.0\" fill=\"currentColor\" stroke-width=\"0.1\"/>\n",
       "<rect x=\"100.0\" y=\"-62.5\" width=\"12.5\" height=\"62.5\" opacity=\"0.0\" fill=\"currentColor\" stroke-width=\"0.1\"/>\n",
       "<rect x=\"112.5\" y=\"-62.5\" width=\"12.5\" height=\"62.5\" opacity=\"0.0\" fill=\"currentColor\" stroke-width=\"0.1\"/>\n",
       "<rect x=\"125.0\" y=\"-62.5\" width=\"12.5\" height=\"62.5\" opacity=\"0.0\" fill=\"currentColor\" stroke-width=\"0.1\"/>\n",
       "<rect x=\"137.5\" y=\"-62.5\" width=\"12.5\" height=\"62.5\" opacity=\"0.0\" fill=\"currentColor\" stroke-width=\"0.1\"/>\n",
       "<rect x=\"150.0\" y=\"-62.5\" width=\"12.5\" height=\"62.5\" opacity=\"0.0\" fill=\"currentColor\" stroke-width=\"0.1\"/>\n",
       "<rect x=\"162.5\" y=\"-62.5\" width=\"12.5\" height=\"62.5\" opacity=\"0.0\" fill=\"currentColor\" stroke-width=\"0.1\"/>\n",
       "<rect x=\"175.0\" y=\"-62.5\" width=\"12.5\" height=\"62.5\" opacity=\"0.0\" fill=\"currentColor\" stroke-width=\"0.1\"/>\n",
       "<rect x=\"187.5\" y=\"-62.5\" width=\"12.5\" height=\"62.5\" opacity=\"0.0\" fill=\"currentColor\" stroke-width=\"0.1\"/>\n",
       "<rect x=\"200.0\" y=\"-62.5\" width=\"12.5\" height=\"62.5\" opacity=\"0.0\" fill=\"currentColor\" stroke-width=\"0.1\"/>\n",
       "<rect x=\"212.5\" y=\"-62.5\" width=\"12.5\" height=\"62.5\" opacity=\"0.0\" fill=\"currentColor\" stroke-width=\"0.1\"/>\n",
       "<rect x=\"225.0\" y=\"-62.5\" width=\"12.5\" height=\"62.5\" opacity=\"0.0\" fill=\"currentColor\" stroke-width=\"0.1\"/>\n",
       "<rect x=\"237.5\" y=\"-62.5\" width=\"12.5\" height=\"62.5\" opacity=\"0.0\" fill=\"currentColor\" stroke-width=\"0.1\"/>\n",
       "<rect x=\"0.0\" y=\"-125.0\" width=\"12.5\" height=\"62.5\" opacity=\"0.0\" fill=\"currentColor\" stroke-width=\"0.1\"/>\n",
       "<rect x=\"12.5\" y=\"-125.0\" width=\"12.5\" height=\"62.5\" opacity=\"0.0\" fill=\"currentColor\" stroke-width=\"0.1\"/>\n",
       "<rect x=\"25.0\" y=\"-125.0\" width=\"12.5\" height=\"62.5\" opacity=\"0.0\" fill=\"currentColor\" stroke-width=\"0.1\"/>\n",
       "<rect x=\"37.5\" y=\"-125.0\" width=\"12.5\" height=\"62.5\" opacity=\"0.0\" fill=\"currentColor\" stroke-width=\"0.1\"/>\n",
       "<rect x=\"50.0\" y=\"-125.0\" width=\"12.5\" height=\"62.5\" opacity=\"0.0\" fill=\"currentColor\" stroke-width=\"0.1\"/>\n",
       "<rect x=\"62.5\" y=\"-125.0\" width=\"12.5\" height=\"62.5\" opacity=\"0.0\" fill=\"currentColor\" stroke-width=\"0.1\"/>\n",
       "<rect x=\"75.0\" y=\"-125.0\" width=\"12.5\" height=\"62.5\" opacity=\"0.0\" fill=\"currentColor\" stroke-width=\"0.1\"/>\n",
       "<rect x=\"87.5\" y=\"-125.0\" width=\"12.5\" height=\"62.5\" opacity=\"0.0\" fill=\"currentColor\" stroke-width=\"0.1\"/>\n",
       "<rect x=\"100.0\" y=\"-125.0\" width=\"12.5\" height=\"62.5\" opacity=\"0.0\" fill=\"currentColor\" stroke-width=\"0.1\"/>\n",
       "<rect x=\"112.5\" y=\"-125.0\" width=\"12.5\" height=\"62.5\" opacity=\"0.0\" fill=\"currentColor\" stroke-width=\"0.1\"/>\n",
       "<rect x=\"125.0\" y=\"-125.0\" width=\"12.5\" height=\"62.5\" opacity=\"0.0\" fill=\"currentColor\" stroke-width=\"0.1\"/>\n",
       "<rect x=\"137.5\" y=\"-125.0\" width=\"12.5\" height=\"62.5\" opacity=\"0.0\" fill=\"currentColor\" stroke-width=\"0.1\"/>\n",
       "<rect x=\"150.0\" y=\"-125.0\" width=\"12.5\" height=\"62.5\" opacity=\"0.0\" fill=\"currentColor\" stroke-width=\"0.1\"/>\n",
       "<rect x=\"162.5\" y=\"-125.0\" width=\"12.5\" height=\"62.5\" opacity=\"0.0\" fill=\"currentColor\" stroke-width=\"0.1\"/>\n",
       "<rect x=\"175.0\" y=\"-125.0\" width=\"12.5\" height=\"62.5\" opacity=\"0.0\" fill=\"currentColor\" stroke-width=\"0.1\"/>\n",
       "<rect x=\"187.5\" y=\"-125.0\" width=\"12.5\" height=\"62.5\" opacity=\"0.0\" fill=\"currentColor\" stroke-width=\"0.1\"/>\n",
       "<rect x=\"200.0\" y=\"-125.0\" width=\"12.5\" height=\"62.5\" opacity=\"0.0\" fill=\"currentColor\" stroke-width=\"0.1\"/>\n",
       "<rect x=\"212.5\" y=\"-125.0\" width=\"12.5\" height=\"62.5\" opacity=\"0.0\" fill=\"currentColor\" stroke-width=\"0.1\"/>\n",
       "<rect x=\"225.0\" y=\"-125.0\" width=\"12.5\" height=\"62.5\" opacity=\"0.0\" fill=\"currentColor\" stroke-width=\"0.1\"/>\n",
       "<rect x=\"237.5\" y=\"-125.0\" width=\"12.5\" height=\"62.5\" opacity=\"0.0\" fill=\"currentColor\" stroke-width=\"0.1\"/>\n",
       "<rect x=\"0.0\" y=\"-187.5\" width=\"12.5\" height=\"62.5\" opacity=\"0.0\" fill=\"currentColor\" stroke-width=\"0.1\"/>\n",
       "<rect x=\"12.5\" y=\"-187.5\" width=\"12.5\" height=\"62.5\" opacity=\"0.0\" fill=\"currentColor\" stroke-width=\"0.1\"/>\n",
       "<rect x=\"25.0\" y=\"-187.5\" width=\"12.5\" height=\"62.5\" opacity=\"0.0\" fill=\"currentColor\" stroke-width=\"0.1\"/>\n",
       "<rect x=\"37.5\" y=\"-187.5\" width=\"12.5\" height=\"62.5\" opacity=\"0.0\" fill=\"currentColor\" stroke-width=\"0.1\"/>\n",
       "<rect x=\"50.0\" y=\"-187.5\" width=\"12.5\" height=\"62.5\" opacity=\"0.0\" fill=\"currentColor\" stroke-width=\"0.1\"/>\n",
       "<rect x=\"62.5\" y=\"-187.5\" width=\"12.5\" height=\"62.5\" opacity=\"0.0\" fill=\"currentColor\" stroke-width=\"0.1\"/>\n",
       "<rect x=\"75.0\" y=\"-187.5\" width=\"12.5\" height=\"62.5\" opacity=\"0.0\" fill=\"currentColor\" stroke-width=\"0.1\"/>\n",
       "<rect x=\"87.5\" y=\"-187.5\" width=\"12.5\" height=\"62.5\" opacity=\"0.0\" fill=\"currentColor\" stroke-width=\"0.1\"/>\n",
       "<rect x=\"100.0\" y=\"-187.5\" width=\"12.5\" height=\"62.5\" opacity=\"0.0\" fill=\"currentColor\" stroke-width=\"0.1\"/>\n",
       "<rect x=\"112.5\" y=\"-187.5\" width=\"12.5\" height=\"62.5\" opacity=\"0.0\" fill=\"currentColor\" stroke-width=\"0.1\"/>\n",
       "<rect x=\"125.0\" y=\"-187.5\" width=\"12.5\" height=\"62.5\" opacity=\"0.0\" fill=\"currentColor\" stroke-width=\"0.1\"/>\n",
       "<rect x=\"137.5\" y=\"-187.5\" width=\"12.5\" height=\"62.5\" opacity=\"0.0\" fill=\"currentColor\" stroke-width=\"0.1\"/>\n",
       "<rect x=\"150.0\" y=\"-187.5\" width=\"12.5\" height=\"62.5\" opacity=\"0.0\" fill=\"currentColor\" stroke-width=\"0.1\"/>\n",
       "<rect x=\"162.5\" y=\"-187.5\" width=\"12.5\" height=\"62.5\" opacity=\"0.0\" fill=\"currentColor\" stroke-width=\"0.1\"/>\n",
       "<rect x=\"175.0\" y=\"-187.5\" width=\"12.5\" height=\"62.5\" opacity=\"0.0\" fill=\"currentColor\" stroke-width=\"0.1\"/>\n",
       "<rect x=\"187.5\" y=\"-187.5\" width=\"12.5\" height=\"62.5\" opacity=\"0.0\" fill=\"currentColor\" stroke-width=\"0.1\"/>\n",
       "<rect x=\"200.0\" y=\"-187.5\" width=\"12.5\" height=\"62.5\" opacity=\"0.0\" fill=\"currentColor\" stroke-width=\"0.1\"/>\n",
       "<rect x=\"212.5\" y=\"-187.5\" width=\"12.5\" height=\"62.5\" opacity=\"0.0\" fill=\"currentColor\" stroke-width=\"0.1\"/>\n",
       "<rect x=\"225.0\" y=\"-187.5\" width=\"12.5\" height=\"62.5\" opacity=\"0.0\" fill=\"currentColor\" stroke-width=\"0.1\"/>\n",
       "<rect x=\"237.5\" y=\"-187.5\" width=\"12.5\" height=\"62.5\" opacity=\"0.0\" fill=\"currentColor\" stroke-width=\"0.1\"/>\n",
       "<rect x=\"0.0\" y=\"-250.0\" width=\"12.5\" height=\"62.5\" opacity=\"0.0\" fill=\"currentColor\" stroke-width=\"0.1\"/>\n",
       "<rect x=\"12.5\" y=\"-250.0\" width=\"12.5\" height=\"62.5\" opacity=\"0.0\" fill=\"currentColor\" stroke-width=\"0.1\"/>\n",
       "<rect x=\"25.0\" y=\"-250.0\" width=\"12.5\" height=\"62.5\" opacity=\"0.0\" fill=\"currentColor\" stroke-width=\"0.1\"/>\n",
       "<rect x=\"37.5\" y=\"-250.0\" width=\"12.5\" height=\"62.5\" opacity=\"0.0\" fill=\"currentColor\" stroke-width=\"0.1\"/>\n",
       "<rect x=\"50.0\" y=\"-250.0\" width=\"12.5\" height=\"62.5\" opacity=\"0.0\" fill=\"currentColor\" stroke-width=\"0.1\"/>\n",
       "<rect x=\"62.5\" y=\"-250.0\" width=\"12.5\" height=\"62.5\" opacity=\"0.0\" fill=\"currentColor\" stroke-width=\"0.1\"/>\n",
       "<rect x=\"75.0\" y=\"-250.0\" width=\"12.5\" height=\"62.5\" opacity=\"0.0\" fill=\"currentColor\" stroke-width=\"0.1\"/>\n",
       "<rect x=\"87.5\" y=\"-250.0\" width=\"12.5\" height=\"62.5\" opacity=\"0.0\" fill=\"currentColor\" stroke-width=\"0.1\"/>\n",
       "<rect x=\"100.0\" y=\"-250.0\" width=\"12.5\" height=\"62.5\" opacity=\"0.0\" fill=\"currentColor\" stroke-width=\"0.1\"/>\n",
       "<rect x=\"112.5\" y=\"-250.0\" width=\"12.5\" height=\"62.5\" opacity=\"0.0\" fill=\"currentColor\" stroke-width=\"0.1\"/>\n",
       "<rect x=\"125.0\" y=\"-250.0\" width=\"12.5\" height=\"62.5\" opacity=\"0.0\" fill=\"currentColor\" stroke-width=\"0.1\"/>\n",
       "<rect x=\"137.5\" y=\"-250.0\" width=\"12.5\" height=\"62.5\" opacity=\"0.0\" fill=\"currentColor\" stroke-width=\"0.1\"/>\n",
       "<rect x=\"150.0\" y=\"-250.0\" width=\"12.5\" height=\"62.5\" opacity=\"0.0\" fill=\"currentColor\" stroke-width=\"0.1\"/>\n",
       "<rect x=\"162.5\" y=\"-250.0\" width=\"12.5\" height=\"62.5\" opacity=\"0.0\" fill=\"currentColor\" stroke-width=\"0.1\"/>\n",
       "<rect x=\"175.0\" y=\"-250.0\" width=\"12.5\" height=\"62.5\" opacity=\"0.0\" fill=\"currentColor\" stroke-width=\"0.1\"/>\n",
       "<rect x=\"187.5\" y=\"-250.0\" width=\"12.5\" height=\"62.5\" opacity=\"0.0\" fill=\"currentColor\" stroke-width=\"0.1\"/>\n",
       "<rect x=\"200.0\" y=\"-250.0\" width=\"12.5\" height=\"62.5\" opacity=\"0.0\" fill=\"currentColor\" stroke-width=\"0.1\"/>\n",
       "<rect x=\"212.5\" y=\"-250.0\" width=\"12.5\" height=\"62.5\" opacity=\"0.0\" fill=\"currentColor\" stroke-width=\"0.1\"/>\n",
       "<rect x=\"225.0\" y=\"-250.0\" width=\"12.5\" height=\"62.5\" opacity=\"0.0\" fill=\"currentColor\" stroke-width=\"0.1\"/>\n",
       "<rect x=\"237.5\" y=\"-250.0\" width=\"12.5\" height=\"62.5\" opacity=\"0.0\" fill=\"currentColor\" stroke-width=\"0.1\"/>\n",
       "</svg>\n",
       "</div>\n",
       "<div style=\"flex=grow:1;\">\n",
       "Regular(20, 0, 100, name='pt')<br/>\n",
       "Regular(4, -3, 3, name='eta')<br/>\n",
       "<hr style=\"margin-top:.2em; margin-bottom:.2em;\"/>\n",
       "Weight() Σ=WeightedSum(value=0, variance=0)\n",
       "\n",
       "</div>\n",
       "</div>\n",
       "</html>"
      ],
      "text/plain": [
       "Hist(\n",
       "  Regular(20, 0, 100, name='pt'),\n",
       "  Regular(4, -3, 3, name='eta'),\n",
       "  storage=Weight()) # Sum: WeightedSum(value=0, variance=0)"
      ]
     },
     "execution_count": 609,
     "metadata": {},
     "output_type": "execute_result"
    }
   ],
   "source": [
    "h[\"gen2rwt\",:,:] #third 2d histogram (not yet filled)"
   ]
  },
  {
   "cell_type": "code",
   "execution_count": 610,
   "id": "be45d64f-010c-4aa5-9e3e-a22031181046",
   "metadata": {},
   "outputs": [
    {
     "name": "stderr",
     "output_type": "stream",
     "text": [
      "/opt/conda/lib/python3.8/site-packages/mplhep/error_estimation.py:38: RuntimeWarning: All sumw are zero!  Cannot compute meaningful error bars\n",
      "  warnings.warn(\n"
     ]
    },
    {
     "data": {
      "text/plain": [
       "<matplotlib.legend.Legend at 0x7fbb6badaf10>"
      ]
     },
     "execution_count": 610,
     "metadata": {},
     "output_type": "execute_result"
    },
    {
     "data": {
      "image/png": "[encoded data removed]",
      "text/plain": [
       "<Figure size 640x480 with 1 Axes>"
      ]
     },
     "metadata": {},
     "output_type": "display_data"
    }
   ],
   "source": [
    "fig, ax= plt.subplots()\n",
    "h[:,:,sum].plot1d(ax=ax) # plot just the pt\n",
    "ax.legend(title=\"dataset\")"
   ]
  },
  {
   "cell_type": "markdown",
   "id": "4afc9c37-a869-4b7b-9061-919237de64f0",
   "metadata": {},
   "source": [
    "Now we derive a correction as a function of $p_T$ and $\\eta$ to `gen2` such that it agrees with `gen1`. We'll set it to 1 anywhere we run out of statistics for the correction, to avoid divide by zero issues"
   ]
  },
  {
   "cell_type": "code",
   "execution_count": 611,
   "id": "7aadad8f-67bb-4ac9-b7bc-4c25c0d2ed61",
   "metadata": {},
   "outputs": [],
   "source": [
    "from coffea.lookup_tools import dense_lookup"
   ]
  },
  {
   "cell_type": "code",
   "execution_count": 612,
   "id": "847cda6d-dd5b-440d-9785-3084ac6c44cc",
   "metadata": {},
   "outputs": [
    {
     "data": {
      "text/plain": [
       "array([[ 57., 385., 384.,  63.],\n",
       "       [117., 749., 747., 111.],\n",
       "       [104., 768., 740., 102.],\n",
       "       [127., 617., 670., 104.],\n",
       "       [ 70., 553., 509.,  76.],\n",
       "       [ 67., 390., 411.,  61.],\n",
       "       [ 38., 249., 294.,  41.],\n",
       "       [ 31., 182., 187.,  27.],\n",
       "       [ 16., 131., 137.,  17.],\n",
       "       [ 10., 103.,  90.,  12.],\n",
       "       [ 17.,  57.,  59.,   8.],\n",
       "       [ 14.,  34.,  37.,   6.],\n",
       "       [  1.,  28.,  28.,   5.],\n",
       "       [  2.,  18.,  16.,   1.],\n",
       "       [  1.,   8.,  11.,   2.],\n",
       "       [  1.,  16.,  14.,   1.],\n",
       "       [  0.,   4.,   5.,   1.],\n",
       "       [  1.,   1.,   3.,   0.],\n",
       "       [  0.,   2.,   4.,   0.],\n",
       "       [  1.,   3.,   3.,   0.]])"
      ]
     },
     "execution_count": 612,
     "metadata": {},
     "output_type": "execute_result"
    }
   ],
   "source": [
    "num = h[\"gen1\",:,:].values()\n",
    "den = h[\"gen2\",:,:].values()\n",
    "num"
   ]
  },
  {
   "cell_type": "code",
   "execution_count": 613,
   "id": "c438fc14-51d6-4624-a2fa-5ea1b07332b8",
   "metadata": {},
   "outputs": [
    {
     "data": {
      "text/plain": [
       "array([[1.03064074, 1.56915572, 1.52143234, 1.22847271],\n",
       "       [1.02968067, 1.40806041, 1.30557996, 0.96830744],\n",
       "       [0.83407825, 1.26450172, 1.15709694, 0.79247459],\n",
       "       [1.19149712, 1.089863  , 1.12360911, 1.07735107],\n",
       "       [0.71034137, 1.20602256, 1.12737028, 0.71981258],\n",
       "       [0.95185743, 0.93232304, 0.98966204, 0.67403503],\n",
       "       [0.62983601, 0.75265957, 0.88868239, 0.51612145],\n",
       "       [0.60448657, 0.7636919 , 0.81923951, 0.52648831],\n",
       "       [0.83745508, 0.71580553, 0.7324918 , 0.42265311],\n",
       "       [0.2924935 , 0.77015959, 0.67805312, 0.31404566],\n",
       "       [0.88979603, 0.48448924, 0.51468594, 0.37884873],\n",
       "       [0.92817938, 0.43349037, 0.44332148, 0.39779116],\n",
       "       [0.06215487, 0.50627966, 0.44199018, 0.62154869],\n",
       "       [0.19889558, 0.39779116, 0.34590536, 0.12430974],\n",
       "       [0.33149264, 0.3059932 , 0.33149264, 0.66298527],\n",
       "       [0.24861948, 1.32597055, 0.7327732 , 0.99447791],\n",
       "       [1.        , 0.24861948, 0.31077435, 0.99447791],\n",
       "       [1.        , 0.0764983 , 0.33149264, 1.        ],\n",
       "       [1.        , 0.33149264, 0.44199018, 1.        ],\n",
       "       [0.99447791, 0.33149264, 0.99447791, 1.        ]])"
      ]
     },
     "execution_count": 613,
     "metadata": {},
     "output_type": "execute_result"
    }
   ],
   "source": [
    "sf = np.where(\n",
    "    (num >  0) & (den > 0) ,\n",
    "    num / np.maximum(den, 1) * den.sum() / num.sum(),\n",
    "    1.0\n",
    ")\n",
    "sf # to remove non-zeroes"
   ]
  },
  {
   "cell_type": "code",
   "execution_count": 614,
   "id": "6c5c39ff-2ba9-40fa-bc56-1ecf8df904ea",
   "metadata": {},
   "outputs": [],
   "source": [
    "from coffea.lookup_tools.dense_lookup import dense_lookup"
   ]
  },
  {
   "cell_type": "code",
   "execution_count": 615,
   "id": "1a279b65-d272-4502-b237-ea769e2bae28",
   "metadata": {},
   "outputs": [
    {
     "name": "stdout",
     "output_type": "stream",
     "text": [
      "[array([  0.,   5.,  10.,  15.,  20.,  25.,  30.,  35.,  40.,  45.,  50.,\n",
      "        55.,  60.,  65.,  70.,  75.,  80.,  85.,  90.,  95., 100.]), array([-3. , -1.5,  0. ,  1.5,  3. ])]\n",
      "2 dimensional histogram with axes:\n",
      "\t1: [  0.   5.  10.  15.  20.  25.  30.  35.  40.  45.  50.  55.  60.  65.\n",
      "  70.  75.  80.  85.  90.  95. 100.]\n",
      "\t2: [-3.  -1.5  0.   1.5  3. ]\n",
      "\n"
     ]
    },
    {
     "data": {
      "text/plain": [
       "ColormeshArtists(pcolormesh=<matplotlib.collections.QuadMesh object at 0x7fbb6baa9c40>, cbar=<matplotlib.colorbar.Colorbar object at 0x7fbb6b924f40>, text=[])"
      ]
     },
     "execution_count": 615,
     "metadata": {},
     "output_type": "execute_result"
    },
    {
     "data": {
      "image/png": "[encoded data removed]",
      "text/plain": [
       "<Figure size 640x480 with 2 Axes>"
      ]
     },
     "metadata": {},
     "output_type": "display_data"
    }
   ],
   "source": [
    "edge = [ax.edges for ax in h.axes[1:]] #get the y-axis and x-axis (z-axis is the 0th element of axes array)\n",
    "print(edge)\n",
    "corr = dense_lookup(sf, edge) #corr is the correction histogram; its basically a lookup table\n",
    "print(corr)\n",
    "sfhist = hist.Hist(*h.axes[1:], data=sf) #Steal the axes from h\n",
    "sfhist.plot2d()"
   ]
  },
  {
   "cell_type": "markdown",
   "id": "cdf962d0-2957-42a3-890d-b31eaa728501",
   "metadata": {},
   "source": [
    "- Lets generate a mock data which looks as if from gen 2 and then correct it with corr"
   ]
  },
  {
   "cell_type": "code",
   "execution_count": 616,
   "id": "bf6dfd6a-7521-4768-ae83-95372f9297b2",
   "metadata": {},
   "outputs": [],
   "source": [
    "ptvals = np.random.exponential(scale=10.0, size=10000) + np.random.exponential(scale=15.0, size=10000)\n",
    "etavals = np.random.normal(scale=1.1, size=10000)"
   ]
  },
  {
   "cell_type": "code",
   "execution_count": 617,
   "id": "3193c24e-fe67-4dee-bc6c-3f18db834255",
   "metadata": {},
   "outputs": [
    {
     "data": {
      "text/plain": [
       "<matplotlib.legend.Legend at 0x7fbb6b939af0>"
      ]
     },
     "execution_count": 617,
     "metadata": {},
     "output_type": "execute_result"
    },
    {
     "data": {
      "image/png": "[encoded data removed]",
      "text/plain": [
       "<Figure size 640x480 with 1 Axes>"
      ]
     },
     "metadata": {},
     "output_type": "display_data"
    }
   ],
   "source": [
    "h.fill(\n",
    "    dataset=\"gen2rwt\",\n",
    "    pt=ptvals,\n",
    "    eta=etavals,\n",
    "    weight=corr(ptvals, etavals)\n",
    ")\n",
    "\n",
    "fig, ax = plt.subplots()\n",
    "h[:, :, sum].plot1d(ax=ax)\n",
    "ax.legend(title=\"dataset\")"
   ]
  },
  {
   "cell_type": "markdown",
   "id": "9c008300-3cfc-4634-ace5-a399adaa6a1f",
   "metadata": {},
   "source": [
    "- The agreement between gen1 and gen2rwt shows that the correction has been made"
   ]
  },
  {
   "cell_type": "markdown",
   "id": "a25d03d8-493a-4215-901a-ebcf0e161d30",
   "metadata": {
    "jp-MarkdownHeadingCollapsed": true,
    "tags": []
   },
   "source": [
    "### CMS high-level tools"
   ]
  },
  {
   "cell_type": "markdown",
   "id": "5b291349-ad8c-48c5-8cc0-c857dba2d318",
   "metadata": {
    "jp-MarkdownHeadingCollapsed": true
   },
   "source": [
    "#### Applying energy scale transformations with jetmet_tools"
   ]
  },
  {
   "cell_type": "markdown",
   "id": "ab3425ec-8dea-43a7-ba29-f7dbe20b70b2",
   "metadata": {},
   "source": [
    "<u>chatGPT <u>: \n",
    "\n",
    "In particle physics, specifically in the context of high-energy particle collisions and experiments conducted at accelerators like the Large Hadron Collider (LHC) at CERN, \"AK4\" and \"AK8\" refer to jet clustering algorithms with different cone sizes. Let's break down what this means:\n",
    "\n",
    "Jet Clustering Algorithm:\n",
    "In a high-energy particle collision, quarks and gluons are produced as a result of the collision. However, these particles are not observed directly due to a phenomenon called color confinement. Instead, they rapidly combine to form groups of particles known as jets. Jet clustering algorithms are used to group particles that come from the same initial quark or gluon into these jets.\n",
    "\n",
    "AK4 and AK8:\n",
    "\n",
    "AK4: This refers to the \"Anti-kT with radius 0.4\" jet clustering algorithm. The \"Anti-kT\" part indicates the algorithm's strategy for clustering, and \"0.4\" represents the size of the jet cone in terms of angular separation. The angular separation is usually measured in units of ΔR, which stands for the difference in rapidity and azimuthal angle. Smaller cone sizes (like 0.4) tend to capture the more collimated, high-energy particles, such as those coming from quarks produced in processes like the strong force.\n",
    "\n",
    "AK8: This stands for \"Anti-kT with radius 0.8\" jet clustering algorithm. Similar to AK4, it uses the Anti-kT strategy for clustering, but with a larger cone size of 0.8. Larger cone sizes tend to capture more of the softer, wider-angle particles, which might arise from the decay of heavy particles like W and Z bosons, top quarks, and even hypothetical new particles.\n",
    "\n",
    "The \"Anti-kT\" algorithm is a popular choice for jet clustering because it tends to give well-behaved jets that are less sensitive to the presence of additional particles (pileup) in the collision. The \"radius\" or cone size determines how tightly or broadly the algorithm clusters particles. Smaller cone sizes are more focused and suitable for high-energy quarks, while larger cone sizes are better for reconstructing the broader structure of heavier particles.\n",
    "\n",
    "These jet clustering algorithms are essential tools for particle physicists to analyze the outcomes of high-energy collisions and to identify and understand the particles produced in these collisions."
   ]
  },
  {
   "cell_type": "code",
   "execution_count": 618,
   "id": "57196acd-e801-40d6-91b6-4bb21e29394d",
   "metadata": {},
   "outputs": [],
   "source": [
    "from coffea.jetmet_tools import FactorizedJetCorrector, JetCorrectionUncertainty\n",
    "from coffea.jetmet_tools import JECStack, CorrectedJetsFactory"
   ]
  },
  {
   "cell_type": "code",
   "execution_count": 619,
   "id": "4d9f1f96-83ab-4581-b556-e3de6ebc885a",
   "metadata": {},
   "outputs": [],
   "source": [
    "ext = extractor()\n",
    "ext.add_weight_sets([\n",
    "    \"* * data/Fall17_17Nov2017_V32_MC_L2Relative_AK4PFPuppi.jec.txt\",\n",
    "    \"* * data/Fall17_17Nov2017_V32_MC_Uncertainty_AK4PFPuppi.junc.txt\",\n",
    "])\n",
    "ext.finalize()"
   ]
  },
  {
   "cell_type": "markdown",
   "id": "cbd238e3-e174-4bcb-92d5-aa86574af7a9",
   "metadata": {},
   "source": [
    "- Stars probably represents that, we used the filename as the key and identifier name."
   ]
  },
  {
   "cell_type": "code",
   "execution_count": 620,
   "id": "bdf3c26b-453e-4619-a6fc-4ccff0cc2989",
   "metadata": {},
   "outputs": [],
   "source": [
    "jec_stack_names = [\n",
    "    \"Fall17_17Nov2017_V32_MC_L2Relative_AK4PFPuppi\",\n",
    "    \"Fall17_17Nov2017_V32_MC_Uncertainty_AK4PFPuppi\"\n",
    "]\n",
    "\n",
    "evaluator = ext.make_evaluator()\n",
    "\n",
    "jec_inputs = {name: evaluator[name] for name in jec_stack_names}\n",
    "jec_stack = JECStack(jec_inputs) # Takes a dictionary as an input"
   ]
  },
  {
   "cell_type": "code",
   "execution_count": 621,
   "id": "6a133ef3-1864-47e8-82fc-432fa7490a2d",
   "metadata": {},
   "outputs": [
    {
     "name": "stdout",
     "output_type": "stream",
     "text": [
      "{'Fall17_17Nov2017_V32_MC_L2Relative_AK4PFPuppi': binned dims: ['JetEta', 'JetPt']\n",
      "eval vars  : ['JetPt']\n",
      "parameters : ['p0', 'p1', 'p2', 'p3', 'p4']\n",
      "formula    : max(0.0001,p0+((JetPt-p1)*(p2+((JetPt-p1)*(p3+((JetPt-p1)*p4))))))\n",
      "signature  : (JetEta,JetPt)\n",
      ", 'Fall17_17Nov2017_V32_MC_Uncertainty_AK4PFPuppi': binned dims   : ['JetEta']\n",
      "eval vars     : ['JetPt']\n",
      "signature     : (JetEta,JetPt)\n",
      "}\n",
      "['Fall17_17Nov2017_V32_MC_L2Relative_AK4PFPuppi', 'Fall17_17Nov2017_V32_MC_Uncertainty_AK4PFPuppi']\n"
     ]
    }
   ],
   "source": [
    "print(jec_inputs)\n",
    "print(dir(evaluator))"
   ]
  },
  {
   "cell_type": "markdown",
   "id": "4caccf7e-84e7-4e46-9d5e-7b964a8b7edb",
   "metadata": {},
   "source": [
    "AS IS(I didn't understand): \n",
    "Now we prepare some auxilary variables that are used to parameterize the jet energy corrections, such as jet area, mass, and event $\\rho$ (mean pileup energy density), and pass all of these into the `CorrectedJetsFactory`:"
   ]
  },
  {
   "cell_type": "code",
   "execution_count": 622,
   "id": "9ee8a783-4e3b-4daa-a753-a63ac36d0d24",
   "metadata": {},
   "outputs": [
    {
     "name": "stdout",
     "output_type": "stream",
     "text": [
      "starting columns: {'jercCHPUF', 'nElectrons', 'btagCMVA', 'muonIdxG', 'puId', 'electronIdx1G', 'pt_raw', 'area', 'btagCSVV2', 'phi', 'chHEF', 'muonSubtrFactor', 'eta', 'muonIdx2', 'rawFactor', 'mass', 'muEF', 'cleanmask', 'electronIdx1', 'jercCHF', 'btagDeepFlavB', 'hadronFlavour', 'genJetIdx', 'neHEF', 'bRegRes', 'electronIdxG', 'genJetIdxG', 'muonIdx2G', 'electronIdx2G', 'mass_raw', 'pt_gen', 'jetId', 'btagDeepB', 'rho', 'bRegCorr', 'muonIdx1', 'partonFlavour', 'btagDeepC', 'qgl', 'chEmEF', 'nMuons', 'muonIdx1G', 'electronIdx2', 'neEmEF', 'btagDeepFlavC', 'nConstituents', 'pt'}\n",
      "new columns: {'pt_orig', 'jet_energy_correction', 'jet_energy_uncertainty_jes', 'JES_jes', 'pt_jec', 'mass_jec', 'mass_orig'}\n"
     ]
    }
   ],
   "source": [
    "name_map = jec_stack.blank_name_map\n",
    "name_map['JetPt'] = 'pt'\n",
    "name_map['JetMass'] = 'mass'\n",
    "name_map['JetEta'] = 'eta'\n",
    "name_map['JetA'] = 'area'\n",
    "\n",
    "jets = events.Jet\n",
    "    \n",
    "jets['pt_raw'] = (1 - jets['rawFactor']) * jets['pt']\n",
    "jets['mass_raw'] = (1 - jets['rawFactor']) * jets['mass']\n",
    "jets['pt_gen'] = ak.values_astype(ak.fill_none(jets.matched_gen.pt, 0), np.float32)\n",
    "jets['rho'] = ak.broadcast_arrays(events.fixedGridRhoFastjetAll, jets.pt)[0]\n",
    "name_map['ptGenJet'] = 'pt_gen'\n",
    "name_map['ptRaw'] = 'pt_raw'\n",
    "name_map['massRaw'] = 'mass_raw'\n",
    "name_map['Rho'] = 'rho'\n",
    "    \n",
    "events_cache = events.caches[0]\n",
    "corrector = FactorizedJetCorrector(\n",
    "    Fall17_17Nov2017_V32_MC_L2Relative_AK4PFPuppi=evaluator['Fall17_17Nov2017_V32_MC_L2Relative_AK4PFPuppi'],\n",
    ")\n",
    "uncertainties = JetCorrectionUncertainty(\n",
    "    Fall17_17Nov2017_V32_MC_Uncertainty_AK4PFPuppi=evaluator['Fall17_17Nov2017_V32_MC_Uncertainty_AK4PFPuppi']\n",
    ")\n",
    "\n",
    "jet_factory = CorrectedJetsFactory(name_map, jec_stack)\n",
    "corrected_jets = jet_factory.build(jets, lazy_cache=events_cache)\n",
    "\n",
    "print('starting columns:', set(ak.fields(jets)))\n",
    "print('new columns:', set(ak.fields(corrected_jets)) - set(ak.fields(jets)))"
   ]
  },
  {
   "cell_type": "markdown",
   "id": "a62e879d-b22c-433f-a408-e659a01db73e",
   "metadata": {},
   "source": [
    "Below we show that the corrected jets indeed have a different $p_T$ and mass than we started with"
   ]
  },
  {
   "cell_type": "code",
   "execution_count": 623,
   "id": "856553c1-67cc-4d16-92f6-7645fba10f33",
   "metadata": {},
   "outputs": [
    {
     "name": "stdout",
     "output_type": "stream",
     "text": [
      "untransformed pt ratios [[1.12, 1.09, 1.2, 1.35, 1.27], [1.03, ... 1.28, 1.1, 1.13, 0.989], [1.13, 0.978]]\n",
      "untransformed mass ratios [[1.12, 1.09, 1.2, 1.35, 1.27], [1.03, ... 1.28, 1.1, 1.13, 0.989], [1.13, 0.978]]\n",
      "transformed pt ratios [[1.2, 1.3, 1.46, 2.09, 2.1], [1.09, 1.29, ... 1.84, 1.47, 1.36, 1.16], [1.37, 1.15]]\n",
      "transformed mass ratios [[1.2, 1.3, 1.46, 2.09, 2.1], [1.09, 1.29, ... 1.84, 1.47, 1.36, 1.16], [1.37, 1.15]]\n",
      "JES UP pt ratio [[1.22, 1.35, 1.56, 2.34, 2.37], [1.1, ... 2.07, 1.52, 1.41, 1.2], [1.41, 1.17]]\n",
      "JES DOWN pt ratio [[1.19, 1.25, 1.35, 1.83, 1.83], [1.08, ... 1.6, 1.41, 1.32, 1.13], [1.33, 1.12]]\n"
     ]
    }
   ],
   "source": [
    "print('untransformed pt ratios', jets.pt/jets.pt_raw)\n",
    "print('untransformed mass ratios', jets.mass/jets.mass_raw)\n",
    "\n",
    "print('transformed pt ratios', corrected_jets.pt/corrected_jets.pt_raw)\n",
    "print('transformed mass ratios', corrected_jets.mass/corrected_jets.mass_raw)\n",
    "\n",
    "print('JES UP pt ratio', corrected_jets.JES_jes.up.pt/corrected_jets.pt_raw)\n",
    "print('JES DOWN pt ratio', corrected_jets.JES_jes.down.pt/corrected_jets.pt_raw)"
   ]
  },
  {
   "cell_type": "markdown",
   "id": "697cb388-0fb0-492f-b242-23b661190438",
   "metadata": {
    "jp-MarkdownHeadingCollapsed": true,
    "tags": []
   },
   "source": [
    "#### Applying CMS b-tagging corrections with btag_tools\n",
    "The `coffea.btag_tools` module provides the high-level utility [BTagScaleFactor](https://coffeateam.github.io/coffea/api/coffea.btag_tools.BTagScaleFactor.html#coffea.btag_tools.BTagScaleFactor) which calculates per-jet weights for b-tagging as well as light flavor mis-tagging efficiencies. Uncertainties can be calculated as well."
   ]
  },
  {
   "cell_type": "code",
   "execution_count": 624,
   "id": "1ce7d52c-c409-4268-b0f0-3b0effbb0d5f",
   "metadata": {},
   "outputs": [
    {
     "name": "stdout",
     "output_type": "stream",
     "text": [
      "SF: [[1.52, 1.56, 1.59, 1.6, 1.6], [0.969, 1.57, ... 1.59, 1.6, 1.6, 1.6], [1.6, 1.6]]\n",
      "systematic +: [[1.72, 1.77, 1.79, 1.8, 1.8], [1.01, 1.78, ... 1.8, 1.8, 1.8, 1.8], [1.8, 1.8]]\n",
      "systematic -: [[1.31, 1.36, 1.38, 1.4, 1.4], [0.925, 1.37, ... 1.39, 1.4, 1.4, 1.4], [1.4, 1.4]]\n"
     ]
    }
   ],
   "source": [
    "from coffea.btag_tools import BTagScaleFactor\n",
    "\n",
    "btag_sf = BTagScaleFactor(\"data/DeepCSV_102XSF_V1.btag.csv.gz\", \"medium\")\n",
    "\n",
    "print(\"SF:\", btag_sf.eval(\"central\", events.Jet.hadronFlavour, abs(events.Jet.eta), events.Jet.pt))\n",
    "print(\"systematic +:\", btag_sf.eval(\"up\", events.Jet.hadronFlavour, abs(events.Jet.eta), events.Jet.pt))\n",
    "print(\"systematic -:\", btag_sf.eval(\"down\", events.Jet.hadronFlavour, abs(events.Jet.eta), events.Jet.pt))"
   ]
  },
  {
   "cell_type": "markdown",
   "id": "493b5bb7-0394-441b-81d2-acf35cecb5cd",
   "metadata": {
    "jp-MarkdownHeadingCollapsed": true,
    "tags": []
   },
   "source": [
    "### Using Correctionlib"
   ]
  },
  {
   "cell_type": "markdown",
   "id": "153e07c1-bd1d-420e-93ad-578b0fe1b9f1",
   "metadata": {},
   "source": [
    "Correction library object can be constructed from the corrections we make earlier and save it in json format."
   ]
  },
  {
   "cell_type": "markdown",
   "id": "5e89b75e-73ef-413d-8ff6-c88bfca191db",
   "metadata": {},
   "source": [
    "- correctionlib helps to handle json files in hep style\n",
    "- rich is a library which enables colourful printing in terminal"
   ]
  },
  {
   "cell_type": "code",
   "execution_count": 625,
   "id": "80402232-b6bc-4d9e-bfe3-ccbc1b6e11a3",
   "metadata": {},
   "outputs": [],
   "source": [
    "import correctionlib, rich\n",
    "import correctionlib.convert"
   ]
  },
  {
   "cell_type": "code",
   "execution_count": 626,
   "id": "f3245534-0521-465d-994b-fe8c06a586cd",
   "metadata": {},
   "outputs": [
    {
     "data": {
      "text/html": [
       "<pre style=\"white-space:pre;overflow-x:auto;line-height:normal;font-family:Menlo,'DejaVu Sans Mono',consolas,'Courier New',monospace\"><span style=\"font-weight: bold\">CorrectionSet</span> (<span style=\"font-style: italic\">schema v2</span>)\n",
       "my custom corrections\n",
       "📂\n",
       "└── 📈 <span style=\"font-weight: bold\">gen2_to_gen1</span> (v0)\n",
       "    Reweights gen2 to agree with gen1\n",
       "    Node counts: <span style=\"font-weight: bold\">MultiBinning</span>: 1\n",
       "    ╭──────────── ▶ input ─────────────╮ ╭──────────── ▶ input ────────────╮\n",
       "    │ <span style=\"font-weight: bold\">pt</span> (real)                        │ │ <span style=\"font-weight: bold\">eta</span> (real)                      │\n",
       "    │ pt                               │ │ eta                             │\n",
       "    │ Range: [0.0, 100.0), overflow ok │ │ Range: [-3.0, 3.0), overflow ok │\n",
       "    ╰──────────────────────────────────╯ ╰─────────────────────────────────╯\n",
       "    ╭─── ◀ output ───╮\n",
       "    │ <span style=\"font-weight: bold\">out</span> (real)     │\n",
       "    │ <span style=\"font-style: italic\">No description</span> │\n",
       "    ╰────────────────╯\n",
       "</pre>\n"
      ],
      "text/plain": [
       "\u001b[1mCorrectionSet\u001b[0m (\u001b[3mschema v2\u001b[0m)\n",
       "my custom corrections\n",
       "📂\n",
       "└── 📈 \u001b[1mgen2_to_gen1\u001b[0m (v0)\n",
       "    Reweights gen2 to agree with gen1\n",
       "    Node counts: \u001b[1mMultiBinning\u001b[0m: 1\n",
       "    ╭──────────── ▶ input ─────────────╮ ╭──────────── ▶ input ────────────╮\n",
       "    │ \u001b[1mpt\u001b[0m (real)                        │ │ \u001b[1meta\u001b[0m (real)                      │\n",
       "    │ pt                               │ │ eta                             │\n",
       "    │ Range: [0.0, 100.0), overflow ok │ │ Range: [-3.0, 3.0), overflow ok │\n",
       "    ╰──────────────────────────────────╯ ╰─────────────────────────────────╯\n",
       "    ╭─── ◀ output ───╮\n",
       "    │ \u001b[1mout\u001b[0m (real)     │\n",
       "    │ \u001b[3mNo description\u001b[0m │\n",
       "    ╰────────────────╯\n"
      ]
     },
     "metadata": {},
     "output_type": "display_data"
    }
   ],
   "source": [
    "# without a name, the resulting object will fail validation\n",
    "sfhist.name = \"gen2_to_gen1\"\n",
    "sfhist.label = \"out\"\n",
    "clibcorr = correctionlib.convert.from_histogram(sfhist)\n",
    "clibcorr.description = \"Reweights gen2 to agree with gen1\"\n",
    "# set overflow bins behavior (default is to raise an error when out of bounds)\n",
    "clibcorr.data.flow = \"clamp\"\n",
    "\n",
    "cset = correctionlib.schemav2.CorrectionSet(\n",
    "    schema_version=2,\n",
    "    description=\"my custom corrections\",\n",
    "    corrections=[clibcorr],\n",
    ")\n",
    "rich.print(cset)\n",
    "\n",
    "with open(\"data/mycorrections.json\", \"w\") as fout:\n",
    "    fout.write(cset.json(exclude_unset=True))"
   ]
  },
  {
   "cell_type": "code",
   "execution_count": 627,
   "id": "9d1d1197-4b7e-4f52-9caa-7fee979b5d4d",
   "metadata": {
    "tags": []
   },
   "outputs": [
    {
     "data": {
      "text/plain": [
       "array([0.62983601, 1.26450172, 1.26450172, ..., 0.77015959, 1.52143234,\n",
       "       1.03064074])"
      ]
     },
     "execution_count": 627,
     "metadata": {},
     "output_type": "execute_result"
    }
   ],
   "source": [
    "ceval = cset.to_evaluator()\n",
    "\n",
    "ceval[\"gen2_to_gen1\"].evaluate(ptvals, etavals)"
   ]
  },
  {
   "cell_type": "code",
   "execution_count": 628,
   "id": "680d7403-aec8-47a9-a1a6-86f92aa17d3e",
   "metadata": {
    "tags": []
   },
   "outputs": [
    {
     "data": {
      "text/plain": [
       "<Array [[0.994, 0.314, 0.674, ... [1.19, 1.12]] type='40 * var * float64'>"
      ]
     },
     "execution_count": 628,
     "metadata": {},
     "output_type": "execute_result"
    }
   ],
   "source": [
    "def myJetSF(jets):\n",
    "    j, nj = ak.flatten(jets), ak.num(jets)\n",
    "    sf = ceval[\"gen2_to_gen1\"].evaluate(np.array(j.pt), np.array(j.eta))\n",
    "    return ak.unflatten(sf, nj)\n",
    "\n",
    "myJetSF(events.Jet)"
   ]
  },
  {
   "cell_type": "markdown",
   "id": "e1264341-9813-4682-a494-074881378c76",
   "metadata": {},
   "source": [
    "- Pydantic versions mismatched in my device and coffea casa\n",
    "- My device has ver 2 , coffea-casa at Nebraska has ver 1"
   ]
  },
  {
   "cell_type": "markdown",
   "id": "b5acb51c-ec2f-48c4-aa9e-cb72ab36b69d",
   "metadata": {
    "tags": []
   },
   "source": [
    "## Analysis tools and Accumulators"
   ]
  },
  {
   "cell_type": "markdown",
   "id": "23829281-4da0-46cd-a505-33f91e16d31e",
   "metadata": {},
   "source": [
    "- Accumulators relate to the eventual output of an analysis which is usually the output of coffea processors."
   ]
  },
  {
   "cell_type": "code",
   "execution_count": 629,
   "id": "5a65a9fc-2c48-4fcd-ab84-f90df9f147ef",
   "metadata": {
    "tags": []
   },
   "outputs": [],
   "source": [
    "#Lets load a sample file\n",
    "import numpy as np\n",
    "import awkward as ak\n",
    "from coffea.nanoevents import NanoEventsFactory, NanoAODSchema\n",
    "fname = \"data/nano_dy.root\"\n",
    "events = NanoEventsFactory.from_root(\n",
    "    fname,\n",
    "    schemaclass=NanoAODSchema.v6,\n",
    "    metadata={\"dataset\":\"DYJets\"},\n",
    ").events()"
   ]
  },
  {
   "cell_type": "code",
   "execution_count": 630,
   "id": "d1b8656d-da55-40a1-a7c3-873db143c497",
   "metadata": {
    "tags": []
   },
   "outputs": [
    {
     "data": {
      "text/plain": [
       "dict_keys(['scalefactors_Tight_Electron', 'scalefactors_Tight_Electron_error'])"
      ]
     },
     "execution_count": 630,
     "metadata": {},
     "output_type": "execute_result"
    }
   ],
   "source": [
    "# lets also load a correction table\n",
    "from coffea.lookup_tools import extractor\n",
    "ext = extractor()\n",
    "ext.add_weight_sets([\"* * data/testSF2d.histo.root\"])\n",
    "ext.finalize()\n",
    "evaluator = ext.make_evaluator()\n",
    "evaluator.keys()"
   ]
  },
  {
   "cell_type": "markdown",
   "id": "07f5a7ff-cecd-4465-8196-7ea40fe65774",
   "metadata": {
    "jp-MarkdownHeadingCollapsed": true,
    "tags": []
   },
   "source": [
    "### Weights"
   ]
  },
  {
   "cell_type": "markdown",
   "id": "73d100cd-61ac-4c9c-9f56-ab5c99f9718a",
   "metadata": {},
   "source": [
    "-  Event weights are used to scale the contribution of individual events in an analysis to better represent the overall physical processes being studied."
   ]
  },
  {
   "cell_type": "markdown",
   "id": "fa74326b-804a-40bd-840b-6e479ed4915f",
   "metadata": {},
   "source": [
    "Here's a breakdown of why event weights are used and how they work:\n",
    "\n",
    "__Detector Efficiency and Luminosity__: Particle detectors may not capture every particle or interaction with 100% efficiency. Event weights are applied to compensate for this by adjusting the contribution of each event based on the detector's known efficiency for detecting specific particles or interactions. Luminosity, which represents the rate of particle collisions, is also taken into account to scale the event rates.\n",
    "\n",
    "__Theoretical Predictions__: In some cases, researchers use theoretical predictions to estimate the expected number of events for a particular process. If the theoretical prediction doesn't match the experimental data perfectly, event weights can be applied to scale the theoretical prediction to match the data better.\n",
    "\n",
    "__Monte Carlo Simulations__: Monte Carlo simulations are used to predict the outcomes of particle collisions and detector responses based on theoretical models. These simulations may not perfectly match the real data due to uncertainties in modeling. Event weights are used to adjust the simulation to better match the data, accounting for these discrepancies.\n",
    "\n",
    "__Background Subtraction__: In many analyses, distinguishing between signal and background events is crucial. Event weights can be applied to adjust the contribution of background events to accurately subtract them from the data, leaving behind the signal of interest.\n",
    "\n",
    "__Data-to-Data Comparisons__: In some cases, researchers compare data from different periods or datasets that have different characteristics, such as detector configurations or luminosities. Event weights can be used to make the datasets more comparable, allowing for meaningful comparisons."
   ]
  },
  {
   "cell_type": "markdown",
   "id": "ba50388e-0149-44ec-a5bb-24e3d1a002ae",
   "metadata": {},
   "source": [
    "` Coffea.analysis_tools.Weights ` is a container for event weights and associated systematic shifts, which helps track the product of the weights (i.e. the total event weight to be used for filling histograms) as well as systematic variations to that product."
   ]
  },
  {
   "cell_type": "code",
   "execution_count": 631,
   "id": "ab35ff31-17bd-4054-aada-580a884995fa",
   "metadata": {
    "tags": []
   },
   "outputs": [],
   "source": [
    "from coffea.analysis_tools import Weights"
   ]
  },
  {
   "cell_type": "code",
   "execution_count": 632,
   "id": "5e61a9d3-4619-4efb-a366-bdc7c21e1d81",
   "metadata": {
    "tags": []
   },
   "outputs": [
    {
     "data": {
      "text/plain": [
       "<coffea.analysis_tools.Weights at 0x7fbb6a452a00>"
      ]
     },
     "execution_count": 632,
     "metadata": {},
     "output_type": "execute_result"
    }
   ],
   "source": [
    "weights = Weights(len(events))\n",
    "weights"
   ]
  },
  {
   "cell_type": "code",
   "execution_count": 633,
   "id": "da671f03-a6ec-4535-9531-5f862d2cbb82",
   "metadata": {},
   "outputs": [],
   "source": [
    "weights.add(\"alphaS\",\n",
    "            weight=np.ones(len(events)),\n",
    "            weightUp=events.LHEPdfWeight[:, 32],\n",
    "            weightDown=events.LHEPdfWeight[:,31])\n",
    "# in NanoAOD, the generator weights are already stored with respect to nominal\n",
    "# 31 => alphas(MZ)=0.1165 central value; 32 => alphas(MZ)=0.1195\n",
    "# per https://lhapdfsets.web.cern.ch/current/PDF4LHC15_nnlo_30_pdfas/PDF4LHC15_nnlo_30_pdfas.info\n",
    "# which was found by looking up the LHA ID in events.LHEPdfWeight.__doc__"
   ]
  },
  {
   "cell_type": "code",
   "execution_count": 634,
   "id": "231d207f-7a6a-446d-8a11-bf8bbf0b6f4c",
   "metadata": {
    "tags": []
   },
   "outputs": [
    {
     "data": {
      "text/plain": [
       "<Array [[0.983, 0.995, 1.02, ... 0.949, 0.96]] type='40 * [var * float32[paramet...'>"
      ]
     },
     "execution_count": 634,
     "metadata": {},
     "output_type": "execute_result"
    }
   ],
   "source": [
    "events.LHEPdfWeight"
   ]
  },
  {
   "cell_type": "code",
   "execution_count": 635,
   "id": "7d0dcd43-a1d2-4203-bace-9410e532a55d",
   "metadata": {
    "tags": []
   },
   "outputs": [
    {
     "data": {
      "text/plain": [
       "'LHE pdf variation weights (w_var / w_nominal) for LHA IDs 91400 - 91432'"
      ]
     },
     "execution_count": 635,
     "metadata": {},
     "output_type": "execute_result"
    }
   ],
   "source": [
    "events.LHEPdfWeight.__doc__"
   ]
  },
  {
   "cell_type": "code",
   "execution_count": 636,
   "id": "25e3d2f0-4ee7-4cb0-a20f-b4fbd36b20f9",
   "metadata": {
    "tags": []
   },
   "outputs": [
    {
     "data": {
      "text/plain": [
       "<Array [[], [0.909], ... 0.946], [], []] type='40 * var * float32'>"
      ]
     },
     "execution_count": 636,
     "metadata": {},
     "output_type": "execute_result"
    }
   ],
   "source": [
    "#Lets construct an per electron weight set\n",
    "eleSF = evaluator[\"scalefactors_Tight_Electron\"](events.Electron.eta, events.Electron.pt)\n",
    "eleSF "
   ]
  },
  {
   "cell_type": "code",
   "execution_count": 637,
   "id": "3adf7ef9-37b7-4db6-87a7-0657a9720551",
   "metadata": {
    "tags": []
   },
   "outputs": [
    {
     "data": {
      "text/plain": [
       "<Array [[], [0.0176], ... 0.0257], [], []] type='40 * var * float64'>"
      ]
     },
     "execution_count": 637,
     "metadata": {},
     "output_type": "execute_result"
    }
   ],
   "source": [
    "eleSFerror = evaluator[\"scalefactors_Tight_Electron_error\"](events.Electron.eta, events.Electron.pt)\n",
    "eleSFerror"
   ]
  },
  {
   "cell_type": "code",
   "execution_count": 638,
   "id": "404a4131-daf5-4882-85c9-883c914842f2",
   "metadata": {
    "tags": []
   },
   "outputs": [],
   "source": [
    "#Note that the event weight is the product of the per electron weight in each event\n",
    "weights.add(\n",
    "    \"eleSF\",\n",
    "    weight=ak.prod(eleSF, axis=1),\n",
    "    weightUp=ak.prod(eleSF + eleSFerror, axis=1),\n",
    ")"
   ]
  },
  {
   "cell_type": "code",
   "execution_count": 639,
   "id": "413b3543-2602-47d5-be9e-b52b93f74884",
   "metadata": {
    "tags": []
   },
   "outputs": [
    {
     "data": {
      "text/plain": [
       "array([1.        , 0.90893763, 0.92609012, 0.66741443, 1.        ,\n",
       "       1.00775194, 0.88245934, 1.        , 1.        , 0.95345747,\n",
       "       1.        , 0.98976982, 0.98976982, 1.        , 1.        ,\n",
       "       0.92748737, 0.95345747, 1.        , 0.75874597, 1.        ,\n",
       "       0.8419171 , 0.95453954, 1.        , 1.        , 1.        ,\n",
       "       0.94072163, 1.        , 0.86332178, 1.        , 0.92748737,\n",
       "       1.        , 0.98199672, 1.        , 0.90780139, 1.        ,\n",
       "       0.94072163, 1.        , 0.9458763 , 1.        , 1.        ])"
      ]
     },
     "execution_count": 639,
     "metadata": {},
     "output_type": "execute_result"
    }
   ],
   "source": [
    "weights.weight()"
   ]
  },
  {
   "cell_type": "code",
   "execution_count": 640,
   "id": "f4cc3d1b-7576-4027-aa4a-f2adb92cec53",
   "metadata": {
    "tags": []
   },
   "outputs": [
    {
     "data": {
      "text/plain": [
       "{'alphaS': WeightStatistics(sumw=40.0, sumw2=40.0, minw=1.0, maxw=1.0, n=40),\n",
       " 'eleSF': WeightStatistics(sumw=38.26972579956055, sumw2=36.81547546386719, minw=0.6674144268035889, maxw=1.0077519416809082, n=40)}"
      ]
     },
     "execution_count": 640,
     "metadata": {},
     "output_type": "execute_result"
    }
   ],
   "source": [
    "weights.weightStatistics # Shows some quick statistics about the weights"
   ]
  },
  {
   "cell_type": "code",
   "execution_count": 641,
   "id": "75bc6bfe-6fa4-4ea9-ad00-98e72e4135b4",
   "metadata": {
    "tags": []
   },
   "outputs": [
    {
     "data": {
      "text/plain": [
       "array([1.        , 0.92656372, 0.96061038, 0.6973979 , 1.        ,\n",
       "       1.03501827, 0.89257917, 1.        , 1.        , 0.95818729,\n",
       "       1.        , 1.01703614, 1.01703614, 1.        , 1.        ,\n",
       "       0.94511347, 0.95818729, 1.        , 0.79692281, 1.        ,\n",
       "       0.86339677, 0.98245376, 1.        , 1.        , 1.        ,\n",
       "       0.96646259, 1.        , 0.87344161, 1.        , 0.94511347,\n",
       "       1.        , 0.99707836, 1.        , 0.91684047, 1.        ,\n",
       "       0.96646259, 1.        , 0.97161726, 1.        , 1.        ])"
      ]
     },
     "execution_count": 641,
     "metadata": {},
     "output_type": "execute_result"
    }
   ],
   "source": [
    "weights.weight(\"eleSFUp\") # eleSFUp is one variation of the eleSF group"
   ]
  },
  {
   "cell_type": "code",
   "execution_count": 642,
   "id": "fba24dbd-450c-4668-ac0f-530c237f1697",
   "metadata": {
    "tags": []
   },
   "outputs": [
    {
     "data": {
      "text/plain": [
       "{'alphaSDown', 'alphaSUp', 'eleSFDown', 'eleSFUp'}"
      ]
     },
     "execution_count": 642,
     "metadata": {},
     "output_type": "execute_result"
    }
   ],
   "source": [
    "weights.variations  #This lists down all the variations"
   ]
  },
  {
   "cell_type": "code",
   "execution_count": 643,
   "id": "3e512d8e-9162-4fe7-b529-d6808820e923",
   "metadata": {
    "tags": []
   },
   "outputs": [
    {
     "name": "stdout",
     "output_type": "stream",
     "text": [
      "alphaSUp:  [0.98144531 0.8593688  0.91057427 0.64920555 0.94842529 1.0808238\n",
      " 0.94687715 0.92419434 0.9989624  0.95758928 0.99179077 0.98937715\n",
      " 0.95630226 0.97412109 1.03106689 0.93382762 0.88496264 1.02032471\n",
      " 0.73718858 1.05108643 0.83549378 0.99619577 1.01715088 0.99853516\n",
      " 0.93157959 0.93403254 0.99099731 0.88777132 0.96862793 0.93195951\n",
      " 1.0100708  0.94372737 1.0355835  0.9589982  0.94726562 0.93041526\n",
      " 1.00628662 0.92058981 1.02166748 0.95999146]\n",
      "alphaSDown:  [0.97720337 0.84533308 0.90836983 0.66057082 0.95932007 1.06833761\n",
      " 0.94822368 0.92919922 0.97702026 0.95302102 0.98477173 0.97817095\n",
      " 0.94397846 1.00805664 1.02215576 0.95211243 0.99524107 0.96365356\n",
      " 0.77500084 1.01397705 0.81614675 1.00621657 1.0559082  0.97427368\n",
      " 0.90606689 0.91827155 0.97360229 0.87739081 0.95898438 0.92208118\n",
      " 0.99734497 0.92697517 1.03198242 0.96392949 0.92541504 0.91775479\n",
      " 0.99179077 0.95667213 1.00036621 0.94921875]\n",
      "eleSFDown:  [1.         0.89164684 0.89281037 0.63872005 1.         0.98120391\n",
      " 0.87245425 1.         1.         0.94875101 1.         0.96323449\n",
      " 0.96323449 1.         1.         0.91019    0.94875101 1.\n",
      " 0.722398   1.         0.8209718  0.92741843 1.         1.\n",
      " 1.         0.91566626 1.         0.85331921 1.         0.91019\n",
      " 1.         0.96714319 1.         0.89885142 1.         0.91566626\n",
      " 1.         0.92081729 1.         1.        ]\n",
      "eleSFUp:  [1.         0.92656372 0.96061038 0.6973979  1.         1.03501827\n",
      " 0.89257917 1.         1.         0.95818729 1.         1.01703614\n",
      " 1.01703614 1.         1.         0.94511347 0.95818729 1.\n",
      " 0.79692281 1.         0.86339677 0.98245376 1.         1.\n",
      " 1.         0.96646259 1.         0.87344161 1.         0.94511347\n",
      " 1.         0.99707836 1.         0.91684047 1.         0.96646259\n",
      " 1.         0.97161726 1.         1.        ]\n"
     ]
    }
   ],
   "source": [
    "for variation in weights.variations :\n",
    "    print(variation+\": \", weights.weight(variation))"
   ]
  },
  {
   "cell_type": "markdown",
   "id": "b94987ba-0f68-4086-8c43-8b6bf90d32fa",
   "metadata": {},
   "source": [
    "- This class is the cuts(or more appropriately, selections) manager. It stores boolean data and is designed for a more efficient CPU usage.\n",
    "- In the following example we will utilise this class for Z study."
   ]
  },
  {
   "cell_type": "markdown",
   "id": "4b217997-7dc0-4cad-8a7c-d9db2b5dc522",
   "metadata": {
    "jp-MarkdownHeadingCollapsed": true,
    "tags": []
   },
   "source": [
    "### Packed Selection"
   ]
  },
  {
   "cell_type": "code",
   "execution_count": 644,
   "id": "2cb7f294-6132-47b5-b43b-0d12bda10f8b",
   "metadata": {
    "tags": []
   },
   "outputs": [],
   "source": [
    "from coffea.analysis_tools import PackedSelection"
   ]
  },
  {
   "cell_type": "code",
   "execution_count": 645,
   "id": "f032fca7-a5c4-4d58-9a87-f0e8ec208993",
   "metadata": {
    "tags": []
   },
   "outputs": [],
   "source": [
    "selection = PackedSelection()\n",
    "# Usual syntax :\n",
    "# first argument is the key or label ,\n",
    "# second argument should be a 1D numpy array or an Awkward Array\n",
    "selection.add(\"twoElectron\", ak.num(events.Electron) == 2)\n",
    "selection.add(\"eleOppSign\", ak.sum(events.Electron.charge , axis = 1) == 0) #Note that this makes sense only along with twoElectron condition\n",
    "selection.add(\"noElectron\", ak.num(events.Electron) == 0)\n",
    "#Similarly, lets add for Muons\n",
    "selection.add(\"twoMuon\", ak.num(events.Muon) == 2)\n",
    "selection.add(\"muOppSign\", ak.sum(events.Muon.charge, axis=1) == 0)\n",
    "selection.add(\"noMuon\", ak.num(events.Muon) == 0)"
   ]
  },
  {
   "cell_type": "code",
   "execution_count": 646,
   "id": "de5e8ee2-2e56-466c-9040-238bf2f6d730",
   "metadata": {
    "tags": []
   },
   "outputs": [
    {
     "name": "stdout",
     "output_type": "stream",
     "text": [
      "['twoElectron', 'eleOppSign', 'noElectron', 'twoMuon', 'muOppSign', 'noMuon']\n"
     ]
    }
   ],
   "source": [
    "print(selection.names)"
   ]
  },
  {
   "cell_type": "code",
   "execution_count": 647,
   "id": "ca47c738-2d2c-4433-bdb4-c35f4abb3d9c",
   "metadata": {
    "tags": []
   },
   "outputs": [],
   "source": [
    "# Let impose that at least one: either electron or muon is about pt > 20 GeV"
   ]
  },
  {
   "cell_type": "code",
   "execution_count": 648,
   "id": "04e272ac-5dc7-44ce-8057-90b50a2fe789",
   "metadata": {
    "tags": []
   },
   "outputs": [
    {
     "name": "stdout",
     "output_type": "stream",
     "text": [
      "[False, True, True, False, False, False, ... False, False, False, False, False]\n",
      "[False, False, False, False, True, True, ... False, False, False, False, False]\n"
     ]
    }
   ],
   "source": [
    "EleIs20 = ak.any(events.Electron.pt >=20.0, axis = 1)\n",
    "print(EleIs20)\n",
    "MuIs20 = ak.any(events.Muon.pt >=20.0, axis = 1)\n",
    "print(MuIs20)\n",
    "selection.add(\n",
    "    \"leadPt20\",\n",
    "    ak.any(events.Electron.pt >= 20.0, axis=1) | ak.any(events.Muon.pt >= 20.0, axis=1)\n",
    ")"
   ]
  },
  {
   "cell_type": "markdown",
   "id": "6dbb4b47-33d8-4ae8-9fa2-a2a1d007987c",
   "metadata": {},
   "source": [
    "- We can evaluate different conditions (with `AND`) with the `all` method.\n",
    "- Such Boolean arrays are also called a Boolean Mask."
   ]
  },
  {
   "cell_type": "code",
   "execution_count": 649,
   "id": "ac690774-3403-486a-a929-40db733de237",
   "metadata": {
    "tags": []
   },
   "outputs": [
    {
     "data": {
      "text/plain": [
       "array([False, False,  True, False, False, False, False, False, False,\n",
       "       False, False, False, False, False, False, False, False, False,\n",
       "       False, False,  True,  True, False, False, False, False, False,\n",
       "       False, False, False, False, False, False, False, False, False,\n",
       "       False, False, False, False])"
      ]
     },
     "execution_count": 649,
     "metadata": {},
     "output_type": "execute_result"
    }
   ],
   "source": [
    "selection.all(\"twoElectron\",\"noMuon\",\"leadPt20\")\n",
    "# The event where we have exactly two electrons and no Muons , \n",
    "# with at least one of the electrons having pt > 20"
   ]
  },
  {
   "cell_type": "markdown",
   "id": "c441b057-4499-4356-a7c1-9cf9e88d64f8",
   "metadata": {},
   "source": [
    "We can also be more specific and require that a specific set of selections have a given value (with the unspecified ones allowed to be either true or false) using `selection.require`"
   ]
  },
  {
   "cell_type": "code",
   "execution_count": 650,
   "id": "97611996-3636-48ff-a5bf-be5439b25699",
   "metadata": {
    "tags": []
   },
   "outputs": [
    {
     "data": {
      "text/plain": [
       "array([False, False, False,  True, False, False, False, False, False,\n",
       "       False, False, False, False, False, False, False, False, False,\n",
       "       False, False, False, False, False, False, False, False, False,\n",
       "       False, False, False, False, False, False, False, False, False,\n",
       "       False, False, False, False])"
      ]
     },
     "execution_count": 650,
     "metadata": {},
     "output_type": "execute_result"
    }
   ],
   "source": [
    "selection.require(twoElectron=True , noMuon=True , eleOppSign = False)"
   ]
  },
  {
   "cell_type": "markdown",
   "id": "0e7ae70f-0177-4663-a81e-31656ed722d7",
   "metadata": {},
   "source": [
    "<u>An N-1 style selection can also be made</u> :  \n",
    "- An N-1 selection is a technique where all selection criteria except one are applied. The one variable that is left out is the focus of the analysis. This means that you're looking at the effect of every other selection criterion except the variable of interest. \n",
    "- The N-1 technique helps assess systematic uncertainties in your analysis. If the efficiency or purity varies significantly as a function of the omitted variable, it could indicate that your analysis is sensitive to the variable, and you may need to understand its impact better."
   ]
  },
  {
   "cell_type": "code",
   "execution_count": 651,
   "id": "45d569c4-454c-498f-bb50-100f36a576c2",
   "metadata": {
    "tags": []
   },
   "outputs": [
    {
     "name": "stdout",
     "output_type": "stream",
     "text": [
      "leadPt20 twoElectron\n"
     ]
    }
   ],
   "source": [
    "CutSet = {\"twoElectron\", \"noMuon\", \"leadPt20\"}\n",
    "print(*(CutSet - {\"noMuon\"})) # star gives back the values"
   ]
  },
  {
   "cell_type": "code",
   "execution_count": 652,
   "id": "c25d3251-635b-4ee8-a5bd-b6dfeacf3b04",
   "metadata": {
    "tags": []
   },
   "outputs": [
    {
     "data": {
      "text/plain": [
       "3"
      ]
     },
     "execution_count": 652,
     "metadata": {},
     "output_type": "execute_result"
    }
   ],
   "source": [
    "selection.all(*CutSet).sum() #Sum gives back the number of True events"
   ]
  },
  {
   "cell_type": "code",
   "execution_count": 653,
   "id": "fea4e17a-ba17-4585-8a3c-9ad0b1ffbd11",
   "metadata": {
    "tags": []
   },
   "outputs": [
    {
     "name": "stdout",
     "output_type": "stream",
     "text": [
      "Events passing all the cuts, ignoring leadPt20 : 5\n",
      "Events passing all the cuts, ignoring noMuon : 3\n",
      "Events passing all the cuts, ignoring twoElectron : 10\n",
      "Events passing all the cuts: 3\n"
     ]
    }
   ],
   "source": [
    "for cut in CutSet :\n",
    "    nev = selection.all(*(CutSet - {cut})).sum()\n",
    "    print(f\"Events passing all the cuts, ignoring {cut} : {nev}\")\n",
    "nev_all = selection.all(*CutSet).sum()\n",
    "print(f\"Events passing all the cuts: {nev_all}\")"
   ]
  },
  {
   "cell_type": "markdown",
   "id": "255b1faa-e7f1-40d4-afc6-c0a63994ecf3",
   "metadata": {
    "jp-MarkdownHeadingCollapsed": true,
    "tags": []
   },
   "source": [
    "### Accumulate "
   ]
  },
  {
   "cell_type": "markdown",
   "id": "06929321-ead8-4605-a025-04e82bdc5652",
   "metadata": {},
   "source": [
    "Accumulate is essentially a union operation which can take in different types of data types and objects."
   ]
  },
  {
   "cell_type": "code",
   "execution_count": 654,
   "id": "9a02c9ed-7913-40fd-9bc8-a2a6854741a9",
   "metadata": {
    "tags": []
   },
   "outputs": [],
   "source": [
    "from coffea.processor import accumulate"
   ]
  },
  {
   "cell_type": "code",
   "execution_count": 655,
   "id": "c8d75f25-02df-41b3-be25-776245967141",
   "metadata": {
    "tags": []
   },
   "outputs": [
    {
     "data": {
      "text/plain": [
       "{'a': 3,\n",
       " 'Place': 'KualalumpurShanghai',\n",
       " 'Languages': {'Cantonese', 'English', 'Mandarin'},\n",
       " 'Rent': 1010000,\n",
       " 'b': 1}"
      ]
     },
     "execution_count": 655,
     "metadata": {},
     "output_type": "execute_result"
    }
   ],
   "source": [
    "accumulate([ {\"a\": 0 , \"Place\":\"Kualalumpur\", \"Languages\": {\"Mandarin\", \"English\"} } , \n",
    "            {\"a\": 1 , \"Place\":\"Shanghai\", \"Rent\": 1000000} ,\n",
    "            {\"b\": 1, \"Rent\": 10000 , \"Languages\":{\"Cantonese\",\"Mandarin\"}} ,\n",
    "            {\"a\":2}\n",
    "           ])"
   ]
  },
  {
   "cell_type": "markdown",
   "id": "d0ac9356-29f9-457b-9983-5c2dd9cfaacf",
   "metadata": {},
   "source": [
    "- The `a` values were summed up\n",
    "- `Place` stayed with initial assignment\n",
    "- `Languages` sets were unioned\n",
    "- `Rent` was also added up\n",
    "- The `b` value was carried as it is since it occured only once"
   ]
  },
  {
   "cell_type": "markdown",
   "id": "689c1467-1536-48cc-8fb7-2abbf5ffde9f",
   "metadata": {},
   "source": [
    "Anything that is addabble can be input into an accumulator"
   ]
  },
  {
   "cell_type": "code",
   "execution_count": 656,
   "id": "91af14d2-3211-49c2-95df-47a675fa8a72",
   "metadata": {
    "tags": []
   },
   "outputs": [
    {
     "name": "stdout",
     "output_type": "stream",
     "text": [
      "[0. 3. 0. 2. 0. 1. 0. 0. 0. 0.]\n"
     ]
    },
    {
     "data": {
      "text/html": [
       "<html>\n",
       "<div style=\"display:flex; align-items:center;\">\n",
       "<div style=\"width:290px;\">\n",
       "<svg xmlns=\"http://www.w3.org/2000/svg\" viewBox=\"-10 -105 270 120\">\n",
       "<line x1=\"-5\" y1=\"0\" x2=\"255\" y2=\"0\" style=\"fill:none;stroke-width:2;stroke:currentColor\"/>\n",
       "<text text-anchor=\"middle\" x=\"0\" y=\"15\" style=\"fill:currentColor;\">\n",
       "0\n",
       "</text>\n",
       "<text text-anchor=\"middle\" x=\"250\" y=\"15\" style=\"fill:currentColor;\">\n",
       "1\n",
       "</text>\n",
       "<text text-anchor=\"middle\" x=\"125.0\" y=\"15\" style=\"fill:currentColor;\">\n",
       "Axis 0\n",
       "</text>\n",
       "<polyline points=\"  0,0   0,-0  25,-0  25,-100  50,-100  50,-0  75,-0  75,-66.7 100,-66.7 100,-0 125,-0 125,-33.3 150,-33.3 150,-0 175,-0 175,-0 200,-0 200,-0 225,-0 225,-0 250,-0 250,0\" style=\"fill:none; stroke:currentColor;\"/>\n",
       "</svg>\n",
       "</div>\n",
       "<div style=\"flex=grow:1;\">\n",
       "Regular(10, 0, 1, label='Axis 0')<br/>\n",
       "<hr style=\"margin-top:.2em; margin-bottom:.2em;\"/>\n",
       "Double() Σ=6.0\n",
       "\n",
       "</div>\n",
       "</div>\n",
       "</html>"
      ],
      "text/plain": [
       "Hist(Regular(10, 0, 1, label='Axis 0'), storage=Double()) # Sum: 6.0"
      ]
     },
     "execution_count": 656,
     "metadata": {},
     "output_type": "execute_result"
    }
   ],
   "source": [
    "def makehist():\n",
    "    return hist.Hist.new.Reg(10,0,1).Double()\n",
    "\n",
    "H = accumulate([\n",
    "    makehist().fill([0.1,0.1,0.3]),\n",
    "    makehist().fill([0.1,0.3,0.5])\n",
    "])\n",
    "print(H.values())\n",
    "H"
   ]
  },
  {
   "cell_type": "markdown",
   "id": "7ffe3782-2850-48eb-a030-46df9afa2784",
   "metadata": {
    "tags": []
   },
   "source": [
    "### Creating a $Z$ peak"
   ]
  },
  {
   "cell_type": "markdown",
   "id": "f68030c9-dc6a-4afd-85ea-4f57c93309ce",
   "metadata": {},
   "source": [
    "Let's build an output accumulator that stores, per dataset:\n",
    " - the sum of weights for the events processed, to use for later luminosity-normalizing the yields;\n",
    " - a histogram of the dilepton invariant mass, with category axes for various selection regions of interest and  systematics; and\n",
    " - the weight statistics, for debugging purposes"
   ]
  },
  {
   "cell_type": "code",
   "execution_count": 657,
   "id": "86f3bc45-7001-4f3b-8a16-6148b83b84ff",
   "metadata": {
    "tags": []
   },
   "outputs": [],
   "source": [
    "#Lets define some regions of our dataset in a dictionary pf dictionaries!\n",
    "regions = {\n",
    "    \"DiElectron_OS\": {\"twoElectron\":True , \"noMuon\":True , \"leadPt20\": True , \"eleOppSign\": True },\n",
    "    \"DiElectron_SS\": {\"twoElectron\":True , \"noMuon\":True , \"leadPt20\": True , \"eleOppSign\": False },\n",
    "    \"DiMuon_OS\": {\"twoMuon\": True, \"noElectron\": True, \"leadPt20\": True, \"muOppSign\": True},\n",
    "    \"DiMuon_SS\": {\"twoMuon\": True, \"noElectron\": True, \"leadPt20\": True, \"muOppSign\": True}\n",
    "}"
   ]
  },
  {
   "cell_type": "code",
   "execution_count": 658,
   "id": "a1c8fb1f-b414-4d72-b46a-3c4a862fdc49",
   "metadata": {
    "tags": []
   },
   "outputs": [
    {
     "data": {
      "text/plain": [
       "Hist(\n",
       "  StrCategory(['DiElectron_OS', 'DiElectron_SS', 'DiMuon_OS', 'DiMuon_SS'], name='region'),\n",
       "  StrCategory(['nominal', 'alphaSUp', 'alphaSDown', 'eleSFDown', 'eleSFUp'], name='systematic'),\n",
       "  Regular(60, 60, 120, name='mass', label='$m_{ll}$ [GeV]'),\n",
       "  storage=Weight()) # Sum: WeightedSum(value=0, variance=0)"
      ]
     },
     "execution_count": 658,
     "metadata": {},
     "output_type": "execute_result"
    }
   ],
   "source": [
    "# Not lets create a histgram stack\n",
    "masshist = (\n",
    "    hist.Hist.new\n",
    "    .StrCat(regions.keys(), name=\"region\")\n",
    "    .StrCat([\"nominal\"] + list(weights.variations), name=\"systematic\")\n",
    "    .Reg(60, 60, 120, name=\"mass\", label=\"$m_{ll}$ [GeV]\")\n",
    "    .Weight()\n",
    ")\n",
    "masshist"
   ]
  },
  {
   "cell_type": "code",
   "execution_count": 659,
   "id": "675cc4f0-c554-4883-8f21-99b8a89a87a7",
   "metadata": {
    "tags": []
   },
   "outputs": [
    {
     "data": {
      "text/plain": [
       "(StrCategory(['DiElectron_OS', 'DiElectron_SS', 'DiMuon_OS', 'DiMuon_SS'], name='region'),\n",
       " StrCategory(['nominal', 'alphaSUp', 'alphaSDown', 'eleSFDown', 'eleSFUp'], name='systematic'),\n",
       " Regular(60, 60, 120, name='mass', label='$m_{ll}$ [GeV]'))"
      ]
     },
     "execution_count": 659,
     "metadata": {},
     "output_type": "execute_result"
    }
   ],
   "source": [
    "masshist.axes[:]"
   ]
  },
  {
   "cell_type": "code",
   "execution_count": 660,
   "id": "5fb56666-1bc9-42dd-ac87-460f6b749079",
   "metadata": {
    "tags": []
   },
   "outputs": [
    {
     "data": {
      "text/html": [
       "<html>\n",
       "<div style=\"display:flex; align-items:center;\">\n",
       "<div style=\"width:290px;\">\n",
       "<svg xmlns=\"http://www.w3.org/2000/svg\" viewBox=\"-20 -270 290 290\">\n",
       "<text text-anchor=\"middle\" x=\"0\" y=\"13\" style=\"fill:currentColor;\">\n",
       "0\n",
       "</text>\n",
       "<text text-anchor=\"middle\" x=\"250\" y=\"13\" style=\"fill:currentColor;\">\n",
       "5\n",
       "</text>\n",
       "<text text-anchor=\"middle\" x=\"-10\" y=\"0\" style=\"fill:currentColor;\">\n",
       "60\n",
       "</text>\n",
       "<text text-anchor=\"middle\" x=\"-10\" y=\"-250\" style=\"fill:currentColor;\">\n",
       "120\n",
       "</text>\n",
       "<text text-anchor=\"middle\" x=\"125.0\" y=\"13\" style=\"fill:currentColor;\">\n",
       "systematic\n",
       "</text>\n",
       "<text text-anchor=\"middle\" x=\"-10\" y=\"-125.0\" transform=\"rotate(-90,-10,-125.0)\" style=\"fill:currentColor;\">\n",
       "$m_{ll}$ [GeV]\n",
       "</text>\n",
       "<rect x=\"0.0\" y=\"-4.166666666666667\" width=\"50.0\" height=\"4.167\" opacity=\"0.0\" fill=\"currentColor\" stroke-width=\"0.1\"/>\n",
       "<rect x=\"50.0\" y=\"-4.166666666666667\" width=\"50.0\" height=\"4.167\" opacity=\"0.0\" fill=\"currentColor\" stroke-width=\"0.1\"/>\n",
       "<rect x=\"100.0\" y=\"-4.166666666666667\" width=\"50.0\" height=\"4.167\" opacity=\"0.0\" fill=\"currentColor\" stroke-width=\"0.1\"/>\n",
       "<rect x=\"150.0\" y=\"-4.166666666666667\" width=\"50.0\" height=\"4.167\" opacity=\"0.0\" fill=\"currentColor\" stroke-width=\"0.1\"/>\n",
       "<rect x=\"200.0\" y=\"-4.166666666666667\" width=\"50.0\" height=\"4.167\" opacity=\"0.0\" fill=\"currentColor\" stroke-width=\"0.1\"/>\n",
       "<rect x=\"0.0\" y=\"-8.333333333333334\" width=\"50.0\" height=\"4.167\" opacity=\"0.0\" fill=\"currentColor\" stroke-width=\"0.1\"/>\n",
       "<rect x=\"50.0\" y=\"-8.333333333333334\" width=\"50.0\" height=\"4.167\" opacity=\"0.0\" fill=\"currentColor\" stroke-width=\"0.1\"/>\n",
       "<rect x=\"100.0\" y=\"-8.333333333333334\" width=\"50.0\" height=\"4.167\" opacity=\"0.0\" fill=\"currentColor\" stroke-width=\"0.1\"/>\n",
       "<rect x=\"150.0\" y=\"-8.333333333333334\" width=\"50.0\" height=\"4.167\" opacity=\"0.0\" fill=\"currentColor\" stroke-width=\"0.1\"/>\n",
       "<rect x=\"200.0\" y=\"-8.333333333333334\" width=\"50.0\" height=\"4.167\" opacity=\"0.0\" fill=\"currentColor\" stroke-width=\"0.1\"/>\n",
       "<rect x=\"0.0\" y=\"-12.5\" width=\"50.0\" height=\"4.167\" opacity=\"0.0\" fill=\"currentColor\" stroke-width=\"0.1\"/>\n",
       "<rect x=\"50.0\" y=\"-12.5\" width=\"50.0\" height=\"4.167\" opacity=\"0.0\" fill=\"currentColor\" stroke-width=\"0.1\"/>\n",
       "<rect x=\"100.0\" y=\"-12.5\" width=\"50.0\" height=\"4.167\" opacity=\"0.0\" fill=\"currentColor\" stroke-width=\"0.1\"/>\n",
       "<rect x=\"150.0\" y=\"-12.5\" width=\"50.0\" height=\"4.167\" opacity=\"0.0\" fill=\"currentColor\" stroke-width=\"0.1\"/>\n",
       "<rect x=\"200.0\" y=\"-12.5\" width=\"50.0\" height=\"4.167\" opacity=\"0.0\" fill=\"currentColor\" stroke-width=\"0.1\"/>\n",
       "<rect x=\"0.0\" y=\"-16.666666666666668\" width=\"50.0\" height=\"4.167\" opacity=\"0.0\" fill=\"currentColor\" stroke-width=\"0.1\"/>\n",
       "<rect x=\"50.0\" y=\"-16.666666666666668\" width=\"50.0\" height=\"4.167\" opacity=\"0.0\" fill=\"currentColor\" stroke-width=\"0.1\"/>\n",
       "<rect x=\"100.0\" y=\"-16.666666666666668\" width=\"50.0\" height=\"4.167\" opacity=\"0.0\" fill=\"currentColor\" stroke-width=\"0.1\"/>\n",
       "<rect x=\"150.0\" y=\"-16.666666666666668\" width=\"50.0\" height=\"4.167\" opacity=\"0.0\" fill=\"currentColor\" stroke-width=\"0.1\"/>\n",
       "<rect x=\"200.0\" y=\"-16.666666666666668\" width=\"50.0\" height=\"4.167\" opacity=\"0.0\" fill=\"currentColor\" stroke-width=\"0.1\"/>\n",
       "<rect x=\"0.0\" y=\"-20.833333333333332\" width=\"50.0\" height=\"4.167\" opacity=\"0.0\" fill=\"currentColor\" stroke-width=\"0.1\"/>\n",
       "<rect x=\"50.0\" y=\"-20.833333333333332\" width=\"50.0\" height=\"4.167\" opacity=\"0.0\" fill=\"currentColor\" stroke-width=\"0.1\"/>\n",
       "<rect x=\"100.0\" y=\"-20.833333333333332\" width=\"50.0\" height=\"4.167\" opacity=\"0.0\" fill=\"currentColor\" stroke-width=\"0.1\"/>\n",
       "<rect x=\"150.0\" y=\"-20.833333333333332\" width=\"50.0\" height=\"4.167\" opacity=\"0.0\" fill=\"currentColor\" stroke-width=\"0.1\"/>\n",
       "<rect x=\"200.0\" y=\"-20.833333333333332\" width=\"50.0\" height=\"4.167\" opacity=\"0.0\" fill=\"currentColor\" stroke-width=\"0.1\"/>\n",
       "<rect x=\"0.0\" y=\"-25.0\" width=\"50.0\" height=\"4.167\" opacity=\"0.0\" fill=\"currentColor\" stroke-width=\"0.1\"/>\n",
       "<rect x=\"50.0\" y=\"-25.0\" width=\"50.0\" height=\"4.167\" opacity=\"0.0\" fill=\"currentColor\" stroke-width=\"0.1\"/>\n",
       "<rect x=\"100.0\" y=\"-25.0\" width=\"50.0\" height=\"4.167\" opacity=\"0.0\" fill=\"currentColor\" stroke-width=\"0.1\"/>\n",
       "<rect x=\"150.0\" y=\"-25.0\" width=\"50.0\" height=\"4.167\" opacity=\"0.0\" fill=\"currentColor\" stroke-width=\"0.1\"/>\n",
       "<rect x=\"200.0\" y=\"-25.0\" width=\"50.0\" height=\"4.167\" opacity=\"0.0\" fill=\"currentColor\" stroke-width=\"0.1\"/>\n",
       "<rect x=\"0.0\" y=\"-29.166666666666668\" width=\"50.0\" height=\"4.167\" opacity=\"0.0\" fill=\"currentColor\" stroke-width=\"0.1\"/>\n",
       "<rect x=\"50.0\" y=\"-29.166666666666668\" width=\"50.0\" height=\"4.167\" opacity=\"0.0\" fill=\"currentColor\" stroke-width=\"0.1\"/>\n",
       "<rect x=\"100.0\" y=\"-29.166666666666668\" width=\"50.0\" height=\"4.167\" opacity=\"0.0\" fill=\"currentColor\" stroke-width=\"0.1\"/>\n",
       "<rect x=\"150.0\" y=\"-29.166666666666668\" width=\"50.0\" height=\"4.167\" opacity=\"0.0\" fill=\"currentColor\" stroke-width=\"0.1\"/>\n",
       "<rect x=\"200.0\" y=\"-29.166666666666668\" width=\"50.0\" height=\"4.167\" opacity=\"0.0\" fill=\"currentColor\" stroke-width=\"0.1\"/>\n",
       "<rect x=\"0.0\" y=\"-33.333333333333336\" width=\"50.0\" height=\"4.167\" opacity=\"0.0\" fill=\"currentColor\" stroke-width=\"0.1\"/>\n",
       "<rect x=\"50.0\" y=\"-33.333333333333336\" width=\"50.0\" height=\"4.167\" opacity=\"0.0\" fill=\"currentColor\" stroke-width=\"0.1\"/>\n",
       "<rect x=\"100.0\" y=\"-33.333333333333336\" width=\"50.0\" height=\"4.167\" opacity=\"0.0\" fill=\"currentColor\" stroke-width=\"0.1\"/>\n",
       "<rect x=\"150.0\" y=\"-33.333333333333336\" width=\"50.0\" height=\"4.167\" opacity=\"0.0\" fill=\"currentColor\" stroke-width=\"0.1\"/>\n",
       "<rect x=\"200.0\" y=\"-33.333333333333336\" width=\"50.0\" height=\"4.167\" opacity=\"0.0\" fill=\"currentColor\" stroke-width=\"0.1\"/>\n",
       "<rect x=\"0.0\" y=\"-37.5\" width=\"50.0\" height=\"4.167\" opacity=\"0.0\" fill=\"currentColor\" stroke-width=\"0.1\"/>\n",
       "<rect x=\"50.0\" y=\"-37.5\" width=\"50.0\" height=\"4.167\" opacity=\"0.0\" fill=\"currentColor\" stroke-width=\"0.1\"/>\n",
       "<rect x=\"100.0\" y=\"-37.5\" width=\"50.0\" height=\"4.167\" opacity=\"0.0\" fill=\"currentColor\" stroke-width=\"0.1\"/>\n",
       "<rect x=\"150.0\" y=\"-37.5\" width=\"50.0\" height=\"4.167\" opacity=\"0.0\" fill=\"currentColor\" stroke-width=\"0.1\"/>\n",
       "<rect x=\"200.0\" y=\"-37.5\" width=\"50.0\" height=\"4.167\" opacity=\"0.0\" fill=\"currentColor\" stroke-width=\"0.1\"/>\n",
       "<rect x=\"0.0\" y=\"-41.666666666666664\" width=\"50.0\" height=\"4.167\" opacity=\"0.0\" fill=\"currentColor\" stroke-width=\"0.1\"/>\n",
       "<rect x=\"50.0\" y=\"-41.666666666666664\" width=\"50.0\" height=\"4.167\" opacity=\"0.0\" fill=\"currentColor\" stroke-width=\"0.1\"/>\n",
       "<rect x=\"100.0\" y=\"-41.666666666666664\" width=\"50.0\" height=\"4.167\" opacity=\"0.0\" fill=\"currentColor\" stroke-width=\"0.1\"/>\n",
       "<rect x=\"150.0\" y=\"-41.666666666666664\" width=\"50.0\" height=\"4.167\" opacity=\"0.0\" fill=\"currentColor\" stroke-width=\"0.1\"/>\n",
       "<rect x=\"200.0\" y=\"-41.666666666666664\" width=\"50.0\" height=\"4.167\" opacity=\"0.0\" fill=\"currentColor\" stroke-width=\"0.1\"/>\n",
       "<rect x=\"0.0\" y=\"-45.83333333333333\" width=\"50.0\" height=\"4.167\" opacity=\"0.0\" fill=\"currentColor\" stroke-width=\"0.1\"/>\n",
       "<rect x=\"50.0\" y=\"-45.83333333333333\" width=\"50.0\" height=\"4.167\" opacity=\"0.0\" fill=\"currentColor\" stroke-width=\"0.1\"/>\n",
       "<rect x=\"100.0\" y=\"-45.83333333333333\" width=\"50.0\" height=\"4.167\" opacity=\"0.0\" fill=\"currentColor\" stroke-width=\"0.1\"/>\n",
       "<rect x=\"150.0\" y=\"-45.83333333333333\" width=\"50.0\" height=\"4.167\" opacity=\"0.0\" fill=\"currentColor\" stroke-width=\"0.1\"/>\n",
       "<rect x=\"200.0\" y=\"-45.83333333333333\" width=\"50.0\" height=\"4.167\" opacity=\"0.0\" fill=\"currentColor\" stroke-width=\"0.1\"/>\n",
       "<rect x=\"0.0\" y=\"-50.0\" width=\"50.0\" height=\"4.167\" opacity=\"0.0\" fill=\"currentColor\" stroke-width=\"0.1\"/>\n",
       "<rect x=\"50.0\" y=\"-50.0\" width=\"50.0\" height=\"4.167\" opacity=\"0.0\" fill=\"currentColor\" stroke-width=\"0.1\"/>\n",
       "<rect x=\"100.0\" y=\"-50.0\" width=\"50.0\" height=\"4.167\" opacity=\"0.0\" fill=\"currentColor\" stroke-width=\"0.1\"/>\n",
       "<rect x=\"150.0\" y=\"-50.0\" width=\"50.0\" height=\"4.167\" opacity=\"0.0\" fill=\"currentColor\" stroke-width=\"0.1\"/>\n",
       "<rect x=\"200.0\" y=\"-50.0\" width=\"50.0\" height=\"4.167\" opacity=\"0.0\" fill=\"currentColor\" stroke-width=\"0.1\"/>\n",
       "<rect x=\"0.0\" y=\"-54.16666666666667\" width=\"50.0\" height=\"4.167\" opacity=\"0.0\" fill=\"currentColor\" stroke-width=\"0.1\"/>\n",
       "<rect x=\"50.0\" y=\"-54.16666666666667\" width=\"50.0\" height=\"4.167\" opacity=\"0.0\" fill=\"currentColor\" stroke-width=\"0.1\"/>\n",
       "<rect x=\"100.0\" y=\"-54.16666666666667\" width=\"50.0\" height=\"4.167\" opacity=\"0.0\" fill=\"currentColor\" stroke-width=\"0.1\"/>\n",
       "<rect x=\"150.0\" y=\"-54.16666666666667\" width=\"50.0\" height=\"4.167\" opacity=\"0.0\" fill=\"currentColor\" stroke-width=\"0.1\"/>\n",
       "<rect x=\"200.0\" y=\"-54.16666666666667\" width=\"50.0\" height=\"4.167\" opacity=\"0.0\" fill=\"currentColor\" stroke-width=\"0.1\"/>\n",
       "<rect x=\"0.0\" y=\"-58.333333333333336\" width=\"50.0\" height=\"4.167\" opacity=\"0.0\" fill=\"currentColor\" stroke-width=\"0.1\"/>\n",
       "<rect x=\"50.0\" y=\"-58.333333333333336\" width=\"50.0\" height=\"4.167\" opacity=\"0.0\" fill=\"currentColor\" stroke-width=\"0.1\"/>\n",
       "<rect x=\"100.0\" y=\"-58.333333333333336\" width=\"50.0\" height=\"4.167\" opacity=\"0.0\" fill=\"currentColor\" stroke-width=\"0.1\"/>\n",
       "<rect x=\"150.0\" y=\"-58.333333333333336\" width=\"50.0\" height=\"4.167\" opacity=\"0.0\" fill=\"currentColor\" stroke-width=\"0.1\"/>\n",
       "<rect x=\"200.0\" y=\"-58.333333333333336\" width=\"50.0\" height=\"4.167\" opacity=\"0.0\" fill=\"currentColor\" stroke-width=\"0.1\"/>\n",
       "<rect x=\"0.0\" y=\"-62.5\" width=\"50.0\" height=\"4.167\" opacity=\"0.0\" fill=\"currentColor\" stroke-width=\"0.1\"/>\n",
       "<rect x=\"50.0\" y=\"-62.5\" width=\"50.0\" height=\"4.167\" opacity=\"0.0\" fill=\"currentColor\" stroke-width=\"0.1\"/>\n",
       "<rect x=\"100.0\" y=\"-62.5\" width=\"50.0\" height=\"4.167\" opacity=\"0.0\" fill=\"currentColor\" stroke-width=\"0.1\"/>\n",
       "<rect x=\"150.0\" y=\"-62.5\" width=\"50.0\" height=\"4.167\" opacity=\"0.0\" fill=\"currentColor\" stroke-width=\"0.1\"/>\n",
       "<rect x=\"200.0\" y=\"-62.5\" width=\"50.0\" height=\"4.167\" opacity=\"0.0\" fill=\"currentColor\" stroke-width=\"0.1\"/>\n",
       "<rect x=\"0.0\" y=\"-66.66666666666667\" width=\"50.0\" height=\"4.167\" opacity=\"0.0\" fill=\"currentColor\" stroke-width=\"0.1\"/>\n",
       "<rect x=\"50.0\" y=\"-66.66666666666667\" width=\"50.0\" height=\"4.167\" opacity=\"0.0\" fill=\"currentColor\" stroke-width=\"0.1\"/>\n",
       "<rect x=\"100.0\" y=\"-66.66666666666667\" width=\"50.0\" height=\"4.167\" opacity=\"0.0\" fill=\"currentColor\" stroke-width=\"0.1\"/>\n",
       "<rect x=\"150.0\" y=\"-66.66666666666667\" width=\"50.0\" height=\"4.167\" opacity=\"0.0\" fill=\"currentColor\" stroke-width=\"0.1\"/>\n",
       "<rect x=\"200.0\" y=\"-66.66666666666667\" width=\"50.0\" height=\"4.167\" opacity=\"0.0\" fill=\"currentColor\" stroke-width=\"0.1\"/>\n",
       "<rect x=\"0.0\" y=\"-70.83333333333333\" width=\"50.0\" height=\"4.167\" opacity=\"0.0\" fill=\"currentColor\" stroke-width=\"0.1\"/>\n",
       "<rect x=\"50.0\" y=\"-70.83333333333333\" width=\"50.0\" height=\"4.167\" opacity=\"0.0\" fill=\"currentColor\" stroke-width=\"0.1\"/>\n",
       "<rect x=\"100.0\" y=\"-70.83333333333333\" width=\"50.0\" height=\"4.167\" opacity=\"0.0\" fill=\"currentColor\" stroke-width=\"0.1\"/>\n",
       "<rect x=\"150.0\" y=\"-70.83333333333333\" width=\"50.0\" height=\"4.167\" opacity=\"0.0\" fill=\"currentColor\" stroke-width=\"0.1\"/>\n",
       "<rect x=\"200.0\" y=\"-70.83333333333333\" width=\"50.0\" height=\"4.167\" opacity=\"0.0\" fill=\"currentColor\" stroke-width=\"0.1\"/>\n",
       "<rect x=\"0.0\" y=\"-75.0\" width=\"50.0\" height=\"4.167\" opacity=\"0.0\" fill=\"currentColor\" stroke-width=\"0.1\"/>\n",
       "<rect x=\"50.0\" y=\"-75.0\" width=\"50.0\" height=\"4.167\" opacity=\"0.0\" fill=\"currentColor\" stroke-width=\"0.1\"/>\n",
       "<rect x=\"100.0\" y=\"-75.0\" width=\"50.0\" height=\"4.167\" opacity=\"0.0\" fill=\"currentColor\" stroke-width=\"0.1\"/>\n",
       "<rect x=\"150.0\" y=\"-75.0\" width=\"50.0\" height=\"4.167\" opacity=\"0.0\" fill=\"currentColor\" stroke-width=\"0.1\"/>\n",
       "<rect x=\"200.0\" y=\"-75.0\" width=\"50.0\" height=\"4.167\" opacity=\"0.0\" fill=\"currentColor\" stroke-width=\"0.1\"/>\n",
       "<rect x=\"0.0\" y=\"-79.16666666666666\" width=\"50.0\" height=\"4.167\" opacity=\"0.0\" fill=\"currentColor\" stroke-width=\"0.1\"/>\n",
       "<rect x=\"50.0\" y=\"-79.16666666666666\" width=\"50.0\" height=\"4.167\" opacity=\"0.0\" fill=\"currentColor\" stroke-width=\"0.1\"/>\n",
       "<rect x=\"100.0\" y=\"-79.16666666666666\" width=\"50.0\" height=\"4.167\" opacity=\"0.0\" fill=\"currentColor\" stroke-width=\"0.1\"/>\n",
       "<rect x=\"150.0\" y=\"-79.16666666666666\" width=\"50.0\" height=\"4.167\" opacity=\"0.0\" fill=\"currentColor\" stroke-width=\"0.1\"/>\n",
       "<rect x=\"200.0\" y=\"-79.16666666666666\" width=\"50.0\" height=\"4.167\" opacity=\"0.0\" fill=\"currentColor\" stroke-width=\"0.1\"/>\n",
       "<rect x=\"0.0\" y=\"-83.33333333333333\" width=\"50.0\" height=\"4.167\" opacity=\"0.0\" fill=\"currentColor\" stroke-width=\"0.1\"/>\n",
       "<rect x=\"50.0\" y=\"-83.33333333333333\" width=\"50.0\" height=\"4.167\" opacity=\"0.0\" fill=\"currentColor\" stroke-width=\"0.1\"/>\n",
       "<rect x=\"100.0\" y=\"-83.33333333333333\" width=\"50.0\" height=\"4.167\" opacity=\"0.0\" fill=\"currentColor\" stroke-width=\"0.1\"/>\n",
       "<rect x=\"150.0\" y=\"-83.33333333333333\" width=\"50.0\" height=\"4.167\" opacity=\"0.0\" fill=\"currentColor\" stroke-width=\"0.1\"/>\n",
       "<rect x=\"200.0\" y=\"-83.33333333333333\" width=\"50.0\" height=\"4.167\" opacity=\"0.0\" fill=\"currentColor\" stroke-width=\"0.1\"/>\n",
       "<rect x=\"0.0\" y=\"-87.5\" width=\"50.0\" height=\"4.167\" opacity=\"0.0\" fill=\"currentColor\" stroke-width=\"0.1\"/>\n",
       "<rect x=\"50.0\" y=\"-87.5\" width=\"50.0\" height=\"4.167\" opacity=\"0.0\" fill=\"currentColor\" stroke-width=\"0.1\"/>\n",
       "<rect x=\"100.0\" y=\"-87.5\" width=\"50.0\" height=\"4.167\" opacity=\"0.0\" fill=\"currentColor\" stroke-width=\"0.1\"/>\n",
       "<rect x=\"150.0\" y=\"-87.5\" width=\"50.0\" height=\"4.167\" opacity=\"0.0\" fill=\"currentColor\" stroke-width=\"0.1\"/>\n",
       "<rect x=\"200.0\" y=\"-87.5\" width=\"50.0\" height=\"4.167\" opacity=\"0.0\" fill=\"currentColor\" stroke-width=\"0.1\"/>\n",
       "<rect x=\"0.0\" y=\"-91.66666666666666\" width=\"50.0\" height=\"4.167\" opacity=\"0.0\" fill=\"currentColor\" stroke-width=\"0.1\"/>\n",
       "<rect x=\"50.0\" y=\"-91.66666666666666\" width=\"50.0\" height=\"4.167\" opacity=\"0.0\" fill=\"currentColor\" stroke-width=\"0.1\"/>\n",
       "<rect x=\"100.0\" y=\"-91.66666666666666\" width=\"50.0\" height=\"4.167\" opacity=\"0.0\" fill=\"currentColor\" stroke-width=\"0.1\"/>\n",
       "<rect x=\"150.0\" y=\"-91.66666666666666\" width=\"50.0\" height=\"4.167\" opacity=\"0.0\" fill=\"currentColor\" stroke-width=\"0.1\"/>\n",
       "<rect x=\"200.0\" y=\"-91.66666666666666\" width=\"50.0\" height=\"4.167\" opacity=\"0.0\" fill=\"currentColor\" stroke-width=\"0.1\"/>\n",
       "<rect x=\"0.0\" y=\"-95.83333333333334\" width=\"50.0\" height=\"4.167\" opacity=\"0.0\" fill=\"currentColor\" stroke-width=\"0.1\"/>\n",
       "<rect x=\"50.0\" y=\"-95.83333333333334\" width=\"50.0\" height=\"4.167\" opacity=\"0.0\" fill=\"currentColor\" stroke-width=\"0.1\"/>\n",
       "<rect x=\"100.0\" y=\"-95.83333333333334\" width=\"50.0\" height=\"4.167\" opacity=\"0.0\" fill=\"currentColor\" stroke-width=\"0.1\"/>\n",
       "<rect x=\"150.0\" y=\"-95.83333333333334\" width=\"50.0\" height=\"4.167\" opacity=\"0.0\" fill=\"currentColor\" stroke-width=\"0.1\"/>\n",
       "<rect x=\"200.0\" y=\"-95.83333333333334\" width=\"50.0\" height=\"4.167\" opacity=\"0.0\" fill=\"currentColor\" stroke-width=\"0.1\"/>\n",
       "<rect x=\"0.0\" y=\"-100.0\" width=\"50.0\" height=\"4.167\" opacity=\"0.0\" fill=\"currentColor\" stroke-width=\"0.1\"/>\n",
       "<rect x=\"50.0\" y=\"-100.0\" width=\"50.0\" height=\"4.167\" opacity=\"0.0\" fill=\"currentColor\" stroke-width=\"0.1\"/>\n",
       "<rect x=\"100.0\" y=\"-100.0\" width=\"50.0\" height=\"4.167\" opacity=\"0.0\" fill=\"currentColor\" stroke-width=\"0.1\"/>\n",
       "<rect x=\"150.0\" y=\"-100.0\" width=\"50.0\" height=\"4.167\" opacity=\"0.0\" fill=\"currentColor\" stroke-width=\"0.1\"/>\n",
       "<rect x=\"200.0\" y=\"-100.0\" width=\"50.0\" height=\"4.167\" opacity=\"0.0\" fill=\"currentColor\" stroke-width=\"0.1\"/>\n",
       "<rect x=\"0.0\" y=\"-104.16666666666667\" width=\"50.0\" height=\"4.167\" opacity=\"0.0\" fill=\"currentColor\" stroke-width=\"0.1\"/>\n",
       "<rect x=\"50.0\" y=\"-104.16666666666667\" width=\"50.0\" height=\"4.167\" opacity=\"0.0\" fill=\"currentColor\" stroke-width=\"0.1\"/>\n",
       "<rect x=\"100.0\" y=\"-104.16666666666667\" width=\"50.0\" height=\"4.167\" opacity=\"0.0\" fill=\"currentColor\" stroke-width=\"0.1\"/>\n",
       "<rect x=\"150.0\" y=\"-104.16666666666667\" width=\"50.0\" height=\"4.167\" opacity=\"0.0\" fill=\"currentColor\" stroke-width=\"0.1\"/>\n",
       "<rect x=\"200.0\" y=\"-104.16666666666667\" width=\"50.0\" height=\"4.167\" opacity=\"0.0\" fill=\"currentColor\" stroke-width=\"0.1\"/>\n",
       "<rect x=\"0.0\" y=\"-108.33333333333334\" width=\"50.0\" height=\"4.167\" opacity=\"0.0\" fill=\"currentColor\" stroke-width=\"0.1\"/>\n",
       "<rect x=\"50.0\" y=\"-108.33333333333334\" width=\"50.0\" height=\"4.167\" opacity=\"0.0\" fill=\"currentColor\" stroke-width=\"0.1\"/>\n",
       "<rect x=\"100.0\" y=\"-108.33333333333334\" width=\"50.0\" height=\"4.167\" opacity=\"0.0\" fill=\"currentColor\" stroke-width=\"0.1\"/>\n",
       "<rect x=\"150.0\" y=\"-108.33333333333334\" width=\"50.0\" height=\"4.167\" opacity=\"0.0\" fill=\"currentColor\" stroke-width=\"0.1\"/>\n",
       "<rect x=\"200.0\" y=\"-108.33333333333334\" width=\"50.0\" height=\"4.167\" opacity=\"0.0\" fill=\"currentColor\" stroke-width=\"0.1\"/>\n",
       "<rect x=\"0.0\" y=\"-112.5\" width=\"50.0\" height=\"4.167\" opacity=\"0.0\" fill=\"currentColor\" stroke-width=\"0.1\"/>\n",
       "<rect x=\"50.0\" y=\"-112.5\" width=\"50.0\" height=\"4.167\" opacity=\"0.0\" fill=\"currentColor\" stroke-width=\"0.1\"/>\n",
       "<rect x=\"100.0\" y=\"-112.5\" width=\"50.0\" height=\"4.167\" opacity=\"0.0\" fill=\"currentColor\" stroke-width=\"0.1\"/>\n",
       "<rect x=\"150.0\" y=\"-112.5\" width=\"50.0\" height=\"4.167\" opacity=\"0.0\" fill=\"currentColor\" stroke-width=\"0.1\"/>\n",
       "<rect x=\"200.0\" y=\"-112.5\" width=\"50.0\" height=\"4.167\" opacity=\"0.0\" fill=\"currentColor\" stroke-width=\"0.1\"/>\n",
       "<rect x=\"0.0\" y=\"-116.66666666666667\" width=\"50.0\" height=\"4.167\" opacity=\"0.0\" fill=\"currentColor\" stroke-width=\"0.1\"/>\n",
       "<rect x=\"50.0\" y=\"-116.66666666666667\" width=\"50.0\" height=\"4.167\" opacity=\"0.0\" fill=\"currentColor\" stroke-width=\"0.1\"/>\n",
       "<rect x=\"100.0\" y=\"-116.66666666666667\" width=\"50.0\" height=\"4.167\" opacity=\"0.0\" fill=\"currentColor\" stroke-width=\"0.1\"/>\n",
       "<rect x=\"150.0\" y=\"-116.66666666666667\" width=\"50.0\" height=\"4.167\" opacity=\"0.0\" fill=\"currentColor\" stroke-width=\"0.1\"/>\n",
       "<rect x=\"200.0\" y=\"-116.66666666666667\" width=\"50.0\" height=\"4.167\" opacity=\"0.0\" fill=\"currentColor\" stroke-width=\"0.1\"/>\n",
       "<rect x=\"0.0\" y=\"-120.83333333333333\" width=\"50.0\" height=\"4.167\" opacity=\"0.0\" fill=\"currentColor\" stroke-width=\"0.1\"/>\n",
       "<rect x=\"50.0\" y=\"-120.83333333333333\" width=\"50.0\" height=\"4.167\" opacity=\"0.0\" fill=\"currentColor\" stroke-width=\"0.1\"/>\n",
       "<rect x=\"100.0\" y=\"-120.83333333333333\" width=\"50.0\" height=\"4.167\" opacity=\"0.0\" fill=\"currentColor\" stroke-width=\"0.1\"/>\n",
       "<rect x=\"150.0\" y=\"-120.83333333333333\" width=\"50.0\" height=\"4.167\" opacity=\"0.0\" fill=\"currentColor\" stroke-width=\"0.1\"/>\n",
       "<rect x=\"200.0\" y=\"-120.83333333333333\" width=\"50.0\" height=\"4.167\" opacity=\"0.0\" fill=\"currentColor\" stroke-width=\"0.1\"/>\n",
       "<rect x=\"0.0\" y=\"-125.0\" width=\"50.0\" height=\"4.167\" opacity=\"0.0\" fill=\"currentColor\" stroke-width=\"0.1\"/>\n",
       "<rect x=\"50.0\" y=\"-125.0\" width=\"50.0\" height=\"4.167\" opacity=\"0.0\" fill=\"currentColor\" stroke-width=\"0.1\"/>\n",
       "<rect x=\"100.0\" y=\"-125.0\" width=\"50.0\" height=\"4.167\" opacity=\"0.0\" fill=\"currentColor\" stroke-width=\"0.1\"/>\n",
       "<rect x=\"150.0\" y=\"-125.0\" width=\"50.0\" height=\"4.167\" opacity=\"0.0\" fill=\"currentColor\" stroke-width=\"0.1\"/>\n",
       "<rect x=\"200.0\" y=\"-125.0\" width=\"50.0\" height=\"4.167\" opacity=\"0.0\" fill=\"currentColor\" stroke-width=\"0.1\"/>\n",
       "<rect x=\"0.0\" y=\"-129.16666666666669\" width=\"50.0\" height=\"4.167\" opacity=\"0.0\" fill=\"currentColor\" stroke-width=\"0.1\"/>\n",
       "<rect x=\"50.0\" y=\"-129.16666666666669\" width=\"50.0\" height=\"4.167\" opacity=\"0.0\" fill=\"currentColor\" stroke-width=\"0.1\"/>\n",
       "<rect x=\"100.0\" y=\"-129.16666666666669\" width=\"50.0\" height=\"4.167\" opacity=\"0.0\" fill=\"currentColor\" stroke-width=\"0.1\"/>\n",
       "<rect x=\"150.0\" y=\"-129.16666666666669\" width=\"50.0\" height=\"4.167\" opacity=\"0.0\" fill=\"currentColor\" stroke-width=\"0.1\"/>\n",
       "<rect x=\"200.0\" y=\"-129.16666666666669\" width=\"50.0\" height=\"4.167\" opacity=\"0.0\" fill=\"currentColor\" stroke-width=\"0.1\"/>\n",
       "<rect x=\"0.0\" y=\"-133.33333333333334\" width=\"50.0\" height=\"4.167\" opacity=\"0.0\" fill=\"currentColor\" stroke-width=\"0.1\"/>\n",
       "<rect x=\"50.0\" y=\"-133.33333333333334\" width=\"50.0\" height=\"4.167\" opacity=\"0.0\" fill=\"currentColor\" stroke-width=\"0.1\"/>\n",
       "<rect x=\"100.0\" y=\"-133.33333333333334\" width=\"50.0\" height=\"4.167\" opacity=\"0.0\" fill=\"currentColor\" stroke-width=\"0.1\"/>\n",
       "<rect x=\"150.0\" y=\"-133.33333333333334\" width=\"50.0\" height=\"4.167\" opacity=\"0.0\" fill=\"currentColor\" stroke-width=\"0.1\"/>\n",
       "<rect x=\"200.0\" y=\"-133.33333333333334\" width=\"50.0\" height=\"4.167\" opacity=\"0.0\" fill=\"currentColor\" stroke-width=\"0.1\"/>\n",
       "<rect x=\"0.0\" y=\"-137.5\" width=\"50.0\" height=\"4.167\" opacity=\"0.0\" fill=\"currentColor\" stroke-width=\"0.1\"/>\n",
       "<rect x=\"50.0\" y=\"-137.5\" width=\"50.0\" height=\"4.167\" opacity=\"0.0\" fill=\"currentColor\" stroke-width=\"0.1\"/>\n",
       "<rect x=\"100.0\" y=\"-137.5\" width=\"50.0\" height=\"4.167\" opacity=\"0.0\" fill=\"currentColor\" stroke-width=\"0.1\"/>\n",
       "<rect x=\"150.0\" y=\"-137.5\" width=\"50.0\" height=\"4.167\" opacity=\"0.0\" fill=\"currentColor\" stroke-width=\"0.1\"/>\n",
       "<rect x=\"200.0\" y=\"-137.5\" width=\"50.0\" height=\"4.167\" opacity=\"0.0\" fill=\"currentColor\" stroke-width=\"0.1\"/>\n",
       "<rect x=\"0.0\" y=\"-141.66666666666666\" width=\"50.0\" height=\"4.167\" opacity=\"0.0\" fill=\"currentColor\" stroke-width=\"0.1\"/>\n",
       "<rect x=\"50.0\" y=\"-141.66666666666666\" width=\"50.0\" height=\"4.167\" opacity=\"0.0\" fill=\"currentColor\" stroke-width=\"0.1\"/>\n",
       "<rect x=\"100.0\" y=\"-141.66666666666666\" width=\"50.0\" height=\"4.167\" opacity=\"0.0\" fill=\"currentColor\" stroke-width=\"0.1\"/>\n",
       "<rect x=\"150.0\" y=\"-141.66666666666666\" width=\"50.0\" height=\"4.167\" opacity=\"0.0\" fill=\"currentColor\" stroke-width=\"0.1\"/>\n",
       "<rect x=\"200.0\" y=\"-141.66666666666666\" width=\"50.0\" height=\"4.167\" opacity=\"0.0\" fill=\"currentColor\" stroke-width=\"0.1\"/>\n",
       "<rect x=\"0.0\" y=\"-145.83333333333334\" width=\"50.0\" height=\"4.167\" opacity=\"0.0\" fill=\"currentColor\" stroke-width=\"0.1\"/>\n",
       "<rect x=\"50.0\" y=\"-145.83333333333334\" width=\"50.0\" height=\"4.167\" opacity=\"0.0\" fill=\"currentColor\" stroke-width=\"0.1\"/>\n",
       "<rect x=\"100.0\" y=\"-145.83333333333334\" width=\"50.0\" height=\"4.167\" opacity=\"0.0\" fill=\"currentColor\" stroke-width=\"0.1\"/>\n",
       "<rect x=\"150.0\" y=\"-145.83333333333334\" width=\"50.0\" height=\"4.167\" opacity=\"0.0\" fill=\"currentColor\" stroke-width=\"0.1\"/>\n",
       "<rect x=\"200.0\" y=\"-145.83333333333334\" width=\"50.0\" height=\"4.167\" opacity=\"0.0\" fill=\"currentColor\" stroke-width=\"0.1\"/>\n",
       "<rect x=\"0.0\" y=\"-150.0\" width=\"50.0\" height=\"4.167\" opacity=\"0.0\" fill=\"currentColor\" stroke-width=\"0.1\"/>\n",
       "<rect x=\"50.0\" y=\"-150.0\" width=\"50.0\" height=\"4.167\" opacity=\"0.0\" fill=\"currentColor\" stroke-width=\"0.1\"/>\n",
       "<rect x=\"100.0\" y=\"-150.0\" width=\"50.0\" height=\"4.167\" opacity=\"0.0\" fill=\"currentColor\" stroke-width=\"0.1\"/>\n",
       "<rect x=\"150.0\" y=\"-150.0\" width=\"50.0\" height=\"4.167\" opacity=\"0.0\" fill=\"currentColor\" stroke-width=\"0.1\"/>\n",
       "<rect x=\"200.0\" y=\"-150.0\" width=\"50.0\" height=\"4.167\" opacity=\"0.0\" fill=\"currentColor\" stroke-width=\"0.1\"/>\n",
       "<rect x=\"0.0\" y=\"-154.16666666666669\" width=\"50.0\" height=\"4.167\" opacity=\"0.0\" fill=\"currentColor\" stroke-width=\"0.1\"/>\n",
       "<rect x=\"50.0\" y=\"-154.16666666666669\" width=\"50.0\" height=\"4.167\" opacity=\"0.0\" fill=\"currentColor\" stroke-width=\"0.1\"/>\n",
       "<rect x=\"100.0\" y=\"-154.16666666666669\" width=\"50.0\" height=\"4.167\" opacity=\"0.0\" fill=\"currentColor\" stroke-width=\"0.1\"/>\n",
       "<rect x=\"150.0\" y=\"-154.16666666666669\" width=\"50.0\" height=\"4.167\" opacity=\"0.0\" fill=\"currentColor\" stroke-width=\"0.1\"/>\n",
       "<rect x=\"200.0\" y=\"-154.16666666666669\" width=\"50.0\" height=\"4.167\" opacity=\"0.0\" fill=\"currentColor\" stroke-width=\"0.1\"/>\n",
       "<rect x=\"0.0\" y=\"-158.33333333333331\" width=\"50.0\" height=\"4.167\" opacity=\"0.0\" fill=\"currentColor\" stroke-width=\"0.1\"/>\n",
       "<rect x=\"50.0\" y=\"-158.33333333333331\" width=\"50.0\" height=\"4.167\" opacity=\"0.0\" fill=\"currentColor\" stroke-width=\"0.1\"/>\n",
       "<rect x=\"100.0\" y=\"-158.33333333333331\" width=\"50.0\" height=\"4.167\" opacity=\"0.0\" fill=\"currentColor\" stroke-width=\"0.1\"/>\n",
       "<rect x=\"150.0\" y=\"-158.33333333333331\" width=\"50.0\" height=\"4.167\" opacity=\"0.0\" fill=\"currentColor\" stroke-width=\"0.1\"/>\n",
       "<rect x=\"200.0\" y=\"-158.33333333333331\" width=\"50.0\" height=\"4.167\" opacity=\"0.0\" fill=\"currentColor\" stroke-width=\"0.1\"/>\n",
       "<rect x=\"0.0\" y=\"-162.5\" width=\"50.0\" height=\"4.167\" opacity=\"0.0\" fill=\"currentColor\" stroke-width=\"0.1\"/>\n",
       "<rect x=\"50.0\" y=\"-162.5\" width=\"50.0\" height=\"4.167\" opacity=\"0.0\" fill=\"currentColor\" stroke-width=\"0.1\"/>\n",
       "<rect x=\"100.0\" y=\"-162.5\" width=\"50.0\" height=\"4.167\" opacity=\"0.0\" fill=\"currentColor\" stroke-width=\"0.1\"/>\n",
       "<rect x=\"150.0\" y=\"-162.5\" width=\"50.0\" height=\"4.167\" opacity=\"0.0\" fill=\"currentColor\" stroke-width=\"0.1\"/>\n",
       "<rect x=\"200.0\" y=\"-162.5\" width=\"50.0\" height=\"4.167\" opacity=\"0.0\" fill=\"currentColor\" stroke-width=\"0.1\"/>\n",
       "<rect x=\"0.0\" y=\"-166.66666666666666\" width=\"50.0\" height=\"4.167\" opacity=\"0.0\" fill=\"currentColor\" stroke-width=\"0.1\"/>\n",
       "<rect x=\"50.0\" y=\"-166.66666666666666\" width=\"50.0\" height=\"4.167\" opacity=\"0.0\" fill=\"currentColor\" stroke-width=\"0.1\"/>\n",
       "<rect x=\"100.0\" y=\"-166.66666666666666\" width=\"50.0\" height=\"4.167\" opacity=\"0.0\" fill=\"currentColor\" stroke-width=\"0.1\"/>\n",
       "<rect x=\"150.0\" y=\"-166.66666666666666\" width=\"50.0\" height=\"4.167\" opacity=\"0.0\" fill=\"currentColor\" stroke-width=\"0.1\"/>\n",
       "<rect x=\"200.0\" y=\"-166.66666666666666\" width=\"50.0\" height=\"4.167\" opacity=\"0.0\" fill=\"currentColor\" stroke-width=\"0.1\"/>\n",
       "<rect x=\"0.0\" y=\"-170.83333333333334\" width=\"50.0\" height=\"4.167\" opacity=\"0.0\" fill=\"currentColor\" stroke-width=\"0.1\"/>\n",
       "<rect x=\"50.0\" y=\"-170.83333333333334\" width=\"50.0\" height=\"4.167\" opacity=\"0.0\" fill=\"currentColor\" stroke-width=\"0.1\"/>\n",
       "<rect x=\"100.0\" y=\"-170.83333333333334\" width=\"50.0\" height=\"4.167\" opacity=\"0.0\" fill=\"currentColor\" stroke-width=\"0.1\"/>\n",
       "<rect x=\"150.0\" y=\"-170.83333333333334\" width=\"50.0\" height=\"4.167\" opacity=\"0.0\" fill=\"currentColor\" stroke-width=\"0.1\"/>\n",
       "<rect x=\"200.0\" y=\"-170.83333333333334\" width=\"50.0\" height=\"4.167\" opacity=\"0.0\" fill=\"currentColor\" stroke-width=\"0.1\"/>\n",
       "<rect x=\"0.0\" y=\"-175.0\" width=\"50.0\" height=\"4.167\" opacity=\"0.0\" fill=\"currentColor\" stroke-width=\"0.1\"/>\n",
       "<rect x=\"50.0\" y=\"-175.0\" width=\"50.0\" height=\"4.167\" opacity=\"0.0\" fill=\"currentColor\" stroke-width=\"0.1\"/>\n",
       "<rect x=\"100.0\" y=\"-175.0\" width=\"50.0\" height=\"4.167\" opacity=\"0.0\" fill=\"currentColor\" stroke-width=\"0.1\"/>\n",
       "<rect x=\"150.0\" y=\"-175.0\" width=\"50.0\" height=\"4.167\" opacity=\"0.0\" fill=\"currentColor\" stroke-width=\"0.1\"/>\n",
       "<rect x=\"200.0\" y=\"-175.0\" width=\"50.0\" height=\"4.167\" opacity=\"0.0\" fill=\"currentColor\" stroke-width=\"0.1\"/>\n",
       "<rect x=\"0.0\" y=\"-179.16666666666666\" width=\"50.0\" height=\"4.167\" opacity=\"0.0\" fill=\"currentColor\" stroke-width=\"0.1\"/>\n",
       "<rect x=\"50.0\" y=\"-179.16666666666666\" width=\"50.0\" height=\"4.167\" opacity=\"0.0\" fill=\"currentColor\" stroke-width=\"0.1\"/>\n",
       "<rect x=\"100.0\" y=\"-179.16666666666666\" width=\"50.0\" height=\"4.167\" opacity=\"0.0\" fill=\"currentColor\" stroke-width=\"0.1\"/>\n",
       "<rect x=\"150.0\" y=\"-179.16666666666666\" width=\"50.0\" height=\"4.167\" opacity=\"0.0\" fill=\"currentColor\" stroke-width=\"0.1\"/>\n",
       "<rect x=\"200.0\" y=\"-179.16666666666666\" width=\"50.0\" height=\"4.167\" opacity=\"0.0\" fill=\"currentColor\" stroke-width=\"0.1\"/>\n",
       "<rect x=\"0.0\" y=\"-183.33333333333331\" width=\"50.0\" height=\"4.167\" opacity=\"0.0\" fill=\"currentColor\" stroke-width=\"0.1\"/>\n",
       "<rect x=\"50.0\" y=\"-183.33333333333331\" width=\"50.0\" height=\"4.167\" opacity=\"0.0\" fill=\"currentColor\" stroke-width=\"0.1\"/>\n",
       "<rect x=\"100.0\" y=\"-183.33333333333331\" width=\"50.0\" height=\"4.167\" opacity=\"0.0\" fill=\"currentColor\" stroke-width=\"0.1\"/>\n",
       "<rect x=\"150.0\" y=\"-183.33333333333331\" width=\"50.0\" height=\"4.167\" opacity=\"0.0\" fill=\"currentColor\" stroke-width=\"0.1\"/>\n",
       "<rect x=\"200.0\" y=\"-183.33333333333331\" width=\"50.0\" height=\"4.167\" opacity=\"0.0\" fill=\"currentColor\" stroke-width=\"0.1\"/>\n",
       "<rect x=\"0.0\" y=\"-187.5\" width=\"50.0\" height=\"4.167\" opacity=\"0.0\" fill=\"currentColor\" stroke-width=\"0.1\"/>\n",
       "<rect x=\"50.0\" y=\"-187.5\" width=\"50.0\" height=\"4.167\" opacity=\"0.0\" fill=\"currentColor\" stroke-width=\"0.1\"/>\n",
       "<rect x=\"100.0\" y=\"-187.5\" width=\"50.0\" height=\"4.167\" opacity=\"0.0\" fill=\"currentColor\" stroke-width=\"0.1\"/>\n",
       "<rect x=\"150.0\" y=\"-187.5\" width=\"50.0\" height=\"4.167\" opacity=\"0.0\" fill=\"currentColor\" stroke-width=\"0.1\"/>\n",
       "<rect x=\"200.0\" y=\"-187.5\" width=\"50.0\" height=\"4.167\" opacity=\"0.0\" fill=\"currentColor\" stroke-width=\"0.1\"/>\n",
       "<rect x=\"0.0\" y=\"-191.66666666666669\" width=\"50.0\" height=\"4.167\" opacity=\"0.0\" fill=\"currentColor\" stroke-width=\"0.1\"/>\n",
       "<rect x=\"50.0\" y=\"-191.66666666666669\" width=\"50.0\" height=\"4.167\" opacity=\"0.0\" fill=\"currentColor\" stroke-width=\"0.1\"/>\n",
       "<rect x=\"100.0\" y=\"-191.66666666666669\" width=\"50.0\" height=\"4.167\" opacity=\"0.0\" fill=\"currentColor\" stroke-width=\"0.1\"/>\n",
       "<rect x=\"150.0\" y=\"-191.66666666666669\" width=\"50.0\" height=\"4.167\" opacity=\"0.0\" fill=\"currentColor\" stroke-width=\"0.1\"/>\n",
       "<rect x=\"200.0\" y=\"-191.66666666666669\" width=\"50.0\" height=\"4.167\" opacity=\"0.0\" fill=\"currentColor\" stroke-width=\"0.1\"/>\n",
       "<rect x=\"0.0\" y=\"-195.83333333333334\" width=\"50.0\" height=\"4.167\" opacity=\"0.0\" fill=\"currentColor\" stroke-width=\"0.1\"/>\n",
       "<rect x=\"50.0\" y=\"-195.83333333333334\" width=\"50.0\" height=\"4.167\" opacity=\"0.0\" fill=\"currentColor\" stroke-width=\"0.1\"/>\n",
       "<rect x=\"100.0\" y=\"-195.83333333333334\" width=\"50.0\" height=\"4.167\" opacity=\"0.0\" fill=\"currentColor\" stroke-width=\"0.1\"/>\n",
       "<rect x=\"150.0\" y=\"-195.83333333333334\" width=\"50.0\" height=\"4.167\" opacity=\"0.0\" fill=\"currentColor\" stroke-width=\"0.1\"/>\n",
       "<rect x=\"200.0\" y=\"-195.83333333333334\" width=\"50.0\" height=\"4.167\" opacity=\"0.0\" fill=\"currentColor\" stroke-width=\"0.1\"/>\n",
       "<rect x=\"0.0\" y=\"-200.0\" width=\"50.0\" height=\"4.167\" opacity=\"0.0\" fill=\"currentColor\" stroke-width=\"0.1\"/>\n",
       "<rect x=\"50.0\" y=\"-200.0\" width=\"50.0\" height=\"4.167\" opacity=\"0.0\" fill=\"currentColor\" stroke-width=\"0.1\"/>\n",
       "<rect x=\"100.0\" y=\"-200.0\" width=\"50.0\" height=\"4.167\" opacity=\"0.0\" fill=\"currentColor\" stroke-width=\"0.1\"/>\n",
       "<rect x=\"150.0\" y=\"-200.0\" width=\"50.0\" height=\"4.167\" opacity=\"0.0\" fill=\"currentColor\" stroke-width=\"0.1\"/>\n",
       "<rect x=\"200.0\" y=\"-200.0\" width=\"50.0\" height=\"4.167\" opacity=\"0.0\" fill=\"currentColor\" stroke-width=\"0.1\"/>\n",
       "<rect x=\"0.0\" y=\"-204.16666666666666\" width=\"50.0\" height=\"4.167\" opacity=\"0.0\" fill=\"currentColor\" stroke-width=\"0.1\"/>\n",
       "<rect x=\"50.0\" y=\"-204.16666666666666\" width=\"50.0\" height=\"4.167\" opacity=\"0.0\" fill=\"currentColor\" stroke-width=\"0.1\"/>\n",
       "<rect x=\"100.0\" y=\"-204.16666666666666\" width=\"50.0\" height=\"4.167\" opacity=\"0.0\" fill=\"currentColor\" stroke-width=\"0.1\"/>\n",
       "<rect x=\"150.0\" y=\"-204.16666666666666\" width=\"50.0\" height=\"4.167\" opacity=\"0.0\" fill=\"currentColor\" stroke-width=\"0.1\"/>\n",
       "<rect x=\"200.0\" y=\"-204.16666666666666\" width=\"50.0\" height=\"4.167\" opacity=\"0.0\" fill=\"currentColor\" stroke-width=\"0.1\"/>\n",
       "<rect x=\"0.0\" y=\"-208.33333333333334\" width=\"50.0\" height=\"4.167\" opacity=\"0.0\" fill=\"currentColor\" stroke-width=\"0.1\"/>\n",
       "<rect x=\"50.0\" y=\"-208.33333333333334\" width=\"50.0\" height=\"4.167\" opacity=\"0.0\" fill=\"currentColor\" stroke-width=\"0.1\"/>\n",
       "<rect x=\"100.0\" y=\"-208.33333333333334\" width=\"50.0\" height=\"4.167\" opacity=\"0.0\" fill=\"currentColor\" stroke-width=\"0.1\"/>\n",
       "<rect x=\"150.0\" y=\"-208.33333333333334\" width=\"50.0\" height=\"4.167\" opacity=\"0.0\" fill=\"currentColor\" stroke-width=\"0.1\"/>\n",
       "<rect x=\"200.0\" y=\"-208.33333333333334\" width=\"50.0\" height=\"4.167\" opacity=\"0.0\" fill=\"currentColor\" stroke-width=\"0.1\"/>\n",
       "<rect x=\"0.0\" y=\"-212.5\" width=\"50.0\" height=\"4.167\" opacity=\"0.0\" fill=\"currentColor\" stroke-width=\"0.1\"/>\n",
       "<rect x=\"50.0\" y=\"-212.5\" width=\"50.0\" height=\"4.167\" opacity=\"0.0\" fill=\"currentColor\" stroke-width=\"0.1\"/>\n",
       "<rect x=\"100.0\" y=\"-212.5\" width=\"50.0\" height=\"4.167\" opacity=\"0.0\" fill=\"currentColor\" stroke-width=\"0.1\"/>\n",
       "<rect x=\"150.0\" y=\"-212.5\" width=\"50.0\" height=\"4.167\" opacity=\"0.0\" fill=\"currentColor\" stroke-width=\"0.1\"/>\n",
       "<rect x=\"200.0\" y=\"-212.5\" width=\"50.0\" height=\"4.167\" opacity=\"0.0\" fill=\"currentColor\" stroke-width=\"0.1\"/>\n",
       "<rect x=\"0.0\" y=\"-216.66666666666669\" width=\"50.0\" height=\"4.167\" opacity=\"0.0\" fill=\"currentColor\" stroke-width=\"0.1\"/>\n",
       "<rect x=\"50.0\" y=\"-216.66666666666669\" width=\"50.0\" height=\"4.167\" opacity=\"0.0\" fill=\"currentColor\" stroke-width=\"0.1\"/>\n",
       "<rect x=\"100.0\" y=\"-216.66666666666669\" width=\"50.0\" height=\"4.167\" opacity=\"0.0\" fill=\"currentColor\" stroke-width=\"0.1\"/>\n",
       "<rect x=\"150.0\" y=\"-216.66666666666669\" width=\"50.0\" height=\"4.167\" opacity=\"0.0\" fill=\"currentColor\" stroke-width=\"0.1\"/>\n",
       "<rect x=\"200.0\" y=\"-216.66666666666669\" width=\"50.0\" height=\"4.167\" opacity=\"0.0\" fill=\"currentColor\" stroke-width=\"0.1\"/>\n",
       "<rect x=\"0.0\" y=\"-220.83333333333331\" width=\"50.0\" height=\"4.167\" opacity=\"0.0\" fill=\"currentColor\" stroke-width=\"0.1\"/>\n",
       "<rect x=\"50.0\" y=\"-220.83333333333331\" width=\"50.0\" height=\"4.167\" opacity=\"0.0\" fill=\"currentColor\" stroke-width=\"0.1\"/>\n",
       "<rect x=\"100.0\" y=\"-220.83333333333331\" width=\"50.0\" height=\"4.167\" opacity=\"0.0\" fill=\"currentColor\" stroke-width=\"0.1\"/>\n",
       "<rect x=\"150.0\" y=\"-220.83333333333331\" width=\"50.0\" height=\"4.167\" opacity=\"0.0\" fill=\"currentColor\" stroke-width=\"0.1\"/>\n",
       "<rect x=\"200.0\" y=\"-220.83333333333331\" width=\"50.0\" height=\"4.167\" opacity=\"0.0\" fill=\"currentColor\" stroke-width=\"0.1\"/>\n",
       "<rect x=\"0.0\" y=\"-225.0\" width=\"50.0\" height=\"4.167\" opacity=\"0.0\" fill=\"currentColor\" stroke-width=\"0.1\"/>\n",
       "<rect x=\"50.0\" y=\"-225.0\" width=\"50.0\" height=\"4.167\" opacity=\"0.0\" fill=\"currentColor\" stroke-width=\"0.1\"/>\n",
       "<rect x=\"100.0\" y=\"-225.0\" width=\"50.0\" height=\"4.167\" opacity=\"0.0\" fill=\"currentColor\" stroke-width=\"0.1\"/>\n",
       "<rect x=\"150.0\" y=\"-225.0\" width=\"50.0\" height=\"4.167\" opacity=\"0.0\" fill=\"currentColor\" stroke-width=\"0.1\"/>\n",
       "<rect x=\"200.0\" y=\"-225.0\" width=\"50.0\" height=\"4.167\" opacity=\"0.0\" fill=\"currentColor\" stroke-width=\"0.1\"/>\n",
       "<rect x=\"0.0\" y=\"-229.16666666666666\" width=\"50.0\" height=\"4.167\" opacity=\"0.0\" fill=\"currentColor\" stroke-width=\"0.1\"/>\n",
       "<rect x=\"50.0\" y=\"-229.16666666666666\" width=\"50.0\" height=\"4.167\" opacity=\"0.0\" fill=\"currentColor\" stroke-width=\"0.1\"/>\n",
       "<rect x=\"100.0\" y=\"-229.16666666666666\" width=\"50.0\" height=\"4.167\" opacity=\"0.0\" fill=\"currentColor\" stroke-width=\"0.1\"/>\n",
       "<rect x=\"150.0\" y=\"-229.16666666666666\" width=\"50.0\" height=\"4.167\" opacity=\"0.0\" fill=\"currentColor\" stroke-width=\"0.1\"/>\n",
       "<rect x=\"200.0\" y=\"-229.16666666666666\" width=\"50.0\" height=\"4.167\" opacity=\"0.0\" fill=\"currentColor\" stroke-width=\"0.1\"/>\n",
       "<rect x=\"0.0\" y=\"-233.33333333333334\" width=\"50.0\" height=\"4.167\" opacity=\"0.0\" fill=\"currentColor\" stroke-width=\"0.1\"/>\n",
       "<rect x=\"50.0\" y=\"-233.33333333333334\" width=\"50.0\" height=\"4.167\" opacity=\"0.0\" fill=\"currentColor\" stroke-width=\"0.1\"/>\n",
       "<rect x=\"100.0\" y=\"-233.33333333333334\" width=\"50.0\" height=\"4.167\" opacity=\"0.0\" fill=\"currentColor\" stroke-width=\"0.1\"/>\n",
       "<rect x=\"150.0\" y=\"-233.33333333333334\" width=\"50.0\" height=\"4.167\" opacity=\"0.0\" fill=\"currentColor\" stroke-width=\"0.1\"/>\n",
       "<rect x=\"200.0\" y=\"-233.33333333333334\" width=\"50.0\" height=\"4.167\" opacity=\"0.0\" fill=\"currentColor\" stroke-width=\"0.1\"/>\n",
       "<rect x=\"0.0\" y=\"-237.5\" width=\"50.0\" height=\"4.167\" opacity=\"0.0\" fill=\"currentColor\" stroke-width=\"0.1\"/>\n",
       "<rect x=\"50.0\" y=\"-237.5\" width=\"50.0\" height=\"4.167\" opacity=\"0.0\" fill=\"currentColor\" stroke-width=\"0.1\"/>\n",
       "<rect x=\"100.0\" y=\"-237.5\" width=\"50.0\" height=\"4.167\" opacity=\"0.0\" fill=\"currentColor\" stroke-width=\"0.1\"/>\n",
       "<rect x=\"150.0\" y=\"-237.5\" width=\"50.0\" height=\"4.167\" opacity=\"0.0\" fill=\"currentColor\" stroke-width=\"0.1\"/>\n",
       "<rect x=\"200.0\" y=\"-237.5\" width=\"50.0\" height=\"4.167\" opacity=\"0.0\" fill=\"currentColor\" stroke-width=\"0.1\"/>\n",
       "<rect x=\"0.0\" y=\"-241.66666666666666\" width=\"50.0\" height=\"4.167\" opacity=\"0.0\" fill=\"currentColor\" stroke-width=\"0.1\"/>\n",
       "<rect x=\"50.0\" y=\"-241.66666666666666\" width=\"50.0\" height=\"4.167\" opacity=\"0.0\" fill=\"currentColor\" stroke-width=\"0.1\"/>\n",
       "<rect x=\"100.0\" y=\"-241.66666666666666\" width=\"50.0\" height=\"4.167\" opacity=\"0.0\" fill=\"currentColor\" stroke-width=\"0.1\"/>\n",
       "<rect x=\"150.0\" y=\"-241.66666666666666\" width=\"50.0\" height=\"4.167\" opacity=\"0.0\" fill=\"currentColor\" stroke-width=\"0.1\"/>\n",
       "<rect x=\"200.0\" y=\"-241.66666666666666\" width=\"50.0\" height=\"4.167\" opacity=\"0.0\" fill=\"currentColor\" stroke-width=\"0.1\"/>\n",
       "<rect x=\"0.0\" y=\"-245.83333333333331\" width=\"50.0\" height=\"4.167\" opacity=\"0.0\" fill=\"currentColor\" stroke-width=\"0.1\"/>\n",
       "<rect x=\"50.0\" y=\"-245.83333333333331\" width=\"50.0\" height=\"4.167\" opacity=\"0.0\" fill=\"currentColor\" stroke-width=\"0.1\"/>\n",
       "<rect x=\"100.0\" y=\"-245.83333333333331\" width=\"50.0\" height=\"4.167\" opacity=\"0.0\" fill=\"currentColor\" stroke-width=\"0.1\"/>\n",
       "<rect x=\"150.0\" y=\"-245.83333333333331\" width=\"50.0\" height=\"4.167\" opacity=\"0.0\" fill=\"currentColor\" stroke-width=\"0.1\"/>\n",
       "<rect x=\"200.0\" y=\"-245.83333333333331\" width=\"50.0\" height=\"4.167\" opacity=\"0.0\" fill=\"currentColor\" stroke-width=\"0.1\"/>\n",
       "<rect x=\"0.0\" y=\"-250.0\" width=\"50.0\" height=\"4.167\" opacity=\"0.0\" fill=\"currentColor\" stroke-width=\"0.1\"/>\n",
       "<rect x=\"50.0\" y=\"-250.0\" width=\"50.0\" height=\"4.167\" opacity=\"0.0\" fill=\"currentColor\" stroke-width=\"0.1\"/>\n",
       "<rect x=\"100.0\" y=\"-250.0\" width=\"50.0\" height=\"4.167\" opacity=\"0.0\" fill=\"currentColor\" stroke-width=\"0.1\"/>\n",
       "<rect x=\"150.0\" y=\"-250.0\" width=\"50.0\" height=\"4.167\" opacity=\"0.0\" fill=\"currentColor\" stroke-width=\"0.1\"/>\n",
       "<rect x=\"200.0\" y=\"-250.0\" width=\"50.0\" height=\"4.167\" opacity=\"0.0\" fill=\"currentColor\" stroke-width=\"0.1\"/>\n",
       "</svg>\n",
       "</div>\n",
       "<div style=\"flex=grow:1;\">\n",
       "StrCategory(['nominal', 'alphaSUp', 'alphaSDown', 'eleSFDown', 'eleSFUp'], name='systematic')<br/>\n",
       "Regular(60, 60, 120, name='mass', label='$m_{ll}$ [GeV]')<br/>\n",
       "<hr style=\"margin-top:.2em; margin-bottom:.2em;\"/>\n",
       "Weight() Σ=WeightedSum(value=0, variance=0)\n",
       "\n",
       "</div>\n",
       "</div>\n",
       "</html>"
      ],
      "text/plain": [
       "Hist(\n",
       "  StrCategory(['nominal', 'alphaSUp', 'alphaSDown', 'eleSFDown', 'eleSFUp'], name='systematic'),\n",
       "  Regular(60, 60, 120, name='mass', label='$m_{ll}$ [GeV]'),\n",
       "  storage=Weight()) # Sum: WeightedSum(value=0, variance=0)"
      ]
     },
     "execution_count": 660,
     "metadata": {},
     "output_type": "execute_result"
    }
   ],
   "source": [
    "masshist[\"DiElectron_OS\",:,:]"
   ]
  },
  {
   "cell_type": "code",
   "execution_count": 661,
   "id": "c38a640c-b7b1-48a8-abab-20189451d546",
   "metadata": {
    "tags": []
   },
   "outputs": [
    {
     "data": {
      "text/plain": [
       "{'DYJets': {'sumw': 578762.44,\n",
       "  'mass': Hist(\n",
       "    StrCategory(['DiElectron_OS', 'DiElectron_SS', 'DiMuon_OS', 'DiMuon_SS'], name='region'),\n",
       "    StrCategory(['nominal', 'alphaSUp', 'alphaSDown', 'eleSFDown', 'eleSFUp'], name='systematic'),\n",
       "    Regular(60, 60, 120, name='mass', label='$m_{ll}$ [GeV]'),\n",
       "    storage=Weight()) # Sum: WeightedSum(value=53.0088, variance=51.2353),\n",
       "  'weightStatistics': {'alphaS': WeightStatistics(sumw=40.0, sumw2=40.0, minw=1.0, maxw=1.0, n=40),\n",
       "   'eleSF': WeightStatistics(sumw=38.26972579956055, sumw2=36.81547546386719, minw=0.6674144268035889, maxw=1.0077519416809082, n=40)}}}"
      ]
     },
     "execution_count": 661,
     "metadata": {},
     "output_type": "execute_result"
    }
   ],
   "source": [
    "for region, cuts in regions.items() :\n",
    "    goodevent = selection.require(**cuts)# The double star is used to extract info from a dictionary\n",
    "    \n",
    "    if region.startswith(\"DiElectron\") :\n",
    "        mass = events.Electron[goodevent].sum().mass #Equivalent to summing LorentzVectors and finding Invariant mass\n",
    "    elif region.startswith(\"DiMuon\") :\n",
    "        mass = events.Muon[goodevent].sum().mass\n",
    "    \n",
    "    masshist.fill(\n",
    "        region=region,\n",
    "        systematic=\"nominal\",\n",
    "        mass=mass,\n",
    "        weight=weights.weight()[goodevent],\n",
    "    )\n",
    "    \n",
    "    for syst in weights.variations:\n",
    "        masshist.fill(\n",
    "            region=region,\n",
    "            systematic=syst,\n",
    "            mass=mass,\n",
    "            weight=weights.weight(syst)[goodevent],\n",
    "        )\n",
    "\n",
    "output ={\n",
    "    events.metadata[\"dataset\"] :{\n",
    "        \"sumw\":ak.sum(events.genWeight),\n",
    "        \"mass\": masshist,\n",
    "        \"weightStatistics\": weights.weightStatistics\n",
    "    }\n",
    "}\n",
    "\n",
    "output"
   ]
  },
  {
   "cell_type": "markdown",
   "id": "13a8e6c0-93f4-449b-801e-ea8a92cd3a33",
   "metadata": {},
   "source": [
    "- If we were to run on many files , we would accumulate this output"
   ]
  },
  {
   "cell_type": "code",
   "execution_count": 662,
   "id": "583183a1-7671-4f16-8812-23d4bd5d2b35",
   "metadata": {
    "tags": []
   },
   "outputs": [
    {
     "data": {
      "text/plain": [
       "{'DYJets': {'sumw': 1157524.9,\n",
       "  'mass': Hist(\n",
       "    StrCategory(['DiElectron_OS', 'DiElectron_SS', 'DiMuon_OS', 'DiMuon_SS'], name='region'),\n",
       "    StrCategory(['nominal', 'alphaSUp', 'alphaSDown', 'eleSFDown', 'eleSFUp'], name='systematic'),\n",
       "    Regular(60, 60, 120, name='mass', label='$m_{ll}$ [GeV]'),\n",
       "    storage=Weight()) # Sum: WeightedSum(value=106.018, variance=102.471),\n",
       "  'weightStatistics': {'alphaS': WeightStatistics(sumw=80.0, sumw2=80.0, minw=1.0, maxw=1.0, n=80),\n",
       "   'eleSF': WeightStatistics(sumw=76.5394515991211, sumw2=73.63095092773438, minw=0.6674144268035889, maxw=1.0077519416809082, n=80)}}}"
      ]
     },
     "execution_count": 662,
     "metadata": {},
     "output_type": "execute_result"
    }
   ],
   "source": [
    "accumulate([output,output])"
   ]
  },
  {
   "cell_type": "code",
   "execution_count": 663,
   "id": "cb2febcc-e7d4-4fb8-bde5-9dfa59964e94",
   "metadata": {
    "tags": []
   },
   "outputs": [
    {
     "data": {
      "text/plain": [
       "dict_keys(['DYJets'])"
      ]
     },
     "execution_count": 663,
     "metadata": {},
     "output_type": "execute_result"
    }
   ],
   "source": [
    "output.keys()"
   ]
  },
  {
   "cell_type": "code",
   "execution_count": 664,
   "id": "81dd323f-b4aa-4175-adef-c8d5a23af298",
   "metadata": {
    "tags": []
   },
   "outputs": [
    {
     "data": {
      "text/plain": [
       "dict_keys(['sumw', 'mass', 'weightStatistics'])"
      ]
     },
     "execution_count": 664,
     "metadata": {},
     "output_type": "execute_result"
    }
   ],
   "source": [
    "output[\"DYJets\"].keys()"
   ]
  },
  {
   "cell_type": "code",
   "execution_count": 665,
   "id": "44439dfb-74c4-4888-9649-d24ea96b97f4",
   "metadata": {
    "tags": []
   },
   "outputs": [
    {
     "data": {
      "text/plain": [
       "Hist(\n",
       "  StrCategory(['DiElectron_OS', 'DiElectron_SS', 'DiMuon_OS', 'DiMuon_SS'], name='region'),\n",
       "  StrCategory(['nominal', 'alphaSUp', 'alphaSDown', 'eleSFDown', 'eleSFUp'], name='systematic'),\n",
       "  Regular(60, 60, 120, name='mass', label='$m_{ll}$ [GeV]'),\n",
       "  storage=Weight()) # Sum: WeightedSum(value=53.0088, variance=51.2353)"
      ]
     },
     "execution_count": 665,
     "metadata": {},
     "output_type": "execute_result"
    }
   ],
   "source": [
    "output[\"DYJets\"][\"mass\"]"
   ]
  },
  {
   "cell_type": "code",
   "execution_count": 666,
   "id": "d0e7e581-6845-4c4f-85a9-5993d697575c",
   "metadata": {
    "tags": []
   },
   "outputs": [
    {
     "data": {
      "text/plain": [
       "[StairsArtists(stairs=<matplotlib.patches.StepPatch object at 0x7fbb6bba3b20>, errorbar=<ErrorbarContainer object of 3 artists>, legend_artist=<ErrorbarContainer object of 3 artists>)]"
      ]
     },
     "execution_count": 666,
     "metadata": {},
     "output_type": "execute_result"
    },
    {
     "data": {
      "image/png": "[encoded data removed]",
      "text/plain": [
       "<Figure size 640x480 with 1 Axes>"
      ]
     },
     "metadata": {},
     "output_type": "display_data"
    }
   ],
   "source": [
    "output[\"DYJets\"][\"mass\"][sum, \"nominal\", :].plot()"
   ]
  },
  {
   "cell_type": "markdown",
   "id": "2847549d-f12a-41c2-a537-7653ca4e86c8",
   "metadata": {},
   "source": [
    "## Processors"
   ]
  },
  {
   "cell_type": "markdown",
   "id": "19553c1f-0f73-4836-a1ad-178254d03d48",
   "metadata": {},
   "source": [
    "The processor modules enables parallelization of data processing."
   ]
  },
  {
   "cell_type": "markdown",
   "id": "74d7f80c-46f4-4b84-aee4-f327cd4917ba",
   "metadata": {},
   "source": [
    "- The `ProcessorABC` is a base class that is derived(can be passed on to another class).\n",
    "- `NanoEvents` handles the data\n",
    "- `accumulate()` accumulate the output\n",
    "- Parallel executors like dask do the parallel processing.\n",
    "In the following example we will use `BaseSchema` instead `NanoAODSchema` , for that we need `Candidate` record manager"
   ]
  },
  {
   "cell_type": "code",
   "execution_count": 667,
   "id": "7b9189ed-04a0-4a27-a779-0c01ef87f138",
   "metadata": {
    "tags": []
   },
   "outputs": [],
   "source": [
    "import awkward as ak\n",
    "from coffea import processor\n",
    "from coffea.nanoevents.methods import candidate\n",
    "import hist"
   ]
  },
  {
   "cell_type": "code",
   "execution_count": 668,
   "id": "a4dd55bf-ee39-46a3-9207-3e8e02f36d88",
   "metadata": {
    "tags": []
   },
   "outputs": [],
   "source": [
    "#  Here lets produce a Z peak with muons\n",
    "class MyProcessor(processor.ProcessorABC):\n",
    "    def __init__ (self):\n",
    "        pass\n",
    "    \n",
    "    def process(self, events):\n",
    "        dataset = events.metadata[\"dataset\"]\n",
    "        #since we are using BaseSchema , we have to make the LorentzVector ourselves\n",
    "        muons= ak.zip(\n",
    "            {\n",
    "                \"pt\" : events.Muon_pt ,\n",
    "                \"eta\" : events.Muon_eta ,\n",
    "                \"phi\" : events.Muon_phi ,\n",
    "                \"mass\" : events.Muon_mass ,\n",
    "                \"charge\" : events.Muon_charge\n",
    "            },\n",
    "            with_name = \"PtEtaPhiMCandidate\" ,\n",
    "            behavior = candidate.behavior\n",
    "        )\n",
    "        # Create the main histogram\n",
    "        h_mass = (\n",
    "            hist.Hist.new\n",
    "            .StrCat([\"opposite\", \"same\"], name = \"sign\")\n",
    "            .Log(1000,0.2,200. ,name = \"mass\" , label = \"$m_{\\mu \\mu }$ [GeV]\")\n",
    "            .Int64()\n",
    "        )\n",
    "        \n",
    "        # Apply Cuts/Selections\n",
    "        # Lets do simple cuts this time\n",
    "        cut = (ak.num(muons) == 2) & (ak.sum(muons.charge, axis = 1) == 0) # Opposite Sign DiMuon cuts\n",
    "        dimuon = muons[cut][:,0] + muons[cut][:,1] #Sum up the first two muons which pass the cuts\n",
    "        h_mass.fill(sign=\"opposite\", mass=dimuon.mass)\n",
    "        #Similarly do the same sign cuts\n",
    "        cut = (ak.num(muons) == 2) & (ak.sum(muons.charge, axis = 1) != 0) # same Sign DiMuon cuts\n",
    "        dimuon = muons[cut][:,0] + muons[cut][:,1] #Sum up the first two muons which pass the cuts\n",
    "        h_mass.fill(sign=\"same\", mass=dimuon.mass)\n",
    "        \n",
    "        #Return the histogram as a value to a key in a dictionary\n",
    "        return {\n",
    "            dataset : {\n",
    "                \"entries\" : len(events),\n",
    "                \"mass\" : h_mass \n",
    "            }\n",
    "        }\n",
    "    def postprocess(self,accumulator) :\n",
    "        pass"
   ]
  },
  {
   "cell_type": "markdown",
   "id": "9e79ee96-2392-4cf4-a0ff-f38de4dc46c9",
   "metadata": {},
   "source": [
    "First, lets run this without parallelization. \n",
    "- Use uproot to open an opendata file\n",
    "- Use NanoEvents to create the BaseSchema objects\n",
    "- Create an instance of the MyProcessor class and use it's process method"
   ]
  },
  {
   "cell_type": "code",
   "execution_count": 669,
   "id": "0311b2dd-0a3a-4499-9b26-7ee32051d217",
   "metadata": {
    "tags": []
   },
   "outputs": [],
   "source": [
    "import uproot \n",
    "from coffea.nanoevents import NanoEventsFactory, BaseSchema"
   ]
  },
  {
   "cell_type": "code",
   "execution_count": 670,
   "id": "94148cdb-9073-47a1-943e-b4b66f3868a1",
   "metadata": {
    "tags": []
   },
   "outputs": [
    {
     "data": {
      "text/plain": [
       "{'DoubleMuon': {'entries': 100000,\n",
       "  'mass': Hist(\n",
       "    StrCategory(['opposite', 'same'], name='sign'),\n",
       "    Regular(1000, 0.2, 200, transform=log, name='mass', label='$m_{\\\\mu \\\\mu }$ [GeV]'),\n",
       "    storage=Int64()) # Sum: 48505.0 (48569.0 with flow)}}"
      ]
     },
     "execution_count": 670,
     "metadata": {},
     "output_type": "execute_result"
    }
   ],
   "source": [
    "filename = \"root://xcache//store/user/ncsmith/opendata_mirror/Run2012B_DoubleMuParked.root\"\n",
    "file = uproot.open(filename)\n",
    "events = NanoEventsFactory.from_root(\n",
    "    file,\n",
    "    entry_stop = 100000, # Maximum is around 40 million events probably\n",
    "    metadata={\"dataset\":\"DoubleMuon\"},\n",
    "    schemaclass=BaseSchema,\n",
    "    \n",
    ").events()\n",
    "p = MyProcessor()\n",
    "out = p.process(events)\n",
    "out"
   ]
  },
  {
   "cell_type": "code",
   "execution_count": 671,
   "id": "bac97b17-8989-45b4-8ff8-87ed902cbc5a",
   "metadata": {
    "tags": []
   },
   "outputs": [
    {
     "data": {
      "text/plain": [
       "<matplotlib.legend.Legend at 0x7fbb6a404e50>"
      ]
     },
     "execution_count": 671,
     "metadata": {},
     "output_type": "execute_result"
    },
    {
     "data": {
      "image/png": "[encoded data removed]",
      "text/plain": [
       "<Figure size 640x480 with 1 Axes>"
      ]
     },
     "metadata": {},
     "output_type": "display_data"
    }
   ],
   "source": [
    "import matplotlib.pyplot as plt\n",
    "fig, ax = plt.subplots()\n",
    "out[\"DoubleMuon\"][\"mass\"].plot1d(ax=ax)\n",
    "ax.legend(title=\"Dimuon charge\")"
   ]
  },
  {
   "cell_type": "markdown",
   "id": "191fa4d4-93d3-4a46-b6db-30eb21902a74",
   "metadata": {},
   "source": [
    "- In the same fashion, one could expand on this code to run over several chunks of the file, setting `entry_start` and `entry_stop` as appropriate.\n",
    "- However, the `Runner` from Coffea helps us to do the same more efficiently.\n",
    "- List down the datasets and corresponding files\n",
    "- Specify the Executor, for example, Dask.\n",
    "- Specify the \"maxchunk\""
   ]
  },
  {
   "cell_type": "code",
   "execution_count": 672,
   "id": "f2036390-4ded-4fc6-9e95-6f1737d8f371",
   "metadata": {
    "tags": []
   },
   "outputs": [],
   "source": [
    "#These all are open data files\n",
    "fileset = {\n",
    "    'DoubleMuon': [\n",
    "        'root://xcache//store/user/ncsmith/opendata_mirror/Run2012B_DoubleMuParked.root',\n",
    "        'root://xcache//store/user/ncsmith/opendata_mirror/Run2012C_DoubleMuParked.root',\n",
    "    ],\n",
    "    'ZZ to 4mu': [\n",
    "        'root://xcache//store/user/ncsmith/opendata_mirror/ZZTo4mu.root'\n",
    "    ]\n",
    "}"
   ]
  },
  {
   "cell_type": "code",
   "execution_count": 673,
   "id": "6963bcaa-7c83-4ec7-9e6b-3daf3943cdd2",
   "metadata": {
    "tags": []
   },
   "outputs": [
    {
     "data": {
      "application/vnd.jupyter.widget-view+json": {
       "model_id": "74738a0dcc1e46ad80ff34d03b83faa2",
       "version_major": 2,
       "version_minor": 0
      },
      "text/plain": [
       "Output()"
      ]
     },
     "metadata": {},
     "output_type": "display_data"
    },
    {
     "data": {
      "text/html": [
       "<pre style=\"white-space:pre;overflow-x:auto;line-height:normal;font-family:Menlo,'DejaVu Sans Mono',consolas,'Courier New',monospace\"></pre>\n"
      ],
      "text/plain": []
     },
     "metadata": {},
     "output_type": "display_data"
    },
    {
     "data": {
      "text/html": [
       "<pre style=\"white-space:pre;overflow-x:auto;line-height:normal;font-family:Menlo,'DejaVu Sans Mono',consolas,'Courier New',monospace\">\n",
       "</pre>\n"
      ],
      "text/plain": [
       "\n"
      ]
     },
     "metadata": {},
     "output_type": "display_data"
    },
    {
     "data": {
      "application/vnd.jupyter.widget-view+json": {
       "model_id": "0b3428b9654a448db05786105beff2c5",
       "version_major": 2,
       "version_minor": 0
      },
      "text/plain": [
       "Output()"
      ]
     },
     "metadata": {},
     "output_type": "display_data"
    },
    {
     "data": {
      "text/html": [
       "<pre style=\"white-space:pre;overflow-x:auto;line-height:normal;font-family:Menlo,'DejaVu Sans Mono',consolas,'Courier New',monospace\"></pre>\n"
      ],
      "text/plain": []
     },
     "metadata": {},
     "output_type": "display_data"
    },
    {
     "data": {
      "text/html": [
       "<pre style=\"white-space:pre;overflow-x:auto;line-height:normal;font-family:Menlo,'DejaVu Sans Mono',consolas,'Courier New',monospace\">\n",
       "</pre>\n"
      ],
      "text/plain": [
       "\n"
      ]
     },
     "metadata": {},
     "output_type": "display_data"
    },
    {
     "data": {
      "text/plain": [
       "{'ZZ to 4mu': {'entries': 399752,\n",
       "  'mass': Hist(\n",
       "    StrCategory(['opposite', 'same'], name='sign'),\n",
       "    Regular(1000, 0.2, 200, transform=log, name='mass', label='$m_{\\\\mu \\\\mu }$ [GeV]'),\n",
       "    storage=Int64()) # Sum: 76404.0 (76568.0 with flow)},\n",
       " 'DoubleMuon': {'entries': 400224,\n",
       "  'mass': Hist(\n",
       "    StrCategory(['opposite', 'same'], name='sign'),\n",
       "    Regular(1000, 0.2, 200, transform=log, name='mass', label='$m_{\\\\mu \\\\mu }$ [GeV]'),\n",
       "    storage=Int64()) # Sum: 206710.0 (206958.0 with flow)}}"
      ]
     },
     "execution_count": 673,
     "metadata": {},
     "output_type": "execute_result"
    }
   ],
   "source": [
    "#lets use the iterative executor (single, one by one)\n",
    "iterative_run = processor.Runner(\n",
    "    executor = processor.IterativeExecutor(compression=None),\n",
    "    maxchunks=4,\n",
    ")\n",
    "\n",
    "out = iterative_run(\n",
    "    fileset,\n",
    "    treename = \"Events\",\n",
    "    processor_instance = MyProcessor(),\n",
    ")\n",
    "out"
   ]
  },
  {
   "cell_type": "code",
   "execution_count": 674,
   "id": "3616c051-aa8d-4a21-8979-b8317b945921",
   "metadata": {},
   "outputs": [
    {
     "data": {
      "text/plain": [
       "<matplotlib.legend.Legend at 0x7fbb697e0be0>"
      ]
     },
     "execution_count": 674,
     "metadata": {},
     "output_type": "execute_result"
    },
    {
     "data": {
      "image/png": "[encoded data removed]",
      "text/plain": [
       "<Figure size 640x480 with 1 Axes>"
      ]
     },
     "metadata": {},
     "output_type": "display_data"
    }
   ],
   "source": [
    "fig, ax = plt.subplots()\n",
    "out[\"DoubleMuon\"][\"mass\"].plot1d(ax=ax)\n",
    "ax.legend(title=\"Dimuon charge\")"
   ]
  },
  {
   "cell_type": "markdown",
   "id": "6a81db73-43c9-4333-86ee-870c320a5157",
   "metadata": {},
   "source": [
    "Now, if we want to use more than a single core on our machine, we simply change [IterativeExecutor](https://coffeateam.github.io/coffea/api/coffea.processor.IterativeExecutor.html) for [FuturesExecutor](https://coffeateam.github.io/coffea/api/coffea.processor.FuturesExecutor.html), which uses the python [concurrent.futures](https://docs.python.org/3/library/concurrent.futures.html) standard library. We can then set the most interesting argument to the `FuturesExecutor`: the number of cores to use (2):"
   ]
  },
  {
   "cell_type": "code",
   "execution_count": 675,
   "id": "6e4e76c5-2ed7-4a04-86d2-c35259411f91",
   "metadata": {
    "tags": []
   },
   "outputs": [
    {
     "data": {
      "application/vnd.jupyter.widget-view+json": {
       "model_id": "81ae9c1bba1f443ca56a476368de6fd5",
       "version_major": 2,
       "version_minor": 0
      },
      "text/plain": [
       "Output()"
      ]
     },
     "metadata": {},
     "output_type": "display_data"
    },
    {
     "data": {
      "text/html": [
       "<pre style=\"white-space:pre;overflow-x:auto;line-height:normal;font-family:Menlo,'DejaVu Sans Mono',consolas,'Courier New',monospace\"></pre>\n"
      ],
      "text/plain": []
     },
     "metadata": {},
     "output_type": "display_data"
    },
    {
     "data": {
      "text/html": [
       "<pre style=\"white-space:pre;overflow-x:auto;line-height:normal;font-family:Menlo,'DejaVu Sans Mono',consolas,'Courier New',monospace\">\n",
       "</pre>\n"
      ],
      "text/plain": [
       "\n"
      ]
     },
     "metadata": {},
     "output_type": "display_data"
    },
    {
     "data": {
      "text/plain": [
       "{'ZZ to 4mu': {'entries': 399752,\n",
       "  'mass': Hist(\n",
       "    StrCategory(['opposite', 'same'], name='sign'),\n",
       "    Regular(1000, 0.2, 200, transform=log, name='mass', label='$m_{\\\\mu \\\\mu }$ [GeV]'),\n",
       "    storage=Int64()) # Sum: 76404.0 (76568.0 with flow)},\n",
       " 'DoubleMuon': {'entries': 400224,\n",
       "  'mass': Hist(\n",
       "    StrCategory(['opposite', 'same'], name='sign'),\n",
       "    Regular(1000, 0.2, 200, transform=log, name='mass', label='$m_{\\\\mu \\\\mu }$ [GeV]'),\n",
       "    storage=Int64()) # Sum: 206710.0 (206958.0 with flow)}}"
      ]
     },
     "execution_count": 675,
     "metadata": {},
     "output_type": "execute_result"
    }
   ],
   "source": [
    "futures_run = processor.Runner(\n",
    "    executor = processor.FuturesExecutor(compression=None, workers=2),\n",
    "    schema=BaseSchema,\n",
    "    maxchunks=4,\n",
    ")\n",
    "out = futures_run(\n",
    "    fileset,\n",
    "    \"Events\",\n",
    "    processor_instance=MyProcessor()\n",
    ")\n",
    "out"
   ]
  },
  {
   "cell_type": "code",
   "execution_count": 676,
   "id": "fc11cb56-e438-4ae2-8091-d46a2e2ffc94",
   "metadata": {
    "tags": []
   },
   "outputs": [
    {
     "data": {
      "text/plain": [
       "<matplotlib.legend.Legend at 0x7fbb68b9d250>"
      ]
     },
     "execution_count": 676,
     "metadata": {},
     "output_type": "execute_result"
    },
    {
     "data": {
      "image/png": "[encoded data removed]",
      "text/plain": [
       "<Figure size 640x480 with 1 Axes>"
      ]
     },
     "metadata": {},
     "output_type": "display_data"
    }
   ],
   "source": [
    "fig, ax = plt.subplots()\n",
    "out[\"DoubleMuon\"][\"mass\"].plot1d(ax=ax)\n",
    "ax.legend(title=\"Dimuon charge\")"
   ]
  },
  {
   "cell_type": "code",
   "execution_count": 677,
   "id": "6aefd6d5-5a30-4b39-8b67-f35a08ec91cc",
   "metadata": {
    "tags": []
   },
   "outputs": [
    {
     "name": "stderr",
     "output_type": "stream",
     "text": [
      "/opt/conda/lib/python3.8/site-packages/distributed/client.py:1288: VersionMismatchWarning: Mismatched versions found\n",
      "\n",
      "+---------+----------------+----------------+----------------+\n",
      "| Package | client         | scheduler      | workers        |\n",
      "+---------+----------------+----------------+----------------+\n",
      "| python  | 3.8.17.final.0 | 3.8.17.final.0 | 3.8.16.final.0 |\n",
      "| tornado | 6.3.2          | 6.3.2          | 6.2            |\n",
      "+---------+----------------+----------------+----------------+\n",
      "  warnings.warn(version_module.VersionMismatchWarning(msg[0][\"warning\"]))\n"
     ]
    },
    {
     "data": {
      "text/html": [
       "<div>\n",
       "    <div style=\"width: 24px; height: 24px; background-color: #e1e1e1; border: 3px solid #9D9D9D; border-radius: 5px; position: absolute;\"> </div>\n",
       "    <div style=\"margin-left: 48px;\">\n",
       "        <h3 style=\"margin-bottom: 0px;\">Client</h3>\n",
       "        <p style=\"color: #9D9D9D; margin-bottom: 0px;\">Client-9f4011f9-4801-11ee-8614-2249269eb080</p>\n",
       "        <table style=\"width: 100%; text-align: left;\">\n",
       "\n",
       "        <tr>\n",
       "        \n",
       "            <td style=\"text-align: left;\"><strong>Connection method:</strong> Direct</td>\n",
       "            <td style=\"text-align: left;\"></td>\n",
       "        \n",
       "        </tr>\n",
       "\n",
       "        \n",
       "            <tr>\n",
       "                <td style=\"text-align: left;\">\n",
       "                    <strong>Dashboard: </strong> <a href=\"/user/bisnupriya.sahu@cern.ch/proxy/8787/status\" target=\"_blank\">/user/bisnupriya.sahu@cern.ch/proxy/8787/status</a>\n",
       "                </td>\n",
       "                <td style=\"text-align: left;\"></td>\n",
       "            </tr>\n",
       "        \n",
       "\n",
       "        </table>\n",
       "\n",
       "        \n",
       "            <details>\n",
       "            <summary style=\"margin-bottom: 20px;\"><h3 style=\"display: inline;\">Scheduler Info</h3></summary>\n",
       "            <div style=\"\">\n",
       "    <div>\n",
       "        <div style=\"width: 24px; height: 24px; background-color: #FFF7E5; border: 3px solid #FF6132; border-radius: 5px; position: absolute;\"> </div>\n",
       "        <div style=\"margin-left: 48px;\">\n",
       "            <h3 style=\"margin-bottom: 0px;\">Scheduler</h3>\n",
       "            <p style=\"color: #9D9D9D; margin-bottom: 0px;\">Scheduler-5e9a31a1-4283-410c-8b7b-b77870a368e9</p>\n",
       "            <table style=\"width: 100%; text-align: left;\">\n",
       "                <tr>\n",
       "                    <td style=\"text-align: left;\">\n",
       "                        <strong>Comm:</strong> tls://192.168.197.253:8786\n",
       "                    </td>\n",
       "                    <td style=\"text-align: left;\">\n",
       "                        <strong>Workers:</strong> 1\n",
       "                    </td>\n",
       "                </tr>\n",
       "                <tr>\n",
       "                    <td style=\"text-align: left;\">\n",
       "                        <strong>Dashboard:</strong> <a href=\"/user/bisnupriya.sahu@cern.ch/proxy/8787/status\" target=\"_blank\">/user/bisnupriya.sahu@cern.ch/proxy/8787/status</a>\n",
       "                    </td>\n",
       "                    <td style=\"text-align: left;\">\n",
       "                        <strong>Total threads:</strong> 2\n",
       "                    </td>\n",
       "                </tr>\n",
       "                <tr>\n",
       "                    <td style=\"text-align: left;\">\n",
       "                        <strong>Started:</strong> 3 hours ago\n",
       "                    </td>\n",
       "                    <td style=\"text-align: left;\">\n",
       "                        <strong>Total memory:</strong> 7.00 GiB\n",
       "                    </td>\n",
       "                </tr>\n",
       "            </table>\n",
       "        </div>\n",
       "    </div>\n",
       "\n",
       "    <details style=\"margin-left: 48px;\">\n",
       "        <summary style=\"margin-bottom: 20px;\">\n",
       "            <h3 style=\"display: inline;\">Workers</h3>\n",
       "        </summary>\n",
       "\n",
       "        \n",
       "        <div style=\"margin-bottom: 20px;\">\n",
       "            <div style=\"width: 24px; height: 24px; background-color: #DBF5FF; border: 3px solid #4CC9FF; border-radius: 5px; position: absolute;\"> </div>\n",
       "            <div style=\"margin-left: 48px;\">\n",
       "            <details>\n",
       "                <summary>\n",
       "                    <h4 style=\"margin-bottom: 0px; display: inline;\">Worker: kubernetes-worker-042399cb-7c3a-47d8-93a6-b54ef0976deb</h4>\n",
       "                </summary>\n",
       "                <table style=\"width: 100%; text-align: left;\">\n",
       "                    <tr>\n",
       "                        <td style=\"text-align: left;\">\n",
       "                            <strong>Comm: </strong> tls://bisnupriya-2esahu-40cern-2ech.dask-worker.cmsaf-prod.flatiron.hollandhpc.org:8788\n",
       "                        </td>\n",
       "                        <td style=\"text-align: left;\">\n",
       "                            <strong>Total threads: </strong> 2\n",
       "                        </td>\n",
       "                    </tr>\n",
       "                    <tr>\n",
       "                        <td style=\"text-align: left;\">\n",
       "                            <strong>Dashboard: </strong> <a href=\"/user/bisnupriya.sahu@cern.ch/proxy/40107/status\" target=\"_blank\">/user/bisnupriya.sahu@cern.ch/proxy/40107/status</a>\n",
       "                        </td>\n",
       "                        <td style=\"text-align: left;\">\n",
       "                            <strong>Memory: </strong> 7.00 GiB\n",
       "                        </td>\n",
       "                    </tr>\n",
       "                    <tr>\n",
       "                        <td style=\"text-align: left;\">\n",
       "                            <strong>Nanny: </strong> tls://192.168.197.253:38399\n",
       "                        </td>\n",
       "                        <td style=\"text-align: left;\"></td>\n",
       "                    </tr>\n",
       "                    <tr>\n",
       "                        <td colspan=\"2\" style=\"text-align: left;\">\n",
       "                            <strong>Local directory: </strong> /home/cms-jovyan/dask-worker-space/worker-b1dwua_0\n",
       "                        </td>\n",
       "                    </tr>\n",
       "\n",
       "                    \n",
       "\n",
       "                    \n",
       "                    <tr>\n",
       "                        <td style=\"text-align: left;\">\n",
       "                            <strong>Tasks executing: </strong> 0\n",
       "                        </td>\n",
       "                        <td style=\"text-align: left;\">\n",
       "                            <strong>Tasks in memory: </strong> 0\n",
       "                        </td>\n",
       "                    </tr>\n",
       "                    <tr>\n",
       "                        <td style=\"text-align: left;\">\n",
       "                            <strong>Tasks ready: </strong> 0\n",
       "                        </td>\n",
       "                        <td style=\"text-align: left;\">\n",
       "                            <strong>Tasks in flight: </strong>0\n",
       "                        </td>\n",
       "                    </tr>\n",
       "                    <tr>\n",
       "                        <td style=\"text-align: left;\">\n",
       "                            <strong>CPU usage:</strong> 2.0%\n",
       "                        </td>\n",
       "                        <td style=\"text-align: left;\">\n",
       "                            <strong>Last seen: </strong> Just now\n",
       "                        </td>\n",
       "                    </tr>\n",
       "                    <tr>\n",
       "                        <td style=\"text-align: left;\">\n",
       "                            <strong>Memory usage: </strong> 903.31 MiB\n",
       "                        </td>\n",
       "                        <td style=\"text-align: left;\">\n",
       "                            <strong>Spilled bytes: </strong> 0 B\n",
       "                        </td>\n",
       "                    </tr>\n",
       "                    <tr>\n",
       "                        <td style=\"text-align: left;\">\n",
       "                            <strong>Read bytes: </strong> 63.19 MiB\n",
       "                        </td>\n",
       "                        <td style=\"text-align: left;\">\n",
       "                            <strong>Write bytes: </strong> 1.26 MiB\n",
       "                        </td>\n",
       "                    </tr>\n",
       "                    \n",
       "\n",
       "                </table>\n",
       "            </details>\n",
       "            </div>\n",
       "        </div>\n",
       "        \n",
       "\n",
       "    </details>\n",
       "</div>\n",
       "            </details>\n",
       "        \n",
       "\n",
       "    </div>\n",
       "</div>"
      ],
      "text/plain": [
       "<Client: 'tls://192.168.197.253:8786' processes=1 threads=2, memory=7.00 GiB>"
      ]
     },
     "execution_count": 677,
     "metadata": {},
     "output_type": "execute_result"
    }
   ],
   "source": [
    "# Now lets run it through the dask client at coffeacasa at university _of_nebraska\n",
    "from dask.distributed import Client\n",
    "\n",
    "client = Client(\"tls://localhost:8786\")\n",
    "client"
   ]
  },
  {
   "cell_type": "code",
   "execution_count": 678,
   "id": "f338ed82-bf71-45ff-818c-43151e87cf02",
   "metadata": {
    "tags": []
   },
   "outputs": [
    {
     "name": "stdout",
     "output_type": "stream",
     "text": [
      "[########################################] | 100% Completed |  5.5s\r"
     ]
    },
    {
     "data": {
      "text/plain": [
       "{'DoubleMuon': {'entries': 2401344,\n",
       "  'mass': Hist(\n",
       "    StrCategory(['opposite', 'same'], name='sign'),\n",
       "    Regular(1000, 0.2, 200, transform=log, name='mass', label='$m_{\\\\mu \\\\mu }$ [GeV]'),\n",
       "    storage=Int64()) # Sum: 1250915.0 (1252391.0 with flow)},\n",
       " 'ZZ to 4mu': {'entries': 1499064,\n",
       "  'mass': Hist(\n",
       "    StrCategory(['opposite', 'same'], name='sign'),\n",
       "    Regular(1000, 0.2, 200, transform=log, name='mass', label='$m_{\\\\mu \\\\mu }$ [GeV]'),\n",
       "    storage=Int64()) # Sum: 288708.0 (289326.0 with flow)}}"
      ]
     },
     "execution_count": 678,
     "metadata": {},
     "output_type": "execute_result"
    }
   ],
   "source": [
    "dask_run = processor.Runner(\n",
    "    executor = processor.DaskExecutor(client=client),\n",
    "    schema=BaseSchema,\n",
    "    maxchunks=24,\n",
    ")\n",
    "out = dask_run(\n",
    "    fileset,\n",
    "    \"Events\",\n",
    "    processor_instance=MyProcessor()\n",
    ")\n",
    "out"
   ]
  },
  {
   "cell_type": "code",
   "execution_count": 679,
   "id": "338e12a9-7451-4cf8-9b79-23a555705bc2",
   "metadata": {
    "tags": []
   },
   "outputs": [
    {
     "data": {
      "text/plain": [
       "<matplotlib.legend.Legend at 0x7fbb8ab22910>"
      ]
     },
     "execution_count": 679,
     "metadata": {},
     "output_type": "execute_result"
    },
    {
     "data": {
      "image/png": "[encoded data removed]",
      "text/plain": [
       "<Figure size 640x480 with 1 Axes>"
      ]
     },
     "metadata": {},
     "output_type": "display_data"
    }
   ],
   "source": [
    "fig, ax = plt.subplots()\n",
    "out[\"DoubleMuon\"][\"mass\"].plot1d(ax=ax)\n",
    "ax.legend(title=\"Dimuon charge\")"
   ]
  }
 ],
 "metadata": {
  "kernelspec": {
   "display_name": "Python 3 (ipykernel)",
   "language": "python",
   "name": "python3"
  },
  "language_info": {
   "codemirror_mode": {
    "name": "ipython",
    "version": 3
   },
   "file_extension": ".py",
   "mimetype": "text/x-python",
   "name": "python",
   "nbconvert_exporter": "python",
   "pygments_lexer": "ipython3",
   "version": "3.8.17"
  }
 },
 "nbformat": 4,
 "nbformat_minor": 5
}
