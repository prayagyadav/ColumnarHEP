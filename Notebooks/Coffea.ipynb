{
 "cells": [
  {
   "cell_type": "markdown",
   "id": "af51b223-44e5-4da7-bebe-3c2cde4045bd",
   "metadata": {},
   "source": [
    "# <h1>Coffea <h1>"
   ]
  },
  {
   "cell_type": "markdown",
   "id": "83f401df-2787-44a0-aa8b-218f234ee833",
   "metadata": {},
   "source": [
    "## Nanoevents"
   ]
  },
  {
   "cell_type": "code",
   "execution_count": 1,
   "id": "289d9b09-1cf9-49da-8acb-4fb9ea73dcdf",
   "metadata": {},
   "outputs": [],
   "source": [
    "import awkward as ak\n",
    "import numpy as np\n",
    "import hist \n",
    "from matplotlib.pyplot import plot as plt\n",
    "from coffea.nanoevents import NanoEventsFactory , NanoAODSchema\n",
    "file_name = \"./../Data/nano_dy.root\"\n",
    "events = NanoEventsFactory.from_root(file_name, schemaclass=NanoAODSchema.v6, metadata={\"Datasets\":\"DYJets\"},).events()"
   ]
  },
  {
   "cell_type": "code",
   "execution_count": 40,
   "id": "cf265b9e-d5b1-42d9-91b3-0820795576a0",
   "metadata": {},
   "outputs": [
    {
     "data": {
      "text/plain": [
       "['LHE',\n",
       " 'SoftActivityJetHT2',\n",
       " 'fixedGridRhoFastjetCentralCalo',\n",
       " 'SV',\n",
       " 'fixedGridRhoFastjetCentral',\n",
       " 'FsrPhoton',\n",
       " 'fixedGridRhoFastjetCentralChargedPileUp',\n",
       " 'GenJetAK8',\n",
       " 'luminosityBlock',\n",
       " 'PV',\n",
       " 'HTXS',\n",
       " 'Tau',\n",
       " 'Pileup',\n",
       " 'SoftActivityJetNjets2',\n",
       " 'GenMET',\n",
       " 'SoftActivityJet',\n",
       " 'genWeight',\n",
       " 'LHEPart',\n",
       " 'GenVisTau',\n",
       " 'IsoTrack',\n",
       " 'Flag',\n",
       " 'TrigObj',\n",
       " 'TkMET',\n",
       " 'GenJet',\n",
       " 'FatJet',\n",
       " 'HLT',\n",
       " 'LHEScaleWeight',\n",
       " 'L1Reco',\n",
       " 'GenDressedLepton',\n",
       " 'fixedGridRhoFastjetAll',\n",
       " 'PSWeight',\n",
       " 'SubJet',\n",
       " 'Electron',\n",
       " 'btagWeight',\n",
       " 'LHEReweightingWeight',\n",
       " 'Photon',\n",
       " 'CaloMET',\n",
       " 'SoftActivityJetHT10',\n",
       " 'HLTriggerFirstPath',\n",
       " 'MET',\n",
       " 'run',\n",
       " 'SoftActivityJetNjets10',\n",
       " 'L1',\n",
       " 'Muon',\n",
       " 'Jet',\n",
       " 'CorrT1METJet',\n",
       " 'LHEWeight',\n",
       " 'event',\n",
       " 'LHEPdfWeight',\n",
       " 'L1simulation',\n",
       " 'HLTriggerFinalPath',\n",
       " 'SoftActivityJetNjets5',\n",
       " 'GenPart',\n",
       " 'genTtbarId',\n",
       " 'RawMET',\n",
       " 'fixedGridRhoFastjetCentralNeutral',\n",
       " 'ChsMET',\n",
       " 'SoftActivityJetHT',\n",
       " 'SubGenJetAK8',\n",
       " 'SoftActivityJetHT5',\n",
       " 'OtherPV',\n",
       " 'PuppiMET',\n",
       " 'Generator']"
      ]
     },
     "execution_count": 40,
     "metadata": {},
     "output_type": "execute_result"
    }
   ],
   "source": [
    "events.fields"
   ]
  },
  {
   "cell_type": "code",
   "execution_count": 51,
   "id": "79250098-e327-41cc-a29f-b4f40e8c9063",
   "metadata": {},
   "outputs": [
    {
     "data": {
      "text/plain": [
       "['binvar', 'scalePDF', 'weight', 'x1', 'x2', 'xpdf1', 'xpdf2', 'id1', 'id2']"
      ]
     },
     "execution_count": 51,
     "metadata": {},
     "output_type": "execute_result"
    }
   ],
   "source": [
    "events[\"Generator\"].fields"
   ]
  },
  {
   "cell_type": "code",
   "execution_count": 52,
   "id": "fecb8b5f-16a4-4ddf-a2e1-df33ab810ce0",
   "metadata": {},
   "outputs": [
    {
     "data": {
      "text/plain": [
       "['binvar', 'scalePDF', 'weight', 'x1', 'x2', 'xpdf1', 'xpdf2', 'id1', 'id2']"
      ]
     },
     "execution_count": 52,
     "metadata": {},
     "output_type": "execute_result"
    }
   ],
   "source": [
    "events.Generator.fields"
   ]
  },
  {
   "cell_type": "code",
   "execution_count": 53,
   "id": "d5af46bc-1984-45d3-8c05-2a0479447e1c",
   "metadata": {},
   "outputs": [
    {
     "data": {
      "text/plain": [
       "<Array [95.4, 54.4, 74.8, ... 89.4, 33.9, 92.2] type='40 * float32[parameters={\"...'>"
      ]
     },
     "execution_count": 53,
     "metadata": {},
     "output_type": "execute_result"
    }
   ],
   "source": [
    "events.Generator.scalePDF"
   ]
  },
  {
   "cell_type": "code",
   "execution_count": 58,
   "id": "d15f18f1-9024-46b2-9a62-9ecbfcd7103d",
   "metadata": {},
   "outputs": [
    {
     "data": {
      "text/html": [
       "<html>\n",
       "<div style=\"display:flex; align-items:center;\">\n",
       "<div style=\"width:290px;\">\n",
       "<svg xmlns=\"http://www.w3.org/2000/svg\" viewBox=\"-10 -105 270 120\">\n",
       "<line x1=\"-5\" y1=\"0\" x2=\"255\" y2=\"0\" style=\"fill:none;stroke-width:2;stroke:currentColor\"/>\n",
       "<text text-anchor=\"middle\" x=\"0\" y=\"15\" style=\"fill:currentColor;\">\n",
       "0\n",
       "</text>\n",
       "<text text-anchor=\"middle\" x=\"250\" y=\"15\" style=\"fill:currentColor;\">\n",
       "100\n",
       "</text>\n",
       "<text text-anchor=\"middle\" x=\"125.0\" y=\"15\" style=\"fill:currentColor;\">\n",
       "Axis 0\n",
       "</text>\n",
       "<polyline points=\"  0,0   0,-0  25,-0  25,-10  50,-10  50,-20  75,-20  75,-70 100,-70 100,-60 125,-60 125,-100 150,-100 150,-30 175,-30 175,-40 200,-40 200,-20 225,-20 225,-50 250,-50 250,0\" style=\"fill:none; stroke:currentColor;\"/>\n",
       "</svg>\n",
       "</div>\n",
       "<div style=\"flex=grow:1;\">\n",
       "Regular(10, 0, 100, label='Axis 0')<br/>\n",
       "<hr style=\"margin-top:.2em; margin-bottom:.2em;\"/>\n",
       "Double() Σ=40.0\n",
       "\n",
       "</div>\n",
       "</div>\n",
       "</html>"
      ],
      "text/plain": [
       "Hist(Regular(10, 0, 100, label='Axis 0'), storage=Double()) # Sum: 40.0"
      ]
     },
     "execution_count": 58,
     "metadata": {},
     "output_type": "execute_result"
    }
   ],
   "source": [
    "h = hist.Hist.new.Reg(10,0,100).Double()\n",
    "h.fill(events.Generator.scalePDF.to_numpy())\n",
    "h"
   ]
  },
  {
   "cell_type": "code",
   "execution_count": null,
   "id": "5be7a1f8-41c4-43c8-a9f4-e9180e850515",
   "metadata": {},
   "outputs": [],
   "source": []
  }
 ],
 "metadata": {
  "kernelspec": {
   "display_name": "Python 3 (ipykernel)",
   "language": "python",
   "name": "python3"
  },
  "language_info": {
   "codemirror_mode": {
    "name": "ipython",
    "version": 3
   },
   "file_extension": ".py",
   "mimetype": "text/x-python",
   "name": "python",
   "nbconvert_exporter": "python",
   "pygments_lexer": "ipython3",
   "version": "3.10.12"
  }
 },
 "nbformat": 4,
 "nbformat_minor": 5
}
