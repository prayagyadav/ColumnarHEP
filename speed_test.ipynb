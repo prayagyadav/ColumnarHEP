{
 "cells": [
  {
   "cell_type": "code",
   "execution_count": 1,
   "id": "b6463514-7e8e-47d6-a8e5-424dd5fcafda",
   "metadata": {},
   "outputs": [],
   "source": [
    "import numpy as np"
   ]
  },
  {
   "cell_type": "code",
   "execution_count": 16,
   "id": "01c2ec70-88e6-4bc6-9d21-64b4f0d9ac5c",
   "metadata": {},
   "outputs": [
    {
     "name": "stdout",
     "output_type": "stream",
     "text": [
      "403 µs ± 60.7 µs per loop (mean ± std. dev. of 7 runs, 1,000 loops each)\n"
     ]
    }
   ],
   "source": [
    "%%timeit\n",
    "L =[]\n",
    "for i in range(10000):\n",
    "    L.append(i)"
   ]
  },
  {
   "cell_type": "code",
   "execution_count": 18,
   "id": "6a62d9e6-4e5f-4091-aa8e-968eb8d862ec",
   "metadata": {},
   "outputs": [
    {
     "name": "stdout",
     "output_type": "stream",
     "text": [
      "3.67 µs ± 21.1 ns per loop (mean ± std. dev. of 7 runs, 100,000 loops each)\n"
     ]
    }
   ],
   "source": [
    "%%timeit\n",
    "Lnum = np.arange(10000)"
   ]
  },
  {
   "cell_type": "code",
   "execution_count": 22,
   "id": "f468023b-5c32-425d-a1f5-fc78ee9f2358",
   "metadata": {},
   "outputs": [
    {
     "name": "stdout",
     "output_type": "stream",
     "text": [
      "2.28 ms ± 22.5 µs per loop (mean ± std. dev. of 7 runs, 100 loops each)\n"
     ]
    }
   ],
   "source": [
    "%%timeit\n",
    "# to square every element of the list using only for loops\n",
    "L =[]\n",
    "for i in range(10000):\n",
    "    L.append(i**2)"
   ]
  },
  {
   "cell_type": "code",
   "execution_count": 23,
   "id": "7d384c15-d425-4197-97f7-99a0bb5fd1e2",
   "metadata": {},
   "outputs": [
    {
     "name": "stdout",
     "output_type": "stream",
     "text": [
      "1.98 ms ± 37.3 µs per loop (mean ± std. dev. of 7 runs, 100 loops each)\n"
     ]
    }
   ],
   "source": [
    "%%timeit\n",
    "[i**2 for i in range(10000)]"
   ]
  },
  {
   "cell_type": "code",
   "execution_count": 25,
   "id": "a725c0e8-dfcf-4392-93d1-267b494ee1d5",
   "metadata": {},
   "outputs": [
    {
     "name": "stdout",
     "output_type": "stream",
     "text": [
      "6.3 µs ± 114 ns per loop (mean ± std. dev. of 7 runs, 100,000 loops each)\n"
     ]
    }
   ],
   "source": [
    "%%timeit\n",
    "l = np.arange(10000)\n",
    "l2 = l**2"
   ]
  },
  {
   "cell_type": "code",
   "execution_count": 1,
   "id": "023cd162-3a13-4a5d-b1a4-2b3acb7c16ee",
   "metadata": {},
   "outputs": [],
   "source": [
    "import random\n",
    "import math\n",
    "\n",
    "px = [random.gauss(0, 10) for i in range(100000)]\n",
    "py = [random.gauss(0, 10) for i in range(100000)]"
   ]
  },
  {
   "cell_type": "code",
   "execution_count": 2,
   "id": "91a1632d-4118-40a9-bc01-7b91de92094a",
   "metadata": {},
   "outputs": [
    {
     "name": "stdout",
     "output_type": "stream",
     "text": [
      "23.1 ms ± 1.31 ms per loop (mean ± std. dev. of 7 runs, 10 loops each)\n"
     ]
    }
   ],
   "source": [
    "%%timeit\n",
    "\n",
    "pt = []\n",
    "for px_i, py_i in zip(px, py):\n",
    "    pt.append(math.sqrt(px_i**2 + py_i**2))"
   ]
  },
  {
   "cell_type": "code",
   "execution_count": 3,
   "id": "9b3403b8-9ef8-4ea5-8aca-b38e6397b843",
   "metadata": {},
   "outputs": [
    {
     "data": {
      "text/plain": [
       "(array([-5.32934667, 18.72374772,  6.96034087, ..., -6.88514995,\n",
       "        11.72751268, -5.08110035]),\n",
       " array([-5.78379212,  3.70989121, -2.01736772, ..., -0.79598757,\n",
       "         8.70246878,  4.30970604]))"
      ]
     },
     "execution_count": 3,
     "metadata": {},
     "output_type": "execute_result"
    }
   ],
   "source": [
    "import numpy as np\n",
    "\n",
    "px = np.array(px)\n",
    "py = np.array(py)\n",
    "px, py"
   ]
  },
  {
   "cell_type": "code",
   "execution_count": 4,
   "id": "579b38dd-bd07-493f-81da-0ac19d0d5838",
   "metadata": {},
   "outputs": [
    {
     "name": "stdout",
     "output_type": "stream",
     "text": [
      "197 µs ± 3.27 µs per loop (mean ± std. dev. of 7 runs, 1,000 loops each)\n"
     ]
    }
   ],
   "source": [
    "%%timeit\n",
    "\n",
    "pt = np.sqrt(px**2 + py**2)"
   ]
  },
  {
   "cell_type": "code",
   "execution_count": 5,
   "id": "5695a73d-2cbe-479c-b932-d9e97acdd383",
   "metadata": {},
   "outputs": [
    {
     "name": "stdout",
     "output_type": "stream",
     "text": [
      "Welcome to JupyROOT 6.28/04\n"
     ]
    }
   ],
   "source": [
    "import ROOT"
   ]
  },
  {
   "cell_type": "code",
   "execution_count": 6,
   "id": "afeb29a2-2fac-4743-b47f-4555309d3ad6",
   "metadata": {},
   "outputs": [
    {
     "data": {
      "text/plain": [
       "True"
      ]
     },
     "execution_count": 6,
     "metadata": {},
     "output_type": "execute_result"
    }
   ],
   "source": [
    "ROOT.gInterpreter.Declare('''\n",
    "void compute_pt(int32_t N, double* px, double* py, double* pt) {\n",
    "    for (int32_t i = 0; i < N; i++) {\n",
    "        pt[i] = sqrt(px[i]*px[i] + py[i]* py[i]);\n",
    "    }\n",
    "}\n",
    "''')"
   ]
  },
  {
   "cell_type": "code",
   "execution_count": 7,
   "id": "1ac883f1-6cc1-440c-bf6a-3f7a8ae8201e",
   "metadata": {},
   "outputs": [
    {
     "data": {
      "text/plain": [
       "array([ 7.8647433 , 19.08774533,  7.24680051, ...,  6.93100902,\n",
       "       14.60368161,  6.66266816])"
      ]
     },
     "execution_count": 7,
     "metadata": {},
     "output_type": "execute_result"
    }
   ],
   "source": [
    "pt = np.empty_like(px)\n",
    "ROOT.compute_pt(len(px), px, py, pt)\n",
    "pt"
   ]
  },
  {
   "cell_type": "code",
   "execution_count": 8,
   "id": "bc6e3fac-7ca2-4d92-8738-f754b74ee035",
   "metadata": {},
   "outputs": [
    {
     "name": "stdout",
     "output_type": "stream",
     "text": [
      "209 µs ± 5.39 µs per loop (mean ± std. dev. of 7 runs, 1,000 loops each)\n"
     ]
    }
   ],
   "source": [
    "%%timeit\n",
    "\n",
    "ROOT.compute_pt(len(px), px, py, pt)"
   ]
  },
  {
   "cell_type": "code",
   "execution_count": 13,
   "id": "9482f5c6-f4ee-45dd-a0aa-619355df0504",
   "metadata": {},
   "outputs": [],
   "source": [
    "import numba as nb\n",
    "\n",
    "@nb.jit(nopython=True)\n",
    "def compute_pt(px, py):\n",
    "    pt = np.empty_like(px)\n",
    "    for i, (px_i, py_i) in enumerate(zip(px, py)):\n",
    "        pt[i] = np.sqrt(px_i**2 + py_i**2)\n",
    "    return pt"
   ]
  },
  {
   "cell_type": "code",
   "execution_count": 14,
   "id": "45bdd501-1f84-407e-b788-cfd6ffa7a35e",
   "metadata": {},
   "outputs": [
    {
     "data": {
      "text/plain": [
       "array([ 7.8647433 , 19.08774533,  7.24680051, ...,  6.93100902,\n",
       "       14.60368161,  6.66266816])"
      ]
     },
     "execution_count": 14,
     "metadata": {},
     "output_type": "execute_result"
    }
   ],
   "source": [
    "compute_pt(px, py)"
   ]
  },
  {
   "cell_type": "code",
   "execution_count": 15,
   "id": "c281fd7a-660d-4ee0-8ece-c0b8c8c283da",
   "metadata": {},
   "outputs": [
    {
     "name": "stdout",
     "output_type": "stream",
     "text": [
      "163 µs ± 1.09 µs per loop (mean ± std. dev. of 7 runs, 10,000 loops each)\n"
     ]
    }
   ],
   "source": [
    "%%timeit\n",
    "\n",
    "compute_pt(px, py)"
   ]
  },
  {
   "cell_type": "code",
   "execution_count": null,
   "id": "e1d49118-69f7-4695-a622-1e06e5a5ca8c",
   "metadata": {},
   "outputs": [],
   "source": []
  }
 ],
 "metadata": {
  "kernelspec": {
   "display_name": "Python 3 (ipykernel)",
   "language": "python",
   "name": "python3"
  },
  "language_info": {
   "codemirror_mode": {
    "name": "ipython",
    "version": 3
   },
   "file_extension": ".py",
   "mimetype": "text/x-python",
   "name": "python",
   "nbconvert_exporter": "python",
   "pygments_lexer": "ipython3",
   "version": "3.10.6"
  }
 },
 "nbformat": 4,
 "nbformat_minor": 5
}
